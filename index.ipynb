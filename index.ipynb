{
 "cells": [
  {
   "cell_type": "markdown",
   "metadata": {},
   "source": [
    "## Imports"
   ]
  },
  {
   "cell_type": "code",
   "execution_count": 733,
   "metadata": {},
   "outputs": [],
   "source": [
    "import pandas as pd\n",
    "import numpy as np\n",
    "import matplotlib.pyplot as plt\n",
    "import seaborn as sns\n",
    "from sklearn.model_selection import train_test_split\n",
    "from sklearn.preprocessing import OneHotEncoder\n",
    "from sklearn.preprocessing import LabelEncoder\n",
    "from sklearn.preprocessing import MinMaxScaler\n",
    "from sklearn.linear_model import LogisticRegression\n",
    "\n",
    "from sklearn.metrics import ConfusionMatrixDisplay\n",
    "from sklearn.tree import DecisionTreeClassifier\n",
    "from sklearn.model_selection import cross_val_score\n",
    "from sklearn.metrics import accuracy_score, recall_score, precision_score, f1_score\n",
    "from imblearn.over_sampling import SMOTE\n",
    "from sklearn.metrics import roc_auc_score\n",
    "from sklearn.metrics import roc_auc_score, roc_curve, auc\n"
   ]
  },
  {
   "cell_type": "markdown",
   "metadata": {},
   "source": [
    "## Data Loading"
   ]
  },
  {
   "cell_type": "code",
   "execution_count": 604,
   "metadata": {},
   "outputs": [],
   "source": [
    "df_features= pd.read_csv('data/train_features.csv')\n",
    "df_labels= pd.read_csv('data/train_labels.csv')\n",
    "df_test= pd.read_csv('data/test_values.csv')\n",
    "df_submit = pd.read_csv('data/SubmissionFormat.csv')"
   ]
  },
  {
   "cell_type": "markdown",
   "metadata": {},
   "source": [
    "## EDA And Data Cleaning"
   ]
  },
  {
   "cell_type": "markdown",
   "metadata": {},
   "source": [
    "Comparing the length of the target and the feature dataframes, if they are the same length as expected, The 2 data frames shall be concatenated so as to clean the data effectively."
   ]
  },
  {
   "cell_type": "code",
   "execution_count": 605,
   "metadata": {},
   "outputs": [
    {
     "data": {
      "text/plain": [
       "True"
      ]
     },
     "execution_count": 605,
     "metadata": {},
     "output_type": "execute_result"
    }
   ],
   "source": [
    "len(df_features) == len(df_labels)"
   ]
  },
  {
   "cell_type": "code",
   "execution_count": 606,
   "metadata": {},
   "outputs": [
    {
     "data": {
      "text/html": [
       "<div>\n",
       "<style scoped>\n",
       "    .dataframe tbody tr th:only-of-type {\n",
       "        vertical-align: middle;\n",
       "    }\n",
       "\n",
       "    .dataframe tbody tr th {\n",
       "        vertical-align: top;\n",
       "    }\n",
       "\n",
       "    .dataframe thead th {\n",
       "        text-align: right;\n",
       "    }\n",
       "</style>\n",
       "<table border=\"1\" class=\"dataframe\">\n",
       "  <thead>\n",
       "    <tr style=\"text-align: right;\">\n",
       "      <th></th>\n",
       "      <th>id</th>\n",
       "      <th>amount_tsh</th>\n",
       "      <th>date_recorded</th>\n",
       "      <th>funder</th>\n",
       "      <th>gps_height</th>\n",
       "      <th>installer</th>\n",
       "      <th>longitude</th>\n",
       "      <th>latitude</th>\n",
       "      <th>wpt_name</th>\n",
       "      <th>num_private</th>\n",
       "      <th>...</th>\n",
       "      <th>water_quality</th>\n",
       "      <th>quality_group</th>\n",
       "      <th>quantity</th>\n",
       "      <th>quantity_group</th>\n",
       "      <th>source</th>\n",
       "      <th>source_type</th>\n",
       "      <th>source_class</th>\n",
       "      <th>waterpoint_type</th>\n",
       "      <th>waterpoint_type_group</th>\n",
       "      <th>status_group</th>\n",
       "    </tr>\n",
       "  </thead>\n",
       "  <tbody>\n",
       "    <tr>\n",
       "      <th>0</th>\n",
       "      <td>69572</td>\n",
       "      <td>6000.0</td>\n",
       "      <td>2011-03-14</td>\n",
       "      <td>Roman</td>\n",
       "      <td>1390</td>\n",
       "      <td>Roman</td>\n",
       "      <td>34.938093</td>\n",
       "      <td>-9.856322</td>\n",
       "      <td>none</td>\n",
       "      <td>0</td>\n",
       "      <td>...</td>\n",
       "      <td>soft</td>\n",
       "      <td>good</td>\n",
       "      <td>enough</td>\n",
       "      <td>enough</td>\n",
       "      <td>spring</td>\n",
       "      <td>spring</td>\n",
       "      <td>groundwater</td>\n",
       "      <td>communal standpipe</td>\n",
       "      <td>communal standpipe</td>\n",
       "      <td>functional</td>\n",
       "    </tr>\n",
       "    <tr>\n",
       "      <th>1</th>\n",
       "      <td>8776</td>\n",
       "      <td>0.0</td>\n",
       "      <td>2013-03-06</td>\n",
       "      <td>Grumeti</td>\n",
       "      <td>1399</td>\n",
       "      <td>GRUMETI</td>\n",
       "      <td>34.698766</td>\n",
       "      <td>-2.147466</td>\n",
       "      <td>Zahanati</td>\n",
       "      <td>0</td>\n",
       "      <td>...</td>\n",
       "      <td>soft</td>\n",
       "      <td>good</td>\n",
       "      <td>insufficient</td>\n",
       "      <td>insufficient</td>\n",
       "      <td>rainwater harvesting</td>\n",
       "      <td>rainwater harvesting</td>\n",
       "      <td>surface</td>\n",
       "      <td>communal standpipe</td>\n",
       "      <td>communal standpipe</td>\n",
       "      <td>functional</td>\n",
       "    </tr>\n",
       "    <tr>\n",
       "      <th>2</th>\n",
       "      <td>34310</td>\n",
       "      <td>25.0</td>\n",
       "      <td>2013-02-25</td>\n",
       "      <td>Lottery Club</td>\n",
       "      <td>686</td>\n",
       "      <td>World vision</td>\n",
       "      <td>37.460664</td>\n",
       "      <td>-3.821329</td>\n",
       "      <td>Kwa Mahundi</td>\n",
       "      <td>0</td>\n",
       "      <td>...</td>\n",
       "      <td>soft</td>\n",
       "      <td>good</td>\n",
       "      <td>enough</td>\n",
       "      <td>enough</td>\n",
       "      <td>dam</td>\n",
       "      <td>dam</td>\n",
       "      <td>surface</td>\n",
       "      <td>communal standpipe multiple</td>\n",
       "      <td>communal standpipe</td>\n",
       "      <td>functional</td>\n",
       "    </tr>\n",
       "    <tr>\n",
       "      <th>3</th>\n",
       "      <td>67743</td>\n",
       "      <td>0.0</td>\n",
       "      <td>2013-01-28</td>\n",
       "      <td>Unicef</td>\n",
       "      <td>263</td>\n",
       "      <td>UNICEF</td>\n",
       "      <td>38.486161</td>\n",
       "      <td>-11.155298</td>\n",
       "      <td>Zahanati Ya Nanyumbu</td>\n",
       "      <td>0</td>\n",
       "      <td>...</td>\n",
       "      <td>soft</td>\n",
       "      <td>good</td>\n",
       "      <td>dry</td>\n",
       "      <td>dry</td>\n",
       "      <td>machine dbh</td>\n",
       "      <td>borehole</td>\n",
       "      <td>groundwater</td>\n",
       "      <td>communal standpipe multiple</td>\n",
       "      <td>communal standpipe</td>\n",
       "      <td>non functional</td>\n",
       "    </tr>\n",
       "    <tr>\n",
       "      <th>4</th>\n",
       "      <td>19728</td>\n",
       "      <td>0.0</td>\n",
       "      <td>2011-07-13</td>\n",
       "      <td>Action In A</td>\n",
       "      <td>0</td>\n",
       "      <td>Artisan</td>\n",
       "      <td>31.130847</td>\n",
       "      <td>-1.825359</td>\n",
       "      <td>Shuleni</td>\n",
       "      <td>0</td>\n",
       "      <td>...</td>\n",
       "      <td>soft</td>\n",
       "      <td>good</td>\n",
       "      <td>seasonal</td>\n",
       "      <td>seasonal</td>\n",
       "      <td>rainwater harvesting</td>\n",
       "      <td>rainwater harvesting</td>\n",
       "      <td>surface</td>\n",
       "      <td>communal standpipe</td>\n",
       "      <td>communal standpipe</td>\n",
       "      <td>functional</td>\n",
       "    </tr>\n",
       "  </tbody>\n",
       "</table>\n",
       "<p>5 rows × 41 columns</p>\n",
       "</div>"
      ],
      "text/plain": [
       "      id  amount_tsh date_recorded        funder  gps_height     installer  \\\n",
       "0  69572      6000.0    2011-03-14         Roman        1390         Roman   \n",
       "1   8776         0.0    2013-03-06       Grumeti        1399       GRUMETI   \n",
       "2  34310        25.0    2013-02-25  Lottery Club         686  World vision   \n",
       "3  67743         0.0    2013-01-28        Unicef         263        UNICEF   \n",
       "4  19728         0.0    2011-07-13   Action In A           0       Artisan   \n",
       "\n",
       "   longitude   latitude              wpt_name  num_private  ... water_quality  \\\n",
       "0  34.938093  -9.856322                  none            0  ...          soft   \n",
       "1  34.698766  -2.147466              Zahanati            0  ...          soft   \n",
       "2  37.460664  -3.821329           Kwa Mahundi            0  ...          soft   \n",
       "3  38.486161 -11.155298  Zahanati Ya Nanyumbu            0  ...          soft   \n",
       "4  31.130847  -1.825359               Shuleni            0  ...          soft   \n",
       "\n",
       "  quality_group      quantity  quantity_group                source  \\\n",
       "0          good        enough          enough                spring   \n",
       "1          good  insufficient    insufficient  rainwater harvesting   \n",
       "2          good        enough          enough                   dam   \n",
       "3          good           dry             dry           machine dbh   \n",
       "4          good      seasonal        seasonal  rainwater harvesting   \n",
       "\n",
       "            source_type source_class              waterpoint_type  \\\n",
       "0                spring  groundwater           communal standpipe   \n",
       "1  rainwater harvesting      surface           communal standpipe   \n",
       "2                   dam      surface  communal standpipe multiple   \n",
       "3              borehole  groundwater  communal standpipe multiple   \n",
       "4  rainwater harvesting      surface           communal standpipe   \n",
       "\n",
       "  waterpoint_type_group    status_group  \n",
       "0    communal standpipe      functional  \n",
       "1    communal standpipe      functional  \n",
       "2    communal standpipe      functional  \n",
       "3    communal standpipe  non functional  \n",
       "4    communal standpipe      functional  \n",
       "\n",
       "[5 rows x 41 columns]"
      ]
     },
     "execution_count": 606,
     "metadata": {},
     "output_type": "execute_result"
    }
   ],
   "source": [
    "# concatenating the dataframes\n",
    "df = pd.merge(df_features, df_labels, on='id')\n",
    "df.head()"
   ]
  },
  {
   "cell_type": "code",
   "execution_count": 607,
   "metadata": {},
   "outputs": [
    {
     "data": {
      "text/plain": [
       "functional                 32259\n",
       "non functional             22824\n",
       "functional needs repair     4317\n",
       "Name: status_group, dtype: int64"
      ]
     },
     "execution_count": 607,
     "metadata": {},
     "output_type": "execute_result"
    }
   ],
   "source": [
    "#inspecting the target variables\n",
    "df['status_group'].value_counts()"
   ]
  },
  {
   "cell_type": "markdown",
   "metadata": {},
   "source": [
    "This is ternary classification problem since the target has 3 possible values"
   ]
  },
  {
   "cell_type": "markdown",
   "metadata": {},
   "source": [
    "## Exploring the data (EDA)\n"
   ]
  },
  {
   "cell_type": "markdown",
   "metadata": {},
   "source": [
    "df_features.columns"
   ]
  },
  {
   "cell_type": "code",
   "execution_count": 608,
   "metadata": {},
   "outputs": [
    {
     "data": {
      "text/plain": [
       "Index(['id', 'amount_tsh', 'date_recorded', 'funder', 'gps_height',\n",
       "       'installer', 'longitude', 'latitude', 'wpt_name', 'num_private',\n",
       "       'basin', 'subvillage', 'region', 'region_code', 'district_code', 'lga',\n",
       "       'ward', 'population', 'public_meeting', 'recorded_by',\n",
       "       'scheme_management', 'scheme_name', 'permit', 'construction_year',\n",
       "       'extraction_type', 'extraction_type_group', 'extraction_type_class',\n",
       "       'management', 'management_group', 'payment', 'payment_type',\n",
       "       'water_quality', 'quality_group', 'quantity', 'quantity_group',\n",
       "       'source', 'source_type', 'source_class', 'waterpoint_type',\n",
       "       'waterpoint_type_group'],\n",
       "      dtype='object')"
      ]
     },
     "execution_count": 608,
     "metadata": {},
     "output_type": "execute_result"
    }
   ],
   "source": [
    "df_features.columns"
   ]
  },
  {
   "cell_type": "markdown",
   "metadata": {},
   "source": [
    "### The Features in This Dataset\n",
    "\n",
    "The following set of information about the waterpoints is provided:\n",
    "\n",
    "- **amount_tsh**: Total static head (amount of water available to the waterpoint)\n",
    "- **date_recorded**: The date the row was entered\n",
    "- **funder**: Who funded the well\n",
    "- **gps_height**: Altitude of the well\n",
    "- **installer**: Organization that installed the well\n",
    "- **longitude**: GPS coordinate\n",
    "- **latitude**: GPS coordinate\n",
    "- **wpt_name**: Name of the waterpoint, if there is one\n",
    "- **num_private**: _(Not specified)_\n",
    "- **basin**: Geographic water basin\n",
    "- **subvillage**: Geographic location\n",
    "- **region**: Geographic location\n",
    "- **region_code**: Geographic location (coded)\n",
    "- **district_code**: Geographic location (coded)\n",
    "- **lga**: Geographic location\n",
    "- **ward**: Geographic location\n",
    "- **population**: Population around the well\n",
    "- **public_meeting**: True/False, indicating if a public meeting was held\n",
    "- **recorded_by**: Group entering this row of data\n",
    "- **scheme_management**: Who operates the waterpoint\n",
    "- **scheme_name**: The name of the management scheme\n",
    "- **permit**: Whether the waterpoint is permitted (True/False)\n",
    "- **construction_year**: Year the waterpoint was constructed\n",
    "- **extraction_type**: The kind of extraction method the waterpoint uses\n",
    "- **extraction_type_group**: The extraction type grouped by similar methods\n",
    "- **extraction_type_class**: The extraction type categorized into broader classes\n",
    "- **management**: How the waterpoint is managed\n",
    "- **management_group**: The management grouped into broader categories\n",
    "- **payment**: The cost structure of the water\n",
    "- **payment_type**: The specific type of payment method\n",
    "- **water_quality**: The quality of the water\n",
    "- **quality_group**: The quality grouped by similar qualities\n",
    "- **quantity**: The quantity of water\n",
    "- **quantity_group**: The quantity grouped by similar quantities\n",
    "- **source**: The source of the water\n",
    "- **source_type**: The type of water source\n",
    "- **source_class**: The broader class of the water source\n",
    "- **waterpoint_type**: The specific type of waterpoint\n",
    "- **waterpoint_type_group**: The type of waterpoint grouped by similar types\n"
   ]
  },
  {
   "cell_type": "markdown",
   "metadata": {},
   "source": []
  },
  {
   "cell_type": "code",
   "execution_count": 609,
   "metadata": {},
   "outputs": [
    {
     "data": {
      "text/html": [
       "<div>\n",
       "<style scoped>\n",
       "    .dataframe tbody tr th:only-of-type {\n",
       "        vertical-align: middle;\n",
       "    }\n",
       "\n",
       "    .dataframe tbody tr th {\n",
       "        vertical-align: top;\n",
       "    }\n",
       "\n",
       "    .dataframe thead th {\n",
       "        text-align: right;\n",
       "    }\n",
       "</style>\n",
       "<table border=\"1\" class=\"dataframe\">\n",
       "  <thead>\n",
       "    <tr style=\"text-align: right;\">\n",
       "      <th></th>\n",
       "      <th>id</th>\n",
       "      <th>amount_tsh</th>\n",
       "      <th>date_recorded</th>\n",
       "      <th>funder</th>\n",
       "      <th>gps_height</th>\n",
       "      <th>installer</th>\n",
       "      <th>longitude</th>\n",
       "      <th>latitude</th>\n",
       "      <th>wpt_name</th>\n",
       "      <th>num_private</th>\n",
       "      <th>...</th>\n",
       "      <th>water_quality</th>\n",
       "      <th>quality_group</th>\n",
       "      <th>quantity</th>\n",
       "      <th>quantity_group</th>\n",
       "      <th>source</th>\n",
       "      <th>source_type</th>\n",
       "      <th>source_class</th>\n",
       "      <th>waterpoint_type</th>\n",
       "      <th>waterpoint_type_group</th>\n",
       "      <th>status_group</th>\n",
       "    </tr>\n",
       "  </thead>\n",
       "  <tbody>\n",
       "    <tr>\n",
       "      <th>27534</th>\n",
       "      <td>34803</td>\n",
       "      <td>0.0</td>\n",
       "      <td>2011-04-17</td>\n",
       "      <td>Water</td>\n",
       "      <td>0</td>\n",
       "      <td>DWE</td>\n",
       "      <td>35.945073</td>\n",
       "      <td>-4.691700</td>\n",
       "      <td>Ilala</td>\n",
       "      <td>0</td>\n",
       "      <td>...</td>\n",
       "      <td>soft</td>\n",
       "      <td>good</td>\n",
       "      <td>insufficient</td>\n",
       "      <td>insufficient</td>\n",
       "      <td>spring</td>\n",
       "      <td>spring</td>\n",
       "      <td>groundwater</td>\n",
       "      <td>communal standpipe</td>\n",
       "      <td>communal standpipe</td>\n",
       "      <td>functional needs repair</td>\n",
       "    </tr>\n",
       "    <tr>\n",
       "      <th>47344</th>\n",
       "      <td>35512</td>\n",
       "      <td>200.0</td>\n",
       "      <td>2011-03-22</td>\n",
       "      <td>St</td>\n",
       "      <td>729</td>\n",
       "      <td>St</td>\n",
       "      <td>36.765183</td>\n",
       "      <td>-7.220429</td>\n",
       "      <td>Kwa Makanyaga</td>\n",
       "      <td>0</td>\n",
       "      <td>...</td>\n",
       "      <td>soft</td>\n",
       "      <td>good</td>\n",
       "      <td>enough</td>\n",
       "      <td>enough</td>\n",
       "      <td>river</td>\n",
       "      <td>river/lake</td>\n",
       "      <td>surface</td>\n",
       "      <td>communal standpipe</td>\n",
       "      <td>communal standpipe</td>\n",
       "      <td>functional</td>\n",
       "    </tr>\n",
       "    <tr>\n",
       "      <th>2493</th>\n",
       "      <td>66769</td>\n",
       "      <td>0.0</td>\n",
       "      <td>2011-07-30</td>\n",
       "      <td>Hifab</td>\n",
       "      <td>0</td>\n",
       "      <td>Hesawa</td>\n",
       "      <td>33.260306</td>\n",
       "      <td>-2.948464</td>\n",
       "      <td>Gwana</td>\n",
       "      <td>0</td>\n",
       "      <td>...</td>\n",
       "      <td>soft</td>\n",
       "      <td>good</td>\n",
       "      <td>enough</td>\n",
       "      <td>enough</td>\n",
       "      <td>shallow well</td>\n",
       "      <td>shallow well</td>\n",
       "      <td>groundwater</td>\n",
       "      <td>hand pump</td>\n",
       "      <td>hand pump</td>\n",
       "      <td>functional</td>\n",
       "    </tr>\n",
       "    <tr>\n",
       "      <th>8165</th>\n",
       "      <td>25992</td>\n",
       "      <td>0.0</td>\n",
       "      <td>2011-07-12</td>\n",
       "      <td>Concern World Wide</td>\n",
       "      <td>0</td>\n",
       "      <td>DWE</td>\n",
       "      <td>30.988978</td>\n",
       "      <td>-2.795116</td>\n",
       "      <td>Mangasini</td>\n",
       "      <td>0</td>\n",
       "      <td>...</td>\n",
       "      <td>soft</td>\n",
       "      <td>good</td>\n",
       "      <td>enough</td>\n",
       "      <td>enough</td>\n",
       "      <td>shallow well</td>\n",
       "      <td>shallow well</td>\n",
       "      <td>groundwater</td>\n",
       "      <td>hand pump</td>\n",
       "      <td>hand pump</td>\n",
       "      <td>functional</td>\n",
       "    </tr>\n",
       "    <tr>\n",
       "      <th>1288</th>\n",
       "      <td>40320</td>\n",
       "      <td>500.0</td>\n",
       "      <td>2011-02-27</td>\n",
       "      <td>Government Of Tanzania</td>\n",
       "      <td>1730</td>\n",
       "      <td>DWE</td>\n",
       "      <td>34.893854</td>\n",
       "      <td>-9.060795</td>\n",
       "      <td>J M Makweta Secondary Sch</td>\n",
       "      <td>0</td>\n",
       "      <td>...</td>\n",
       "      <td>soft</td>\n",
       "      <td>good</td>\n",
       "      <td>enough</td>\n",
       "      <td>enough</td>\n",
       "      <td>spring</td>\n",
       "      <td>spring</td>\n",
       "      <td>groundwater</td>\n",
       "      <td>communal standpipe</td>\n",
       "      <td>communal standpipe</td>\n",
       "      <td>functional</td>\n",
       "    </tr>\n",
       "    <tr>\n",
       "      <th>28534</th>\n",
       "      <td>28847</td>\n",
       "      <td>0.0</td>\n",
       "      <td>2013-02-22</td>\n",
       "      <td>Government Of Tanzania</td>\n",
       "      <td>1171</td>\n",
       "      <td>DWE</td>\n",
       "      <td>37.394010</td>\n",
       "      <td>-3.301297</td>\n",
       "      <td>Kwa Frank Kiwia</td>\n",
       "      <td>0</td>\n",
       "      <td>...</td>\n",
       "      <td>soft</td>\n",
       "      <td>good</td>\n",
       "      <td>enough</td>\n",
       "      <td>enough</td>\n",
       "      <td>spring</td>\n",
       "      <td>spring</td>\n",
       "      <td>groundwater</td>\n",
       "      <td>other</td>\n",
       "      <td>other</td>\n",
       "      <td>functional</td>\n",
       "    </tr>\n",
       "    <tr>\n",
       "      <th>21553</th>\n",
       "      <td>25884</td>\n",
       "      <td>50.0</td>\n",
       "      <td>2011-02-28</td>\n",
       "      <td>Dwe</td>\n",
       "      <td>22</td>\n",
       "      <td>DWE</td>\n",
       "      <td>38.275210</td>\n",
       "      <td>-7.778640</td>\n",
       "      <td>Mwaseni Secondary School 2</td>\n",
       "      <td>0</td>\n",
       "      <td>...</td>\n",
       "      <td>soft</td>\n",
       "      <td>good</td>\n",
       "      <td>enough</td>\n",
       "      <td>enough</td>\n",
       "      <td>machine dbh</td>\n",
       "      <td>borehole</td>\n",
       "      <td>groundwater</td>\n",
       "      <td>communal standpipe multiple</td>\n",
       "      <td>communal standpipe</td>\n",
       "      <td>functional</td>\n",
       "    </tr>\n",
       "    <tr>\n",
       "      <th>47064</th>\n",
       "      <td>38984</td>\n",
       "      <td>0.0</td>\n",
       "      <td>2012-11-03</td>\n",
       "      <td>Government Of Tanzania</td>\n",
       "      <td>0</td>\n",
       "      <td>Central government</td>\n",
       "      <td>32.975165</td>\n",
       "      <td>-4.917751</td>\n",
       "      <td>Zahanati</td>\n",
       "      <td>0</td>\n",
       "      <td>...</td>\n",
       "      <td>soft</td>\n",
       "      <td>good</td>\n",
       "      <td>insufficient</td>\n",
       "      <td>insufficient</td>\n",
       "      <td>machine dbh</td>\n",
       "      <td>borehole</td>\n",
       "      <td>groundwater</td>\n",
       "      <td>communal standpipe</td>\n",
       "      <td>communal standpipe</td>\n",
       "      <td>non functional</td>\n",
       "    </tr>\n",
       "    <tr>\n",
       "      <th>25033</th>\n",
       "      <td>16875</td>\n",
       "      <td>0.0</td>\n",
       "      <td>2013-01-25</td>\n",
       "      <td>Ministry Of Water</td>\n",
       "      <td>1281</td>\n",
       "      <td>Idara ya maji</td>\n",
       "      <td>34.966612</td>\n",
       "      <td>-5.518643</td>\n",
       "      <td>Kwa Mwalimu Mazengo</td>\n",
       "      <td>0</td>\n",
       "      <td>...</td>\n",
       "      <td>salty</td>\n",
       "      <td>salty</td>\n",
       "      <td>enough</td>\n",
       "      <td>enough</td>\n",
       "      <td>machine dbh</td>\n",
       "      <td>borehole</td>\n",
       "      <td>groundwater</td>\n",
       "      <td>communal standpipe multiple</td>\n",
       "      <td>communal standpipe</td>\n",
       "      <td>non functional</td>\n",
       "    </tr>\n",
       "    <tr>\n",
       "      <th>4234</th>\n",
       "      <td>69304</td>\n",
       "      <td>1000.0</td>\n",
       "      <td>2013-02-03</td>\n",
       "      <td>Tasaf</td>\n",
       "      <td>986</td>\n",
       "      <td>DWE</td>\n",
       "      <td>35.325425</td>\n",
       "      <td>-10.404609</td>\n",
       "      <td>Kwa Duntram</td>\n",
       "      <td>0</td>\n",
       "      <td>...</td>\n",
       "      <td>soft</td>\n",
       "      <td>good</td>\n",
       "      <td>enough</td>\n",
       "      <td>enough</td>\n",
       "      <td>shallow well</td>\n",
       "      <td>shallow well</td>\n",
       "      <td>groundwater</td>\n",
       "      <td>hand pump</td>\n",
       "      <td>hand pump</td>\n",
       "      <td>functional</td>\n",
       "    </tr>\n",
       "  </tbody>\n",
       "</table>\n",
       "<p>10 rows × 41 columns</p>\n",
       "</div>"
      ],
      "text/plain": [
       "          id  amount_tsh date_recorded                  funder  gps_height  \\\n",
       "27534  34803         0.0    2011-04-17                   Water           0   \n",
       "47344  35512       200.0    2011-03-22                      St         729   \n",
       "2493   66769         0.0    2011-07-30                   Hifab           0   \n",
       "8165   25992         0.0    2011-07-12      Concern World Wide           0   \n",
       "1288   40320       500.0    2011-02-27  Government Of Tanzania        1730   \n",
       "28534  28847         0.0    2013-02-22  Government Of Tanzania        1171   \n",
       "21553  25884        50.0    2011-02-28                     Dwe          22   \n",
       "47064  38984         0.0    2012-11-03  Government Of Tanzania           0   \n",
       "25033  16875         0.0    2013-01-25       Ministry Of Water        1281   \n",
       "4234   69304      1000.0    2013-02-03                   Tasaf         986   \n",
       "\n",
       "                installer  longitude   latitude                    wpt_name  \\\n",
       "27534                 DWE  35.945073  -4.691700                       Ilala   \n",
       "47344                  St  36.765183  -7.220429               Kwa Makanyaga   \n",
       "2493               Hesawa  33.260306  -2.948464                       Gwana   \n",
       "8165                  DWE  30.988978  -2.795116                   Mangasini   \n",
       "1288                  DWE  34.893854  -9.060795   J M Makweta Secondary Sch   \n",
       "28534                 DWE  37.394010  -3.301297             Kwa Frank Kiwia   \n",
       "21553                 DWE  38.275210  -7.778640  Mwaseni Secondary School 2   \n",
       "47064  Central government  32.975165  -4.917751                    Zahanati   \n",
       "25033       Idara ya maji  34.966612  -5.518643         Kwa Mwalimu Mazengo   \n",
       "4234                  DWE  35.325425 -10.404609                 Kwa Duntram   \n",
       "\n",
       "       num_private  ... water_quality quality_group      quantity  \\\n",
       "27534            0  ...          soft          good  insufficient   \n",
       "47344            0  ...          soft          good        enough   \n",
       "2493             0  ...          soft          good        enough   \n",
       "8165             0  ...          soft          good        enough   \n",
       "1288             0  ...          soft          good        enough   \n",
       "28534            0  ...          soft          good        enough   \n",
       "21553            0  ...          soft          good        enough   \n",
       "47064            0  ...          soft          good  insufficient   \n",
       "25033            0  ...         salty         salty        enough   \n",
       "4234             0  ...          soft          good        enough   \n",
       "\n",
       "       quantity_group        source   source_type source_class  \\\n",
       "27534    insufficient        spring        spring  groundwater   \n",
       "47344          enough         river    river/lake      surface   \n",
       "2493           enough  shallow well  shallow well  groundwater   \n",
       "8165           enough  shallow well  shallow well  groundwater   \n",
       "1288           enough        spring        spring  groundwater   \n",
       "28534          enough        spring        spring  groundwater   \n",
       "21553          enough   machine dbh      borehole  groundwater   \n",
       "47064    insufficient   machine dbh      borehole  groundwater   \n",
       "25033          enough   machine dbh      borehole  groundwater   \n",
       "4234           enough  shallow well  shallow well  groundwater   \n",
       "\n",
       "                   waterpoint_type waterpoint_type_group  \\\n",
       "27534           communal standpipe    communal standpipe   \n",
       "47344           communal standpipe    communal standpipe   \n",
       "2493                     hand pump             hand pump   \n",
       "8165                     hand pump             hand pump   \n",
       "1288            communal standpipe    communal standpipe   \n",
       "28534                        other                 other   \n",
       "21553  communal standpipe multiple    communal standpipe   \n",
       "47064           communal standpipe    communal standpipe   \n",
       "25033  communal standpipe multiple    communal standpipe   \n",
       "4234                     hand pump             hand pump   \n",
       "\n",
       "                  status_group  \n",
       "27534  functional needs repair  \n",
       "47344               functional  \n",
       "2493                functional  \n",
       "8165                functional  \n",
       "1288                functional  \n",
       "28534               functional  \n",
       "21553               functional  \n",
       "47064           non functional  \n",
       "25033           non functional  \n",
       "4234                functional  \n",
       "\n",
       "[10 rows x 41 columns]"
      ]
     },
     "execution_count": 609,
     "metadata": {},
     "output_type": "execute_result"
    }
   ],
   "source": [
    "df.sample(n=10)"
   ]
  },
  {
   "cell_type": "markdown",
   "metadata": {},
   "source": [
    "- On inspection, some columns e.g `quantity` and `quantity_group` seem to have identical information. Thus, we first verify if indeed this is the case"
   ]
  },
  {
   "cell_type": "code",
   "execution_count": 610,
   "metadata": {},
   "outputs": [
    {
     "name": "stdout",
     "output_type": "stream",
     "text": [
      "Columns are identical: True\n"
     ]
    }
   ],
   "source": [
    "# Check if columns are identical\n",
    "are_identical = (df['quantity'] == df['quantity_group']).all()\n",
    "\n",
    "print(\"Columns are identical:\", are_identical)"
   ]
  },
  {
   "cell_type": "markdown",
   "metadata": {},
   "source": [
    "### Column Inspection Comparison\n",
    "\n",
    "To streamline our dataset and remove redundancy, we will perform the following steps:\n",
    "\n",
    "1. **Identify Columns with Similar Names or Descriptions**  \n",
    "   We'll start by identifying columns that have similar names or descriptions. This helps us determine which columns might contain overlapping information.\n",
    "\n",
    "2. **Compare Column Content**  \n",
    "   For columns identified as similar, we will conduct further checks to compare their content. This involves:\n",
    "   - **Exact Equality Check**: Verifying if the values in the columns are identical for each row.\n",
    "   - **Handling Missing Values**: Ensuring that missing values are considered in the comparison.\n",
    "   \n",
    "3. **Trim Down the Dataset**  \n",
    "   Based on the comparison results, we will:\n",
    "   - **Remove Redundant Columns**: Eliminate columns that contain duplicate or redundant information.\n",
    "   - **Optimize the Dataset**: Reduce the dataset size and complexity by retaining only the necessary columns.\n",
    "\n",
    "By following these steps, we will improve the quality and efficiency of our dataset, ensuring that we work with clean and relevant data.\n"
   ]
  },
  {
   "cell_type": "code",
   "execution_count": 611,
   "metadata": {},
   "outputs": [],
   "source": [
    "# list to compile all redundant columns to remove on the test dataset as well\n",
    "redundant_cols = []"
   ]
  },
  {
   "cell_type": "code",
   "execution_count": 612,
   "metadata": {},
   "outputs": [
    {
     "data": {
      "text/plain": [
       "Index(['id', 'amount_tsh', 'date_recorded', 'funder', 'gps_height',\n",
       "       'installer', 'longitude', 'latitude', 'wpt_name', 'num_private',\n",
       "       'basin', 'subvillage', 'region', 'region_code', 'district_code', 'lga',\n",
       "       'ward', 'population', 'public_meeting', 'recorded_by',\n",
       "       'scheme_management', 'scheme_name', 'permit', 'construction_year',\n",
       "       'extraction_type', 'extraction_type_group', 'extraction_type_class',\n",
       "       'management', 'management_group', 'payment', 'payment_type',\n",
       "       'water_quality', 'quality_group', 'quantity', 'quantity_group',\n",
       "       'source', 'source_type', 'source_class', 'waterpoint_type',\n",
       "       'waterpoint_type_group', 'status_group'],\n",
       "      dtype='object')"
      ]
     },
     "execution_count": 612,
     "metadata": {},
     "output_type": "execute_result"
    }
   ],
   "source": [
    "df.columns"
   ]
  },
  {
   "cell_type": "code",
   "execution_count": 613,
   "metadata": {},
   "outputs": [
    {
     "data": {
      "text/html": [
       "<div>\n",
       "<style scoped>\n",
       "    .dataframe tbody tr th:only-of-type {\n",
       "        vertical-align: middle;\n",
       "    }\n",
       "\n",
       "    .dataframe tbody tr th {\n",
       "        vertical-align: top;\n",
       "    }\n",
       "\n",
       "    .dataframe thead th {\n",
       "        text-align: right;\n",
       "    }\n",
       "</style>\n",
       "<table border=\"1\" class=\"dataframe\">\n",
       "  <thead>\n",
       "    <tr style=\"text-align: right;\">\n",
       "      <th></th>\n",
       "      <th>subvillage</th>\n",
       "      <th>region</th>\n",
       "      <th>region_code</th>\n",
       "      <th>district_code</th>\n",
       "      <th>lga</th>\n",
       "      <th>ward</th>\n",
       "    </tr>\n",
       "  </thead>\n",
       "  <tbody>\n",
       "    <tr>\n",
       "      <th>0</th>\n",
       "      <td>Mnyusi B</td>\n",
       "      <td>Iringa</td>\n",
       "      <td>11</td>\n",
       "      <td>5</td>\n",
       "      <td>Ludewa</td>\n",
       "      <td>Mundindi</td>\n",
       "    </tr>\n",
       "    <tr>\n",
       "      <th>1</th>\n",
       "      <td>Nyamara</td>\n",
       "      <td>Mara</td>\n",
       "      <td>20</td>\n",
       "      <td>2</td>\n",
       "      <td>Serengeti</td>\n",
       "      <td>Natta</td>\n",
       "    </tr>\n",
       "    <tr>\n",
       "      <th>2</th>\n",
       "      <td>Majengo</td>\n",
       "      <td>Manyara</td>\n",
       "      <td>21</td>\n",
       "      <td>4</td>\n",
       "      <td>Simanjiro</td>\n",
       "      <td>Ngorika</td>\n",
       "    </tr>\n",
       "    <tr>\n",
       "      <th>3</th>\n",
       "      <td>Mahakamani</td>\n",
       "      <td>Mtwara</td>\n",
       "      <td>90</td>\n",
       "      <td>63</td>\n",
       "      <td>Nanyumbu</td>\n",
       "      <td>Nanyumbu</td>\n",
       "    </tr>\n",
       "    <tr>\n",
       "      <th>4</th>\n",
       "      <td>Kyanyamisa</td>\n",
       "      <td>Kagera</td>\n",
       "      <td>18</td>\n",
       "      <td>1</td>\n",
       "      <td>Karagwe</td>\n",
       "      <td>Nyakasimbi</td>\n",
       "    </tr>\n",
       "  </tbody>\n",
       "</table>\n",
       "</div>"
      ],
      "text/plain": [
       "   subvillage   region  region_code  district_code        lga        ward\n",
       "0    Mnyusi B   Iringa           11              5     Ludewa    Mundindi\n",
       "1     Nyamara     Mara           20              2  Serengeti       Natta\n",
       "2     Majengo  Manyara           21              4  Simanjiro     Ngorika\n",
       "3  Mahakamani   Mtwara           90             63   Nanyumbu    Nanyumbu\n",
       "4  Kyanyamisa   Kagera           18              1    Karagwe  Nyakasimbi"
      ]
     },
     "execution_count": 613,
     "metadata": {},
     "output_type": "execute_result"
    }
   ],
   "source": [
    "locations = ['subvillage','region','region_code','district_code','lga','ward']\n",
    "df[locations].head()"
   ]
  },
  {
   "cell_type": "code",
   "execution_count": 614,
   "metadata": {},
   "outputs": [
    {
     "data": {
      "text/plain": [
       "count    59400.000000\n",
       "mean        15.297003\n",
       "std         17.587406\n",
       "min          1.000000\n",
       "25%          5.000000\n",
       "50%         12.000000\n",
       "75%         17.000000\n",
       "max         99.000000\n",
       "Name: region_code, dtype: float64"
      ]
     },
     "execution_count": 614,
     "metadata": {},
     "output_type": "execute_result"
    }
   ],
   "source": [
    "df['region_code'].describe()"
   ]
  },
  {
   "cell_type": "markdown",
   "metadata": {},
   "source": []
  },
  {
   "cell_type": "code",
   "execution_count": 615,
   "metadata": {},
   "outputs": [
    {
     "name": "stdout",
     "output_type": "stream",
     "text": [
      "Column : subvillage, Unique values : 19288\n",
      "Column : region, Unique values : 21\n",
      "Column : region_code, Unique values : 27\n",
      "Column : district_code, Unique values : 20\n",
      "Column : lga, Unique values : 125\n",
      "Column : ward, Unique values : 2092\n"
     ]
    }
   ],
   "source": [
    "for element in locations:\n",
    "        print(f\"Column : {element}, Unique values : {len(df[element].unique())}\")"
   ]
  },
  {
   "cell_type": "markdown",
   "metadata": {},
   "source": [
    "## Column Selection for Logistic Regression and Decision Tree Models\n",
    "\n",
    "### 1. Categorical Variables\n",
    "\n",
    "- **Decision Trees**: Handle categorical variables well. You can use all categorical columns directly as decision trees can split on different categories without numerical encoding.\n",
    "  \n",
    "- **Logistic Regression**: Requires numerical input. Categorical variables need to be encoded into numerical formats, typically using one-hot encoding or label encoding.\n",
    "\n",
    "### 2. Column Selection\n",
    "\n",
    "- **`subvillage`**: 19,288 unique values\n",
    "  - **Note**: High cardinality may make this column challenging to encode and could lead to overfitting. Consider not using it directly.\n",
    "\n",
    "- **`region`**: 21 unique values\n",
    "  - **Note**: Moderate number of categories. Can be encoded using one-hot encoding or label encoding.\n",
    "\n",
    "- **`region_code`**: 27 unique values\n",
    "  - **Note**: Similar to `region`, this column has a manageable number of categories and can be used after encoding.\n",
    "\n",
    "- **`district_code`**: 20 unique values\n",
    "  - **Note**: Manageable number of categories. Suitable for encoding.\n",
    "\n",
    "- **`lga`**: 125 unique values\n",
    "  - **Note**: High number of unique values, which may be challenging for encoding and could lead to overfitting.\n",
    "\n",
    "- **`ward`**: 2,092 unique values\n",
    "  - **Note**: Very high cardinality, potentially problematic for encoding and may not provide much predictive value.\n",
    "\n",
    "### Recommendations\n",
    "\n",
    "- **Decision Trees**: You can use all columns directly. Decision trees handle categorical variables well and can manage high-cardinality features without extensive preprocessing.\n",
    "\n",
    "- **Logistic Regression**:\n",
    "  - **Use Columns with Fewer Unique Values**: Start with  `region_code`, `district_code`, and `lga` due to their more manageable number of unique values.\n",
    "  - **Consider Feature Reduction**: Avoid using `subvillage` and `ward` directly because of their high cardinality. Consider aggregating or grouping these columns to reduce the number of unique values.\n",
    "  - **One-Hot Encoding**: Apply one-hot encoding for categorical columns that have a manageable number of unique values.\n"
   ]
  },
  {
   "cell_type": "markdown",
   "metadata": {},
   "source": [
    "- All this seem to show information about geographical location. From inspection, `district_code` and `region_code` seem to be the most suitable since they are codes of locations and have relatively fewer classes (80 for `district_code`, 100 for `region_code`)"
   ]
  },
  {
   "cell_type": "code",
   "execution_count": 616,
   "metadata": {},
   "outputs": [
    {
     "data": {
      "text/plain": [
       "Index(['id', 'amount_tsh', 'date_recorded', 'funder', 'gps_height',\n",
       "       'installer', 'longitude', 'latitude', 'wpt_name', 'num_private',\n",
       "       'basin', 'region_code', 'district_code', 'lga', 'population',\n",
       "       'public_meeting', 'recorded_by', 'scheme_management', 'scheme_name',\n",
       "       'permit', 'construction_year', 'extraction_type',\n",
       "       'extraction_type_group', 'extraction_type_class', 'management',\n",
       "       'management_group', 'payment', 'payment_type', 'water_quality',\n",
       "       'quality_group', 'quantity', 'quantity_group', 'source', 'source_type',\n",
       "       'source_class', 'waterpoint_type', 'waterpoint_type_group',\n",
       "       'status_group'],\n",
       "      dtype='object')"
      ]
     },
     "execution_count": 616,
     "metadata": {},
     "output_type": "execute_result"
    }
   ],
   "source": [
    "df_concise = df.drop(['subvillage', 'ward','region'], axis = 1)\n",
    "df_concise.columns"
   ]
  },
  {
   "cell_type": "code",
   "execution_count": 617,
   "metadata": {},
   "outputs": [],
   "source": [
    "redundant_cols += ['subvillage','region','ward']"
   ]
  },
  {
   "cell_type": "markdown",
   "metadata": {},
   "source": [
    "## We create a function to display relevant info for other similar columns...\n"
   ]
  },
  {
   "cell_type": "code",
   "execution_count": 618,
   "metadata": {},
   "outputs": [],
   "source": [
    "def column_info(similar_cols):\n",
    "    for element in similar_cols:\n",
    "        print(f\"Column : {element}, Unique values : {len(df[element].unique())}\")\n",
    "    for element in range(len(similar_cols)):\n",
    "        print (f\"Column: {similar_cols[element]}\")\n",
    "        for row in df_concise[similar_cols[element]].unique():\n",
    "            print(row)\n",
    "        print('\\n')\n"
   ]
  },
  {
   "cell_type": "code",
   "execution_count": 619,
   "metadata": {},
   "outputs": [],
   "source": [
    "\n",
    "#df_concise = df.drop(['subvillage','region','ward'], axis = 1)\n"
   ]
  },
  {
   "cell_type": "code",
   "execution_count": null,
   "metadata": {},
   "outputs": [],
   "source": []
  },
  {
   "cell_type": "markdown",
   "metadata": {},
   "source": [
    "Next up...\n",
    "- **extraction_type**: The kind of extraction method the waterpoint uses\n",
    "- **extraction_type_group**: The extraction type grouped by similar methods\n",
    "- **extraction_type_class**: The extraction type categorized into broader classes"
   ]
  },
  {
   "cell_type": "code",
   "execution_count": 620,
   "metadata": {},
   "outputs": [
    {
     "name": "stdout",
     "output_type": "stream",
     "text": [
      "Column : extraction_type, Unique values : 18\n",
      "Column : extraction_type_group, Unique values : 13\n",
      "Column : extraction_type_class, Unique values : 7\n",
      "Column: extraction_type\n",
      "gravity\n",
      "submersible\n",
      "swn 80\n",
      "nira/tanira\n",
      "india mark ii\n",
      "other\n",
      "ksb\n",
      "mono\n",
      "windmill\n",
      "afridev\n",
      "other - rope pump\n",
      "india mark iii\n",
      "other - swn 81\n",
      "other - play pump\n",
      "cemo\n",
      "climax\n",
      "walimi\n",
      "other - mkulima/shinyanga\n",
      "\n",
      "\n",
      "Column: extraction_type_group\n",
      "gravity\n",
      "submersible\n",
      "swn 80\n",
      "nira/tanira\n",
      "india mark ii\n",
      "other\n",
      "mono\n",
      "wind-powered\n",
      "afridev\n",
      "rope pump\n",
      "india mark iii\n",
      "other handpump\n",
      "other motorpump\n",
      "\n",
      "\n",
      "Column: extraction_type_class\n",
      "gravity\n",
      "submersible\n",
      "handpump\n",
      "other\n",
      "motorpump\n",
      "wind-powered\n",
      "rope pump\n",
      "\n",
      "\n"
     ]
    }
   ],
   "source": [
    "extraction = ['extraction_type','extraction_type_group','extraction_type_class']\n",
    "column_info(extraction)"
   ]
  },
  {
   "cell_type": "markdown",
   "metadata": {},
   "source": [
    "# IMP\n",
    "- we settle on `extraction_type_class`\n"
   ]
  },
  {
   "cell_type": "code",
   "execution_count": 621,
   "metadata": {},
   "outputs": [],
   "source": [
    "df_concise = df_concise.drop(['extraction_type','extraction_type_group'], axis = 1)\n"
   ]
  },
  {
   "cell_type": "code",
   "execution_count": 622,
   "metadata": {},
   "outputs": [],
   "source": [
    "redundant_cols += ['extraction_type','extraction_type_group']"
   ]
  },
  {
   "cell_type": "markdown",
   "metadata": {},
   "source": [
    "Next up...\n",
    "- **management**: How the waterpoint is managed\n",
    "- **management_group**: The management grouped into broader categories"
   ]
  },
  {
   "cell_type": "code",
   "execution_count": 623,
   "metadata": {},
   "outputs": [
    {
     "name": "stdout",
     "output_type": "stream",
     "text": [
      "Column : management, Unique values : 12\n",
      "Column : management_group, Unique values : 5\n",
      "Column: management\n",
      "vwc\n",
      "wug\n",
      "other\n",
      "private operator\n",
      "water board\n",
      "wua\n",
      "company\n",
      "water authority\n",
      "parastatal\n",
      "unknown\n",
      "other - school\n",
      "trust\n",
      "\n",
      "\n",
      "Column: management_group\n",
      "user-group\n",
      "other\n",
      "commercial\n",
      "parastatal\n",
      "unknown\n",
      "\n",
      "\n"
     ]
    }
   ],
   "source": [
    "management = ['management','management_group']\n",
    "column_info(management)"
   ]
  },
  {
   "cell_type": "markdown",
   "metadata": {},
   "source": [
    "# IMP\n",
    "- we settle on `management_group`\n"
   ]
  },
  {
   "cell_type": "code",
   "execution_count": 624,
   "metadata": {},
   "outputs": [
    {
     "data": {
      "text/plain": [
       "Index(['id', 'amount_tsh', 'date_recorded', 'funder', 'gps_height',\n",
       "       'installer', 'longitude', 'latitude', 'wpt_name', 'num_private',\n",
       "       'basin', 'region_code', 'district_code', 'lga', 'population',\n",
       "       'public_meeting', 'recorded_by', 'scheme_management', 'scheme_name',\n",
       "       'permit', 'construction_year', 'extraction_type_class',\n",
       "       'management_group', 'payment', 'payment_type', 'water_quality',\n",
       "       'quality_group', 'quantity', 'quantity_group', 'source', 'source_type',\n",
       "       'source_class', 'waterpoint_type', 'waterpoint_type_group',\n",
       "       'status_group'],\n",
       "      dtype='object')"
      ]
     },
     "execution_count": 624,
     "metadata": {},
     "output_type": "execute_result"
    }
   ],
   "source": [
    "df_concise = df_concise.drop(['management'], axis = 1)\n",
    "df_concise.columns"
   ]
  },
  {
   "cell_type": "code",
   "execution_count": 625,
   "metadata": {},
   "outputs": [],
   "source": [
    "redundant_cols.append('management')"
   ]
  },
  {
   "cell_type": "markdown",
   "metadata": {},
   "source": [
    "Next up...\n",
    "- **payment**: The cost structure of the water\n",
    "- **payment_type**: The specific type of payment method"
   ]
  },
  {
   "cell_type": "code",
   "execution_count": 626,
   "metadata": {},
   "outputs": [
    {
     "name": "stdout",
     "output_type": "stream",
     "text": [
      "Column : payment, Unique values : 7\n",
      "Column : payment_type, Unique values : 7\n",
      "Column: payment\n",
      "pay annually\n",
      "never pay\n",
      "pay per bucket\n",
      "unknown\n",
      "pay when scheme fails\n",
      "other\n",
      "pay monthly\n",
      "\n",
      "\n",
      "Column: payment_type\n",
      "annually\n",
      "never pay\n",
      "per bucket\n",
      "unknown\n",
      "on failure\n",
      "other\n",
      "monthly\n",
      "\n",
      "\n"
     ]
    }
   ],
   "source": [
    "payment = ['payment', 'payment_type']\n",
    "column_info(payment)\n",
    "    "
   ]
  },
  {
   "cell_type": "markdown",
   "metadata": {},
   "source": [
    "# IMP\n",
    "- we settle on `payment_type`\n"
   ]
  },
  {
   "cell_type": "code",
   "execution_count": 627,
   "metadata": {},
   "outputs": [],
   "source": [
    "df_concise = df_concise.drop(['payment'], axis = 1)\n"
   ]
  },
  {
   "cell_type": "code",
   "execution_count": 628,
   "metadata": {},
   "outputs": [],
   "source": [
    "redundant_cols.append('payment')"
   ]
  },
  {
   "cell_type": "code",
   "execution_count": 629,
   "metadata": {},
   "outputs": [
    {
     "data": {
      "text/plain": [
       "Index(['id', 'amount_tsh', 'date_recorded', 'funder', 'gps_height',\n",
       "       'installer', 'longitude', 'latitude', 'wpt_name', 'num_private',\n",
       "       'basin', 'region_code', 'district_code', 'lga', 'population',\n",
       "       'public_meeting', 'recorded_by', 'scheme_management', 'scheme_name',\n",
       "       'permit', 'construction_year', 'extraction_type_class',\n",
       "       'management_group', 'payment_type', 'water_quality', 'quality_group',\n",
       "       'quantity', 'quantity_group', 'source', 'source_type', 'source_class',\n",
       "       'waterpoint_type', 'waterpoint_type_group', 'status_group'],\n",
       "      dtype='object')"
      ]
     },
     "execution_count": 629,
     "metadata": {},
     "output_type": "execute_result"
    }
   ],
   "source": [
    "df_concise.columns"
   ]
  },
  {
   "cell_type": "markdown",
   "metadata": {},
   "source": [
    "Next up...\n",
    "- **water_quality**: The quality of the water\n",
    "- **quality_group**: The quality grouped by similar qualities\n"
   ]
  },
  {
   "cell_type": "code",
   "execution_count": 630,
   "metadata": {},
   "outputs": [
    {
     "name": "stdout",
     "output_type": "stream",
     "text": [
      "Column : water_quality, Unique values : 8\n",
      "Column : quality_group, Unique values : 6\n",
      "Column: water_quality\n",
      "soft\n",
      "salty\n",
      "milky\n",
      "unknown\n",
      "fluoride\n",
      "coloured\n",
      "salty abandoned\n",
      "fluoride abandoned\n",
      "\n",
      "\n",
      "Column: quality_group\n",
      "good\n",
      "salty\n",
      "milky\n",
      "unknown\n",
      "fluoride\n",
      "colored\n",
      "\n",
      "\n"
     ]
    }
   ],
   "source": [
    "water_quality = ['water_quality','quality_group']\n",
    "column_info(water_quality)"
   ]
  },
  {
   "cell_type": "markdown",
   "metadata": {},
   "source": [
    "# IMP\n",
    "- we settle on `quality_group`\n"
   ]
  },
  {
   "cell_type": "code",
   "execution_count": 631,
   "metadata": {},
   "outputs": [
    {
     "data": {
      "text/plain": [
       "Index(['id', 'amount_tsh', 'date_recorded', 'funder', 'gps_height',\n",
       "       'installer', 'longitude', 'latitude', 'wpt_name', 'num_private',\n",
       "       'basin', 'region_code', 'district_code', 'lga', 'population',\n",
       "       'public_meeting', 'recorded_by', 'scheme_management', 'scheme_name',\n",
       "       'permit', 'construction_year', 'extraction_type_class',\n",
       "       'management_group', 'payment_type', 'quality_group', 'quantity',\n",
       "       'quantity_group', 'source', 'source_type', 'source_class',\n",
       "       'waterpoint_type', 'waterpoint_type_group', 'status_group'],\n",
       "      dtype='object')"
      ]
     },
     "execution_count": 631,
     "metadata": {},
     "output_type": "execute_result"
    }
   ],
   "source": [
    "df_concise = df_concise.drop(['water_quality'], axis = 1)\n",
    "df_concise.columns"
   ]
  },
  {
   "cell_type": "code",
   "execution_count": 632,
   "metadata": {},
   "outputs": [],
   "source": [
    "redundant_cols.append('water_quality')"
   ]
  },
  {
   "cell_type": "markdown",
   "metadata": {},
   "source": [
    "Next up...\n",
    "- **quantity**: The quantity of water\n",
    "- **quantity_group**: The quantity grouped by similar quantities"
   ]
  },
  {
   "cell_type": "code",
   "execution_count": 633,
   "metadata": {},
   "outputs": [
    {
     "name": "stdout",
     "output_type": "stream",
     "text": [
      "Column : quantity, Unique values : 5\n",
      "Column : quantity_group, Unique values : 5\n",
      "Column: quantity\n",
      "enough\n",
      "insufficient\n",
      "dry\n",
      "seasonal\n",
      "unknown\n",
      "\n",
      "\n",
      "Column: quantity_group\n",
      "enough\n",
      "insufficient\n",
      "dry\n",
      "seasonal\n",
      "unknown\n",
      "\n",
      "\n"
     ]
    }
   ],
   "source": [
    "water_quanity = ['quantity','quantity_group']\n",
    "column_info(water_quanity)"
   ]
  },
  {
   "cell_type": "code",
   "execution_count": 634,
   "metadata": {},
   "outputs": [
    {
     "name": "stdout",
     "output_type": "stream",
     "text": [
      "Columns are identical: True\n"
     ]
    }
   ],
   "source": [
    "# Check if columns are identical\n",
    "are_identical = (df_concise['quantity'] == df_concise['quantity_group']).all()\n",
    "\n",
    "print(\"Columns are identical:\", are_identical)"
   ]
  },
  {
   "cell_type": "markdown",
   "metadata": {},
   "source": [
    "# IMP\n",
    "- we settle on `quantity_group`\n"
   ]
  },
  {
   "cell_type": "code",
   "execution_count": 635,
   "metadata": {},
   "outputs": [
    {
     "data": {
      "text/plain": [
       "Index(['id', 'amount_tsh', 'date_recorded', 'funder', 'gps_height',\n",
       "       'installer', 'longitude', 'latitude', 'wpt_name', 'num_private',\n",
       "       'basin', 'region_code', 'district_code', 'lga', 'population',\n",
       "       'public_meeting', 'recorded_by', 'scheme_management', 'scheme_name',\n",
       "       'permit', 'construction_year', 'extraction_type_class',\n",
       "       'management_group', 'payment_type', 'quality_group', 'quantity_group',\n",
       "       'source', 'source_type', 'source_class', 'waterpoint_type',\n",
       "       'waterpoint_type_group', 'status_group'],\n",
       "      dtype='object')"
      ]
     },
     "execution_count": 635,
     "metadata": {},
     "output_type": "execute_result"
    }
   ],
   "source": [
    "df_concise = df_concise.drop(['quantity'], axis = 1)\n",
    "df_concise.columns"
   ]
  },
  {
   "cell_type": "code",
   "execution_count": 636,
   "metadata": {},
   "outputs": [],
   "source": [
    "redundant_cols.append('quantity')"
   ]
  },
  {
   "cell_type": "markdown",
   "metadata": {},
   "source": [
    "Next up...\n",
    "- **source**: The source of the water\n",
    "- **source_type**: The type of water source\n",
    "- **source_class**: The broader class of the water source"
   ]
  },
  {
   "cell_type": "code",
   "execution_count": 637,
   "metadata": {},
   "outputs": [
    {
     "name": "stdout",
     "output_type": "stream",
     "text": [
      "Column : source, Unique values : 10\n",
      "Column : source_type, Unique values : 7\n",
      "Column : source_class, Unique values : 3\n",
      "Column: source\n",
      "spring\n",
      "rainwater harvesting\n",
      "dam\n",
      "machine dbh\n",
      "other\n",
      "shallow well\n",
      "river\n",
      "hand dtw\n",
      "lake\n",
      "unknown\n",
      "\n",
      "\n",
      "Column: source_type\n",
      "spring\n",
      "rainwater harvesting\n",
      "dam\n",
      "borehole\n",
      "other\n",
      "shallow well\n",
      "river/lake\n",
      "\n",
      "\n",
      "Column: source_class\n",
      "groundwater\n",
      "surface\n",
      "unknown\n",
      "\n",
      "\n"
     ]
    }
   ],
   "source": [
    "source = ['source','source_type','source_class']\n",
    "column_info(source)"
   ]
  },
  {
   "cell_type": "markdown",
   "metadata": {},
   "source": [
    "### Recommendation for Dropping Columns\n",
    "\n",
    "- **Drop `source`**: Since `source` contains the most detailed level of information and has the highest number of unique values, it could introduce more complexity without adding significant predictive power compared to `source_type`. The fine granularity may also lead to overfitting, especially in logistic regression.\n",
    "\n",
    "- **Keep `source_class`**: This column has the least number of unique values, making it simple to encode and interpret. It provides high-level, general information that could be useful for both logistic regression and decision trees without adding much complexity.\n",
    "\n",
    "- **Keep `source_type`**: This column offers a balance between detail and simplicity with 7 unique values. It provides more information than `source_class` but is less granular than `source`. This could be useful depending on the specific needs of your model.\n",
    "\n",
    "### Final Recommendations\n",
    "\n",
    "- **For Decision Trees**: Keep both `source_class` and `source_type`. Decision trees handle categorical variables well, and having both columns could help the model learn from both general and more specific information.\n",
    "\n",
    "- **For Logistic Regression**: Drop `source` and use `source_class` and `source_type`. These two columns are simpler to encode and reduce the risk of multicollinearity and overfitting due to fewer unique values.\n"
   ]
  },
  {
   "cell_type": "code",
   "execution_count": 638,
   "metadata": {},
   "outputs": [
    {
     "data": {
      "text/plain": [
       "Index(['id', 'amount_tsh', 'date_recorded', 'funder', 'gps_height',\n",
       "       'installer', 'longitude', 'latitude', 'wpt_name', 'num_private',\n",
       "       'basin', 'region_code', 'district_code', 'lga', 'population',\n",
       "       'public_meeting', 'recorded_by', 'scheme_management', 'scheme_name',\n",
       "       'permit', 'construction_year', 'extraction_type_class',\n",
       "       'management_group', 'payment_type', 'quality_group', 'quantity_group',\n",
       "       'source_type', 'source_class', 'waterpoint_type',\n",
       "       'waterpoint_type_group', 'status_group'],\n",
       "      dtype='object')"
      ]
     },
     "execution_count": 638,
     "metadata": {},
     "output_type": "execute_result"
    }
   ],
   "source": [
    "df_concise = df_concise.drop(['source'], axis = 1)\n",
    "df_concise.columns"
   ]
  },
  {
   "cell_type": "code",
   "execution_count": 639,
   "metadata": {},
   "outputs": [],
   "source": [
    "redundant_cols.append('source')"
   ]
  },
  {
   "cell_type": "markdown",
   "metadata": {},
   "source": [
    "Next up...\n",
    "- **waterpoint_type**: The specific type of waterpoint\n",
    "- **waterpoint_type_group**: The type of waterpoint grouped by similar types\n"
   ]
  },
  {
   "cell_type": "code",
   "execution_count": 640,
   "metadata": {},
   "outputs": [
    {
     "name": "stdout",
     "output_type": "stream",
     "text": [
      "Column : waterpoint_type, Unique values : 7\n",
      "Column : waterpoint_type_group, Unique values : 6\n",
      "Column: waterpoint_type\n",
      "communal standpipe\n",
      "communal standpipe multiple\n",
      "hand pump\n",
      "other\n",
      "improved spring\n",
      "cattle trough\n",
      "dam\n",
      "\n",
      "\n",
      "Column: waterpoint_type_group\n",
      "communal standpipe\n",
      "hand pump\n",
      "other\n",
      "improved spring\n",
      "cattle trough\n",
      "dam\n",
      "\n",
      "\n"
     ]
    }
   ],
   "source": [
    "waterpoint = ['waterpoint_type','waterpoint_type_group']\n",
    "column_info(waterpoint)"
   ]
  },
  {
   "cell_type": "markdown",
   "metadata": {},
   "source": [
    "# IMP\n",
    "- we settle on `waterpoint_type_group`\n"
   ]
  },
  {
   "cell_type": "code",
   "execution_count": 641,
   "metadata": {},
   "outputs": [
    {
     "data": {
      "text/plain": [
       "Index(['id', 'amount_tsh', 'date_recorded', 'funder', 'gps_height',\n",
       "       'installer', 'longitude', 'latitude', 'wpt_name', 'num_private',\n",
       "       'basin', 'region_code', 'district_code', 'lga', 'population',\n",
       "       'public_meeting', 'recorded_by', 'scheme_management', 'scheme_name',\n",
       "       'permit', 'construction_year', 'extraction_type_class',\n",
       "       'management_group', 'payment_type', 'quality_group', 'quantity_group',\n",
       "       'source_type', 'source_class', 'waterpoint_type_group', 'status_group'],\n",
       "      dtype='object')"
      ]
     },
     "execution_count": 641,
     "metadata": {},
     "output_type": "execute_result"
    }
   ],
   "source": [
    "df_concise = df_concise.drop(['waterpoint_type'], axis = 1)\n",
    "df_concise.columns"
   ]
  },
  {
   "cell_type": "code",
   "execution_count": 642,
   "metadata": {},
   "outputs": [],
   "source": [
    "redundant_cols.append('waterpoint_type')"
   ]
  },
  {
   "cell_type": "code",
   "execution_count": 643,
   "metadata": {},
   "outputs": [
    {
     "data": {
      "text/plain": [
       "30"
      ]
     },
     "execution_count": 643,
     "metadata": {},
     "output_type": "execute_result"
    }
   ],
   "source": [
    "len(df_concise.columns)"
   ]
  },
  {
   "cell_type": "code",
   "execution_count": 644,
   "metadata": {},
   "outputs": [
    {
     "data": {
      "text/plain": [
       "Index(['id', 'amount_tsh', 'date_recorded', 'funder', 'gps_height',\n",
       "       'installer', 'longitude', 'latitude', 'wpt_name', 'num_private',\n",
       "       'basin', 'region_code', 'district_code', 'lga', 'population',\n",
       "       'public_meeting', 'recorded_by', 'scheme_management', 'scheme_name',\n",
       "       'permit', 'construction_year', 'extraction_type_class',\n",
       "       'management_group', 'payment_type', 'quality_group', 'quantity_group',\n",
       "       'source_type', 'source_class', 'waterpoint_type_group', 'status_group'],\n",
       "      dtype='object')"
      ]
     },
     "execution_count": 644,
     "metadata": {},
     "output_type": "execute_result"
    }
   ],
   "source": [
    "df_concise.columns"
   ]
  },
  {
   "cell_type": "markdown",
   "metadata": {},
   "source": [
    "Ascertaining that all redundant columns dropped have been captured\n"
   ]
  },
  {
   "cell_type": "code",
   "execution_count": 645,
   "metadata": {},
   "outputs": [
    {
     "data": {
      "text/plain": [
       "True"
      ]
     },
     "execution_count": 645,
     "metadata": {},
     "output_type": "execute_result"
    }
   ],
   "source": [
    "len(df_concise.columns) == (len(df.columns)- len(redundant_cols))"
   ]
  },
  {
   "cell_type": "code",
   "execution_count": 646,
   "metadata": {},
   "outputs": [
    {
     "data": {
      "text/plain": [
       "['subvillage',\n",
       " 'region',\n",
       " 'ward',\n",
       " 'extraction_type',\n",
       " 'extraction_type_group',\n",
       " 'management',\n",
       " 'payment',\n",
       " 'water_quality',\n",
       " 'quantity',\n",
       " 'source',\n",
       " 'waterpoint_type']"
      ]
     },
     "execution_count": 646,
     "metadata": {},
     "output_type": "execute_result"
    }
   ],
   "source": [
    "redundant_cols"
   ]
  },
  {
   "cell_type": "code",
   "execution_count": 647,
   "metadata": {},
   "outputs": [
    {
     "data": {
      "text/plain": [
       "Index(['id', 'amount_tsh', 'date_recorded', 'funder', 'gps_height',\n",
       "       'installer', 'longitude', 'latitude', 'wpt_name', 'num_private',\n",
       "       'basin', 'region_code', 'district_code', 'lga', 'population',\n",
       "       'public_meeting', 'recorded_by', 'scheme_management', 'scheme_name',\n",
       "       'permit', 'construction_year', 'extraction_type_class',\n",
       "       'management_group', 'payment_type', 'quality_group', 'quantity_group',\n",
       "       'source_type', 'source_class', 'waterpoint_type_group', 'status_group'],\n",
       "      dtype='object')"
      ]
     },
     "execution_count": 647,
     "metadata": {},
     "output_type": "execute_result"
    }
   ],
   "source": [
    "df_concise.columns"
   ]
  },
  {
   "cell_type": "markdown",
   "metadata": {},
   "source": [
    "# The Features in This Dataset\n",
    "\n",
    "The following features are left after extracting redundant columns:\n",
    "\n",
    "\n",
    "- `amount_tsh`: Total static head (amount of water available to the waterpoint)\n",
    "- `date_recorded`: The date the row was entered\n",
    "- `funder`: Who funded the well\n",
    "- `gps_height`: Altitude of the well\n",
    "- `installer`: Organization that installed the well\n",
    "- `longitude`: GPS coordinate\n",
    "- `latitude`: GPS coordinate\n",
    "- `wpt_name`: Name of the waterpoint, if there is one\n",
    "- `num_private`: _(Not specified)_\n",
    "- `basin`: Geographic water basin\n",
    "- `region_code`: Geographic location (coded)\n",
    "- `district_code`: Geographic location (coded)\n",
    "- `lga`: ( Geographic location )- Local Government Authorities (LGAs) in Tanzania are accountable for the delivery of public services to citizens - providing \n",
    "oversight and management support to health facilities, schools, and villages.\n",
    "- `population`: Population around the well\n",
    "- `public_meeting`: True/False, indicating if a public meeting was held\n",
    "- `recorded_by`: Group entering this row of data\n",
    "- `scheme_management`: Who operates the waterpoint\n",
    "- `scheme_name`: The name of the management scheme\n",
    "- `permit`: Whether the waterpoint is permitted (True/False)\n",
    "- `construction_year`: Year the waterpoint was constructed\n",
    "- `extraction_type_class`: The extraction type categorized into broader classes\n",
    "- `management_group`: The management grouped into broader categories\n",
    "- `payment_type`: The specific type of payment method\n",
    "- `quality_group`: The quality grouped by similar qualities\n",
    "- `quantity_group`: The quantity grouped by similar quantities\n",
    "- `source_type`: The type of water source\n",
    "- `source_class`: The broader class of the water source\n",
    "- `waterpoint_type_group`: The type of waterpoint grouped by similar types\n"
   ]
  },
  {
   "cell_type": "markdown",
   "metadata": {},
   "source": []
  },
  {
   "cell_type": "markdown",
   "metadata": {},
   "source": [
    "## Data Cleaning- Extracting unnecessary columns with little useful info\n"
   ]
  },
  {
   "cell_type": "markdown",
   "metadata": {},
   "source": [
    "From Domain Knowledge, the following columns can be dropped\n",
    "- date_recorded\n",
    "- longitude\n",
    "- latitude\n",
    "- wpt_name\n",
    "- num_private\n",
    "- recorded_by"
   ]
  },
  {
   "cell_type": "code",
   "execution_count": 648,
   "metadata": {},
   "outputs": [
    {
     "data": {
      "text/plain": [
       "Index(['id', 'amount_tsh', 'funder', 'gps_height', 'installer', 'basin',\n",
       "       'region_code', 'district_code', 'lga', 'population', 'public_meeting',\n",
       "       'scheme_management', 'scheme_name', 'permit', 'construction_year',\n",
       "       'extraction_type_class', 'management_group', 'payment_type',\n",
       "       'quality_group', 'quantity_group', 'source_type', 'source_class',\n",
       "       'waterpoint_type_group', 'status_group'],\n",
       "      dtype='object')"
      ]
     },
     "execution_count": 648,
     "metadata": {},
     "output_type": "execute_result"
    }
   ],
   "source": [
    "unncecessary_cols = [ 'date_recorded','longitude','latitude','wpt_name','num_private','recorded_by']\n",
    "df_concise = df_concise.drop(unncecessary_cols, axis = 1)\n",
    "df_concise.columns"
   ]
  },
  {
   "cell_type": "code",
   "execution_count": 649,
   "metadata": {},
   "outputs": [
    {
     "data": {
      "text/plain": [
       "24"
      ]
     },
     "execution_count": 649,
     "metadata": {},
     "output_type": "execute_result"
    }
   ],
   "source": [
    "len(df_concise.columns)"
   ]
  },
  {
   "cell_type": "markdown",
   "metadata": {},
   "source": [
    "-inspecting the other columns to check whether other columns can be dropped"
   ]
  },
  {
   "cell_type": "code",
   "execution_count": 650,
   "metadata": {},
   "outputs": [
    {
     "name": "stdout",
     "output_type": "stream",
     "text": [
      "Column : id, Unique values : 59400\n",
      "Column : amount_tsh, Unique values : 98\n",
      "Column : funder, Unique values : 1898\n",
      "Column : gps_height, Unique values : 2428\n",
      "Column : installer, Unique values : 2146\n",
      "Column : basin, Unique values : 9\n",
      "Column : region_code, Unique values : 27\n",
      "Column : district_code, Unique values : 20\n",
      "Column : lga, Unique values : 125\n",
      "Column : population, Unique values : 1049\n",
      "Column : public_meeting, Unique values : 3\n",
      "Column : scheme_management, Unique values : 13\n",
      "Column : scheme_name, Unique values : 2697\n",
      "Column : permit, Unique values : 3\n",
      "Column : construction_year, Unique values : 55\n",
      "Column : extraction_type_class, Unique values : 7\n",
      "Column : management_group, Unique values : 5\n",
      "Column : payment_type, Unique values : 7\n",
      "Column : quality_group, Unique values : 6\n",
      "Column : quantity_group, Unique values : 5\n",
      "Column : source_type, Unique values : 7\n",
      "Column : source_class, Unique values : 3\n",
      "Column : waterpoint_type_group, Unique values : 6\n",
      "Column : status_group, Unique values : 3\n"
     ]
    }
   ],
   "source": [
    "for element in df_concise.columns:\n",
    "        print(f\"Column : {element}, Unique values : {len(df[element].unique())}\")"
   ]
  },
  {
   "cell_type": "markdown",
   "metadata": {},
   "source": [
    "from above, the features : installer, scheme_management, scheme_name,funder seem to be extraneous so we shall inspect them"
   ]
  },
  {
   "cell_type": "code",
   "execution_count": 651,
   "metadata": {},
   "outputs": [
    {
     "name": "stdout",
     "output_type": "stream",
     "text": [
      "40445            WEDECO\n",
      "16919             Commu\n",
      "45680           Mission\n",
      "36289    KYASHA ENTERPR\n",
      "35078               RWE\n",
      "5214              Gover\n",
      "49481               DWE\n",
      "56851             Ongan\n",
      "38476               DWE\n",
      "33172            SOWASA\n",
      "Name: installer, dtype: object\n",
      "53800            WUA\n",
      "19158            SWC\n",
      "31385          Trust\n",
      "8273     Water Board\n",
      "19856            VWC\n",
      "33839            WUA\n",
      "44969            VWC\n",
      "19246            VWC\n",
      "49998            WUA\n",
      "41831            WUA\n",
      "Name: scheme_management, dtype: object\n",
      "14756                  BL Kashashi\n",
      "56555                        TIRDO\n",
      "13367                         None\n",
      "39505                Bagamoyo Wate\n",
      "9556                           NaN\n",
      "11746    Mradi wa maji wa kiloleni\n",
      "50635         Handeni Trunk Main(H\n",
      "10339                         Njog\n",
      "50367                            N\n",
      "19670                      Kasamwa\n",
      "Name: scheme_name, dtype: object\n",
      "10946                 Villagers\n",
      "57963                       Rdc\n",
      "13877                     Tasaf\n",
      "23810                     Ridep\n",
      "10269                     Roman\n",
      "58185                      Adra\n",
      "50242                  Wateraid\n",
      "52080       Roman Cathoric-same\n",
      "49362                     Rwssp\n",
      "5034     Government Of Tanzania\n",
      "Name: funder, dtype: object\n"
     ]
    }
   ],
   "source": [
    "possible_extraneous = ['installer', 'scheme_management', 'scheme_name','funder']\n",
    "for element in possible_extraneous:\n",
    "    print (df_concise[element].sample(n=10))"
   ]
  },
  {
   "cell_type": "markdown",
   "metadata": {},
   "source": [
    "ALl this info, on further inspection, are extraneous, therefore we shall drop them too\n"
   ]
  },
  {
   "cell_type": "code",
   "execution_count": 652,
   "metadata": {},
   "outputs": [
    {
     "data": {
      "text/plain": [
       "Index(['id', 'amount_tsh', 'gps_height', 'basin', 'region_code',\n",
       "       'district_code', 'lga', 'population', 'public_meeting', 'permit',\n",
       "       'construction_year', 'extraction_type_class', 'management_group',\n",
       "       'payment_type', 'quality_group', 'quantity_group', 'source_type',\n",
       "       'source_class', 'waterpoint_type_group', 'status_group'],\n",
       "      dtype='object')"
      ]
     },
     "execution_count": 652,
     "metadata": {},
     "output_type": "execute_result"
    }
   ],
   "source": [
    "# add `possible_extraneous` to unnecessary cols and drop\n",
    "unncecessary_cols += possible_extraneous\n",
    "df_concise = df_concise.drop(possible_extraneous, axis = 1)\n",
    "df_concise.columns"
   ]
  },
  {
   "cell_type": "markdown",
   "metadata": {},
   "source": [
    "### **At this juncture, we have dropped the unncecessary and redundant columns. Next we shall deal with missing values, if present**"
   ]
  },
  {
   "cell_type": "markdown",
   "metadata": {},
   "source": [
    "- Verifying the above...\n"
   ]
  },
  {
   "cell_type": "code",
   "execution_count": 653,
   "metadata": {},
   "outputs": [
    {
     "data": {
      "text/plain": [
       "True"
      ]
     },
     "execution_count": 653,
     "metadata": {},
     "output_type": "execute_result"
    }
   ],
   "source": [
    "(len(df.columns)- len(df_concise.columns)) == (len(redundant_cols) + len(unncecessary_cols))"
   ]
  },
  {
   "cell_type": "markdown",
   "metadata": {},
   "source": [
    "### **Dealing with missing values**"
   ]
  },
  {
   "cell_type": "code",
   "execution_count": 654,
   "metadata": {},
   "outputs": [
    {
     "name": "stdout",
     "output_type": "stream",
     "text": [
      "<class 'pandas.core.frame.DataFrame'>\n",
      "Int64Index: 59400 entries, 0 to 59399\n",
      "Data columns (total 20 columns):\n",
      " #   Column                 Non-Null Count  Dtype  \n",
      "---  ------                 --------------  -----  \n",
      " 0   id                     59400 non-null  int64  \n",
      " 1   amount_tsh             59400 non-null  float64\n",
      " 2   gps_height             59400 non-null  int64  \n",
      " 3   basin                  59400 non-null  object \n",
      " 4   region_code            59400 non-null  int64  \n",
      " 5   district_code          59400 non-null  int64  \n",
      " 6   lga                    59400 non-null  object \n",
      " 7   population             59400 non-null  int64  \n",
      " 8   public_meeting         56066 non-null  object \n",
      " 9   permit                 56344 non-null  object \n",
      " 10  construction_year      59400 non-null  int64  \n",
      " 11  extraction_type_class  59400 non-null  object \n",
      " 12  management_group       59400 non-null  object \n",
      " 13  payment_type           59400 non-null  object \n",
      " 14  quality_group          59400 non-null  object \n",
      " 15  quantity_group         59400 non-null  object \n",
      " 16  source_type            59400 non-null  object \n",
      " 17  source_class           59400 non-null  object \n",
      " 18  waterpoint_type_group  59400 non-null  object \n",
      " 19  status_group           59400 non-null  object \n",
      "dtypes: float64(1), int64(6), object(13)\n",
      "memory usage: 9.5+ MB\n"
     ]
    }
   ],
   "source": [
    "df_concise.info()"
   ]
  },
  {
   "cell_type": "markdown",
   "metadata": {},
   "source": [
    "- From earlier inspection, several numeric columns contain zeros where they are unrealistic. We shall convert them to NaNs so as to simplify the process of filling them.first we feature engineer age column from construction year"
   ]
  },
  {
   "cell_type": "markdown",
   "metadata": {},
   "source": [
    "## Feature Engineering\n",
    "We shall replace construction year with age as ,from domain knowledge, we expect proportionality between target and the feature"
   ]
  },
  {
   "cell_type": "code",
   "execution_count": 655,
   "metadata": {},
   "outputs": [],
   "source": [
    "# Calculate age where year is not equal to 0\n",
    "df_concise.loc[df_concise['construction_year'] != 0, 'age'] = 2024 - df['construction_year']"
   ]
  },
  {
   "cell_type": "code",
   "execution_count": 656,
   "metadata": {},
   "outputs": [
    {
     "data": {
      "text/plain": [
       "Index(['id', 'amount_tsh', 'gps_height', 'basin', 'region_code',\n",
       "       'district_code', 'lga', 'population', 'public_meeting', 'permit',\n",
       "       'extraction_type_class', 'management_group', 'payment_type',\n",
       "       'quality_group', 'quantity_group', 'source_type', 'source_class',\n",
       "       'waterpoint_type_group', 'status_group', 'age'],\n",
       "      dtype='object')"
      ]
     },
     "execution_count": 656,
     "metadata": {},
     "output_type": "execute_result"
    }
   ],
   "source": [
    "df_concise = df_concise.drop(['construction_year'], axis = 1 )\n",
    "df_concise.columns"
   ]
  },
  {
   "cell_type": "code",
   "execution_count": 657,
   "metadata": {},
   "outputs": [
    {
     "name": "stdout",
     "output_type": "stream",
     "text": [
      "<class 'pandas.core.frame.DataFrame'>\n",
      "Int64Index: 59400 entries, 0 to 59399\n",
      "Data columns (total 20 columns):\n",
      " #   Column                 Non-Null Count  Dtype  \n",
      "---  ------                 --------------  -----  \n",
      " 0   id                     59400 non-null  int64  \n",
      " 1   amount_tsh             59400 non-null  float64\n",
      " 2   gps_height             59400 non-null  int64  \n",
      " 3   basin                  59400 non-null  object \n",
      " 4   region_code            59400 non-null  int64  \n",
      " 5   district_code          59400 non-null  int64  \n",
      " 6   lga                    59400 non-null  object \n",
      " 7   population             59400 non-null  int64  \n",
      " 8   public_meeting         56066 non-null  object \n",
      " 9   permit                 56344 non-null  object \n",
      " 10  extraction_type_class  59400 non-null  object \n",
      " 11  management_group       59400 non-null  object \n",
      " 12  payment_type           59400 non-null  object \n",
      " 13  quality_group          59400 non-null  object \n",
      " 14  quantity_group         59400 non-null  object \n",
      " 15  source_type            59400 non-null  object \n",
      " 16  source_class           59400 non-null  object \n",
      " 17  waterpoint_type_group  59400 non-null  object \n",
      " 18  status_group           59400 non-null  object \n",
      " 19  age                    38691 non-null  float64\n",
      "dtypes: float64(2), int64(5), object(13)\n",
      "memory usage: 12.0+ MB\n"
     ]
    }
   ],
   "source": [
    "df_concise.info()"
   ]
  },
  {
   "cell_type": "markdown",
   "metadata": {},
   "source": [
    "- From general info, it seems NaN's are only present in the  columns  `public_meeting` and `permit`,However, on converting zeros to NaNs there may be more, first let's convert the above 2"
   ]
  },
  {
   "cell_type": "code",
   "execution_count": 658,
   "metadata": {},
   "outputs": [
    {
     "data": {
      "text/plain": [
       "(True     51011\n",
       " False     5055\n",
       " Name: public_meeting, dtype: int64,\n",
       " True     38852\n",
       " False    17492\n",
       " Name: permit, dtype: int64)"
      ]
     },
     "execution_count": 658,
     "metadata": {},
     "output_type": "execute_result"
    }
   ],
   "source": [
    "df_concise['public_meeting'].value_counts(), df_concise['permit'].value_counts()"
   ]
  },
  {
   "cell_type": "code",
   "execution_count": 659,
   "metadata": {},
   "outputs": [
    {
     "data": {
      "text/plain": [
       "(3334, 3056)"
      ]
     },
     "execution_count": 659,
     "metadata": {},
     "output_type": "execute_result"
    }
   ],
   "source": [
    "df_concise['public_meeting'].isna().sum(), df_concise['permit'].isna().sum(), "
   ]
  },
  {
   "cell_type": "markdown",
   "metadata": {},
   "source": [
    "Represent small % of data so we shall fill them with the most frequent, being true"
   ]
  },
  {
   "cell_type": "code",
   "execution_count": 660,
   "metadata": {},
   "outputs": [
    {
     "name": "stdout",
     "output_type": "stream",
     "text": [
      "<class 'pandas.core.frame.DataFrame'>\n",
      "Int64Index: 59400 entries, 0 to 59399\n",
      "Data columns (total 20 columns):\n",
      " #   Column                 Non-Null Count  Dtype  \n",
      "---  ------                 --------------  -----  \n",
      " 0   id                     59400 non-null  int64  \n",
      " 1   amount_tsh             59400 non-null  float64\n",
      " 2   gps_height             59400 non-null  int64  \n",
      " 3   basin                  59400 non-null  object \n",
      " 4   region_code            59400 non-null  int64  \n",
      " 5   district_code          59400 non-null  int64  \n",
      " 6   lga                    59400 non-null  object \n",
      " 7   population             59400 non-null  int64  \n",
      " 8   public_meeting         56066 non-null  float64\n",
      " 9   permit                 56344 non-null  float64\n",
      " 10  extraction_type_class  59400 non-null  object \n",
      " 11  management_group       59400 non-null  object \n",
      " 12  payment_type           59400 non-null  object \n",
      " 13  quality_group          59400 non-null  object \n",
      " 14  quantity_group         59400 non-null  object \n",
      " 15  source_type            59400 non-null  object \n",
      " 16  source_class           59400 non-null  object \n",
      " 17  waterpoint_type_group  59400 non-null  object \n",
      " 18  status_group           59400 non-null  object \n",
      " 19  age                    38691 non-null  float64\n",
      "dtypes: float64(4), int64(5), object(11)\n",
      "memory usage: 12.0+ MB\n"
     ]
    }
   ],
   "source": [
    "#Replacing 'True and False with zero and one resp\n",
    "df_concise['public_meeting'] = df_concise['public_meeting'].replace({True: 1, False: 0})\n",
    "df_concise['permit'] = df_concise['permit'].replace({True: 1, False: 0})\n",
    "df_concise.info()"
   ]
  },
  {
   "cell_type": "code",
   "execution_count": 661,
   "metadata": {},
   "outputs": [
    {
     "name": "stdout",
     "output_type": "stream",
     "text": [
      "<class 'pandas.core.frame.DataFrame'>\n",
      "Int64Index: 59400 entries, 0 to 59399\n",
      "Data columns (total 20 columns):\n",
      " #   Column                 Non-Null Count  Dtype  \n",
      "---  ------                 --------------  -----  \n",
      " 0   id                     59400 non-null  int64  \n",
      " 1   amount_tsh             59400 non-null  float64\n",
      " 2   gps_height             59400 non-null  int64  \n",
      " 3   basin                  59400 non-null  object \n",
      " 4   region_code            59400 non-null  int64  \n",
      " 5   district_code          59400 non-null  int64  \n",
      " 6   lga                    59400 non-null  object \n",
      " 7   population             59400 non-null  int64  \n",
      " 8   public_meeting         59400 non-null  float64\n",
      " 9   permit                 59400 non-null  float64\n",
      " 10  extraction_type_class  59400 non-null  object \n",
      " 11  management_group       59400 non-null  object \n",
      " 12  payment_type           59400 non-null  object \n",
      " 13  quality_group          59400 non-null  object \n",
      " 14  quantity_group         59400 non-null  object \n",
      " 15  source_type            59400 non-null  object \n",
      " 16  source_class           59400 non-null  object \n",
      " 17  waterpoint_type_group  59400 non-null  object \n",
      " 18  status_group           59400 non-null  object \n",
      " 19  age                    38691 non-null  float64\n",
      "dtypes: float64(4), int64(5), object(11)\n",
      "memory usage: 12.0+ MB\n"
     ]
    }
   ],
   "source": [
    "#fill nans with most frequent, in this case '1'\n",
    "df_concise['public_meeting'].fillna(1, inplace= True)\n",
    "df_concise['permit'].fillna(1, inplace= True)\n",
    "\n",
    "df_concise .info()"
   ]
  },
  {
   "cell_type": "markdown",
   "metadata": {},
   "source": [
    "- Verify that changes were done "
   ]
  },
  {
   "cell_type": "code",
   "execution_count": 662,
   "metadata": {},
   "outputs": [
    {
     "data": {
      "text/plain": [
       "(1.0    54345\n",
       " 0.0     5055\n",
       " Name: public_meeting, dtype: int64,\n",
       " 1.0    41908\n",
       " 0.0    17492\n",
       " Name: permit, dtype: int64)"
      ]
     },
     "execution_count": 662,
     "metadata": {},
     "output_type": "execute_result"
    }
   ],
   "source": [
    "df_concise['public_meeting'].value_counts(), df_concise['permit'].value_counts()"
   ]
  },
  {
   "cell_type": "code",
   "execution_count": 663,
   "metadata": {},
   "outputs": [
    {
     "data": {
      "text/plain": [
       "0"
      ]
     },
     "execution_count": 663,
     "metadata": {},
     "output_type": "execute_result"
    }
   ],
   "source": [
    "df_concise['public_meeting'] .isna().sum()"
   ]
  },
  {
   "cell_type": "markdown",
   "metadata": {},
   "source": [
    "Now converting zeros to NaNs in the remaining numeric cols, we shall drop amount_tsh, since zeros account for 70.1 % of the data\n"
   ]
  },
  {
   "cell_type": "code",
   "execution_count": 664,
   "metadata": {},
   "outputs": [
    {
     "data": {
      "text/plain": [
       "['date_recorded',\n",
       " 'longitude',\n",
       " 'latitude',\n",
       " 'wpt_name',\n",
       " 'num_private',\n",
       " 'recorded_by',\n",
       " 'installer',\n",
       " 'scheme_management',\n",
       " 'scheme_name',\n",
       " 'funder',\n",
       " 'amount_tsh']"
      ]
     },
     "execution_count": 664,
     "metadata": {},
     "output_type": "execute_result"
    }
   ],
   "source": [
    "df_concise = df_concise.drop(columns=['amount_tsh'], axis = 1)\n",
    "unncecessary_cols.append('amount_tsh')\n",
    "unncecessary_cols"
   ]
  },
  {
   "cell_type": "code",
   "execution_count": 665,
   "metadata": {},
   "outputs": [],
   "source": [
    "numeric_cols = ['age','region_code','district_code','population','gps_height']\n"
   ]
  },
  {
   "cell_type": "code",
   "execution_count": 666,
   "metadata": {},
   "outputs": [
    {
     "name": "stdout",
     "output_type": "stream",
     "text": [
      "column : age. Zero Count : 0. Mean: 27.185314414204854, Mode: 0    14.0\n",
      "dtype: float64, Median: 24.0 \n",
      "column : region_code. Zero Count : 0. Mean: 15.297003367003366, Mode: 0    11\n",
      "dtype: int64, Median: 12.0 \n",
      "column : district_code. Zero Count : 23. Mean: 5.629747474747475, Mode: 0    1\n",
      "dtype: int64, Median: 3.0 \n",
      "column : population. Zero Count : 21381. Mean: 179.90998316498317, Mode: 0    0\n",
      "dtype: int64, Median: 25.0 \n",
      "column : gps_height. Zero Count : 20438. Mean: 668.297239057239, Mode: 0    0\n",
      "dtype: int64, Median: 369.0 \n"
     ]
    }
   ],
   "source": [
    "for col in numeric_cols:\n",
    "    print(f\"column : {col}. Zero Count : {len(df_concise[df_concise[col]==0])}. Mean: {df_concise[col].mean()}, Mode: {df_concise[col].mode()}, Median: {df_concise[col].median()} \")"
   ]
  },
  {
   "cell_type": "code",
   "execution_count": 667,
   "metadata": {},
   "outputs": [
    {
     "data": {
      "text/plain": [
       "(626, 1892)"
      ]
     },
     "execution_count": 667,
     "metadata": {},
     "output_type": "execute_result"
    }
   ],
   "source": [
    "len(df_concise[df_concise['population']==30]),len(df_concise[df_concise['population']==150]),"
   ]
  },
  {
   "cell_type": "markdown",
   "metadata": {},
   "source": [
    "Also converting 1's in population to median seince they are not practical"
   ]
  },
  {
   "cell_type": "markdown",
   "metadata": {},
   "source": [
    "For this study, the value of population = 1 may not make much practical sense, especially when considering waterpoints, as it is highly unlikely that a waterpoint would serve only one person. Here’s a structured approach to handle the situation:"
   ]
  },
  {
   "cell_type": "markdown",
   "metadata": {},
   "source": [
    "Replace population = 1 with the Median:\n",
    "Replacing these with the median makes the data more realistic and ensures that it represents typical values without skewing the distribution with improbable data points."
   ]
  },
  {
   "cell_type": "code",
   "execution_count": 668,
   "metadata": {},
   "outputs": [],
   "source": [
    "# Calculate the median of the 'population' column excluding 1\n",
    "median_population = df_concise[df['population'] != 1]['population'].median()\n",
    "\n",
    "# Replace values of 1 in the 'population' column with the median\n",
    "df_concise['population'] = df_concise['population'].replace(1, median_population)\n"
   ]
  },
  {
   "cell_type": "code",
   "execution_count": 669,
   "metadata": {},
   "outputs": [],
   "source": [
    "for col in numeric_cols:\n",
    "    # Convert zero values to NaN in the 'gps_height' column\n",
    "    df_concise[col] = df_concise[col].replace(0, np.nan)"
   ]
  },
  {
   "cell_type": "code",
   "execution_count": 670,
   "metadata": {},
   "outputs": [
    {
     "name": "stdout",
     "output_type": "stream",
     "text": [
      "<class 'pandas.core.frame.DataFrame'>\n",
      "Int64Index: 59400 entries, 0 to 59399\n",
      "Data columns (total 19 columns):\n",
      " #   Column                 Non-Null Count  Dtype  \n",
      "---  ------                 --------------  -----  \n",
      " 0   id                     59400 non-null  int64  \n",
      " 1   gps_height             38962 non-null  float64\n",
      " 2   basin                  59400 non-null  object \n",
      " 3   region_code            59400 non-null  int64  \n",
      " 4   district_code          59377 non-null  float64\n",
      " 5   lga                    59400 non-null  object \n",
      " 6   population             38019 non-null  float64\n",
      " 7   public_meeting         59400 non-null  float64\n",
      " 8   permit                 59400 non-null  float64\n",
      " 9   extraction_type_class  59400 non-null  object \n",
      " 10  management_group       59400 non-null  object \n",
      " 11  payment_type           59400 non-null  object \n",
      " 12  quality_group          59400 non-null  object \n",
      " 13  quantity_group         59400 non-null  object \n",
      " 14  source_type            59400 non-null  object \n",
      " 15  source_class           59400 non-null  object \n",
      " 16  waterpoint_type_group  59400 non-null  object \n",
      " 17  status_group           59400 non-null  object \n",
      " 18  age                    38691 non-null  float64\n",
      "dtypes: float64(6), int64(2), object(11)\n",
      "memory usage: 11.6+ MB\n"
     ]
    }
   ],
   "source": [
    "df_concise.info()"
   ]
  },
  {
   "cell_type": "code",
   "execution_count": 671,
   "metadata": {},
   "outputs": [
    {
     "data": {
      "text/plain": [
       "['age', 'region_code', 'district_code', 'population', 'gps_height']"
      ]
     },
     "execution_count": 671,
     "metadata": {},
     "output_type": "execute_result"
    }
   ],
   "source": [
    "numeric_cols"
   ]
  },
  {
   "cell_type": "code",
   "execution_count": 672,
   "metadata": {},
   "outputs": [
    {
     "name": "stdout",
     "output_type": "stream",
     "text": [
      "column : age.Mean: 27.185314414204854, Mode: 0    14.0\n",
      "dtype: float64, Median: 24.0 \n",
      "column : region_code.Mean: 15.297003367003366, Mode: 0    11\n",
      "dtype: int64, Median: 12.0 \n",
      "column : district_code.Mean: 5.6319281876820995, Mode: 0    1.0\n",
      "dtype: float64, Median: 3.0 \n",
      "column : population.Mean: 291.9889528919751, Mode: 0    60.0\n",
      "dtype: float64, Median: 150.0 \n",
      "column : gps_height.Mean: 1018.8608387659771, Mode: 0   -15.0\n",
      "dtype: float64, Median: 1167.0 \n"
     ]
    }
   ],
   "source": [
    "for col in numeric_cols:\n",
    "    print(f\"column : {col}.Mean: {df_concise[col].mean()}, Mode: {df_concise[col].mode()}, Median: {df_concise[col].median()} \")"
   ]
  },
  {
   "cell_type": "code",
   "execution_count": 673,
   "metadata": {},
   "outputs": [
    {
     "data": {
      "text/html": [
       "<div>\n",
       "<style scoped>\n",
       "    .dataframe tbody tr th:only-of-type {\n",
       "        vertical-align: middle;\n",
       "    }\n",
       "\n",
       "    .dataframe tbody tr th {\n",
       "        vertical-align: top;\n",
       "    }\n",
       "\n",
       "    .dataframe thead th {\n",
       "        text-align: right;\n",
       "    }\n",
       "</style>\n",
       "<table border=\"1\" class=\"dataframe\">\n",
       "  <thead>\n",
       "    <tr style=\"text-align: right;\">\n",
       "      <th></th>\n",
       "      <th>id</th>\n",
       "      <th>gps_height</th>\n",
       "      <th>region_code</th>\n",
       "      <th>district_code</th>\n",
       "      <th>population</th>\n",
       "      <th>public_meeting</th>\n",
       "      <th>permit</th>\n",
       "      <th>age</th>\n",
       "    </tr>\n",
       "  </thead>\n",
       "  <tbody>\n",
       "    <tr>\n",
       "      <th>count</th>\n",
       "      <td>59400.000000</td>\n",
       "      <td>38962.000000</td>\n",
       "      <td>59400.000000</td>\n",
       "      <td>59377.000000</td>\n",
       "      <td>38019.000000</td>\n",
       "      <td>59400.000000</td>\n",
       "      <td>59400.000000</td>\n",
       "      <td>38691.000000</td>\n",
       "    </tr>\n",
       "    <tr>\n",
       "      <th>mean</th>\n",
       "      <td>37115.131768</td>\n",
       "      <td>1018.860839</td>\n",
       "      <td>15.297003</td>\n",
       "      <td>5.631928</td>\n",
       "      <td>291.988953</td>\n",
       "      <td>0.914899</td>\n",
       "      <td>0.705522</td>\n",
       "      <td>27.185314</td>\n",
       "    </tr>\n",
       "    <tr>\n",
       "      <th>std</th>\n",
       "      <td>21453.128371</td>\n",
       "      <td>612.566092</td>\n",
       "      <td>17.587406</td>\n",
       "      <td>9.634877</td>\n",
       "      <td>559.722665</td>\n",
       "      <td>0.279034</td>\n",
       "      <td>0.455812</td>\n",
       "      <td>12.472045</td>\n",
       "    </tr>\n",
       "    <tr>\n",
       "      <th>min</th>\n",
       "      <td>0.000000</td>\n",
       "      <td>-90.000000</td>\n",
       "      <td>1.000000</td>\n",
       "      <td>1.000000</td>\n",
       "      <td>2.000000</td>\n",
       "      <td>0.000000</td>\n",
       "      <td>0.000000</td>\n",
       "      <td>11.000000</td>\n",
       "    </tr>\n",
       "    <tr>\n",
       "      <th>25%</th>\n",
       "      <td>18519.750000</td>\n",
       "      <td>393.000000</td>\n",
       "      <td>5.000000</td>\n",
       "      <td>2.000000</td>\n",
       "      <td>60.000000</td>\n",
       "      <td>1.000000</td>\n",
       "      <td>0.000000</td>\n",
       "      <td>16.000000</td>\n",
       "    </tr>\n",
       "    <tr>\n",
       "      <th>50%</th>\n",
       "      <td>37061.500000</td>\n",
       "      <td>1167.000000</td>\n",
       "      <td>12.000000</td>\n",
       "      <td>3.000000</td>\n",
       "      <td>150.000000</td>\n",
       "      <td>1.000000</td>\n",
       "      <td>1.000000</td>\n",
       "      <td>24.000000</td>\n",
       "    </tr>\n",
       "    <tr>\n",
       "      <th>75%</th>\n",
       "      <td>55656.500000</td>\n",
       "      <td>1498.000000</td>\n",
       "      <td>17.000000</td>\n",
       "      <td>5.000000</td>\n",
       "      <td>324.000000</td>\n",
       "      <td>1.000000</td>\n",
       "      <td>1.000000</td>\n",
       "      <td>37.000000</td>\n",
       "    </tr>\n",
       "    <tr>\n",
       "      <th>max</th>\n",
       "      <td>74247.000000</td>\n",
       "      <td>2770.000000</td>\n",
       "      <td>99.000000</td>\n",
       "      <td>80.000000</td>\n",
       "      <td>30500.000000</td>\n",
       "      <td>1.000000</td>\n",
       "      <td>1.000000</td>\n",
       "      <td>64.000000</td>\n",
       "    </tr>\n",
       "  </tbody>\n",
       "</table>\n",
       "</div>"
      ],
      "text/plain": [
       "                 id    gps_height   region_code  district_code    population  \\\n",
       "count  59400.000000  38962.000000  59400.000000   59377.000000  38019.000000   \n",
       "mean   37115.131768   1018.860839     15.297003       5.631928    291.988953   \n",
       "std    21453.128371    612.566092     17.587406       9.634877    559.722665   \n",
       "min        0.000000    -90.000000      1.000000       1.000000      2.000000   \n",
       "25%    18519.750000    393.000000      5.000000       2.000000     60.000000   \n",
       "50%    37061.500000   1167.000000     12.000000       3.000000    150.000000   \n",
       "75%    55656.500000   1498.000000     17.000000       5.000000    324.000000   \n",
       "max    74247.000000   2770.000000     99.000000      80.000000  30500.000000   \n",
       "\n",
       "       public_meeting        permit           age  \n",
       "count    59400.000000  59400.000000  38691.000000  \n",
       "mean         0.914899      0.705522     27.185314  \n",
       "std          0.279034      0.455812     12.472045  \n",
       "min          0.000000      0.000000     11.000000  \n",
       "25%          1.000000      0.000000     16.000000  \n",
       "50%          1.000000      1.000000     24.000000  \n",
       "75%          1.000000      1.000000     37.000000  \n",
       "max          1.000000      1.000000     64.000000  "
      ]
     },
     "execution_count": 673,
     "metadata": {},
     "output_type": "execute_result"
    }
   ],
   "source": [
    "df_concise.describe()"
   ]
  },
  {
   "cell_type": "markdown",
   "metadata": {},
   "source": [
    "# IMP\n",
    "\n",
    "-For the numeric columns except district_code and region_code, we shall fill with the average value\n"
   ]
  },
  {
   "cell_type": "code",
   "execution_count": 674,
   "metadata": {},
   "outputs": [
    {
     "name": "stdout",
     "output_type": "stream",
     "text": [
      "<class 'pandas.core.frame.DataFrame'>\n",
      "Int64Index: 59400 entries, 0 to 59399\n",
      "Data columns (total 19 columns):\n",
      " #   Column                 Non-Null Count  Dtype  \n",
      "---  ------                 --------------  -----  \n",
      " 0   id                     59400 non-null  int64  \n",
      " 1   gps_height             59400 non-null  float64\n",
      " 2   basin                  59400 non-null  object \n",
      " 3   region_code            59400 non-null  int64  \n",
      " 4   district_code          59377 non-null  float64\n",
      " 5   lga                    59400 non-null  object \n",
      " 6   population             59400 non-null  float64\n",
      " 7   public_meeting         59400 non-null  float64\n",
      " 8   permit                 59400 non-null  float64\n",
      " 9   extraction_type_class  59400 non-null  object \n",
      " 10  management_group       59400 non-null  object \n",
      " 11  payment_type           59400 non-null  object \n",
      " 12  quality_group          59400 non-null  object \n",
      " 13  quantity_group         59400 non-null  object \n",
      " 14  source_type            59400 non-null  object \n",
      " 15  source_class           59400 non-null  object \n",
      " 16  waterpoint_type_group  59400 non-null  object \n",
      " 17  status_group           59400 non-null  object \n",
      " 18  age                    59400 non-null  float64\n",
      "dtypes: float64(6), int64(2), object(11)\n",
      "memory usage: 11.6+ MB\n"
     ]
    }
   ],
   "source": [
    "numeric_cols_fillna_average = ['age', 'population', 'gps_height']\n",
    "for col in numeric_cols_fillna_average:\n",
    "    #fill nans with median\n",
    "    df_concise[col].fillna(df_concise[col].median(), inplace= True)\n",
    "    \n",
    "\n",
    "df_concise .info()"
   ]
  },
  {
   "cell_type": "markdown",
   "metadata": {},
   "source": [
    "for the district code, I shall fill NaNs with the most frequent that occurred in its associated region, since region has no NaNs"
   ]
  },
  {
   "cell_type": "code",
   "execution_count": 675,
   "metadata": {},
   "outputs": [],
   "source": [
    "# Fill NaNs with the most frequent district_code within each region_code\n",
    "df_concise['district_code'] = df_concise.groupby('region_code')['district_code'].transform(\n",
    "    lambda x: x.fillna(x.mode()[0] if not x.mode().empty else np.nan)\n",
    ")"
   ]
  },
  {
   "cell_type": "code",
   "execution_count": 676,
   "metadata": {},
   "outputs": [
    {
     "name": "stdout",
     "output_type": "stream",
     "text": [
      "<class 'pandas.core.frame.DataFrame'>\n",
      "Int64Index: 59400 entries, 0 to 59399\n",
      "Data columns (total 19 columns):\n",
      " #   Column                 Non-Null Count  Dtype  \n",
      "---  ------                 --------------  -----  \n",
      " 0   id                     59400 non-null  int64  \n",
      " 1   gps_height             59400 non-null  float64\n",
      " 2   basin                  59400 non-null  object \n",
      " 3   region_code            59400 non-null  int64  \n",
      " 4   district_code          59400 non-null  float64\n",
      " 5   lga                    59400 non-null  object \n",
      " 6   population             59400 non-null  float64\n",
      " 7   public_meeting         59400 non-null  float64\n",
      " 8   permit                 59400 non-null  float64\n",
      " 9   extraction_type_class  59400 non-null  object \n",
      " 10  management_group       59400 non-null  object \n",
      " 11  payment_type           59400 non-null  object \n",
      " 12  quality_group          59400 non-null  object \n",
      " 13  quantity_group         59400 non-null  object \n",
      " 14  source_type            59400 non-null  object \n",
      " 15  source_class           59400 non-null  object \n",
      " 16  waterpoint_type_group  59400 non-null  object \n",
      " 17  status_group           59400 non-null  object \n",
      " 18  age                    59400 non-null  float64\n",
      "dtypes: float64(6), int64(2), object(11)\n",
      "memory usage: 11.6+ MB\n"
     ]
    }
   ],
   "source": [
    "df_concise .info()"
   ]
  },
  {
   "cell_type": "code",
   "execution_count": null,
   "metadata": {},
   "outputs": [],
   "source": []
  },
  {
   "cell_type": "markdown",
   "metadata": {},
   "source": [
    "## Checking for Outliers"
   ]
  },
  {
   "cell_type": "markdown",
   "metadata": {},
   "source": [
    "For our project, we shall remove outliers from columns with high variablity. We shall proceed with 2 datasets from hence forth,one with outliers, one without, since the the different models we try out might have diff performances with them"
   ]
  },
  {
   "cell_type": "code",
   "execution_count": 677,
   "metadata": {},
   "outputs": [
    {
     "name": "stdout",
     "output_type": "stream",
     "text": [
      "<class 'pandas.core.frame.DataFrame'>\n",
      "Int64Index: 59400 entries, 0 to 59399\n",
      "Data columns (total 19 columns):\n",
      " #   Column                 Non-Null Count  Dtype  \n",
      "---  ------                 --------------  -----  \n",
      " 0   id                     59400 non-null  int64  \n",
      " 1   gps_height             59400 non-null  float64\n",
      " 2   basin                  59400 non-null  object \n",
      " 3   region_code            59400 non-null  int64  \n",
      " 4   district_code          59400 non-null  float64\n",
      " 5   lga                    59400 non-null  object \n",
      " 6   population             59400 non-null  float64\n",
      " 7   public_meeting         59400 non-null  float64\n",
      " 8   permit                 59400 non-null  float64\n",
      " 9   extraction_type_class  59400 non-null  object \n",
      " 10  management_group       59400 non-null  object \n",
      " 11  payment_type           59400 non-null  object \n",
      " 12  quality_group          59400 non-null  object \n",
      " 13  quantity_group         59400 non-null  object \n",
      " 14  source_type            59400 non-null  object \n",
      " 15  source_class           59400 non-null  object \n",
      " 16  waterpoint_type_group  59400 non-null  object \n",
      " 17  status_group           59400 non-null  object \n",
      " 18  age                    59400 non-null  float64\n",
      "dtypes: float64(6), int64(2), object(11)\n",
      "memory usage: 11.6+ MB\n"
     ]
    },
    {
     "data": {
      "text/plain": [
       "(Index(['id', 'gps_height', 'basin', 'region_code', 'district_code', 'lga',\n",
       "        'population', 'public_meeting', 'permit', 'extraction_type_class',\n",
       "        'management_group', 'payment_type', 'quality_group', 'quantity_group',\n",
       "        'source_type', 'source_class', 'waterpoint_type_group', 'status_group',\n",
       "        'age'],\n",
       "       dtype='object'),\n",
       " None)"
      ]
     },
     "execution_count": 677,
     "metadata": {},
     "output_type": "execute_result"
    }
   ],
   "source": [
    "df_concise.columns, df_concise.info()"
   ]
  },
  {
   "cell_type": "code",
   "execution_count": 678,
   "metadata": {},
   "outputs": [
    {
     "data": {
      "image/png": "[encoded data removed]",
      "text/plain": [
       "<Figure size 720x432 with 1 Axes>"
      ]
     },
     "metadata": {
      "needs_background": "light"
     },
     "output_type": "display_data"
    }
   ],
   "source": [
    "# Plotting box plots for each column\n",
    "plt.figure(figsize=(10, 6))\n",
    "sns.boxplot(data=df_concise.iloc[:,1:])\n",
    "plt.title('Box plots of Selected Columns')\n",
    "plt.xlabel('Features')\n",
    "plt.ylabel('Values')\n",
    "plt.xticks(rotation=45)\n",
    "plt.show()"
   ]
  },
  {
   "cell_type": "markdown",
   "metadata": {},
   "source": [
    "### Removing outliers of pop, IMP..."
   ]
  },
  {
   "cell_type": "code",
   "execution_count": 679,
   "metadata": {},
   "outputs": [
    {
     "data": {
      "text/html": [
       "<div>\n",
       "<style scoped>\n",
       "    .dataframe tbody tr th:only-of-type {\n",
       "        vertical-align: middle;\n",
       "    }\n",
       "\n",
       "    .dataframe tbody tr th {\n",
       "        vertical-align: top;\n",
       "    }\n",
       "\n",
       "    .dataframe thead th {\n",
       "        text-align: right;\n",
       "    }\n",
       "</style>\n",
       "<table border=\"1\" class=\"dataframe\">\n",
       "  <thead>\n",
       "    <tr style=\"text-align: right;\">\n",
       "      <th></th>\n",
       "      <th>id</th>\n",
       "      <th>gps_height</th>\n",
       "      <th>region_code</th>\n",
       "      <th>district_code</th>\n",
       "      <th>population</th>\n",
       "      <th>public_meeting</th>\n",
       "      <th>permit</th>\n",
       "      <th>age</th>\n",
       "    </tr>\n",
       "  </thead>\n",
       "  <tbody>\n",
       "    <tr>\n",
       "      <th>count</th>\n",
       "      <td>59400.000000</td>\n",
       "      <td>59400.000000</td>\n",
       "      <td>59400.000000</td>\n",
       "      <td>59400.000000</td>\n",
       "      <td>59400.000000</td>\n",
       "      <td>59400.000000</td>\n",
       "      <td>59400.000000</td>\n",
       "      <td>59400.000000</td>\n",
       "    </tr>\n",
       "    <tr>\n",
       "      <th>mean</th>\n",
       "      <td>37115.131768</td>\n",
       "      <td>1069.831684</td>\n",
       "      <td>15.297003</td>\n",
       "      <td>5.630135</td>\n",
       "      <td>240.880101</td>\n",
       "      <td>0.914899</td>\n",
       "      <td>0.705522</td>\n",
       "      <td>26.074798</td>\n",
       "    </tr>\n",
       "    <tr>\n",
       "      <th>std</th>\n",
       "      <td>21453.128371</td>\n",
       "      <td>501.077319</td>\n",
       "      <td>17.587406</td>\n",
       "      <td>9.633442</td>\n",
       "      <td>452.950368</td>\n",
       "      <td>0.279034</td>\n",
       "      <td>0.455812</td>\n",
       "      <td>10.179591</td>\n",
       "    </tr>\n",
       "    <tr>\n",
       "      <th>min</th>\n",
       "      <td>0.000000</td>\n",
       "      <td>-90.000000</td>\n",
       "      <td>1.000000</td>\n",
       "      <td>1.000000</td>\n",
       "      <td>2.000000</td>\n",
       "      <td>0.000000</td>\n",
       "      <td>0.000000</td>\n",
       "      <td>11.000000</td>\n",
       "    </tr>\n",
       "    <tr>\n",
       "      <th>25%</th>\n",
       "      <td>18519.750000</td>\n",
       "      <td>903.000000</td>\n",
       "      <td>5.000000</td>\n",
       "      <td>2.000000</td>\n",
       "      <td>100.000000</td>\n",
       "      <td>1.000000</td>\n",
       "      <td>0.000000</td>\n",
       "      <td>20.000000</td>\n",
       "    </tr>\n",
       "    <tr>\n",
       "      <th>50%</th>\n",
       "      <td>37061.500000</td>\n",
       "      <td>1167.000000</td>\n",
       "      <td>12.000000</td>\n",
       "      <td>3.000000</td>\n",
       "      <td>150.000000</td>\n",
       "      <td>1.000000</td>\n",
       "      <td>1.000000</td>\n",
       "      <td>24.000000</td>\n",
       "    </tr>\n",
       "    <tr>\n",
       "      <th>75%</th>\n",
       "      <td>55656.500000</td>\n",
       "      <td>1319.250000</td>\n",
       "      <td>17.000000</td>\n",
       "      <td>5.000000</td>\n",
       "      <td>215.000000</td>\n",
       "      <td>1.000000</td>\n",
       "      <td>1.000000</td>\n",
       "      <td>28.000000</td>\n",
       "    </tr>\n",
       "    <tr>\n",
       "      <th>max</th>\n",
       "      <td>74247.000000</td>\n",
       "      <td>2770.000000</td>\n",
       "      <td>99.000000</td>\n",
       "      <td>80.000000</td>\n",
       "      <td>30500.000000</td>\n",
       "      <td>1.000000</td>\n",
       "      <td>1.000000</td>\n",
       "      <td>64.000000</td>\n",
       "    </tr>\n",
       "  </tbody>\n",
       "</table>\n",
       "</div>"
      ],
      "text/plain": [
       "                 id    gps_height   region_code  district_code    population  \\\n",
       "count  59400.000000  59400.000000  59400.000000   59400.000000  59400.000000   \n",
       "mean   37115.131768   1069.831684     15.297003       5.630135    240.880101   \n",
       "std    21453.128371    501.077319     17.587406       9.633442    452.950368   \n",
       "min        0.000000    -90.000000      1.000000       1.000000      2.000000   \n",
       "25%    18519.750000    903.000000      5.000000       2.000000    100.000000   \n",
       "50%    37061.500000   1167.000000     12.000000       3.000000    150.000000   \n",
       "75%    55656.500000   1319.250000     17.000000       5.000000    215.000000   \n",
       "max    74247.000000   2770.000000     99.000000      80.000000  30500.000000   \n",
       "\n",
       "       public_meeting        permit           age  \n",
       "count    59400.000000  59400.000000  59400.000000  \n",
       "mean         0.914899      0.705522     26.074798  \n",
       "std          0.279034      0.455812     10.179591  \n",
       "min          0.000000      0.000000     11.000000  \n",
       "25%          1.000000      0.000000     20.000000  \n",
       "50%          1.000000      1.000000     24.000000  \n",
       "75%          1.000000      1.000000     28.000000  \n",
       "max          1.000000      1.000000     64.000000  "
      ]
     },
     "execution_count": 679,
     "metadata": {},
     "output_type": "execute_result"
    }
   ],
   "source": [
    "df_concise.describe()"
   ]
  },
  {
   "cell_type": "code",
   "execution_count": 680,
   "metadata": {},
   "outputs": [],
   "source": [
    "df_selected_outliers = df_concise[['population']]\n",
    "\n",
    "\n",
    "# Calculate IQR for selected columns\n",
    "Q1 = df_selected_outliers.quantile(0.25)\n",
    "Q3 = df_selected_outliers.quantile(0.75)\n",
    "IQR = Q3 - Q1\n",
    "\n",
    "# Define outlier boundaries\n",
    "lower_bound = Q1 - 1.5 * IQR\n",
    "upper_bound = Q3 + 1.5 * IQR\n",
    "\n",
    "# Find outliers\n",
    "outliers = ((df_selected_outliers< lower_bound) | (df_selected_outliers > upper_bound)).any(axis=1)\n",
    "\n",
    "# Print indices of outliers\n",
    "outlier_indices = df.index[outliers]"
   ]
  },
  {
   "cell_type": "code",
   "execution_count": 681,
   "metadata": {},
   "outputs": [
    {
     "name": "stdout",
     "output_type": "stream",
     "text": [
      "<class 'pandas.core.frame.DataFrame'>\n",
      "Int64Index: 59400 entries, 0 to 59399\n",
      "Data columns (total 19 columns):\n",
      " #   Column                 Non-Null Count  Dtype  \n",
      "---  ------                 --------------  -----  \n",
      " 0   id                     59400 non-null  int64  \n",
      " 1   gps_height             59400 non-null  float64\n",
      " 2   basin                  59400 non-null  object \n",
      " 3   region_code            59400 non-null  int64  \n",
      " 4   district_code          59400 non-null  float64\n",
      " 5   lga                    59400 non-null  object \n",
      " 6   population             59400 non-null  float64\n",
      " 7   public_meeting         59400 non-null  float64\n",
      " 8   permit                 59400 non-null  float64\n",
      " 9   extraction_type_class  59400 non-null  object \n",
      " 10  management_group       59400 non-null  object \n",
      " 11  payment_type           59400 non-null  object \n",
      " 12  quality_group          59400 non-null  object \n",
      " 13  quantity_group         59400 non-null  object \n",
      " 14  source_type            59400 non-null  object \n",
      " 15  source_class           59400 non-null  object \n",
      " 16  waterpoint_type_group  59400 non-null  object \n",
      " 17  status_group           59400 non-null  object \n",
      " 18  age                    59400 non-null  float64\n",
      "dtypes: float64(6), int64(2), object(11)\n",
      "memory usage: 11.6+ MB\n",
      "<class 'pandas.core.frame.DataFrame'>\n",
      "Int64Index: 51718 entries, 0 to 59399\n",
      "Data columns (total 19 columns):\n",
      " #   Column                 Non-Null Count  Dtype  \n",
      "---  ------                 --------------  -----  \n",
      " 0   id                     51718 non-null  int64  \n",
      " 1   gps_height             51718 non-null  float64\n",
      " 2   basin                  51718 non-null  object \n",
      " 3   region_code            51718 non-null  int64  \n",
      " 4   district_code          51718 non-null  float64\n",
      " 5   lga                    51718 non-null  object \n",
      " 6   population             51718 non-null  float64\n",
      " 7   public_meeting         51718 non-null  float64\n",
      " 8   permit                 51718 non-null  float64\n",
      " 9   extraction_type_class  51718 non-null  object \n",
      " 10  management_group       51718 non-null  object \n",
      " 11  payment_type           51718 non-null  object \n",
      " 12  quality_group          51718 non-null  object \n",
      " 13  quantity_group         51718 non-null  object \n",
      " 14  source_type            51718 non-null  object \n",
      " 15  source_class           51718 non-null  object \n",
      " 16  waterpoint_type_group  51718 non-null  object \n",
      " 17  status_group           51718 non-null  object \n",
      " 18  age                    51718 non-null  float64\n",
      "dtypes: float64(6), int64(2), object(11)\n",
      "memory usage: 7.9+ MB\n"
     ]
    },
    {
     "data": {
      "text/plain": [
       "(None, None)"
      ]
     },
     "execution_count": 681,
     "metadata": {},
     "output_type": "execute_result"
    }
   ],
   "source": [
    "# droping all rows with outliers \n",
    "df_concise_without_outliers = df_concise.drop(outlier_indices)\n",
    "df_concise.info(),df_concise_without_outliers.info()"
   ]
  },
  {
   "cell_type": "markdown",
   "metadata": {},
   "source": [
    "Now we have clean data"
   ]
  },
  {
   "cell_type": "markdown",
   "metadata": {},
   "source": [
    "# Data Preprocessing"
   ]
  },
  {
   "cell_type": "markdown",
   "metadata": {},
   "source": [
    "## Declaring Target and Features\n"
   ]
  },
  {
   "cell_type": "code",
   "execution_count": 682,
   "metadata": {},
   "outputs": [
    {
     "data": {
      "text/plain": [
       "Index(['id', 'gps_height', 'basin', 'region_code', 'district_code', 'lga',\n",
       "       'population', 'public_meeting', 'permit', 'extraction_type_class',\n",
       "       'management_group', 'payment_type', 'quality_group', 'quantity_group',\n",
       "       'source_type', 'source_class', 'waterpoint_type_group', 'status_group',\n",
       "       'age'],\n",
       "      dtype='object')"
      ]
     },
     "execution_count": 682,
     "metadata": {},
     "output_type": "execute_result"
    }
   ],
   "source": [
    "df_concise.columns"
   ]
  },
  {
   "cell_type": "code",
   "execution_count": 683,
   "metadata": {},
   "outputs": [],
   "source": [
    "X_1 = df_concise.drop(['status_group', 'id'], axis=1)\n",
    "X_2 = df_concise_without_outliers.drop(['status_group','id'], axis=1)\n",
    "\n",
    "y_1 = df_concise['status_group']\n",
    "y_2 = df_concise_without_outliers['status_group']\n"
   ]
  },
  {
   "cell_type": "code",
   "execution_count": 684,
   "metadata": {},
   "outputs": [],
   "source": [
    "# saving the ID's for prediction later\n",
    "ids_with_outliers = df_concise['id']\n",
    "ids_without_outliers = df_concise_without_outliers['id']"
   ]
  },
  {
   "cell_type": "markdown",
   "metadata": {},
   "source": [
    "### Expound on the meanings of 1 and 2"
   ]
  },
  {
   "cell_type": "markdown",
   "metadata": {},
   "source": [
    "**Split data into separate training and test set** "
   ]
  },
  {
   "cell_type": "code",
   "execution_count": 685,
   "metadata": {},
   "outputs": [],
   "source": [
    "# split X and y into training and testing sets\n",
    "#dataset with outliers\n",
    "X_train_1, X_test_1, y_train_1, y_test_1 = train_test_split(X_1, y_1, test_size = 0.2, random_state = 42)\n",
    "\n",
    "#dataset without outliers\n",
    "X_train_2, X_test_2, y_train_2, y_test_2 = train_test_split(X_2, y_2, test_size = 0.2, random_state = 42)\n"
   ]
  },
  {
   "cell_type": "code",
   "execution_count": 686,
   "metadata": {},
   "outputs": [
    {
     "data": {
      "text/plain": [
       "((47520, 17), (11880, 17), (41374, 17), (10344, 17))"
      ]
     },
     "execution_count": 686,
     "metadata": {},
     "output_type": "execute_result"
    }
   ],
   "source": [
    "# check the shapes of X_train and X_test\n",
    "\n",
    "X_train_1.shape, X_test_1.shape,     X_train_2.shape, X_test_2.shape"
   ]
  },
  {
   "cell_type": "code",
   "execution_count": null,
   "metadata": {},
   "outputs": [],
   "source": []
  },
  {
   "cell_type": "markdown",
   "metadata": {},
   "source": [
    "## Dealing with Categorical Varibles"
   ]
  },
  {
   "cell_type": "code",
   "execution_count": 687,
   "metadata": {},
   "outputs": [
    {
     "name": "stdout",
     "output_type": "stream",
     "text": [
      "<class 'pandas.core.frame.DataFrame'>\n",
      "Int64Index: 41374 entries, 15616 to 18124\n",
      "Data columns (total 17 columns):\n",
      " #   Column                 Non-Null Count  Dtype  \n",
      "---  ------                 --------------  -----  \n",
      " 0   gps_height             41374 non-null  float64\n",
      " 1   basin                  41374 non-null  object \n",
      " 2   region_code            41374 non-null  int64  \n",
      " 3   district_code          41374 non-null  float64\n",
      " 4   lga                    41374 non-null  object \n",
      " 5   population             41374 non-null  float64\n",
      " 6   public_meeting         41374 non-null  float64\n",
      " 7   permit                 41374 non-null  float64\n",
      " 8   extraction_type_class  41374 non-null  object \n",
      " 9   management_group       41374 non-null  object \n",
      " 10  payment_type           41374 non-null  object \n",
      " 11  quality_group          41374 non-null  object \n",
      " 12  quantity_group         41374 non-null  object \n",
      " 13  source_type            41374 non-null  object \n",
      " 14  source_class           41374 non-null  object \n",
      " 15  waterpoint_type_group  41374 non-null  object \n",
      " 16  age                    41374 non-null  float64\n",
      "dtypes: float64(6), int64(1), object(10)\n",
      "memory usage: 5.7+ MB\n"
     ]
    },
    {
     "data": {
      "text/plain": [
       "(Index(['gps_height', 'basin', 'region_code', 'district_code', 'lga',\n",
       "        'population', 'public_meeting', 'permit', 'extraction_type_class',\n",
       "        'management_group', 'payment_type', 'quality_group', 'quantity_group',\n",
       "        'source_type', 'source_class', 'waterpoint_type_group', 'age'],\n",
       "       dtype='object'),\n",
       " None)"
      ]
     },
     "execution_count": 687,
     "metadata": {},
     "output_type": "execute_result"
    }
   ],
   "source": [
    "X_train_1.columns, X_train_2.info()"
   ]
  },
  {
   "cell_type": "markdown",
   "metadata": {},
   "source": [
    "selecting all Categorical variables "
   ]
  },
  {
   "cell_type": "code",
   "execution_count": 688,
   "metadata": {},
   "outputs": [
    {
     "data": {
      "text/html": [
       "<div>\n",
       "<style scoped>\n",
       "    .dataframe tbody tr th:only-of-type {\n",
       "        vertical-align: middle;\n",
       "    }\n",
       "\n",
       "    .dataframe tbody tr th {\n",
       "        vertical-align: top;\n",
       "    }\n",
       "\n",
       "    .dataframe thead th {\n",
       "        text-align: right;\n",
       "    }\n",
       "</style>\n",
       "<table border=\"1\" class=\"dataframe\">\n",
       "  <thead>\n",
       "    <tr style=\"text-align: right;\">\n",
       "      <th></th>\n",
       "      <th>basin</th>\n",
       "      <th>region_code</th>\n",
       "      <th>district_code</th>\n",
       "      <th>lga</th>\n",
       "      <th>extraction_type_class</th>\n",
       "      <th>management_group</th>\n",
       "      <th>payment_type</th>\n",
       "      <th>quality_group</th>\n",
       "      <th>quantity_group</th>\n",
       "      <th>source_type</th>\n",
       "      <th>source_class</th>\n",
       "      <th>waterpoint_type_group</th>\n",
       "    </tr>\n",
       "  </thead>\n",
       "  <tbody>\n",
       "    <tr>\n",
       "      <th>3607</th>\n",
       "      <td>Internal</td>\n",
       "      <td>21</td>\n",
       "      <td>1.0</td>\n",
       "      <td>Babati</td>\n",
       "      <td>gravity</td>\n",
       "      <td>user-group</td>\n",
       "      <td>per bucket</td>\n",
       "      <td>good</td>\n",
       "      <td>insufficient</td>\n",
       "      <td>spring</td>\n",
       "      <td>groundwater</td>\n",
       "      <td>communal standpipe</td>\n",
       "    </tr>\n",
       "    <tr>\n",
       "      <th>50870</th>\n",
       "      <td>Internal</td>\n",
       "      <td>1</td>\n",
       "      <td>6.0</td>\n",
       "      <td>Bahi</td>\n",
       "      <td>handpump</td>\n",
       "      <td>user-group</td>\n",
       "      <td>never pay</td>\n",
       "      <td>good</td>\n",
       "      <td>enough</td>\n",
       "      <td>shallow well</td>\n",
       "      <td>groundwater</td>\n",
       "      <td>hand pump</td>\n",
       "    </tr>\n",
       "    <tr>\n",
       "      <th>20413</th>\n",
       "      <td>Lake Rukwa</td>\n",
       "      <td>12</td>\n",
       "      <td>6.0</td>\n",
       "      <td>Mbozi</td>\n",
       "      <td>other</td>\n",
       "      <td>user-group</td>\n",
       "      <td>never pay</td>\n",
       "      <td>good</td>\n",
       "      <td>enough</td>\n",
       "      <td>shallow well</td>\n",
       "      <td>groundwater</td>\n",
       "      <td>other</td>\n",
       "    </tr>\n",
       "    <tr>\n",
       "      <th>52806</th>\n",
       "      <td>Rufiji</td>\n",
       "      <td>12</td>\n",
       "      <td>7.0</td>\n",
       "      <td>Mbarali</td>\n",
       "      <td>gravity</td>\n",
       "      <td>user-group</td>\n",
       "      <td>monthly</td>\n",
       "      <td>good</td>\n",
       "      <td>insufficient</td>\n",
       "      <td>river/lake</td>\n",
       "      <td>surface</td>\n",
       "      <td>communal standpipe</td>\n",
       "    </tr>\n",
       "    <tr>\n",
       "      <th>50091</th>\n",
       "      <td>Wami / Ruvu</td>\n",
       "      <td>5</td>\n",
       "      <td>1.0</td>\n",
       "      <td>Kilosa</td>\n",
       "      <td>other</td>\n",
       "      <td>user-group</td>\n",
       "      <td>on failure</td>\n",
       "      <td>salty</td>\n",
       "      <td>enough</td>\n",
       "      <td>shallow well</td>\n",
       "      <td>groundwater</td>\n",
       "      <td>other</td>\n",
       "    </tr>\n",
       "  </tbody>\n",
       "</table>\n",
       "</div>"
      ],
      "text/plain": [
       "             basin  region_code  district_code      lga extraction_type_class  \\\n",
       "3607      Internal           21            1.0   Babati               gravity   \n",
       "50870     Internal            1            6.0     Bahi              handpump   \n",
       "20413   Lake Rukwa           12            6.0    Mbozi                 other   \n",
       "52806       Rufiji           12            7.0  Mbarali               gravity   \n",
       "50091  Wami / Ruvu            5            1.0   Kilosa                 other   \n",
       "\n",
       "      management_group payment_type quality_group quantity_group  \\\n",
       "3607        user-group   per bucket          good   insufficient   \n",
       "50870       user-group    never pay          good         enough   \n",
       "20413       user-group    never pay          good         enough   \n",
       "52806       user-group      monthly          good   insufficient   \n",
       "50091       user-group   on failure         salty         enough   \n",
       "\n",
       "        source_type source_class waterpoint_type_group  \n",
       "3607         spring  groundwater    communal standpipe  \n",
       "50870  shallow well  groundwater             hand pump  \n",
       "20413  shallow well  groundwater                 other  \n",
       "52806    river/lake      surface    communal standpipe  \n",
       "50091  shallow well  groundwater                 other  "
      ]
     },
     "execution_count": 688,
     "metadata": {},
     "output_type": "execute_result"
    }
   ],
   "source": [
    "\n",
    "X_train_1_categorical = X_train_1[['basin','region_code','district_code','lga',\n",
    "                                  'extraction_type_class','management_group','payment_type', 'quality_group',\n",
    "                                  'quantity_group', 'source_type','source_class','waterpoint_type_group']]\n",
    "X_train_2_categorical =  X_train_2[['basin','region_code','district_code','lga',\n",
    "                                  'extraction_type_class','management_group','payment_type', 'quality_group',\n",
    "                                  'quantity_group', 'source_type','source_class','waterpoint_type_group']]\n",
    "\n",
    "X_train_1_categorical.head()"
   ]
  },
  {
   "cell_type": "markdown",
   "metadata": {},
   "source": [
    "we shall add `permit` and `public_meeting` later during scaling since they are numerical "
   ]
  },
  {
   "cell_type": "code",
   "execution_count": 689,
   "metadata": {},
   "outputs": [
    {
     "data": {
      "text/plain": [
       "True"
      ]
     },
     "execution_count": 689,
     "metadata": {},
     "output_type": "execute_result"
    }
   ],
   "source": [
    "len(X_train_1_categorical.columns)==len(X_train_2_categorical.columns)"
   ]
  },
  {
   "cell_type": "markdown",
   "metadata": {},
   "source": [
    "## One Hot Encoding"
   ]
  },
  {
   "cell_type": "code",
   "execution_count": 690,
   "metadata": {},
   "outputs": [],
   "source": [
    "ohe = OneHotEncoder(handle_unknown=\"ignore\",drop='first')"
   ]
  },
  {
   "cell_type": "code",
   "execution_count": 691,
   "metadata": {},
   "outputs": [
    {
     "data": {
      "text/plain": [
       "(47520, 214)"
      ]
     },
     "execution_count": 691,
     "metadata": {},
     "output_type": "execute_result"
    }
   ],
   "source": [
    "\n",
    "\n",
    "X_train_categorical_ohe = ohe.fit_transform(X_train_1_categorical).toarray()\n",
    "\n",
    "X_train_1_encoded_categorical = pd.DataFrame(\n",
    "    X_train_categorical_ohe,\n",
    "    columns=ohe.get_feature_names_out(X_train_1_categorical.columns)\n",
    ")\n",
    "X_train_1_encoded_categorical.shape"
   ]
  },
  {
   "cell_type": "code",
   "execution_count": 692,
   "metadata": {},
   "outputs": [
    {
     "data": {
      "text/plain": [
       "(41374, 213)"
      ]
     },
     "execution_count": 692,
     "metadata": {},
     "output_type": "execute_result"
    }
   ],
   "source": [
    "\n",
    "X_train_2_categorical_ohe = ohe.fit_transform(X_train_2_categorical).toarray()\n",
    "\n",
    "X_train_2_encoded_categorical = pd.DataFrame(\n",
    "    X_train_2_categorical_ohe,\n",
    "    columns=ohe.get_feature_names_out(X_train_2_categorical.columns)\n",
    ")\n",
    "X_train_2_encoded_categorical.shape"
   ]
  },
  {
   "cell_type": "markdown",
   "metadata": {},
   "source": [
    "As can be seen above some columns in the dataset without outliers have some missing columns, we shall look for the missing column and add it to the dataset 2 "
   ]
  },
  {
   "cell_type": "code",
   "execution_count": 693,
   "metadata": {},
   "outputs": [
    {
     "data": {
      "text/plain": [
       "(41374, 214)"
      ]
     },
     "execution_count": 693,
     "metadata": {},
     "output_type": "execute_result"
    }
   ],
   "source": [
    "#identify missing columns\n",
    "missing_columns = set(X_train_1_encoded_categorical.columns) - set(X_train_2_encoded_categorical.columns)\n",
    "\n",
    "#add column\n",
    "for col in missing_columns:\n",
    "     X_train_2_encoded_categorical[col]= 0\n",
    "\n",
    "#check shape\n",
    "X_train_2_encoded_categorical.shape\n",
    "\n",
    "\n"
   ]
  },
  {
   "cell_type": "markdown",
   "metadata": {},
   "source": [
    " **11. Feature Scaling**"
   ]
  },
  {
   "cell_type": "markdown",
   "metadata": {},
   "source": [
    "We now have training and testing set ready for model building. Before that, we should map all the feature variables onto the same scale. It is called `feature scaling`. I will do it as follows."
   ]
  },
  {
   "cell_type": "markdown",
   "metadata": {},
   "source": [
    "selecting all Categorical variables "
   ]
  },
  {
   "cell_type": "code",
   "execution_count": 694,
   "metadata": {},
   "outputs": [
    {
     "data": {
      "text/html": [
       "<div>\n",
       "<style scoped>\n",
       "    .dataframe tbody tr th:only-of-type {\n",
       "        vertical-align: middle;\n",
       "    }\n",
       "\n",
       "    .dataframe tbody tr th {\n",
       "        vertical-align: top;\n",
       "    }\n",
       "\n",
       "    .dataframe thead th {\n",
       "        text-align: right;\n",
       "    }\n",
       "</style>\n",
       "<table border=\"1\" class=\"dataframe\">\n",
       "  <thead>\n",
       "    <tr style=\"text-align: right;\">\n",
       "      <th></th>\n",
       "      <th>gps_height</th>\n",
       "      <th>population</th>\n",
       "      <th>age</th>\n",
       "      <th>permit</th>\n",
       "      <th>public_meeting</th>\n",
       "    </tr>\n",
       "  </thead>\n",
       "  <tbody>\n",
       "    <tr>\n",
       "      <th>3607</th>\n",
       "      <td>2092.0</td>\n",
       "      <td>160.0</td>\n",
       "      <td>26.0</td>\n",
       "      <td>1.0</td>\n",
       "      <td>1.0</td>\n",
       "    </tr>\n",
       "    <tr>\n",
       "      <th>50870</th>\n",
       "      <td>1167.0</td>\n",
       "      <td>150.0</td>\n",
       "      <td>24.0</td>\n",
       "      <td>1.0</td>\n",
       "      <td>1.0</td>\n",
       "    </tr>\n",
       "    <tr>\n",
       "      <th>20413</th>\n",
       "      <td>1167.0</td>\n",
       "      <td>150.0</td>\n",
       "      <td>24.0</td>\n",
       "      <td>0.0</td>\n",
       "      <td>1.0</td>\n",
       "    </tr>\n",
       "    <tr>\n",
       "      <th>52806</th>\n",
       "      <td>1167.0</td>\n",
       "      <td>150.0</td>\n",
       "      <td>24.0</td>\n",
       "      <td>1.0</td>\n",
       "      <td>1.0</td>\n",
       "    </tr>\n",
       "    <tr>\n",
       "      <th>50091</th>\n",
       "      <td>1023.0</td>\n",
       "      <td>120.0</td>\n",
       "      <td>27.0</td>\n",
       "      <td>1.0</td>\n",
       "      <td>1.0</td>\n",
       "    </tr>\n",
       "  </tbody>\n",
       "</table>\n",
       "</div>"
      ],
      "text/plain": [
       "       gps_height  population   age  permit  public_meeting\n",
       "3607       2092.0       160.0  26.0     1.0             1.0\n",
       "50870      1167.0       150.0  24.0     1.0             1.0\n",
       "20413      1167.0       150.0  24.0     0.0             1.0\n",
       "52806      1167.0       150.0  24.0     1.0             1.0\n",
       "50091      1023.0       120.0  27.0     1.0             1.0"
      ]
     },
     "execution_count": 694,
     "metadata": {},
     "output_type": "execute_result"
    }
   ],
   "source": [
    "['gps_height','population','age']\n",
    "X_train_1_numerical = X_train_1[['gps_height','population','age','permit','public_meeting']]\n",
    "X_train_2_numerical =  X_train_2[['gps_height','population','age','permit','public_meeting']]\n",
    "\n",
    "X_train_1_numerical.head()"
   ]
  },
  {
   "cell_type": "markdown",
   "metadata": {},
   "source": []
  },
  {
   "cell_type": "code",
   "execution_count": null,
   "metadata": {},
   "outputs": [],
   "source": []
  },
  {
   "cell_type": "markdown",
   "metadata": {},
   "source": [
    "MinMax Scaling\n"
   ]
  },
  {
   "cell_type": "code",
   "execution_count": 695,
   "metadata": {},
   "outputs": [],
   "source": [
    "scaler = MinMaxScaler()"
   ]
  },
  {
   "cell_type": "code",
   "execution_count": 696,
   "metadata": {},
   "outputs": [
    {
     "data": {
      "text/html": [
       "<div>\n",
       "<style scoped>\n",
       "    .dataframe tbody tr th:only-of-type {\n",
       "        vertical-align: middle;\n",
       "    }\n",
       "\n",
       "    .dataframe tbody tr th {\n",
       "        vertical-align: top;\n",
       "    }\n",
       "\n",
       "    .dataframe thead th {\n",
       "        text-align: right;\n",
       "    }\n",
       "</style>\n",
       "<table border=\"1\" class=\"dataframe\">\n",
       "  <thead>\n",
       "    <tr style=\"text-align: right;\">\n",
       "      <th></th>\n",
       "      <th>gps_height</th>\n",
       "      <th>population</th>\n",
       "      <th>age</th>\n",
       "      <th>permit</th>\n",
       "      <th>public_meeting</th>\n",
       "    </tr>\n",
       "  </thead>\n",
       "  <tbody>\n",
       "    <tr>\n",
       "      <th>3607</th>\n",
       "      <td>0.760678</td>\n",
       "      <td>0.005181</td>\n",
       "      <td>0.283019</td>\n",
       "      <td>1.0</td>\n",
       "      <td>1.0</td>\n",
       "    </tr>\n",
       "    <tr>\n",
       "      <th>50870</th>\n",
       "      <td>0.434169</td>\n",
       "      <td>0.004853</td>\n",
       "      <td>0.245283</td>\n",
       "      <td>1.0</td>\n",
       "      <td>1.0</td>\n",
       "    </tr>\n",
       "    <tr>\n",
       "      <th>20413</th>\n",
       "      <td>0.434169</td>\n",
       "      <td>0.004853</td>\n",
       "      <td>0.245283</td>\n",
       "      <td>0.0</td>\n",
       "      <td>1.0</td>\n",
       "    </tr>\n",
       "    <tr>\n",
       "      <th>52806</th>\n",
       "      <td>0.434169</td>\n",
       "      <td>0.004853</td>\n",
       "      <td>0.245283</td>\n",
       "      <td>1.0</td>\n",
       "      <td>1.0</td>\n",
       "    </tr>\n",
       "    <tr>\n",
       "      <th>50091</th>\n",
       "      <td>0.383339</td>\n",
       "      <td>0.003869</td>\n",
       "      <td>0.301887</td>\n",
       "      <td>1.0</td>\n",
       "      <td>1.0</td>\n",
       "    </tr>\n",
       "    <tr>\n",
       "      <th>...</th>\n",
       "      <td>...</td>\n",
       "      <td>...</td>\n",
       "      <td>...</td>\n",
       "      <td>...</td>\n",
       "      <td>...</td>\n",
       "    </tr>\n",
       "    <tr>\n",
       "      <th>54343</th>\n",
       "      <td>0.137663</td>\n",
       "      <td>0.008296</td>\n",
       "      <td>0.339623</td>\n",
       "      <td>1.0</td>\n",
       "      <td>1.0</td>\n",
       "    </tr>\n",
       "    <tr>\n",
       "      <th>38158</th>\n",
       "      <td>0.637487</td>\n",
       "      <td>0.001082</td>\n",
       "      <td>0.471698</td>\n",
       "      <td>0.0</td>\n",
       "      <td>1.0</td>\n",
       "    </tr>\n",
       "    <tr>\n",
       "      <th>860</th>\n",
       "      <td>0.017649</td>\n",
       "      <td>0.032723</td>\n",
       "      <td>0.150943</td>\n",
       "      <td>0.0</td>\n",
       "      <td>0.0</td>\n",
       "    </tr>\n",
       "    <tr>\n",
       "      <th>15795</th>\n",
       "      <td>0.434169</td>\n",
       "      <td>0.004853</td>\n",
       "      <td>0.245283</td>\n",
       "      <td>1.0</td>\n",
       "      <td>1.0</td>\n",
       "    </tr>\n",
       "    <tr>\n",
       "      <th>56422</th>\n",
       "      <td>0.477586</td>\n",
       "      <td>0.001902</td>\n",
       "      <td>0.698113</td>\n",
       "      <td>1.0</td>\n",
       "      <td>1.0</td>\n",
       "    </tr>\n",
       "  </tbody>\n",
       "</table>\n",
       "<p>47520 rows × 5 columns</p>\n",
       "</div>"
      ],
      "text/plain": [
       "       gps_height  population       age  permit  public_meeting\n",
       "3607     0.760678    0.005181  0.283019     1.0             1.0\n",
       "50870    0.434169    0.004853  0.245283     1.0             1.0\n",
       "20413    0.434169    0.004853  0.245283     0.0             1.0\n",
       "52806    0.434169    0.004853  0.245283     1.0             1.0\n",
       "50091    0.383339    0.003869  0.301887     1.0             1.0\n",
       "...           ...         ...       ...     ...             ...\n",
       "54343    0.137663    0.008296  0.339623     1.0             1.0\n",
       "38158    0.637487    0.001082  0.471698     0.0             1.0\n",
       "860      0.017649    0.032723  0.150943     0.0             0.0\n",
       "15795    0.434169    0.004853  0.245283     1.0             1.0\n",
       "56422    0.477586    0.001902  0.698113     1.0             1.0\n",
       "\n",
       "[47520 rows x 5 columns]"
      ]
     },
     "execution_count": 696,
     "metadata": {},
     "output_type": "execute_result"
    }
   ],
   "source": [
    "#dataset with outliers\n",
    "scaler.fit(X_train_1_numerical)\n",
    "X_train_1_numeric_scaled = pd.DataFrame(\n",
    "    scaler.transform(X_train_1_numerical),\n",
    "    # index is important to ensure we can concatenate with other columns\n",
    "    index=X_train_1_numerical.index,\n",
    "    columns=X_train_1_numerical.columns\n",
    ")\n",
    "X_train_1_numeric_scaled\n",
    "\n",
    "\n"
   ]
  },
  {
   "cell_type": "code",
   "execution_count": 697,
   "metadata": {},
   "outputs": [
    {
     "data": {
      "text/html": [
       "<div>\n",
       "<style scoped>\n",
       "    .dataframe tbody tr th:only-of-type {\n",
       "        vertical-align: middle;\n",
       "    }\n",
       "\n",
       "    .dataframe tbody tr th {\n",
       "        vertical-align: top;\n",
       "    }\n",
       "\n",
       "    .dataframe thead th {\n",
       "        text-align: right;\n",
       "    }\n",
       "</style>\n",
       "<table border=\"1\" class=\"dataframe\">\n",
       "  <thead>\n",
       "    <tr style=\"text-align: right;\">\n",
       "      <th></th>\n",
       "      <th>gps_height</th>\n",
       "      <th>population</th>\n",
       "      <th>age</th>\n",
       "      <th>permit</th>\n",
       "      <th>public_meeting</th>\n",
       "    </tr>\n",
       "  </thead>\n",
       "  <tbody>\n",
       "    <tr>\n",
       "      <th>15616</th>\n",
       "      <td>0.419696</td>\n",
       "      <td>0.124675</td>\n",
       "      <td>0.547170</td>\n",
       "      <td>1.0</td>\n",
       "      <td>1.0</td>\n",
       "    </tr>\n",
       "    <tr>\n",
       "      <th>11025</th>\n",
       "      <td>0.458172</td>\n",
       "      <td>0.150649</td>\n",
       "      <td>0.018868</td>\n",
       "      <td>1.0</td>\n",
       "      <td>1.0</td>\n",
       "    </tr>\n",
       "    <tr>\n",
       "      <th>10831</th>\n",
       "      <td>0.624073</td>\n",
       "      <td>0.202597</td>\n",
       "      <td>0.075472</td>\n",
       "      <td>0.0</td>\n",
       "      <td>1.0</td>\n",
       "    </tr>\n",
       "    <tr>\n",
       "      <th>6662</th>\n",
       "      <td>0.522061</td>\n",
       "      <td>0.098701</td>\n",
       "      <td>0.735849</td>\n",
       "      <td>1.0</td>\n",
       "      <td>0.0</td>\n",
       "    </tr>\n",
       "    <tr>\n",
       "      <th>41180</th>\n",
       "      <td>0.121073</td>\n",
       "      <td>0.670130</td>\n",
       "      <td>0.622642</td>\n",
       "      <td>1.0</td>\n",
       "      <td>1.0</td>\n",
       "    </tr>\n",
       "    <tr>\n",
       "      <th>...</th>\n",
       "      <td>...</td>\n",
       "      <td>...</td>\n",
       "      <td>...</td>\n",
       "      <td>...</td>\n",
       "      <td>...</td>\n",
       "    </tr>\n",
       "    <tr>\n",
       "      <th>12952</th>\n",
       "      <td>0.619132</td>\n",
       "      <td>0.774026</td>\n",
       "      <td>0.245283</td>\n",
       "      <td>1.0</td>\n",
       "      <td>1.0</td>\n",
       "    </tr>\n",
       "    <tr>\n",
       "      <th>51363</th>\n",
       "      <td>0.369926</td>\n",
       "      <td>0.774026</td>\n",
       "      <td>0.660377</td>\n",
       "      <td>1.0</td>\n",
       "      <td>1.0</td>\n",
       "    </tr>\n",
       "    <tr>\n",
       "      <th>43838</th>\n",
       "      <td>0.434169</td>\n",
       "      <td>0.384416</td>\n",
       "      <td>0.245283</td>\n",
       "      <td>1.0</td>\n",
       "      <td>1.0</td>\n",
       "    </tr>\n",
       "    <tr>\n",
       "      <th>981</th>\n",
       "      <td>0.109778</td>\n",
       "      <td>0.514286</td>\n",
       "      <td>0.396226</td>\n",
       "      <td>1.0</td>\n",
       "      <td>1.0</td>\n",
       "    </tr>\n",
       "    <tr>\n",
       "      <th>18124</th>\n",
       "      <td>0.290858</td>\n",
       "      <td>0.903896</td>\n",
       "      <td>0.358491</td>\n",
       "      <td>1.0</td>\n",
       "      <td>1.0</td>\n",
       "    </tr>\n",
       "  </tbody>\n",
       "</table>\n",
       "<p>41374 rows × 5 columns</p>\n",
       "</div>"
      ],
      "text/plain": [
       "       gps_height  population       age  permit  public_meeting\n",
       "15616    0.419696    0.124675  0.547170     1.0             1.0\n",
       "11025    0.458172    0.150649  0.018868     1.0             1.0\n",
       "10831    0.624073    0.202597  0.075472     0.0             1.0\n",
       "6662     0.522061    0.098701  0.735849     1.0             0.0\n",
       "41180    0.121073    0.670130  0.622642     1.0             1.0\n",
       "...           ...         ...       ...     ...             ...\n",
       "12952    0.619132    0.774026  0.245283     1.0             1.0\n",
       "51363    0.369926    0.774026  0.660377     1.0             1.0\n",
       "43838    0.434169    0.384416  0.245283     1.0             1.0\n",
       "981      0.109778    0.514286  0.396226     1.0             1.0\n",
       "18124    0.290858    0.903896  0.358491     1.0             1.0\n",
       "\n",
       "[41374 rows x 5 columns]"
      ]
     },
     "execution_count": 697,
     "metadata": {},
     "output_type": "execute_result"
    }
   ],
   "source": [
    "#dataset without outliers\n",
    "\n",
    "scaler.fit(X_train_2_numerical)\n",
    "X_train_2_numeric_scaled = pd.DataFrame(\n",
    "    scaler.transform(X_train_2_numerical),\n",
    "    # index is important to ensure we can concatenate with other columns\n",
    "    index=X_train_2_numerical.index,\n",
    "    columns=X_train_2_numerical.columns\n",
    ")\n",
    "X_train_2_numeric_scaled"
   ]
  },
  {
   "cell_type": "markdown",
   "metadata": {},
   "source": [
    "## Concatenating onehot encoded and scaled columns"
   ]
  },
  {
   "cell_type": "code",
   "execution_count": 698,
   "metadata": {},
   "outputs": [],
   "source": [
    "# Reset the index of both DataFrames\n",
    "X_train_1_numeric_scaled = X_train_1_numeric_scaled.reset_index(drop=True)\n",
    "X_train_1_encoded_categorical = X_train_1_encoded_categorical.reset_index(drop=True)"
   ]
  },
  {
   "cell_type": "code",
   "execution_count": 699,
   "metadata": {},
   "outputs": [],
   "source": [
    "# Reset the index of both DataFrames\n",
    "X_train_2_numeric_scaled = X_train_2_numeric_scaled.reset_index(drop=True)\n",
    "X_train_2_encoded_categorical = X_train_2_encoded_categorical.reset_index(drop=True)"
   ]
  },
  {
   "cell_type": "code",
   "execution_count": 700,
   "metadata": {},
   "outputs": [],
   "source": [
    "\n",
    "X_train_1_full = pd.concat([X_train_1_encoded_categorical, X_train_1_numeric_scaled], axis=1)\n",
    "X_train_1 = X_train_1_full"
   ]
  },
  {
   "cell_type": "code",
   "execution_count": 701,
   "metadata": {},
   "outputs": [],
   "source": [
    "X_train_2_full = pd.concat([X_train_2_encoded_categorical, X_train_2_numeric_scaled], axis=1)\n",
    "X_train_2 = X_train_2_full"
   ]
  },
  {
   "cell_type": "markdown",
   "metadata": {},
   "source": [
    "## Data Prepreprocessing on the test set"
   ]
  },
  {
   "cell_type": "code",
   "execution_count": 702,
   "metadata": {},
   "outputs": [],
   "source": [
    "\n",
    "X_test_1_categorical = X_test_1[['basin','region_code','district_code','lga',\n",
    "                                  'extraction_type_class','management_group','payment_type', 'quality_group',\n",
    "                                  'quantity_group', 'source_type','source_class','waterpoint_type_group']]\n",
    "X_test_2_categorical =  X_test_2[['basin','region_code','district_code','lga',\n",
    "                                  'extraction_type_class','management_group','payment_type', 'quality_group',\n",
    "                                  'quantity_group', 'source_type','source_class','waterpoint_type_group']]\n",
    "\n",
    "X_test_categorical_ohe = ohe.fit_transform(X_test_1_categorical).toarray()\n",
    "\n",
    "X_test_1_encoded_categorical = pd.DataFrame(\n",
    "    X_test_categorical_ohe,\n",
    "    columns=ohe.get_feature_names_out(X_test_1_categorical.columns)\n",
    ")\n",
    "X_test_1_encoded_categorical\n",
    "\n",
    "\n",
    "# add missing columns, if any\n",
    "\n",
    "#identify missing columns\n",
    "missing_columns = set(X_train_1_encoded_categorical.columns) - set(X_test_1_encoded_categorical.columns)\n",
    "\n",
    "#add column\n",
    "for col in missing_columns:\n",
    "     X_test_1_encoded_categorical[col]= 0\n",
    "\n",
    "#check shape\n",
    "X_test_1_encoded_categorical.shape\n",
    "\n",
    "\n",
    "\n",
    "X_test_2_categorical_ohe = ohe.fit_transform(X_test_2_categorical).toarray()\n",
    "\n",
    "X_test_2_encoded_categorical = pd.DataFrame(\n",
    "    X_test_2_categorical_ohe,\n",
    "    columns=ohe.get_feature_names_out(X_test_2_categorical.columns)\n",
    ")\n",
    "X_test_2_encoded_categorical\n",
    "\n",
    "\n",
    "# add missing columns, if any\n",
    "\n",
    "#identify missing columns\n",
    "missing_columns = set(X_train_1_encoded_categorical.columns) - set(X_test_2_encoded_categorical.columns)\n",
    "\n",
    "#add column\n",
    "for col in missing_columns:\n",
    "     X_test_2_encoded_categorical[col]= 0\n",
    "\n",
    "#check shape\n",
    "X_test_2_encoded_categorical.shape\n",
    "\n",
    "\n",
    "\n",
    "X_test_1_numerical = X_test_1[['gps_height','population','age','permit','public_meeting']]\n",
    "X_test_2_numerical =  X_test_2[['gps_height','population','age','permit','public_meeting']]\n",
    "\n",
    "\n",
    "#dataset with outliers\n",
    "scaler.fit(X_test_1_numerical)\n",
    "X_test_1_numeric_scaled = pd.DataFrame(\n",
    "    scaler.transform(X_test_1_numerical),\n",
    "    # index is important to ensure we can concatenate with other columns\n",
    "    index=X_test_1_numerical.index,\n",
    "    columns=X_test_1_numerical.columns\n",
    ")\n",
    "X_test_1_numeric_scaled\n",
    "\n",
    "\n",
    "#dataset without outliers\n",
    "\n",
    "scaler.fit(X_test_2_numerical)\n",
    "X_test_2_numeric_scaled = pd.DataFrame(\n",
    "    scaler.transform(X_test_2_numerical),\n",
    "    # index is important to ensure we can concatenate with other columns\n",
    "    index=X_test_2_numerical.index,\n",
    "    columns=X_test_2_numerical.columns\n",
    ")\n",
    "X_test_2_numeric_scaled\n",
    "\n",
    "# Reset the index of both DataFrames\n",
    "X_test_1_numeric_scaled = X_test_1_numeric_scaled.reset_index(drop=True)\n",
    "X_test_1_encoded_categorical = X_test_1_encoded_categorical.reset_index(drop=True)\n",
    "\n",
    "# Reset the index of both DataFrames\n",
    "X_test_2_numeric_scaled = X_test_2_numeric_scaled.reset_index(drop=True)\n",
    "X_test_2_encoded_categorical = X_test_2_encoded_categorical.reset_index(drop=True)\n",
    "\n",
    "\n",
    "X_test_1_full = pd.concat([X_test_1_encoded_categorical, X_test_1_numeric_scaled], axis=1)\n",
    "X_test_1 = X_test_1_full\n",
    "\n",
    "X_test_2_full = pd.concat([X_test_2_encoded_categorical, X_test_2_numeric_scaled], axis=1)\n",
    "X_test_2 = X_test_2_full"
   ]
  },
  {
   "cell_type": "code",
   "execution_count": 703,
   "metadata": {},
   "outputs": [
    {
     "data": {
      "text/plain": [
       "functional                 32259\n",
       "non functional             22824\n",
       "functional needs repair     4317\n",
       "Name: status_group, dtype: int64"
      ]
     },
     "execution_count": 703,
     "metadata": {},
     "output_type": "execute_result"
    }
   ],
   "source": [
    "df_concise['status_group'].value_counts()"
   ]
  },
  {
   "cell_type": "markdown",
   "metadata": {},
   "source": [
    "## Encoding the Labels"
   ]
  },
  {
   "cell_type": "code",
   "execution_count": 704,
   "metadata": {},
   "outputs": [],
   "source": [
    "# encoding the labels\n",
    "\n",
    "\n",
    "# Initialize LabelEncoder\n",
    "label_encoder = LabelEncoder()\n",
    "\n",
    "# Fit and transform the training target labels\n",
    "\n",
    "# train dataset\n",
    "y_train_1_encoded = label_encoder.fit_transform(y_train_1)\n",
    "y_train_2_encoded = label_encoder.fit_transform(y_train_2)\n",
    "\n",
    "# test dataset\n",
    "y_test_1_encoded = label_encoder.transform(y_test_1)\n",
    "y_test_2_encoded = label_encoder.transform(y_test_2)\n"
   ]
  },
  {
   "cell_type": "code",
   "execution_count": 705,
   "metadata": {},
   "outputs": [],
   "source": [
    "#convert labels back to series from array\n",
    "\n",
    "# Convert encoded target back to Series\n",
    "#train dataset\n",
    "y_train_1 = pd.Series(y_train_1_encoded, name='Status')\n",
    "y_train_2 = pd.Series(y_train_2_encoded, name='Status')\n",
    "\n",
    "#test dataset\n",
    "y_test_1 = pd.Series(y_test_1_encoded, name='Status')\n",
    "y_test_2 = pd.Series(y_test_2_encoded, name='Status')\n",
    "\n"
   ]
  },
  {
   "cell_type": "code",
   "execution_count": 726,
   "metadata": {},
   "outputs": [
    {
     "name": "stdout",
     "output_type": "stream",
     "text": [
      "['functional' 'functional needs repair' 'non functional']\n"
     ]
    }
   ],
   "source": [
    "print(label_encoder.classes_) "
   ]
  },
  {
   "cell_type": "markdown",
   "metadata": {},
   "source": [
    "Thus \n",
    "\n",
    "0 - functional\n",
    "\n",
    "1 - functional needs repair\n",
    "\n",
    "2 - non functional"
   ]
  },
  {
   "cell_type": "markdown",
   "metadata": {},
   "source": [
    "# **Modeling**"
   ]
  },
  {
   "cell_type": "markdown",
   "metadata": {},
   "source": [
    "before modeling we ensure all train and test feature data frames have the same order of columns"
   ]
  },
  {
   "cell_type": "code",
   "execution_count": 706,
   "metadata": {},
   "outputs": [],
   "source": [
    "columns = X_train_1.columns\n",
    "#reordering all columns for uniformity\n",
    "X_train_2 = X_train_2[columns]\n",
    "X_test_1 = X_test_1[columns]\n",
    "X_test_2 = X_test_2[columns]"
   ]
  },
  {
   "cell_type": "markdown",
   "metadata": {},
   "source": []
  },
  {
   "cell_type": "code",
   "execution_count": 730,
   "metadata": {},
   "outputs": [
    {
     "data": {
      "text/plain": [
       "0    25802\n",
       "2    18252\n",
       "1     3466\n",
       "Name: Status, dtype: int64"
      ]
     },
     "execution_count": 730,
     "metadata": {},
     "output_type": "execute_result"
    }
   ],
   "source": [
    "y_train_1.value_counts()"
   ]
  },
  {
   "cell_type": "code",
   "execution_count": 707,
   "metadata": {},
   "outputs": [
    {
     "data": {
      "text/plain": [
       "0    6457\n",
       "2    4572\n",
       "1     851\n",
       "Name: Status, dtype: int64"
      ]
     },
     "execution_count": 707,
     "metadata": {},
     "output_type": "execute_result"
    }
   ],
   "source": [
    "y_test_1.value_counts()"
   ]
  },
  {
   "cell_type": "code",
   "execution_count": 708,
   "metadata": {},
   "outputs": [
    {
     "data": {
      "text/plain": [
       "0    5632\n",
       "2    4011\n",
       "1     701\n",
       "Name: Status, dtype: int64"
      ]
     },
     "execution_count": 708,
     "metadata": {},
     "output_type": "execute_result"
    }
   ],
   "source": [
    "y_test_2.value_counts()"
   ]
  },
  {
   "cell_type": "markdown",
   "metadata": {},
   "source": [
    "## **Logistic Regression**"
   ]
  },
  {
   "cell_type": "markdown",
   "metadata": {},
   "source": [
    "### I.Baseline model( Default Hyperparameters)"
   ]
  },
  {
   "cell_type": "markdown",
   "metadata": {},
   "source": [
    "### Model with Outliers"
   ]
  },
  {
   "cell_type": "code",
   "execution_count": 709,
   "metadata": {},
   "outputs": [
    {
     "name": "stderr",
     "output_type": "stream",
     "text": [
      "/home/leo/anaconda3/envs/learn-env/lib/python3.8/site-packages/sklearn/linear_model/_logistic.py:460: ConvergenceWarning: lbfgs failed to converge (status=1):\n",
      "STOP: TOTAL NO. of ITERATIONS REACHED LIMIT.\n",
      "\n",
      "Increase the number of iterations (max_iter) or scale the data as shown in:\n",
      "    https://scikit-learn.org/stable/modules/preprocessing.html\n",
      "Please also refer to the documentation for alternative solver options:\n",
      "    https://scikit-learn.org/stable/modules/linear_model.html#logistic-regression\n",
      "  n_iter_i = _check_optimize_result(\n"
     ]
    },
    {
     "data": {
      "image/png": "[encoded data removed]",
      "text/plain": [
       "<Figure size 432x288 with 2 Axes>"
      ]
     },
     "metadata": {
      "needs_background": "light"
     },
     "output_type": "display_data"
    }
   ],
   "source": [
    "# Replace None with appropriate code\n",
    "\n",
    "# Import the relevant class\n",
    "\n",
    "\n",
    "\n",
    "# Instantiate the model\n",
    "logreg = LogisticRegression(random_state= 42)\n",
    "\n",
    "\n",
    "# Fit the model on the scaled data\n",
    "model = logreg.fit(X_train_1, y_train_1)\n",
    "# YOUR CODE HERE\n",
    "#raise NotImplementedError()\n",
    "\n",
    "ConfusionMatrixDisplay.from_estimator(estimator=model, X=X_train_1, y=y_train_1);"
   ]
  },
  {
   "cell_type": "markdown",
   "metadata": {},
   "source": [
    "### 3. Use Cross-Validation to Evaluate the Fitted Model\n",
    "\n",
    "Use `cross_val_score` from scikit-learn ([documentation here](https://scikit-learn.org/stable/modules/generated/sklearn.model_selection.cross_val_score.html)) to evaluate the expected accuracy of the fitted model, prior to using the test data.\n",
    "\n",
    "Use a `cv` of 3 and assign the result to `cv_scores`."
   ]
  },
  {
   "cell_type": "code",
   "execution_count": 710,
   "metadata": {},
   "outputs": [
    {
     "name": "stderr",
     "output_type": "stream",
     "text": [
      "/home/leo/anaconda3/envs/learn-env/lib/python3.8/site-packages/sklearn/linear_model/_logistic.py:460: ConvergenceWarning: lbfgs failed to converge (status=1):\n",
      "STOP: TOTAL NO. of ITERATIONS REACHED LIMIT.\n",
      "\n",
      "Increase the number of iterations (max_iter) or scale the data as shown in:\n",
      "    https://scikit-learn.org/stable/modules/preprocessing.html\n",
      "Please also refer to the documentation for alternative solver options:\n",
      "    https://scikit-learn.org/stable/modules/linear_model.html#logistic-regression\n",
      "  n_iter_i = _check_optimize_result(\n",
      "/home/leo/anaconda3/envs/learn-env/lib/python3.8/site-packages/sklearn/linear_model/_logistic.py:460: ConvergenceWarning: lbfgs failed to converge (status=1):\n",
      "STOP: TOTAL NO. of ITERATIONS REACHED LIMIT.\n",
      "\n",
      "Increase the number of iterations (max_iter) or scale the data as shown in:\n",
      "    https://scikit-learn.org/stable/modules/preprocessing.html\n",
      "Please also refer to the documentation for alternative solver options:\n",
      "    https://scikit-learn.org/stable/modules/linear_model.html#logistic-regression\n",
      "  n_iter_i = _check_optimize_result(\n",
      "/home/leo/anaconda3/envs/learn-env/lib/python3.8/site-packages/sklearn/linear_model/_logistic.py:460: ConvergenceWarning: lbfgs failed to converge (status=1):\n",
      "STOP: TOTAL NO. of ITERATIONS REACHED LIMIT.\n",
      "\n",
      "Increase the number of iterations (max_iter) or scale the data as shown in:\n",
      "    https://scikit-learn.org/stable/modules/preprocessing.html\n",
      "Please also refer to the documentation for alternative solver options:\n",
      "    https://scikit-learn.org/stable/modules/linear_model.html#logistic-regression\n",
      "  n_iter_i = _check_optimize_result(\n"
     ]
    },
    {
     "data": {
      "text/plain": [
       "array([0.7417298 , 0.74494949, 0.74034091])"
      ]
     },
     "execution_count": 710,
     "metadata": {},
     "output_type": "execute_result"
    }
   ],
   "source": [
    "\n",
    "# Import the relevant function\n",
    "\n",
    "\n",
    "# Perform cross-validation\n",
    "cv_scores = cross_val_score(logreg, X_train_1, y_train_1, cv = 3)\n",
    "# YOUR CODE HERE\n",
    "#raise NotImplementedError()\n",
    "cv_scores"
   ]
  },
  {
   "cell_type": "code",
   "execution_count": 711,
   "metadata": {},
   "outputs": [],
   "source": [
    "# Predict\n",
    "y_hat_test = logreg.predict(X_test_1)"
   ]
  },
  {
   "cell_type": "code",
   "execution_count": 712,
   "metadata": {},
   "outputs": [
    {
     "name": "stdout",
     "output_type": "stream",
     "text": [
      "Accuracy: 0.7443602693602693\n",
      "Recall: 0.5533655558111314\n",
      "Precision: 0.6832667462886389\n",
      "F1 Score: 0.5694372409833596\n"
     ]
    }
   ],
   "source": [
    "\n",
    "\n",
    "# Compute the metrics with 'macro' average for multiclass classification\n",
    "model_accuracy = accuracy_score(y_true=y_test_1, y_pred=y_hat_test)\n",
    "model_recall = recall_score(y_true=y_test_1, y_pred=y_hat_test, average='macro')\n",
    "model_precision = precision_score(y_true=y_test_1, y_pred=y_hat_test, average='macro')\n",
    "model_f1 = f1_score(y_true=y_test_1, y_pred=y_hat_test, average='macro')\n",
    "\n",
    "print(\"Accuracy:\", model_accuracy)\n",
    "print(\"Recall:\", model_recall)\n",
    "print(\"Precision:\", model_precision)\n",
    "print(\"F1 Score:\", model_f1)"
   ]
  },
  {
   "cell_type": "code",
   "execution_count": 713,
   "metadata": {},
   "outputs": [
    {
     "name": "stdout",
     "output_type": "stream",
     "text": [
      "\n",
      "Accuracy\n",
      "Fitted Model: 0.744\n",
      "Recall\n",
      "Fitted Model: 0.553\n",
      "Precision\n",
      " Fitted Model: 0.683\n",
      "F1 Score\n",
      " Fitted Model: 0.569\n",
      "\n"
     ]
    }
   ],
   "source": [
    "print(f\"\"\"\n",
    "Accuracy\n",
    "Fitted Model: {model_accuracy:1.3f}\n",
    "Recall\n",
    "Fitted Model: {model_recall:1.3f}\n",
    "Precision\n",
    " Fitted Model: {model_precision:1.3f}\n",
    "F1 Score\n",
    " Fitted Model: {model_f1:1.3f}\n",
    "\"\"\")"
   ]
  },
  {
   "cell_type": "code",
   "execution_count": 714,
   "metadata": {},
   "outputs": [
    {
     "data": {
      "text/plain": [
       "array([2, 0, 0, ..., 2, 0, 0])"
      ]
     },
     "execution_count": 714,
     "metadata": {},
     "output_type": "execute_result"
    }
   ],
   "source": [
    "y_hat_test"
   ]
  },
  {
   "cell_type": "code",
   "execution_count": 715,
   "metadata": {},
   "outputs": [
    {
     "name": "stdout",
     "output_type": "stream",
     "text": [
      "AUC Score 1: 0.8436275531899229\n"
     ]
    }
   ],
   "source": [
    "from sklearn.metrics import roc_auc_score\n",
    "\n",
    "# Predict\n",
    "y_hat_test = logreg.predict_proba(X_test_1)\n",
    "\n",
    "# Calculate AUC score\n",
    "\n",
    "auc_score = roc_auc_score(y_test_1, y_hat_test, multi_class='ovr')\n",
    "y_true\n",
    "print(f'AUC Score 1: {auc_score}')\n",
    "\n",
    "\n",
    "\n"
   ]
  },
  {
   "cell_type": "code",
   "execution_count": 716,
   "metadata": {},
   "outputs": [
    {
     "data": {
      "image/png": "[encoded data removed]",
      "text/plain": [
       "<Figure size 432x288 with 2 Axes>"
      ]
     },
     "metadata": {
      "needs_background": "light"
     },
     "output_type": "display_data"
    }
   ],
   "source": [
    "ConfusionMatrixDisplay.from_estimator(estimator=model, X=X_test_1, y=y_test_1);"
   ]
  },
  {
   "cell_type": "markdown",
   "metadata": {},
   "source": [
    "### Model without Outliers"
   ]
  },
  {
   "cell_type": "code",
   "execution_count": 717,
   "metadata": {},
   "outputs": [
    {
     "name": "stderr",
     "output_type": "stream",
     "text": [
      "/home/leo/anaconda3/envs/learn-env/lib/python3.8/site-packages/sklearn/linear_model/_logistic.py:460: ConvergenceWarning: lbfgs failed to converge (status=1):\n",
      "STOP: TOTAL NO. of ITERATIONS REACHED LIMIT.\n",
      "\n",
      "Increase the number of iterations (max_iter) or scale the data as shown in:\n",
      "    https://scikit-learn.org/stable/modules/preprocessing.html\n",
      "Please also refer to the documentation for alternative solver options:\n",
      "    https://scikit-learn.org/stable/modules/linear_model.html#logistic-regression\n",
      "  n_iter_i = _check_optimize_result(\n"
     ]
    },
    {
     "data": {
      "image/png": "[encoded data removed]",
      "text/plain": [
       "<Figure size 432x288 with 2 Axes>"
      ]
     },
     "metadata": {
      "needs_background": "light"
     },
     "output_type": "display_data"
    }
   ],
   "source": [
    "# Replace None with appropriate code\n",
    "# Instantiate the model\n",
    "logreg = LogisticRegression(random_state= 42)\n",
    "\n",
    "\n",
    "# Fit the model on the scaled data\n",
    "model = logreg.fit(X_train_2, y_train_2)\n",
    "\n",
    "# YOUR CODE HERE\n",
    "#raise NotImplementedError()\n",
    "\n",
    "ConfusionMatrixDisplay.from_estimator(estimator=model, X=X_train_2, y=y_train_2);"
   ]
  },
  {
   "cell_type": "code",
   "execution_count": 718,
   "metadata": {},
   "outputs": [],
   "source": [
    "# Predict\n",
    "y_hat_test = logreg.predict(X_test_2)"
   ]
  },
  {
   "cell_type": "code",
   "execution_count": 719,
   "metadata": {},
   "outputs": [
    {
     "name": "stdout",
     "output_type": "stream",
     "text": [
      "Accuracy: 0.7508700696055685\n",
      "Recall: 0.5477535584809324\n",
      "Precision: 0.6725538145787487\n",
      "F1 Score: 0.5576402229446624\n"
     ]
    }
   ],
   "source": [
    "\n",
    "\n",
    "# Compute the metrics with 'macro' average for multiclass classification\n",
    "model_accuracy = accuracy_score(y_true=y_test_2, y_pred=y_hat_test)\n",
    "model_recall = recall_score(y_true=y_test_2, y_pred=y_hat_test, average='macro')\n",
    "model_precision = precision_score(y_true=y_test_2, y_pred=y_hat_test, average='macro')\n",
    "model_f1 = f1_score(y_true=y_test_2, y_pred=y_hat_test, average='macro')\n",
    "\n",
    "print(\"Accuracy:\", model_accuracy)\n",
    "print(\"Recall:\", model_recall)\n",
    "print(\"Precision:\", model_precision)\n",
    "print(\"F1 Score:\", model_f1)"
   ]
  },
  {
   "cell_type": "code",
   "execution_count": 720,
   "metadata": {},
   "outputs": [
    {
     "name": "stdout",
     "output_type": "stream",
     "text": [
      "AUC Score 1: 0.8510402257756827\n"
     ]
    }
   ],
   "source": [
    "\n",
    "\n",
    "# Predict\n",
    "y_hat_test = logreg.predict_proba(X_test_2)\n",
    "\n",
    "# Calculate AUC score\n",
    "\n",
    "auc_score = roc_auc_score(y_test_2, y_hat_test, multi_class='ovr')\n",
    "y_true\n",
    "print(f'AUC Score 1: {auc_score}')\n"
   ]
  },
  {
   "cell_type": "markdown",
   "metadata": {},
   "source": [
    "## Model Tuning\n",
    "\n",
    "**We shall model with the dataset with outliers to save on space and reduce redundancy**"
   ]
  },
  {
   "cell_type": "markdown",
   "metadata": {},
   "source": [
    "\"\"\"\n",
    "### Model Tuning Introduction\n",
    "\n",
    "In this section, we will focus on tuning our Logistic Regression model to ensure it aligns with the primary goal of our stakeholder, the government of Tanzania. The government aims to efficiently maintain water pumps across the country, ensuring all communities have access to clean, potable water. To achieve this, we need to prioritize certain classification metrics that reflect the importance of correctly identifying faulty water pumps that require maintenance or repair.\n",
    "\n",
    "#### Metrics Prioritization\n",
    "\n",
    "1. **Recall**: \n",
    "   - **Most Important**: Recall is crucial in this context because it measures the model's ability to correctly identify all faulty water pumps. Ensuring high recall means that we are minimizing the chances of missing any pumps that are in need of repair or maintenance. Missing a faulty pump could leave a community without access to water, making recall the top priority.\n",
    "\n",
    "2. **F1 Score**:\n",
    "   - **Second Most Important**: The F1 score provides a balance between precision and recall. While recall is our primary focus, maintaining a reasonable F1 score ensures that precision is not too low, which would otherwise lead to unnecessary maintenance operations. Thus, the F1 score helps in balancing the trade-offs between recall and precision.\n",
    "\n",
    "3. **Precision**:\n",
    "   - **Third Most Important**: Precision is important for managing resources effectively. A high precision indicates that when the model predicts a pump is faulty, it is likely correct. While recall is more critical to avoid missing faulty pumps, a reasonable precision level helps in reducing unnecessary maintenance efforts.\n",
    "\n",
    "4. **AUC (Area Under the ROC Curve)**:\n",
    "   - **Least Important**: AUC is a useful metric for understanding the model's ability to distinguish between classes. However, in the context of efficient maintenance, it is less directly relevant. AUC can be used for model selection and to get an overall sense of the model’s performance but is not as critical as recall or F1 score in this application.\n",
    "\n",
    "5. **Accuracy**:\n",
    "   - **Not Prioritized**: Given the class imbalance (with fewer faulty pumps than functional ones), accuracy is not a very informative metric. A model could achieve high accuracy simply by predicting the majority class (functional pumps) correctly, which does not necessarily align with our objective of identifying faulty pumps.\n",
    "\n",
    "By tuning our model with a focus on these prioritized metrics, we aim to support the government's efforts to carry out efficient and effective maintenance across Tanzania, ensuring all water pumps are functioning and communities have reliable access to water.\n",
    "\"\"\"\n"
   ]
  },
  {
   "cell_type": "markdown",
   "metadata": {},
   "source": [
    "A. Changing value of C"
   ]
  },
  {
   "cell_type": "markdown",
   "metadata": {},
   "source": []
  },
  {
   "cell_type": "code",
   "execution_count": 738,
   "metadata": {},
   "outputs": [
    {
     "name": "stdout",
     "output_type": "stream",
     "text": [
      "Testing with C value: 0.01\n",
      "Macro Recall: 0.5220\n",
      "Macro Precision: 0.6635\n",
      "Macro F1 Score: 0.5206\n",
      "Weighted Recall: 0.7371\n",
      "Weighted Precision: 0.7299\n",
      "Weighted F1 Score: 0.7081\n",
      "----------------------------------------\n",
      "Testing with C value: 0.1\n",
      "Macro Recall: 0.5465\n",
      "Macro Precision: 0.6866\n",
      "Macro F1 Score: 0.5587\n",
      "Weighted Recall: 0.7440\n",
      "Weighted Precision: 0.7385\n",
      "Weighted F1 Score: 0.7218\n",
      "----------------------------------------\n",
      "Testing with C value: 1\n",
      "Macro Recall: 0.5495\n",
      "Macro Precision: 0.6789\n",
      "Macro F1 Score: 0.5639\n",
      "Weighted Recall: 0.7439\n",
      "Weighted Precision: 0.7384\n",
      "Weighted F1 Score: 0.7226\n",
      "----------------------------------------\n",
      "Testing with C value: 10\n"
     ]
    },
    {
     "name": "stderr",
     "output_type": "stream",
     "text": [
      "/home/leo/anaconda3/envs/learn-env/lib/python3.8/site-packages/sklearn/linear_model/_sag.py:350: ConvergenceWarning: The max_iter was reached which means the coef_ did not converge\n",
      "  warnings.warn(\n"
     ]
    },
    {
     "name": "stdout",
     "output_type": "stream",
     "text": [
      "Macro Recall: 0.5525\n",
      "Macro Precision: 0.6770\n",
      "Macro F1 Score: 0.5691\n",
      "Weighted Recall: 0.7431\n",
      "Weighted Precision: 0.7386\n",
      "Weighted F1 Score: 0.7227\n",
      "----------------------------------------\n",
      "Testing with C value: 100\n"
     ]
    },
    {
     "name": "stderr",
     "output_type": "stream",
     "text": [
      "/home/leo/anaconda3/envs/learn-env/lib/python3.8/site-packages/sklearn/linear_model/_sag.py:350: ConvergenceWarning: The max_iter was reached which means the coef_ did not converge\n",
      "  warnings.warn(\n"
     ]
    },
    {
     "name": "stdout",
     "output_type": "stream",
     "text": [
      "Macro Recall: 0.5526\n",
      "Macro Precision: 0.6773\n",
      "Macro F1 Score: 0.5692\n",
      "Weighted Recall: 0.7434\n",
      "Weighted Precision: 0.7390\n",
      "Weighted F1 Score: 0.7230\n",
      "----------------------------------------\n",
      "Testing with C value: 1e12\n",
      "Macro Recall: 0.5528\n",
      "Macro Precision: 0.6779\n",
      "Macro F1 Score: 0.5695\n",
      "Weighted Recall: 0.7438\n",
      "Weighted Precision: 0.7396\n",
      "Weighted F1 Score: 0.7233\n",
      "----------------------------------------\n"
     ]
    },
    {
     "name": "stderr",
     "output_type": "stream",
     "text": [
      "/home/leo/anaconda3/envs/learn-env/lib/python3.8/site-packages/sklearn/linear_model/_sag.py:350: ConvergenceWarning: The max_iter was reached which means the coef_ did not converge\n",
      "  warnings.warn(\n"
     ]
    }
   ],
   "source": [
    "from sklearn.linear_model import LogisticRegression\n",
    "from sklearn.metrics import recall_score, precision_score, f1_score\n",
    "\n",
    "# Define different values for the regularization parameter C\n",
    "C_values = [0.01, 0.1, 1, 10, 100,1e12]\n",
    "names = ['0.01', '0.1', '1', '10', '100','1e12']\n",
    "\n",
    "# Loop through different values of C and evaluate the model\n",
    "for n, C in enumerate(C_values):\n",
    "    print(f\"Testing with C value: {names[n]}\")\n",
    "    \n",
    "    # Fit a model with a given C value\n",
    "    logreg = LogisticRegression(C=C, random_state=42, solver='saga')\n",
    "    model_log = logreg.fit(X_train_1, y_train_1)\n",
    "    \n",
    "    # Predict\n",
    "    y_hat_test = logreg.predict(X_test_1)\n",
    "    \n",
    "    # Compute metrics with 'macro' average\n",
    "    model_recall_macro = recall_score(y_true=y_test_1, y_pred=y_hat_test, average='macro')\n",
    "    model_precision_macro = precision_score(y_true=y_test_1, y_pred=y_hat_test, average='macro')\n",
    "    model_f1_macro = f1_score(y_true=y_test_1, y_pred=y_hat_test, average='macro')\n",
    "    \n",
    "    # Compute metrics with 'weighted' average\n",
    "    model_recall_weighted = recall_score(y_true=y_test_1, y_pred=y_hat_test, average='weighted')\n",
    "    model_precision_weighted = precision_score(y_true=y_test_1, y_pred=y_hat_test, average='weighted')\n",
    "    model_f1_weighted = f1_score(y_true=y_test_1, y_pred=y_hat_test, average='weighted')\n",
    "    \n",
    "    # Print results\n",
    "    print(f\"Macro Recall: {model_recall_macro:.4f}\")\n",
    "    print(f\"Macro Precision: {model_precision_macro:.4f}\")\n",
    "    print(f\"Macro F1 Score: {model_f1_macro:.4f}\")\n",
    "    \n",
    "    print(f\"Weighted Recall: {model_recall_weighted:.4f}\")\n",
    "    print(f\"Weighted Precision: {model_precision_weighted:.4f}\")\n",
    "    print(f\"Weighted F1 Score: {model_f1_weighted:.4f}\")\n",
    "    print('-' * 40)\n"
   ]
  },
  {
   "cell_type": "code",
   "execution_count": null,
   "metadata": {},
   "outputs": [],
   "source": []
  },
  {
   "cell_type": "markdown",
   "metadata": {},
   "source": [
    "### A.  Addressing Class Imbalance"
   ]
  },
  {
   "cell_type": "code",
   "execution_count": 743,
   "metadata": {},
   "outputs": [
    {
     "data": {
      "text/plain": [
       "0    25802\n",
       "2    18252\n",
       "1     3466\n",
       "Name: Status, dtype: int64"
      ]
     },
     "execution_count": 743,
     "metadata": {},
     "output_type": "execute_result"
    }
   ],
   "source": [
    "#\n",
    "y_train_1.value_counts()"
   ]
  },
  {
   "cell_type": "markdown",
   "metadata": {},
   "source": [
    "As can be seen there are class imbalances, we shall try out 2 ways to deal with this, "
   ]
  },
  {
   "cell_type": "markdown",
   "metadata": {},
   "source": [
    "I. Using **Class Weights**"
   ]
  },
  {
   "cell_type": "code",
   "execution_count": 722,
   "metadata": {},
   "outputs": [
    {
     "data": {
      "text/html": [
       "<style>#sk-container-id-1 {color: black;}#sk-container-id-1 pre{padding: 0;}#sk-container-id-1 div.sk-toggleable {background-color: white;}#sk-container-id-1 label.sk-toggleable__label {cursor: pointer;display: block;width: 100%;margin-bottom: 0;padding: 0.3em;box-sizing: border-box;text-align: center;}#sk-container-id-1 label.sk-toggleable__label-arrow:before {content: \"▸\";float: left;margin-right: 0.25em;color: #696969;}#sk-container-id-1 label.sk-toggleable__label-arrow:hover:before {color: black;}#sk-container-id-1 div.sk-estimator:hover label.sk-toggleable__label-arrow:before {color: black;}#sk-container-id-1 div.sk-toggleable__content {max-height: 0;max-width: 0;overflow: hidden;text-align: left;background-color: #f0f8ff;}#sk-container-id-1 div.sk-toggleable__content pre {margin: 0.2em;color: black;border-radius: 0.25em;background-color: #f0f8ff;}#sk-container-id-1 input.sk-toggleable__control:checked~div.sk-toggleable__content {max-height: 200px;max-width: 100%;overflow: auto;}#sk-container-id-1 input.sk-toggleable__control:checked~label.sk-toggleable__label-arrow:before {content: \"▾\";}#sk-container-id-1 div.sk-estimator input.sk-toggleable__control:checked~label.sk-toggleable__label {background-color: #d4ebff;}#sk-container-id-1 div.sk-label input.sk-toggleable__control:checked~label.sk-toggleable__label {background-color: #d4ebff;}#sk-container-id-1 input.sk-hidden--visually {border: 0;clip: rect(1px 1px 1px 1px);clip: rect(1px, 1px, 1px, 1px);height: 1px;margin: -1px;overflow: hidden;padding: 0;position: absolute;width: 1px;}#sk-container-id-1 div.sk-estimator {font-family: monospace;background-color: #f0f8ff;border: 1px dotted black;border-radius: 0.25em;box-sizing: border-box;margin-bottom: 0.5em;}#sk-container-id-1 div.sk-estimator:hover {background-color: #d4ebff;}#sk-container-id-1 div.sk-parallel-item::after {content: \"\";width: 100%;border-bottom: 1px solid gray;flex-grow: 1;}#sk-container-id-1 div.sk-label:hover label.sk-toggleable__label {background-color: #d4ebff;}#sk-container-id-1 div.sk-serial::before {content: \"\";position: absolute;border-left: 1px solid gray;box-sizing: border-box;top: 0;bottom: 0;left: 50%;z-index: 0;}#sk-container-id-1 div.sk-serial {display: flex;flex-direction: column;align-items: center;background-color: white;padding-right: 0.2em;padding-left: 0.2em;position: relative;}#sk-container-id-1 div.sk-item {position: relative;z-index: 1;}#sk-container-id-1 div.sk-parallel {display: flex;align-items: stretch;justify-content: center;background-color: white;position: relative;}#sk-container-id-1 div.sk-item::before, #sk-container-id-1 div.sk-parallel-item::before {content: \"\";position: absolute;border-left: 1px solid gray;box-sizing: border-box;top: 0;bottom: 0;left: 50%;z-index: -1;}#sk-container-id-1 div.sk-parallel-item {display: flex;flex-direction: column;z-index: 1;position: relative;background-color: white;}#sk-container-id-1 div.sk-parallel-item:first-child::after {align-self: flex-end;width: 50%;}#sk-container-id-1 div.sk-parallel-item:last-child::after {align-self: flex-start;width: 50%;}#sk-container-id-1 div.sk-parallel-item:only-child::after {width: 0;}#sk-container-id-1 div.sk-dashed-wrapped {border: 1px dashed gray;margin: 0 0.4em 0.5em 0.4em;box-sizing: border-box;padding-bottom: 0.4em;background-color: white;}#sk-container-id-1 div.sk-label label {font-family: monospace;font-weight: bold;display: inline-block;line-height: 1.2em;}#sk-container-id-1 div.sk-label-container {text-align: center;}#sk-container-id-1 div.sk-container {/* jupyter's `normalize.less` sets `[hidden] { display: none; }` but bootstrap.min.css set `[hidden] { display: none !important; }` so we also need the `!important` here to be able to override the default hidden behavior on the sphinx rendered scikit-learn.org. See: https://github.com/scikit-learn/scikit-learn/issues/21755 */display: inline-block !important;position: relative;}#sk-container-id-1 div.sk-text-repr-fallback {display: none;}</style><div id=\"sk-container-id-1\" class=\"sk-top-container\"><div class=\"sk-text-repr-fallback\"><pre>LogisticRegression(random_state=42)</pre><b>In a Jupyter environment, please rerun this cell to show the HTML representation or trust the notebook. <br />On GitHub, the HTML representation is unable to render, please try loading this page with nbviewer.org.</b></div><div class=\"sk-container\" hidden><div class=\"sk-item\"><div class=\"sk-estimator sk-toggleable\"><input class=\"sk-toggleable__control sk-hidden--visually\" id=\"sk-estimator-id-1\" type=\"checkbox\" checked><label for=\"sk-estimator-id-1\" class=\"sk-toggleable__label sk-toggleable__label-arrow\">LogisticRegression</label><div class=\"sk-toggleable__content\"><pre>LogisticRegression(random_state=42)</pre></div></div></div></div></div>"
      ],
      "text/plain": [
       "LogisticRegression(random_state=42)"
      ]
     },
     "execution_count": 722,
     "metadata": {},
     "output_type": "execute_result"
    }
   ],
   "source": [
    "LogisticRegression(random_state= 42)"
   ]
  },
  {
   "cell_type": "code",
   "execution_count": 729,
   "metadata": {},
   "outputs": [
    {
     "name": "stdout",
     "output_type": "stream",
     "text": [
      "Testing with class weight: None\n",
      "Macro Recall: 0.5495\n",
      "Macro Precision: 0.6789\n",
      "Macro F1 Score: 0.5639\n",
      "Weighted Recall: 0.7439\n",
      "Weighted Precision: 0.7384\n",
      "Weighted F1 Score: 0.7226\n",
      "----------------------------------------\n",
      "Testing with class weight: Balanced\n"
     ]
    },
    {
     "name": "stderr",
     "output_type": "stream",
     "text": [
      "/home/leo/anaconda3/envs/learn-env/lib/python3.8/site-packages/sklearn/linear_model/_sag.py:350: ConvergenceWarning: The max_iter was reached which means the coef_ did not converge\n",
      "  warnings.warn(\n"
     ]
    },
    {
     "name": "stdout",
     "output_type": "stream",
     "text": [
      "Macro Recall: 0.6506\n",
      "Macro Precision: 0.5963\n",
      "Macro F1 Score: 0.5691\n",
      "Weighted Recall: 0.6400\n",
      "Weighted Precision: 0.7523\n",
      "Weighted F1 Score: 0.6768\n",
      "----------------------------------------\n",
      "Testing with class weight: 2:1\n",
      "Macro Recall: 0.5956\n",
      "Macro Precision: 0.6344\n",
      "Macro F1 Score: 0.6078\n",
      "Weighted Recall: 0.7364\n",
      "Weighted Precision: 0.7379\n",
      "Weighted F1 Score: 0.7290\n",
      "----------------------------------------\n",
      "Testing with class weight: 10:1\n",
      "Macro Recall: 0.5365\n",
      "Macro Precision: 0.5812\n",
      "Macro F1 Score: 0.3800\n",
      "Weighted Recall: 0.3689\n",
      "Weighted Precision: 0.7634\n",
      "Weighted F1 Score: 0.4421\n",
      "----------------------------------------\n"
     ]
    },
    {
     "name": "stderr",
     "output_type": "stream",
     "text": [
      "/home/leo/anaconda3/envs/learn-env/lib/python3.8/site-packages/sklearn/linear_model/_sag.py:350: ConvergenceWarning: The max_iter was reached which means the coef_ did not converge\n",
      "  warnings.warn(\n"
     ]
    }
   ],
   "source": [
    "from sklearn.linear_model import LogisticRegression\n",
    "from sklearn.metrics import recall_score, precision_score, f1_score\n",
    "\n",
    "# Define class weights based on your specific classes\n",
    "weights = [None, 'balanced', {0: 1, 1: 2, 2: 1}, {0: 1, 1: 10, 2: 1}, ]\n",
    "names = ['None', 'Balanced', '2:1', '10:1']\n",
    "\n",
    "# Loop through different weights and evaluate the model\n",
    "for n, weight in enumerate(weights):\n",
    "    print(f\"Testing with class weight: {names[n]}\")\n",
    "    \n",
    "    # Fit a model\n",
    "    logreg = LogisticRegression(class_weight=weight, random_state=42,solver= 'saga')\n",
    "    model_log = logreg.fit(X_train_1, y_train_1)\n",
    "    \n",
    "    # Predict\n",
    "    y_hat_test = logreg.predict(X_test_1)\n",
    "    \n",
    "    # Compute metrics with 'macro' average\n",
    "    model_recall_macro = recall_score(y_true=y_test_1, y_pred=y_hat_test, average='macro')\n",
    "    model_precision_macro = precision_score(y_true=y_test_1, y_pred=y_hat_test, average='macro')\n",
    "    model_f1_macro = f1_score(y_true=y_test_1, y_pred=y_hat_test, average='macro')\n",
    "    \n",
    "    # Compute metrics with 'weighted' average\n",
    "    model_recall_weighted = recall_score(y_true=y_test_1, y_pred=y_hat_test, average='weighted')\n",
    "    model_precision_weighted = precision_score(y_true=y_test_1, y_pred=y_hat_test, average='weighted')\n",
    "    model_f1_weighted = f1_score(y_true=y_test_1, y_pred=y_hat_test, average='weighted')\n",
    "    \n",
    "    # Print results\n",
    "    print(f\"Macro Recall: {model_recall_macro:.4f}\")\n",
    "    print(f\"Macro Precision: {model_precision_macro:.4f}\")\n",
    "    print(f\"Macro F1 Score: {model_f1_macro:.4f}\")\n",
    "    \n",
    "    print(f\"Weighted Recall: {model_recall_weighted:.4f}\")\n",
    "    print(f\"Weighted Precision: {model_precision_weighted:.4f}\")\n",
    "    print(f\"Weighted F1 Score: {model_f1_weighted:.4f}\")\n",
    "    print('-' * 40)\n"
   ]
  },
  {
   "cell_type": "markdown",
   "metadata": {},
   "source": [
    "### Recommended Class Weight\n",
    "**Balanced** class weight is recommended as it provides the highest macro recall (0.6506), ensuring the best identification of pumps needing repair or non-functional while maintaining reasonable precision and F1 score.\n",
    "\n",
    "### Conclusion\n",
    "The **balanced** class weight best meets the stakeholder's needs for efficient maintenance, with further tuning to follow."
   ]
  },
  {
   "cell_type": "markdown",
   "metadata": {},
   "source": [
    "I. Using **SMOTE**"
   ]
  },
  {
   "cell_type": "code",
   "execution_count": 735,
   "metadata": {},
   "outputs": [
    {
     "name": "stdout",
     "output_type": "stream",
     "text": [
      "LogisticRegression(random_state=42, solver='saga')\n"
     ]
    }
   ],
   "source": [
    "smote = SMOTE()\n",
    "X_train_resampled, y_train_resampled = smote.fit_resample(X_train_1, y_train_1) \n",
    "# Fit a model\n",
    "logreg = LogisticRegression(random_state=42,solver= 'saga')\n",
    "model_log = logreg.fit(X_train_resampled, y_train_resampled)\n",
    "print(model_log)\n",
    "\n",
    "# Predict\n",
    "y_hat_test = logreg.predict(X_test_1)"
   ]
  },
  {
   "cell_type": "code",
   "execution_count": 736,
   "metadata": {},
   "outputs": [
    {
     "name": "stdout",
     "output_type": "stream",
     "text": [
      "Macro Recall: 0.6644\n",
      "Macro Precision: 0.5989\n",
      "Macro F1 Score: 0.5744\n",
      "Weighted Recall: 0.6408\n",
      "Weighted Precision: 0.7537\n",
      "Weighted F1 Score: 0.6775\n"
     ]
    }
   ],
   "source": [
    "# Compute metrics with 'macro' average\n",
    "model_recall_macro = recall_score(y_true=y_test_1, y_pred=y_hat_test, average='macro')\n",
    "model_precision_macro = precision_score(y_true=y_test_1, y_pred=y_hat_test, average='macro')\n",
    "model_f1_macro = f1_score(y_true=y_test_1, y_pred=y_hat_test, average='macro')\n",
    "    \n",
    "# Compute metrics with 'weighted' average\n",
    "model_recall_weighted = recall_score(y_true=y_test_1, y_pred=y_hat_test, average='weighted')\n",
    "model_precision_weighted = precision_score(y_true=y_test_1, y_pred=y_hat_test, average='weighted')\n",
    "model_f1_weighted = f1_score(y_true=y_test_1, y_pred=y_hat_test, average='weighted')\n",
    "    \n",
    "# Print results\n",
    "print(f\"Macro Recall: {model_recall_macro:.4f}\")\n",
    "print(f\"Macro Precision: {model_precision_macro:.4f}\")\n",
    "print(f\"Macro F1 Score: {model_f1_macro:.4f}\")\n",
    "    \n",
    "print(f\"Weighted Recall: {model_recall_weighted:.4f}\")\n",
    "print(f\"Weighted Precision: {model_precision_weighted:.4f}\")\n",
    "print(f\"Weighted F1 Score: {model_f1_weighted:.4f}\")"
   ]
  },
  {
   "cell_type": "markdown",
   "metadata": {},
   "source": [
    "### Justification for Choosing SMOTE Over Class Weight Balancing\n",
    "\n",
    "#### Results with `class_weight='balanced'`:\n",
    "- **Macro Recall**: 0.6506\n",
    "- **Macro Precision**: 0.5963\n",
    "- **Macro F1 Score**: 0.5691\n",
    "- **Weighted Recall**: 0.6400\n",
    "- **Weighted Precision**: 0.7523\n",
    "- **Weighted F1 Score**: 0.6768\n",
    "\n",
    "#### Results with SMOTE:\n",
    "- **Macro Recall**: 0.6644\n",
    "- **Macro Precision**: 0.5989\n",
    "- **Macro F1 Score**: 0.5744\n",
    "- **Weighted Recall**: 0.6408\n",
    "- **Weighted Precision**: 0.7537\n",
    "- **Weighted F1 Score**: 0.6775\n",
    "\n",
    "#### Key Observations:\n",
    "- **Macro Recall** improved from 0.6506 to 0.6644 with SMOTE, indicating better performance in identifying all classes.\n",
    "- **Macro F1 Score** increased from 0.5691 to 0.5744 with SMOTE, showing a slight improvement in balancing precision and recall across classes.\n",
    "- **Weighted Metrics** (recall, precision, and F1 score) are quite similar between the two methods.\n",
    "\n",
    "#### Conclusion:\n",
    "SMOTE demonstrates better macro recall and macro F1 score, suggesting it is more effective in handling class imbalance and improving overall model performance across all classes.\n",
    "\n",
    "**Therefore, using SMOTE is recommended to achieve better balanced class performance.**\n"
   ]
  },
  {
   "cell_type": "markdown",
   "metadata": {},
   "source": [
    "- From henceforth, we shall apply SMOTE."
   ]
  },
  {
   "cell_type": "markdown",
   "metadata": {},
   "source": [
    "## **Decision Trees**"
   ]
  },
  {
   "cell_type": "markdown",
   "metadata": {},
   "source": [
    "### Model with Outliers"
   ]
  },
  {
   "cell_type": "markdown",
   "metadata": {},
   "source": [
    "from sklearn.tree import DecisionTreeClassifier"
   ]
  },
  {
   "cell_type": "code",
   "execution_count": null,
   "metadata": {},
   "outputs": [],
   "source": []
  },
  {
   "cell_type": "code",
   "execution_count": null,
   "metadata": {},
   "outputs": [
    {
     "data": {
      "image/png": "[encoded data removed]",
      "text/plain": [
       "<Figure size 432x288 with 2 Axes>"
      ]
     },
     "metadata": {
      "needs_background": "light"
     },
     "output_type": "display_data"
    }
   ],
   "source": [
    "#dt = DecisionTreeClassifier(random_state= 42)\n",
    "#model = dt.fit(X_train_1, y_train_1)\n",
    "#ConfusionMatrixDisplay.from_estimator(estimator=model, X=X_train_1, y=y_train_1);"
   ]
  },
  {
   "cell_type": "code",
   "execution_count": null,
   "metadata": {},
   "outputs": [],
   "source": [
    "# Predict\n",
    "#y_hat_test = dt.predict(X_test_1)"
   ]
  },
  {
   "cell_type": "code",
   "execution_count": null,
   "metadata": {},
   "outputs": [
    {
     "name": "stdout",
     "output_type": "stream",
     "text": [
      "Accuracy: 0.6834175084175084\n",
      "Recall: 0.5624542094239294\n",
      "Precision: 0.5647009003139815\n",
      "F1 Score: 0.5633312464380228\n"
     ]
    }
   ],
   "source": [
    "\"\"\"\n",
    "# Compute the metrics with 'macro' average for multiclass classification\n",
    "model_accuracy = accuracy_score(y_true=y_test_1, y_pred=y_hat_test)\n",
    "model_recall = recall_score(y_true=y_test_1, y_pred=y_hat_test, average='macro')\n",
    "model_precision = precision_score(y_true=y_test_1, y_pred=y_hat_test, average='macro')\n",
    "model_f1 = f1_score(y_true=y_test_1, y_pred=y_hat_test, average='macro')\n",
    "\n",
    "print(\"Accuracy:\", model_accuracy)\n",
    "print(\"Recall:\", model_recall)\n",
    "print(\"Precision:\", model_precision)\n",
    "print(\"F1 Score:\", model_f1)\n",
    "\"\"\""
   ]
  },
  {
   "cell_type": "code",
   "execution_count": null,
   "metadata": {},
   "outputs": [
    {
     "name": "stdout",
     "output_type": "stream",
     "text": [
      "AUC Score 1: 0.8461504451309634\n"
     ]
    }
   ],
   "source": [
    "\"\"\"\n",
    "# Predict\n",
    "y_hat_test = logreg.predict_proba(X_test_1)\n",
    "\n",
    "# Calculate AUC score\n",
    "\n",
    "auc_score = roc_auc_score(y_test_1, y_hat_test, multi_class='ovr')\n",
    "y_true\n",
    "print(f'AUC Score 1: {auc_score}')\n",
    "\"\"\"\n",
    "\n",
    "\n"
   ]
  },
  {
   "cell_type": "code",
   "execution_count": null,
   "metadata": {},
   "outputs": [
    {
     "data": {
      "image/png": "[encoded data removed]",
      "text/plain": [
       "<Figure size 432x288 with 2 Axes>"
      ]
     },
     "metadata": {
      "needs_background": "light"
     },
     "output_type": "display_data"
    }
   ],
   "source": [
    "#ConfusionMatrixDisplay.from_estimator(estimator=model, X=X_test_1, y=y_test_1);"
   ]
  },
  {
   "cell_type": "markdown",
   "metadata": {},
   "source": [
    "### Model without Outliers"
   ]
  },
  {
   "cell_type": "code",
   "execution_count": null,
   "metadata": {},
   "outputs": [
    {
     "data": {
      "image/png": "[encoded data removed]",
      "text/plain": [
       "<Figure size 432x288 with 2 Axes>"
      ]
     },
     "metadata": {
      "needs_background": "light"
     },
     "output_type": "display_data"
    }
   ],
   "source": [
    "\"\"\"\"\n",
    "\n",
    "# Fit the model on the scaled data\n",
    "model = dt.fit(X_train_2, y_train_2)\n",
    "\n",
    "# YOUR CODE HERE\n",
    "#raise NotImplementedError()\n",
    "\n",
    "ConfusionMatrixDisplay.from_estimator(estimator=model, X=X_train_2, y=y_train_2);\n",
    "\"\"\""
   ]
  },
  {
   "cell_type": "code",
   "execution_count": null,
   "metadata": {},
   "outputs": [],
   "source": [
    "# Predict\n",
    "#y_hat_test = dt.predict(X_test_2)"
   ]
  },
  {
   "cell_type": "code",
   "execution_count": null,
   "metadata": {},
   "outputs": [
    {
     "name": "stdout",
     "output_type": "stream",
     "text": [
      "Accuracy: 0.7361755607115236\n",
      "Recall: 0.6054204793877772\n",
      "Precision: 0.6156864688043814\n",
      "F1 Score: 0.610058114923434\n"
     ]
    }
   ],
   "source": [
    "\"\"\"\n",
    "# Compute the metrics with 'macro' average for multiclass classification\n",
    "model_accuracy = accuracy_score(y_true=y_test_2, y_pred=y_hat_test)\n",
    "model_recall = recall_score(y_true=y_test_2, y_pred=y_hat_test, average='macro')\n",
    "model_precision = precision_score(y_true=y_test_2, y_pred=y_hat_test, average='macro')\n",
    "model_f1 = f1_score(y_true=y_test_2, y_pred=y_hat_test, average='macro')\n",
    "\n",
    "print(\"Accuracy:\", model_accuracy)\n",
    "print(\"Recall:\", model_recall)\n",
    "print(\"Precision:\", model_precision)\n",
    "print(\"F1 Score:\", model_f1)\n",
    "\"\"\""
   ]
  },
  {
   "cell_type": "code",
   "execution_count": null,
   "metadata": {},
   "outputs": [
    {
     "name": "stdout",
     "output_type": "stream",
     "text": [
      "AUC Score 1: 0.8510402257756827\n"
     ]
    }
   ],
   "source": [
    "\n",
    "\"\"\"\n",
    "# Predict\n",
    "y_hat_test = logreg.predict_proba(X_test_2)\n",
    "\n",
    "# Calculate AUC score\n",
    "\n",
    "auc_score = roc_auc_score(y_test_2, y_hat_test, multi_class='ovr')\n",
    "y_true\n",
    "print(f'AUC Score 1: {auc_score}')\n",
    "\n",
    "\n",
    "\"\"\"\n"
   ]
  },
  {
   "cell_type": "code",
   "execution_count": null,
   "metadata": {},
   "outputs": [
    {
     "data": {
      "image/png": "[encoded data removed]",
      "text/plain": [
       "<Figure size 432x288 with 2 Axes>"
      ]
     },
     "metadata": {
      "needs_background": "light"
     },
     "output_type": "display_data"
    }
   ],
   "source": [
    "#ConfusionMatrixDisplay.from_estimator(estimator=model, X=X_test_2, y=y_test_2);"
   ]
  },
  {
   "cell_type": "code",
   "execution_count": null,
   "metadata": {},
   "outputs": [],
   "source": []
  }
 ],
 "metadata": {
  "kernelspec": {
   "display_name": "learn-env",
   "language": "python",
   "name": "python3"
  },
  "language_info": {
   "codemirror_mode": {
    "name": "ipython",
    "version": 3
   },
   "file_extension": ".py",
   "mimetype": "text/x-python",
   "name": "python",
   "nbconvert_exporter": "python",
   "pygments_lexer": "ipython3",
   "version": "3.8.5"
  }
 },
 "nbformat": 4,
 "nbformat_minor": 2
}
