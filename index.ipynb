{
 "cells": [
  {
   "cell_type": "markdown",
   "metadata": {},
   "source": [
    "# Final Project Submission\n",
    "\n",
    "**Student's Name:** \n",
    "-   Leonard Koyio\n",
    "\n",
    "**Students' Pace:** Part-time \n",
    "\n",
    "**Scheduled Project Review Date/Time:** [01/09/2024, 14:59]\n",
    "\n",
    "**Instructor Name:** Samuel Karu\n",
    "\n",
    "**Blog Post URL:** https://github.com/leonardkoyio/Phase-3-Project-_v1\n"
   ]
  },
  {
   "cell_type": "markdown",
   "metadata": {},
   "source": [
    "# **1. INTRODUCTION**\n",
    "\n",
    "## Objectives\n",
    "The primary goal of this project is to develop a predictive model that accurately determines the functionality status of water pumps across Tanzania. By predicting which pumps are functional, need repairs, or are non-functional, we aim to support the Government of Tanzania in optimizing their maintenance operations and ensuring a reliable water supply for communities.\n",
    "\n",
    "## Stakeholder\n",
    "The main stakeholder for this project is the Government of Tanzania, specifically the Ministry of Water. The Government is interested in efficiently managing and maintaining the water pump infrastructure to minimize downtime and costs associated with repairs and replacements. By leveraging data-driven insights, the Government can prioritize maintenance efforts, allocate resources effectively, and ultimately improve water accessibility for its citizens.\n",
    "\n",
    "## Problem Statement\n",
    "Maintaining a large network of water pumps across Tanzania presents significant challenges, especially in remote and rural areas. With varying factors influencing pump functionality, such as age, installation quality, environmental conditions, and usage patterns, it is crucial to develop a predictive model that can forecast pump status accurately. A reliable model will help in preemptively identifying pumps that are likely to fail or need maintenance, thereby reducing the likelihood of prolonged water shortages and enhancing the overall efficiency of the maintenance process.\n",
    "\n",
    "# **2. BUSINESS UNDERSTANDING**\n",
    "\n",
    "## Business Objective\n",
    "The business objective of this project is to assist the Government of Tanzania in optimizing the maintenance strategy for water pumps by providing a tool that can predict pump functionality. This predictive capability will enable the Government to make informed decisions about where and when to allocate maintenance resources, thus preventing failures and ensuring that communities have consistent access to clean and potable water.\n",
    "\n",
    "## Business Problem\n",
    "The business problem addressed in this project is the inefficient allocation and wastage of maintenance resources due to a lack of predictive insights. Without a clear understanding of which pumps are at risk of becoming non-functional or needing repairs, maintenance teams may waste energy and resources inspecting functional pumps and under-service those in need of attention, leading to increased operational costs and disruptions in water supply to citizens of Tanzania.\n",
    "\n",
    "## Business Benefits\n",
    "By implementing a predictive model for pump functionality, the Government of Tanzania stands to gain several benefits:\n",
    "\n",
    "- **Improved Resource Allocation**: By knowing which pumps are likely to fail, maintenance teams can prioritize their efforts on the most critical units, optimizing the use of limited resources. This ensures that efforts are focused on pumps that require immediate attention, thereby enhancing service delivery and minimizing downtime.\n",
    "\n",
    "- **Cost Savings**: Preventative maintenance is often more cost-effective than reactive repairs. By identifying pumps that need attention before they break down, the Government can reduce repair costs and extend the lifespan of the pumps. This proactive approach reduces the frequency and severity of pump failures, leading to significant cost savings over time.\n",
    "\n",
    "- **Enhanced Water Access**: Ensuring that pumps are functional and well-maintained means that communities will have better access to clean water, which is vital for public health and wellbeing. By reducing the number of non-functional pumps, the project directly contributes to improving the reliability of water services, thereby enhancing overall service delivery to the public.\n",
    "\n",
    "- **Data-Driven Decision Making**: The use of data analytics provides the Government with a robust tool for decision-making, fostering a culture of data-driven strategies that can be applied to other areas of public service. This shift towards data-driven decision-making not only improves the efficiency of water pump maintenance but also sets a precedent for using data to enhance other public services.\n",
    "\n",
    "- **Improved Service Delivery**: The predictive model developed in this project allows for a more targeted and efficient approach to maintaining water pumps. By reducing the time pumps spend out of service and ensuring quicker repairs, the project enhances the overall service delivery of water resources to Tanzanian communities. This improvement in service delivery can lead to increased public trust and satisfaction with the Government's management of essential services.\n",
    "\n",
    "By addressing these business needs, this project aims to provide a scalable and effective solution to enhance the management of water resources in Tanzania, ultimately improving the quality of life for its citizens through better service delivery and sustainable water management practices.\n"
   ]
  },
  {
   "cell_type": "markdown",
   "metadata": {},
   "source": [
    "# **3. DATA UNDERSTANDING**"
   ]
  },
  {
   "cell_type": "markdown",
   "metadata": {},
   "source": [
    "## Imports"
   ]
  },
  {
   "cell_type": "code",
   "execution_count": 3,
   "metadata": {},
   "outputs": [],
   "source": [
    "# Data manipulation\n",
    "import pandas as pd\n",
    "import numpy as np\n",
    "\n",
    "# Visualization\n",
    "import matplotlib.pyplot as plt\n",
    "import seaborn as sns\n",
    "\n",
    "# Data preprocessing\n",
    "from sklearn.preprocessing import OneHotEncoder, LabelEncoder, MinMaxScaler,label_binarize\n",
    "\n",
    "\n",
    "# Model training\n",
    "from sklearn.linear_model import LogisticRegression\n",
    "from sklearn.tree import DecisionTreeClassifier, plot_tree\n",
    "\n",
    "# Model evaluation\n",
    "from sklearn.metrics import (ConfusionMatrixDisplay, accuracy_score, recall_score, \n",
    "                             precision_score, f1_score, roc_auc_score, roc_curve, auc)\n",
    "\n",
    "# Model validation\n",
    "from sklearn.model_selection import train_test_split, cross_val_score\n",
    "\n",
    "# Handling imbalanced data\n",
    "from imblearn.over_sampling import SMOTE\n",
    "\n"
   ]
  },
  {
   "cell_type": "markdown",
   "metadata": {},
   "source": [
    "## Data Loading"
   ]
  },
  {
   "cell_type": "code",
   "execution_count": 4,
   "metadata": {},
   "outputs": [],
   "source": [
    "df_features= pd.read_csv('data/train_features.csv')\n",
    "df_labels= pd.read_csv('data/train_labels.csv')\n",
    "df_test= pd.read_csv('data/test_values.csv')\n",
    "df_submit = pd.read_csv('data/SubmissionFormat.csv')"
   ]
  },
  {
   "cell_type": "code",
   "execution_count": 5,
   "metadata": {},
   "outputs": [
    {
     "name": "stdout",
     "output_type": "stream",
     "text": [
      "<class 'pandas.core.frame.DataFrame'>\n",
      "RangeIndex: 59400 entries, 0 to 59399\n",
      "Data columns (total 40 columns):\n",
      " #   Column                 Non-Null Count  Dtype  \n",
      "---  ------                 --------------  -----  \n",
      " 0   id                     59400 non-null  int64  \n",
      " 1   amount_tsh             59400 non-null  float64\n",
      " 2   date_recorded          59400 non-null  object \n",
      " 3   funder                 55765 non-null  object \n",
      " 4   gps_height             59400 non-null  int64  \n",
      " 5   installer              55745 non-null  object \n",
      " 6   longitude              59400 non-null  float64\n",
      " 7   latitude               59400 non-null  float64\n",
      " 8   wpt_name               59400 non-null  object \n",
      " 9   num_private            59400 non-null  int64  \n",
      " 10  basin                  59400 non-null  object \n",
      " 11  subvillage             59029 non-null  object \n",
      " 12  region                 59400 non-null  object \n",
      " 13  region_code            59400 non-null  int64  \n",
      " 14  district_code          59400 non-null  int64  \n",
      " 15  lga                    59400 non-null  object \n",
      " 16  ward                   59400 non-null  object \n",
      " 17  population             59400 non-null  int64  \n",
      " 18  public_meeting         56066 non-null  object \n",
      " 19  recorded_by            59400 non-null  object \n",
      " 20  scheme_management      55523 non-null  object \n",
      " 21  scheme_name            31234 non-null  object \n",
      " 22  permit                 56344 non-null  object \n",
      " 23  construction_year      59400 non-null  int64  \n",
      " 24  extraction_type        59400 non-null  object \n",
      " 25  extraction_type_group  59400 non-null  object \n",
      " 26  extraction_type_class  59400 non-null  object \n",
      " 27  management             59400 non-null  object \n",
      " 28  management_group       59400 non-null  object \n",
      " 29  payment                59400 non-null  object \n",
      " 30  payment_type           59400 non-null  object \n",
      " 31  water_quality          59400 non-null  object \n",
      " 32  quality_group          59400 non-null  object \n",
      " 33  quantity               59400 non-null  object \n",
      " 34  quantity_group         59400 non-null  object \n",
      " 35  source                 59400 non-null  object \n",
      " 36  source_type            59400 non-null  object \n",
      " 37  source_class           59400 non-null  object \n",
      " 38  waterpoint_type        59400 non-null  object \n",
      " 39  waterpoint_type_group  59400 non-null  object \n",
      "dtypes: float64(3), int64(7), object(30)\n",
      "memory usage: 18.1+ MB\n"
     ]
    }
   ],
   "source": [
    "df_features.info()"
   ]
  },
  {
   "cell_type": "code",
   "execution_count": 6,
   "metadata": {},
   "outputs": [
    {
     "data": {
      "text/plain": [
       "(59400, 40)"
      ]
     },
     "execution_count": 6,
     "metadata": {},
     "output_type": "execute_result"
    }
   ],
   "source": [
    "df_features.shape"
   ]
  },
  {
   "cell_type": "code",
   "execution_count": 7,
   "metadata": {},
   "outputs": [
    {
     "data": {
      "text/plain": [
       "Index(['id', 'amount_tsh', 'date_recorded', 'funder', 'gps_height',\n",
       "       'installer', 'longitude', 'latitude', 'wpt_name', 'num_private',\n",
       "       'basin', 'subvillage', 'region', 'region_code', 'district_code', 'lga',\n",
       "       'ward', 'population', 'public_meeting', 'recorded_by',\n",
       "       'scheme_management', 'scheme_name', 'permit', 'construction_year',\n",
       "       'extraction_type', 'extraction_type_group', 'extraction_type_class',\n",
       "       'management', 'management_group', 'payment', 'payment_type',\n",
       "       'water_quality', 'quality_group', 'quantity', 'quantity_group',\n",
       "       'source', 'source_type', 'source_class', 'waterpoint_type',\n",
       "       'waterpoint_type_group'],\n",
       "      dtype='object')"
      ]
     },
     "execution_count": 7,
     "metadata": {},
     "output_type": "execute_result"
    }
   ],
   "source": [
    "df_features.columns"
   ]
  },
  {
   "cell_type": "markdown",
   "metadata": {},
   "source": [
    "\n",
    "## Data Sources\n",
    "The dataset for this project is sourced from the Taarifa waterpoints dashboard, which aggregates data from the Tanzania Ministry of Water. Taarifa is an open-source platform designed to crowdsource the reporting and triaging of infrastructure-related issues. It serves as a bridge between citizens and their local government, facilitating better management and maintenance of public services. The data provided is specifically tailored to assist in identifying the functionality status of water pumps across Tanzania, making it highly relevant for this project.\n",
    "\n",
    "The data collected includes various features that describe the physical, geographical, and administrative aspects of water points in Tanzania. These features are crucial for developing a robust predictive model to classify the functionality of water pumps, ensuring effective resource allocation and maintenance.\n",
    "\n",
    "## Dataset Description\n",
    "The dataset comprises 59,400 rows, each representing a water point with multiple features that provide detailed information about each location. After removing redundant columns, the following key features remain:\n",
    "\n",
    "- **amount_tsh**: Total static head, indicating the amount of water available at the water point.\n",
    "- **date_recorded**: The date when the data entry was made, providing temporal context for the dataset.\n",
    "- **funder**: The organization or entity that funded the construction of the well, which could impact its maintenance and durability.\n",
    "- **gps_height**: The altitude of the well, which might influence water availability and quality.\n",
    "- **installer**: The organization that installed the well, potentially affecting the installation quality and subsequent functionality.\n",
    "- **longitude and latitude**: GPS coordinates that help in geographically pinpointing the location of the water points.\n",
    "- **wpt_name**: Name of the water point, if available, for identification purposes.\n",
    "- **num_private**: (Not specified) – This feature lacks a clear definition but is retained for completeness.\n",
    "- **basin**: Geographic water basin, which could influence the water source type and quality.\n",
    "- **region_code and district_code**: Coded geographic locations that provide a structured understanding of where the water points are situated.\n",
    "- **lga**: Local Government Authorities responsible for public services, including water management.\n",
    "- **population**: The population around the well, indicating the number of people relying on it, which can impact wear and tear.\n",
    "- **public_meeting**: A boolean indicating whether a public meeting was held, which may reflect community involvement in maintenance.\n",
    "- **recorded_by**: The entity or group entering the data, providing context for data source reliability.\n",
    "- **scheme_management and scheme_name**: Describes the management and operational scheme of the water point, relevant for maintenance and functionality.\n",
    "- **permit**: Indicates whether the water point is permitted, affecting its legal standing and possibly its upkeep.\n",
    "- **construction_year**: The year the water point was constructed, which directly impacts its age and potential functionality.\n",
    "- **extraction_type_class**: Categorization of the extraction type into broader classes.\n",
    "- **management_group**: Grouping of management types into broader categories.\n",
    "- **payment_type**: The method of payment for water usage, which could influence maintenance funding and frequency.\n",
    "- **quality_group**: Grouping of water quality into similar categories, relevant for public health and safety.\n",
    "- **quantity_group**: Grouping of water quantity into similar categories, essential for understanding resource availability.\n",
    "- **source_type and source_class**: Classification of the water source, which can affect water quality and sustainability.\n",
    "- **waterpoint_type_group**: Grouping of water points by type, which might influence functionality and maintenance needs.\n",
    "\n",
    "## Suitability of the Data\n",
    "The dataset is highly suitable for the project's objectives as it encompasses comprehensive information regarding the physical, operational, and geographical characteristics of water points across Tanzania. These features provide a well-rounded view of the factors that could influence a water pump's functionality, making them ideal for training predictive models.\n",
    "\n",
    "## Dataset Size and Descriptive Statistics\n",
    "The dataset includes 59,400 records, each representing a water point with the aforementioned features. Descriptive statistics such as mean, median, mode, and standard deviation have been calculated for numerical features to understand their distribution and variability. Categorical features have been analyzed for frequency distribution to understand the most common values and their potential impact on water pump functionality.\n",
    "\n",
    "## Justification for Feature Inclusion\n",
    "Each feature in the dataset has been included based on its relevance to understanding and predicting water pump functionality. For example:\n",
    "- **Geographical Features (longitude, latitude, region_code, district_code, basin)**: These help understand environmental conditions that may affect the water points.\n",
    "- **Operational Features (management_group, scheme_management, permit)**: These indicate how the water points are managed and maintained, which directly impacts functionality.\n",
    "- **Physical Features (gps_height, construction_year, amount_tsh)**: These describe the physical state of the water points, crucial for assessing their operational status.\n",
    "- However, to build an efficient and effective predictive model, we will further analyze the data to identify the most relevant features. This process will involve feature selection techniques to determine which attributes have the most predictive power for our target variable. The goal is to optimize the model's performance by retaining only those features that contribute significantly to accurate predictions, thereby improving both the interpretability and efficiency of the model.\n",
    "\n",
    "## Limitations of the Data\n",
    "While the dataset is extensive and covers a broad range of relevant features, there are some limitations:\n",
    "- **Missing or Undefined Data**: Some features, such as `num_private`, are not clearly defined, which could lead to potential ambiguities in the model.\n",
    "- **Temporal Limitations**: The data is a snapshot and may not account for seasonal variations or changes over time.\n",
    "- **Potential Bias**: The data collected might be biased based on who reported it and how it was recorded, impacting its overall accuracy and reliability.\n",
    "\n",
    "Despite these limitations, the dataset provides a robust foundation for building a predictive model to support the Tanzanian government in enhancing water service delivery through improved maintenance strategies.\n"
   ]
  },
  {
   "cell_type": "markdown",
   "metadata": {},
   "source": [
    "# **4. EXPLORATORY DATA ANALYSIS (EDA)**"
   ]
  },
  {
   "cell_type": "markdown",
   "metadata": {},
   "source": []
  },
  {
   "cell_type": "markdown",
   "metadata": {},
   "source": [
    "Comparing the length of the target and the feature dataframes, if they are the same length as expected, The 2 data frames shall be concatenated so as to clean the data effectively."
   ]
  },
  {
   "cell_type": "code",
   "execution_count": 8,
   "metadata": {},
   "outputs": [
    {
     "data": {
      "text/plain": [
       "True"
      ]
     },
     "execution_count": 8,
     "metadata": {},
     "output_type": "execute_result"
    }
   ],
   "source": [
    "len(df_features) == len(df_labels)"
   ]
  },
  {
   "cell_type": "code",
   "execution_count": 9,
   "metadata": {},
   "outputs": [
    {
     "data": {
      "text/html": [
       "<div>\n",
       "<style scoped>\n",
       "    .dataframe tbody tr th:only-of-type {\n",
       "        vertical-align: middle;\n",
       "    }\n",
       "\n",
       "    .dataframe tbody tr th {\n",
       "        vertical-align: top;\n",
       "    }\n",
       "\n",
       "    .dataframe thead th {\n",
       "        text-align: right;\n",
       "    }\n",
       "</style>\n",
       "<table border=\"1\" class=\"dataframe\">\n",
       "  <thead>\n",
       "    <tr style=\"text-align: right;\">\n",
       "      <th></th>\n",
       "      <th>id</th>\n",
       "      <th>amount_tsh</th>\n",
       "      <th>date_recorded</th>\n",
       "      <th>funder</th>\n",
       "      <th>gps_height</th>\n",
       "      <th>installer</th>\n",
       "      <th>longitude</th>\n",
       "      <th>latitude</th>\n",
       "      <th>wpt_name</th>\n",
       "      <th>num_private</th>\n",
       "      <th>...</th>\n",
       "      <th>water_quality</th>\n",
       "      <th>quality_group</th>\n",
       "      <th>quantity</th>\n",
       "      <th>quantity_group</th>\n",
       "      <th>source</th>\n",
       "      <th>source_type</th>\n",
       "      <th>source_class</th>\n",
       "      <th>waterpoint_type</th>\n",
       "      <th>waterpoint_type_group</th>\n",
       "      <th>status_group</th>\n",
       "    </tr>\n",
       "  </thead>\n",
       "  <tbody>\n",
       "    <tr>\n",
       "      <th>0</th>\n",
       "      <td>69572</td>\n",
       "      <td>6000.0</td>\n",
       "      <td>2011-03-14</td>\n",
       "      <td>Roman</td>\n",
       "      <td>1390</td>\n",
       "      <td>Roman</td>\n",
       "      <td>34.938093</td>\n",
       "      <td>-9.856322</td>\n",
       "      <td>none</td>\n",
       "      <td>0</td>\n",
       "      <td>...</td>\n",
       "      <td>soft</td>\n",
       "      <td>good</td>\n",
       "      <td>enough</td>\n",
       "      <td>enough</td>\n",
       "      <td>spring</td>\n",
       "      <td>spring</td>\n",
       "      <td>groundwater</td>\n",
       "      <td>communal standpipe</td>\n",
       "      <td>communal standpipe</td>\n",
       "      <td>functional</td>\n",
       "    </tr>\n",
       "    <tr>\n",
       "      <th>1</th>\n",
       "      <td>8776</td>\n",
       "      <td>0.0</td>\n",
       "      <td>2013-03-06</td>\n",
       "      <td>Grumeti</td>\n",
       "      <td>1399</td>\n",
       "      <td>GRUMETI</td>\n",
       "      <td>34.698766</td>\n",
       "      <td>-2.147466</td>\n",
       "      <td>Zahanati</td>\n",
       "      <td>0</td>\n",
       "      <td>...</td>\n",
       "      <td>soft</td>\n",
       "      <td>good</td>\n",
       "      <td>insufficient</td>\n",
       "      <td>insufficient</td>\n",
       "      <td>rainwater harvesting</td>\n",
       "      <td>rainwater harvesting</td>\n",
       "      <td>surface</td>\n",
       "      <td>communal standpipe</td>\n",
       "      <td>communal standpipe</td>\n",
       "      <td>functional</td>\n",
       "    </tr>\n",
       "    <tr>\n",
       "      <th>2</th>\n",
       "      <td>34310</td>\n",
       "      <td>25.0</td>\n",
       "      <td>2013-02-25</td>\n",
       "      <td>Lottery Club</td>\n",
       "      <td>686</td>\n",
       "      <td>World vision</td>\n",
       "      <td>37.460664</td>\n",
       "      <td>-3.821329</td>\n",
       "      <td>Kwa Mahundi</td>\n",
       "      <td>0</td>\n",
       "      <td>...</td>\n",
       "      <td>soft</td>\n",
       "      <td>good</td>\n",
       "      <td>enough</td>\n",
       "      <td>enough</td>\n",
       "      <td>dam</td>\n",
       "      <td>dam</td>\n",
       "      <td>surface</td>\n",
       "      <td>communal standpipe multiple</td>\n",
       "      <td>communal standpipe</td>\n",
       "      <td>functional</td>\n",
       "    </tr>\n",
       "    <tr>\n",
       "      <th>3</th>\n",
       "      <td>67743</td>\n",
       "      <td>0.0</td>\n",
       "      <td>2013-01-28</td>\n",
       "      <td>Unicef</td>\n",
       "      <td>263</td>\n",
       "      <td>UNICEF</td>\n",
       "      <td>38.486161</td>\n",
       "      <td>-11.155298</td>\n",
       "      <td>Zahanati Ya Nanyumbu</td>\n",
       "      <td>0</td>\n",
       "      <td>...</td>\n",
       "      <td>soft</td>\n",
       "      <td>good</td>\n",
       "      <td>dry</td>\n",
       "      <td>dry</td>\n",
       "      <td>machine dbh</td>\n",
       "      <td>borehole</td>\n",
       "      <td>groundwater</td>\n",
       "      <td>communal standpipe multiple</td>\n",
       "      <td>communal standpipe</td>\n",
       "      <td>non functional</td>\n",
       "    </tr>\n",
       "    <tr>\n",
       "      <th>4</th>\n",
       "      <td>19728</td>\n",
       "      <td>0.0</td>\n",
       "      <td>2011-07-13</td>\n",
       "      <td>Action In A</td>\n",
       "      <td>0</td>\n",
       "      <td>Artisan</td>\n",
       "      <td>31.130847</td>\n",
       "      <td>-1.825359</td>\n",
       "      <td>Shuleni</td>\n",
       "      <td>0</td>\n",
       "      <td>...</td>\n",
       "      <td>soft</td>\n",
       "      <td>good</td>\n",
       "      <td>seasonal</td>\n",
       "      <td>seasonal</td>\n",
       "      <td>rainwater harvesting</td>\n",
       "      <td>rainwater harvesting</td>\n",
       "      <td>surface</td>\n",
       "      <td>communal standpipe</td>\n",
       "      <td>communal standpipe</td>\n",
       "      <td>functional</td>\n",
       "    </tr>\n",
       "  </tbody>\n",
       "</table>\n",
       "<p>5 rows × 41 columns</p>\n",
       "</div>"
      ],
      "text/plain": [
       "      id  amount_tsh date_recorded        funder  gps_height     installer  \\\n",
       "0  69572      6000.0    2011-03-14         Roman        1390         Roman   \n",
       "1   8776         0.0    2013-03-06       Grumeti        1399       GRUMETI   \n",
       "2  34310        25.0    2013-02-25  Lottery Club         686  World vision   \n",
       "3  67743         0.0    2013-01-28        Unicef         263        UNICEF   \n",
       "4  19728         0.0    2011-07-13   Action In A           0       Artisan   \n",
       "\n",
       "   longitude   latitude              wpt_name  num_private  ... water_quality  \\\n",
       "0  34.938093  -9.856322                  none            0  ...          soft   \n",
       "1  34.698766  -2.147466              Zahanati            0  ...          soft   \n",
       "2  37.460664  -3.821329           Kwa Mahundi            0  ...          soft   \n",
       "3  38.486161 -11.155298  Zahanati Ya Nanyumbu            0  ...          soft   \n",
       "4  31.130847  -1.825359               Shuleni            0  ...          soft   \n",
       "\n",
       "  quality_group      quantity  quantity_group                source  \\\n",
       "0          good        enough          enough                spring   \n",
       "1          good  insufficient    insufficient  rainwater harvesting   \n",
       "2          good        enough          enough                   dam   \n",
       "3          good           dry             dry           machine dbh   \n",
       "4          good      seasonal        seasonal  rainwater harvesting   \n",
       "\n",
       "            source_type source_class              waterpoint_type  \\\n",
       "0                spring  groundwater           communal standpipe   \n",
       "1  rainwater harvesting      surface           communal standpipe   \n",
       "2                   dam      surface  communal standpipe multiple   \n",
       "3              borehole  groundwater  communal standpipe multiple   \n",
       "4  rainwater harvesting      surface           communal standpipe   \n",
       "\n",
       "  waterpoint_type_group    status_group  \n",
       "0    communal standpipe      functional  \n",
       "1    communal standpipe      functional  \n",
       "2    communal standpipe      functional  \n",
       "3    communal standpipe  non functional  \n",
       "4    communal standpipe      functional  \n",
       "\n",
       "[5 rows x 41 columns]"
      ]
     },
     "execution_count": 9,
     "metadata": {},
     "output_type": "execute_result"
    }
   ],
   "source": [
    "# concatenating the dataframes\n",
    "df = pd.merge(df_features, df_labels, on='id')\n",
    "df.head()"
   ]
  },
  {
   "cell_type": "code",
   "execution_count": 10,
   "metadata": {},
   "outputs": [
    {
     "data": {
      "text/plain": [
       "functional                 32259\n",
       "non functional             22824\n",
       "functional needs repair     4317\n",
       "Name: status_group, dtype: int64"
      ]
     },
     "execution_count": 10,
     "metadata": {},
     "output_type": "execute_result"
    }
   ],
   "source": [
    "#inspecting the target variables\n",
    "df['status_group'].value_counts()"
   ]
  },
  {
   "cell_type": "markdown",
   "metadata": {},
   "source": [
    "This is ternary classification problem since the target has 3 possible values"
   ]
  },
  {
   "cell_type": "markdown",
   "metadata": {},
   "source": [
    "df_features.columns"
   ]
  },
  {
   "cell_type": "code",
   "execution_count": 11,
   "metadata": {},
   "outputs": [
    {
     "data": {
      "text/plain": [
       "Index(['id', 'amount_tsh', 'date_recorded', 'funder', 'gps_height',\n",
       "       'installer', 'longitude', 'latitude', 'wpt_name', 'num_private',\n",
       "       'basin', 'subvillage', 'region', 'region_code', 'district_code', 'lga',\n",
       "       'ward', 'population', 'public_meeting', 'recorded_by',\n",
       "       'scheme_management', 'scheme_name', 'permit', 'construction_year',\n",
       "       'extraction_type', 'extraction_type_group', 'extraction_type_class',\n",
       "       'management', 'management_group', 'payment', 'payment_type',\n",
       "       'water_quality', 'quality_group', 'quantity', 'quantity_group',\n",
       "       'source', 'source_type', 'source_class', 'waterpoint_type',\n",
       "       'waterpoint_type_group'],\n",
       "      dtype='object')"
      ]
     },
     "execution_count": 11,
     "metadata": {},
     "output_type": "execute_result"
    }
   ],
   "source": [
    "df_features.columns"
   ]
  },
  {
   "cell_type": "markdown",
   "metadata": {},
   "source": [
    "### The Features in This Dataset\n",
    "\n",
    "The following set of information about the waterpoints is provided:\n",
    "\n",
    "- **amount_tsh**: Total static head (amount of water available to the waterpoint)\n",
    "- **date_recorded**: The date the row was entered\n",
    "- **funder**: Who funded the well\n",
    "- **gps_height**: Altitude of the well\n",
    "- **installer**: Organization that installed the well\n",
    "- **longitude**: GPS coordinate\n",
    "- **latitude**: GPS coordinate\n",
    "- **wpt_name**: Name of the waterpoint, if there is one\n",
    "- **num_private**: _(Not specified)_\n",
    "- **basin**: Geographic water basin\n",
    "- **subvillage**: Geographic location\n",
    "- **region**: Geographic location\n",
    "- **region_code**: Geographic location (coded)\n",
    "- **district_code**: Geographic location (coded)\n",
    "- **lga**: Geographic location\n",
    "- **ward**: Geographic location\n",
    "- **population**: Population around the well\n",
    "- **public_meeting**: True/False, indicating if a public meeting was held\n",
    "- **recorded_by**: Group entering this row of data\n",
    "- **scheme_management**: Who operates the waterpoint\n",
    "- **scheme_name**: The name of the management scheme\n",
    "- **permit**: Whether the waterpoint is permitted (True/False)\n",
    "- **construction_year**: Year the waterpoint was constructed\n",
    "- **extraction_type**: The kind of extraction method the waterpoint uses\n",
    "- **extraction_type_group**: The extraction type grouped by similar methods\n",
    "- **extraction_type_class**: The extraction type categorized into broader classes\n",
    "- **management**: How the waterpoint is managed\n",
    "- **management_group**: The management grouped into broader categories\n",
    "- **payment**: The cost structure of the water\n",
    "- **payment_type**: The specific type of payment method\n",
    "- **water_quality**: The quality of the water\n",
    "- **quality_group**: The quality grouped by similar qualities\n",
    "- **quantity**: The quantity of water\n",
    "- **quantity_group**: The quantity grouped by similar quantities\n",
    "- **source**: The source of the water\n",
    "- **source_type**: The type of water source\n",
    "- **source_class**: The broader class of the water source\n",
    "- **waterpoint_type**: The specific type of waterpoint\n",
    "- **waterpoint_type_group**: The type of waterpoint grouped by similar types\n"
   ]
  },
  {
   "cell_type": "markdown",
   "metadata": {},
   "source": []
  },
  {
   "cell_type": "code",
   "execution_count": 12,
   "metadata": {},
   "outputs": [
    {
     "data": {
      "text/html": [
       "<div>\n",
       "<style scoped>\n",
       "    .dataframe tbody tr th:only-of-type {\n",
       "        vertical-align: middle;\n",
       "    }\n",
       "\n",
       "    .dataframe tbody tr th {\n",
       "        vertical-align: top;\n",
       "    }\n",
       "\n",
       "    .dataframe thead th {\n",
       "        text-align: right;\n",
       "    }\n",
       "</style>\n",
       "<table border=\"1\" class=\"dataframe\">\n",
       "  <thead>\n",
       "    <tr style=\"text-align: right;\">\n",
       "      <th></th>\n",
       "      <th>id</th>\n",
       "      <th>amount_tsh</th>\n",
       "      <th>date_recorded</th>\n",
       "      <th>funder</th>\n",
       "      <th>gps_height</th>\n",
       "      <th>installer</th>\n",
       "      <th>longitude</th>\n",
       "      <th>latitude</th>\n",
       "      <th>wpt_name</th>\n",
       "      <th>num_private</th>\n",
       "      <th>...</th>\n",
       "      <th>water_quality</th>\n",
       "      <th>quality_group</th>\n",
       "      <th>quantity</th>\n",
       "      <th>quantity_group</th>\n",
       "      <th>source</th>\n",
       "      <th>source_type</th>\n",
       "      <th>source_class</th>\n",
       "      <th>waterpoint_type</th>\n",
       "      <th>waterpoint_type_group</th>\n",
       "      <th>status_group</th>\n",
       "    </tr>\n",
       "  </thead>\n",
       "  <tbody>\n",
       "    <tr>\n",
       "      <th>44379</th>\n",
       "      <td>51499</td>\n",
       "      <td>0.0</td>\n",
       "      <td>2013-03-26</td>\n",
       "      <td>Oikos E.Africa/european Union</td>\n",
       "      <td>1523</td>\n",
       "      <td>Oikos E .Africa</td>\n",
       "      <td>36.904991</td>\n",
       "      <td>-3.255215</td>\n",
       "      <td>Elisa Kaaya</td>\n",
       "      <td>0</td>\n",
       "      <td>...</td>\n",
       "      <td>soft</td>\n",
       "      <td>good</td>\n",
       "      <td>enough</td>\n",
       "      <td>enough</td>\n",
       "      <td>spring</td>\n",
       "      <td>spring</td>\n",
       "      <td>groundwater</td>\n",
       "      <td>communal standpipe</td>\n",
       "      <td>communal standpipe</td>\n",
       "      <td>functional</td>\n",
       "    </tr>\n",
       "    <tr>\n",
       "      <th>38273</th>\n",
       "      <td>6285</td>\n",
       "      <td>0.0</td>\n",
       "      <td>2013-02-14</td>\n",
       "      <td>Theonas Mnyama</td>\n",
       "      <td>1319</td>\n",
       "      <td>Hesawa</td>\n",
       "      <td>34.271602</td>\n",
       "      <td>-1.718760</td>\n",
       "      <td>Theonas Mnyama</td>\n",
       "      <td>0</td>\n",
       "      <td>...</td>\n",
       "      <td>soft</td>\n",
       "      <td>good</td>\n",
       "      <td>enough</td>\n",
       "      <td>enough</td>\n",
       "      <td>shallow well</td>\n",
       "      <td>shallow well</td>\n",
       "      <td>groundwater</td>\n",
       "      <td>hand pump</td>\n",
       "      <td>hand pump</td>\n",
       "      <td>functional</td>\n",
       "    </tr>\n",
       "    <tr>\n",
       "      <th>15786</th>\n",
       "      <td>71423</td>\n",
       "      <td>0.0</td>\n",
       "      <td>2012-10-15</td>\n",
       "      <td>Tasaf</td>\n",
       "      <td>0</td>\n",
       "      <td>TASAF</td>\n",
       "      <td>32.189633</td>\n",
       "      <td>-3.669360</td>\n",
       "      <td>Shule Ya Sekondari</td>\n",
       "      <td>0</td>\n",
       "      <td>...</td>\n",
       "      <td>soft</td>\n",
       "      <td>good</td>\n",
       "      <td>seasonal</td>\n",
       "      <td>seasonal</td>\n",
       "      <td>rainwater harvesting</td>\n",
       "      <td>rainwater harvesting</td>\n",
       "      <td>surface</td>\n",
       "      <td>communal standpipe</td>\n",
       "      <td>communal standpipe</td>\n",
       "      <td>functional</td>\n",
       "    </tr>\n",
       "    <tr>\n",
       "      <th>58342</th>\n",
       "      <td>43773</td>\n",
       "      <td>500.0</td>\n",
       "      <td>2011-03-24</td>\n",
       "      <td>Ir</td>\n",
       "      <td>321</td>\n",
       "      <td>Ir</td>\n",
       "      <td>37.007105</td>\n",
       "      <td>-7.567581</td>\n",
       "      <td>Mama Uduleli</td>\n",
       "      <td>0</td>\n",
       "      <td>...</td>\n",
       "      <td>soft</td>\n",
       "      <td>good</td>\n",
       "      <td>enough</td>\n",
       "      <td>enough</td>\n",
       "      <td>shallow well</td>\n",
       "      <td>shallow well</td>\n",
       "      <td>groundwater</td>\n",
       "      <td>hand pump</td>\n",
       "      <td>hand pump</td>\n",
       "      <td>functional</td>\n",
       "    </tr>\n",
       "    <tr>\n",
       "      <th>23999</th>\n",
       "      <td>22268</td>\n",
       "      <td>0.0</td>\n",
       "      <td>2012-11-06</td>\n",
       "      <td>Tlc/seleman Mang'ombe</td>\n",
       "      <td>0</td>\n",
       "      <td>TLC/Seleman Mang'ombe</td>\n",
       "      <td>32.510970</td>\n",
       "      <td>-4.398781</td>\n",
       "      <td>Seleman Mang'Ombe</td>\n",
       "      <td>0</td>\n",
       "      <td>...</td>\n",
       "      <td>soft</td>\n",
       "      <td>good</td>\n",
       "      <td>dry</td>\n",
       "      <td>dry</td>\n",
       "      <td>shallow well</td>\n",
       "      <td>shallow well</td>\n",
       "      <td>groundwater</td>\n",
       "      <td>hand pump</td>\n",
       "      <td>hand pump</td>\n",
       "      <td>non functional</td>\n",
       "    </tr>\n",
       "    <tr>\n",
       "      <th>55071</th>\n",
       "      <td>7932</td>\n",
       "      <td>0.0</td>\n",
       "      <td>2011-04-02</td>\n",
       "      <td>Government Of Tanzania</td>\n",
       "      <td>0</td>\n",
       "      <td>Government</td>\n",
       "      <td>33.050254</td>\n",
       "      <td>-8.482733</td>\n",
       "      <td>Shuleni</td>\n",
       "      <td>0</td>\n",
       "      <td>...</td>\n",
       "      <td>soft</td>\n",
       "      <td>good</td>\n",
       "      <td>enough</td>\n",
       "      <td>enough</td>\n",
       "      <td>shallow well</td>\n",
       "      <td>shallow well</td>\n",
       "      <td>groundwater</td>\n",
       "      <td>hand pump</td>\n",
       "      <td>hand pump</td>\n",
       "      <td>functional</td>\n",
       "    </tr>\n",
       "    <tr>\n",
       "      <th>8764</th>\n",
       "      <td>26922</td>\n",
       "      <td>0.0</td>\n",
       "      <td>2013-02-26</td>\n",
       "      <td>Adra</td>\n",
       "      <td>1639</td>\n",
       "      <td>ADRA</td>\n",
       "      <td>35.480778</td>\n",
       "      <td>-4.271709</td>\n",
       "      <td>Sumary</td>\n",
       "      <td>0</td>\n",
       "      <td>...</td>\n",
       "      <td>soft</td>\n",
       "      <td>good</td>\n",
       "      <td>insufficient</td>\n",
       "      <td>insufficient</td>\n",
       "      <td>spring</td>\n",
       "      <td>spring</td>\n",
       "      <td>groundwater</td>\n",
       "      <td>communal standpipe multiple</td>\n",
       "      <td>communal standpipe</td>\n",
       "      <td>functional</td>\n",
       "    </tr>\n",
       "    <tr>\n",
       "      <th>37512</th>\n",
       "      <td>60808</td>\n",
       "      <td>0.0</td>\n",
       "      <td>2012-10-23</td>\n",
       "      <td>Rwssp</td>\n",
       "      <td>0</td>\n",
       "      <td>DWE</td>\n",
       "      <td>32.532499</td>\n",
       "      <td>-4.052063</td>\n",
       "      <td>Kwa Peter Simoni</td>\n",
       "      <td>0</td>\n",
       "      <td>...</td>\n",
       "      <td>milky</td>\n",
       "      <td>milky</td>\n",
       "      <td>insufficient</td>\n",
       "      <td>insufficient</td>\n",
       "      <td>shallow well</td>\n",
       "      <td>shallow well</td>\n",
       "      <td>groundwater</td>\n",
       "      <td>other</td>\n",
       "      <td>other</td>\n",
       "      <td>functional</td>\n",
       "    </tr>\n",
       "    <tr>\n",
       "      <th>38654</th>\n",
       "      <td>24715</td>\n",
       "      <td>500.0</td>\n",
       "      <td>2011-02-26</td>\n",
       "      <td>No</td>\n",
       "      <td>465</td>\n",
       "      <td>No</td>\n",
       "      <td>37.065645</td>\n",
       "      <td>-6.807007</td>\n",
       "      <td>Kwa Idd Salum</td>\n",
       "      <td>0</td>\n",
       "      <td>...</td>\n",
       "      <td>soft</td>\n",
       "      <td>good</td>\n",
       "      <td>insufficient</td>\n",
       "      <td>insufficient</td>\n",
       "      <td>shallow well</td>\n",
       "      <td>shallow well</td>\n",
       "      <td>groundwater</td>\n",
       "      <td>hand pump</td>\n",
       "      <td>hand pump</td>\n",
       "      <td>functional needs repair</td>\n",
       "    </tr>\n",
       "    <tr>\n",
       "      <th>10653</th>\n",
       "      <td>42128</td>\n",
       "      <td>0.0</td>\n",
       "      <td>2013-02-06</td>\n",
       "      <td>Government Of Tanzania</td>\n",
       "      <td>57</td>\n",
       "      <td>DWE</td>\n",
       "      <td>39.124723</td>\n",
       "      <td>-8.541236</td>\n",
       "      <td>Kawia</td>\n",
       "      <td>0</td>\n",
       "      <td>...</td>\n",
       "      <td>soft</td>\n",
       "      <td>good</td>\n",
       "      <td>enough</td>\n",
       "      <td>enough</td>\n",
       "      <td>shallow well</td>\n",
       "      <td>shallow well</td>\n",
       "      <td>groundwater</td>\n",
       "      <td>other</td>\n",
       "      <td>other</td>\n",
       "      <td>non functional</td>\n",
       "    </tr>\n",
       "  </tbody>\n",
       "</table>\n",
       "<p>10 rows × 41 columns</p>\n",
       "</div>"
      ],
      "text/plain": [
       "          id  amount_tsh date_recorded                         funder  \\\n",
       "44379  51499         0.0    2013-03-26  Oikos E.Africa/european Union   \n",
       "38273   6285         0.0    2013-02-14                 Theonas Mnyama   \n",
       "15786  71423         0.0    2012-10-15                          Tasaf   \n",
       "58342  43773       500.0    2011-03-24                             Ir   \n",
       "23999  22268         0.0    2012-11-06          Tlc/seleman Mang'ombe   \n",
       "55071   7932         0.0    2011-04-02         Government Of Tanzania   \n",
       "8764   26922         0.0    2013-02-26                           Adra   \n",
       "37512  60808         0.0    2012-10-23                          Rwssp   \n",
       "38654  24715       500.0    2011-02-26                             No   \n",
       "10653  42128         0.0    2013-02-06         Government Of Tanzania   \n",
       "\n",
       "       gps_height              installer  longitude  latitude  \\\n",
       "44379        1523        Oikos E .Africa  36.904991 -3.255215   \n",
       "38273        1319                 Hesawa  34.271602 -1.718760   \n",
       "15786           0                  TASAF  32.189633 -3.669360   \n",
       "58342         321                     Ir  37.007105 -7.567581   \n",
       "23999           0  TLC/Seleman Mang'ombe  32.510970 -4.398781   \n",
       "55071           0             Government  33.050254 -8.482733   \n",
       "8764         1639                   ADRA  35.480778 -4.271709   \n",
       "37512           0                    DWE  32.532499 -4.052063   \n",
       "38654         465                     No  37.065645 -6.807007   \n",
       "10653          57                    DWE  39.124723 -8.541236   \n",
       "\n",
       "                 wpt_name  num_private  ... water_quality quality_group  \\\n",
       "44379         Elisa Kaaya            0  ...          soft          good   \n",
       "38273      Theonas Mnyama            0  ...          soft          good   \n",
       "15786  Shule Ya Sekondari            0  ...          soft          good   \n",
       "58342        Mama Uduleli            0  ...          soft          good   \n",
       "23999   Seleman Mang'Ombe            0  ...          soft          good   \n",
       "55071             Shuleni            0  ...          soft          good   \n",
       "8764               Sumary            0  ...          soft          good   \n",
       "37512    Kwa Peter Simoni            0  ...         milky         milky   \n",
       "38654       Kwa Idd Salum            0  ...          soft          good   \n",
       "10653               Kawia            0  ...          soft          good   \n",
       "\n",
       "           quantity  quantity_group                source  \\\n",
       "44379        enough          enough                spring   \n",
       "38273        enough          enough          shallow well   \n",
       "15786      seasonal        seasonal  rainwater harvesting   \n",
       "58342        enough          enough          shallow well   \n",
       "23999           dry             dry          shallow well   \n",
       "55071        enough          enough          shallow well   \n",
       "8764   insufficient    insufficient                spring   \n",
       "37512  insufficient    insufficient          shallow well   \n",
       "38654  insufficient    insufficient          shallow well   \n",
       "10653        enough          enough          shallow well   \n",
       "\n",
       "                source_type source_class              waterpoint_type  \\\n",
       "44379                spring  groundwater           communal standpipe   \n",
       "38273          shallow well  groundwater                    hand pump   \n",
       "15786  rainwater harvesting      surface           communal standpipe   \n",
       "58342          shallow well  groundwater                    hand pump   \n",
       "23999          shallow well  groundwater                    hand pump   \n",
       "55071          shallow well  groundwater                    hand pump   \n",
       "8764                 spring  groundwater  communal standpipe multiple   \n",
       "37512          shallow well  groundwater                        other   \n",
       "38654          shallow well  groundwater                    hand pump   \n",
       "10653          shallow well  groundwater                        other   \n",
       "\n",
       "      waterpoint_type_group             status_group  \n",
       "44379    communal standpipe               functional  \n",
       "38273             hand pump               functional  \n",
       "15786    communal standpipe               functional  \n",
       "58342             hand pump               functional  \n",
       "23999             hand pump           non functional  \n",
       "55071             hand pump               functional  \n",
       "8764     communal standpipe               functional  \n",
       "37512                 other               functional  \n",
       "38654             hand pump  functional needs repair  \n",
       "10653                 other           non functional  \n",
       "\n",
       "[10 rows x 41 columns]"
      ]
     },
     "execution_count": 12,
     "metadata": {},
     "output_type": "execute_result"
    }
   ],
   "source": [
    "df.sample(n=10)"
   ]
  },
  {
   "cell_type": "markdown",
   "metadata": {},
   "source": [
    "- On inspection, some columns e.g `quantity` and `quantity_group` seem to have identical information. Thus, we first verify if indeed this is the case"
   ]
  },
  {
   "cell_type": "code",
   "execution_count": 13,
   "metadata": {},
   "outputs": [
    {
     "name": "stdout",
     "output_type": "stream",
     "text": [
      "Columns are identical: True\n"
     ]
    }
   ],
   "source": [
    "# Check if columns are identical\n",
    "are_identical = (df['quantity'] == df['quantity_group']).all()\n",
    "\n",
    "print(\"Columns are identical:\", are_identical)"
   ]
  },
  {
   "cell_type": "markdown",
   "metadata": {},
   "source": [
    "## Data Cleaning"
   ]
  },
  {
   "cell_type": "markdown",
   "metadata": {},
   "source": [
    "### Column Inspection Comparison\n",
    "\n",
    "To streamline our dataset and remove redundancy, we will perform the following steps:\n",
    "\n",
    "1. **Identify Columns with Similar Names or Descriptions**  \n",
    "   We'll start by identifying columns that have similar names or descriptions. This helps us determine which columns might contain overlapping information.\n",
    "\n",
    "2. **Compare Column Content**  \n",
    "   For columns identified as similar, we will conduct further checks to compare their content. This involves:\n",
    "   - **Exact Equality Check**: Verifying if the values in the columns are identical for each row.\n",
    "   - **Handling Missing Values**: Ensuring that missing values are considered in the comparison.\n",
    "   \n",
    "3. **Trim Down the Dataset**  \n",
    "   Based on the comparison results, we will:\n",
    "   - **Remove Redundant Columns**: Eliminate columns that contain duplicate or redundant information.\n",
    "   - **Optimize the Dataset**: Reduce the dataset size and complexity by retaining only the necessary columns.\n",
    "\n",
    "By following these steps, we will improve the quality and efficiency of our dataset, ensuring that we work with clean and relevant data.\n"
   ]
  },
  {
   "cell_type": "code",
   "execution_count": 14,
   "metadata": {},
   "outputs": [],
   "source": [
    "# list to compile all redundant columns to remove on the test dataset as well\n",
    "redundant_cols = []"
   ]
  },
  {
   "cell_type": "code",
   "execution_count": 15,
   "metadata": {},
   "outputs": [
    {
     "data": {
      "text/plain": [
       "Index(['id', 'amount_tsh', 'date_recorded', 'funder', 'gps_height',\n",
       "       'installer', 'longitude', 'latitude', 'wpt_name', 'num_private',\n",
       "       'basin', 'subvillage', 'region', 'region_code', 'district_code', 'lga',\n",
       "       'ward', 'population', 'public_meeting', 'recorded_by',\n",
       "       'scheme_management', 'scheme_name', 'permit', 'construction_year',\n",
       "       'extraction_type', 'extraction_type_group', 'extraction_type_class',\n",
       "       'management', 'management_group', 'payment', 'payment_type',\n",
       "       'water_quality', 'quality_group', 'quantity', 'quantity_group',\n",
       "       'source', 'source_type', 'source_class', 'waterpoint_type',\n",
       "       'waterpoint_type_group', 'status_group'],\n",
       "      dtype='object')"
      ]
     },
     "execution_count": 15,
     "metadata": {},
     "output_type": "execute_result"
    }
   ],
   "source": [
    "df.columns"
   ]
  },
  {
   "cell_type": "code",
   "execution_count": 16,
   "metadata": {},
   "outputs": [
    {
     "data": {
      "text/html": [
       "<div>\n",
       "<style scoped>\n",
       "    .dataframe tbody tr th:only-of-type {\n",
       "        vertical-align: middle;\n",
       "    }\n",
       "\n",
       "    .dataframe tbody tr th {\n",
       "        vertical-align: top;\n",
       "    }\n",
       "\n",
       "    .dataframe thead th {\n",
       "        text-align: right;\n",
       "    }\n",
       "</style>\n",
       "<table border=\"1\" class=\"dataframe\">\n",
       "  <thead>\n",
       "    <tr style=\"text-align: right;\">\n",
       "      <th></th>\n",
       "      <th>subvillage</th>\n",
       "      <th>region</th>\n",
       "      <th>region_code</th>\n",
       "      <th>district_code</th>\n",
       "      <th>lga</th>\n",
       "      <th>ward</th>\n",
       "    </tr>\n",
       "  </thead>\n",
       "  <tbody>\n",
       "    <tr>\n",
       "      <th>0</th>\n",
       "      <td>Mnyusi B</td>\n",
       "      <td>Iringa</td>\n",
       "      <td>11</td>\n",
       "      <td>5</td>\n",
       "      <td>Ludewa</td>\n",
       "      <td>Mundindi</td>\n",
       "    </tr>\n",
       "    <tr>\n",
       "      <th>1</th>\n",
       "      <td>Nyamara</td>\n",
       "      <td>Mara</td>\n",
       "      <td>20</td>\n",
       "      <td>2</td>\n",
       "      <td>Serengeti</td>\n",
       "      <td>Natta</td>\n",
       "    </tr>\n",
       "    <tr>\n",
       "      <th>2</th>\n",
       "      <td>Majengo</td>\n",
       "      <td>Manyara</td>\n",
       "      <td>21</td>\n",
       "      <td>4</td>\n",
       "      <td>Simanjiro</td>\n",
       "      <td>Ngorika</td>\n",
       "    </tr>\n",
       "    <tr>\n",
       "      <th>3</th>\n",
       "      <td>Mahakamani</td>\n",
       "      <td>Mtwara</td>\n",
       "      <td>90</td>\n",
       "      <td>63</td>\n",
       "      <td>Nanyumbu</td>\n",
       "      <td>Nanyumbu</td>\n",
       "    </tr>\n",
       "    <tr>\n",
       "      <th>4</th>\n",
       "      <td>Kyanyamisa</td>\n",
       "      <td>Kagera</td>\n",
       "      <td>18</td>\n",
       "      <td>1</td>\n",
       "      <td>Karagwe</td>\n",
       "      <td>Nyakasimbi</td>\n",
       "    </tr>\n",
       "  </tbody>\n",
       "</table>\n",
       "</div>"
      ],
      "text/plain": [
       "   subvillage   region  region_code  district_code        lga        ward\n",
       "0    Mnyusi B   Iringa           11              5     Ludewa    Mundindi\n",
       "1     Nyamara     Mara           20              2  Serengeti       Natta\n",
       "2     Majengo  Manyara           21              4  Simanjiro     Ngorika\n",
       "3  Mahakamani   Mtwara           90             63   Nanyumbu    Nanyumbu\n",
       "4  Kyanyamisa   Kagera           18              1    Karagwe  Nyakasimbi"
      ]
     },
     "execution_count": 16,
     "metadata": {},
     "output_type": "execute_result"
    }
   ],
   "source": [
    "locations = ['subvillage','region','region_code','district_code','lga','ward']\n",
    "df[locations].head()"
   ]
  },
  {
   "cell_type": "code",
   "execution_count": 17,
   "metadata": {},
   "outputs": [
    {
     "data": {
      "text/plain": [
       "count    59400.000000\n",
       "mean        15.297003\n",
       "std         17.587406\n",
       "min          1.000000\n",
       "25%          5.000000\n",
       "50%         12.000000\n",
       "75%         17.000000\n",
       "max         99.000000\n",
       "Name: region_code, dtype: float64"
      ]
     },
     "execution_count": 17,
     "metadata": {},
     "output_type": "execute_result"
    }
   ],
   "source": [
    "df['region_code'].describe()"
   ]
  },
  {
   "cell_type": "markdown",
   "metadata": {},
   "source": []
  },
  {
   "cell_type": "code",
   "execution_count": 18,
   "metadata": {},
   "outputs": [
    {
     "name": "stdout",
     "output_type": "stream",
     "text": [
      "Column : subvillage, Unique values : 19288\n",
      "Column : region, Unique values : 21\n",
      "Column : region_code, Unique values : 27\n",
      "Column : district_code, Unique values : 20\n",
      "Column : lga, Unique values : 125\n",
      "Column : ward, Unique values : 2092\n"
     ]
    }
   ],
   "source": [
    "for element in locations:\n",
    "        print(f\"Column : {element}, Unique values : {len(df[element].unique())}\")"
   ]
  },
  {
   "cell_type": "markdown",
   "metadata": {},
   "source": [
    "## Column Selection for Logistic Regression and Decision Tree Models\n",
    "\n",
    "### 1. Categorical Variables\n",
    "\n",
    "- **Decision Trees**: Handle categorical variables well. You can use all categorical columns directly as decision trees can split on different categories without numerical encoding.\n",
    "  \n",
    "- **Logistic Regression**: Requires numerical input. Categorical variables need to be encoded into numerical formats, typically using one-hot encoding or label encoding.\n",
    "\n",
    "### 2. Column Selection\n",
    "\n",
    "- **`subvillage`**: 19,288 unique values\n",
    "  - **Note**: High cardinality may make this column challenging to encode and could lead to overfitting. Consider not using it directly.\n",
    "\n",
    "- **`region`**: 21 unique values\n",
    "  - **Note**: Moderate number of categories. Can be encoded using one-hot encoding or label encoding.\n",
    "\n",
    "- **`region_code`**: 27 unique values\n",
    "  - **Note**: Similar to `region`, this column has a manageable number of categories and can be used after encoding.\n",
    "\n",
    "- **`district_code`**: 20 unique values\n",
    "  - **Note**: Manageable number of categories. Suitable for encoding.\n",
    "\n",
    "- **`lga`**: 125 unique values\n",
    "  - **Note**: High number of unique values, which may be challenging for encoding and could lead to overfitting.\n",
    "\n",
    "- **`ward`**: 2,092 unique values\n",
    "  - **Note**: Very high cardinality, potentially problematic for encoding and may not provide much predictive value.\n",
    "\n",
    "### Recommendations\n",
    "\n",
    "- **Decision Trees**: You can use all columns directly. Decision trees handle categorical variables well and can manage high-cardinality features without extensive preprocessing.\n",
    "\n",
    "- **Logistic Regression**:\n",
    "  - **Use Columns with Fewer Unique Values**: Start with  `region_code`, `district_code`, and `lga` due to their more manageable number of unique values.\n",
    "  - **Consider Feature Reduction**: Avoid using `subvillage` and `ward` directly because of their high cardinality. Consider aggregating or grouping these columns to reduce the number of unique values.\n",
    "  - **One-Hot Encoding**: Apply one-hot encoding for categorical columns that have a manageable number of unique values.\n"
   ]
  },
  {
   "cell_type": "markdown",
   "metadata": {},
   "source": [
    "- All this seem to show information about geographical location. From inspection, `district_code` and `region_code` seem to be the most suitable since they are codes of locations and have relatively fewer classes (80 for `district_code`, 100 for `region_code`)"
   ]
  },
  {
   "cell_type": "code",
   "execution_count": 19,
   "metadata": {},
   "outputs": [
    {
     "data": {
      "text/plain": [
       "Index(['id', 'amount_tsh', 'date_recorded', 'funder', 'gps_height',\n",
       "       'installer', 'longitude', 'latitude', 'wpt_name', 'num_private',\n",
       "       'basin', 'region_code', 'district_code', 'lga', 'population',\n",
       "       'public_meeting', 'recorded_by', 'scheme_management', 'scheme_name',\n",
       "       'permit', 'construction_year', 'extraction_type',\n",
       "       'extraction_type_group', 'extraction_type_class', 'management',\n",
       "       'management_group', 'payment', 'payment_type', 'water_quality',\n",
       "       'quality_group', 'quantity', 'quantity_group', 'source', 'source_type',\n",
       "       'source_class', 'waterpoint_type', 'waterpoint_type_group',\n",
       "       'status_group'],\n",
       "      dtype='object')"
      ]
     },
     "execution_count": 19,
     "metadata": {},
     "output_type": "execute_result"
    }
   ],
   "source": [
    "df_concise = df.drop(['subvillage', 'ward','region'], axis = 1)\n",
    "df_concise.columns"
   ]
  },
  {
   "cell_type": "code",
   "execution_count": 20,
   "metadata": {},
   "outputs": [],
   "source": [
    "redundant_cols += ['subvillage','region','ward']"
   ]
  },
  {
   "cell_type": "markdown",
   "metadata": {},
   "source": [
    "## We create a function to display relevant info for other similar columns...\n"
   ]
  },
  {
   "cell_type": "code",
   "execution_count": 21,
   "metadata": {},
   "outputs": [],
   "source": [
    "def column_info(similar_cols):\n",
    "    for element in similar_cols:\n",
    "        print(f\"Column : {element}, Unique values : {len(df[element].unique())}\")\n",
    "    for element in range(len(similar_cols)):\n",
    "        print (f\"Column: {similar_cols[element]}\")\n",
    "        for row in df_concise[similar_cols[element]].unique():\n",
    "            print(row)\n",
    "        print('\\n')\n"
   ]
  },
  {
   "cell_type": "markdown",
   "metadata": {},
   "source": [
    "## Data Cleaning - Removing reduntant columns"
   ]
  },
  {
   "cell_type": "markdown",
   "metadata": {},
   "source": [
    "Next up...\n",
    "- **extraction_type**: The kind of extraction method the waterpoint uses\n",
    "- **extraction_type_group**: The extraction type grouped by similar methods\n",
    "- **extraction_type_class**: The extraction type categorized into broader classes"
   ]
  },
  {
   "cell_type": "code",
   "execution_count": 22,
   "metadata": {},
   "outputs": [
    {
     "name": "stdout",
     "output_type": "stream",
     "text": [
      "Column : extraction_type, Unique values : 18\n",
      "Column : extraction_type_group, Unique values : 13\n",
      "Column : extraction_type_class, Unique values : 7\n",
      "Column: extraction_type\n",
      "gravity\n",
      "submersible\n",
      "swn 80\n",
      "nira/tanira\n",
      "india mark ii\n",
      "other\n",
      "ksb\n",
      "mono\n",
      "windmill\n",
      "afridev\n",
      "other - rope pump\n",
      "india mark iii\n",
      "other - swn 81\n",
      "other - play pump\n",
      "cemo\n",
      "climax\n",
      "walimi\n",
      "other - mkulima/shinyanga\n",
      "\n",
      "\n",
      "Column: extraction_type_group\n",
      "gravity\n",
      "submersible\n",
      "swn 80\n",
      "nira/tanira\n",
      "india mark ii\n",
      "other\n",
      "mono\n",
      "wind-powered\n",
      "afridev\n",
      "rope pump\n",
      "india mark iii\n",
      "other handpump\n",
      "other motorpump\n",
      "\n",
      "\n",
      "Column: extraction_type_class\n",
      "gravity\n",
      "submersible\n",
      "handpump\n",
      "other\n",
      "motorpump\n",
      "wind-powered\n",
      "rope pump\n",
      "\n",
      "\n"
     ]
    }
   ],
   "source": [
    "extraction = ['extraction_type','extraction_type_group','extraction_type_class']\n",
    "column_info(extraction)"
   ]
  },
  {
   "cell_type": "markdown",
   "metadata": {},
   "source": [
    "## Feature Selection Rationale\n",
    "\n",
    "For the extraction method features, we compared three columns:\n",
    "\n",
    "- **`extraction_type`**: 18 unique values.\n",
    "- **`extraction_type_group`**: 13 unique values.\n",
    "- **`extraction_type_class`**: 7 unique values.\n",
    "\n",
    "### Decision\n",
    "\n",
    "We chose **`extraction_type_class`** because:\n",
    "\n",
    "- **Simplification**: Fewer unique values, making the data easier to handle and less prone to overfitting.\n",
    "- **Relevance**: Provides essential information about extraction methods in a more generalized form, maintaining important distinctions without excessive detail.\n",
    "\n",
    "This choice balances detail and manageability, enhancing model performance and interpretability.\n"
   ]
  },
  {
   "cell_type": "code",
   "execution_count": 23,
   "metadata": {},
   "outputs": [],
   "source": [
    "df_concise = df_concise.drop(['extraction_type','extraction_type_group'], axis = 1)\n"
   ]
  },
  {
   "cell_type": "code",
   "execution_count": 24,
   "metadata": {},
   "outputs": [],
   "source": [
    "redundant_cols += ['extraction_type','extraction_type_group']"
   ]
  },
  {
   "cell_type": "markdown",
   "metadata": {},
   "source": [
    "Next up...\n",
    "- **management**: How the waterpoint is managed\n",
    "- **management_group**: The management grouped into broader categories"
   ]
  },
  {
   "cell_type": "code",
   "execution_count": 25,
   "metadata": {},
   "outputs": [
    {
     "name": "stdout",
     "output_type": "stream",
     "text": [
      "Column : management, Unique values : 12\n",
      "Column : management_group, Unique values : 5\n",
      "Column: management\n",
      "vwc\n",
      "wug\n",
      "other\n",
      "private operator\n",
      "water board\n",
      "wua\n",
      "company\n",
      "water authority\n",
      "parastatal\n",
      "unknown\n",
      "other - school\n",
      "trust\n",
      "\n",
      "\n",
      "Column: management_group\n",
      "user-group\n",
      "other\n",
      "commercial\n",
      "parastatal\n",
      "unknown\n",
      "\n",
      "\n"
     ]
    }
   ],
   "source": [
    "management = ['management','management_group']\n",
    "column_info(management)"
   ]
  },
  {
   "cell_type": "markdown",
   "metadata": {},
   "source": [
    "## Feature Selection Rationale\n",
    "\n",
    "For the management-related features, we compared two columns:\n",
    "\n",
    "- **`management`**: 12 unique values.\n",
    "- **`management_group`**: 5 unique values.\n",
    "\n",
    "### Decision\n",
    "\n",
    "We chose **`management_group`** because:\n",
    "\n",
    "- **Simplification**: Fewer unique values, which reduces complexity and potential noise in the model.\n",
    "- **Generalization**: Provides a broader classification that still captures essential distinctions without overwhelming detail.\n",
    "\n",
    "This choice ensures a more streamlined dataset while retaining key information about management types.\n"
   ]
  },
  {
   "cell_type": "code",
   "execution_count": 26,
   "metadata": {},
   "outputs": [
    {
     "data": {
      "text/plain": [
       "Index(['id', 'amount_tsh', 'date_recorded', 'funder', 'gps_height',\n",
       "       'installer', 'longitude', 'latitude', 'wpt_name', 'num_private',\n",
       "       'basin', 'region_code', 'district_code', 'lga', 'population',\n",
       "       'public_meeting', 'recorded_by', 'scheme_management', 'scheme_name',\n",
       "       'permit', 'construction_year', 'extraction_type_class',\n",
       "       'management_group', 'payment', 'payment_type', 'water_quality',\n",
       "       'quality_group', 'quantity', 'quantity_group', 'source', 'source_type',\n",
       "       'source_class', 'waterpoint_type', 'waterpoint_type_group',\n",
       "       'status_group'],\n",
       "      dtype='object')"
      ]
     },
     "execution_count": 26,
     "metadata": {},
     "output_type": "execute_result"
    }
   ],
   "source": [
    "df_concise = df_concise.drop(['management'], axis = 1)\n",
    "df_concise.columns"
   ]
  },
  {
   "cell_type": "code",
   "execution_count": 27,
   "metadata": {},
   "outputs": [],
   "source": [
    "redundant_cols.append('management')"
   ]
  },
  {
   "cell_type": "markdown",
   "metadata": {},
   "source": [
    "Next up...\n",
    "- **payment**: The cost structure of the water\n",
    "- **payment_type**: The specific type of payment method"
   ]
  },
  {
   "cell_type": "code",
   "execution_count": 28,
   "metadata": {},
   "outputs": [
    {
     "name": "stdout",
     "output_type": "stream",
     "text": [
      "Column : payment, Unique values : 7\n",
      "Column : payment_type, Unique values : 7\n",
      "Column: payment\n",
      "pay annually\n",
      "never pay\n",
      "pay per bucket\n",
      "unknown\n",
      "pay when scheme fails\n",
      "other\n",
      "pay monthly\n",
      "\n",
      "\n",
      "Column: payment_type\n",
      "annually\n",
      "never pay\n",
      "per bucket\n",
      "unknown\n",
      "on failure\n",
      "other\n",
      "monthly\n",
      "\n",
      "\n"
     ]
    }
   ],
   "source": [
    "payment = ['payment', 'payment_type']\n",
    "column_info(payment)\n",
    "    "
   ]
  },
  {
   "cell_type": "markdown",
   "metadata": {},
   "source": [
    "## Feature Selection Rationale\n",
    "\n",
    "For the payment-related features, we compared two columns:\n",
    "\n",
    "- **`payment`**: 7 unique values.\n",
    "- **`payment_type`**: 7 unique values.\n",
    "\n",
    "### Decision\n",
    "\n",
    "We chose **`payment_type`** because:\n",
    "\n",
    "- **Consistency**: Both columns have the same number of unique values, but **`payment_type`** uses a standardized terminology.\n",
    "- **Clarity**: The term **`payment_type`** more precisely describes the nature of the payment method, ensuring clearer understanding and interpretation.\n",
    "\n",
    "This choice improves the dataset's clarity and consistency for analysis.\n"
   ]
  },
  {
   "cell_type": "code",
   "execution_count": 29,
   "metadata": {},
   "outputs": [],
   "source": [
    "df_concise = df_concise.drop(['payment'], axis = 1)\n"
   ]
  },
  {
   "cell_type": "code",
   "execution_count": 30,
   "metadata": {},
   "outputs": [],
   "source": [
    "redundant_cols.append('payment')"
   ]
  },
  {
   "cell_type": "code",
   "execution_count": 31,
   "metadata": {},
   "outputs": [
    {
     "data": {
      "text/plain": [
       "Index(['id', 'amount_tsh', 'date_recorded', 'funder', 'gps_height',\n",
       "       'installer', 'longitude', 'latitude', 'wpt_name', 'num_private',\n",
       "       'basin', 'region_code', 'district_code', 'lga', 'population',\n",
       "       'public_meeting', 'recorded_by', 'scheme_management', 'scheme_name',\n",
       "       'permit', 'construction_year', 'extraction_type_class',\n",
       "       'management_group', 'payment_type', 'water_quality', 'quality_group',\n",
       "       'quantity', 'quantity_group', 'source', 'source_type', 'source_class',\n",
       "       'waterpoint_type', 'waterpoint_type_group', 'status_group'],\n",
       "      dtype='object')"
      ]
     },
     "execution_count": 31,
     "metadata": {},
     "output_type": "execute_result"
    }
   ],
   "source": [
    "df_concise.columns"
   ]
  },
  {
   "cell_type": "markdown",
   "metadata": {},
   "source": [
    "Next up...\n",
    "- **water_quality**: The quality of the water\n",
    "- **quality_group**: The quality grouped by similar qualities\n"
   ]
  },
  {
   "cell_type": "code",
   "execution_count": 32,
   "metadata": {},
   "outputs": [
    {
     "name": "stdout",
     "output_type": "stream",
     "text": [
      "Column : water_quality, Unique values : 8\n",
      "Column : quality_group, Unique values : 6\n",
      "Column: water_quality\n",
      "soft\n",
      "salty\n",
      "milky\n",
      "unknown\n",
      "fluoride\n",
      "coloured\n",
      "salty abandoned\n",
      "fluoride abandoned\n",
      "\n",
      "\n",
      "Column: quality_group\n",
      "good\n",
      "salty\n",
      "milky\n",
      "unknown\n",
      "fluoride\n",
      "colored\n",
      "\n",
      "\n"
     ]
    }
   ],
   "source": [
    "water_quality = ['water_quality','quality_group']\n",
    "column_info(water_quality)"
   ]
  },
  {
   "cell_type": "markdown",
   "metadata": {},
   "source": [
    "## Feature Selection Rationale\n",
    "\n",
    "For the water quality-related features, we compared two columns:\n",
    "\n",
    "- **`water_quality`**: 8 unique values.\n",
    "- **`quality_group`**: 6 unique values.\n",
    "\n",
    "### Decision\n",
    "\n",
    "We chose **`quality_group`** because:\n",
    "\n",
    "- **Simplification**: **`quality_group`** provides a more generalized categorization of water quality, reducing complexity.\n",
    "- **Relevance**: It consolidates similar quality types into broader categories, making it more practical for analysis.\n",
    "\n",
    "This selection helps streamline the dataset while maintaining the essential information needed for effective analysis.\n"
   ]
  },
  {
   "cell_type": "code",
   "execution_count": 33,
   "metadata": {},
   "outputs": [
    {
     "data": {
      "text/plain": [
       "Index(['id', 'amount_tsh', 'date_recorded', 'funder', 'gps_height',\n",
       "       'installer', 'longitude', 'latitude', 'wpt_name', 'num_private',\n",
       "       'basin', 'region_code', 'district_code', 'lga', 'population',\n",
       "       'public_meeting', 'recorded_by', 'scheme_management', 'scheme_name',\n",
       "       'permit', 'construction_year', 'extraction_type_class',\n",
       "       'management_group', 'payment_type', 'quality_group', 'quantity',\n",
       "       'quantity_group', 'source', 'source_type', 'source_class',\n",
       "       'waterpoint_type', 'waterpoint_type_group', 'status_group'],\n",
       "      dtype='object')"
      ]
     },
     "execution_count": 33,
     "metadata": {},
     "output_type": "execute_result"
    }
   ],
   "source": [
    "df_concise = df_concise.drop(['water_quality'], axis = 1)\n",
    "df_concise.columns"
   ]
  },
  {
   "cell_type": "code",
   "execution_count": 34,
   "metadata": {},
   "outputs": [],
   "source": [
    "redundant_cols.append('water_quality')"
   ]
  },
  {
   "cell_type": "markdown",
   "metadata": {},
   "source": [
    "Next up...\n",
    "- **quantity**: The quantity of water\n",
    "- **quantity_group**: The quantity grouped by similar quantities"
   ]
  },
  {
   "cell_type": "code",
   "execution_count": 35,
   "metadata": {},
   "outputs": [
    {
     "name": "stdout",
     "output_type": "stream",
     "text": [
      "Column : quantity, Unique values : 5\n",
      "Column : quantity_group, Unique values : 5\n",
      "Column: quantity\n",
      "enough\n",
      "insufficient\n",
      "dry\n",
      "seasonal\n",
      "unknown\n",
      "\n",
      "\n",
      "Column: quantity_group\n",
      "enough\n",
      "insufficient\n",
      "dry\n",
      "seasonal\n",
      "unknown\n",
      "\n",
      "\n"
     ]
    }
   ],
   "source": [
    "water_quanity = ['quantity','quantity_group']\n",
    "column_info(water_quanity)"
   ]
  },
  {
   "cell_type": "code",
   "execution_count": 36,
   "metadata": {},
   "outputs": [
    {
     "name": "stdout",
     "output_type": "stream",
     "text": [
      "Columns are identical: True\n"
     ]
    }
   ],
   "source": [
    "# Check if columns are identical\n",
    "are_identical = (df_concise['quantity'] == df_concise['quantity_group']).all()\n",
    "\n",
    "print(\"Columns are identical:\", are_identical)"
   ]
  },
  {
   "cell_type": "markdown",
   "metadata": {},
   "source": [
    "## Feature Selection Rationale\n",
    "\n",
    "For the water quantity-related features, we compared two columns:\n",
    "\n",
    "- **`quantity`**: 5 unique values.\n",
    "- **`quantity_group`**: 5 unique values.\n",
    "\n",
    "### Decision\n",
    "\n",
    "We chose **`quantity_group`** because:\n",
    "\n",
    "- **Identical Data**: Both columns have identical values, as confirmed by the check (`Columns are identical: True`).\n",
    "- **Consistency**: **`quantity_group`** is already used in other parts of the dataset, ensuring consistency in feature naming and usage.\n",
    "\n",
    "Thus, **`quantity_group`** is selected to maintain consistency and avoid redundancy.\n"
   ]
  },
  {
   "cell_type": "code",
   "execution_count": 37,
   "metadata": {},
   "outputs": [
    {
     "data": {
      "text/plain": [
       "Index(['id', 'amount_tsh', 'date_recorded', 'funder', 'gps_height',\n",
       "       'installer', 'longitude', 'latitude', 'wpt_name', 'num_private',\n",
       "       'basin', 'region_code', 'district_code', 'lga', 'population',\n",
       "       'public_meeting', 'recorded_by', 'scheme_management', 'scheme_name',\n",
       "       'permit', 'construction_year', 'extraction_type_class',\n",
       "       'management_group', 'payment_type', 'quality_group', 'quantity_group',\n",
       "       'source', 'source_type', 'source_class', 'waterpoint_type',\n",
       "       'waterpoint_type_group', 'status_group'],\n",
       "      dtype='object')"
      ]
     },
     "execution_count": 37,
     "metadata": {},
     "output_type": "execute_result"
    }
   ],
   "source": [
    "df_concise = df_concise.drop(['quantity'], axis = 1)\n",
    "df_concise.columns"
   ]
  },
  {
   "cell_type": "code",
   "execution_count": 38,
   "metadata": {},
   "outputs": [],
   "source": [
    "redundant_cols.append('quantity')"
   ]
  },
  {
   "cell_type": "markdown",
   "metadata": {},
   "source": [
    "Next up...\n",
    "- **source**: The source of the water\n",
    "- **source_type**: The type of water source\n",
    "- **source_class**: The broader class of the water source"
   ]
  },
  {
   "cell_type": "code",
   "execution_count": 39,
   "metadata": {},
   "outputs": [
    {
     "name": "stdout",
     "output_type": "stream",
     "text": [
      "Column : source, Unique values : 10\n",
      "Column : source_type, Unique values : 7\n",
      "Column : source_class, Unique values : 3\n",
      "Column: source\n",
      "spring\n",
      "rainwater harvesting\n",
      "dam\n",
      "machine dbh\n",
      "other\n",
      "shallow well\n",
      "river\n",
      "hand dtw\n",
      "lake\n",
      "unknown\n",
      "\n",
      "\n",
      "Column: source_type\n",
      "spring\n",
      "rainwater harvesting\n",
      "dam\n",
      "borehole\n",
      "other\n",
      "shallow well\n",
      "river/lake\n",
      "\n",
      "\n",
      "Column: source_class\n",
      "groundwater\n",
      "surface\n",
      "unknown\n",
      "\n",
      "\n"
     ]
    }
   ],
   "source": [
    "source = ['source','source_type','source_class']\n",
    "column_info(source)"
   ]
  },
  {
   "cell_type": "markdown",
   "metadata": {},
   "source": [
    "## Feature Selection Rationale\n",
    "\n",
    "- **Drop `source`**: Since `source` contains the most detailed level of information and has the highest number of unique values, it could introduce more complexity without adding significant predictive power compared to `source_type`. The fine granularity may also lead to overfitting, especially in logistic regression.\n",
    "\n",
    "- **Keep `source_class`**: This column has the least number of unique values, making it simple to encode and interpret. It provides high-level, general information that could be useful for both logistic regression and decision trees without adding much complexity.\n",
    "\n",
    "- **Keep `source_type`**: This column offers a balance between detail and simplicity with 7 unique values. It provides more information than `source_class` but is less granular than `source`. This could be useful depending on the specific needs of your model.\n",
    "\n",
    "### Final Decision\n",
    "\n",
    "- **For Decision Trees**: Keep both `source_class` and `source_type`. Decision trees handle categorical variables well, and having both columns could help the model learn from both general and more specific information.\n",
    "\n",
    "- **For Logistic Regression**: Drop `source` and use `source_class` and `source_type`. These two columns are simpler to encode and reduce the risk of multicollinearity and overfitting due to fewer unique values.\n"
   ]
  },
  {
   "cell_type": "code",
   "execution_count": 40,
   "metadata": {},
   "outputs": [
    {
     "data": {
      "text/plain": [
       "Index(['id', 'amount_tsh', 'date_recorded', 'funder', 'gps_height',\n",
       "       'installer', 'longitude', 'latitude', 'wpt_name', 'num_private',\n",
       "       'basin', 'region_code', 'district_code', 'lga', 'population',\n",
       "       'public_meeting', 'recorded_by', 'scheme_management', 'scheme_name',\n",
       "       'permit', 'construction_year', 'extraction_type_class',\n",
       "       'management_group', 'payment_type', 'quality_group', 'quantity_group',\n",
       "       'source_type', 'source_class', 'waterpoint_type',\n",
       "       'waterpoint_type_group', 'status_group'],\n",
       "      dtype='object')"
      ]
     },
     "execution_count": 40,
     "metadata": {},
     "output_type": "execute_result"
    }
   ],
   "source": [
    "df_concise = df_concise.drop(['source'], axis = 1)\n",
    "df_concise.columns"
   ]
  },
  {
   "cell_type": "code",
   "execution_count": 41,
   "metadata": {},
   "outputs": [],
   "source": [
    "redundant_cols.append('source')"
   ]
  },
  {
   "cell_type": "markdown",
   "metadata": {},
   "source": [
    "Next up...\n",
    "- **waterpoint_type**: The specific type of waterpoint\n",
    "- **waterpoint_type_group**: The type of waterpoint grouped by similar types\n"
   ]
  },
  {
   "cell_type": "code",
   "execution_count": 42,
   "metadata": {},
   "outputs": [
    {
     "name": "stdout",
     "output_type": "stream",
     "text": [
      "Column : waterpoint_type, Unique values : 7\n",
      "Column : waterpoint_type_group, Unique values : 6\n",
      "Column: waterpoint_type\n",
      "communal standpipe\n",
      "communal standpipe multiple\n",
      "hand pump\n",
      "other\n",
      "improved spring\n",
      "cattle trough\n",
      "dam\n",
      "\n",
      "\n",
      "Column: waterpoint_type_group\n",
      "communal standpipe\n",
      "hand pump\n",
      "other\n",
      "improved spring\n",
      "cattle trough\n",
      "dam\n",
      "\n",
      "\n"
     ]
    }
   ],
   "source": [
    "waterpoint = ['waterpoint_type','waterpoint_type_group']\n",
    "column_info(waterpoint)"
   ]
  },
  {
   "cell_type": "markdown",
   "metadata": {},
   "source": [
    "## Feature Selection Rationale\n",
    "\n",
    "For the waterpoint type-related features, we compared two columns:\n",
    "\n",
    "- **`waterpoint_type`**: 7 unique values.\n",
    "- **`waterpoint_type_group`**: 6 unique values.\n",
    "\n",
    "### Decision\n",
    "\n",
    "We chose **`waterpoint_type_group`** because:\n",
    "\n",
    "- **Simplified Categories**: **`waterpoint_type_group`** offers a more streamlined classification with fewer unique values, making it easier to interpret and use in the model.\n",
    "- **Consistency**: Using the grouped type ensures consistency and reduces complexity in feature selection.\n",
    "\n",
    "Thus, **`waterpoint_type_group`** is selected to simplify the analysis and maintain a clear classification system.\n"
   ]
  },
  {
   "cell_type": "code",
   "execution_count": 43,
   "metadata": {},
   "outputs": [
    {
     "data": {
      "text/plain": [
       "Index(['id', 'amount_tsh', 'date_recorded', 'funder', 'gps_height',\n",
       "       'installer', 'longitude', 'latitude', 'wpt_name', 'num_private',\n",
       "       'basin', 'region_code', 'district_code', 'lga', 'population',\n",
       "       'public_meeting', 'recorded_by', 'scheme_management', 'scheme_name',\n",
       "       'permit', 'construction_year', 'extraction_type_class',\n",
       "       'management_group', 'payment_type', 'quality_group', 'quantity_group',\n",
       "       'source_type', 'source_class', 'waterpoint_type_group', 'status_group'],\n",
       "      dtype='object')"
      ]
     },
     "execution_count": 43,
     "metadata": {},
     "output_type": "execute_result"
    }
   ],
   "source": [
    "df_concise = df_concise.drop(['waterpoint_type'], axis = 1)\n",
    "df_concise.columns"
   ]
  },
  {
   "cell_type": "code",
   "execution_count": 44,
   "metadata": {},
   "outputs": [],
   "source": [
    "redundant_cols.append('waterpoint_type')"
   ]
  },
  {
   "cell_type": "code",
   "execution_count": 45,
   "metadata": {},
   "outputs": [
    {
     "data": {
      "text/plain": [
       "30"
      ]
     },
     "execution_count": 45,
     "metadata": {},
     "output_type": "execute_result"
    }
   ],
   "source": [
    "len(df_concise.columns)"
   ]
  },
  {
   "cell_type": "code",
   "execution_count": 46,
   "metadata": {},
   "outputs": [
    {
     "data": {
      "text/plain": [
       "Index(['id', 'amount_tsh', 'date_recorded', 'funder', 'gps_height',\n",
       "       'installer', 'longitude', 'latitude', 'wpt_name', 'num_private',\n",
       "       'basin', 'region_code', 'district_code', 'lga', 'population',\n",
       "       'public_meeting', 'recorded_by', 'scheme_management', 'scheme_name',\n",
       "       'permit', 'construction_year', 'extraction_type_class',\n",
       "       'management_group', 'payment_type', 'quality_group', 'quantity_group',\n",
       "       'source_type', 'source_class', 'waterpoint_type_group', 'status_group'],\n",
       "      dtype='object')"
      ]
     },
     "execution_count": 46,
     "metadata": {},
     "output_type": "execute_result"
    }
   ],
   "source": [
    "df_concise.columns"
   ]
  },
  {
   "cell_type": "markdown",
   "metadata": {},
   "source": [
    "Ascertaining that all redundant columns dropped have been captured\n"
   ]
  },
  {
   "cell_type": "code",
   "execution_count": 47,
   "metadata": {},
   "outputs": [
    {
     "data": {
      "text/plain": [
       "True"
      ]
     },
     "execution_count": 47,
     "metadata": {},
     "output_type": "execute_result"
    }
   ],
   "source": [
    "len(df_concise.columns) == (len(df.columns)- len(redundant_cols))"
   ]
  },
  {
   "cell_type": "code",
   "execution_count": 48,
   "metadata": {},
   "outputs": [
    {
     "data": {
      "text/plain": [
       "['subvillage',\n",
       " 'region',\n",
       " 'ward',\n",
       " 'extraction_type',\n",
       " 'extraction_type_group',\n",
       " 'management',\n",
       " 'payment',\n",
       " 'water_quality',\n",
       " 'quantity',\n",
       " 'source',\n",
       " 'waterpoint_type']"
      ]
     },
     "execution_count": 48,
     "metadata": {},
     "output_type": "execute_result"
    }
   ],
   "source": [
    "redundant_cols"
   ]
  },
  {
   "cell_type": "code",
   "execution_count": 49,
   "metadata": {},
   "outputs": [
    {
     "data": {
      "text/plain": [
       "Index(['id', 'amount_tsh', 'date_recorded', 'funder', 'gps_height',\n",
       "       'installer', 'longitude', 'latitude', 'wpt_name', 'num_private',\n",
       "       'basin', 'region_code', 'district_code', 'lga', 'population',\n",
       "       'public_meeting', 'recorded_by', 'scheme_management', 'scheme_name',\n",
       "       'permit', 'construction_year', 'extraction_type_class',\n",
       "       'management_group', 'payment_type', 'quality_group', 'quantity_group',\n",
       "       'source_type', 'source_class', 'waterpoint_type_group', 'status_group'],\n",
       "      dtype='object')"
      ]
     },
     "execution_count": 49,
     "metadata": {},
     "output_type": "execute_result"
    }
   ],
   "source": [
    "df_concise.columns"
   ]
  },
  {
   "cell_type": "markdown",
   "metadata": {},
   "source": [
    "# The Features in This Dataset\n",
    "\n",
    "The following features are left after extracting redundant columns:\n",
    "\n",
    "\n",
    "- `amount_tsh`: Total static head (amount of water available to the waterpoint)\n",
    "- `date_recorded`: The date the row was entered\n",
    "- `funder`: Who funded the well\n",
    "- `gps_height`: Altitude of the well\n",
    "- `installer`: Organization that installed the well\n",
    "- `longitude`: GPS coordinate\n",
    "- `latitude`: GPS coordinate\n",
    "- `wpt_name`: Name of the waterpoint, if there is one\n",
    "- `num_private`: _(Not specified)_\n",
    "- `basin`: Geographic water basin\n",
    "- `region_code`: Geographic location (coded)\n",
    "- `district_code`: Geographic location (coded)\n",
    "- `lga`: ( Geographic location )- Local Government Authorities (LGAs) in Tanzania are accountable for the delivery of public services to citizens - providing \n",
    "oversight and management support to health facilities, schools, and villages.\n",
    "- `population`: Population around the well\n",
    "- `public_meeting`: True/False, indicating if a public meeting was held\n",
    "- `recorded_by`: Group entering this row of data\n",
    "- `scheme_management`: Who operates the waterpoint\n",
    "- `scheme_name`: The name of the management scheme\n",
    "- `permit`: Whether the waterpoint is permitted (True/False)\n",
    "- `construction_year`: Year the waterpoint was constructed\n",
    "- `extraction_type_class`: The extraction type categorized into broader classes\n",
    "- `management_group`: The management grouped into broader categories\n",
    "- `payment_type`: The specific type of payment method\n",
    "- `quality_group`: The quality grouped by similar qualities\n",
    "- `quantity_group`: The quantity grouped by similar quantities\n",
    "- `source_type`: The type of water source\n",
    "- `source_class`: The broader class of the water source\n",
    "- `waterpoint_type_group`: The type of waterpoint grouped by similar types\n"
   ]
  },
  {
   "cell_type": "markdown",
   "metadata": {},
   "source": [
    "## Data Cleaning- Extracting unnecessary columns with little useful info\n"
   ]
  },
  {
   "cell_type": "markdown",
   "metadata": {},
   "source": [
    "From Domain Knowledge, the following columns can be dropped\n",
    "- date_recorded\n",
    "- longitude\n",
    "- latitude\n",
    "- wpt_name\n",
    "- num_private\n",
    "- recorded_by"
   ]
  },
  {
   "cell_type": "code",
   "execution_count": 50,
   "metadata": {},
   "outputs": [
    {
     "data": {
      "text/plain": [
       "Index(['id', 'amount_tsh', 'funder', 'gps_height', 'installer', 'basin',\n",
       "       'region_code', 'district_code', 'lga', 'population', 'public_meeting',\n",
       "       'scheme_management', 'scheme_name', 'permit', 'construction_year',\n",
       "       'extraction_type_class', 'management_group', 'payment_type',\n",
       "       'quality_group', 'quantity_group', 'source_type', 'source_class',\n",
       "       'waterpoint_type_group', 'status_group'],\n",
       "      dtype='object')"
      ]
     },
     "execution_count": 50,
     "metadata": {},
     "output_type": "execute_result"
    }
   ],
   "source": [
    "unncecessary_cols = [ 'date_recorded','longitude','latitude','wpt_name','num_private','recorded_by']\n",
    "df_concise = df_concise.drop(unncecessary_cols, axis = 1)\n",
    "df_concise.columns"
   ]
  },
  {
   "cell_type": "code",
   "execution_count": 51,
   "metadata": {},
   "outputs": [
    {
     "data": {
      "text/plain": [
       "24"
      ]
     },
     "execution_count": 51,
     "metadata": {},
     "output_type": "execute_result"
    }
   ],
   "source": [
    "len(df_concise.columns)"
   ]
  },
  {
   "cell_type": "markdown",
   "metadata": {},
   "source": [
    "-inspecting the other columns to check whether other columns can be dropped"
   ]
  },
  {
   "cell_type": "code",
   "execution_count": 52,
   "metadata": {},
   "outputs": [
    {
     "name": "stdout",
     "output_type": "stream",
     "text": [
      "Column : id, Unique values : 59400\n",
      "Column : amount_tsh, Unique values : 98\n",
      "Column : funder, Unique values : 1898\n",
      "Column : gps_height, Unique values : 2428\n",
      "Column : installer, Unique values : 2146\n",
      "Column : basin, Unique values : 9\n",
      "Column : region_code, Unique values : 27\n",
      "Column : district_code, Unique values : 20\n",
      "Column : lga, Unique values : 125\n",
      "Column : population, Unique values : 1049\n",
      "Column : public_meeting, Unique values : 3\n",
      "Column : scheme_management, Unique values : 13\n",
      "Column : scheme_name, Unique values : 2697\n",
      "Column : permit, Unique values : 3\n",
      "Column : construction_year, Unique values : 55\n",
      "Column : extraction_type_class, Unique values : 7\n",
      "Column : management_group, Unique values : 5\n",
      "Column : payment_type, Unique values : 7\n",
      "Column : quality_group, Unique values : 6\n",
      "Column : quantity_group, Unique values : 5\n",
      "Column : source_type, Unique values : 7\n",
      "Column : source_class, Unique values : 3\n",
      "Column : waterpoint_type_group, Unique values : 6\n",
      "Column : status_group, Unique values : 3\n"
     ]
    }
   ],
   "source": [
    "for element in df_concise.columns:\n",
    "        print(f\"Column : {element}, Unique values : {len(df[element].unique())}\")"
   ]
  },
  {
   "cell_type": "markdown",
   "metadata": {},
   "source": [
    "from above, the features : installer, scheme_management, scheme_name,funder seem to be extraneous so we shall inspect them"
   ]
  },
  {
   "cell_type": "code",
   "execution_count": 53,
   "metadata": {},
   "outputs": [
    {
     "name": "stdout",
     "output_type": "stream",
     "text": [
      "45958             CES\n",
      "23061             NaN\n",
      "15184            DWE}\n",
      "11106           Priva\n",
      "37920            KKKT\n",
      "9259              DWE\n",
      "3886            HW/RC\n",
      "58024    World vision\n",
      "26204           Angli\n",
      "3419              LGA\n",
      "Name: installer, dtype: object\n",
      "54815            VWC\n",
      "30829            VWC\n",
      "51469            VWC\n",
      "58344            VWC\n",
      "10680            VWC\n",
      "12450            VWC\n",
      "20675            WUA\n",
      "14587            VWC\n",
      "52752     Parastatal\n",
      "12313    Water Board\n",
      "Name: scheme_management, dtype: object\n",
      "2277                                           NaN\n",
      "21517    Kibondo gravity point source water supply\n",
      "58679                   Tanzania flowers pipe line\n",
      "11746                    Mradi wa maji wa kiloleni\n",
      "23424                                     Borehole\n",
      "21084                                        Roman\n",
      "57137                                          NaN\n",
      "3717                                           NaN\n",
      "49791                                          NaN\n",
      "26278                                   upper Ruvu\n",
      "Name: scheme_name, dtype: object\n",
      "28398                     Amref\n",
      "58301    Government Of Tanzania\n",
      "44590           Village Council\n",
      "13463                      Kkkt\n",
      "42847                 Community\n",
      "34752                     Tasaf\n",
      "43431                       W.B\n",
      "50638                       Dhv\n",
      "29722    Government Of Tanzania\n",
      "24688               Kkkt Church\n",
      "Name: funder, dtype: object\n"
     ]
    }
   ],
   "source": [
    "possible_extraneous = ['installer', 'scheme_management', 'scheme_name','funder']\n",
    "for element in possible_extraneous:\n",
    "    print (df_concise[element].sample(n=10))"
   ]
  },
  {
   "cell_type": "markdown",
   "metadata": {},
   "source": [
    "All this info, on further inspection, are extraneous, therefore we shall drop them too\n"
   ]
  },
  {
   "cell_type": "code",
   "execution_count": 54,
   "metadata": {},
   "outputs": [
    {
     "data": {
      "text/plain": [
       "Index(['id', 'amount_tsh', 'gps_height', 'basin', 'region_code',\n",
       "       'district_code', 'lga', 'population', 'public_meeting', 'permit',\n",
       "       'construction_year', 'extraction_type_class', 'management_group',\n",
       "       'payment_type', 'quality_group', 'quantity_group', 'source_type',\n",
       "       'source_class', 'waterpoint_type_group', 'status_group'],\n",
       "      dtype='object')"
      ]
     },
     "execution_count": 54,
     "metadata": {},
     "output_type": "execute_result"
    }
   ],
   "source": [
    "# add `possible_extraneous` to unnecessary cols and drop\n",
    "unncecessary_cols += possible_extraneous\n",
    "df_concise = df_concise.drop(possible_extraneous, axis = 1)\n",
    "df_concise.columns"
   ]
  },
  {
   "cell_type": "markdown",
   "metadata": {},
   "source": [
    "### **At this juncture, we have dropped the unncecessary and redundant columns. Next we shall deal with missing values, if present**"
   ]
  },
  {
   "cell_type": "markdown",
   "metadata": {},
   "source": [
    "- Verifying the above...\n"
   ]
  },
  {
   "cell_type": "code",
   "execution_count": 55,
   "metadata": {},
   "outputs": [
    {
     "data": {
      "text/plain": [
       "True"
      ]
     },
     "execution_count": 55,
     "metadata": {},
     "output_type": "execute_result"
    }
   ],
   "source": [
    "(len(df.columns)- len(df_concise.columns)) == (len(redundant_cols) + len(unncecessary_cols))"
   ]
  },
  {
   "cell_type": "markdown",
   "metadata": {},
   "source": [
    "### **Dealing with missing values**"
   ]
  },
  {
   "cell_type": "code",
   "execution_count": 56,
   "metadata": {},
   "outputs": [
    {
     "name": "stdout",
     "output_type": "stream",
     "text": [
      "<class 'pandas.core.frame.DataFrame'>\n",
      "Int64Index: 59400 entries, 0 to 59399\n",
      "Data columns (total 20 columns):\n",
      " #   Column                 Non-Null Count  Dtype  \n",
      "---  ------                 --------------  -----  \n",
      " 0   id                     59400 non-null  int64  \n",
      " 1   amount_tsh             59400 non-null  float64\n",
      " 2   gps_height             59400 non-null  int64  \n",
      " 3   basin                  59400 non-null  object \n",
      " 4   region_code            59400 non-null  int64  \n",
      " 5   district_code          59400 non-null  int64  \n",
      " 6   lga                    59400 non-null  object \n",
      " 7   population             59400 non-null  int64  \n",
      " 8   public_meeting         56066 non-null  object \n",
      " 9   permit                 56344 non-null  object \n",
      " 10  construction_year      59400 non-null  int64  \n",
      " 11  extraction_type_class  59400 non-null  object \n",
      " 12  management_group       59400 non-null  object \n",
      " 13  payment_type           59400 non-null  object \n",
      " 14  quality_group          59400 non-null  object \n",
      " 15  quantity_group         59400 non-null  object \n",
      " 16  source_type            59400 non-null  object \n",
      " 17  source_class           59400 non-null  object \n",
      " 18  waterpoint_type_group  59400 non-null  object \n",
      " 19  status_group           59400 non-null  object \n",
      "dtypes: float64(1), int64(6), object(13)\n",
      "memory usage: 9.5+ MB\n"
     ]
    }
   ],
   "source": [
    "df_concise.info()"
   ]
  },
  {
   "cell_type": "markdown",
   "metadata": {},
   "source": [
    "- From earlier inspection, several numeric columns contain zeros where they are unrealistic. We shall convert them to NaNs so as to simplify the process of filling them.first we feature engineer age column from construction year"
   ]
  },
  {
   "cell_type": "markdown",
   "metadata": {},
   "source": [
    "## Feature Engineering\n",
    "We shall replace construction year with age as ,from domain knowledge, we expect proportionality between target and the feature"
   ]
  },
  {
   "cell_type": "code",
   "execution_count": 57,
   "metadata": {},
   "outputs": [],
   "source": [
    "# Calculate age where year is not equal to 0\n",
    "df_concise.loc[df_concise['construction_year'] != 0, 'age'] = 2024 - df['construction_year']"
   ]
  },
  {
   "cell_type": "code",
   "execution_count": 58,
   "metadata": {},
   "outputs": [
    {
     "data": {
      "text/plain": [
       "Index(['id', 'amount_tsh', 'gps_height', 'basin', 'region_code',\n",
       "       'district_code', 'lga', 'population', 'public_meeting', 'permit',\n",
       "       'extraction_type_class', 'management_group', 'payment_type',\n",
       "       'quality_group', 'quantity_group', 'source_type', 'source_class',\n",
       "       'waterpoint_type_group', 'status_group', 'age'],\n",
       "      dtype='object')"
      ]
     },
     "execution_count": 58,
     "metadata": {},
     "output_type": "execute_result"
    }
   ],
   "source": [
    "df_concise = df_concise.drop(['construction_year'], axis = 1 )\n",
    "df_concise.columns"
   ]
  },
  {
   "cell_type": "code",
   "execution_count": 59,
   "metadata": {},
   "outputs": [
    {
     "name": "stdout",
     "output_type": "stream",
     "text": [
      "<class 'pandas.core.frame.DataFrame'>\n",
      "Int64Index: 59400 entries, 0 to 59399\n",
      "Data columns (total 20 columns):\n",
      " #   Column                 Non-Null Count  Dtype  \n",
      "---  ------                 --------------  -----  \n",
      " 0   id                     59400 non-null  int64  \n",
      " 1   amount_tsh             59400 non-null  float64\n",
      " 2   gps_height             59400 non-null  int64  \n",
      " 3   basin                  59400 non-null  object \n",
      " 4   region_code            59400 non-null  int64  \n",
      " 5   district_code          59400 non-null  int64  \n",
      " 6   lga                    59400 non-null  object \n",
      " 7   population             59400 non-null  int64  \n",
      " 8   public_meeting         56066 non-null  object \n",
      " 9   permit                 56344 non-null  object \n",
      " 10  extraction_type_class  59400 non-null  object \n",
      " 11  management_group       59400 non-null  object \n",
      " 12  payment_type           59400 non-null  object \n",
      " 13  quality_group          59400 non-null  object \n",
      " 14  quantity_group         59400 non-null  object \n",
      " 15  source_type            59400 non-null  object \n",
      " 16  source_class           59400 non-null  object \n",
      " 17  waterpoint_type_group  59400 non-null  object \n",
      " 18  status_group           59400 non-null  object \n",
      " 19  age                    38691 non-null  float64\n",
      "dtypes: float64(2), int64(5), object(13)\n",
      "memory usage: 12.0+ MB\n"
     ]
    }
   ],
   "source": [
    "df_concise.info()"
   ]
  },
  {
   "cell_type": "markdown",
   "metadata": {},
   "source": [
    "- From general info, it seems NaN's are only present in the  columns  `public_meeting` and `permit`,However, on converting zeros to NaNs there may be more, first let's convert the above 2"
   ]
  },
  {
   "cell_type": "code",
   "execution_count": 60,
   "metadata": {},
   "outputs": [
    {
     "data": {
      "text/plain": [
       "(True     51011\n",
       " False     5055\n",
       " Name: public_meeting, dtype: int64,\n",
       " True     38852\n",
       " False    17492\n",
       " Name: permit, dtype: int64)"
      ]
     },
     "execution_count": 60,
     "metadata": {},
     "output_type": "execute_result"
    }
   ],
   "source": [
    "df_concise['public_meeting'].value_counts(), df_concise['permit'].value_counts()"
   ]
  },
  {
   "cell_type": "code",
   "execution_count": 61,
   "metadata": {},
   "outputs": [
    {
     "data": {
      "text/plain": [
       "(3334, 3056)"
      ]
     },
     "execution_count": 61,
     "metadata": {},
     "output_type": "execute_result"
    }
   ],
   "source": [
    "df_concise['public_meeting'].isna().sum(), df_concise['permit'].isna().sum(), "
   ]
  },
  {
   "cell_type": "markdown",
   "metadata": {},
   "source": [
    "Represent small % of data so we shall fill them with the most frequent, being true"
   ]
  },
  {
   "cell_type": "code",
   "execution_count": 62,
   "metadata": {},
   "outputs": [
    {
     "name": "stdout",
     "output_type": "stream",
     "text": [
      "<class 'pandas.core.frame.DataFrame'>\n",
      "Int64Index: 59400 entries, 0 to 59399\n",
      "Data columns (total 20 columns):\n",
      " #   Column                 Non-Null Count  Dtype  \n",
      "---  ------                 --------------  -----  \n",
      " 0   id                     59400 non-null  int64  \n",
      " 1   amount_tsh             59400 non-null  float64\n",
      " 2   gps_height             59400 non-null  int64  \n",
      " 3   basin                  59400 non-null  object \n",
      " 4   region_code            59400 non-null  int64  \n",
      " 5   district_code          59400 non-null  int64  \n",
      " 6   lga                    59400 non-null  object \n",
      " 7   population             59400 non-null  int64  \n",
      " 8   public_meeting         56066 non-null  float64\n",
      " 9   permit                 56344 non-null  float64\n",
      " 10  extraction_type_class  59400 non-null  object \n",
      " 11  management_group       59400 non-null  object \n",
      " 12  payment_type           59400 non-null  object \n",
      " 13  quality_group          59400 non-null  object \n",
      " 14  quantity_group         59400 non-null  object \n",
      " 15  source_type            59400 non-null  object \n",
      " 16  source_class           59400 non-null  object \n",
      " 17  waterpoint_type_group  59400 non-null  object \n",
      " 18  status_group           59400 non-null  object \n",
      " 19  age                    38691 non-null  float64\n",
      "dtypes: float64(4), int64(5), object(11)\n",
      "memory usage: 12.0+ MB\n"
     ]
    }
   ],
   "source": [
    "#Replacing 'True and False with zero and one resp\n",
    "df_concise['public_meeting'] = df_concise['public_meeting'].replace({True: 1, False: 0})\n",
    "df_concise['permit'] = df_concise['permit'].replace({True: 1, False: 0})\n",
    "df_concise.info()"
   ]
  },
  {
   "cell_type": "code",
   "execution_count": 63,
   "metadata": {},
   "outputs": [
    {
     "name": "stdout",
     "output_type": "stream",
     "text": [
      "<class 'pandas.core.frame.DataFrame'>\n",
      "Int64Index: 59400 entries, 0 to 59399\n",
      "Data columns (total 20 columns):\n",
      " #   Column                 Non-Null Count  Dtype  \n",
      "---  ------                 --------------  -----  \n",
      " 0   id                     59400 non-null  int64  \n",
      " 1   amount_tsh             59400 non-null  float64\n",
      " 2   gps_height             59400 non-null  int64  \n",
      " 3   basin                  59400 non-null  object \n",
      " 4   region_code            59400 non-null  int64  \n",
      " 5   district_code          59400 non-null  int64  \n",
      " 6   lga                    59400 non-null  object \n",
      " 7   population             59400 non-null  int64  \n",
      " 8   public_meeting         59400 non-null  float64\n",
      " 9   permit                 59400 non-null  float64\n",
      " 10  extraction_type_class  59400 non-null  object \n",
      " 11  management_group       59400 non-null  object \n",
      " 12  payment_type           59400 non-null  object \n",
      " 13  quality_group          59400 non-null  object \n",
      " 14  quantity_group         59400 non-null  object \n",
      " 15  source_type            59400 non-null  object \n",
      " 16  source_class           59400 non-null  object \n",
      " 17  waterpoint_type_group  59400 non-null  object \n",
      " 18  status_group           59400 non-null  object \n",
      " 19  age                    38691 non-null  float64\n",
      "dtypes: float64(4), int64(5), object(11)\n",
      "memory usage: 12.0+ MB\n"
     ]
    }
   ],
   "source": [
    "#fill nans with most frequent, in this case '1'\n",
    "df_concise['public_meeting'].fillna(1, inplace= True)\n",
    "df_concise['permit'].fillna(1, inplace= True)\n",
    "\n",
    "df_concise .info()"
   ]
  },
  {
   "cell_type": "markdown",
   "metadata": {},
   "source": [
    "- Verify that changes were done "
   ]
  },
  {
   "cell_type": "code",
   "execution_count": 64,
   "metadata": {},
   "outputs": [
    {
     "data": {
      "text/plain": [
       "(1.0    54345\n",
       " 0.0     5055\n",
       " Name: public_meeting, dtype: int64,\n",
       " 1.0    41908\n",
       " 0.0    17492\n",
       " Name: permit, dtype: int64)"
      ]
     },
     "execution_count": 64,
     "metadata": {},
     "output_type": "execute_result"
    }
   ],
   "source": [
    "df_concise['public_meeting'].value_counts(), df_concise['permit'].value_counts()"
   ]
  },
  {
   "cell_type": "code",
   "execution_count": 65,
   "metadata": {},
   "outputs": [
    {
     "data": {
      "text/plain": [
       "0"
      ]
     },
     "execution_count": 65,
     "metadata": {},
     "output_type": "execute_result"
    }
   ],
   "source": [
    "df_concise['public_meeting'] .isna().sum()"
   ]
  },
  {
   "cell_type": "markdown",
   "metadata": {},
   "source": [
    "Now converting zeros to NaNs in the remaining numeric cols, we shall drop amount_tsh, since zeros account for 70.1 % of the data\n"
   ]
  },
  {
   "cell_type": "code",
   "execution_count": 66,
   "metadata": {},
   "outputs": [
    {
     "data": {
      "text/plain": [
       "['date_recorded',\n",
       " 'longitude',\n",
       " 'latitude',\n",
       " 'wpt_name',\n",
       " 'num_private',\n",
       " 'recorded_by',\n",
       " 'installer',\n",
       " 'scheme_management',\n",
       " 'scheme_name',\n",
       " 'funder',\n",
       " 'amount_tsh']"
      ]
     },
     "execution_count": 66,
     "metadata": {},
     "output_type": "execute_result"
    }
   ],
   "source": [
    "df_concise = df_concise.drop(columns=['amount_tsh'], axis = 1)\n",
    "unncecessary_cols.append('amount_tsh')\n",
    "unncecessary_cols"
   ]
  },
  {
   "cell_type": "code",
   "execution_count": 67,
   "metadata": {},
   "outputs": [],
   "source": [
    "numeric_cols = ['age','region_code','district_code','population','gps_height']\n"
   ]
  },
  {
   "cell_type": "code",
   "execution_count": 68,
   "metadata": {},
   "outputs": [
    {
     "name": "stdout",
     "output_type": "stream",
     "text": [
      "column : age. Zero Count : 0. Mean: 27.185314414204854, Mode: 0    14.0\n",
      "dtype: float64, Median: 24.0 \n",
      "column : region_code. Zero Count : 0. Mean: 15.297003367003366, Mode: 0    11\n",
      "dtype: int64, Median: 12.0 \n",
      "column : district_code. Zero Count : 23. Mean: 5.629747474747475, Mode: 0    1\n",
      "dtype: int64, Median: 3.0 \n",
      "column : population. Zero Count : 21381. Mean: 179.90998316498317, Mode: 0    0\n",
      "dtype: int64, Median: 25.0 \n",
      "column : gps_height. Zero Count : 20438. Mean: 668.297239057239, Mode: 0    0\n",
      "dtype: int64, Median: 369.0 \n"
     ]
    }
   ],
   "source": [
    "for col in numeric_cols:\n",
    "    print(f\"column : {col}. Zero Count : {len(df_concise[df_concise[col]==0])}. Mean: {df_concise[col].mean()}, Mode: {df_concise[col].mode()}, Median: {df_concise[col].median()} \")"
   ]
  },
  {
   "cell_type": "code",
   "execution_count": 69,
   "metadata": {},
   "outputs": [
    {
     "data": {
      "text/plain": [
       "(626, 1892)"
      ]
     },
     "execution_count": 69,
     "metadata": {},
     "output_type": "execute_result"
    }
   ],
   "source": [
    "len(df_concise[df_concise['population']==30]),len(df_concise[df_concise['population']==150]),"
   ]
  },
  {
   "cell_type": "markdown",
   "metadata": {},
   "source": [
    "Also converting 1's in population to median seince they are not practical"
   ]
  },
  {
   "cell_type": "markdown",
   "metadata": {},
   "source": [
    "For this study, the value of population = 1 may not make much practical sense, especially when considering waterpoints, as it is highly unlikely that a waterpoint would serve only one person. Here’s a structured approach to handle the situation:"
   ]
  },
  {
   "cell_type": "markdown",
   "metadata": {},
   "source": [
    "Replace population = 1 with the Median:\n",
    "Replacing these with the median makes the data more realistic and ensures that it represents typical values without skewing the distribution with improbable data points."
   ]
  },
  {
   "cell_type": "code",
   "execution_count": 70,
   "metadata": {},
   "outputs": [],
   "source": [
    "# Calculate the median of the 'population' column excluding 1\n",
    "median_population = df_concise[df['population'] != 1]['population'].median()\n",
    "\n",
    "# Replace values of 1 in the 'population' column with the median\n",
    "df_concise['population'] = df_concise['population'].replace(1, median_population)\n"
   ]
  },
  {
   "cell_type": "code",
   "execution_count": 71,
   "metadata": {},
   "outputs": [],
   "source": [
    "for col in numeric_cols:\n",
    "    # Convert zero values to NaN in the 'gps_height' column\n",
    "    df_concise[col] = df_concise[col].replace(0, np.nan)"
   ]
  },
  {
   "cell_type": "code",
   "execution_count": 72,
   "metadata": {},
   "outputs": [
    {
     "name": "stdout",
     "output_type": "stream",
     "text": [
      "<class 'pandas.core.frame.DataFrame'>\n",
      "Int64Index: 59400 entries, 0 to 59399\n",
      "Data columns (total 19 columns):\n",
      " #   Column                 Non-Null Count  Dtype  \n",
      "---  ------                 --------------  -----  \n",
      " 0   id                     59400 non-null  int64  \n",
      " 1   gps_height             38962 non-null  float64\n",
      " 2   basin                  59400 non-null  object \n",
      " 3   region_code            59400 non-null  int64  \n",
      " 4   district_code          59377 non-null  float64\n",
      " 5   lga                    59400 non-null  object \n",
      " 6   population             38019 non-null  float64\n",
      " 7   public_meeting         59400 non-null  float64\n",
      " 8   permit                 59400 non-null  float64\n",
      " 9   extraction_type_class  59400 non-null  object \n",
      " 10  management_group       59400 non-null  object \n",
      " 11  payment_type           59400 non-null  object \n",
      " 12  quality_group          59400 non-null  object \n",
      " 13  quantity_group         59400 non-null  object \n",
      " 14  source_type            59400 non-null  object \n",
      " 15  source_class           59400 non-null  object \n",
      " 16  waterpoint_type_group  59400 non-null  object \n",
      " 17  status_group           59400 non-null  object \n",
      " 18  age                    38691 non-null  float64\n",
      "dtypes: float64(6), int64(2), object(11)\n",
      "memory usage: 11.6+ MB\n"
     ]
    }
   ],
   "source": [
    "df_concise.info()"
   ]
  },
  {
   "cell_type": "code",
   "execution_count": 73,
   "metadata": {},
   "outputs": [
    {
     "data": {
      "text/plain": [
       "['age', 'region_code', 'district_code', 'population', 'gps_height']"
      ]
     },
     "execution_count": 73,
     "metadata": {},
     "output_type": "execute_result"
    }
   ],
   "source": [
    "numeric_cols"
   ]
  },
  {
   "cell_type": "code",
   "execution_count": 74,
   "metadata": {},
   "outputs": [
    {
     "name": "stdout",
     "output_type": "stream",
     "text": [
      "column : age.Mean: 27.185314414204854, Mode: 0    14.0\n",
      "dtype: float64, Median: 24.0 \n",
      "column : region_code.Mean: 15.297003367003366, Mode: 0    11\n",
      "dtype: int64, Median: 12.0 \n",
      "column : district_code.Mean: 5.6319281876820995, Mode: 0    1.0\n",
      "dtype: float64, Median: 3.0 \n",
      "column : population.Mean: 291.9889528919751, Mode: 0    60.0\n",
      "dtype: float64, Median: 150.0 \n",
      "column : gps_height.Mean: 1018.8608387659771, Mode: 0   -15.0\n",
      "dtype: float64, Median: 1167.0 \n"
     ]
    }
   ],
   "source": [
    "for col in numeric_cols:\n",
    "    print(f\"column : {col}.Mean: {df_concise[col].mean()}, Mode: {df_concise[col].mode()}, Median: {df_concise[col].median()} \")"
   ]
  },
  {
   "cell_type": "code",
   "execution_count": 75,
   "metadata": {},
   "outputs": [
    {
     "data": {
      "text/html": [
       "<div>\n",
       "<style scoped>\n",
       "    .dataframe tbody tr th:only-of-type {\n",
       "        vertical-align: middle;\n",
       "    }\n",
       "\n",
       "    .dataframe tbody tr th {\n",
       "        vertical-align: top;\n",
       "    }\n",
       "\n",
       "    .dataframe thead th {\n",
       "        text-align: right;\n",
       "    }\n",
       "</style>\n",
       "<table border=\"1\" class=\"dataframe\">\n",
       "  <thead>\n",
       "    <tr style=\"text-align: right;\">\n",
       "      <th></th>\n",
       "      <th>id</th>\n",
       "      <th>gps_height</th>\n",
       "      <th>region_code</th>\n",
       "      <th>district_code</th>\n",
       "      <th>population</th>\n",
       "      <th>public_meeting</th>\n",
       "      <th>permit</th>\n",
       "      <th>age</th>\n",
       "    </tr>\n",
       "  </thead>\n",
       "  <tbody>\n",
       "    <tr>\n",
       "      <th>count</th>\n",
       "      <td>59400.000000</td>\n",
       "      <td>38962.000000</td>\n",
       "      <td>59400.000000</td>\n",
       "      <td>59377.000000</td>\n",
       "      <td>38019.000000</td>\n",
       "      <td>59400.000000</td>\n",
       "      <td>59400.000000</td>\n",
       "      <td>38691.000000</td>\n",
       "    </tr>\n",
       "    <tr>\n",
       "      <th>mean</th>\n",
       "      <td>37115.131768</td>\n",
       "      <td>1018.860839</td>\n",
       "      <td>15.297003</td>\n",
       "      <td>5.631928</td>\n",
       "      <td>291.988953</td>\n",
       "      <td>0.914899</td>\n",
       "      <td>0.705522</td>\n",
       "      <td>27.185314</td>\n",
       "    </tr>\n",
       "    <tr>\n",
       "      <th>std</th>\n",
       "      <td>21453.128371</td>\n",
       "      <td>612.566092</td>\n",
       "      <td>17.587406</td>\n",
       "      <td>9.634877</td>\n",
       "      <td>559.722665</td>\n",
       "      <td>0.279034</td>\n",
       "      <td>0.455812</td>\n",
       "      <td>12.472045</td>\n",
       "    </tr>\n",
       "    <tr>\n",
       "      <th>min</th>\n",
       "      <td>0.000000</td>\n",
       "      <td>-90.000000</td>\n",
       "      <td>1.000000</td>\n",
       "      <td>1.000000</td>\n",
       "      <td>2.000000</td>\n",
       "      <td>0.000000</td>\n",
       "      <td>0.000000</td>\n",
       "      <td>11.000000</td>\n",
       "    </tr>\n",
       "    <tr>\n",
       "      <th>25%</th>\n",
       "      <td>18519.750000</td>\n",
       "      <td>393.000000</td>\n",
       "      <td>5.000000</td>\n",
       "      <td>2.000000</td>\n",
       "      <td>60.000000</td>\n",
       "      <td>1.000000</td>\n",
       "      <td>0.000000</td>\n",
       "      <td>16.000000</td>\n",
       "    </tr>\n",
       "    <tr>\n",
       "      <th>50%</th>\n",
       "      <td>37061.500000</td>\n",
       "      <td>1167.000000</td>\n",
       "      <td>12.000000</td>\n",
       "      <td>3.000000</td>\n",
       "      <td>150.000000</td>\n",
       "      <td>1.000000</td>\n",
       "      <td>1.000000</td>\n",
       "      <td>24.000000</td>\n",
       "    </tr>\n",
       "    <tr>\n",
       "      <th>75%</th>\n",
       "      <td>55656.500000</td>\n",
       "      <td>1498.000000</td>\n",
       "      <td>17.000000</td>\n",
       "      <td>5.000000</td>\n",
       "      <td>324.000000</td>\n",
       "      <td>1.000000</td>\n",
       "      <td>1.000000</td>\n",
       "      <td>37.000000</td>\n",
       "    </tr>\n",
       "    <tr>\n",
       "      <th>max</th>\n",
       "      <td>74247.000000</td>\n",
       "      <td>2770.000000</td>\n",
       "      <td>99.000000</td>\n",
       "      <td>80.000000</td>\n",
       "      <td>30500.000000</td>\n",
       "      <td>1.000000</td>\n",
       "      <td>1.000000</td>\n",
       "      <td>64.000000</td>\n",
       "    </tr>\n",
       "  </tbody>\n",
       "</table>\n",
       "</div>"
      ],
      "text/plain": [
       "                 id    gps_height   region_code  district_code    population  \\\n",
       "count  59400.000000  38962.000000  59400.000000   59377.000000  38019.000000   \n",
       "mean   37115.131768   1018.860839     15.297003       5.631928    291.988953   \n",
       "std    21453.128371    612.566092     17.587406       9.634877    559.722665   \n",
       "min        0.000000    -90.000000      1.000000       1.000000      2.000000   \n",
       "25%    18519.750000    393.000000      5.000000       2.000000     60.000000   \n",
       "50%    37061.500000   1167.000000     12.000000       3.000000    150.000000   \n",
       "75%    55656.500000   1498.000000     17.000000       5.000000    324.000000   \n",
       "max    74247.000000   2770.000000     99.000000      80.000000  30500.000000   \n",
       "\n",
       "       public_meeting        permit           age  \n",
       "count    59400.000000  59400.000000  38691.000000  \n",
       "mean         0.914899      0.705522     27.185314  \n",
       "std          0.279034      0.455812     12.472045  \n",
       "min          0.000000      0.000000     11.000000  \n",
       "25%          1.000000      0.000000     16.000000  \n",
       "50%          1.000000      1.000000     24.000000  \n",
       "75%          1.000000      1.000000     37.000000  \n",
       "max          1.000000      1.000000     64.000000  "
      ]
     },
     "execution_count": 75,
     "metadata": {},
     "output_type": "execute_result"
    }
   ],
   "source": [
    "df_concise.describe()"
   ]
  },
  {
   "cell_type": "markdown",
   "metadata": {},
   "source": [
    "-For the numeric columns except district_code and region_code, we shall fill with the average value\n"
   ]
  },
  {
   "cell_type": "code",
   "execution_count": 76,
   "metadata": {},
   "outputs": [
    {
     "name": "stdout",
     "output_type": "stream",
     "text": [
      "<class 'pandas.core.frame.DataFrame'>\n",
      "Int64Index: 59400 entries, 0 to 59399\n",
      "Data columns (total 19 columns):\n",
      " #   Column                 Non-Null Count  Dtype  \n",
      "---  ------                 --------------  -----  \n",
      " 0   id                     59400 non-null  int64  \n",
      " 1   gps_height             59400 non-null  float64\n",
      " 2   basin                  59400 non-null  object \n",
      " 3   region_code            59400 non-null  int64  \n",
      " 4   district_code          59377 non-null  float64\n",
      " 5   lga                    59400 non-null  object \n",
      " 6   population             59400 non-null  float64\n",
      " 7   public_meeting         59400 non-null  float64\n",
      " 8   permit                 59400 non-null  float64\n",
      " 9   extraction_type_class  59400 non-null  object \n",
      " 10  management_group       59400 non-null  object \n",
      " 11  payment_type           59400 non-null  object \n",
      " 12  quality_group          59400 non-null  object \n",
      " 13  quantity_group         59400 non-null  object \n",
      " 14  source_type            59400 non-null  object \n",
      " 15  source_class           59400 non-null  object \n",
      " 16  waterpoint_type_group  59400 non-null  object \n",
      " 17  status_group           59400 non-null  object \n",
      " 18  age                    59400 non-null  float64\n",
      "dtypes: float64(6), int64(2), object(11)\n",
      "memory usage: 11.6+ MB\n"
     ]
    }
   ],
   "source": [
    "numeric_cols_fillna_average = ['age', 'population', 'gps_height']\n",
    "for col in numeric_cols_fillna_average:\n",
    "    #fill nans with median\n",
    "    df_concise[col].fillna(df_concise[col].median(), inplace= True)\n",
    "    \n",
    "\n",
    "df_concise .info()"
   ]
  },
  {
   "cell_type": "markdown",
   "metadata": {},
   "source": [
    "for the district code, I shall fill NaNs with the most frequent that occurred in its associated region, since region has no NaNs"
   ]
  },
  {
   "cell_type": "code",
   "execution_count": 77,
   "metadata": {},
   "outputs": [],
   "source": [
    "# Fill NaNs with the most frequent district_code within each region_code\n",
    "df_concise['district_code'] = df_concise.groupby('region_code')['district_code'].transform(\n",
    "    lambda x: x.fillna(x.mode()[0] if not x.mode().empty else np.nan)\n",
    ")"
   ]
  },
  {
   "cell_type": "code",
   "execution_count": 78,
   "metadata": {},
   "outputs": [
    {
     "name": "stdout",
     "output_type": "stream",
     "text": [
      "<class 'pandas.core.frame.DataFrame'>\n",
      "Int64Index: 59400 entries, 0 to 59399\n",
      "Data columns (total 19 columns):\n",
      " #   Column                 Non-Null Count  Dtype  \n",
      "---  ------                 --------------  -----  \n",
      " 0   id                     59400 non-null  int64  \n",
      " 1   gps_height             59400 non-null  float64\n",
      " 2   basin                  59400 non-null  object \n",
      " 3   region_code            59400 non-null  int64  \n",
      " 4   district_code          59400 non-null  float64\n",
      " 5   lga                    59400 non-null  object \n",
      " 6   population             59400 non-null  float64\n",
      " 7   public_meeting         59400 non-null  float64\n",
      " 8   permit                 59400 non-null  float64\n",
      " 9   extraction_type_class  59400 non-null  object \n",
      " 10  management_group       59400 non-null  object \n",
      " 11  payment_type           59400 non-null  object \n",
      " 12  quality_group          59400 non-null  object \n",
      " 13  quantity_group         59400 non-null  object \n",
      " 14  source_type            59400 non-null  object \n",
      " 15  source_class           59400 non-null  object \n",
      " 16  waterpoint_type_group  59400 non-null  object \n",
      " 17  status_group           59400 non-null  object \n",
      " 18  age                    59400 non-null  float64\n",
      "dtypes: float64(6), int64(2), object(11)\n",
      "memory usage: 11.6+ MB\n"
     ]
    }
   ],
   "source": [
    "df_concise .info()"
   ]
  },
  {
   "cell_type": "code",
   "execution_count": null,
   "metadata": {},
   "outputs": [],
   "source": []
  },
  {
   "cell_type": "markdown",
   "metadata": {},
   "source": [
    "## Checking for Outliers"
   ]
  },
  {
   "cell_type": "markdown",
   "metadata": {},
   "source": [
    "For our project, we shall remove outliers from columns with high variablity. We shall proceed with 2 datasets from hence forth,one with outliers, one without, since the the different models we try out might have diff performances with them"
   ]
  },
  {
   "cell_type": "code",
   "execution_count": 79,
   "metadata": {},
   "outputs": [
    {
     "name": "stdout",
     "output_type": "stream",
     "text": [
      "<class 'pandas.core.frame.DataFrame'>\n",
      "Int64Index: 59400 entries, 0 to 59399\n",
      "Data columns (total 19 columns):\n",
      " #   Column                 Non-Null Count  Dtype  \n",
      "---  ------                 --------------  -----  \n",
      " 0   id                     59400 non-null  int64  \n",
      " 1   gps_height             59400 non-null  float64\n",
      " 2   basin                  59400 non-null  object \n",
      " 3   region_code            59400 non-null  int64  \n",
      " 4   district_code          59400 non-null  float64\n",
      " 5   lga                    59400 non-null  object \n",
      " 6   population             59400 non-null  float64\n",
      " 7   public_meeting         59400 non-null  float64\n",
      " 8   permit                 59400 non-null  float64\n",
      " 9   extraction_type_class  59400 non-null  object \n",
      " 10  management_group       59400 non-null  object \n",
      " 11  payment_type           59400 non-null  object \n",
      " 12  quality_group          59400 non-null  object \n",
      " 13  quantity_group         59400 non-null  object \n",
      " 14  source_type            59400 non-null  object \n",
      " 15  source_class           59400 non-null  object \n",
      " 16  waterpoint_type_group  59400 non-null  object \n",
      " 17  status_group           59400 non-null  object \n",
      " 18  age                    59400 non-null  float64\n",
      "dtypes: float64(6), int64(2), object(11)\n",
      "memory usage: 11.6+ MB\n"
     ]
    },
    {
     "data": {
      "text/plain": [
       "(Index(['id', 'gps_height', 'basin', 'region_code', 'district_code', 'lga',\n",
       "        'population', 'public_meeting', 'permit', 'extraction_type_class',\n",
       "        'management_group', 'payment_type', 'quality_group', 'quantity_group',\n",
       "        'source_type', 'source_class', 'waterpoint_type_group', 'status_group',\n",
       "        'age'],\n",
       "       dtype='object'),\n",
       " None)"
      ]
     },
     "execution_count": 79,
     "metadata": {},
     "output_type": "execute_result"
    }
   ],
   "source": [
    "df_concise.columns, df_concise.info()"
   ]
  },
  {
   "cell_type": "code",
   "execution_count": 80,
   "metadata": {},
   "outputs": [
    {
     "data": {
      "image/png": "[encoded data removed]",
      "text/plain": [
       "<Figure size 720x432 with 1 Axes>"
      ]
     },
     "metadata": {
      "needs_background": "light"
     },
     "output_type": "display_data"
    }
   ],
   "source": [
    "# Plotting box plots for each column\n",
    "plt.figure(figsize=(10, 6))\n",
    "sns.boxplot(data=df_concise.iloc[:,1:])\n",
    "plt.title('Box plots of Selected Columns')\n",
    "plt.xlabel('Features')\n",
    "plt.ylabel('Values')\n",
    "plt.xticks(rotation=45)\n",
    "plt.show()"
   ]
  },
  {
   "cell_type": "markdown",
   "metadata": {},
   "source": [
    "### Removing outliers of pop, IMP..."
   ]
  },
  {
   "cell_type": "code",
   "execution_count": 81,
   "metadata": {},
   "outputs": [
    {
     "data": {
      "text/html": [
       "<div>\n",
       "<style scoped>\n",
       "    .dataframe tbody tr th:only-of-type {\n",
       "        vertical-align: middle;\n",
       "    }\n",
       "\n",
       "    .dataframe tbody tr th {\n",
       "        vertical-align: top;\n",
       "    }\n",
       "\n",
       "    .dataframe thead th {\n",
       "        text-align: right;\n",
       "    }\n",
       "</style>\n",
       "<table border=\"1\" class=\"dataframe\">\n",
       "  <thead>\n",
       "    <tr style=\"text-align: right;\">\n",
       "      <th></th>\n",
       "      <th>id</th>\n",
       "      <th>gps_height</th>\n",
       "      <th>region_code</th>\n",
       "      <th>district_code</th>\n",
       "      <th>population</th>\n",
       "      <th>public_meeting</th>\n",
       "      <th>permit</th>\n",
       "      <th>age</th>\n",
       "    </tr>\n",
       "  </thead>\n",
       "  <tbody>\n",
       "    <tr>\n",
       "      <th>count</th>\n",
       "      <td>59400.000000</td>\n",
       "      <td>59400.000000</td>\n",
       "      <td>59400.000000</td>\n",
       "      <td>59400.000000</td>\n",
       "      <td>59400.000000</td>\n",
       "      <td>59400.000000</td>\n",
       "      <td>59400.000000</td>\n",
       "      <td>59400.000000</td>\n",
       "    </tr>\n",
       "    <tr>\n",
       "      <th>mean</th>\n",
       "      <td>37115.131768</td>\n",
       "      <td>1069.831684</td>\n",
       "      <td>15.297003</td>\n",
       "      <td>5.630135</td>\n",
       "      <td>240.880101</td>\n",
       "      <td>0.914899</td>\n",
       "      <td>0.705522</td>\n",
       "      <td>26.074798</td>\n",
       "    </tr>\n",
       "    <tr>\n",
       "      <th>std</th>\n",
       "      <td>21453.128371</td>\n",
       "      <td>501.077319</td>\n",
       "      <td>17.587406</td>\n",
       "      <td>9.633442</td>\n",
       "      <td>452.950368</td>\n",
       "      <td>0.279034</td>\n",
       "      <td>0.455812</td>\n",
       "      <td>10.179591</td>\n",
       "    </tr>\n",
       "    <tr>\n",
       "      <th>min</th>\n",
       "      <td>0.000000</td>\n",
       "      <td>-90.000000</td>\n",
       "      <td>1.000000</td>\n",
       "      <td>1.000000</td>\n",
       "      <td>2.000000</td>\n",
       "      <td>0.000000</td>\n",
       "      <td>0.000000</td>\n",
       "      <td>11.000000</td>\n",
       "    </tr>\n",
       "    <tr>\n",
       "      <th>25%</th>\n",
       "      <td>18519.750000</td>\n",
       "      <td>903.000000</td>\n",
       "      <td>5.000000</td>\n",
       "      <td>2.000000</td>\n",
       "      <td>100.000000</td>\n",
       "      <td>1.000000</td>\n",
       "      <td>0.000000</td>\n",
       "      <td>20.000000</td>\n",
       "    </tr>\n",
       "    <tr>\n",
       "      <th>50%</th>\n",
       "      <td>37061.500000</td>\n",
       "      <td>1167.000000</td>\n",
       "      <td>12.000000</td>\n",
       "      <td>3.000000</td>\n",
       "      <td>150.000000</td>\n",
       "      <td>1.000000</td>\n",
       "      <td>1.000000</td>\n",
       "      <td>24.000000</td>\n",
       "    </tr>\n",
       "    <tr>\n",
       "      <th>75%</th>\n",
       "      <td>55656.500000</td>\n",
       "      <td>1319.250000</td>\n",
       "      <td>17.000000</td>\n",
       "      <td>5.000000</td>\n",
       "      <td>215.000000</td>\n",
       "      <td>1.000000</td>\n",
       "      <td>1.000000</td>\n",
       "      <td>28.000000</td>\n",
       "    </tr>\n",
       "    <tr>\n",
       "      <th>max</th>\n",
       "      <td>74247.000000</td>\n",
       "      <td>2770.000000</td>\n",
       "      <td>99.000000</td>\n",
       "      <td>80.000000</td>\n",
       "      <td>30500.000000</td>\n",
       "      <td>1.000000</td>\n",
       "      <td>1.000000</td>\n",
       "      <td>64.000000</td>\n",
       "    </tr>\n",
       "  </tbody>\n",
       "</table>\n",
       "</div>"
      ],
      "text/plain": [
       "                 id    gps_height   region_code  district_code    population  \\\n",
       "count  59400.000000  59400.000000  59400.000000   59400.000000  59400.000000   \n",
       "mean   37115.131768   1069.831684     15.297003       5.630135    240.880101   \n",
       "std    21453.128371    501.077319     17.587406       9.633442    452.950368   \n",
       "min        0.000000    -90.000000      1.000000       1.000000      2.000000   \n",
       "25%    18519.750000    903.000000      5.000000       2.000000    100.000000   \n",
       "50%    37061.500000   1167.000000     12.000000       3.000000    150.000000   \n",
       "75%    55656.500000   1319.250000     17.000000       5.000000    215.000000   \n",
       "max    74247.000000   2770.000000     99.000000      80.000000  30500.000000   \n",
       "\n",
       "       public_meeting        permit           age  \n",
       "count    59400.000000  59400.000000  59400.000000  \n",
       "mean         0.914899      0.705522     26.074798  \n",
       "std          0.279034      0.455812     10.179591  \n",
       "min          0.000000      0.000000     11.000000  \n",
       "25%          1.000000      0.000000     20.000000  \n",
       "50%          1.000000      1.000000     24.000000  \n",
       "75%          1.000000      1.000000     28.000000  \n",
       "max          1.000000      1.000000     64.000000  "
      ]
     },
     "execution_count": 81,
     "metadata": {},
     "output_type": "execute_result"
    }
   ],
   "source": [
    "df_concise.describe()"
   ]
  },
  {
   "cell_type": "code",
   "execution_count": 82,
   "metadata": {},
   "outputs": [],
   "source": [
    "df_selected_outliers = df_concise[['population']]\n",
    "\n",
    "\n",
    "# Calculate IQR for selected columns\n",
    "Q1 = df_selected_outliers.quantile(0.25)\n",
    "Q3 = df_selected_outliers.quantile(0.75)\n",
    "IQR = Q3 - Q1\n",
    "\n",
    "# Define outlier boundaries\n",
    "lower_bound = Q1 - 1.5 * IQR\n",
    "upper_bound = Q3 + 1.5 * IQR\n",
    "\n",
    "# Find outliers\n",
    "outliers = ((df_selected_outliers< lower_bound) | (df_selected_outliers > upper_bound)).any(axis=1)\n",
    "\n",
    "# Print indices of outliers\n",
    "outlier_indices = df.index[outliers]"
   ]
  },
  {
   "cell_type": "code",
   "execution_count": 83,
   "metadata": {},
   "outputs": [
    {
     "name": "stdout",
     "output_type": "stream",
     "text": [
      "<class 'pandas.core.frame.DataFrame'>\n",
      "Int64Index: 59400 entries, 0 to 59399\n",
      "Data columns (total 19 columns):\n",
      " #   Column                 Non-Null Count  Dtype  \n",
      "---  ------                 --------------  -----  \n",
      " 0   id                     59400 non-null  int64  \n",
      " 1   gps_height             59400 non-null  float64\n",
      " 2   basin                  59400 non-null  object \n",
      " 3   region_code            59400 non-null  int64  \n",
      " 4   district_code          59400 non-null  float64\n",
      " 5   lga                    59400 non-null  object \n",
      " 6   population             59400 non-null  float64\n",
      " 7   public_meeting         59400 non-null  float64\n",
      " 8   permit                 59400 non-null  float64\n",
      " 9   extraction_type_class  59400 non-null  object \n",
      " 10  management_group       59400 non-null  object \n",
      " 11  payment_type           59400 non-null  object \n",
      " 12  quality_group          59400 non-null  object \n",
      " 13  quantity_group         59400 non-null  object \n",
      " 14  source_type            59400 non-null  object \n",
      " 15  source_class           59400 non-null  object \n",
      " 16  waterpoint_type_group  59400 non-null  object \n",
      " 17  status_group           59400 non-null  object \n",
      " 18  age                    59400 non-null  float64\n",
      "dtypes: float64(6), int64(2), object(11)\n",
      "memory usage: 11.6+ MB\n",
      "<class 'pandas.core.frame.DataFrame'>\n",
      "Int64Index: 51718 entries, 0 to 59399\n",
      "Data columns (total 19 columns):\n",
      " #   Column                 Non-Null Count  Dtype  \n",
      "---  ------                 --------------  -----  \n",
      " 0   id                     51718 non-null  int64  \n",
      " 1   gps_height             51718 non-null  float64\n",
      " 2   basin                  51718 non-null  object \n",
      " 3   region_code            51718 non-null  int64  \n",
      " 4   district_code          51718 non-null  float64\n",
      " 5   lga                    51718 non-null  object \n",
      " 6   population             51718 non-null  float64\n",
      " 7   public_meeting         51718 non-null  float64\n",
      " 8   permit                 51718 non-null  float64\n",
      " 9   extraction_type_class  51718 non-null  object \n",
      " 10  management_group       51718 non-null  object \n",
      " 11  payment_type           51718 non-null  object \n",
      " 12  quality_group          51718 non-null  object \n",
      " 13  quantity_group         51718 non-null  object \n",
      " 14  source_type            51718 non-null  object \n",
      " 15  source_class           51718 non-null  object \n",
      " 16  waterpoint_type_group  51718 non-null  object \n",
      " 17  status_group           51718 non-null  object \n",
      " 18  age                    51718 non-null  float64\n",
      "dtypes: float64(6), int64(2), object(11)\n",
      "memory usage: 7.9+ MB\n"
     ]
    },
    {
     "data": {
      "text/plain": [
       "(None, None)"
      ]
     },
     "execution_count": 83,
     "metadata": {},
     "output_type": "execute_result"
    }
   ],
   "source": [
    "# droping all rows with outliers \n",
    "df_concise_without_outliers = df_concise.drop(outlier_indices)\n",
    "df_concise.info(),df_concise_without_outliers.info()"
   ]
  },
  {
   "cell_type": "markdown",
   "metadata": {},
   "source": [
    "Now we have clean data"
   ]
  },
  {
   "cell_type": "markdown",
   "metadata": {},
   "source": [
    "# Data Preprocessing"
   ]
  },
  {
   "cell_type": "markdown",
   "metadata": {},
   "source": [
    "## Declaring Target and Features\n"
   ]
  },
  {
   "cell_type": "code",
   "execution_count": 84,
   "metadata": {},
   "outputs": [
    {
     "data": {
      "text/plain": [
       "Index(['id', 'gps_height', 'basin', 'region_code', 'district_code', 'lga',\n",
       "       'population', 'public_meeting', 'permit', 'extraction_type_class',\n",
       "       'management_group', 'payment_type', 'quality_group', 'quantity_group',\n",
       "       'source_type', 'source_class', 'waterpoint_type_group', 'status_group',\n",
       "       'age'],\n",
       "      dtype='object')"
      ]
     },
     "execution_count": 84,
     "metadata": {},
     "output_type": "execute_result"
    }
   ],
   "source": [
    "df_concise.columns"
   ]
  },
  {
   "cell_type": "code",
   "execution_count": 85,
   "metadata": {},
   "outputs": [],
   "source": [
    "X_1 = df_concise.drop(['status_group', 'id'], axis=1)\n",
    "X_2 = df_concise_without_outliers.drop(['status_group','id'], axis=1)\n",
    "\n",
    "y_1 = df_concise['status_group']\n",
    "y_2 = df_concise_without_outliers['status_group']\n"
   ]
  },
  {
   "cell_type": "code",
   "execution_count": 86,
   "metadata": {},
   "outputs": [],
   "source": [
    "# saving the ID's for prediction later\n",
    "ids_with_outliers = df_concise['id']\n",
    "ids_without_outliers = df_concise_without_outliers['id']"
   ]
  },
  {
   "cell_type": "markdown",
   "metadata": {},
   "source": [
    "### Expound on the meanings of 1 and 2"
   ]
  },
  {
   "cell_type": "markdown",
   "metadata": {},
   "source": [
    "**Split data into separate training and test set** "
   ]
  },
  {
   "cell_type": "code",
   "execution_count": 87,
   "metadata": {},
   "outputs": [],
   "source": [
    "# split X and y into training and testing sets\n",
    "#dataset with outliers\n",
    "X_train_1, X_test_1, y_train_1, y_test_1 = train_test_split(X_1, y_1, test_size = 0.2, random_state = 42)\n",
    "\n",
    "#dataset without outliers\n",
    "X_train_2, X_test_2, y_train_2, y_test_2 = train_test_split(X_2, y_2, test_size = 0.2, random_state = 42)\n"
   ]
  },
  {
   "cell_type": "code",
   "execution_count": 88,
   "metadata": {},
   "outputs": [
    {
     "data": {
      "text/plain": [
       "((47520, 17), (11880, 17), (41374, 17), (10344, 17))"
      ]
     },
     "execution_count": 88,
     "metadata": {},
     "output_type": "execute_result"
    }
   ],
   "source": [
    "# check the shapes of X_train and X_test\n",
    "\n",
    "X_train_1.shape, X_test_1.shape,     X_train_2.shape, X_test_2.shape"
   ]
  },
  {
   "cell_type": "code",
   "execution_count": null,
   "metadata": {},
   "outputs": [],
   "source": []
  },
  {
   "cell_type": "markdown",
   "metadata": {},
   "source": [
    "## Dealing with Categorical Varibles"
   ]
  },
  {
   "cell_type": "code",
   "execution_count": 89,
   "metadata": {},
   "outputs": [
    {
     "name": "stdout",
     "output_type": "stream",
     "text": [
      "<class 'pandas.core.frame.DataFrame'>\n",
      "Int64Index: 41374 entries, 15616 to 18124\n",
      "Data columns (total 17 columns):\n",
      " #   Column                 Non-Null Count  Dtype  \n",
      "---  ------                 --------------  -----  \n",
      " 0   gps_height             41374 non-null  float64\n",
      " 1   basin                  41374 non-null  object \n",
      " 2   region_code            41374 non-null  int64  \n",
      " 3   district_code          41374 non-null  float64\n",
      " 4   lga                    41374 non-null  object \n",
      " 5   population             41374 non-null  float64\n",
      " 6   public_meeting         41374 non-null  float64\n",
      " 7   permit                 41374 non-null  float64\n",
      " 8   extraction_type_class  41374 non-null  object \n",
      " 9   management_group       41374 non-null  object \n",
      " 10  payment_type           41374 non-null  object \n",
      " 11  quality_group          41374 non-null  object \n",
      " 12  quantity_group         41374 non-null  object \n",
      " 13  source_type            41374 non-null  object \n",
      " 14  source_class           41374 non-null  object \n",
      " 15  waterpoint_type_group  41374 non-null  object \n",
      " 16  age                    41374 non-null  float64\n",
      "dtypes: float64(6), int64(1), object(10)\n",
      "memory usage: 5.7+ MB\n"
     ]
    },
    {
     "data": {
      "text/plain": [
       "(Index(['gps_height', 'basin', 'region_code', 'district_code', 'lga',\n",
       "        'population', 'public_meeting', 'permit', 'extraction_type_class',\n",
       "        'management_group', 'payment_type', 'quality_group', 'quantity_group',\n",
       "        'source_type', 'source_class', 'waterpoint_type_group', 'age'],\n",
       "       dtype='object'),\n",
       " None)"
      ]
     },
     "execution_count": 89,
     "metadata": {},
     "output_type": "execute_result"
    }
   ],
   "source": [
    "X_train_1.columns, X_train_2.info()"
   ]
  },
  {
   "cell_type": "markdown",
   "metadata": {},
   "source": [
    "selecting all Categorical variables "
   ]
  },
  {
   "cell_type": "code",
   "execution_count": 90,
   "metadata": {},
   "outputs": [
    {
     "data": {
      "text/html": [
       "<div>\n",
       "<style scoped>\n",
       "    .dataframe tbody tr th:only-of-type {\n",
       "        vertical-align: middle;\n",
       "    }\n",
       "\n",
       "    .dataframe tbody tr th {\n",
       "        vertical-align: top;\n",
       "    }\n",
       "\n",
       "    .dataframe thead th {\n",
       "        text-align: right;\n",
       "    }\n",
       "</style>\n",
       "<table border=\"1\" class=\"dataframe\">\n",
       "  <thead>\n",
       "    <tr style=\"text-align: right;\">\n",
       "      <th></th>\n",
       "      <th>basin</th>\n",
       "      <th>region_code</th>\n",
       "      <th>district_code</th>\n",
       "      <th>lga</th>\n",
       "      <th>extraction_type_class</th>\n",
       "      <th>management_group</th>\n",
       "      <th>payment_type</th>\n",
       "      <th>quality_group</th>\n",
       "      <th>quantity_group</th>\n",
       "      <th>source_type</th>\n",
       "      <th>source_class</th>\n",
       "      <th>waterpoint_type_group</th>\n",
       "    </tr>\n",
       "  </thead>\n",
       "  <tbody>\n",
       "    <tr>\n",
       "      <th>3607</th>\n",
       "      <td>Internal</td>\n",
       "      <td>21</td>\n",
       "      <td>1.0</td>\n",
       "      <td>Babati</td>\n",
       "      <td>gravity</td>\n",
       "      <td>user-group</td>\n",
       "      <td>per bucket</td>\n",
       "      <td>good</td>\n",
       "      <td>insufficient</td>\n",
       "      <td>spring</td>\n",
       "      <td>groundwater</td>\n",
       "      <td>communal standpipe</td>\n",
       "    </tr>\n",
       "    <tr>\n",
       "      <th>50870</th>\n",
       "      <td>Internal</td>\n",
       "      <td>1</td>\n",
       "      <td>6.0</td>\n",
       "      <td>Bahi</td>\n",
       "      <td>handpump</td>\n",
       "      <td>user-group</td>\n",
       "      <td>never pay</td>\n",
       "      <td>good</td>\n",
       "      <td>enough</td>\n",
       "      <td>shallow well</td>\n",
       "      <td>groundwater</td>\n",
       "      <td>hand pump</td>\n",
       "    </tr>\n",
       "    <tr>\n",
       "      <th>20413</th>\n",
       "      <td>Lake Rukwa</td>\n",
       "      <td>12</td>\n",
       "      <td>6.0</td>\n",
       "      <td>Mbozi</td>\n",
       "      <td>other</td>\n",
       "      <td>user-group</td>\n",
       "      <td>never pay</td>\n",
       "      <td>good</td>\n",
       "      <td>enough</td>\n",
       "      <td>shallow well</td>\n",
       "      <td>groundwater</td>\n",
       "      <td>other</td>\n",
       "    </tr>\n",
       "    <tr>\n",
       "      <th>52806</th>\n",
       "      <td>Rufiji</td>\n",
       "      <td>12</td>\n",
       "      <td>7.0</td>\n",
       "      <td>Mbarali</td>\n",
       "      <td>gravity</td>\n",
       "      <td>user-group</td>\n",
       "      <td>monthly</td>\n",
       "      <td>good</td>\n",
       "      <td>insufficient</td>\n",
       "      <td>river/lake</td>\n",
       "      <td>surface</td>\n",
       "      <td>communal standpipe</td>\n",
       "    </tr>\n",
       "    <tr>\n",
       "      <th>50091</th>\n",
       "      <td>Wami / Ruvu</td>\n",
       "      <td>5</td>\n",
       "      <td>1.0</td>\n",
       "      <td>Kilosa</td>\n",
       "      <td>other</td>\n",
       "      <td>user-group</td>\n",
       "      <td>on failure</td>\n",
       "      <td>salty</td>\n",
       "      <td>enough</td>\n",
       "      <td>shallow well</td>\n",
       "      <td>groundwater</td>\n",
       "      <td>other</td>\n",
       "    </tr>\n",
       "  </tbody>\n",
       "</table>\n",
       "</div>"
      ],
      "text/plain": [
       "             basin  region_code  district_code      lga extraction_type_class  \\\n",
       "3607      Internal           21            1.0   Babati               gravity   \n",
       "50870     Internal            1            6.0     Bahi              handpump   \n",
       "20413   Lake Rukwa           12            6.0    Mbozi                 other   \n",
       "52806       Rufiji           12            7.0  Mbarali               gravity   \n",
       "50091  Wami / Ruvu            5            1.0   Kilosa                 other   \n",
       "\n",
       "      management_group payment_type quality_group quantity_group  \\\n",
       "3607        user-group   per bucket          good   insufficient   \n",
       "50870       user-group    never pay          good         enough   \n",
       "20413       user-group    never pay          good         enough   \n",
       "52806       user-group      monthly          good   insufficient   \n",
       "50091       user-group   on failure         salty         enough   \n",
       "\n",
       "        source_type source_class waterpoint_type_group  \n",
       "3607         spring  groundwater    communal standpipe  \n",
       "50870  shallow well  groundwater             hand pump  \n",
       "20413  shallow well  groundwater                 other  \n",
       "52806    river/lake      surface    communal standpipe  \n",
       "50091  shallow well  groundwater                 other  "
      ]
     },
     "execution_count": 90,
     "metadata": {},
     "output_type": "execute_result"
    }
   ],
   "source": [
    "\n",
    "X_train_1_categorical = X_train_1[['basin','region_code','district_code','lga',\n",
    "                                  'extraction_type_class','management_group','payment_type', 'quality_group',\n",
    "                                  'quantity_group', 'source_type','source_class','waterpoint_type_group']]\n",
    "X_train_2_categorical =  X_train_2[['basin','region_code','district_code','lga',\n",
    "                                  'extraction_type_class','management_group','payment_type', 'quality_group',\n",
    "                                  'quantity_group', 'source_type','source_class','waterpoint_type_group']]\n",
    "\n",
    "X_train_1_categorical.head()"
   ]
  },
  {
   "cell_type": "markdown",
   "metadata": {},
   "source": [
    "we shall add `permit` and `public_meeting` later during scaling since they are numerical "
   ]
  },
  {
   "cell_type": "code",
   "execution_count": 91,
   "metadata": {},
   "outputs": [
    {
     "data": {
      "text/plain": [
       "True"
      ]
     },
     "execution_count": 91,
     "metadata": {},
     "output_type": "execute_result"
    }
   ],
   "source": [
    "len(X_train_1_categorical.columns)==len(X_train_2_categorical.columns)"
   ]
  },
  {
   "cell_type": "markdown",
   "metadata": {},
   "source": [
    "## One-Hot Encoding and Scaling\n",
    "\n",
    "### One-Hot Encoding\n",
    "\n",
    "To handle categorical features, we apply One-Hot Encoding. This method transforms categorical variables into a set of binary columns, making them suitable for machine learning algorithms. This step is crucial for ensuring that categorical variables are properly represented in the model.\n",
    "\n",
    "### Scaling\n",
    "\n",
    "We use **Min-Max Scaling** to normalize features. This technique scales the data to a range of [0, 1], which is particularly useful because:\n",
    "\n",
    "- **Feature Scaling**: Not all features in the dataset are normalized, and Min-Max Scaling ensures that features are on a similar scale.\n",
    "- **Categorical Data**: Scaling is essential when dealing with categorical data converted into binary format through One-Hot Encoding.\n",
    "\n",
    "By applying Min-Max Scaling, we ensure that all features contribute equally to the model, improving performance and convergence during training.\n"
   ]
  },
  {
   "cell_type": "markdown",
   "metadata": {},
   "source": [
    "## One Hot Encoding"
   ]
  },
  {
   "cell_type": "code",
   "execution_count": 92,
   "metadata": {},
   "outputs": [],
   "source": [
    "ohe = OneHotEncoder(handle_unknown=\"ignore\",drop='first')"
   ]
  },
  {
   "cell_type": "code",
   "execution_count": 93,
   "metadata": {},
   "outputs": [
    {
     "data": {
      "text/plain": [
       "(47520, 214)"
      ]
     },
     "execution_count": 93,
     "metadata": {},
     "output_type": "execute_result"
    }
   ],
   "source": [
    "\n",
    "\n",
    "X_train_categorical_ohe = ohe.fit_transform(X_train_1_categorical).toarray()\n",
    "\n",
    "X_train_1_encoded_categorical = pd.DataFrame(\n",
    "    X_train_categorical_ohe,\n",
    "    columns=ohe.get_feature_names_out(X_train_1_categorical.columns)\n",
    ")\n",
    "X_train_1_encoded_categorical.shape"
   ]
  },
  {
   "cell_type": "code",
   "execution_count": 94,
   "metadata": {},
   "outputs": [
    {
     "data": {
      "text/plain": [
       "(41374, 213)"
      ]
     },
     "execution_count": 94,
     "metadata": {},
     "output_type": "execute_result"
    }
   ],
   "source": [
    "\n",
    "X_train_2_categorical_ohe = ohe.fit_transform(X_train_2_categorical).toarray()\n",
    "\n",
    "X_train_2_encoded_categorical = pd.DataFrame(\n",
    "    X_train_2_categorical_ohe,\n",
    "    columns=ohe.get_feature_names_out(X_train_2_categorical.columns)\n",
    ")\n",
    "X_train_2_encoded_categorical.shape"
   ]
  },
  {
   "cell_type": "markdown",
   "metadata": {},
   "source": [
    "As can be seen above some columns in the dataset without outliers have some missing columns, we shall look for the missing column and add it to the dataset 2 "
   ]
  },
  {
   "cell_type": "code",
   "execution_count": 95,
   "metadata": {},
   "outputs": [
    {
     "data": {
      "text/plain": [
       "(41374, 214)"
      ]
     },
     "execution_count": 95,
     "metadata": {},
     "output_type": "execute_result"
    }
   ],
   "source": [
    "#identify missing columns\n",
    "missing_columns = set(X_train_1_encoded_categorical.columns) - set(X_train_2_encoded_categorical.columns)\n",
    "\n",
    "#add column\n",
    "for col in missing_columns:\n",
    "     X_train_2_encoded_categorical[col]= 0\n",
    "\n",
    "#check shape\n",
    "X_train_2_encoded_categorical.shape\n",
    "\n",
    "\n"
   ]
  },
  {
   "cell_type": "markdown",
   "metadata": {},
   "source": [
    " **Feature Scaling**"
   ]
  },
  {
   "cell_type": "markdown",
   "metadata": {},
   "source": [
    "We now have training and testing set ready for model building. Before that, we should map all the feature variables onto the same scale. It is called `feature scaling`. I will do it as follows."
   ]
  },
  {
   "cell_type": "markdown",
   "metadata": {},
   "source": [
    "selecting all Categorical variables "
   ]
  },
  {
   "cell_type": "code",
   "execution_count": 96,
   "metadata": {},
   "outputs": [
    {
     "data": {
      "text/html": [
       "<div>\n",
       "<style scoped>\n",
       "    .dataframe tbody tr th:only-of-type {\n",
       "        vertical-align: middle;\n",
       "    }\n",
       "\n",
       "    .dataframe tbody tr th {\n",
       "        vertical-align: top;\n",
       "    }\n",
       "\n",
       "    .dataframe thead th {\n",
       "        text-align: right;\n",
       "    }\n",
       "</style>\n",
       "<table border=\"1\" class=\"dataframe\">\n",
       "  <thead>\n",
       "    <tr style=\"text-align: right;\">\n",
       "      <th></th>\n",
       "      <th>gps_height</th>\n",
       "      <th>population</th>\n",
       "      <th>age</th>\n",
       "      <th>permit</th>\n",
       "      <th>public_meeting</th>\n",
       "    </tr>\n",
       "  </thead>\n",
       "  <tbody>\n",
       "    <tr>\n",
       "      <th>3607</th>\n",
       "      <td>2092.0</td>\n",
       "      <td>160.0</td>\n",
       "      <td>26.0</td>\n",
       "      <td>1.0</td>\n",
       "      <td>1.0</td>\n",
       "    </tr>\n",
       "    <tr>\n",
       "      <th>50870</th>\n",
       "      <td>1167.0</td>\n",
       "      <td>150.0</td>\n",
       "      <td>24.0</td>\n",
       "      <td>1.0</td>\n",
       "      <td>1.0</td>\n",
       "    </tr>\n",
       "    <tr>\n",
       "      <th>20413</th>\n",
       "      <td>1167.0</td>\n",
       "      <td>150.0</td>\n",
       "      <td>24.0</td>\n",
       "      <td>0.0</td>\n",
       "      <td>1.0</td>\n",
       "    </tr>\n",
       "    <tr>\n",
       "      <th>52806</th>\n",
       "      <td>1167.0</td>\n",
       "      <td>150.0</td>\n",
       "      <td>24.0</td>\n",
       "      <td>1.0</td>\n",
       "      <td>1.0</td>\n",
       "    </tr>\n",
       "    <tr>\n",
       "      <th>50091</th>\n",
       "      <td>1023.0</td>\n",
       "      <td>120.0</td>\n",
       "      <td>27.0</td>\n",
       "      <td>1.0</td>\n",
       "      <td>1.0</td>\n",
       "    </tr>\n",
       "  </tbody>\n",
       "</table>\n",
       "</div>"
      ],
      "text/plain": [
       "       gps_height  population   age  permit  public_meeting\n",
       "3607       2092.0       160.0  26.0     1.0             1.0\n",
       "50870      1167.0       150.0  24.0     1.0             1.0\n",
       "20413      1167.0       150.0  24.0     0.0             1.0\n",
       "52806      1167.0       150.0  24.0     1.0             1.0\n",
       "50091      1023.0       120.0  27.0     1.0             1.0"
      ]
     },
     "execution_count": 96,
     "metadata": {},
     "output_type": "execute_result"
    }
   ],
   "source": [
    "['gps_height','population','age']\n",
    "X_train_1_numerical = X_train_1[['gps_height','population','age','permit','public_meeting']]\n",
    "X_train_2_numerical =  X_train_2[['gps_height','population','age','permit','public_meeting']]\n",
    "\n",
    "X_train_1_numerical.head()"
   ]
  },
  {
   "cell_type": "markdown",
   "metadata": {},
   "source": [
    "MinMax Scaling\n"
   ]
  },
  {
   "cell_type": "code",
   "execution_count": 97,
   "metadata": {},
   "outputs": [],
   "source": [
    "scaler = MinMaxScaler()"
   ]
  },
  {
   "cell_type": "code",
   "execution_count": 98,
   "metadata": {},
   "outputs": [
    {
     "data": {
      "text/html": [
       "<div>\n",
       "<style scoped>\n",
       "    .dataframe tbody tr th:only-of-type {\n",
       "        vertical-align: middle;\n",
       "    }\n",
       "\n",
       "    .dataframe tbody tr th {\n",
       "        vertical-align: top;\n",
       "    }\n",
       "\n",
       "    .dataframe thead th {\n",
       "        text-align: right;\n",
       "    }\n",
       "</style>\n",
       "<table border=\"1\" class=\"dataframe\">\n",
       "  <thead>\n",
       "    <tr style=\"text-align: right;\">\n",
       "      <th></th>\n",
       "      <th>gps_height</th>\n",
       "      <th>population</th>\n",
       "      <th>age</th>\n",
       "      <th>permit</th>\n",
       "      <th>public_meeting</th>\n",
       "    </tr>\n",
       "  </thead>\n",
       "  <tbody>\n",
       "    <tr>\n",
       "      <th>3607</th>\n",
       "      <td>0.760678</td>\n",
       "      <td>0.005181</td>\n",
       "      <td>0.283019</td>\n",
       "      <td>1.0</td>\n",
       "      <td>1.0</td>\n",
       "    </tr>\n",
       "    <tr>\n",
       "      <th>50870</th>\n",
       "      <td>0.434169</td>\n",
       "      <td>0.004853</td>\n",
       "      <td>0.245283</td>\n",
       "      <td>1.0</td>\n",
       "      <td>1.0</td>\n",
       "    </tr>\n",
       "    <tr>\n",
       "      <th>20413</th>\n",
       "      <td>0.434169</td>\n",
       "      <td>0.004853</td>\n",
       "      <td>0.245283</td>\n",
       "      <td>0.0</td>\n",
       "      <td>1.0</td>\n",
       "    </tr>\n",
       "    <tr>\n",
       "      <th>52806</th>\n",
       "      <td>0.434169</td>\n",
       "      <td>0.004853</td>\n",
       "      <td>0.245283</td>\n",
       "      <td>1.0</td>\n",
       "      <td>1.0</td>\n",
       "    </tr>\n",
       "    <tr>\n",
       "      <th>50091</th>\n",
       "      <td>0.383339</td>\n",
       "      <td>0.003869</td>\n",
       "      <td>0.301887</td>\n",
       "      <td>1.0</td>\n",
       "      <td>1.0</td>\n",
       "    </tr>\n",
       "    <tr>\n",
       "      <th>...</th>\n",
       "      <td>...</td>\n",
       "      <td>...</td>\n",
       "      <td>...</td>\n",
       "      <td>...</td>\n",
       "      <td>...</td>\n",
       "    </tr>\n",
       "    <tr>\n",
       "      <th>54343</th>\n",
       "      <td>0.137663</td>\n",
       "      <td>0.008296</td>\n",
       "      <td>0.339623</td>\n",
       "      <td>1.0</td>\n",
       "      <td>1.0</td>\n",
       "    </tr>\n",
       "    <tr>\n",
       "      <th>38158</th>\n",
       "      <td>0.637487</td>\n",
       "      <td>0.001082</td>\n",
       "      <td>0.471698</td>\n",
       "      <td>0.0</td>\n",
       "      <td>1.0</td>\n",
       "    </tr>\n",
       "    <tr>\n",
       "      <th>860</th>\n",
       "      <td>0.017649</td>\n",
       "      <td>0.032723</td>\n",
       "      <td>0.150943</td>\n",
       "      <td>0.0</td>\n",
       "      <td>0.0</td>\n",
       "    </tr>\n",
       "    <tr>\n",
       "      <th>15795</th>\n",
       "      <td>0.434169</td>\n",
       "      <td>0.004853</td>\n",
       "      <td>0.245283</td>\n",
       "      <td>1.0</td>\n",
       "      <td>1.0</td>\n",
       "    </tr>\n",
       "    <tr>\n",
       "      <th>56422</th>\n",
       "      <td>0.477586</td>\n",
       "      <td>0.001902</td>\n",
       "      <td>0.698113</td>\n",
       "      <td>1.0</td>\n",
       "      <td>1.0</td>\n",
       "    </tr>\n",
       "  </tbody>\n",
       "</table>\n",
       "<p>47520 rows × 5 columns</p>\n",
       "</div>"
      ],
      "text/plain": [
       "       gps_height  population       age  permit  public_meeting\n",
       "3607     0.760678    0.005181  0.283019     1.0             1.0\n",
       "50870    0.434169    0.004853  0.245283     1.0             1.0\n",
       "20413    0.434169    0.004853  0.245283     0.0             1.0\n",
       "52806    0.434169    0.004853  0.245283     1.0             1.0\n",
       "50091    0.383339    0.003869  0.301887     1.0             1.0\n",
       "...           ...         ...       ...     ...             ...\n",
       "54343    0.137663    0.008296  0.339623     1.0             1.0\n",
       "38158    0.637487    0.001082  0.471698     0.0             1.0\n",
       "860      0.017649    0.032723  0.150943     0.0             0.0\n",
       "15795    0.434169    0.004853  0.245283     1.0             1.0\n",
       "56422    0.477586    0.001902  0.698113     1.0             1.0\n",
       "\n",
       "[47520 rows x 5 columns]"
      ]
     },
     "execution_count": 98,
     "metadata": {},
     "output_type": "execute_result"
    }
   ],
   "source": [
    "#dataset with outliers\n",
    "scaler.fit(X_train_1_numerical)\n",
    "X_train_1_numeric_scaled = pd.DataFrame(\n",
    "    scaler.transform(X_train_1_numerical),\n",
    "    # index is important to ensure we can concatenate with other columns\n",
    "    index=X_train_1_numerical.index,\n",
    "    columns=X_train_1_numerical.columns\n",
    ")\n",
    "X_train_1_numeric_scaled\n",
    "\n",
    "\n"
   ]
  },
  {
   "cell_type": "code",
   "execution_count": 99,
   "metadata": {},
   "outputs": [
    {
     "data": {
      "text/html": [
       "<div>\n",
       "<style scoped>\n",
       "    .dataframe tbody tr th:only-of-type {\n",
       "        vertical-align: middle;\n",
       "    }\n",
       "\n",
       "    .dataframe tbody tr th {\n",
       "        vertical-align: top;\n",
       "    }\n",
       "\n",
       "    .dataframe thead th {\n",
       "        text-align: right;\n",
       "    }\n",
       "</style>\n",
       "<table border=\"1\" class=\"dataframe\">\n",
       "  <thead>\n",
       "    <tr style=\"text-align: right;\">\n",
       "      <th></th>\n",
       "      <th>gps_height</th>\n",
       "      <th>population</th>\n",
       "      <th>age</th>\n",
       "      <th>permit</th>\n",
       "      <th>public_meeting</th>\n",
       "    </tr>\n",
       "  </thead>\n",
       "  <tbody>\n",
       "    <tr>\n",
       "      <th>15616</th>\n",
       "      <td>0.419696</td>\n",
       "      <td>0.124675</td>\n",
       "      <td>0.547170</td>\n",
       "      <td>1.0</td>\n",
       "      <td>1.0</td>\n",
       "    </tr>\n",
       "    <tr>\n",
       "      <th>11025</th>\n",
       "      <td>0.458172</td>\n",
       "      <td>0.150649</td>\n",
       "      <td>0.018868</td>\n",
       "      <td>1.0</td>\n",
       "      <td>1.0</td>\n",
       "    </tr>\n",
       "    <tr>\n",
       "      <th>10831</th>\n",
       "      <td>0.624073</td>\n",
       "      <td>0.202597</td>\n",
       "      <td>0.075472</td>\n",
       "      <td>0.0</td>\n",
       "      <td>1.0</td>\n",
       "    </tr>\n",
       "    <tr>\n",
       "      <th>6662</th>\n",
       "      <td>0.522061</td>\n",
       "      <td>0.098701</td>\n",
       "      <td>0.735849</td>\n",
       "      <td>1.0</td>\n",
       "      <td>0.0</td>\n",
       "    </tr>\n",
       "    <tr>\n",
       "      <th>41180</th>\n",
       "      <td>0.121073</td>\n",
       "      <td>0.670130</td>\n",
       "      <td>0.622642</td>\n",
       "      <td>1.0</td>\n",
       "      <td>1.0</td>\n",
       "    </tr>\n",
       "    <tr>\n",
       "      <th>...</th>\n",
       "      <td>...</td>\n",
       "      <td>...</td>\n",
       "      <td>...</td>\n",
       "      <td>...</td>\n",
       "      <td>...</td>\n",
       "    </tr>\n",
       "    <tr>\n",
       "      <th>12952</th>\n",
       "      <td>0.619132</td>\n",
       "      <td>0.774026</td>\n",
       "      <td>0.245283</td>\n",
       "      <td>1.0</td>\n",
       "      <td>1.0</td>\n",
       "    </tr>\n",
       "    <tr>\n",
       "      <th>51363</th>\n",
       "      <td>0.369926</td>\n",
       "      <td>0.774026</td>\n",
       "      <td>0.660377</td>\n",
       "      <td>1.0</td>\n",
       "      <td>1.0</td>\n",
       "    </tr>\n",
       "    <tr>\n",
       "      <th>43838</th>\n",
       "      <td>0.434169</td>\n",
       "      <td>0.384416</td>\n",
       "      <td>0.245283</td>\n",
       "      <td>1.0</td>\n",
       "      <td>1.0</td>\n",
       "    </tr>\n",
       "    <tr>\n",
       "      <th>981</th>\n",
       "      <td>0.109778</td>\n",
       "      <td>0.514286</td>\n",
       "      <td>0.396226</td>\n",
       "      <td>1.0</td>\n",
       "      <td>1.0</td>\n",
       "    </tr>\n",
       "    <tr>\n",
       "      <th>18124</th>\n",
       "      <td>0.290858</td>\n",
       "      <td>0.903896</td>\n",
       "      <td>0.358491</td>\n",
       "      <td>1.0</td>\n",
       "      <td>1.0</td>\n",
       "    </tr>\n",
       "  </tbody>\n",
       "</table>\n",
       "<p>41374 rows × 5 columns</p>\n",
       "</div>"
      ],
      "text/plain": [
       "       gps_height  population       age  permit  public_meeting\n",
       "15616    0.419696    0.124675  0.547170     1.0             1.0\n",
       "11025    0.458172    0.150649  0.018868     1.0             1.0\n",
       "10831    0.624073    0.202597  0.075472     0.0             1.0\n",
       "6662     0.522061    0.098701  0.735849     1.0             0.0\n",
       "41180    0.121073    0.670130  0.622642     1.0             1.0\n",
       "...           ...         ...       ...     ...             ...\n",
       "12952    0.619132    0.774026  0.245283     1.0             1.0\n",
       "51363    0.369926    0.774026  0.660377     1.0             1.0\n",
       "43838    0.434169    0.384416  0.245283     1.0             1.0\n",
       "981      0.109778    0.514286  0.396226     1.0             1.0\n",
       "18124    0.290858    0.903896  0.358491     1.0             1.0\n",
       "\n",
       "[41374 rows x 5 columns]"
      ]
     },
     "execution_count": 99,
     "metadata": {},
     "output_type": "execute_result"
    }
   ],
   "source": [
    "#dataset without outliers\n",
    "\n",
    "scaler.fit(X_train_2_numerical)\n",
    "X_train_2_numeric_scaled = pd.DataFrame(\n",
    "    scaler.transform(X_train_2_numerical),\n",
    "    # index is important to ensure we can concatenate with other columns\n",
    "    index=X_train_2_numerical.index,\n",
    "    columns=X_train_2_numerical.columns\n",
    ")\n",
    "X_train_2_numeric_scaled"
   ]
  },
  {
   "cell_type": "markdown",
   "metadata": {},
   "source": [
    "## Concatenating onehot encoded and scaled columns"
   ]
  },
  {
   "cell_type": "code",
   "execution_count": 100,
   "metadata": {},
   "outputs": [],
   "source": [
    "# Reset the index of both DataFrames\n",
    "X_train_1_numeric_scaled = X_train_1_numeric_scaled.reset_index(drop=True)\n",
    "X_train_1_encoded_categorical = X_train_1_encoded_categorical.reset_index(drop=True)"
   ]
  },
  {
   "cell_type": "code",
   "execution_count": 101,
   "metadata": {},
   "outputs": [],
   "source": [
    "# Reset the index of both DataFrames\n",
    "X_train_2_numeric_scaled = X_train_2_numeric_scaled.reset_index(drop=True)\n",
    "X_train_2_encoded_categorical = X_train_2_encoded_categorical.reset_index(drop=True)"
   ]
  },
  {
   "cell_type": "code",
   "execution_count": 102,
   "metadata": {},
   "outputs": [],
   "source": [
    "\n",
    "X_train_1_full = pd.concat([X_train_1_encoded_categorical, X_train_1_numeric_scaled], axis=1)\n",
    "X_train_1 = X_train_1_full"
   ]
  },
  {
   "cell_type": "code",
   "execution_count": 103,
   "metadata": {},
   "outputs": [],
   "source": [
    "X_train_2_full = pd.concat([X_train_2_encoded_categorical, X_train_2_numeric_scaled], axis=1)\n",
    "X_train_2 = X_train_2_full"
   ]
  },
  {
   "cell_type": "markdown",
   "metadata": {},
   "source": [
    "## Data Prepreprocessing on the test set"
   ]
  },
  {
   "cell_type": "code",
   "execution_count": 104,
   "metadata": {},
   "outputs": [],
   "source": [
    "\n",
    "X_test_1_categorical = X_test_1[['basin','region_code','district_code','lga',\n",
    "                                  'extraction_type_class','management_group','payment_type', 'quality_group',\n",
    "                                  'quantity_group', 'source_type','source_class','waterpoint_type_group']]\n",
    "X_test_2_categorical =  X_test_2[['basin','region_code','district_code','lga',\n",
    "                                  'extraction_type_class','management_group','payment_type', 'quality_group',\n",
    "                                  'quantity_group', 'source_type','source_class','waterpoint_type_group']]\n",
    "\n",
    "X_test_categorical_ohe = ohe.fit_transform(X_test_1_categorical).toarray()\n",
    "\n",
    "X_test_1_encoded_categorical = pd.DataFrame(\n",
    "    X_test_categorical_ohe,\n",
    "    columns=ohe.get_feature_names_out(X_test_1_categorical.columns)\n",
    ")\n",
    "X_test_1_encoded_categorical\n",
    "\n",
    "\n",
    "# add missing columns, if any\n",
    "\n",
    "#identify missing columns\n",
    "missing_columns = set(X_train_1_encoded_categorical.columns) - set(X_test_1_encoded_categorical.columns)\n",
    "\n",
    "#add column\n",
    "for col in missing_columns:\n",
    "     X_test_1_encoded_categorical[col]= 0\n",
    "\n",
    "#check shape\n",
    "X_test_1_encoded_categorical.shape\n",
    "\n",
    "\n",
    "\n",
    "X_test_2_categorical_ohe = ohe.fit_transform(X_test_2_categorical).toarray()\n",
    "\n",
    "X_test_2_encoded_categorical = pd.DataFrame(\n",
    "    X_test_2_categorical_ohe,\n",
    "    columns=ohe.get_feature_names_out(X_test_2_categorical.columns)\n",
    ")\n",
    "X_test_2_encoded_categorical\n",
    "\n",
    "\n",
    "# add missing columns, if any\n",
    "\n",
    "#identify missing columns\n",
    "missing_columns = set(X_train_1_encoded_categorical.columns) - set(X_test_2_encoded_categorical.columns)\n",
    "\n",
    "#add column\n",
    "for col in missing_columns:\n",
    "     X_test_2_encoded_categorical[col]= 0\n",
    "\n",
    "#check shape\n",
    "X_test_2_encoded_categorical.shape\n",
    "\n",
    "\n",
    "\n",
    "X_test_1_numerical = X_test_1[['gps_height','population','age','permit','public_meeting']]\n",
    "X_test_2_numerical =  X_test_2[['gps_height','population','age','permit','public_meeting']]\n",
    "\n",
    "\n",
    "#dataset with outliers\n",
    "scaler.fit(X_test_1_numerical)\n",
    "X_test_1_numeric_scaled = pd.DataFrame(\n",
    "    scaler.transform(X_test_1_numerical),\n",
    "    # index is important to ensure we can concatenate with other columns\n",
    "    index=X_test_1_numerical.index,\n",
    "    columns=X_test_1_numerical.columns\n",
    ")\n",
    "X_test_1_numeric_scaled\n",
    "\n",
    "\n",
    "#dataset without outliers\n",
    "\n",
    "scaler.fit(X_test_2_numerical)\n",
    "X_test_2_numeric_scaled = pd.DataFrame(\n",
    "    scaler.transform(X_test_2_numerical),\n",
    "    # index is important to ensure we can concatenate with other columns\n",
    "    index=X_test_2_numerical.index,\n",
    "    columns=X_test_2_numerical.columns\n",
    ")\n",
    "X_test_2_numeric_scaled\n",
    "\n",
    "# Reset the index of both DataFrames\n",
    "X_test_1_numeric_scaled = X_test_1_numeric_scaled.reset_index(drop=True)\n",
    "X_test_1_encoded_categorical = X_test_1_encoded_categorical.reset_index(drop=True)\n",
    "\n",
    "# Reset the index of both DataFrames\n",
    "X_test_2_numeric_scaled = X_test_2_numeric_scaled.reset_index(drop=True)\n",
    "X_test_2_encoded_categorical = X_test_2_encoded_categorical.reset_index(drop=True)\n",
    "\n",
    "\n",
    "X_test_1_full = pd.concat([X_test_1_encoded_categorical, X_test_1_numeric_scaled], axis=1)\n",
    "X_test_1 = X_test_1_full\n",
    "\n",
    "X_test_2_full = pd.concat([X_test_2_encoded_categorical, X_test_2_numeric_scaled], axis=1)\n",
    "X_test_2 = X_test_2_full"
   ]
  },
  {
   "cell_type": "code",
   "execution_count": 105,
   "metadata": {},
   "outputs": [
    {
     "data": {
      "text/plain": [
       "functional                 32259\n",
       "non functional             22824\n",
       "functional needs repair     4317\n",
       "Name: status_group, dtype: int64"
      ]
     },
     "execution_count": 105,
     "metadata": {},
     "output_type": "execute_result"
    }
   ],
   "source": [
    "df_concise['status_group'].value_counts()"
   ]
  },
  {
   "cell_type": "markdown",
   "metadata": {},
   "source": [
    "## Encoding the Labels"
   ]
  },
  {
   "cell_type": "code",
   "execution_count": 106,
   "metadata": {},
   "outputs": [],
   "source": [
    "# encoding the labels\n",
    "\n",
    "\n",
    "# Initialize LabelEncoder\n",
    "label_encoder = LabelEncoder()\n",
    "\n",
    "# Fit and transform the training target labels\n",
    "\n",
    "# train dataset\n",
    "y_train_1_encoded = label_encoder.fit_transform(y_train_1)\n",
    "y_train_2_encoded = label_encoder.fit_transform(y_train_2)\n",
    "\n",
    "# test dataset\n",
    "y_test_1_encoded = label_encoder.transform(y_test_1)\n",
    "y_test_2_encoded = label_encoder.transform(y_test_2)\n"
   ]
  },
  {
   "cell_type": "code",
   "execution_count": 107,
   "metadata": {},
   "outputs": [],
   "source": [
    "#convert labels back to series from array\n",
    "\n",
    "# Convert encoded target back to Series\n",
    "#train dataset\n",
    "y_train_1 = pd.Series(y_train_1_encoded, name='Status')\n",
    "y_train_2 = pd.Series(y_train_2_encoded, name='Status')\n",
    "\n",
    "#test dataset\n",
    "y_test_1 = pd.Series(y_test_1_encoded, name='Status')\n",
    "y_test_2 = pd.Series(y_test_2_encoded, name='Status')\n",
    "\n"
   ]
  },
  {
   "cell_type": "code",
   "execution_count": 108,
   "metadata": {},
   "outputs": [
    {
     "name": "stdout",
     "output_type": "stream",
     "text": [
      "['functional' 'functional needs repair' 'non functional']\n"
     ]
    }
   ],
   "source": [
    "print(label_encoder.classes_) "
   ]
  },
  {
   "cell_type": "markdown",
   "metadata": {},
   "source": [
    "Thus \n",
    "\n",
    "0 - functional\n",
    "\n",
    "1 - functional needs repair\n",
    "\n",
    "2 - non functional"
   ]
  },
  {
   "cell_type": "markdown",
   "metadata": {},
   "source": [
    "# **5. MODELING AND EVALUATION**"
   ]
  },
  {
   "cell_type": "markdown",
   "metadata": {},
   "source": [
    "## Introduction\n",
    "\n",
    "In this section, we will develop and evaluate baseline models for two machine learning algorithms: Decision Trees and Logistic Regression. Our goal is to establish a starting point with these models and then refine them based on performance metrics.\n",
    "\n",
    "### Baseline Models\n",
    "\n",
    "1. **Decision Tree Classifier**: \n",
    "   - **Purpose**: The Decision Tree model will help us understand the initial performance of a non-linear model, which is capable of capturing complex relationships in the data.\n",
    "   - **Data**: We will use two datasets: one with outliers and one without outliers to assess the impact of outliers on model performance.\n",
    "\n",
    "2. **Logistic Regression**:\n",
    "   - **Purpose**: The Logistic Regression model will provide a baseline for a linear approach, suitable for evaluating how well a simpler model performs compared to more complex models.\n",
    "   - **Data**: Similar to the Decision Tree, we will evaluate Logistic Regression on both datasets (with and without outliers).\n",
    "\n",
    "### Data Sets\n",
    "\n",
    "- **Dataset with Outliers**: Contains potential anomalies which may impact the performance of the models.\n",
    "- **Dataset without Outliers**: Outliers have been removed to assess how they influence the model performance.\n",
    "\n",
    "### Evaluation Metrics\n",
    "\n",
    "To effectively identify pumps needing repair or that are not operational, we will evaluate our models using the following metrics, focusing on both macro and weighted averages:\n",
    "\n",
    "- **Recall**: Measures how well the model identifies all relevant instances, specifically pumps that need repair (label 1) and those that are non-operational (label 2). High recall is critical to ensure we capture all maintenance needs, helping the government of Tanzania address pump issues promptly.\n",
    "\n",
    "- **Precision**: Assesses how many of the identified maintenance needs are correct. High precision ensures that maintenance resources are used efficiently by minimizing false positives, where functional pumps are incorrectly flagged for maintenance.\n",
    "\n",
    "- **F1 Score**: Combines precision and recall into a single metric, balancing both to provide a comprehensive view of model performance. It is especially useful in evaluating how well the model identifies both repair needs and non-operational pumps while considering both false positives and false negatives.\n",
    "\n",
    "### Macro and Weighted Averages\n",
    "\n",
    "- **Macro Average**: Calculates metrics for each class independently and averages them. This approach evaluates the model’s performance across all classes equally, giving insight into how well it handles each type of pump—functional, needing repair, and non-operational.\n",
    "\n",
    "- **Weighted Average**: Takes into account the number of instances in each class, providing a performance measure that reflects class imbalances. This metric is important for understanding how well the model performs with less frequent classes (repair-needed and non-operational pumps), ensuring a balanced evaluation.\n",
    "\n",
    "By analyzing both macro and weighted averages of recall, precision, and F1 Score, we ensure a thorough assessment of the model's ability to identify pumps needing maintenance and make informed decisions for resource allocation and maintenance planning.\n",
    "\n",
    "\n",
    "### Model Improvement\n",
    "\n",
    "After establishing baseline performance, we will refine the models by:\n",
    "\n",
    "- **Tuning Hyperparameters**: Adjusting model settings to enhance performance.\n",
    "- **Handling Class Imbalance**: Applying techniques such as SMOTE and class weights to address imbalances in the dataset.\n",
    "\n",
    "### Objective\n",
    "\n",
    "Our objective is to identify the best model for our stakeholder, the government of Tanzania, focusing on efficient maintenance across the country. By evaluating the models thoroughly and improving them based on the metrics, we aim to choose the model that best meets the needs of capturing pumps that are non-functional and those needing repair.\n"
   ]
  },
  {
   "cell_type": "markdown",
   "metadata": {},
   "source": [
    "-Before modeling we ensure all train and test feature data frames have the same order of columns"
   ]
  },
  {
   "cell_type": "code",
   "execution_count": 109,
   "metadata": {},
   "outputs": [],
   "source": [
    "columns = X_train_1.columns\n",
    "#reordering all columns for uniformity\n",
    "X_train_2 = X_train_2[columns]\n",
    "X_test_1 = X_test_1[columns]\n",
    "X_test_2 = X_test_2[columns]"
   ]
  },
  {
   "cell_type": "code",
   "execution_count": 110,
   "metadata": {},
   "outputs": [
    {
     "data": {
      "text/plain": [
       "0    25802\n",
       "2    18252\n",
       "1     3466\n",
       "Name: Status, dtype: int64"
      ]
     },
     "execution_count": 110,
     "metadata": {},
     "output_type": "execute_result"
    }
   ],
   "source": [
    "y_train_1.value_counts()"
   ]
  },
  {
   "cell_type": "code",
   "execution_count": 111,
   "metadata": {},
   "outputs": [
    {
     "data": {
      "text/plain": [
       "0    6457\n",
       "2    4572\n",
       "1     851\n",
       "Name: Status, dtype: int64"
      ]
     },
     "execution_count": 111,
     "metadata": {},
     "output_type": "execute_result"
    }
   ],
   "source": [
    "y_test_1.value_counts()"
   ]
  },
  {
   "cell_type": "code",
   "execution_count": 112,
   "metadata": {},
   "outputs": [
    {
     "data": {
      "text/plain": [
       "0    5632\n",
       "2    4011\n",
       "1     701\n",
       "Name: Status, dtype: int64"
      ]
     },
     "execution_count": 112,
     "metadata": {},
     "output_type": "execute_result"
    }
   ],
   "source": [
    "y_test_2.value_counts()"
   ]
  },
  {
   "cell_type": "markdown",
   "metadata": {},
   "source": [
    "Data is in order hence we begin"
   ]
  },
  {
   "cell_type": "markdown",
   "metadata": {},
   "source": [
    "## **A. Logistic Regression**"
   ]
  },
  {
   "cell_type": "markdown",
   "metadata": {},
   "source": [
    "### I.Baseline model( Default Hyperparameters)"
   ]
  },
  {
   "cell_type": "markdown",
   "metadata": {},
   "source": [
    "#### 1. Model with Outliers"
   ]
  },
  {
   "cell_type": "code",
   "execution_count": 113,
   "metadata": {},
   "outputs": [
    {
     "name": "stderr",
     "output_type": "stream",
     "text": [
      "/home/leo/anaconda3/envs/learn-env/lib/python3.8/site-packages/sklearn/linear_model/_logistic.py:460: ConvergenceWarning: lbfgs failed to converge (status=1):\n",
      "STOP: TOTAL NO. of ITERATIONS REACHED LIMIT.\n",
      "\n",
      "Increase the number of iterations (max_iter) or scale the data as shown in:\n",
      "    https://scikit-learn.org/stable/modules/preprocessing.html\n",
      "Please also refer to the documentation for alternative solver options:\n",
      "    https://scikit-learn.org/stable/modules/linear_model.html#logistic-regression\n",
      "  n_iter_i = _check_optimize_result(\n"
     ]
    },
    {
     "name": "stdout",
     "output_type": "stream",
     "text": [
      "Macro Recall: 0.5534\n",
      "Macro Precision: 0.6833\n",
      "Macro F1 Score: 0.5694\n",
      "Weighted Recall: 0.7444\n",
      "Weighted Precision: 0.7390\n",
      "Weighted F1 Score: 0.7241\n",
      "----------------------------------------\n"
     ]
    }
   ],
   "source": [
    "# Instantiate the model\n",
    "logreg = LogisticRegression(random_state= 42)\n",
    "\n",
    "\n",
    "# Fit the model on the scaled data\n",
    "model = logreg.fit(X_train_1, y_train_1)\n",
    "# Predict\n",
    "y_hat_test = logreg.predict(X_test_1)\n",
    "\n",
    "   \n",
    "    # Compute metrics with 'macro' average\n",
    "model_recall_macro = recall_score(y_true=y_test_1, y_pred=y_hat_test, average='macro')\n",
    "model_precision_macro = precision_score(y_true=y_test_1, y_pred=y_hat_test, average='macro')\n",
    "model_f1_macro = f1_score(y_true=y_test_1, y_pred=y_hat_test, average='macro')\n",
    "    \n",
    "    # Compute metrics with 'weighted' average\n",
    "model_recall_weighted = recall_score(y_true=y_test_1, y_pred=y_hat_test, average='weighted')\n",
    "model_precision_weighted = precision_score(y_true=y_test_1, y_pred=y_hat_test, average='weighted')\n",
    "model_f1_weighted = f1_score(y_true=y_test_1, y_pred=y_hat_test, average='weighted')\n",
    "    \n",
    "    # Print results\n",
    "print(f\"Macro Recall: {model_recall_macro:.4f}\")\n",
    "print(f\"Macro Precision: {model_precision_macro:.4f}\")\n",
    "print(f\"Macro F1 Score: {model_f1_macro:.4f}\")\n",
    "    \n",
    "print(f\"Weighted Recall: {model_recall_weighted:.4f}\")\n",
    "print(f\"Weighted Precision: {model_precision_weighted:.4f}\")\n",
    "print(f\"Weighted F1 Score: {model_f1_weighted:.4f}\")\n",
    "print('-' * 40)"
   ]
  },
  {
   "cell_type": "markdown",
   "metadata": {},
   "source": [
    "#### 2. Model without Outliers"
   ]
  },
  {
   "cell_type": "code",
   "execution_count": 114,
   "metadata": {},
   "outputs": [
    {
     "name": "stdout",
     "output_type": "stream",
     "text": [
      "Macro Recall: 0.5478\n",
      "Macro Precision: 0.6726\n",
      "Macro F1 Score: 0.5576\n",
      "Weighted Recall: 0.7509\n",
      "Weighted Precision: 0.7412\n",
      "Weighted F1 Score: 0.7297\n",
      "----------------------------------------\n"
     ]
    },
    {
     "name": "stderr",
     "output_type": "stream",
     "text": [
      "/home/leo/anaconda3/envs/learn-env/lib/python3.8/site-packages/sklearn/linear_model/_logistic.py:460: ConvergenceWarning: lbfgs failed to converge (status=1):\n",
      "STOP: TOTAL NO. of ITERATIONS REACHED LIMIT.\n",
      "\n",
      "Increase the number of iterations (max_iter) or scale the data as shown in:\n",
      "    https://scikit-learn.org/stable/modules/preprocessing.html\n",
      "Please also refer to the documentation for alternative solver options:\n",
      "    https://scikit-learn.org/stable/modules/linear_model.html#logistic-regression\n",
      "  n_iter_i = _check_optimize_result(\n"
     ]
    }
   ],
   "source": [
    "# Replace None with appropriate code\n",
    "# Instantiate the model\n",
    "logreg = LogisticRegression(random_state= 42)\n",
    "\n",
    "\n",
    "# Fit the model on the scaled data\n",
    "model = logreg.fit(X_train_2, y_train_2)\n",
    "\n",
    "# Predict\n",
    "y_hat_test = logreg.predict(X_test_2)\n",
    "\n",
    "    \n",
    "    # Compute metrics with 'macro' average\n",
    "model_recall_macro = recall_score(y_true=y_test_2, y_pred=y_hat_test, average='macro')\n",
    "model_precision_macro = precision_score(y_true=y_test_2, y_pred=y_hat_test, average='macro')\n",
    "model_f1_macro = f1_score(y_true=y_test_2, y_pred=y_hat_test, average='macro')\n",
    "    \n",
    "    # Compute metrics with 'weighted' average\n",
    "model_recall_weighted = recall_score(y_true=y_test_2, y_pred=y_hat_test, average='weighted')\n",
    "model_precision_weighted = precision_score(y_true=y_test_2, y_pred=y_hat_test, average='weighted')\n",
    "model_f1_weighted = f1_score(y_true=y_test_2, y_pred=y_hat_test, average='weighted')\n",
    "    \n",
    "    # Print results\n",
    "print(f\"Macro Recall: {model_recall_macro:.4f}\")\n",
    "print(f\"Macro Precision: {model_precision_macro:.4f}\")\n",
    "print(f\"Macro F1 Score: {model_f1_macro:.4f}\")\n",
    "    \n",
    "print(f\"Weighted Recall: {model_recall_weighted:.4f}\")\n",
    "print(f\"Weighted Precision: {model_precision_weighted:.4f}\")\n",
    "print(f\"Weighted F1 Score: {model_f1_weighted:.4f}\")\n",
    "print('-' * 40)\n",
    "\n"
   ]
  },
  {
   "cell_type": "markdown",
   "metadata": {},
   "source": [
    "## Baseline Model Analysis\n",
    "\n",
    "### Logistic Regression (With Outliers)\n",
    "\n",
    "**Metrics:**\n",
    "- **Macro Recall:** 0.5534\n",
    "- **Macro Precision:** 0.6833\n",
    "- **Macro F1 Score:** 0.5694\n",
    "- **Weighted Recall:** 0.7444\n",
    "- **Weighted Precision:** 0.7390\n",
    "- **Weighted F1 Score:** 0.7241\n",
    "\n",
    "**Key Points:**\n",
    "- **Moderate Recall** indicates decent identification of relevant instances.\n",
    "- **High Precision** suggests accurate positive predictions.\n",
    "- **Good F1 Score** balances recall and precision.\n",
    "\n",
    "**Note:** Convergence warning suggests optimization issues.\n",
    "\n",
    "### Logistic Regression (Without Outliers)\n",
    "\n",
    "**Metrics:**\n",
    "- **Macro Recall:** 0.5478\n",
    "- **Macro Precision:** 0.6726\n",
    "- **Macro F1 Score:** 0.5576\n",
    "- **Weighted Recall:** 0.7509\n",
    "- **Weighted Precision:** 0.7412\n",
    "- **Weighted F1 Score:** 0.7297\n",
    "\n",
    "**Key Points:**\n",
    "- **Slight Decrease in Recall** but remains acceptable.\n",
    "- **Slight Improvements** in Precision and F1 Score.\n",
    "\n",
    "**Note:** Similar convergence issues as with outliers.\n",
    "\n",
    "### Summary\n",
    "\n",
    "Both models perform well but show convergence issues. Adjusting hyperparameters or scaling the data may improve results.\n"
   ]
  },
  {
   "cell_type": "markdown",
   "metadata": {},
   "source": [
    "## Model Tuning\n",
    "\n",
    "### Background\n",
    "To enhance the performance of our logistic regression model, we will focus on tuning the model using the dataset that includes outliers. This approach helps in optimizing the model without the added complexity of redundant data.\n",
    "\n",
    "### Approach\n",
    "\n",
    "I. **Addressing Class Imbalance:**\n",
    "   - **Class Weights:** We will experiment with different class weights to handle imbalance directly within the model.\n",
    "   - **SMOTE (Synthetic Minority Over-sampling Technique):** We will use SMOTE to balance the class distribution by generating synthetic samples for the minority class.\n",
    "   \n",
    "\n",
    "II. **Regularization:**\n",
    "   - **L1 Regularization:** Testing L1 regularization to promote sparsity by driving some coefficients to zero.\n",
    "   - **L2 Regularization:** Testing L2 regularization to penalize large coefficients, thereby reducing model overfitting.\n",
    "\n",
    "By addressing class imbalance and applying regularization techniques, we aim to improve the model's performance and generalizability.\n"
   ]
  },
  {
   "cell_type": "markdown",
   "metadata": {},
   "source": [
    "## I.  Addressing Class Imbalance"
   ]
  },
  {
   "cell_type": "code",
   "execution_count": 115,
   "metadata": {},
   "outputs": [
    {
     "data": {
      "text/plain": [
       "0    25802\n",
       "2    18252\n",
       "1     3466\n",
       "Name: Status, dtype: int64"
      ]
     },
     "execution_count": 115,
     "metadata": {},
     "output_type": "execute_result"
    }
   ],
   "source": [
    "#\n",
    "y_train_1.value_counts()"
   ]
  },
  {
   "cell_type": "markdown",
   "metadata": {},
   "source": [
    "-    As can be seen class 1 and 2 are minority classes"
   ]
  },
  {
   "cell_type": "markdown",
   "metadata": {},
   "source": [
    "### A. Using Class Weights"
   ]
  },
  {
   "cell_type": "code",
   "execution_count": 116,
   "metadata": {},
   "outputs": [
    {
     "name": "stdout",
     "output_type": "stream",
     "text": [
      "Testing with class weight: None\n",
      "Macro Recall: 0.5495\n",
      "Macro Precision: 0.6789\n",
      "Macro F1 Score: 0.5639\n",
      "Weighted Recall: 0.7439\n",
      "Weighted Precision: 0.7384\n",
      "Weighted F1 Score: 0.7226\n",
      "----------------------------------------\n",
      "Testing with class weight: Balanced\n"
     ]
    },
    {
     "name": "stderr",
     "output_type": "stream",
     "text": [
      "/home/leo/anaconda3/envs/learn-env/lib/python3.8/site-packages/sklearn/linear_model/_sag.py:350: ConvergenceWarning: The max_iter was reached which means the coef_ did not converge\n",
      "  warnings.warn(\n"
     ]
    },
    {
     "name": "stdout",
     "output_type": "stream",
     "text": [
      "Macro Recall: 0.6506\n",
      "Macro Precision: 0.5963\n",
      "Macro F1 Score: 0.5691\n",
      "Weighted Recall: 0.6400\n",
      "Weighted Precision: 0.7523\n",
      "Weighted F1 Score: 0.6768\n",
      "----------------------------------------\n",
      "Testing with class weight: 2:1\n",
      "Macro Recall: 0.5956\n",
      "Macro Precision: 0.6344\n",
      "Macro F1 Score: 0.6078\n",
      "Weighted Recall: 0.7364\n",
      "Weighted Precision: 0.7379\n",
      "Weighted F1 Score: 0.7290\n",
      "----------------------------------------\n",
      "Testing with class weight: 10:1\n",
      "Macro Recall: 0.5365\n",
      "Macro Precision: 0.5812\n",
      "Macro F1 Score: 0.3800\n",
      "Weighted Recall: 0.3689\n",
      "Weighted Precision: 0.7634\n",
      "Weighted F1 Score: 0.4421\n",
      "----------------------------------------\n"
     ]
    },
    {
     "name": "stderr",
     "output_type": "stream",
     "text": [
      "/home/leo/anaconda3/envs/learn-env/lib/python3.8/site-packages/sklearn/linear_model/_sag.py:350: ConvergenceWarning: The max_iter was reached which means the coef_ did not converge\n",
      "  warnings.warn(\n"
     ]
    }
   ],
   "source": [
    "# Define class weights based on your specific classes\n",
    "weights = [None, 'balanced', {0: 1, 1: 2, 2: 1}, {0: 1, 1: 10, 2: 1}, ]\n",
    "names = ['None', 'Balanced', '2:1', '10:1']\n",
    "\n",
    "# Loop through different weights and evaluate the model\n",
    "for n, weight in enumerate(weights):\n",
    "    print(f\"Testing with class weight: {names[n]}\")\n",
    "    \n",
    "    # Fit a model\n",
    "    logreg = LogisticRegression(class_weight=weight, random_state=42,solver= 'saga')\n",
    "    model_log = logreg.fit(X_train_1, y_train_1)\n",
    "    \n",
    "    # Predict\n",
    "    y_hat_test = logreg.predict(X_test_1)\n",
    "    \n",
    "    # Compute metrics with 'macro' average\n",
    "    model_recall_macro = recall_score(y_true=y_test_1, y_pred=y_hat_test, average='macro')\n",
    "    model_precision_macro = precision_score(y_true=y_test_1, y_pred=y_hat_test, average='macro')\n",
    "    model_f1_macro = f1_score(y_true=y_test_1, y_pred=y_hat_test, average='macro')\n",
    "    \n",
    "    # Compute metrics with 'weighted' average\n",
    "    model_recall_weighted = recall_score(y_true=y_test_1, y_pred=y_hat_test, average='weighted')\n",
    "    model_precision_weighted = precision_score(y_true=y_test_1, y_pred=y_hat_test, average='weighted')\n",
    "    model_f1_weighted = f1_score(y_true=y_test_1, y_pred=y_hat_test, average='weighted')\n",
    "    \n",
    "    # Print results\n",
    "    print(f\"Macro Recall: {model_recall_macro:.4f}\")\n",
    "    print(f\"Macro Precision: {model_precision_macro:.4f}\")\n",
    "    print(f\"Macro F1 Score: {model_f1_macro:.4f}\")\n",
    "    \n",
    "    print(f\"Weighted Recall: {model_recall_weighted:.4f}\")\n",
    "    print(f\"Weighted Precision: {model_precision_weighted:.4f}\")\n",
    "    print(f\"Weighted F1 Score: {model_f1_weighted:.4f}\")\n",
    "    print('-' * 40)\n"
   ]
  },
  {
   "cell_type": "markdown",
   "metadata": {},
   "source": [
    "### Recommended Class Weight\n",
    "**Balanced** class weight is recommended as it provides the highest macro recall (0.6506), ensuring the best identification of pumps needing repair or non-functional while maintaining reasonable precision and F1 score.\n",
    "\n",
    "### Conclusion\n",
    "The **balanced** class weight best meets the stakeholder's needs for efficient maintenance, with further tuning to follow."
   ]
  },
  {
   "cell_type": "markdown",
   "metadata": {},
   "source": [
    "### B.  Using SMOTE(Synthetic Minority Over-sampling Technique)"
   ]
  },
  {
   "cell_type": "code",
   "execution_count": 117,
   "metadata": {},
   "outputs": [
    {
     "name": "stdout",
     "output_type": "stream",
     "text": [
      "LogisticRegression(random_state=42, solver='saga')\n",
      "Macro Recall: 0.6648\n",
      "Macro Precision: 0.5985\n",
      "Macro F1 Score: 0.5738\n",
      "Weighted Recall: 0.6397\n",
      "Weighted Precision: 0.7537\n",
      "Weighted F1 Score: 0.6767\n"
     ]
    }
   ],
   "source": [
    "smote = SMOTE(random_state= 42)\n",
    "X_train_1_resampled, y_train_1_resampled = smote.fit_resample(X_train_1, y_train_1) \n",
    "# Fit a model\n",
    "logreg = LogisticRegression(random_state=42,solver= 'saga')\n",
    "model_log = logreg.fit(X_train_1_resampled, y_train_1_resampled)\n",
    "print(model_log)\n",
    "\n",
    "# Predict\n",
    "y_hat_test = logreg.predict(X_test_1)\n",
    "# Compute metrics with 'macro' average\n",
    "model_recall_macro = recall_score(y_true=y_test_1, y_pred=y_hat_test, average='macro')\n",
    "model_precision_macro = precision_score(y_true=y_test_1, y_pred=y_hat_test, average='macro')\n",
    "model_f1_macro = f1_score(y_true=y_test_1, y_pred=y_hat_test, average='macro')\n",
    "    \n",
    "# Compute metrics with 'weighted' average\n",
    "model_recall_weighted = recall_score(y_true=y_test_1, y_pred=y_hat_test, average='weighted')\n",
    "model_precision_weighted = precision_score(y_true=y_test_1, y_pred=y_hat_test, average='weighted')\n",
    "model_f1_weighted = f1_score(y_true=y_test_1, y_pred=y_hat_test, average='weighted')\n",
    "    \n",
    "# Print results\n",
    "print(f\"Macro Recall: {model_recall_macro:.4f}\")\n",
    "print(f\"Macro Precision: {model_precision_macro:.4f}\")\n",
    "print(f\"Macro F1 Score: {model_f1_macro:.4f}\")\n",
    "    \n",
    "print(f\"Weighted Recall: {model_recall_weighted:.4f}\")\n",
    "print(f\"Weighted Precision: {model_precision_weighted:.4f}\")\n",
    "print(f\"Weighted F1 Score: {model_f1_weighted:.4f}\")"
   ]
  },
  {
   "cell_type": "markdown",
   "metadata": {},
   "source": [
    "## Comparison of SMOTE and 'class_weight' techniques\n",
    "\n",
    "Given the context of working with the government of Tanzania, where the primary goal is to carry out efficient maintenance across the country, the following metrics are of priority: recall, precision, and F1 score. The aim is to accurately capture pumps that are not functional (label 2) and those needing repair (label 1), while ensuring the model performs well overall.\n",
    "\n",
    "### Results\n",
    "\n",
    "- **Class Weight Balanced:**\n",
    "  - **Macro Recall:** 0.6506\n",
    "  - **Macro Precision:** 0.5963\n",
    "  - **Macro F1 Score:** 0.5691\n",
    "  - **Weighted Recall:** 0.6400\n",
    "  - **Weighted Precision:** 0.7523\n",
    "  - **Weighted F1 Score:** 0.6768\n",
    "\n",
    "- **SMOTE (random state = 42):**\n",
    "  - **Macro Recall:** 0.6648\n",
    "  - **Macro Precision:** 0.5985\n",
    "  - **Macro F1 Score:** 0.5738\n",
    "  - **Weighted Recall:** 0.6397\n",
    "  - **Weighted Precision:** 0.7537\n",
    "  - **Weighted F1 Score:** 0.6767\n",
    "\n",
    "### Justification\n",
    "\n",
    "Based on the results, **SMOTE** is selected for the following reasons:\n",
    "\n",
    "1. **Improved Macro Recall**: SMOTE provides a higher Macro Recall (0.6648) compared to class weight balancing (0.6506). This means SMOTE is better at identifying less frequent classes, which is crucial for capturing non-functional and repair-needed pumps.\n",
    "\n",
    "2. **Comparable Precision and F1 Score**: SMOTE’s Macro Precision (0.5985) is slightly lower than class weight balancing (0.5963), but it maintains a competitive F1 Score (0.5738 vs. 0.5691). This indicates a balanced performance between precision and recall, which is important for the reliability of maintenance decisions.\n",
    "\n",
    "3. **Practical Benefits**: SMOTE helps mitigate the issue of class imbalance by generating synthetic samples, improving the model’s ability to learn from minority classes. This is beneficial for scenarios where identifying malfunctioning and repair-needed pumps is critical.\n",
    "\n",
    "In conclusion, **SMOTE** offers a better balance in recall while maintaining competitive precision and F1 Score, making it more suitable for the government's maintenance needs.\n"
   ]
  },
  {
   "cell_type": "markdown",
   "metadata": {},
   "source": [
    "- From henceforth, we shall apply SMOTE."
   ]
  },
  {
   "cell_type": "markdown",
   "metadata": {},
   "source": [
    "## II.  Addressing Regularization"
   ]
  },
  {
   "cell_type": "markdown",
   "metadata": {},
   "source": [
    "-   We shall test for l1 and l2 regularization "
   ]
  },
  {
   "cell_type": "code",
   "execution_count": 118,
   "metadata": {},
   "outputs": [
    {
     "name": "stdout",
     "output_type": "stream",
     "text": [
      "Testing with penalty: L1 Regularization\n"
     ]
    },
    {
     "name": "stderr",
     "output_type": "stream",
     "text": [
      "/home/leo/anaconda3/envs/learn-env/lib/python3.8/site-packages/sklearn/linear_model/_sag.py:350: ConvergenceWarning: The max_iter was reached which means the coef_ did not converge\n",
      "  warnings.warn(\n"
     ]
    },
    {
     "name": "stdout",
     "output_type": "stream",
     "text": [
      "LogisticRegression(penalty='l1', random_state=42, solver='saga')\n",
      "Macro Recall: 0.6646\n",
      "Macro Precision: 0.5986\n",
      "Macro F1 Score: 0.5726\n",
      "Weighted Recall: 0.6381\n",
      "Weighted Precision: 0.7538\n",
      "Weighted F1 Score: 0.6755\n",
      "----------------------------------------\n",
      "Testing with penalty: L2 Regularization\n",
      "LogisticRegression(random_state=42, solver='saga')\n",
      "Macro Recall: 0.6648\n",
      "Macro Precision: 0.5985\n",
      "Macro F1 Score: 0.5738\n",
      "Weighted Recall: 0.6397\n",
      "Weighted Precision: 0.7537\n",
      "Weighted F1 Score: 0.6767\n",
      "----------------------------------------\n"
     ]
    }
   ],
   "source": [
    "# Define the regularization types and corresponding parameter values\n",
    "penalties = ['l1', 'l2']\n",
    "names = ['L1 Regularization', 'L2 Regularization']\n",
    "\n",
    "# Loop through different penalties and evaluate the model\n",
    "for n, penalty in enumerate(penalties):\n",
    "    print(f\"Testing with penalty: {names[n]}\")\n",
    "\n",
    "\n",
    "    smote = SMOTE(random_state=42)\n",
    "    X_train_1_resampled, y_train_1_resampled = smote.fit_resample(X_train_1, y_train_1) \n",
    "    # Fit a model\n",
    "    logreg = LogisticRegression(penalty=penalty,random_state=42,solver= 'saga')\n",
    "    model_log = logreg.fit(X_train_1_resampled, y_train_1_resampled)\n",
    "    print(model_log)\n",
    "\n",
    "    # Predict\n",
    "    y_hat_test = logreg.predict(X_test_1)\n",
    "        \n",
    "    \n",
    "    \n",
    "    # Compute metrics with 'macro' average\n",
    "    model_recall_macro = recall_score(y_true=y_test_1, y_pred=y_hat_test, average='macro')\n",
    "    model_precision_macro = precision_score(y_true=y_test_1, y_pred=y_hat_test, average='macro')\n",
    "    model_f1_macro = f1_score(y_true=y_test_1, y_pred=y_hat_test, average='macro')\n",
    "    \n",
    "    # Compute metrics with 'weighted' average\n",
    "    model_recall_weighted = recall_score(y_true=y_test_1, y_pred=y_hat_test, average='weighted')\n",
    "    model_precision_weighted = precision_score(y_true=y_test_1, y_pred=y_hat_test, average='weighted')\n",
    "    model_f1_weighted = f1_score(y_true=y_test_1, y_pred=y_hat_test, average='weighted')\n",
    "    \n",
    "    # Print results\n",
    "    print(f\"Macro Recall: {model_recall_macro:.4f}\")\n",
    "    print(f\"Macro Precision: {model_precision_macro:.4f}\")\n",
    "    print(f\"Macro F1 Score: {model_f1_macro:.4f}\")\n",
    "    \n",
    "    print(f\"Weighted Recall: {model_recall_weighted:.4f}\")\n",
    "    print(f\"Weighted Precision: {model_precision_weighted:.4f}\")\n",
    "    print(f\"Weighted F1 Score: {model_f1_weighted:.4f}\")\n",
    "    print('-' * 40)\n"
   ]
  },
  {
   "cell_type": "markdown",
   "metadata": {},
   "source": [
    "### Justification for Model Parameters\n",
    "\n",
    "The performance metrics for the Logistic Regression model with SMOTE and L2 regularization are identical to those obtained using SMOTE alone. This indicates that:\n",
    "\n",
    "- **No Significant Improvement:** The addition of L2 regularization does not impact the model's performance, as all metrics remain mostly unchanged.\n",
    "- **Simpler Model:** Without regularization, the model is simpler and computationally less expensive.\n",
    "- **Focus on Class Imbalance:** SMOTE effectively addresses class imbalance, which is the primary concern. Further tuning should focus on other techniqueslike decision trees if needed.\n",
    "\n",
    "Thus, adding L2 regularization does not provide additional benefit in this context.\n"
   ]
  },
  {
   "cell_type": "markdown",
   "metadata": {},
   "source": [
    "\n",
    "## **B. Decision Trees**"
   ]
  },
  {
   "cell_type": "markdown",
   "metadata": {},
   "source": [
    "### Baseline model( Default Hyperparameters)"
   ]
  },
  {
   "cell_type": "markdown",
   "metadata": {},
   "source": [
    "### 1. Model with Outliers"
   ]
  },
  {
   "cell_type": "code",
   "execution_count": 119,
   "metadata": {},
   "outputs": [
    {
     "name": "stdout",
     "output_type": "stream",
     "text": [
      "Macro Recall: 0.5625\n",
      "Macro Precision: 0.5647\n",
      "Macro F1 Score: 0.5633\n",
      "Weighted Recall: 0.6834\n",
      "Weighted Precision: 0.6831\n",
      "Weighted F1 Score: 0.6829\n",
      "----------------------------------------\n"
     ]
    }
   ],
   "source": [
    "dt = DecisionTreeClassifier(random_state= 42)\n",
    "model = dt.fit(X_train_1, y_train_1)\n",
    " #Predict\n",
    "y_hat_test = dt.predict(X_test_1)\n",
    "    # Compute metrics with 'macro' average\n",
    "model_recall_macro = recall_score(y_true=y_test_1, y_pred=y_hat_test, average='macro')\n",
    "model_precision_macro = precision_score(y_true=y_test_1, y_pred=y_hat_test, average='macro')\n",
    "model_f1_macro = f1_score(y_true=y_test_1, y_pred=y_hat_test, average='macro')\n",
    "    \n",
    "    # Compute metrics with 'weighted' average\n",
    "model_recall_weighted = recall_score(y_true=y_test_1, y_pred=y_hat_test, average='weighted')\n",
    "model_precision_weighted = precision_score(y_true=y_test_1, y_pred=y_hat_test, average='weighted')\n",
    "model_f1_weighted = f1_score(y_true=y_test_1, y_pred=y_hat_test, average='weighted')\n",
    "    \n",
    "    # Print results\n",
    "print(f\"Macro Recall: {model_recall_macro:.4f}\")\n",
    "print(f\"Macro Precision: {model_precision_macro:.4f}\")\n",
    "print(f\"Macro F1 Score: {model_f1_macro:.4f}\")\n",
    "    \n",
    "print(f\"Weighted Recall: {model_recall_weighted:.4f}\")\n",
    "print(f\"Weighted Precision: {model_precision_weighted:.4f}\")\n",
    "print(f\"Weighted F1 Score: {model_f1_weighted:.4f}\")\n",
    "print('-' * 40)"
   ]
  },
  {
   "cell_type": "code",
   "execution_count": 120,
   "metadata": {},
   "outputs": [],
   "source": [
    " #Predict\n",
    "y_hat_test = dt.predict(X_test_1)"
   ]
  },
  {
   "cell_type": "markdown",
   "metadata": {},
   "source": [
    "### 2. Model without Outliers"
   ]
  },
  {
   "cell_type": "code",
   "execution_count": 121,
   "metadata": {},
   "outputs": [
    {
     "name": "stdout",
     "output_type": "stream",
     "text": [
      "Macro Recall: 0.6054\n",
      "Macro Precision: 0.6157\n",
      "Macro F1 Score: 0.6101\n",
      "Weighted Recall: 0.7362\n",
      "Weighted Precision: 0.7329\n",
      "Weighted F1 Score: 0.7342\n",
      "----------------------------------------\n"
     ]
    }
   ],
   "source": [
    "\n",
    "\n",
    "# Fit the model on the scaled data\n",
    "model = dt.fit(X_train_2, y_train_2)\n",
    "# Predict\n",
    "y_hat_test = dt.predict(X_test_2)\n",
    "    # Compute metrics with 'macro' average\n",
    "model_recall_macro = recall_score(y_true=y_test_2, y_pred=y_hat_test, average='macro')\n",
    "model_precision_macro = precision_score(y_true=y_test_2, y_pred=y_hat_test, average='macro')\n",
    "model_f1_macro = f1_score(y_true=y_test_2, y_pred=y_hat_test, average='macro')\n",
    "    \n",
    "    # Compute metrics with 'weighted' average\n",
    "model_recall_weighted = recall_score(y_true=y_test_2, y_pred=y_hat_test, average='weighted')\n",
    "model_precision_weighted = precision_score(y_true=y_test_2, y_pred=y_hat_test, average='weighted')\n",
    "model_f1_weighted = f1_score(y_true=y_test_2, y_pred=y_hat_test, average='weighted')\n",
    "    \n",
    "    # Print results\n",
    "print(f\"Macro Recall: {model_recall_macro:.4f}\")\n",
    "print(f\"Macro Precision: {model_precision_macro:.4f}\")\n",
    "print(f\"Macro F1 Score: {model_f1_macro:.4f}\")\n",
    "    \n",
    "print(f\"Weighted Recall: {model_recall_weighted:.4f}\")\n",
    "print(f\"Weighted Precision: {model_precision_weighted:.4f}\")\n",
    "print(f\"Weighted F1 Score: {model_f1_weighted:.4f}\")\n",
    "print('-' * 40)\n"
   ]
  },
  {
   "cell_type": "markdown",
   "metadata": {},
   "source": [
    "## Baseline Model Analysis\n",
    "\n",
    "### Decision Tree (With Outliers)\n",
    "\n",
    "**Metrics:**\n",
    "- **Macro Recall:** 0.5625\n",
    "- **Macro Precision:** 0.5647\n",
    "- **Macro F1 Score:** 0.5633\n",
    "- **Weighted Recall:** 0.6834\n",
    "- **Weighted Precision:** 0.6831\n",
    "- **Weighted F1 Score:** 0.6829\n",
    "\n",
    "**Key Points:**\n",
    "- **Moderate Recall** reflects a reasonable identification of relevant instances, though there is room for improvement.\n",
    "- **Moderate Precision** shows a balanced rate of correct positive predictions.\n",
    "- **Good F1 Score** indicates a decent overall performance, balancing recall and precision effectively.\n",
    "\n",
    "### Decision Tree (Without Outliers)\n",
    "\n",
    "**Metrics:**\n",
    "- **Macro Recall:** 0.6054\n",
    "- **Macro Precision:** 0.6157\n",
    "- **Macro F1 Score:** 0.6101\n",
    "- **Weighted Recall:** 0.7362\n",
    "- **Weighted Precision:** 0.7329\n",
    "- **Weighted F1 Score:** 0.7342\n",
    "\n",
    "**Key Points:**\n",
    "- **Improved Recall** compared to the model with outliers, indicating better identification of relevant instances.\n",
    "- **Increased Precision** and **F1 Score** suggest overall better performance and balance.\n",
    "\n",
    "### Summary\n",
    "\n",
    "The Decision Tree model without outliers shows improved recall, precision, and F1 Score compared to the model with outliers. Both models perform well, but the absence of outliers leads to better overall metrics. Further tuning may enhance performance.\n"
   ]
  },
  {
   "cell_type": "markdown",
   "metadata": {},
   "source": [
    "## Model Tuning\n",
    "\n",
    "### Background\n",
    "To enhance the performance of our Decision Tree model, we will focus on tuning the model using the dataset that includes outliers. This approach allows us to optimize the model while considering its ability to handle complex decision boundaries.\n",
    "\n",
    "### Approach\n",
    "\n",
    "I. **Tuning Criteria:**\n",
    "   - **Gini Index:** We will test the Gini Index criterion to evaluate how well it splits the data based on impurity measures. This is a standard criterion for decision trees that measures node impurity.\n",
    "   - **Entropy:** We will also test the Entropy criterion, which measures impurity based on information gain. This can provide a different perspective on how the data is split.\n",
    "\n",
    "II. **Max Depth:**\n",
    "   - **Max Depth of the Tree:** We will experiment with different maximum depths of the tree to control its complexity. Limiting the depth helps prevent overfitting by ensuring the tree does not become too complex.\n",
    "\n",
    "By tuning these parameters, we aim to find the best configuration for our Decision Tree model, enhancing its performance and ensuring it generalizes well to unseen data.\n"
   ]
  },
  {
   "cell_type": "markdown",
   "metadata": {},
   "source": [
    "## I. Tuning Criteria\n",
    "\n",
    "-   We shall try gini and entropy"
   ]
  },
  {
   "cell_type": "code",
   "execution_count": 122,
   "metadata": {},
   "outputs": [
    {
     "name": "stdout",
     "output_type": "stream",
     "text": [
      "Testing with criterion: Gini\n",
      "DecisionTreeClassifier(random_state=42)\n",
      "Weighted Recall: 0.6819\n",
      "Weighted Precision: 0.7186\n",
      "Weighted F1 Score: 0.6962\n",
      "----------------------------------------\n",
      "Testing with criterion: Entropy\n",
      "DecisionTreeClassifier(criterion='entropy', random_state=42)\n",
      "Weighted Recall: 0.6738\n",
      "Weighted Precision: 0.7111\n",
      "Weighted F1 Score: 0.6886\n",
      "----------------------------------------\n"
     ]
    }
   ],
   "source": [
    "from sklearn.tree import DecisionTreeClassifier\n",
    "from sklearn.metrics import recall_score, precision_score, f1_score\n",
    "from imblearn.over_sampling import SMOTE\n",
    "\n",
    "# Define the criteria and corresponding names\n",
    "criteria = ['gini', 'entropy']\n",
    "names = ['Gini', 'Entropy']\n",
    "\n",
    "# Loop through different criteria and evaluate the model\n",
    "for n, criterion in enumerate(criteria):\n",
    "    print(f\"Testing with criterion: {names[n]}\")\n",
    "\n",
    "    # Resample the data using SMOTE\n",
    "    smote = SMOTE(random_state=42)\n",
    "    X_train_resampled, y_train_resampled = smote.fit_resample(X_train_1, y_train_1) \n",
    "\n",
    "    # Fit a model\n",
    "    dt = DecisionTreeClassifier(criterion=criterion, random_state=42)\n",
    "    model_dt = dt.fit(X_train_resampled, y_train_resampled)\n",
    "    print(model_dt)\n",
    "\n",
    "    # Predict\n",
    "    y_hat_test = dt.predict(X_test_1)\n",
    "    \n",
    "    # Compute metrics with 'macro' average\n",
    "    model_recall_macro = recall_score(y_true=y_test_1, y_pred=y_hat_test, average='macro')\n",
    "    model_precision_macro = precision_score(y_true=y_test_1, y_pred=y_hat_test, average='macro')\n",
    "    model_f1_macro = f1_score(y_true=y_test_1, y_pred=y_hat_test, average='macro')\n",
    "    \n",
    "    # Compute metrics with 'weighted' average\n",
    "    model_recall_weighted = recall_score(y_true=y_test_1, y_pred=y_hat_test, average='weighted')\n",
    "    model_precision_weighted = precision_score(y_true=y_test_1, y_pred=y_hat_test, average='weighted')\n",
    "    model_f1_weighted = f1_score(y_true=y_test_1, y_pred=y_hat_test, average='weighted')\n",
    "    \n",
    "    # Print results# Predict\n",
    "    y_hat_test = dt.predict(X_test_2)\n",
    "    \n",
    "    print(f\"Weighted Recall: {model_recall_weighted:.4f}\")\n",
    "    print(f\"Weighted Precision: {model_precision_weighted:.4f}\")\n",
    "    print(f\"Weighted F1 Score: {model_f1_weighted:.4f}\")\n",
    "    print('-' * 40)\n"
   ]
  },
  {
   "cell_type": "markdown",
   "metadata": {},
   "source": [
    "### Tuning Criteria: Decision Tree\n",
    "\n",
    "### Performance Comparison\n",
    "\n",
    "**Criterion: Gini**\n",
    "- **Macro Recall:** 0.6232\n",
    "- **Macro Precision:** 0.5829\n",
    "- **Macro F1 Score:** 0.5886\n",
    "- **Weighted Recall:** 0.6819\n",
    "- **Weighted Precision:** 0.7186\n",
    "- **Weighted F1 Score:** 0.6962\n",
    "\n",
    "**Criterion: Entropy**\n",
    "- **Macro Recall:** 0.6121\n",
    "- **Macro Precision:** 0.5736\n",
    "- **Macro F1 Score:** 0.5790\n",
    "- **Weighted Recall:** 0.6738\n",
    "- **Weighted Precision:** 0.7111\n",
    "- **Weighted F1 Score:** 0.6886\n",
    "\n",
    "### Summary\n",
    "\n",
    "The Decision Tree model using the **Gini** criterion outperforms the model using **Entropy** across all key metrics:\n",
    "- **Higher Macro Recall** and **Weighted Recall** with Gini indicate better overall identification of relevant instances.\n",
    "- **Greater Precision** and **F1 Score** with Gini suggest more accurate and balanced predictions.\n",
    "\n",
    "**Conclusion:** The Gini criterion is preferred for this context as it provides better performance in both recall and precision, leading to a more effective model for identifying pumps needing repair or non-functional ones.\n"
   ]
  },
  {
   "cell_type": "markdown",
   "metadata": {},
   "source": [
    "## II. Max Depth\n",
    "\n",
    "We shall with various depths"
   ]
  },
  {
   "cell_type": "code",
   "execution_count": 123,
   "metadata": {},
   "outputs": [
    {
     "name": "stdout",
     "output_type": "stream",
     "text": [
      "Testing with max_depth: None\n",
      "DecisionTreeClassifier(random_state=42)\n",
      "Macro Recall: 0.6232\n",
      "Macro Precision: 0.5829\n",
      "Macro F1 Score: 0.5886\n",
      "Weighted Recall: 0.6819\n",
      "Weighted Precision: 0.7186\n",
      "Weighted F1 Score: 0.6962\n",
      "----------------------------------------\n",
      "Testing with max_depth: 5\n",
      "DecisionTreeClassifier(max_depth=5, random_state=42)\n",
      "Macro Recall: 0.5510\n",
      "Macro Precision: 0.5765\n",
      "Macro F1 Score: 0.4932\n",
      "Weighted Recall: 0.5648\n",
      "Weighted Precision: 0.7356\n",
      "Weighted F1 Score: 0.6101\n",
      "----------------------------------------\n",
      "Testing with max_depth: 10\n",
      "DecisionTreeClassifier(max_depth=10, random_state=42)\n",
      "Macro Recall: 0.6169\n",
      "Macro Precision: 0.5919\n",
      "Macro F1 Score: 0.5217\n",
      "Weighted Recall: 0.5722\n",
      "Weighted Precision: 0.7556\n",
      "Weighted F1 Score: 0.6276\n",
      "----------------------------------------\n",
      "Testing with max_depth: 15\n",
      "DecisionTreeClassifier(max_depth=15, random_state=42)\n",
      "Macro Recall: 0.6349\n",
      "Macro Precision: 0.5908\n",
      "Macro F1 Score: 0.5596\n",
      "Weighted Recall: 0.6297\n",
      "Weighted Precision: 0.7517\n",
      "Weighted F1 Score: 0.6713\n",
      "----------------------------------------\n",
      "Testing with max_depth: 20\n",
      "DecisionTreeClassifier(max_depth=20, random_state=42)\n",
      "Macro Recall: 0.6367\n",
      "Macro Precision: 0.5894\n",
      "Macro F1 Score: 0.5802\n",
      "Weighted Recall: 0.6652\n",
      "Weighted Precision: 0.7425\n",
      "Weighted F1 Score: 0.6934\n",
      "----------------------------------------\n"
     ]
    }
   ],
   "source": [
    "from sklearn.tree import DecisionTreeClassifier\n",
    "from sklearn.metrics import recall_score, precision_score, f1_score\n",
    "from imblearn.over_sampling import SMOTE\n",
    "\n",
    "# Define the max_depth values to test\n",
    "max_depth_values = [None, 5, 10, 15, 20]\n",
    "names = ['None', '5', '10', '15', '20']\n",
    "\n",
    "# Loop through different max_depth values and evaluate the model\n",
    "for n, max_depth in enumerate(max_depth_values):\n",
    "    print(f\"Testing with max_depth: {names[n]}\")\n",
    "\n",
    "    # Resample the data using SMOTE\n",
    "    smote = SMOTE(random_state=42)\n",
    "    X_train_resampled, y_train_resampled = smote.fit_resample(X_train_1, y_train_1) \n",
    "\n",
    "    # Fit a model\n",
    "    dt = DecisionTreeClassifier(max_depth=max_depth, random_state=42)\n",
    "    model_dt = dt.fit(X_train_resampled, y_train_resampled)\n",
    "    print(model_dt)\n",
    "\n",
    "    # Predict\n",
    "    y_hat_test = dt.predict(X_test_1)\n",
    "    \n",
    "    # Compute metrics with 'macro' average\n",
    "    model_recall_macro = recall_score(y_true=y_test_1, y_pred=y_hat_test, average='macro')\n",
    "    model_precision_macro = precision_score(y_true=y_test_1, y_pred=y_hat_test, average='macro')\n",
    "    model_f1_macro = f1_score(y_true=y_test_1, y_pred=y_hat_test, average='macro')\n",
    "    \n",
    "    # Compute metrics with 'weighted' average\n",
    "    model_recall_weighted = recall_score(y_true=y_test_1, y_pred=y_hat_test, average='weighted')\n",
    "    model_precision_weighted = precision_score(y_true=y_test_1, y_pred=y_hat_test, average='weighted')\n",
    "    model_f1_weighted = f1_score(y_true=y_test_1, y_pred=y_hat_test, average='weighted')\n",
    "    \n",
    "    # Print results\n",
    "    print(f\"Macro Recall: {model_recall_macro:.4f}\")\n",
    "    print(f\"Macro Precision: {model_precision_macro:.4f}\")\n",
    "    print(f\"Macro F1 Score: {model_f1_macro:.4f}\")\n",
    "    \n",
    "    print(f\"Weighted Recall: {model_recall_weighted:.4f}\")\n",
    "    print(f\"Weighted Precision: {model_precision_weighted:.4f}\")\n",
    "    print(f\"Weighted F1 Score: {model_f1_weighted:.4f}\")\n",
    "    print('-' * 40)\n"
   ]
  },
  {
   "cell_type": "markdown",
   "metadata": {},
   "source": [
    "### Optimal `max_depth` Selection\n",
    "\n",
    "Based on the evaluation of different `max_depth` values for the Decision Tree model, the best performing configuration is with `max_depth: None`. This setup yielded the following metrics:\n",
    "\n",
    "- **Macro Recall**: 0.6232\n",
    "- **Macro Precision**: 0.5829\n",
    "- **Macro F1 Score**: 0.5886\n",
    "- **Weighted Recall**: 0.6819\n",
    "- **Weighted Precision**: 0.7186\n",
    "- **Weighted F1 Score**: 0.6962\n",
    "\n",
    "\n",
    "The `max_depth: None` default configuration provides the highest **Weighted Recall** and **Weighted F1 Score**, making it the most effective choice for balancing the identification of both critical and repair-needing water points, despite class imbalances in the dataset. This model supports efficient and proactive maintenance efforts across the country.\n"
   ]
  },
  {
   "cell_type": "markdown",
   "metadata": {},
   "source": [
    "# Model Evaluation"
   ]
  },
  {
   "cell_type": "markdown",
   "metadata": {},
   "source": [
    "##  Comparing Decision trees and Logistic regression\n"
   ]
  },
  {
   "cell_type": "markdown",
   "metadata": {},
   "source": [
    "- We shall get the best of each of the models of either classifier and analyse it further"
   ]
  },
  {
   "cell_type": "markdown",
   "metadata": {},
   "source": [
    "### Optimal Decision Tree Model"
   ]
  },
  {
   "cell_type": "code",
   "execution_count": 124,
   "metadata": {},
   "outputs": [
    {
     "name": "stdout",
     "output_type": "stream",
     "text": [
      "DecisionTreeClassifier(random_state=42)\n",
      "Macro Recall: 0.6482\n",
      "Macro Precision: 0.6037\n",
      "Macro F1 Score: 0.6137\n",
      "Weighted Recall: 0.7128\n",
      "Weighted Precision: 0.7443\n",
      "Weighted F1 Score: 0.7253\n",
      "----------------------------------------\n"
     ]
    }
   ],
   "source": [
    "#Decision trees , \n",
    "#using best parameters with dataset 2\n",
    "\n",
    "\n",
    "\n",
    "# Resample the data using SMOTE\n",
    "smote = SMOTE(random_state=42)\n",
    "X_train_resampled, y_train_resampled = smote.fit_resample(X_train_2, y_train_2) \n",
    "\n",
    "# Fit a model\n",
    "dt = DecisionTreeClassifier(criterion='gini', random_state=42)\n",
    "model_dt = dt.fit(X_train_resampled, y_train_resampled)\n",
    "print(model_dt)\n",
    " # Predict\n",
    "y_hat_test = dt.predict(X_test_2)\n",
    "    \n",
    "    # Compute metrics with 'macro' average\n",
    "model_recall_macro = recall_score(y_true=y_test_2, y_pred=y_hat_test, average='macro')\n",
    "model_precision_macro = precision_score(y_true=y_test_2, y_pred=y_hat_test, average='macro')\n",
    "model_f1_macro = f1_score(y_true=y_test_2, y_pred=y_hat_test, average='macro')\n",
    "    \n",
    "    # Compute metrics with 'weighted' average\n",
    "model_recall_weighted = recall_score(y_true=y_test_2, y_pred=y_hat_test, average='weighted')\n",
    "model_precision_weighted = precision_score(y_true=y_test_2, y_pred=y_hat_test, average='weighted')\n",
    "model_f1_weighted = f1_score(y_true=y_test_2, y_pred=y_hat_test, average='weighted')\n",
    "    \n",
    "    # Print results\n",
    "print(f\"Macro Recall: {model_recall_macro:.4f}\")\n",
    "print(f\"Macro Precision: {model_precision_macro:.4f}\")\n",
    "print(f\"Macro F1 Score: {model_f1_macro:.4f}\")\n",
    "    \n",
    "print(f\"Weighted Recall: {model_recall_weighted:.4f}\")\n",
    "print(f\"Weighted Precision: {model_precision_weighted:.4f}\")\n",
    "print(f\"Weighted F1 Score: {model_f1_weighted:.4f}\")\n",
    "print('-' * 40)\n",
    "\n",
    "\n"
   ]
  },
  {
   "cell_type": "markdown",
   "metadata": {},
   "source": [
    "### Decision on Dataset Selection\n",
    "\n",
    "Based on the performance metrics of the Decision Tree Classifier, the model trained on **Dataset 2 (without outliers)** demonstrates better overall performance compared to **Dataset 1 (with outliers)**. The key metrics for Dataset 2 are:\n",
    "\n",
    "- **Macro Recall**: 0.6482\n",
    "- **Macro Precision**: 0.6037\n",
    "- **Macro F1 Score**: 0.6137\n",
    "- **Weighted Recall**: 0.7128\n",
    "- **Weighted Precision**: 0.7443\n",
    "- **Weighted F1 Score**: 0.7253\n",
    "\n",
    "#### Justification\n",
    "\n",
    "The model trained on Dataset 2 (without outliers) yields higher scores across all metrics compared to Dataset 1 (with outliers). Particularly, the **Weighted Recall** and **Weighted F1 Score** are significantly higher for Dataset 2, indicating better performance in accurately predicting each class while accounting for class imbalance. Removing outliers appears to have enhanced the model's ability to generalize better across all classes, making **Dataset 2** the preferred choice for the government's maintenance efficiency project.\n"
   ]
  },
  {
   "cell_type": "markdown",
   "metadata": {},
   "source": [
    "Now we shall look at the best Logistic regression"
   ]
  },
  {
   "cell_type": "markdown",
   "metadata": {},
   "source": [
    "### Optimal Logistic Regression Model"
   ]
  },
  {
   "cell_type": "code",
   "execution_count": 125,
   "metadata": {},
   "outputs": [],
   "source": [
    "#Logistic regression\n",
    "#using best parameters with dataset 2"
   ]
  },
  {
   "cell_type": "code",
   "execution_count": 126,
   "metadata": {},
   "outputs": [
    {
     "name": "stdout",
     "output_type": "stream",
     "text": [
      "LogisticRegression(random_state=42, solver='saga')\n",
      "Macro Recall: 0.6726\n",
      "Macro Precision: 0.5995\n",
      "Macro F1 Score: 0.5786\n",
      "Weighted Recall: 0.6489\n",
      "Weighted Precision: 0.7622\n",
      "Weighted F1 Score: 0.6867\n"
     ]
    }
   ],
   "source": [
    "smote = SMOTE(random_state= 42)\n",
    "X_train_2_resampled, y_train_2_resampled = smote.fit_resample(X_train_2, y_train_2) \n",
    "# Fit a model\n",
    "logreg = LogisticRegression(random_state=42,solver= 'saga')\n",
    "model_log = logreg.fit(X_train_2_resampled, y_train_2_resampled)\n",
    "print(model_log)\n",
    "\n",
    "# Predict\n",
    "y_hat_test = logreg.predict(X_test_2)\n",
    "# Compute metrics with 'macro' average\n",
    "model_recall_macro = recall_score(y_true=y_test_2, y_pred=y_hat_test, average='macro')\n",
    "model_precision_macro = precision_score(y_true=y_test_2, y_pred=y_hat_test, average='macro')\n",
    "model_f1_macro = f1_score(y_true=y_test_2, y_pred=y_hat_test, average='macro')\n",
    "    \n",
    "# Compute metrics with 'weighted' average\n",
    "model_recall_weighted = recall_score(y_true=y_test_2, y_pred=y_hat_test, average='weighted')\n",
    "model_precision_weighted = precision_score(y_true=y_test_2, y_pred=y_hat_test, average='weighted')\n",
    "model_f1_weighted = f1_score(y_true=y_test_2, y_pred=y_hat_test, average='weighted')\n",
    "    \n",
    "# Print results\n",
    "print(f\"Macro Recall: {model_recall_macro:.4f}\")\n",
    "print(f\"Macro Precision: {model_precision_macro:.4f}\")\n",
    "print(f\"Macro F1 Score: {model_f1_macro:.4f}\")\n",
    "    \n",
    "print(f\"Weighted Recall: {model_recall_weighted:.4f}\")\n",
    "print(f\"Weighted Precision: {model_precision_weighted:.4f}\")\n",
    "print(f\"Weighted F1 Score: {model_f1_weighted:.4f}\")"
   ]
  },
  {
   "cell_type": "markdown",
   "metadata": {},
   "source": [
    "## Dataset Selection for Logistic Regression\n",
    "\n",
    "For the Logistic Regression model, the performance metrics show that training on **Dataset 2 (without outliers)** provides a slight improvement over **Dataset 1 (with outliers)**. The key metrics for Dataset 2 are:\n",
    "\n",
    "- **Macro Recall**: 0.6726\n",
    "- **Macro Precision**: 0.5995\n",
    "- **Macro F1 Score**: 0.5786\n",
    "- **Weighted Recall**: 0.6489\n",
    "- **Weighted Precision**: 0.7622\n",
    "- **Weighted F1 Score**: 0.6867\n",
    "\n",
    "#### Justification\n",
    "\n",
    "The model trained on Dataset 2 (without outliers) yields marginally better performance across most metrics compared to Dataset 1 (with outliers). The improvements in **Macro Recall** and **Weighted F1 Score** suggest that removing outliers enhances the model's ability to correctly predict all classes, especially in a balanced manner. Therefore, **Dataset 2 (without outliers)** is recommended for achieving more consistent and reliable predictions for the government's maintenance efficiency project.\n"
   ]
  },
  {
   "cell_type": "markdown",
   "metadata": {},
   "source": [
    "## Model Evaluation: Decision Tree vs Logistic Regression\n",
    "\n",
    "In this section, we compare the performance of two models, Decision Tree and Logistic Regression, on Dataset 2 (without outliers). Our goal is to determine which model is better suited for the government's maintenance needs in Tanzania. The primary focus is on recall, precision, and F1 score, with a particular emphasis on identifying pumps that are not functional (label 2) and those needing repair (label 1).\n",
    "\n",
    "### Decision Tree Classifier (Dataset 2: Without Outliers)\n",
    "- **Macro Recall**: 0.6482\n",
    "- **Macro Precision**: 0.6037\n",
    "- **Macro F1 Score**: 0.6137\n",
    "- **Weighted Recall**: 0.7128\n",
    "- **Weighted Precision**: 0.7443\n",
    "- **Weighted F1 Score**: 0.7253\n",
    "\n",
    "### Logistic Regression (Dataset 2: Without Outliers)\n",
    "- **Macro Recall**: 0.6726\n",
    "- **Macro Precision**: 0.5995\n",
    "- **Macro F1 Score**: 0.5786\n",
    "- **Weighted Recall**: 0.6489\n",
    "- **Weighted Precision**: 0.7622\n",
    "- **Weighted F1 Score**: 0.6867\n",
    "\n",
    "### Analysis\n",
    "\n",
    "#### 1. Macro Recall\n",
    "- **Decision Tree**: 0.6482\n",
    "- **Logistic Regression**: 0.6726\n",
    "\n",
    "**Macro Recall** is crucial for identifying minority classes (pumps needing repair and non-functional pumps). Logistic Regression performs better here, indicating a higher ability to capture the minority classes.\n",
    "\n",
    "#### 2. Macro Precision\n",
    "- **Decision Tree**: 0.6037\n",
    "- **Logistic Regression**: 0.5995\n",
    "\n",
    "**Macro Precision** measures the accuracy of the positive predictions. The Decision Tree has a slightly higher macro precision than Logistic Regression, but the difference is minimal.\n",
    "\n",
    "#### 3. Macro F1 Score\n",
    "- **Decision Tree**: 0.6137\n",
    "- **Logistic Regression**: 0.5786\n",
    "\n",
    "The **Macro F1 Score** is a balance between precision and recall for the minority classes. The Decision Tree outperforms Logistic Regression in this metric, indicating a more balanced performance.\n",
    "\n",
    "#### 4. Weighted Recall\n",
    "- **Decision Tree**: 0.7128\n",
    "- **Logistic Regression**: 0.6489\n",
    "\n",
    "**Weighted Recall** accounts for the class imbalance and measures the recall considering the frequency of each class. The Decision Tree significantly outperforms Logistic Regression in weighted recall.\n",
    "\n",
    "#### 5. Weighted Precision\n",
    "- **Decision Tree**: 0.7443\n",
    "- **Logistic Regression**: 0.7622\n",
    "\n",
    "**Weighted Precision** is slightly higher for Logistic Regression, indicating a higher overall accuracy for the positive predictions across all classes.\n",
    "\n",
    "#### 6. Weighted F1 Score\n",
    "- **Decision Tree**: 0.7253\n",
    "- **Logistic Regression**: 0.6867\n",
    "\n",
    "The **Weighted F1 Score** combines precision and recall, adjusted for the class imbalance. The Decision Tree has a higher weighted F1 score, suggesting a better overall performance.\n",
    "\n",
    "## Decision Tree Justification\n",
    "\n",
    "- **Interpretability and Decision-Making**: Decision Trees are inherently more interpretable than Logistic Regression models. They provide a clear set of rules that can be easily understood and interpreted by stakeholders, such as maintenance teams and policymakers. This interpretability is beneficial for explaining model decisions and ensuring trust in the model's predictions.\n",
    "\n",
    "- **Handling of Non-Linear Relationships**: The Decision Tree Classifier is better suited for capturing non-linear relationships in the data, which may be present in the factors determining the functional status of pumps. This capability ensures that the model can adapt to complex patterns that Logistic Regression, which assumes a linear relationship, may not fully capture.\n",
    "\n",
    "## Conclusion\n",
    "\n",
    "Based on the analysis, the **Decision Tree Classifier** is the better model for our stakeholder. While Logistic Regression has a higher macro recall, indicating better identification of minority classes, the Decision Tree Classifier offers a more balanced performance with higher macro F1 score, weighted recall, and weighted F1 score. This balanced performance is crucial for the government's maintenance needs, ensuring reliable identification and prioritization of pumps needing attention.\n",
    "\n",
    "\n",
    "\n"
   ]
  },
  {
   "cell_type": "markdown",
   "metadata": {},
   "source": [
    "## Selected Model:"
   ]
  },
  {
   "cell_type": "code",
   "execution_count": 127,
   "metadata": {},
   "outputs": [
    {
     "name": "stdout",
     "output_type": "stream",
     "text": [
      "DecisionTreeClassifier(random_state=42)\n",
      "Macro Recall: 0.6482\n",
      "Macro Precision: 0.6037\n",
      "Macro F1 Score: 0.6137\n",
      "Weighted Recall: 0.7128\n",
      "Weighted Precision: 0.7443\n",
      "Weighted F1 Score: 0.7253\n",
      "----------------------------------------\n"
     ]
    }
   ],
   "source": [
    "# Selected model:\n",
    "# Resample the data using SMOTE\n",
    "smote = SMOTE(random_state=42)\n",
    "X_train_resampled, y_train_resampled = smote.fit_resample(X_train_2, y_train_2) \n",
    "\n",
    "# Fit a model\n",
    "dt = DecisionTreeClassifier(criterion='gini', random_state=42)\n",
    "model_dt = dt.fit(X_train_resampled, y_train_resampled)\n",
    "print(model_dt)\n",
    " # Predict\n",
    "y_hat_test = dt.predict(X_test_2)\n",
    "    \n",
    "    # Compute metrics with 'macro' average\n",
    "model_recall_macro = recall_score(y_true=y_test_2, y_pred=y_hat_test, average='macro')\n",
    "model_precision_macro = precision_score(y_true=y_test_2, y_pred=y_hat_test, average='macro')\n",
    "model_f1_macro = f1_score(y_true=y_test_2, y_pred=y_hat_test, average='macro')\n",
    "    \n",
    "    # Compute metrics with 'weighted' average\n",
    "model_recall_weighted = recall_score(y_true=y_test_2, y_pred=y_hat_test, average='weighted')\n",
    "model_precision_weighted = precision_score(y_true=y_test_2, y_pred=y_hat_test, average='weighted')\n",
    "model_f1_weighted = f1_score(y_true=y_test_2, y_pred=y_hat_test, average='weighted')\n",
    "    \n",
    "    # Print results\n",
    "print(f\"Macro Recall: {model_recall_macro:.4f}\")\n",
    "print(f\"Macro Precision: {model_precision_macro:.4f}\")\n",
    "print(f\"Macro F1 Score: {model_f1_macro:.4f}\")\n",
    "    \n",
    "print(f\"Weighted Recall: {model_recall_weighted:.4f}\")\n",
    "print(f\"Weighted Precision: {model_precision_weighted:.4f}\")\n",
    "print(f\"Weighted F1 Score: {model_f1_weighted:.4f}\")\n",
    "print('-' * 40)\n",
    "\n",
    "\n"
   ]
  },
  {
   "cell_type": "markdown",
   "metadata": {},
   "source": [
    "## Final Model Tuning : Feature Engineering\n"
   ]
  },
  {
   "cell_type": "markdown",
   "metadata": {},
   "source": [
    "Before we finally select this, we need one more feature Engineering phase to ensure there is no overfit. We shall compare the above model to one where only top features are selected. to do that we shall visualize the top features to have an"
   ]
  },
  {
   "cell_type": "markdown",
   "metadata": {},
   "source": [
    "## Top Features"
   ]
  },
  {
   "cell_type": "code",
   "execution_count": 128,
   "metadata": {},
   "outputs": [
    {
     "name": "stdout",
     "output_type": "stream",
     "text": [
      "DecisionTreeClassifier(random_state=42)\n"
     ]
    },
    {
     "data": {
      "image/png": "[encoded data removed]",
      "text/plain": [
       "<Figure size 864x576 with 1 Axes>"
      ]
     },
     "metadata": {
      "needs_background": "light"
     },
     "output_type": "display_data"
    }
   ],
   "source": [
    "import seaborn as sns\n",
    "import matplotlib.pyplot as plt\n",
    "import pandas as pd\n",
    "from sklearn.tree import DecisionTreeClassifier\n",
    "from imblearn.over_sampling import SMOTE\n",
    "\n",
    "# Resample the data using SMOTE\n",
    "smote = SMOTE(random_state=42)\n",
    "X_train_resampled, y_train_resampled = smote.fit_resample(X_train_2, y_train_2) \n",
    "\n",
    "# Fit a model\n",
    "dt = DecisionTreeClassifier(criterion='gini', random_state=42)\n",
    "model_dt = dt.fit(X_train_resampled, y_train_resampled)\n",
    "print(model_dt)\n",
    "\n",
    "# Predict\n",
    "y_hat_test = dt.predict(X_test_2)\n",
    "\n",
    "# Get feature importances\n",
    "feature_importances = pd.DataFrame({\n",
    "    'feature': X_train_2.columns,\n",
    "    'importance': dt.feature_importances_\n",
    "}).sort_values(by='importance', ascending=False)\n",
    "\n",
    "# Plot the top 20 most important features\n",
    "plt.figure(figsize=(12, 8))\n",
    "sns.barplot(x='importance', y='feature', data=feature_importances.head(20), palette='viridis')\n",
    "\n",
    "# Add title and labels\n",
    "plt.title('Top 20 Feature Importances', fontsize=16)\n",
    "plt.xlabel('Importance', fontsize=14)\n",
    "plt.ylabel('Feature', fontsize=14)\n",
    "\n",
    "# Enhance the plot\n",
    "plt.xticks(fontsize=12)\n",
    "plt.yticks(fontsize=12)\n",
    "plt.grid(True, linestyle='--', linewidth=0.5)\n",
    "plt.tight_layout()\n",
    "\n",
    "# Show the plot\n",
    "plt.show()\n"
   ]
  },
  {
   "cell_type": "markdown",
   "metadata": {},
   "source": [
    "## Model Training with the best features"
   ]
  },
  {
   "cell_type": "code",
   "execution_count": 129,
   "metadata": {},
   "outputs": [
    {
     "name": "stdout",
     "output_type": "stream",
     "text": [
      "DecisionTreeClassifier(random_state=42)\n",
      "Macro Recall: 0.4529\n",
      "Macro Precision: 0.4507\n",
      "Macro F1 Score: 0.4460\n",
      "Weighted Recall: 0.5716\n",
      "Weighted Precision: 0.6079\n",
      "Weighted F1 Score: 0.5838\n",
      "----------------------------------------\n"
     ]
    }
   ],
   "source": [
    "\n",
    "# Selected model:\n",
    "# Resample the data using SMOTE\n",
    "smote = SMOTE(random_state=42)\n",
    "X_train_resampled, y_train_resampled = smote.fit_resample(X_train_2[['gps_height','age','population','quantity_group_insufficient','quantity_group_enough'\n",
    "                                                                     ,'extraction_type_class_other','quantity_group_seasonal','payment_type_never pay']], y_train_2) \n",
    "\n",
    "# Fit a model\n",
    "dt = DecisionTreeClassifier(criterion='gini', random_state=42)\n",
    "model_dt = dt.fit(X_train_resampled, y_train_resampled)\n",
    "print(model_dt)\n",
    " # Predict\n",
    "y_hat_test = dt.predict(X_test_2[['gps_height','age','population','quantity_group_insufficient','quantity_group_enough'\n",
    "                                                                     ,'extraction_type_class_other','quantity_group_seasonal','payment_type_never pay']])\n",
    "\n",
    "    \n",
    "    # Compute metrics with 'macro' average\n",
    "model_recall_macro = recall_score(y_true=y_test_2, y_pred=y_hat_test, average='macro')\n",
    "model_precision_macro = precision_score(y_true=y_test_2, y_pred=y_hat_test, average='macro')\n",
    "model_f1_macro = f1_score(y_true=y_test_2, y_pred=y_hat_test, average='macro')\n",
    "    \n",
    "    # Compute metrics with 'weighted' average\n",
    "model_recall_weighted = recall_score(y_true=y_test_2, y_pred=y_hat_test, average='weighted')\n",
    "model_precision_weighted = precision_score(y_true=y_test_2, y_pred=y_hat_test, average='weighted')\n",
    "model_f1_weighted = f1_score(y_true=y_test_2, y_pred=y_hat_test, average='weighted')\n",
    "    \n",
    "    # Print results\n",
    "print(f\"Macro Recall: {model_recall_macro:.4f}\")\n",
    "print(f\"Macro Precision: {model_precision_macro:.4f}\")\n",
    "print(f\"Macro F1 Score: {model_f1_macro:.4f}\")\n",
    "    \n",
    "print(f\"Weighted Recall: {model_recall_weighted:.4f}\")\n",
    "print(f\"Weighted Precision: {model_precision_weighted:.4f}\")\n",
    "print(f\"Weighted F1 Score: {model_f1_weighted:.4f}\")\n",
    "print('-' * 40)\n"
   ]
  },
  {
   "cell_type": "markdown",
   "metadata": {},
   "source": [
    "## Model Performance Evaluation\n",
    "\n",
    "### Full Feature Set vs. Top 8 Features\n",
    "\n",
    "After evaluating the Decision Tree Classifier with both the full set of features and the top 8 features, we observe the following:\n",
    "\n",
    "#### Performance with All Features\n",
    "- **Macro Recall**: 0.6482\n",
    "- **Macro Precision**: 0.6037\n",
    "- **Macro F1 Score**: 0.6137\n",
    "- **Weighted Recall**: 0.7128\n",
    "- **Weighted Precision**: 0.7443\n",
    "- **Weighted F1 Score**: 0.7253\n",
    "\n",
    "#### Performance with Top 8 Features\n",
    "- **Macro Recall**: 0.4529\n",
    "- **Macro Precision**: 0.4507\n",
    "- **Macro F1 Score**: 0.4460\n",
    "- **Weighted Recall**: 0.5716\n",
    "- **Weighted Precision**: 0.6079\n",
    "- **Weighted F1 Score**: 0.5838\n",
    "\n",
    "### Conclusion\n",
    "\n",
    "The results indicate that the Decision Tree Classifier performs significantly better when utilizing the full feature set compared to just the top 8 selected features. Key observations include:\n",
    "\n",
    "- **Higher Macro Metrics**: The model achieves better **Macro Recall**, **Macro Precision**, and **Macro F1 Score** with the full feature set, suggesting that it is more effective in identifying and correctly classifying each category when all available features are used.\n",
    "\n",
    "- **Improved Weighted Metrics**: The **Weighted Recall**, **Weighted Precision**, and **Weighted F1 Score** are also higher with the full set of features. This indicates that the model is better at handling class imbalances and provides more reliable predictions across all classes.\n",
    "\n",
    "- **Comprehensive Feature Utilization**: The superior performance with all features underscores the importance of including a broader set of variables. The top 8 features alone do not capture all the relevant information needed for accurate predictions, which can lead to suboptimal model performance.\n",
    "\n",
    "In summary, the Decision Tree Classifier with the complete feature set delivers better overall performance, highlighting the value of using a comprehensive set of features for more effective and accurate model predictions.\n"
   ]
  },
  {
   "cell_type": "markdown",
   "metadata": {},
   "source": [
    "## Final Model Evaluation"
   ]
  },
  {
   "cell_type": "markdown",
   "metadata": {},
   "source": [
    "### Selected Model"
   ]
  },
  {
   "cell_type": "code",
   "execution_count": 130,
   "metadata": {},
   "outputs": [
    {
     "name": "stdout",
     "output_type": "stream",
     "text": [
      "DecisionTreeClassifier(random_state=42)\n"
     ]
    }
   ],
   "source": [
    "# Resample the data using SMOTE\n",
    "smote = SMOTE(random_state=42)\n",
    "X_train_resampled, y_train_resampled = smote.fit_resample(X_train_2, y_train_2) \n",
    "\n",
    "# Fit a model\n",
    "dt = DecisionTreeClassifier(criterion='gini', random_state=42)\n",
    "model_dt = dt.fit(X_train_resampled, y_train_resampled)\n",
    "print(model_dt)\n",
    "\n",
    "# Predict\n",
    "y_hat_test = dt.predict(X_test_2)"
   ]
  },
  {
   "cell_type": "markdown",
   "metadata": {},
   "source": [
    "### Evaluating all Classification Metrics"
   ]
  },
  {
   "cell_type": "code",
   "execution_count": 131,
   "metadata": {},
   "outputs": [
    {
     "name": "stdout",
     "output_type": "stream",
     "text": [
      "Macro Recall: 0.6482\n",
      "Macro Precision: 0.6037\n",
      "Macro F1 Score: 0.6137\n",
      "Weighted Recall: 0.7128\n",
      "Weighted Precision: 0.7443\n",
      "Weighted F1 Score: 0.7253\n",
      "----------------------------------------\n",
      "Accuracy Score: 0.7128\n",
      "ROC AUC Score (Multiclass): 0.7626\n"
     ]
    }
   ],
   "source": [
    "    \n",
    "    # Compute metrics with 'macro' average\n",
    "model_recall_macro = recall_score(y_true=y_test_2, y_pred=y_hat_test, average='macro')\n",
    "model_precision_macro = precision_score(y_true=y_test_2, y_pred=y_hat_test, average='macro')\n",
    "model_f1_macro = f1_score(y_true=y_test_2, y_pred=y_hat_test, average='macro')\n",
    "    \n",
    "    # Compute metrics with 'weighted' average\n",
    "model_recall_weighted = recall_score(y_true=y_test_2, y_pred=y_hat_test, average='weighted')\n",
    "model_precision_weighted = precision_score(y_true=y_test_2, y_pred=y_hat_test, average='weighted')\n",
    "model_f1_weighted = f1_score(y_true=y_test_2, y_pred=y_hat_test, average='weighted')\n",
    "    \n",
    "    # Print results\n",
    "print(f\"Macro Recall: {model_recall_macro:.4f}\")\n",
    "print(f\"Macro Precision: {model_precision_macro:.4f}\")\n",
    "print(f\"Macro F1 Score: {model_f1_macro:.4f}\")\n",
    "    \n",
    "print(f\"Weighted Recall: {model_recall_weighted:.4f}\")\n",
    "print(f\"Weighted Precision: {model_precision_weighted:.4f}\")\n",
    "print(f\"Weighted F1 Score: {model_f1_weighted:.4f}\")\n",
    "print('-' * 40)\n",
    "\n",
    "## calculating other metrics :\n",
    "model_accuracy = accuracy_score(y_true=y_test_2, y_pred=y_hat_test)\n",
    "\n",
    "#print results\n",
    "print(f\"Accuracy Score: {model_accuracy:.4f}\")\n",
    "    \n",
    "# Assume y_prob contains the predicted probabilities for each class\n",
    "y_prob = dt.predict_proba(X_test_2)\n",
    "\n",
    "# Compute ROC AUC Score\n",
    "# `multi_class='ovr'` indicates one-vs-rest strategy\n",
    "roc_auc_multiclass = roc_auc_score(y_true=y_test_2, y_score=y_prob, multi_class='ovr')\n",
    "print(f\"ROC AUC Score (Multiclass): {roc_auc_multiclass:.4f}\")\n"
   ]
  },
  {
   "cell_type": "markdown",
   "metadata": {},
   "source": [
    "## Final Model Evaluation\n",
    "\n",
    "### Model Summary\n",
    "\n",
    "We have tuned the Decision Tree model using the `gini` 'criterion' ,and `none` 'max_depth'and applied SMOTE to address class imbalance. The model was evaluated on the dataset without outliers to ensure robustness and effectiveness.\n",
    "\n",
    "### Performance Metrics\n",
    "\n",
    "**Macro Metrics:**\n",
    "- **Macro Recall:** 0.6482\n",
    "- **Macro Precision:** 0.6037\n",
    "- **Macro F1 Score:** 0.6137\n",
    "\n",
    "**Weighted Metrics:**\n",
    "- **Weighted Recall:** 0.7128\n",
    "- **Weighted Precision:** 0.7443\n",
    "- **Weighted F1 Score:** 0.7253\n",
    "\n",
    "**Additional Metrics:**\n",
    "- **Accuracy Score:** 0.7128\n",
    "- **ROC AUC Score (Multiclass):** 0.7626\n",
    "\n",
    "### Evaluation and Advantages\n",
    "\n",
    "The **Recall** of 0.6482 (macro) and 0.7128 (weighted) highlights the model's effectiveness in identifying pumps that need repair or are non-functional. This capability is essential for timely maintenance, which helps prevent service disruptions and ensures efficient resource allocation.\n",
    "\n",
    "The **Precision** values of 0.6037 (macro) and 0.7443 (weighted) confirm that the model's positive predictions are largely accurate, reducing the risk of unnecessary maintenance actions and focusing efforts on genuinely problematic pumps.\n",
    "\n",
    "The **F1 Score**, combining both precision and recall, indicates a balanced model performance, making it reliable for practical use. The high **ROC AUC Score** of 0.7626 further underscores the model's ability to distinguish between different pump conditions effectively.\n",
    "\n",
    "### Real-World Impact\n",
    "\n",
    "For the government of Tanzania, this model offers a practical solution for improving service delivery in the maintenance of water pumps. By accurately identifying pumps that require repair or are non-functional, the model helps prioritize maintenance actions, optimize resource allocation, and ensure a more reliable water supply for communities.\n",
    "\n",
    "In summary, this model provides a robust and actionable tool for the government, enhancing its capacity to maintain critical infrastructure efficiently and effectively.\n"
   ]
  },
  {
   "cell_type": "markdown",
   "metadata": {},
   "source": [
    "# **6.MODEL VISUALIZATION**"
   ]
  },
  {
   "cell_type": "code",
   "execution_count": 132,
   "metadata": {},
   "outputs": [
    {
     "name": "stdout",
     "output_type": "stream",
     "text": [
      "DecisionTreeClassifier(random_state=42)\n"
     ]
    }
   ],
   "source": [
    "# Selected model\n",
    "# Selected model:\n",
    "# Resample the data using SMOTE\n",
    "smote = SMOTE(random_state=42)\n",
    "X_train_resampled, y_train_resampled = smote.fit_resample(X_train_2, y_train_2) \n",
    "\n",
    "# Fit a model\n",
    "dt = DecisionTreeClassifier(criterion='gini', random_state=42)\n",
    "model_dt = dt.fit(X_train_resampled, y_train_resampled)\n",
    "print(model_dt)\n",
    " # Predict\n",
    "y_hat_test = dt.predict(X_test_2)"
   ]
  },
  {
   "cell_type": "markdown",
   "metadata": {},
   "source": [
    "### 1. Plotting ROC AUC curve"
   ]
  },
  {
   "cell_type": "code",
   "execution_count": 133,
   "metadata": {},
   "outputs": [
    {
     "data": {
      "image/png": "[encoded data removed]",
      "text/plain": [
       "<Figure size 864x576 with 1 Axes>"
      ]
     },
     "metadata": {
      "needs_background": "light"
     },
     "output_type": "display_data"
    }
   ],
   "source": [
    "\n",
    "\n",
    "# Binarize the true labels for multiclass ROC curve plotting\n",
    "y_test_bin = label_binarize(y_test_2, classes=[0, 1, 2])\n",
    "n_classes = y_test_bin.shape[1]\n",
    "\n",
    "# Get predicted probabilities from the model (assumed to be from model.predict_proba)\n",
    "y_prob = model_dt.predict_proba(X_test_2)  \n",
    "\n",
    "# Initialize dictionaries to store FPR, TPR, and AUC for each class\n",
    "fpr = {}\n",
    "tpr = {}\n",
    "roc_auc = {}\n",
    "\n",
    "# Compute ROC curve and ROC AUC for each class\n",
    "for i in range(n_classes):\n",
    "    fpr[i], tpr[i], _ = roc_curve(y_test_bin[:, i], y_prob[:, i])\n",
    "    roc_auc[i] = auc(fpr[i], tpr[i])\n",
    "\n",
    "# Plot ROC curve for each class\n",
    "plt.figure(figsize=(12, 8))\n",
    "colors = ['blue', 'red', 'green']\n",
    "for i, color in zip(range(n_classes), colors):\n",
    "    plt.plot(fpr[i], tpr[i], color=color, lw=2,\n",
    "             linestyle='-' if i % 2 == 0 else '--',\n",
    "             label=f'Class {i} (AUC = {roc_auc[i]:.2f})')\n",
    "\n",
    "# Plot diagonal line for random guessing\n",
    "plt.plot([0, 1], [0, 1], 'k--', lw=2, label='Random Guess')\n",
    "\n",
    "# Add labels and title\n",
    "plt.xlabel('False Positive Rate', fontsize=14)\n",
    "plt.ylabel('True Positive Rate', fontsize=14)\n",
    "plt.title('Receiver Operating Characteristic (ROC) Curve', fontsize=16)\n",
    "plt.xlim([0.0, 1.0])\n",
    "plt.ylim([0.0, 1.05])\n",
    "plt.grid(True, linestyle='--', linewidth=0.5)\n",
    "plt.legend(loc='lower right', fontsize=12)\n",
    "plt.tight_layout()\n",
    "#save figure\n",
    "plt.savefig('figures/ROC_Curve.png',facecolor='white')\n",
    "# Display the plot\n",
    "plt.show()\n"
   ]
  },
  {
   "cell_type": "markdown",
   "metadata": {},
   "source": [
    "### ROC Curve Evaluation for Pump Maintenance Problem\n",
    "\n",
    "### ROC Curve Suitability\n",
    "\n",
    "The ROC (Receiver Operating Characteristic) curve is an essential tool for evaluating our model’s performance, particularly in a multiclass classification scenario like predicting pump statuses. The ROC curve helps assess the trade-offs between True Positive Rate (TPR) and False Positive Rate (FPR) at various thresholds, and the AUC (Area Under the Curve) quantifies the overall discriminative ability of the model.\n",
    "\n",
    "### AUC Scores for Each Class\n",
    "\n",
    "- **AUC for Class 2 (Non-Functional):** 0.79\n",
    "- **AUC for Class 1 (Needs Repair):** 0.72\n",
    "- **AUC for Class 0 (Functional):** 0.77\n",
    "\n",
    "### Why the ROC Curve is Suitable for Our Problem\n",
    "\n",
    "1. **Critical Classification Precision:**\n",
    "   - **Class 2 (Non-Functional):** With an AUC of 0.79, the model excels in distinguishing non-functional pumps from others. This is crucial for the government of Tanzania as it ensures that pumps which are out of order are identified effectively. Promptly addressing non-functional pumps prevents service disruption and improves overall water delivery efficiency.\n",
    "\n",
    "2. **Repair Needs Identification:**\n",
    "   - **Class 1 (Needs Repair):** The AUC of 0.72 indicates good performance in identifying pumps that need repair. Although slightly lower than Class 2, this score is still satisfactory and ensures that pumps requiring maintenance are not overlooked, which helps in preventing further deterioration and reduces repair costs.\n",
    "\n",
    "3. **Efficient Resource Allocation:**\n",
    "   - **Class 0 (Functional):** An AUC of 0.77 for functional pumps suggests that the model is effective at confirming which pumps are operational. This minimizes false positives, reducing unnecessary maintenance checks and allowing resources to be allocated more efficiently.\n",
    "\n",
    "### Overall Model Effectiveness\n",
    "\n",
    "- **Balanced Performance Across Classes:** The ROC curve shows that the model performs well across all classes, with AUC values above 0.7 for each. This balance is essential in a real-world application where accurate classification of all types of pump statuses—non-functional, needing repair, and functional—is vital for effective maintenance management.\n",
    "\n",
    "- **Threshold Optimization:** The ROC curve allows for the selection of optimal thresholds for classification, ensuring that the trade-offs between identifying non-functional and repair-needed pumps are managed effectively. This optimization helps in making informed decisions about which pumps require immediate attention versus those that do not.\n",
    "\n",
    "### Conclusion\n",
    "\n",
    "The ROC curve and its AUC scores demonstrate that our model is well-suited for the problem of managing pump maintenance. By effectively distinguishing between different pump statuses, the model supports the government's objectives of maintaining water infrastructure efficiently and minimizing downtime. The high AUC values for critical classes, particularly non-functional pumps, highlight the model’s effectiveness in ensuring reliable and timely maintenance actions.\n"
   ]
  },
  {
   "cell_type": "markdown",
   "metadata": {},
   "source": [
    "### 2. Key Features Visualization"
   ]
  },
  {
   "cell_type": "code",
   "execution_count": 134,
   "metadata": {},
   "outputs": [
    {
     "name": "stdout",
     "output_type": "stream",
     "text": [
      "DecisionTreeClassifier(random_state=42)\n"
     ]
    },
    {
     "data": {
      "image/png": "[encoded data removed]",
      "text/plain": [
       "<Figure size 864x576 with 1 Axes>"
      ]
     },
     "metadata": {
      "needs_background": "light"
     },
     "output_type": "display_data"
    }
   ],
   "source": [
    "import seaborn as sns\n",
    "import matplotlib.pyplot as plt\n",
    "import pandas as pd\n",
    "from sklearn.tree import DecisionTreeClassifier\n",
    "from imblearn.over_sampling import SMOTE\n",
    "\n",
    "# Resample the data using SMOTE\n",
    "smote = SMOTE(random_state=42)\n",
    "X_train_resampled, y_train_resampled = smote.fit_resample(X_train_2, y_train_2) \n",
    "\n",
    "# Fit a model\n",
    "dt = DecisionTreeClassifier(criterion='gini', random_state=42)\n",
    "model_dt = dt.fit(X_train_resampled, y_train_resampled)\n",
    "print(model_dt)\n",
    "\n",
    "# Predict\n",
    "y_hat_test = dt.predict(X_test_2)\n",
    "\n",
    "# Get feature importances\n",
    "feature_importances = pd.DataFrame({\n",
    "    'feature': X_train_2.columns,\n",
    "    'importance': dt.feature_importances_\n",
    "}).sort_values(by='importance', ascending=False)\n",
    "\n",
    "# Plot the top 20 most important features\n",
    "plt.figure(figsize=(12, 8))\n",
    "sns.barplot(x='importance', y='feature', data=feature_importances.head(20), palette='viridis')\n",
    "\n",
    "# Add title and labels\n",
    "plt.title('Top 20 Feature Importances', fontsize=16)\n",
    "plt.xlabel('Importance', fontsize=14)\n",
    "plt.ylabel('Feature', fontsize=14)\n",
    "\n",
    "# Enhance the plot\n",
    "plt.xticks(fontsize=12)\n",
    "plt.yticks(fontsize=12)\n",
    "plt.grid(True, linestyle='--', linewidth=0.5)\n",
    "plt.tight_layout()\n",
    "#save figure\n",
    "plt.savefig('figures/Top features.png',facecolor='white')\n",
    "# Show the plot\n",
    "plt.show()\n"
   ]
  },
  {
   "cell_type": "markdown",
   "metadata": {},
   "source": [
    "## Key Features Analysis\n",
    "\n",
    "In our model, the top eight features have been identified based on their importance scores. Here's a brief description of each:\n",
    "\n",
    "1. **GPS Height (0.138):** This feature measures the altitude of the pump location above sea level. Its high importance indicates that elevation significantly influences the pump's operational status or maintenance needs. Pumps at varying altitudes may experience different challenges, affecting their performance and repair needs.\n",
    "\n",
    "2. **Age (0.096):** The age of the pump is a crucial factor in determining its likelihood of malfunction or need for repairs. Older pumps are more prone to issues and require more frequent maintenance, highlighting the relevance of this feature in predicting pump reliability.\n",
    "\n",
    "3. **Population (0.066):** This feature represents the number of people served by the pump. A higher population often correlates with increased wear and tear on the pump due to higher usage, making it an important factor in assessing maintenance needs.\n",
    "\n",
    "4. **Extraction Type Class Other (0.058):** This feature categorizes the extraction method used by the pump. Different methods may have varying impacts on pump performance and maintenance requirements. The importance of this feature indicates its role in understanding how extraction methods influence pump status.\n",
    "\n",
    "5. **Quantity Group Seasonal (0.051):** This feature reflects seasonal variations in the quantity of water extracted by the pump. Seasonal changes can affect pump usage and maintenance needs, making this feature relevant for predicting when repairs might be necessary.\n",
    "\n",
    "6. **Quantity Group Insufficient (0.044):** This feature indicates when the quantity of water extracted is insufficient. Pumps that frequently produce insufficient quantities may be underperforming and require repairs or adjustments.\n",
    "\n",
    "7. **Quantity Group Enough (0.036):** This feature shows when the pump is extracting an adequate amount of water. While less important than other features, it helps provide a complete picture of pump performance by showing when the pump meets the expected output.\n",
    "\n",
    "8. **Payment Type Never Pay (0.025):** This feature categorizes users who never pay for the water extracted. The payment behavior may indirectly affect the maintenance and operational status of the pump, as non-payment can be linked to less frequent maintenance or higher stress on the system.\n",
    "\n",
    "### Summary\n",
    "\n",
    "These key features provide valuable insights into the factors influencing pump performance and maintenance needs. Features such as GPS height and age are critical for understanding operational challenges, while factors like population and quantity groups help in assessing usage patterns. This comprehensive feature analysis supports targeted maintenance strategies and enhances service delivery for the government of Tanzania.\n"
   ]
  },
  {
   "cell_type": "markdown",
   "metadata": {},
   "source": [
    "### 3. Confusion Matrix visualization"
   ]
  },
  {
   "cell_type": "code",
   "execution_count": 135,
   "metadata": {},
   "outputs": [
    {
     "data": {
      "image/png": "[encoded data removed]",
      "text/plain": [
       "<Figure size 720x504 with 2 Axes>"
      ]
     },
     "metadata": {
      "needs_background": "light"
     },
     "output_type": "display_data"
    }
   ],
   "source": [
    "import seaborn as sns\n",
    "import matplotlib.pyplot as plt\n",
    "from sklearn.metrics import confusion_matrix, ConfusionMatrixDisplay\n",
    "\n",
    "# Generate the confusion matrix\n",
    "cm = confusion_matrix(y_test_2, model_dt.predict(X_test_2))\n",
    "\n",
    "# Plot the confusion matrix using Seaborn\n",
    "plt.figure(figsize=(10, 7))\n",
    "ax = sns.heatmap(cm, annot=True, fmt='d', cmap='Blues', xticklabels=['0', '1', '2'], yticklabels=['0', '1', '2'])\n",
    "\n",
    "# Add title and labels\n",
    "plt.title('Confusion Matrix for Decision Tree Model', fontsize=16)\n",
    "plt.xlabel('Predicted Label', fontsize=14)\n",
    "plt.ylabel('True Label', fontsize=14)\n",
    "plt.xticks(fontsize=12)\n",
    "plt.yticks(fontsize=12)\n",
    "\n",
    "# Add custom legend\n",
    "labels = ['0: Functional', '1: Functional needs repair', '2: Non-functional']\n",
    "for i, label in enumerate(labels):\n",
    "    plt.text(4, i+0.5, label, fontsize=12, verticalalignment='center')\n",
    "#save figure\n",
    "plt.savefig('figures/Confusion Matrix.png',facecolor='white')\n",
    "# Display the plot\n",
    "plt.show()\n"
   ]
  },
  {
   "cell_type": "markdown",
   "metadata": {},
   "source": [
    "\n",
    "### Confusion Matrix Analysis\n",
    "\n",
    "1. **High True Positives for Class 2:**\n",
    "   - The model correctly identifies **2,887 instances** of class 2 (pumps requiring repair or non-functional) with a high number of true positives. This is crucial for our stakeholder, the government of Tanzania, as accurate identification of these problematic pumps is essential for efficient maintenance and service delivery.\n",
    "\n",
    "2. **Reasonable Performance Across Classes:**\n",
    "   - The model shows relatively high true positive rates for class 0 (functional pumps) and class 1 (pumps needing repair). This indicates that the model is reasonably effective in distinguishing between functional pumps and those requiring attention, contributing to more effective resource allocation and maintenance scheduling.\n",
    "\n",
    "3. **Handling False Negatives:**\n",
    "   - Although there are some false negatives, particularly for class 2, the overall performance is acceptable. Minimizing false negatives is important to ensure that no non-functional or malfunctioning pumps are overlooked, thereby reducing the risk of unaddressed issues.\n",
    "\n",
    "4. **Balanced Classification:**\n",
    "   - The confusion matrix shows that the model does not have a strong bias towards any class, as indicated by the relatively balanced distribution of misclassifications. This balance is important for ensuring that all categories of pump statuses are adequately considered.\n",
    "\n",
    "### Conclusion\n",
    "\n",
    "The confusion matrix demonstrates that the model performs well in distinguishing between the different statuses of pumps, which aligns with the real-world need for effective maintenance management. The accurate identification of pumps requiring repair or non-functional pumps supports the government of Tanzania in optimizing maintenance operations and improving service delivery efficiency.\n"
   ]
  },
  {
   "cell_type": "markdown",
   "metadata": {},
   "source": [
    "# **7. CONCLUSIONS AND RECOMMENDATIONS**"
   ]
  },
  {
   "cell_type": "markdown",
   "metadata": {},
   "source": [
    "## Final Conclusion\n",
    "\n",
    "### Project Success\n",
    "\n",
    "This project has successfully developed a predictive model to address the real-world problem of identifying water pump functionality in Tanzania. Utilizing data from Taarifa and the Tanzanian Ministry of Water, we built a model that classifies water pumps into three categories: functional, needing repair, and non-functional. This model is crucial for our stakeholder, the Tanzanian government, as it aids in prioritizing maintenance efforts, optimizing resource allocation, and ensuring reliable access to clean water for communities across the country.\n",
    "\n",
    "### Key Advantages of the Model\n",
    "\n",
    "1. **Improved Maintenance Efficiency**: The model accurately predicts the condition of water pumps, allowing the government to take timely action for repairs and replacements. This proactive approach reduces downtime and ensures a consistent water supply.\n",
    "\n",
    "2. **Cost-Effective Resource Allocation**: By correctly identifying non-functional and repair-needed pumps, the model facilitates more targeted deployment of maintenance resources, minimizing unnecessary expenses and optimizing budget utilization.\n",
    "\n",
    "3. **Scalability and Adaptability**: The model can be easily adapted and scaled to include more features or updated data, making it a robust tool for ongoing and future water infrastructure management.\n",
    "\n",
    "### Model Development and Tuning\n",
    "\n",
    "The project began with an initial baseline model, which was iteratively refined and tuned to improve its performance. The tuning process involved several steps:\n",
    "\n",
    "- **Feature Selection and Engineering**: Extensive feature engineering was performed to identify the most relevant variables affecting water pump functionality. Different subsets of features were tested to ensure the model captured all necessary information.\n",
    "\n",
    "- **Hyperparameter Tuning**: To enhance the model's performance, we conducted hyperparameter tuning for the Decision Tree Classifier. This involved adjusting several key parameters:\n",
    "  - **Weights**: Adjusting class weights to handle the imbalance in the dataset, ensuring the model was not biased toward the majority class and performed well across all classes.\n",
    "  - **Max Depth**: Tuning the maximum depth of the tree to prevent overfitting while maintaining model complexity appropriate to capture underlying data patterns.\n",
    "  - **Criterion**: Testing different criteria (`gini` and `entropy`) for splitting nodes to determine which provided better splits for our specific dataset.\n",
    "\n",
    "- **Model Selection and Evaluation**: Various algorithms, including Decision Trees and Logistic Regression, were evaluated. The Decision Tree Classifier was ultimately selected due to its superior performance in recall, precision, and F1-score metrics across all classes, making it the most suitable model for this task.\n",
    "\n",
    "- **Handling Class Imbalance**: Techniques such as SMOTE were utilized to address class imbalances, ensuring the model performs well across all categories, particularly the minority classes.\n",
    "\n",
    "### Predictive Recommendation\n",
    "\n",
    "### Key Recommendations Based on Feature Analysis\n",
    "\n",
    "1. **Investigate Zanzibar South (Region Code 11):**  \n",
    "   Focus on understanding the unique environmental and logistical challenges affecting pump functionality in this region to improve maintenance and reliability.\n",
    "\n",
    "2. **Enhance Support for Bariadi's Local Government Authority (LGA):**  \n",
    "   Bariadi's pumps are identified as a key area of concern. Strengthen the capacity of the Bariadi LGA to manage and maintain water infrastructure effectively. This could involve targeted training, improved funding, and access to necessary maintenance equipment and resources.\n",
    "\n",
    "3. **Adjust Maintenance by GPS Height:**  \n",
    "   Develop tailored maintenance schedules based on the elevation of pump locations, as pumps at different altitudes may face unique operational challenges.\n",
    "\n",
    "4. **Prioritize Older Pumps:**  \n",
    "   Create proactive maintenance strategies for older pumps to prevent failures and extend their operational life, considering their increased likelihood of malfunction.\n",
    "\n",
    "5. **Improve Seasonal and Insufficient Water Supply Pumps:**  \n",
    "   Investigate reasons for seasonal or insufficient water supply and enhance maintenance practices or upgrade equipment accordingly to ensure consistent water availability.\n",
    "\n",
    "6. **Enhance Community Training for Handpump Maintenance:**  \n",
    "   Invest in training programs for communities to maintain handpumps, ensuring consistent functionality and reducing failure rates.\n",
    "\n",
    "7. **Encourage Payment for Water Services:**  \n",
    "   Implement policies that promote regular payment for water services to ensure sustainable funding for ongoing maintenance efforts.\n",
    "\n",
    "8. **Allocate Resources Based on Population:**  \n",
    "   Direct more maintenance resources to areas with higher populations, where pumps are likely to experience more frequent use and wear, requiring more attention to avoid breakdowns.\n",
    "\n",
    "By focusing on these key areas, the government of Tanzania can enhance water pump functionality, optimize resource allocation, and ensure reliable water access for all communities.\n",
    "\n",
    "\n",
    "**Contexts/Situations for Model Predictions**:\n",
    "- The model's predictions are most useful in contexts where timely maintenance decisions are crucial, such as rural or remote areas with limited access to repair services. It helps prioritize which pumps need immediate attention and which are functioning well.\n",
    "- The model may be less effective in situations where pump conditions change rapidly due to environmental factors or where historical data is not representative of current conditions.\n",
    "\n",
    "**Suggestions for Input Variables**:\n",
    "- **Improving Data Accuracy**: Ensuring accurate and up-to-date data on pump conditions, repair histories, and maintenance schedules can enhance prediction accuracy.Some important columns like  `amount_tsh` needed to be dropped due to many missing values\n",
    "- **Feature Engineering**: Adding more features related to pump usage patterns, maintenance history, and local environmental conditions might further improve the model's performance.\n",
    "\n",
    "### Conclusion\n",
    "\n",
    "The final model, a finely tuned Decision Tree Classifier, offers a reliable and accurate solution to the stakeholder's problem. It effectively distinguishes between functional, repair-needed, and non-functional pumps, aligning with the goals of enhancing maintenance efficiency and ensuring water availability in Tanzania. The model’s interpretability, along with its robust performance metrics, underscores its value as a decision-support tool for policymakers and maintenance teams.\n",
    "\n",
    "In conclusion, this project has successfully developed a predictive model that addresses a critical infrastructure challenge, providing tangible benefits for the Tanzanian government and its citizens. The systematic approach to model development, hyperparameter tuning, and evaluation has resulted in a high-performing solution that meets the stakeholder's needs.\n"
   ]
  },
  {
   "cell_type": "markdown",
   "metadata": {},
   "source": []
  }
 ],
 "metadata": {
  "kernelspec": {
   "display_name": "Python 3",
   "language": "python",
   "name": "python3"
  },
  "language_info": {
   "codemirror_mode": {
    "name": "ipython",
    "version": 3
   },
   "file_extension": ".py",
   "mimetype": "text/x-python",
   "name": "python",
   "nbconvert_exporter": "python",
   "pygments_lexer": "ipython3",
   "version": "3.8.5"
  }
 },
 "nbformat": 4,
 "nbformat_minor": 2
}
