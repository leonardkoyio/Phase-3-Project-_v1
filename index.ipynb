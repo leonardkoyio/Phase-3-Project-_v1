{
 "cells": [
  {
   "cell_type": "markdown",
   "metadata": {},
   "source": [
    "## Imports"
   ]
  },
  {
   "cell_type": "code",
   "execution_count": 585,
   "metadata": {},
   "outputs": [],
   "source": [
    "import pandas as pd"
   ]
  },
  {
   "cell_type": "markdown",
   "metadata": {},
   "source": [
    "## Data Loading"
   ]
  },
  {
   "cell_type": "code",
   "execution_count": 586,
   "metadata": {},
   "outputs": [],
   "source": [
    "df_features= pd.read_csv('data/train_features.csv')\n",
    "df_labels= pd.read_csv('data/train_labels.csv')"
   ]
  },
  {
   "cell_type": "markdown",
   "metadata": {},
   "source": [
    "## EDA And Data Cleaning"
   ]
  },
  {
   "cell_type": "markdown",
   "metadata": {},
   "source": [
    "Comparing the length of the target and the feature dataframes, if they are the same length as expected, The 2 data frames shall be concatenated so as to clean the data effectively."
   ]
  },
  {
   "cell_type": "code",
   "execution_count": 587,
   "metadata": {},
   "outputs": [
    {
     "data": {
      "text/plain": [
       "True"
      ]
     },
     "execution_count": 587,
     "metadata": {},
     "output_type": "execute_result"
    }
   ],
   "source": [
    "len(df_features) == len(df_labels)"
   ]
  },
  {
   "cell_type": "code",
   "execution_count": 588,
   "metadata": {},
   "outputs": [
    {
     "data": {
      "text/html": [
       "<div>\n",
       "<style scoped>\n",
       "    .dataframe tbody tr th:only-of-type {\n",
       "        vertical-align: middle;\n",
       "    }\n",
       "\n",
       "    .dataframe tbody tr th {\n",
       "        vertical-align: top;\n",
       "    }\n",
       "\n",
       "    .dataframe thead th {\n",
       "        text-align: right;\n",
       "    }\n",
       "</style>\n",
       "<table border=\"1\" class=\"dataframe\">\n",
       "  <thead>\n",
       "    <tr style=\"text-align: right;\">\n",
       "      <th></th>\n",
       "      <th>id</th>\n",
       "      <th>amount_tsh</th>\n",
       "      <th>date_recorded</th>\n",
       "      <th>funder</th>\n",
       "      <th>gps_height</th>\n",
       "      <th>installer</th>\n",
       "      <th>longitude</th>\n",
       "      <th>latitude</th>\n",
       "      <th>wpt_name</th>\n",
       "      <th>num_private</th>\n",
       "      <th>...</th>\n",
       "      <th>water_quality</th>\n",
       "      <th>quality_group</th>\n",
       "      <th>quantity</th>\n",
       "      <th>quantity_group</th>\n",
       "      <th>source</th>\n",
       "      <th>source_type</th>\n",
       "      <th>source_class</th>\n",
       "      <th>waterpoint_type</th>\n",
       "      <th>waterpoint_type_group</th>\n",
       "      <th>status_group</th>\n",
       "    </tr>\n",
       "  </thead>\n",
       "  <tbody>\n",
       "    <tr>\n",
       "      <th>0</th>\n",
       "      <td>69572</td>\n",
       "      <td>6000.0</td>\n",
       "      <td>2011-03-14</td>\n",
       "      <td>Roman</td>\n",
       "      <td>1390</td>\n",
       "      <td>Roman</td>\n",
       "      <td>34.938093</td>\n",
       "      <td>-9.856322</td>\n",
       "      <td>none</td>\n",
       "      <td>0</td>\n",
       "      <td>...</td>\n",
       "      <td>soft</td>\n",
       "      <td>good</td>\n",
       "      <td>enough</td>\n",
       "      <td>enough</td>\n",
       "      <td>spring</td>\n",
       "      <td>spring</td>\n",
       "      <td>groundwater</td>\n",
       "      <td>communal standpipe</td>\n",
       "      <td>communal standpipe</td>\n",
       "      <td>functional</td>\n",
       "    </tr>\n",
       "    <tr>\n",
       "      <th>1</th>\n",
       "      <td>8776</td>\n",
       "      <td>0.0</td>\n",
       "      <td>2013-03-06</td>\n",
       "      <td>Grumeti</td>\n",
       "      <td>1399</td>\n",
       "      <td>GRUMETI</td>\n",
       "      <td>34.698766</td>\n",
       "      <td>-2.147466</td>\n",
       "      <td>Zahanati</td>\n",
       "      <td>0</td>\n",
       "      <td>...</td>\n",
       "      <td>soft</td>\n",
       "      <td>good</td>\n",
       "      <td>insufficient</td>\n",
       "      <td>insufficient</td>\n",
       "      <td>rainwater harvesting</td>\n",
       "      <td>rainwater harvesting</td>\n",
       "      <td>surface</td>\n",
       "      <td>communal standpipe</td>\n",
       "      <td>communal standpipe</td>\n",
       "      <td>functional</td>\n",
       "    </tr>\n",
       "    <tr>\n",
       "      <th>2</th>\n",
       "      <td>34310</td>\n",
       "      <td>25.0</td>\n",
       "      <td>2013-02-25</td>\n",
       "      <td>Lottery Club</td>\n",
       "      <td>686</td>\n",
       "      <td>World vision</td>\n",
       "      <td>37.460664</td>\n",
       "      <td>-3.821329</td>\n",
       "      <td>Kwa Mahundi</td>\n",
       "      <td>0</td>\n",
       "      <td>...</td>\n",
       "      <td>soft</td>\n",
       "      <td>good</td>\n",
       "      <td>enough</td>\n",
       "      <td>enough</td>\n",
       "      <td>dam</td>\n",
       "      <td>dam</td>\n",
       "      <td>surface</td>\n",
       "      <td>communal standpipe multiple</td>\n",
       "      <td>communal standpipe</td>\n",
       "      <td>functional</td>\n",
       "    </tr>\n",
       "    <tr>\n",
       "      <th>3</th>\n",
       "      <td>67743</td>\n",
       "      <td>0.0</td>\n",
       "      <td>2013-01-28</td>\n",
       "      <td>Unicef</td>\n",
       "      <td>263</td>\n",
       "      <td>UNICEF</td>\n",
       "      <td>38.486161</td>\n",
       "      <td>-11.155298</td>\n",
       "      <td>Zahanati Ya Nanyumbu</td>\n",
       "      <td>0</td>\n",
       "      <td>...</td>\n",
       "      <td>soft</td>\n",
       "      <td>good</td>\n",
       "      <td>dry</td>\n",
       "      <td>dry</td>\n",
       "      <td>machine dbh</td>\n",
       "      <td>borehole</td>\n",
       "      <td>groundwater</td>\n",
       "      <td>communal standpipe multiple</td>\n",
       "      <td>communal standpipe</td>\n",
       "      <td>non functional</td>\n",
       "    </tr>\n",
       "    <tr>\n",
       "      <th>4</th>\n",
       "      <td>19728</td>\n",
       "      <td>0.0</td>\n",
       "      <td>2011-07-13</td>\n",
       "      <td>Action In A</td>\n",
       "      <td>0</td>\n",
       "      <td>Artisan</td>\n",
       "      <td>31.130847</td>\n",
       "      <td>-1.825359</td>\n",
       "      <td>Shuleni</td>\n",
       "      <td>0</td>\n",
       "      <td>...</td>\n",
       "      <td>soft</td>\n",
       "      <td>good</td>\n",
       "      <td>seasonal</td>\n",
       "      <td>seasonal</td>\n",
       "      <td>rainwater harvesting</td>\n",
       "      <td>rainwater harvesting</td>\n",
       "      <td>surface</td>\n",
       "      <td>communal standpipe</td>\n",
       "      <td>communal standpipe</td>\n",
       "      <td>functional</td>\n",
       "    </tr>\n",
       "  </tbody>\n",
       "</table>\n",
       "<p>5 rows × 41 columns</p>\n",
       "</div>"
      ],
      "text/plain": [
       "      id  amount_tsh date_recorded        funder  gps_height     installer  \\\n",
       "0  69572      6000.0    2011-03-14         Roman        1390         Roman   \n",
       "1   8776         0.0    2013-03-06       Grumeti        1399       GRUMETI   \n",
       "2  34310        25.0    2013-02-25  Lottery Club         686  World vision   \n",
       "3  67743         0.0    2013-01-28        Unicef         263        UNICEF   \n",
       "4  19728         0.0    2011-07-13   Action In A           0       Artisan   \n",
       "\n",
       "   longitude   latitude              wpt_name  num_private  ... water_quality  \\\n",
       "0  34.938093  -9.856322                  none            0  ...          soft   \n",
       "1  34.698766  -2.147466              Zahanati            0  ...          soft   \n",
       "2  37.460664  -3.821329           Kwa Mahundi            0  ...          soft   \n",
       "3  38.486161 -11.155298  Zahanati Ya Nanyumbu            0  ...          soft   \n",
       "4  31.130847  -1.825359               Shuleni            0  ...          soft   \n",
       "\n",
       "  quality_group      quantity  quantity_group                source  \\\n",
       "0          good        enough          enough                spring   \n",
       "1          good  insufficient    insufficient  rainwater harvesting   \n",
       "2          good        enough          enough                   dam   \n",
       "3          good           dry             dry           machine dbh   \n",
       "4          good      seasonal        seasonal  rainwater harvesting   \n",
       "\n",
       "            source_type source_class              waterpoint_type  \\\n",
       "0                spring  groundwater           communal standpipe   \n",
       "1  rainwater harvesting      surface           communal standpipe   \n",
       "2                   dam      surface  communal standpipe multiple   \n",
       "3              borehole  groundwater  communal standpipe multiple   \n",
       "4  rainwater harvesting      surface           communal standpipe   \n",
       "\n",
       "  waterpoint_type_group    status_group  \n",
       "0    communal standpipe      functional  \n",
       "1    communal standpipe      functional  \n",
       "2    communal standpipe      functional  \n",
       "3    communal standpipe  non functional  \n",
       "4    communal standpipe      functional  \n",
       "\n",
       "[5 rows x 41 columns]"
      ]
     },
     "execution_count": 588,
     "metadata": {},
     "output_type": "execute_result"
    }
   ],
   "source": [
    "# concatenating the dataframes\n",
    "df = pd.merge(df_features, df_labels, on='id')\n",
    "df.head()"
   ]
  },
  {
   "cell_type": "code",
   "execution_count": 589,
   "metadata": {},
   "outputs": [
    {
     "data": {
      "text/plain": [
       "functional                 32259\n",
       "non functional             22824\n",
       "functional needs repair     4317\n",
       "Name: status_group, dtype: int64"
      ]
     },
     "execution_count": 589,
     "metadata": {},
     "output_type": "execute_result"
    }
   ],
   "source": [
    "#inspecting the target variables\n",
    "df['status_group'].value_counts()"
   ]
  },
  {
   "cell_type": "markdown",
   "metadata": {},
   "source": [
    "This is ternary classification problem since the target has 3 possible values"
   ]
  },
  {
   "cell_type": "markdown",
   "metadata": {},
   "source": [
    "## Exploring the data (EDA)\n"
   ]
  },
  {
   "cell_type": "markdown",
   "metadata": {},
   "source": [
    "df_features.columns"
   ]
  },
  {
   "cell_type": "code",
   "execution_count": 590,
   "metadata": {},
   "outputs": [
    {
     "data": {
      "text/plain": [
       "Index(['id', 'amount_tsh', 'date_recorded', 'funder', 'gps_height',\n",
       "       'installer', 'longitude', 'latitude', 'wpt_name', 'num_private',\n",
       "       'basin', 'subvillage', 'region', 'region_code', 'district_code', 'lga',\n",
       "       'ward', 'population', 'public_meeting', 'recorded_by',\n",
       "       'scheme_management', 'scheme_name', 'permit', 'construction_year',\n",
       "       'extraction_type', 'extraction_type_group', 'extraction_type_class',\n",
       "       'management', 'management_group', 'payment', 'payment_type',\n",
       "       'water_quality', 'quality_group', 'quantity', 'quantity_group',\n",
       "       'source', 'source_type', 'source_class', 'waterpoint_type',\n",
       "       'waterpoint_type_group'],\n",
       "      dtype='object')"
      ]
     },
     "execution_count": 590,
     "metadata": {},
     "output_type": "execute_result"
    }
   ],
   "source": [
    "df_features.columns"
   ]
  },
  {
   "cell_type": "markdown",
   "metadata": {},
   "source": [
    "### The Features in This Dataset\n",
    "\n",
    "The following set of information about the waterpoints is provided:\n",
    "\n",
    "- **amount_tsh**: Total static head (amount of water available to the waterpoint)\n",
    "- **date_recorded**: The date the row was entered\n",
    "- **funder**: Who funded the well\n",
    "- **gps_height**: Altitude of the well\n",
    "- **installer**: Organization that installed the well\n",
    "- **longitude**: GPS coordinate\n",
    "- **latitude**: GPS coordinate\n",
    "- **wpt_name**: Name of the waterpoint, if there is one\n",
    "- **num_private**: _(Not specified)_\n",
    "- **basin**: Geographic water basin\n",
    "- **subvillage**: Geographic location\n",
    "- **region**: Geographic location\n",
    "- **region_code**: Geographic location (coded)\n",
    "- **district_code**: Geographic location (coded)\n",
    "- **lga**: Geographic location\n",
    "- **ward**: Geographic location\n",
    "- **population**: Population around the well\n",
    "- **public_meeting**: True/False, indicating if a public meeting was held\n",
    "- **recorded_by**: Group entering this row of data\n",
    "- **scheme_management**: Who operates the waterpoint\n",
    "- **scheme_name**: The name of the management scheme\n",
    "- **permit**: Whether the waterpoint is permitted (True/False)\n",
    "- **construction_year**: Year the waterpoint was constructed\n",
    "- **extraction_type**: The kind of extraction method the waterpoint uses\n",
    "- **extraction_type_group**: The extraction type grouped by similar methods\n",
    "- **extraction_type_class**: The extraction type categorized into broader classes\n",
    "- **management**: How the waterpoint is managed\n",
    "- **management_group**: The management grouped into broader categories\n",
    "- **payment**: The cost structure of the water\n",
    "- **payment_type**: The specific type of payment method\n",
    "- **water_quality**: The quality of the water\n",
    "- **quality_group**: The quality grouped by similar qualities\n",
    "- **quantity**: The quantity of water\n",
    "- **quantity_group**: The quantity grouped by similar quantities\n",
    "- **source**: The source of the water\n",
    "- **source_type**: The type of water source\n",
    "- **source_class**: The broader class of the water source\n",
    "- **waterpoint_type**: The specific type of waterpoint\n",
    "- **waterpoint_type_group**: The type of waterpoint grouped by similar types\n"
   ]
  },
  {
   "cell_type": "markdown",
   "metadata": {},
   "source": []
  },
  {
   "cell_type": "code",
   "execution_count": 591,
   "metadata": {},
   "outputs": [
    {
     "data": {
      "text/html": [
       "<div>\n",
       "<style scoped>\n",
       "    .dataframe tbody tr th:only-of-type {\n",
       "        vertical-align: middle;\n",
       "    }\n",
       "\n",
       "    .dataframe tbody tr th {\n",
       "        vertical-align: top;\n",
       "    }\n",
       "\n",
       "    .dataframe thead th {\n",
       "        text-align: right;\n",
       "    }\n",
       "</style>\n",
       "<table border=\"1\" class=\"dataframe\">\n",
       "  <thead>\n",
       "    <tr style=\"text-align: right;\">\n",
       "      <th></th>\n",
       "      <th>id</th>\n",
       "      <th>amount_tsh</th>\n",
       "      <th>date_recorded</th>\n",
       "      <th>funder</th>\n",
       "      <th>gps_height</th>\n",
       "      <th>installer</th>\n",
       "      <th>longitude</th>\n",
       "      <th>latitude</th>\n",
       "      <th>wpt_name</th>\n",
       "      <th>num_private</th>\n",
       "      <th>...</th>\n",
       "      <th>water_quality</th>\n",
       "      <th>quality_group</th>\n",
       "      <th>quantity</th>\n",
       "      <th>quantity_group</th>\n",
       "      <th>source</th>\n",
       "      <th>source_type</th>\n",
       "      <th>source_class</th>\n",
       "      <th>waterpoint_type</th>\n",
       "      <th>waterpoint_type_group</th>\n",
       "      <th>status_group</th>\n",
       "    </tr>\n",
       "  </thead>\n",
       "  <tbody>\n",
       "    <tr>\n",
       "      <th>16691</th>\n",
       "      <td>10552</td>\n",
       "      <td>0.0</td>\n",
       "      <td>2013-01-16</td>\n",
       "      <td>Government Of Tanzania</td>\n",
       "      <td>369</td>\n",
       "      <td>District Water Department</td>\n",
       "      <td>38.771103</td>\n",
       "      <td>-10.212209</td>\n",
       "      <td>Kwa Mnimbo</td>\n",
       "      <td>0</td>\n",
       "      <td>...</td>\n",
       "      <td>salty</td>\n",
       "      <td>salty</td>\n",
       "      <td>insufficient</td>\n",
       "      <td>insufficient</td>\n",
       "      <td>hand dtw</td>\n",
       "      <td>borehole</td>\n",
       "      <td>groundwater</td>\n",
       "      <td>communal standpipe multiple</td>\n",
       "      <td>communal standpipe</td>\n",
       "      <td>functional</td>\n",
       "    </tr>\n",
       "    <tr>\n",
       "      <th>18777</th>\n",
       "      <td>62004</td>\n",
       "      <td>0.0</td>\n",
       "      <td>2013-02-14</td>\n",
       "      <td>World Vision</td>\n",
       "      <td>687</td>\n",
       "      <td>World Vission</td>\n",
       "      <td>37.468183</td>\n",
       "      <td>-3.595412</td>\n",
       "      <td>Shuleni</td>\n",
       "      <td>0</td>\n",
       "      <td>...</td>\n",
       "      <td>soft</td>\n",
       "      <td>good</td>\n",
       "      <td>insufficient</td>\n",
       "      <td>insufficient</td>\n",
       "      <td>machine dbh</td>\n",
       "      <td>borehole</td>\n",
       "      <td>groundwater</td>\n",
       "      <td>communal standpipe</td>\n",
       "      <td>communal standpipe</td>\n",
       "      <td>non functional</td>\n",
       "    </tr>\n",
       "    <tr>\n",
       "      <th>47443</th>\n",
       "      <td>67055</td>\n",
       "      <td>50.0</td>\n",
       "      <td>2013-01-21</td>\n",
       "      <td>Ministry Of Water</td>\n",
       "      <td>1133</td>\n",
       "      <td>DWE</td>\n",
       "      <td>33.447421</td>\n",
       "      <td>-2.150241</td>\n",
       "      <td>Kwa Masururi Manyama</td>\n",
       "      <td>0</td>\n",
       "      <td>...</td>\n",
       "      <td>soft</td>\n",
       "      <td>good</td>\n",
       "      <td>enough</td>\n",
       "      <td>enough</td>\n",
       "      <td>lake</td>\n",
       "      <td>river/lake</td>\n",
       "      <td>surface</td>\n",
       "      <td>communal standpipe</td>\n",
       "      <td>communal standpipe</td>\n",
       "      <td>functional</td>\n",
       "    </tr>\n",
       "    <tr>\n",
       "      <th>21947</th>\n",
       "      <td>53009</td>\n",
       "      <td>0.0</td>\n",
       "      <td>2011-03-04</td>\n",
       "      <td>Rc Ch</td>\n",
       "      <td>1747</td>\n",
       "      <td>RC Ch</td>\n",
       "      <td>34.875144</td>\n",
       "      <td>-9.601704</td>\n",
       "      <td>none</td>\n",
       "      <td>0</td>\n",
       "      <td>...</td>\n",
       "      <td>soft</td>\n",
       "      <td>good</td>\n",
       "      <td>enough</td>\n",
       "      <td>enough</td>\n",
       "      <td>spring</td>\n",
       "      <td>spring</td>\n",
       "      <td>groundwater</td>\n",
       "      <td>communal standpipe</td>\n",
       "      <td>communal standpipe</td>\n",
       "      <td>functional</td>\n",
       "    </tr>\n",
       "    <tr>\n",
       "      <th>28447</th>\n",
       "      <td>32121</td>\n",
       "      <td>0.0</td>\n",
       "      <td>2011-07-28</td>\n",
       "      <td>Hesawa</td>\n",
       "      <td>0</td>\n",
       "      <td>DWE</td>\n",
       "      <td>30.839795</td>\n",
       "      <td>-1.415307</td>\n",
       "      <td>Kwadaniel</td>\n",
       "      <td>0</td>\n",
       "      <td>...</td>\n",
       "      <td>soft</td>\n",
       "      <td>good</td>\n",
       "      <td>dry</td>\n",
       "      <td>dry</td>\n",
       "      <td>spring</td>\n",
       "      <td>spring</td>\n",
       "      <td>groundwater</td>\n",
       "      <td>communal standpipe</td>\n",
       "      <td>communal standpipe</td>\n",
       "      <td>non functional</td>\n",
       "    </tr>\n",
       "    <tr>\n",
       "      <th>305</th>\n",
       "      <td>39310</td>\n",
       "      <td>0.0</td>\n",
       "      <td>2011-07-17</td>\n",
       "      <td>Hesawa</td>\n",
       "      <td>0</td>\n",
       "      <td>HESAWA</td>\n",
       "      <td>31.876328</td>\n",
       "      <td>-3.152555</td>\n",
       "      <td>Imalabupina</td>\n",
       "      <td>0</td>\n",
       "      <td>...</td>\n",
       "      <td>soft</td>\n",
       "      <td>good</td>\n",
       "      <td>enough</td>\n",
       "      <td>enough</td>\n",
       "      <td>shallow well</td>\n",
       "      <td>shallow well</td>\n",
       "      <td>groundwater</td>\n",
       "      <td>hand pump</td>\n",
       "      <td>hand pump</td>\n",
       "      <td>non functional</td>\n",
       "    </tr>\n",
       "    <tr>\n",
       "      <th>11696</th>\n",
       "      <td>1788</td>\n",
       "      <td>0.0</td>\n",
       "      <td>2011-04-01</td>\n",
       "      <td>Ded</td>\n",
       "      <td>0</td>\n",
       "      <td>DWE</td>\n",
       "      <td>35.617366</td>\n",
       "      <td>-5.418428</td>\n",
       "      <td>Shule Ya Secondari-Farkwa</td>\n",
       "      <td>0</td>\n",
       "      <td>...</td>\n",
       "      <td>soft</td>\n",
       "      <td>good</td>\n",
       "      <td>enough</td>\n",
       "      <td>enough</td>\n",
       "      <td>machine dbh</td>\n",
       "      <td>borehole</td>\n",
       "      <td>groundwater</td>\n",
       "      <td>communal standpipe multiple</td>\n",
       "      <td>communal standpipe</td>\n",
       "      <td>non functional</td>\n",
       "    </tr>\n",
       "    <tr>\n",
       "      <th>58935</th>\n",
       "      <td>4959</td>\n",
       "      <td>0.0</td>\n",
       "      <td>2012-10-03</td>\n",
       "      <td>Nerthlands</td>\n",
       "      <td>0</td>\n",
       "      <td>Nerthlands</td>\n",
       "      <td>32.830699</td>\n",
       "      <td>-3.267031</td>\n",
       "      <td>Kwa Rubinza</td>\n",
       "      <td>0</td>\n",
       "      <td>...</td>\n",
       "      <td>milky</td>\n",
       "      <td>milky</td>\n",
       "      <td>enough</td>\n",
       "      <td>enough</td>\n",
       "      <td>shallow well</td>\n",
       "      <td>shallow well</td>\n",
       "      <td>groundwater</td>\n",
       "      <td>other</td>\n",
       "      <td>other</td>\n",
       "      <td>non functional</td>\n",
       "    </tr>\n",
       "    <tr>\n",
       "      <th>20567</th>\n",
       "      <td>69931</td>\n",
       "      <td>0.0</td>\n",
       "      <td>2011-04-03</td>\n",
       "      <td>Village Council</td>\n",
       "      <td>0</td>\n",
       "      <td>Village  Council</td>\n",
       "      <td>33.629520</td>\n",
       "      <td>-8.859415</td>\n",
       "      <td>Charles Gonijenda</td>\n",
       "      <td>0</td>\n",
       "      <td>...</td>\n",
       "      <td>soft</td>\n",
       "      <td>good</td>\n",
       "      <td>insufficient</td>\n",
       "      <td>insufficient</td>\n",
       "      <td>river</td>\n",
       "      <td>river/lake</td>\n",
       "      <td>surface</td>\n",
       "      <td>communal standpipe</td>\n",
       "      <td>communal standpipe</td>\n",
       "      <td>functional</td>\n",
       "    </tr>\n",
       "    <tr>\n",
       "      <th>1946</th>\n",
       "      <td>37063</td>\n",
       "      <td>0.0</td>\n",
       "      <td>2011-03-18</td>\n",
       "      <td>Water</td>\n",
       "      <td>0</td>\n",
       "      <td>Gover</td>\n",
       "      <td>36.382929</td>\n",
       "      <td>-6.595154</td>\n",
       "      <td>Zahanati</td>\n",
       "      <td>0</td>\n",
       "      <td>...</td>\n",
       "      <td>soft</td>\n",
       "      <td>good</td>\n",
       "      <td>enough</td>\n",
       "      <td>enough</td>\n",
       "      <td>spring</td>\n",
       "      <td>spring</td>\n",
       "      <td>groundwater</td>\n",
       "      <td>communal standpipe</td>\n",
       "      <td>communal standpipe</td>\n",
       "      <td>functional</td>\n",
       "    </tr>\n",
       "  </tbody>\n",
       "</table>\n",
       "<p>10 rows × 41 columns</p>\n",
       "</div>"
      ],
      "text/plain": [
       "          id  amount_tsh date_recorded                  funder  gps_height  \\\n",
       "16691  10552         0.0    2013-01-16  Government Of Tanzania         369   \n",
       "18777  62004         0.0    2013-02-14            World Vision         687   \n",
       "47443  67055        50.0    2013-01-21       Ministry Of Water        1133   \n",
       "21947  53009         0.0    2011-03-04                   Rc Ch        1747   \n",
       "28447  32121         0.0    2011-07-28                  Hesawa           0   \n",
       "305    39310         0.0    2011-07-17                  Hesawa           0   \n",
       "11696   1788         0.0    2011-04-01                     Ded           0   \n",
       "58935   4959         0.0    2012-10-03              Nerthlands           0   \n",
       "20567  69931         0.0    2011-04-03         Village Council           0   \n",
       "1946   37063         0.0    2011-03-18                   Water           0   \n",
       "\n",
       "                       installer  longitude   latitude  \\\n",
       "16691  District Water Department  38.771103 -10.212209   \n",
       "18777              World Vission  37.468183  -3.595412   \n",
       "47443                        DWE  33.447421  -2.150241   \n",
       "21947                      RC Ch  34.875144  -9.601704   \n",
       "28447                        DWE  30.839795  -1.415307   \n",
       "305                       HESAWA  31.876328  -3.152555   \n",
       "11696                        DWE  35.617366  -5.418428   \n",
       "58935                 Nerthlands  32.830699  -3.267031   \n",
       "20567           Village  Council  33.629520  -8.859415   \n",
       "1946                       Gover  36.382929  -6.595154   \n",
       "\n",
       "                        wpt_name  num_private  ... water_quality  \\\n",
       "16691                 Kwa Mnimbo            0  ...         salty   \n",
       "18777                    Shuleni            0  ...          soft   \n",
       "47443       Kwa Masururi Manyama            0  ...          soft   \n",
       "21947                       none            0  ...          soft   \n",
       "28447                  Kwadaniel            0  ...          soft   \n",
       "305                  Imalabupina            0  ...          soft   \n",
       "11696  Shule Ya Secondari-Farkwa            0  ...          soft   \n",
       "58935                Kwa Rubinza            0  ...         milky   \n",
       "20567          Charles Gonijenda            0  ...          soft   \n",
       "1946                    Zahanati            0  ...          soft   \n",
       "\n",
       "      quality_group      quantity  quantity_group        source   source_type  \\\n",
       "16691         salty  insufficient    insufficient      hand dtw      borehole   \n",
       "18777          good  insufficient    insufficient   machine dbh      borehole   \n",
       "47443          good        enough          enough          lake    river/lake   \n",
       "21947          good        enough          enough        spring        spring   \n",
       "28447          good           dry             dry        spring        spring   \n",
       "305            good        enough          enough  shallow well  shallow well   \n",
       "11696          good        enough          enough   machine dbh      borehole   \n",
       "58935         milky        enough          enough  shallow well  shallow well   \n",
       "20567          good  insufficient    insufficient         river    river/lake   \n",
       "1946           good        enough          enough        spring        spring   \n",
       "\n",
       "      source_class              waterpoint_type waterpoint_type_group  \\\n",
       "16691  groundwater  communal standpipe multiple    communal standpipe   \n",
       "18777  groundwater           communal standpipe    communal standpipe   \n",
       "47443      surface           communal standpipe    communal standpipe   \n",
       "21947  groundwater           communal standpipe    communal standpipe   \n",
       "28447  groundwater           communal standpipe    communal standpipe   \n",
       "305    groundwater                    hand pump             hand pump   \n",
       "11696  groundwater  communal standpipe multiple    communal standpipe   \n",
       "58935  groundwater                        other                 other   \n",
       "20567      surface           communal standpipe    communal standpipe   \n",
       "1946   groundwater           communal standpipe    communal standpipe   \n",
       "\n",
       "         status_group  \n",
       "16691      functional  \n",
       "18777  non functional  \n",
       "47443      functional  \n",
       "21947      functional  \n",
       "28447  non functional  \n",
       "305    non functional  \n",
       "11696  non functional  \n",
       "58935  non functional  \n",
       "20567      functional  \n",
       "1946       functional  \n",
       "\n",
       "[10 rows x 41 columns]"
      ]
     },
     "execution_count": 591,
     "metadata": {},
     "output_type": "execute_result"
    }
   ],
   "source": [
    "df.sample(n=10)"
   ]
  },
  {
   "cell_type": "markdown",
   "metadata": {},
   "source": [
    "- On inspection, some columns e.g `quantity` and `quantity_group` seem to have identical information. Thus, we first verify if indeed this is the case"
   ]
  },
  {
   "cell_type": "code",
   "execution_count": 592,
   "metadata": {},
   "outputs": [
    {
     "name": "stdout",
     "output_type": "stream",
     "text": [
      "Columns are identical: True\n"
     ]
    }
   ],
   "source": [
    "# Check if columns are identical\n",
    "are_identical = (df['quantity'] == df['quantity_group']).all()\n",
    "\n",
    "print(\"Columns are identical:\", are_identical)"
   ]
  },
  {
   "cell_type": "markdown",
   "metadata": {},
   "source": [
    "### Column Inspection Comparison\n",
    "\n",
    "To streamline our dataset and remove redundancy, we will perform the following steps:\n",
    "\n",
    "1. **Identify Columns with Similar Names or Descriptions**  \n",
    "   We'll start by identifying columns that have similar names or descriptions. This helps us determine which columns might contain overlapping information.\n",
    "\n",
    "2. **Compare Column Content**  \n",
    "   For columns identified as similar, we will conduct further checks to compare their content. This involves:\n",
    "   - **Exact Equality Check**: Verifying if the values in the columns are identical for each row.\n",
    "   - **Handling Missing Values**: Ensuring that missing values are considered in the comparison.\n",
    "   \n",
    "3. **Trim Down the Dataset**  \n",
    "   Based on the comparison results, we will:\n",
    "   - **Remove Redundant Columns**: Eliminate columns that contain duplicate or redundant information.\n",
    "   - **Optimize the Dataset**: Reduce the dataset size and complexity by retaining only the necessary columns.\n",
    "\n",
    "By following these steps, we will improve the quality and efficiency of our dataset, ensuring that we work with clean and relevant data.\n"
   ]
  },
  {
   "cell_type": "code",
   "execution_count": 593,
   "metadata": {},
   "outputs": [],
   "source": [
    "# list to compile all redundant columns to remove on the test dataset as well\n",
    "redundant_cols = []"
   ]
  },
  {
   "cell_type": "code",
   "execution_count": 594,
   "metadata": {},
   "outputs": [
    {
     "data": {
      "text/plain": [
       "Index(['id', 'amount_tsh', 'date_recorded', 'funder', 'gps_height',\n",
       "       'installer', 'longitude', 'latitude', 'wpt_name', 'num_private',\n",
       "       'basin', 'subvillage', 'region', 'region_code', 'district_code', 'lga',\n",
       "       'ward', 'population', 'public_meeting', 'recorded_by',\n",
       "       'scheme_management', 'scheme_name', 'permit', 'construction_year',\n",
       "       'extraction_type', 'extraction_type_group', 'extraction_type_class',\n",
       "       'management', 'management_group', 'payment', 'payment_type',\n",
       "       'water_quality', 'quality_group', 'quantity', 'quantity_group',\n",
       "       'source', 'source_type', 'source_class', 'waterpoint_type',\n",
       "       'waterpoint_type_group', 'status_group'],\n",
       "      dtype='object')"
      ]
     },
     "execution_count": 594,
     "metadata": {},
     "output_type": "execute_result"
    }
   ],
   "source": [
    "df.columns"
   ]
  },
  {
   "cell_type": "code",
   "execution_count": 595,
   "metadata": {},
   "outputs": [
    {
     "data": {
      "text/html": [
       "<div>\n",
       "<style scoped>\n",
       "    .dataframe tbody tr th:only-of-type {\n",
       "        vertical-align: middle;\n",
       "    }\n",
       "\n",
       "    .dataframe tbody tr th {\n",
       "        vertical-align: top;\n",
       "    }\n",
       "\n",
       "    .dataframe thead th {\n",
       "        text-align: right;\n",
       "    }\n",
       "</style>\n",
       "<table border=\"1\" class=\"dataframe\">\n",
       "  <thead>\n",
       "    <tr style=\"text-align: right;\">\n",
       "      <th></th>\n",
       "      <th>subvillage</th>\n",
       "      <th>region</th>\n",
       "      <th>region_code</th>\n",
       "      <th>district_code</th>\n",
       "      <th>lga</th>\n",
       "      <th>ward</th>\n",
       "    </tr>\n",
       "  </thead>\n",
       "  <tbody>\n",
       "    <tr>\n",
       "      <th>0</th>\n",
       "      <td>Mnyusi B</td>\n",
       "      <td>Iringa</td>\n",
       "      <td>11</td>\n",
       "      <td>5</td>\n",
       "      <td>Ludewa</td>\n",
       "      <td>Mundindi</td>\n",
       "    </tr>\n",
       "    <tr>\n",
       "      <th>1</th>\n",
       "      <td>Nyamara</td>\n",
       "      <td>Mara</td>\n",
       "      <td>20</td>\n",
       "      <td>2</td>\n",
       "      <td>Serengeti</td>\n",
       "      <td>Natta</td>\n",
       "    </tr>\n",
       "    <tr>\n",
       "      <th>2</th>\n",
       "      <td>Majengo</td>\n",
       "      <td>Manyara</td>\n",
       "      <td>21</td>\n",
       "      <td>4</td>\n",
       "      <td>Simanjiro</td>\n",
       "      <td>Ngorika</td>\n",
       "    </tr>\n",
       "    <tr>\n",
       "      <th>3</th>\n",
       "      <td>Mahakamani</td>\n",
       "      <td>Mtwara</td>\n",
       "      <td>90</td>\n",
       "      <td>63</td>\n",
       "      <td>Nanyumbu</td>\n",
       "      <td>Nanyumbu</td>\n",
       "    </tr>\n",
       "    <tr>\n",
       "      <th>4</th>\n",
       "      <td>Kyanyamisa</td>\n",
       "      <td>Kagera</td>\n",
       "      <td>18</td>\n",
       "      <td>1</td>\n",
       "      <td>Karagwe</td>\n",
       "      <td>Nyakasimbi</td>\n",
       "    </tr>\n",
       "  </tbody>\n",
       "</table>\n",
       "</div>"
      ],
      "text/plain": [
       "   subvillage   region  region_code  district_code        lga        ward\n",
       "0    Mnyusi B   Iringa           11              5     Ludewa    Mundindi\n",
       "1     Nyamara     Mara           20              2  Serengeti       Natta\n",
       "2     Majengo  Manyara           21              4  Simanjiro     Ngorika\n",
       "3  Mahakamani   Mtwara           90             63   Nanyumbu    Nanyumbu\n",
       "4  Kyanyamisa   Kagera           18              1    Karagwe  Nyakasimbi"
      ]
     },
     "execution_count": 595,
     "metadata": {},
     "output_type": "execute_result"
    }
   ],
   "source": [
    "locations = ['subvillage','region','region_code','district_code','lga','ward']\n",
    "df[locations].head()"
   ]
  },
  {
   "cell_type": "code",
   "execution_count": 596,
   "metadata": {},
   "outputs": [
    {
     "data": {
      "text/plain": [
       "count    59400.000000\n",
       "mean        15.297003\n",
       "std         17.587406\n",
       "min          1.000000\n",
       "25%          5.000000\n",
       "50%         12.000000\n",
       "75%         17.000000\n",
       "max         99.000000\n",
       "Name: region_code, dtype: float64"
      ]
     },
     "execution_count": 596,
     "metadata": {},
     "output_type": "execute_result"
    }
   ],
   "source": [
    "df['region_code'].describe()"
   ]
  },
  {
   "cell_type": "markdown",
   "metadata": {},
   "source": []
  },
  {
   "cell_type": "code",
   "execution_count": 597,
   "metadata": {},
   "outputs": [
    {
     "name": "stdout",
     "output_type": "stream",
     "text": [
      "Column : subvillage, Unique values : 19288\n",
      "Column : region, Unique values : 21\n",
      "Column : region_code, Unique values : 27\n",
      "Column : district_code, Unique values : 20\n",
      "Column : lga, Unique values : 125\n",
      "Column : ward, Unique values : 2092\n"
     ]
    }
   ],
   "source": [
    "for element in locations:\n",
    "        print(f\"Column : {element}, Unique values : {len(df[element].unique())}\")"
   ]
  },
  {
   "cell_type": "markdown",
   "metadata": {},
   "source": [
    "## Column Selection for Logistic Regression and Decision Tree Models\n",
    "\n",
    "### 1. Categorical Variables\n",
    "\n",
    "- **Decision Trees**: Handle categorical variables well. You can use all categorical columns directly as decision trees can split on different categories without numerical encoding.\n",
    "  \n",
    "- **Logistic Regression**: Requires numerical input. Categorical variables need to be encoded into numerical formats, typically using one-hot encoding or label encoding.\n",
    "\n",
    "### 2. Column Selection\n",
    "\n",
    "- **`subvillage`**: 19,288 unique values\n",
    "  - **Note**: High cardinality may make this column challenging to encode and could lead to overfitting. Consider not using it directly.\n",
    "\n",
    "- **`region`**: 21 unique values\n",
    "  - **Note**: Moderate number of categories. Can be encoded using one-hot encoding or label encoding.\n",
    "\n",
    "- **`region_code`**: 27 unique values\n",
    "  - **Note**: Similar to `region`, this column has a manageable number of categories and can be used after encoding.\n",
    "\n",
    "- **`district_code`**: 20 unique values\n",
    "  - **Note**: Manageable number of categories. Suitable for encoding.\n",
    "\n",
    "- **`lga`**: 125 unique values\n",
    "  - **Note**: High number of unique values, which may be challenging for encoding and could lead to overfitting.\n",
    "\n",
    "- **`ward`**: 2,092 unique values\n",
    "  - **Note**: Very high cardinality, potentially problematic for encoding and may not provide much predictive value.\n",
    "\n",
    "### Recommendations\n",
    "\n",
    "- **Decision Trees**: You can use all columns directly. Decision trees handle categorical variables well and can manage high-cardinality features without extensive preprocessing.\n",
    "\n",
    "- **Logistic Regression**:\n",
    "  - **Use Columns with Fewer Unique Values**: Start with  `region_code`, `district_code`, and `lga` due to their more manageable number of unique values.\n",
    "  - **Consider Feature Reduction**: Avoid using `subvillage` and `ward` directly because of their high cardinality. Consider aggregating or grouping these columns to reduce the number of unique values.\n",
    "  - **One-Hot Encoding**: Apply one-hot encoding for categorical columns that have a manageable number of unique values.\n"
   ]
  },
  {
   "cell_type": "markdown",
   "metadata": {},
   "source": [
    "- All this seem to show information about geographical location. From inspection, `district_code` and `region_code` seem to be the most suitable since they are codes of locations and have relatively fewer classes (80 for `district_code`, 100 for `region_code`)"
   ]
  },
  {
   "cell_type": "code",
   "execution_count": 598,
   "metadata": {},
   "outputs": [
    {
     "data": {
      "text/plain": [
       "Index(['id', 'amount_tsh', 'date_recorded', 'funder', 'gps_height',\n",
       "       'installer', 'longitude', 'latitude', 'wpt_name', 'num_private',\n",
       "       'basin', 'region_code', 'district_code', 'lga', 'population',\n",
       "       'public_meeting', 'recorded_by', 'scheme_management', 'scheme_name',\n",
       "       'permit', 'construction_year', 'extraction_type',\n",
       "       'extraction_type_group', 'extraction_type_class', 'management',\n",
       "       'management_group', 'payment', 'payment_type', 'water_quality',\n",
       "       'quality_group', 'quantity', 'quantity_group', 'source', 'source_type',\n",
       "       'source_class', 'waterpoint_type', 'waterpoint_type_group',\n",
       "       'status_group'],\n",
       "      dtype='object')"
      ]
     },
     "execution_count": 598,
     "metadata": {},
     "output_type": "execute_result"
    }
   ],
   "source": [
    "df_concise = df.drop(['subvillage', 'ward','region'], axis = 1)\n",
    "df_concise.columns"
   ]
  },
  {
   "cell_type": "code",
   "execution_count": 599,
   "metadata": {},
   "outputs": [],
   "source": [
    "redundant_cols += ['subvillage','region','ward']"
   ]
  },
  {
   "cell_type": "markdown",
   "metadata": {},
   "source": [
    "## We create a function to display relevant info for other similar columns...\n"
   ]
  },
  {
   "cell_type": "code",
   "execution_count": 600,
   "metadata": {},
   "outputs": [],
   "source": [
    "def column_info(similar_cols):\n",
    "    for element in similar_cols:\n",
    "        print(f\"Column : {element}, Unique values : {len(df[element].unique())}\")\n",
    "    for element in range(len(similar_cols)):\n",
    "        print (f\"Column: {similar_cols[element]}\")\n",
    "        for row in df_concise[similar_cols[element]].unique():\n",
    "            print(row)\n",
    "        print('\\n')\n"
   ]
  },
  {
   "cell_type": "code",
   "execution_count": 601,
   "metadata": {},
   "outputs": [],
   "source": [
    "\n",
    "#df_concise = df.drop(['subvillage','region','ward'], axis = 1)\n"
   ]
  },
  {
   "cell_type": "code",
   "execution_count": null,
   "metadata": {},
   "outputs": [],
   "source": []
  },
  {
   "cell_type": "markdown",
   "metadata": {},
   "source": [
    "Next up...\n",
    "- **extraction_type**: The kind of extraction method the waterpoint uses\n",
    "- **extraction_type_group**: The extraction type grouped by similar methods\n",
    "- **extraction_type_class**: The extraction type categorized into broader classes"
   ]
  },
  {
   "cell_type": "code",
   "execution_count": 602,
   "metadata": {},
   "outputs": [
    {
     "name": "stdout",
     "output_type": "stream",
     "text": [
      "Column : extraction_type, Unique values : 18\n",
      "Column : extraction_type_group, Unique values : 13\n",
      "Column : extraction_type_class, Unique values : 7\n",
      "Column: extraction_type\n",
      "gravity\n",
      "submersible\n",
      "swn 80\n",
      "nira/tanira\n",
      "india mark ii\n",
      "other\n",
      "ksb\n",
      "mono\n",
      "windmill\n",
      "afridev\n",
      "other - rope pump\n",
      "india mark iii\n",
      "other - swn 81\n",
      "other - play pump\n",
      "cemo\n",
      "climax\n",
      "walimi\n",
      "other - mkulima/shinyanga\n",
      "\n",
      "\n",
      "Column: extraction_type_group\n",
      "gravity\n",
      "submersible\n",
      "swn 80\n",
      "nira/tanira\n",
      "india mark ii\n",
      "other\n",
      "mono\n",
      "wind-powered\n",
      "afridev\n",
      "rope pump\n",
      "india mark iii\n",
      "other handpump\n",
      "other motorpump\n",
      "\n",
      "\n",
      "Column: extraction_type_class\n",
      "gravity\n",
      "submersible\n",
      "handpump\n",
      "other\n",
      "motorpump\n",
      "wind-powered\n",
      "rope pump\n",
      "\n",
      "\n"
     ]
    }
   ],
   "source": [
    "extraction = ['extraction_type','extraction_type_group','extraction_type_class']\n",
    "column_info(extraction)"
   ]
  },
  {
   "cell_type": "markdown",
   "metadata": {},
   "source": [
    "# IMP\n",
    "- we settle on `extraction_type_class`\n"
   ]
  },
  {
   "cell_type": "code",
   "execution_count": 603,
   "metadata": {},
   "outputs": [],
   "source": [
    "df_concise = df_concise.drop(['extraction_type','extraction_type_group'], axis = 1)\n"
   ]
  },
  {
   "cell_type": "code",
   "execution_count": 604,
   "metadata": {},
   "outputs": [],
   "source": [
    "redundant_cols += ['extraction_type','extraction_type_group']"
   ]
  },
  {
   "cell_type": "markdown",
   "metadata": {},
   "source": [
    "Next up...\n",
    "- **management**: How the waterpoint is managed\n",
    "- **management_group**: The management grouped into broader categories"
   ]
  },
  {
   "cell_type": "code",
   "execution_count": 605,
   "metadata": {},
   "outputs": [
    {
     "name": "stdout",
     "output_type": "stream",
     "text": [
      "Column : management, Unique values : 12\n",
      "Column : management_group, Unique values : 5\n",
      "Column: management\n",
      "vwc\n",
      "wug\n",
      "other\n",
      "private operator\n",
      "water board\n",
      "wua\n",
      "company\n",
      "water authority\n",
      "parastatal\n",
      "unknown\n",
      "other - school\n",
      "trust\n",
      "\n",
      "\n",
      "Column: management_group\n",
      "user-group\n",
      "other\n",
      "commercial\n",
      "parastatal\n",
      "unknown\n",
      "\n",
      "\n"
     ]
    }
   ],
   "source": [
    "management = ['management','management_group']\n",
    "column_info(management)"
   ]
  },
  {
   "cell_type": "markdown",
   "metadata": {},
   "source": [
    "# IMP\n",
    "- we settle on `management_group`\n"
   ]
  },
  {
   "cell_type": "code",
   "execution_count": 606,
   "metadata": {},
   "outputs": [
    {
     "data": {
      "text/plain": [
       "Index(['id', 'amount_tsh', 'date_recorded', 'funder', 'gps_height',\n",
       "       'installer', 'longitude', 'latitude', 'wpt_name', 'num_private',\n",
       "       'basin', 'region_code', 'district_code', 'lga', 'population',\n",
       "       'public_meeting', 'recorded_by', 'scheme_management', 'scheme_name',\n",
       "       'permit', 'construction_year', 'extraction_type_class',\n",
       "       'management_group', 'payment', 'payment_type', 'water_quality',\n",
       "       'quality_group', 'quantity', 'quantity_group', 'source', 'source_type',\n",
       "       'source_class', 'waterpoint_type', 'waterpoint_type_group',\n",
       "       'status_group'],\n",
       "      dtype='object')"
      ]
     },
     "execution_count": 606,
     "metadata": {},
     "output_type": "execute_result"
    }
   ],
   "source": [
    "df_concise = df_concise.drop(['management'], axis = 1)\n",
    "df_concise.columns"
   ]
  },
  {
   "cell_type": "code",
   "execution_count": 607,
   "metadata": {},
   "outputs": [],
   "source": [
    "redundant_cols.append('management')"
   ]
  },
  {
   "cell_type": "markdown",
   "metadata": {},
   "source": [
    "Next up...\n",
    "- **payment**: The cost structure of the water\n",
    "- **payment_type**: The specific type of payment method"
   ]
  },
  {
   "cell_type": "code",
   "execution_count": 608,
   "metadata": {},
   "outputs": [
    {
     "name": "stdout",
     "output_type": "stream",
     "text": [
      "Column : payment, Unique values : 7\n",
      "Column : payment_type, Unique values : 7\n",
      "Column: payment\n",
      "pay annually\n",
      "never pay\n",
      "pay per bucket\n",
      "unknown\n",
      "pay when scheme fails\n",
      "other\n",
      "pay monthly\n",
      "\n",
      "\n",
      "Column: payment_type\n",
      "annually\n",
      "never pay\n",
      "per bucket\n",
      "unknown\n",
      "on failure\n",
      "other\n",
      "monthly\n",
      "\n",
      "\n"
     ]
    }
   ],
   "source": [
    "payment = ['payment', 'payment_type']\n",
    "column_info(payment)\n",
    "    "
   ]
  },
  {
   "cell_type": "markdown",
   "metadata": {},
   "source": [
    "# IMP\n",
    "- we settle on `payment_type`\n"
   ]
  },
  {
   "cell_type": "code",
   "execution_count": 609,
   "metadata": {},
   "outputs": [],
   "source": [
    "df_concise = df_concise.drop(['payment'], axis = 1)\n"
   ]
  },
  {
   "cell_type": "code",
   "execution_count": 610,
   "metadata": {},
   "outputs": [],
   "source": [
    "redundant_cols.append('payment')"
   ]
  },
  {
   "cell_type": "code",
   "execution_count": 611,
   "metadata": {},
   "outputs": [
    {
     "data": {
      "text/plain": [
       "Index(['id', 'amount_tsh', 'date_recorded', 'funder', 'gps_height',\n",
       "       'installer', 'longitude', 'latitude', 'wpt_name', 'num_private',\n",
       "       'basin', 'region_code', 'district_code', 'lga', 'population',\n",
       "       'public_meeting', 'recorded_by', 'scheme_management', 'scheme_name',\n",
       "       'permit', 'construction_year', 'extraction_type_class',\n",
       "       'management_group', 'payment_type', 'water_quality', 'quality_group',\n",
       "       'quantity', 'quantity_group', 'source', 'source_type', 'source_class',\n",
       "       'waterpoint_type', 'waterpoint_type_group', 'status_group'],\n",
       "      dtype='object')"
      ]
     },
     "execution_count": 611,
     "metadata": {},
     "output_type": "execute_result"
    }
   ],
   "source": [
    "df_concise.columns"
   ]
  },
  {
   "cell_type": "markdown",
   "metadata": {},
   "source": [
    "Next up...\n",
    "- **water_quality**: The quality of the water\n",
    "- **quality_group**: The quality grouped by similar qualities\n"
   ]
  },
  {
   "cell_type": "code",
   "execution_count": 612,
   "metadata": {},
   "outputs": [
    {
     "name": "stdout",
     "output_type": "stream",
     "text": [
      "Column : water_quality, Unique values : 8\n",
      "Column : quality_group, Unique values : 6\n",
      "Column: water_quality\n",
      "soft\n",
      "salty\n",
      "milky\n",
      "unknown\n",
      "fluoride\n",
      "coloured\n",
      "salty abandoned\n",
      "fluoride abandoned\n",
      "\n",
      "\n",
      "Column: quality_group\n",
      "good\n",
      "salty\n",
      "milky\n",
      "unknown\n",
      "fluoride\n",
      "colored\n",
      "\n",
      "\n"
     ]
    }
   ],
   "source": [
    "water_quality = ['water_quality','quality_group']\n",
    "column_info(water_quality)"
   ]
  },
  {
   "cell_type": "markdown",
   "metadata": {},
   "source": [
    "# IMP\n",
    "- we settle on `quality_group`\n"
   ]
  },
  {
   "cell_type": "code",
   "execution_count": 613,
   "metadata": {},
   "outputs": [
    {
     "data": {
      "text/plain": [
       "Index(['id', 'amount_tsh', 'date_recorded', 'funder', 'gps_height',\n",
       "       'installer', 'longitude', 'latitude', 'wpt_name', 'num_private',\n",
       "       'basin', 'region_code', 'district_code', 'lga', 'population',\n",
       "       'public_meeting', 'recorded_by', 'scheme_management', 'scheme_name',\n",
       "       'permit', 'construction_year', 'extraction_type_class',\n",
       "       'management_group', 'payment_type', 'quality_group', 'quantity',\n",
       "       'quantity_group', 'source', 'source_type', 'source_class',\n",
       "       'waterpoint_type', 'waterpoint_type_group', 'status_group'],\n",
       "      dtype='object')"
      ]
     },
     "execution_count": 613,
     "metadata": {},
     "output_type": "execute_result"
    }
   ],
   "source": [
    "df_concise = df_concise.drop(['water_quality'], axis = 1)\n",
    "df_concise.columns"
   ]
  },
  {
   "cell_type": "code",
   "execution_count": 614,
   "metadata": {},
   "outputs": [],
   "source": [
    "redundant_cols.append('water_quality')"
   ]
  },
  {
   "cell_type": "markdown",
   "metadata": {},
   "source": [
    "Next up...\n",
    "- **quantity**: The quantity of water\n",
    "- **quantity_group**: The quantity grouped by similar quantities"
   ]
  },
  {
   "cell_type": "code",
   "execution_count": 615,
   "metadata": {},
   "outputs": [
    {
     "name": "stdout",
     "output_type": "stream",
     "text": [
      "Column : quantity, Unique values : 5\n",
      "Column : quantity_group, Unique values : 5\n",
      "Column: quantity\n",
      "enough\n",
      "insufficient\n",
      "dry\n",
      "seasonal\n",
      "unknown\n",
      "\n",
      "\n",
      "Column: quantity_group\n",
      "enough\n",
      "insufficient\n",
      "dry\n",
      "seasonal\n",
      "unknown\n",
      "\n",
      "\n"
     ]
    }
   ],
   "source": [
    "water_quanity = ['quantity','quantity_group']\n",
    "column_info(water_quanity)"
   ]
  },
  {
   "cell_type": "code",
   "execution_count": 616,
   "metadata": {},
   "outputs": [
    {
     "name": "stdout",
     "output_type": "stream",
     "text": [
      "Columns are identical: True\n"
     ]
    }
   ],
   "source": [
    "# Check if columns are identical\n",
    "are_identical = (df_concise['quantity'] == df_concise['quantity_group']).all()\n",
    "\n",
    "print(\"Columns are identical:\", are_identical)"
   ]
  },
  {
   "cell_type": "markdown",
   "metadata": {},
   "source": [
    "# IMP\n",
    "- we settle on `quantity_group`\n"
   ]
  },
  {
   "cell_type": "code",
   "execution_count": 617,
   "metadata": {},
   "outputs": [
    {
     "data": {
      "text/plain": [
       "Index(['id', 'amount_tsh', 'date_recorded', 'funder', 'gps_height',\n",
       "       'installer', 'longitude', 'latitude', 'wpt_name', 'num_private',\n",
       "       'basin', 'region_code', 'district_code', 'lga', 'population',\n",
       "       'public_meeting', 'recorded_by', 'scheme_management', 'scheme_name',\n",
       "       'permit', 'construction_year', 'extraction_type_class',\n",
       "       'management_group', 'payment_type', 'quality_group', 'quantity_group',\n",
       "       'source', 'source_type', 'source_class', 'waterpoint_type',\n",
       "       'waterpoint_type_group', 'status_group'],\n",
       "      dtype='object')"
      ]
     },
     "execution_count": 617,
     "metadata": {},
     "output_type": "execute_result"
    }
   ],
   "source": [
    "df_concise = df_concise.drop(['quantity'], axis = 1)\n",
    "df_concise.columns"
   ]
  },
  {
   "cell_type": "code",
   "execution_count": 618,
   "metadata": {},
   "outputs": [],
   "source": [
    "redundant_cols.append('quantity')"
   ]
  },
  {
   "cell_type": "markdown",
   "metadata": {},
   "source": [
    "Next up...\n",
    "- **source**: The source of the water\n",
    "- **source_type**: The type of water source\n",
    "- **source_class**: The broader class of the water source"
   ]
  },
  {
   "cell_type": "code",
   "execution_count": 619,
   "metadata": {},
   "outputs": [
    {
     "name": "stdout",
     "output_type": "stream",
     "text": [
      "Column : source, Unique values : 10\n",
      "Column : source_type, Unique values : 7\n",
      "Column : source_class, Unique values : 3\n",
      "Column: source\n",
      "spring\n",
      "rainwater harvesting\n",
      "dam\n",
      "machine dbh\n",
      "other\n",
      "shallow well\n",
      "river\n",
      "hand dtw\n",
      "lake\n",
      "unknown\n",
      "\n",
      "\n",
      "Column: source_type\n",
      "spring\n",
      "rainwater harvesting\n",
      "dam\n",
      "borehole\n",
      "other\n",
      "shallow well\n",
      "river/lake\n",
      "\n",
      "\n",
      "Column: source_class\n",
      "groundwater\n",
      "surface\n",
      "unknown\n",
      "\n",
      "\n"
     ]
    }
   ],
   "source": [
    "source = ['source','source_type','source_class']\n",
    "column_info(source)"
   ]
  },
  {
   "cell_type": "markdown",
   "metadata": {},
   "source": [
    "### Recommendation for Dropping Columns\n",
    "\n",
    "- **Drop `source`**: Since `source` contains the most detailed level of information and has the highest number of unique values, it could introduce more complexity without adding significant predictive power compared to `source_type`. The fine granularity may also lead to overfitting, especially in logistic regression.\n",
    "\n",
    "- **Keep `source_class`**: This column has the least number of unique values, making it simple to encode and interpret. It provides high-level, general information that could be useful for both logistic regression and decision trees without adding much complexity.\n",
    "\n",
    "- **Keep `source_type`**: This column offers a balance between detail and simplicity with 7 unique values. It provides more information than `source_class` but is less granular than `source`. This could be useful depending on the specific needs of your model.\n",
    "\n",
    "### Final Recommendations\n",
    "\n",
    "- **For Decision Trees**: Keep both `source_class` and `source_type`. Decision trees handle categorical variables well, and having both columns could help the model learn from both general and more specific information.\n",
    "\n",
    "- **For Logistic Regression**: Drop `source` and use `source_class` and `source_type`. These two columns are simpler to encode and reduce the risk of multicollinearity and overfitting due to fewer unique values.\n"
   ]
  },
  {
   "cell_type": "code",
   "execution_count": 620,
   "metadata": {},
   "outputs": [
    {
     "data": {
      "text/plain": [
       "Index(['id', 'amount_tsh', 'date_recorded', 'funder', 'gps_height',\n",
       "       'installer', 'longitude', 'latitude', 'wpt_name', 'num_private',\n",
       "       'basin', 'region_code', 'district_code', 'lga', 'population',\n",
       "       'public_meeting', 'recorded_by', 'scheme_management', 'scheme_name',\n",
       "       'permit', 'construction_year', 'extraction_type_class',\n",
       "       'management_group', 'payment_type', 'quality_group', 'quantity_group',\n",
       "       'source_type', 'source_class', 'waterpoint_type',\n",
       "       'waterpoint_type_group', 'status_group'],\n",
       "      dtype='object')"
      ]
     },
     "execution_count": 620,
     "metadata": {},
     "output_type": "execute_result"
    }
   ],
   "source": [
    "df_concise = df_concise.drop(['source'], axis = 1)\n",
    "df_concise.columns"
   ]
  },
  {
   "cell_type": "code",
   "execution_count": 621,
   "metadata": {},
   "outputs": [],
   "source": [
    "redundant_cols.append('source')"
   ]
  },
  {
   "cell_type": "markdown",
   "metadata": {},
   "source": [
    "Next up...\n",
    "- **waterpoint_type**: The specific type of waterpoint\n",
    "- **waterpoint_type_group**: The type of waterpoint grouped by similar types\n"
   ]
  },
  {
   "cell_type": "code",
   "execution_count": 622,
   "metadata": {},
   "outputs": [
    {
     "name": "stdout",
     "output_type": "stream",
     "text": [
      "Column : waterpoint_type, Unique values : 7\n",
      "Column : waterpoint_type_group, Unique values : 6\n",
      "Column: waterpoint_type\n",
      "communal standpipe\n",
      "communal standpipe multiple\n",
      "hand pump\n",
      "other\n",
      "improved spring\n",
      "cattle trough\n",
      "dam\n",
      "\n",
      "\n",
      "Column: waterpoint_type_group\n",
      "communal standpipe\n",
      "hand pump\n",
      "other\n",
      "improved spring\n",
      "cattle trough\n",
      "dam\n",
      "\n",
      "\n"
     ]
    }
   ],
   "source": [
    "waterpoint = ['waterpoint_type','waterpoint_type_group']\n",
    "column_info(waterpoint)"
   ]
  },
  {
   "cell_type": "markdown",
   "metadata": {},
   "source": [
    "# IMP\n",
    "- we settle on `waterpoint_type_group`\n"
   ]
  },
  {
   "cell_type": "code",
   "execution_count": 623,
   "metadata": {},
   "outputs": [
    {
     "data": {
      "text/plain": [
       "Index(['id', 'amount_tsh', 'date_recorded', 'funder', 'gps_height',\n",
       "       'installer', 'longitude', 'latitude', 'wpt_name', 'num_private',\n",
       "       'basin', 'region_code', 'district_code', 'lga', 'population',\n",
       "       'public_meeting', 'recorded_by', 'scheme_management', 'scheme_name',\n",
       "       'permit', 'construction_year', 'extraction_type_class',\n",
       "       'management_group', 'payment_type', 'quality_group', 'quantity_group',\n",
       "       'source_type', 'source_class', 'waterpoint_type_group', 'status_group'],\n",
       "      dtype='object')"
      ]
     },
     "execution_count": 623,
     "metadata": {},
     "output_type": "execute_result"
    }
   ],
   "source": [
    "df_concise = df_concise.drop(['waterpoint_type'], axis = 1)\n",
    "df_concise.columns"
   ]
  },
  {
   "cell_type": "code",
   "execution_count": 624,
   "metadata": {},
   "outputs": [],
   "source": [
    "redundant_cols.append('waterpoint_type')"
   ]
  },
  {
   "cell_type": "code",
   "execution_count": 625,
   "metadata": {},
   "outputs": [
    {
     "data": {
      "text/plain": [
       "30"
      ]
     },
     "execution_count": 625,
     "metadata": {},
     "output_type": "execute_result"
    }
   ],
   "source": [
    "len(df_concise.columns)"
   ]
  },
  {
   "cell_type": "code",
   "execution_count": 626,
   "metadata": {},
   "outputs": [
    {
     "data": {
      "text/plain": [
       "Index(['id', 'amount_tsh', 'date_recorded', 'funder', 'gps_height',\n",
       "       'installer', 'longitude', 'latitude', 'wpt_name', 'num_private',\n",
       "       'basin', 'region_code', 'district_code', 'lga', 'population',\n",
       "       'public_meeting', 'recorded_by', 'scheme_management', 'scheme_name',\n",
       "       'permit', 'construction_year', 'extraction_type_class',\n",
       "       'management_group', 'payment_type', 'quality_group', 'quantity_group',\n",
       "       'source_type', 'source_class', 'waterpoint_type_group', 'status_group'],\n",
       "      dtype='object')"
      ]
     },
     "execution_count": 626,
     "metadata": {},
     "output_type": "execute_result"
    }
   ],
   "source": [
    "df_concise.columns"
   ]
  },
  {
   "cell_type": "markdown",
   "metadata": {},
   "source": [
    "Ascertaining that all redundant columns dropped have been captured\n"
   ]
  },
  {
   "cell_type": "code",
   "execution_count": 627,
   "metadata": {},
   "outputs": [
    {
     "data": {
      "text/plain": [
       "True"
      ]
     },
     "execution_count": 627,
     "metadata": {},
     "output_type": "execute_result"
    }
   ],
   "source": [
    "len(df_concise.columns) == (len(df.columns)- len(redundant_cols))"
   ]
  },
  {
   "cell_type": "code",
   "execution_count": 628,
   "metadata": {},
   "outputs": [
    {
     "data": {
      "text/plain": [
       "['subvillage',\n",
       " 'region',\n",
       " 'ward',\n",
       " 'extraction_type',\n",
       " 'extraction_type_group',\n",
       " 'management',\n",
       " 'payment',\n",
       " 'water_quality',\n",
       " 'quantity',\n",
       " 'source',\n",
       " 'waterpoint_type']"
      ]
     },
     "execution_count": 628,
     "metadata": {},
     "output_type": "execute_result"
    }
   ],
   "source": [
    "redundant_cols"
   ]
  },
  {
   "cell_type": "code",
   "execution_count": 629,
   "metadata": {},
   "outputs": [
    {
     "data": {
      "text/plain": [
       "Index(['id', 'amount_tsh', 'date_recorded', 'funder', 'gps_height',\n",
       "       'installer', 'longitude', 'latitude', 'wpt_name', 'num_private',\n",
       "       'basin', 'region_code', 'district_code', 'lga', 'population',\n",
       "       'public_meeting', 'recorded_by', 'scheme_management', 'scheme_name',\n",
       "       'permit', 'construction_year', 'extraction_type_class',\n",
       "       'management_group', 'payment_type', 'quality_group', 'quantity_group',\n",
       "       'source_type', 'source_class', 'waterpoint_type_group', 'status_group'],\n",
       "      dtype='object')"
      ]
     },
     "execution_count": 629,
     "metadata": {},
     "output_type": "execute_result"
    }
   ],
   "source": [
    "df_concise.columns"
   ]
  },
  {
   "cell_type": "markdown",
   "metadata": {},
   "source": [
    "# The Features in This Dataset\n",
    "\n",
    "The following features are left after extracting redundant columns:\n",
    "\n",
    "\n",
    "- `amount_tsh`: Total static head (amount of water available to the waterpoint)\n",
    "- `date_recorded`: The date the row was entered\n",
    "- `funder`: Who funded the well\n",
    "- `gps_height`: Altitude of the well\n",
    "- `installer`: Organization that installed the well\n",
    "- `longitude`: GPS coordinate\n",
    "- `latitude`: GPS coordinate\n",
    "- `wpt_name`: Name of the waterpoint, if there is one\n",
    "- `num_private`: _(Not specified)_\n",
    "- `basin`: Geographic water basin\n",
    "- `region_code`: Geographic location (coded)\n",
    "- `district_code`: Geographic location (coded)\n",
    "- `lga`: ( Geographic location )- Local Government Authorities (LGAs) in Tanzania are accountable for the delivery of public services to citizens - providing \n",
    "oversight and management support to health facilities, schools, and villages.\n",
    "- `population`: Population around the well\n",
    "- `public_meeting`: True/False, indicating if a public meeting was held\n",
    "- `recorded_by`: Group entering this row of data\n",
    "- `scheme_management`: Who operates the waterpoint\n",
    "- `scheme_name`: The name of the management scheme\n",
    "- `permit`: Whether the waterpoint is permitted (True/False)\n",
    "- `construction_year`: Year the waterpoint was constructed\n",
    "- `extraction_type_class`: The extraction type categorized into broader classes\n",
    "- `management_group`: The management grouped into broader categories\n",
    "- `payment_type`: The specific type of payment method\n",
    "- `quality_group`: The quality grouped by similar qualities\n",
    "- `quantity_group`: The quantity grouped by similar quantities\n",
    "- `source_type`: The type of water source\n",
    "- `source_class`: The broader class of the water source\n",
    "- `waterpoint_type_group`: The type of waterpoint grouped by similar types\n"
   ]
  },
  {
   "cell_type": "markdown",
   "metadata": {},
   "source": []
  },
  {
   "cell_type": "markdown",
   "metadata": {},
   "source": [
    "## Data Cleaning- Extracting unnecessary columns with little useful info\n"
   ]
  },
  {
   "cell_type": "markdown",
   "metadata": {},
   "source": [
    "From Domain Knowledge, the following columns can be dropped\n",
    "- date_recorded\n",
    "- longitude\n",
    "- latitude\n",
    "- wpt_name\n",
    "- num_private\n",
    "- recorded_by"
   ]
  },
  {
   "cell_type": "code",
   "execution_count": 630,
   "metadata": {},
   "outputs": [
    {
     "data": {
      "text/plain": [
       "Index(['id', 'amount_tsh', 'funder', 'gps_height', 'installer', 'basin',\n",
       "       'region_code', 'district_code', 'lga', 'population', 'public_meeting',\n",
       "       'scheme_management', 'scheme_name', 'permit', 'construction_year',\n",
       "       'extraction_type_class', 'management_group', 'payment_type',\n",
       "       'quality_group', 'quantity_group', 'source_type', 'source_class',\n",
       "       'waterpoint_type_group', 'status_group'],\n",
       "      dtype='object')"
      ]
     },
     "execution_count": 630,
     "metadata": {},
     "output_type": "execute_result"
    }
   ],
   "source": [
    "unncecessary_cols = [ 'date_recorded','longitude','latitude','wpt_name','num_private','recorded_by']\n",
    "df_concise = df_concise.drop(unncecessary_cols, axis = 1)\n",
    "df_concise.columns"
   ]
  },
  {
   "cell_type": "code",
   "execution_count": 631,
   "metadata": {},
   "outputs": [
    {
     "data": {
      "text/plain": [
       "24"
      ]
     },
     "execution_count": 631,
     "metadata": {},
     "output_type": "execute_result"
    }
   ],
   "source": [
    "len(df_concise.columns)"
   ]
  },
  {
   "cell_type": "markdown",
   "metadata": {},
   "source": [
    "-inspecting the other columns to check whether other columns can be dropped"
   ]
  },
  {
   "cell_type": "code",
   "execution_count": 632,
   "metadata": {},
   "outputs": [
    {
     "name": "stdout",
     "output_type": "stream",
     "text": [
      "Column : id, Unique values : 59400\n",
      "Column : amount_tsh, Unique values : 98\n",
      "Column : funder, Unique values : 1898\n",
      "Column : gps_height, Unique values : 2428\n",
      "Column : installer, Unique values : 2146\n",
      "Column : basin, Unique values : 9\n",
      "Column : region_code, Unique values : 27\n",
      "Column : district_code, Unique values : 20\n",
      "Column : lga, Unique values : 125\n",
      "Column : population, Unique values : 1049\n",
      "Column : public_meeting, Unique values : 3\n",
      "Column : scheme_management, Unique values : 13\n",
      "Column : scheme_name, Unique values : 2697\n",
      "Column : permit, Unique values : 3\n",
      "Column : construction_year, Unique values : 55\n",
      "Column : extraction_type_class, Unique values : 7\n",
      "Column : management_group, Unique values : 5\n",
      "Column : payment_type, Unique values : 7\n",
      "Column : quality_group, Unique values : 6\n",
      "Column : quantity_group, Unique values : 5\n",
      "Column : source_type, Unique values : 7\n",
      "Column : source_class, Unique values : 3\n",
      "Column : waterpoint_type_group, Unique values : 6\n",
      "Column : status_group, Unique values : 3\n"
     ]
    }
   ],
   "source": [
    "for element in df_concise.columns:\n",
    "        print(f\"Column : {element}, Unique values : {len(df[element].unique())}\")"
   ]
  },
  {
   "cell_type": "markdown",
   "metadata": {},
   "source": [
    "from above, the features : installer, scheme_management, scheme_name,funder seem to be extraneous so we shall inspect them"
   ]
  },
  {
   "cell_type": "code",
   "execution_count": 633,
   "metadata": {},
   "outputs": [
    {
     "name": "stdout",
     "output_type": "stream",
     "text": [
      "7718                           DWE\n",
      "39870                       WEDECO\n",
      "248                            DWE\n",
      "38683                          APM\n",
      "25086                        Priva\n",
      "55028                          RWE\n",
      "31291                          NaN\n",
      "6463                           DWE\n",
      "45290                          NaN\n",
      "1639     District Water Department\n",
      "Name: installer, dtype: object\n",
      "24566                VWC\n",
      "12981                WUA\n",
      "56555                VWC\n",
      "46850    Water authority\n",
      "50548                VWC\n",
      "55904                VWC\n",
      "56017                VWC\n",
      "10831                VWC\n",
      "37527                VWC\n",
      "28029                VWC\n",
      "Name: scheme_management, dtype: object\n",
      "8018                             NaN\n",
      "50604                            NaN\n",
      "20115                            NaN\n",
      "7125                             NaN\n",
      "54444                           Cham\n",
      "38599    Ngana water supplied scheme\n",
      "17674                            NaN\n",
      "20142                            NaN\n",
      "23191                           None\n",
      "15097                   14 Kambarage\n",
      "Name: scheme_name, dtype: object\n",
      "30809       Rc Ch\n",
      "5924         Bank\n",
      "37249     Shawasa\n",
      "56116      Tanapa\n",
      "5862     Act Mara\n",
      "55276         Dhv\n",
      "45054       Hifab\n",
      "20124       Cocen\n",
      "47865         NaN\n",
      "27612         NaN\n",
      "Name: funder, dtype: object\n"
     ]
    }
   ],
   "source": [
    "possible_extraneous = ['installer', 'scheme_management', 'scheme_name','funder']\n",
    "for element in possible_extraneous:\n",
    "    print (df_concise[element].sample(n=10))"
   ]
  },
  {
   "cell_type": "markdown",
   "metadata": {},
   "source": [
    "ALl this info, on further inspection, are extraneous, therefore we shall drop them too\n"
   ]
  },
  {
   "cell_type": "code",
   "execution_count": 634,
   "metadata": {},
   "outputs": [
    {
     "data": {
      "text/plain": [
       "Index(['id', 'amount_tsh', 'gps_height', 'basin', 'region_code',\n",
       "       'district_code', 'lga', 'population', 'public_meeting', 'permit',\n",
       "       'construction_year', 'extraction_type_class', 'management_group',\n",
       "       'payment_type', 'quality_group', 'quantity_group', 'source_type',\n",
       "       'source_class', 'waterpoint_type_group', 'status_group'],\n",
       "      dtype='object')"
      ]
     },
     "execution_count": 634,
     "metadata": {},
     "output_type": "execute_result"
    }
   ],
   "source": [
    "# add `possible_extraneous` to unnecessary cols and drop\n",
    "unncecessary_cols += possible_extraneous\n",
    "df_concise = df_concise.drop(possible_extraneous, axis = 1)\n",
    "df_concise.columns"
   ]
  },
  {
   "cell_type": "markdown",
   "metadata": {},
   "source": [
    "### **At this juncture, we have dropped the unncecessary and redundant columns. Next we shall deal with missing values, if present**"
   ]
  },
  {
   "cell_type": "markdown",
   "metadata": {},
   "source": [
    "### **Dealing with missing values**"
   ]
  },
  {
   "cell_type": "code",
   "execution_count": 635,
   "metadata": {},
   "outputs": [
    {
     "name": "stdout",
     "output_type": "stream",
     "text": [
      "<class 'pandas.core.frame.DataFrame'>\n",
      "Int64Index: 59400 entries, 0 to 59399\n",
      "Data columns (total 20 columns):\n",
      " #   Column                 Non-Null Count  Dtype  \n",
      "---  ------                 --------------  -----  \n",
      " 0   id                     59400 non-null  int64  \n",
      " 1   amount_tsh             59400 non-null  float64\n",
      " 2   gps_height             59400 non-null  int64  \n",
      " 3   basin                  59400 non-null  object \n",
      " 4   region_code            59400 non-null  int64  \n",
      " 5   district_code          59400 non-null  int64  \n",
      " 6   lga                    59400 non-null  object \n",
      " 7   population             59400 non-null  int64  \n",
      " 8   public_meeting         56066 non-null  object \n",
      " 9   permit                 56344 non-null  object \n",
      " 10  construction_year      59400 non-null  int64  \n",
      " 11  extraction_type_class  59400 non-null  object \n",
      " 12  management_group       59400 non-null  object \n",
      " 13  payment_type           59400 non-null  object \n",
      " 14  quality_group          59400 non-null  object \n",
      " 15  quantity_group         59400 non-null  object \n",
      " 16  source_type            59400 non-null  object \n",
      " 17  source_class           59400 non-null  object \n",
      " 18  waterpoint_type_group  59400 non-null  object \n",
      " 19  status_group           59400 non-null  object \n",
      "dtypes: float64(1), int64(6), object(13)\n",
      "memory usage: 9.5+ MB\n"
     ]
    }
   ],
   "source": [
    "df_concise.info()"
   ]
  },
  {
   "cell_type": "markdown",
   "metadata": {},
   "source": [
    "- From general info, it seems NaN's are only present in the  columns  `public_meeting` and `permit`"
   ]
  },
  {
   "cell_type": "code",
   "execution_count": 651,
   "metadata": {},
   "outputs": [
    {
     "data": {
      "text/plain": [
       "(3334, 3056)"
      ]
     },
     "execution_count": 651,
     "metadata": {},
     "output_type": "execute_result"
    }
   ],
   "source": [
    "df_concise['public_meeting'].isnull().sum(), df_concise['permit'].isnull().sum(), "
   ]
  },
  {
   "cell_type": "code",
   "execution_count": 652,
   "metadata": {},
   "outputs": [
    {
     "data": {
      "text/plain": [
       "(True     51011\n",
       " False     5055\n",
       " Name: public_meeting, dtype: int64,\n",
       " True     38852\n",
       " False    17492\n",
       " Name: permit, dtype: int64)"
      ]
     },
     "execution_count": 652,
     "metadata": {},
     "output_type": "execute_result"
    }
   ],
   "source": [
    "df_concise['public_meeting'].value_counts(), df_concise['permit'].value_counts()"
   ]
  },
  {
   "cell_type": "code",
   "execution_count": null,
   "metadata": {},
   "outputs": [],
   "source": []
  },
  {
   "cell_type": "code",
   "execution_count": null,
   "metadata": {},
   "outputs": [],
   "source": []
  },
  {
   "cell_type": "code",
   "execution_count": 642,
   "metadata": {},
   "outputs": [
    {
     "data": {
      "text/plain": [
       "(20709, 0, 23, 21381)"
      ]
     },
     "execution_count": 642,
     "metadata": {},
     "output_type": "execute_result"
    }
   ],
   "source": [
    "len(df_concise[df_concise['construction_year']==0]),len(df_concise[df_concise['region_code']==0]),len(df_concise[df_concise['district_code']==0]),len(df_concise[df_concise['population']==0]),"
   ]
  },
  {
   "cell_type": "code",
   "execution_count": 638,
   "metadata": {},
   "outputs": [
    {
     "data": {
      "text/plain": [
       "21"
      ]
     },
     "execution_count": 638,
     "metadata": {},
     "output_type": "execute_result"
    }
   ],
   "source": [
    "len(df.columns)- len(df_concise.columns)"
   ]
  },
  {
   "cell_type": "code",
   "execution_count": 643,
   "metadata": {},
   "outputs": [
    {
     "data": {
      "text/plain": [
       "10"
      ]
     },
     "execution_count": 643,
     "metadata": {},
     "output_type": "execute_result"
    }
   ],
   "source": [
    "len(unncecessary_cols)"
   ]
  },
  {
   "cell_type": "code",
   "execution_count": 644,
   "metadata": {},
   "outputs": [
    {
     "data": {
      "text/plain": [
       "['date_recorded',\n",
       " 'longitude',\n",
       " 'latitude',\n",
       " 'wpt_name',\n",
       " 'num_private',\n",
       " 'recorded_by',\n",
       " 'installer',\n",
       " 'scheme_management',\n",
       " 'scheme_name',\n",
       " 'funder']"
      ]
     },
     "execution_count": 644,
     "metadata": {},
     "output_type": "execute_result"
    }
   ],
   "source": [
    "unncecessary_cols"
   ]
  },
  {
   "cell_type": "code",
   "execution_count": 646,
   "metadata": {},
   "outputs": [
    {
     "data": {
      "text/plain": [
       "21"
      ]
     },
     "execution_count": 646,
     "metadata": {},
     "output_type": "execute_result"
    }
   ],
   "source": [
    "len(redundant_cols) + len(unncecessary_cols)"
   ]
  },
  {
   "cell_type": "code",
   "execution_count": 648,
   "metadata": {},
   "outputs": [
    {
     "data": {
      "text/plain": [
       "list"
      ]
     },
     "execution_count": 648,
     "metadata": {},
     "output_type": "execute_result"
    }
   ],
   "source": [
    "type(unncecessary_cols)"
   ]
  },
  {
   "cell_type": "code",
   "execution_count": null,
   "metadata": {},
   "outputs": [],
   "source": []
  }
 ],
 "metadata": {
  "kernelspec": {
   "display_name": "learn-env",
   "language": "python",
   "name": "python3"
  },
  "language_info": {
   "codemirror_mode": {
    "name": "ipython",
    "version": 3
   },
   "file_extension": ".py",
   "mimetype": "text/x-python",
   "name": "python",
   "nbconvert_exporter": "python",
   "pygments_lexer": "ipython3",
   "version": "3.8.5"
  }
 },
 "nbformat": 4,
 "nbformat_minor": 2
}
