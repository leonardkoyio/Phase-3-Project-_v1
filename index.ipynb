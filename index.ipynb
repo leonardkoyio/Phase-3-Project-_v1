{
 "cells": [
  {
   "cell_type": "markdown",
   "metadata": {},
   "source": [
    "## Imports"
   ]
  },
  {
   "cell_type": "code",
   "execution_count": 3,
   "metadata": {},
   "outputs": [],
   "source": [
    "import pandas as pd"
   ]
  },
  {
   "cell_type": "markdown",
   "metadata": {},
   "source": [
    "## Data Loading"
   ]
  },
  {
   "cell_type": "code",
   "execution_count": 5,
   "metadata": {},
   "outputs": [],
   "source": [
    "df_features= pd.read_csv('data/train_features.csv')\n",
    "df_labels= pd.read_csv('data/train_labels.csv')"
   ]
  },
  {
   "cell_type": "markdown",
   "metadata": {},
   "source": [
    "## EDA And Data Cleaning"
   ]
  },
  {
   "cell_type": "markdown",
   "metadata": {},
   "source": [
    "Comparing the length of the target and the feature dataframes, if they are the same length as expected, The 2 data frames shall be concatenated so as to clean the data effectively."
   ]
  },
  {
   "cell_type": "code",
   "execution_count": 7,
   "metadata": {},
   "outputs": [
    {
     "data": {
      "text/plain": [
       "True"
      ]
     },
     "execution_count": 7,
     "metadata": {},
     "output_type": "execute_result"
    }
   ],
   "source": [
    "len(df_features) == len(df_labels)"
   ]
  },
  {
   "cell_type": "code",
   "execution_count": 8,
   "metadata": {},
   "outputs": [
    {
     "data": {
      "text/html": [
       "<div>\n",
       "<style scoped>\n",
       "    .dataframe tbody tr th:only-of-type {\n",
       "        vertical-align: middle;\n",
       "    }\n",
       "\n",
       "    .dataframe tbody tr th {\n",
       "        vertical-align: top;\n",
       "    }\n",
       "\n",
       "    .dataframe thead th {\n",
       "        text-align: right;\n",
       "    }\n",
       "</style>\n",
       "<table border=\"1\" class=\"dataframe\">\n",
       "  <thead>\n",
       "    <tr style=\"text-align: right;\">\n",
       "      <th></th>\n",
       "      <th>id</th>\n",
       "      <th>amount_tsh</th>\n",
       "      <th>date_recorded</th>\n",
       "      <th>funder</th>\n",
       "      <th>gps_height</th>\n",
       "      <th>installer</th>\n",
       "      <th>longitude</th>\n",
       "      <th>latitude</th>\n",
       "      <th>wpt_name</th>\n",
       "      <th>num_private</th>\n",
       "      <th>...</th>\n",
       "      <th>quality_group</th>\n",
       "      <th>quantity</th>\n",
       "      <th>quantity_group</th>\n",
       "      <th>source</th>\n",
       "      <th>source_type</th>\n",
       "      <th>source_class</th>\n",
       "      <th>waterpoint_type</th>\n",
       "      <th>waterpoint_type_group</th>\n",
       "      <th>id</th>\n",
       "      <th>status_group</th>\n",
       "    </tr>\n",
       "  </thead>\n",
       "  <tbody>\n",
       "    <tr>\n",
       "      <th>0</th>\n",
       "      <td>69572</td>\n",
       "      <td>6000.0</td>\n",
       "      <td>2011-03-14</td>\n",
       "      <td>Roman</td>\n",
       "      <td>1390</td>\n",
       "      <td>Roman</td>\n",
       "      <td>34.938093</td>\n",
       "      <td>-9.856322</td>\n",
       "      <td>none</td>\n",
       "      <td>0</td>\n",
       "      <td>...</td>\n",
       "      <td>good</td>\n",
       "      <td>enough</td>\n",
       "      <td>enough</td>\n",
       "      <td>spring</td>\n",
       "      <td>spring</td>\n",
       "      <td>groundwater</td>\n",
       "      <td>communal standpipe</td>\n",
       "      <td>communal standpipe</td>\n",
       "      <td>69572</td>\n",
       "      <td>functional</td>\n",
       "    </tr>\n",
       "    <tr>\n",
       "      <th>1</th>\n",
       "      <td>8776</td>\n",
       "      <td>0.0</td>\n",
       "      <td>2013-03-06</td>\n",
       "      <td>Grumeti</td>\n",
       "      <td>1399</td>\n",
       "      <td>GRUMETI</td>\n",
       "      <td>34.698766</td>\n",
       "      <td>-2.147466</td>\n",
       "      <td>Zahanati</td>\n",
       "      <td>0</td>\n",
       "      <td>...</td>\n",
       "      <td>good</td>\n",
       "      <td>insufficient</td>\n",
       "      <td>insufficient</td>\n",
       "      <td>rainwater harvesting</td>\n",
       "      <td>rainwater harvesting</td>\n",
       "      <td>surface</td>\n",
       "      <td>communal standpipe</td>\n",
       "      <td>communal standpipe</td>\n",
       "      <td>8776</td>\n",
       "      <td>functional</td>\n",
       "    </tr>\n",
       "    <tr>\n",
       "      <th>2</th>\n",
       "      <td>34310</td>\n",
       "      <td>25.0</td>\n",
       "      <td>2013-02-25</td>\n",
       "      <td>Lottery Club</td>\n",
       "      <td>686</td>\n",
       "      <td>World vision</td>\n",
       "      <td>37.460664</td>\n",
       "      <td>-3.821329</td>\n",
       "      <td>Kwa Mahundi</td>\n",
       "      <td>0</td>\n",
       "      <td>...</td>\n",
       "      <td>good</td>\n",
       "      <td>enough</td>\n",
       "      <td>enough</td>\n",
       "      <td>dam</td>\n",
       "      <td>dam</td>\n",
       "      <td>surface</td>\n",
       "      <td>communal standpipe multiple</td>\n",
       "      <td>communal standpipe</td>\n",
       "      <td>34310</td>\n",
       "      <td>functional</td>\n",
       "    </tr>\n",
       "    <tr>\n",
       "      <th>3</th>\n",
       "      <td>67743</td>\n",
       "      <td>0.0</td>\n",
       "      <td>2013-01-28</td>\n",
       "      <td>Unicef</td>\n",
       "      <td>263</td>\n",
       "      <td>UNICEF</td>\n",
       "      <td>38.486161</td>\n",
       "      <td>-11.155298</td>\n",
       "      <td>Zahanati Ya Nanyumbu</td>\n",
       "      <td>0</td>\n",
       "      <td>...</td>\n",
       "      <td>good</td>\n",
       "      <td>dry</td>\n",
       "      <td>dry</td>\n",
       "      <td>machine dbh</td>\n",
       "      <td>borehole</td>\n",
       "      <td>groundwater</td>\n",
       "      <td>communal standpipe multiple</td>\n",
       "      <td>communal standpipe</td>\n",
       "      <td>67743</td>\n",
       "      <td>non functional</td>\n",
       "    </tr>\n",
       "    <tr>\n",
       "      <th>4</th>\n",
       "      <td>19728</td>\n",
       "      <td>0.0</td>\n",
       "      <td>2011-07-13</td>\n",
       "      <td>Action In A</td>\n",
       "      <td>0</td>\n",
       "      <td>Artisan</td>\n",
       "      <td>31.130847</td>\n",
       "      <td>-1.825359</td>\n",
       "      <td>Shuleni</td>\n",
       "      <td>0</td>\n",
       "      <td>...</td>\n",
       "      <td>good</td>\n",
       "      <td>seasonal</td>\n",
       "      <td>seasonal</td>\n",
       "      <td>rainwater harvesting</td>\n",
       "      <td>rainwater harvesting</td>\n",
       "      <td>surface</td>\n",
       "      <td>communal standpipe</td>\n",
       "      <td>communal standpipe</td>\n",
       "      <td>19728</td>\n",
       "      <td>functional</td>\n",
       "    </tr>\n",
       "  </tbody>\n",
       "</table>\n",
       "<p>5 rows × 42 columns</p>\n",
       "</div>"
      ],
      "text/plain": [
       "      id  amount_tsh date_recorded        funder  gps_height     installer  \\\n",
       "0  69572      6000.0    2011-03-14         Roman        1390         Roman   \n",
       "1   8776         0.0    2013-03-06       Grumeti        1399       GRUMETI   \n",
       "2  34310        25.0    2013-02-25  Lottery Club         686  World vision   \n",
       "3  67743         0.0    2013-01-28        Unicef         263        UNICEF   \n",
       "4  19728         0.0    2011-07-13   Action In A           0       Artisan   \n",
       "\n",
       "   longitude   latitude              wpt_name  num_private  ... quality_group  \\\n",
       "0  34.938093  -9.856322                  none            0  ...          good   \n",
       "1  34.698766  -2.147466              Zahanati            0  ...          good   \n",
       "2  37.460664  -3.821329           Kwa Mahundi            0  ...          good   \n",
       "3  38.486161 -11.155298  Zahanati Ya Nanyumbu            0  ...          good   \n",
       "4  31.130847  -1.825359               Shuleni            0  ...          good   \n",
       "\n",
       "       quantity quantity_group                source           source_type  \\\n",
       "0        enough         enough                spring                spring   \n",
       "1  insufficient   insufficient  rainwater harvesting  rainwater harvesting   \n",
       "2        enough         enough                   dam                   dam   \n",
       "3           dry            dry           machine dbh              borehole   \n",
       "4      seasonal       seasonal  rainwater harvesting  rainwater harvesting   \n",
       "\n",
       "  source_class              waterpoint_type  waterpoint_type_group     id  \\\n",
       "0  groundwater           communal standpipe     communal standpipe  69572   \n",
       "1      surface           communal standpipe     communal standpipe   8776   \n",
       "2      surface  communal standpipe multiple     communal standpipe  34310   \n",
       "3  groundwater  communal standpipe multiple     communal standpipe  67743   \n",
       "4      surface           communal standpipe     communal standpipe  19728   \n",
       "\n",
       "     status_group  \n",
       "0      functional  \n",
       "1      functional  \n",
       "2      functional  \n",
       "3  non functional  \n",
       "4      functional  \n",
       "\n",
       "[5 rows x 42 columns]"
      ]
     },
     "execution_count": 8,
     "metadata": {},
     "output_type": "execute_result"
    }
   ],
   "source": [
    "# concatenating the dataframes\n",
    "df = pd.concat([df_features, df_labels], axis=1)\n",
    "df.head()"
   ]
  },
  {
   "cell_type": "code",
   "execution_count": 10,
   "metadata": {},
   "outputs": [
    {
     "data": {
      "text/plain": [
       "functional                 32259\n",
       "non functional             22824\n",
       "functional needs repair     4317\n",
       "Name: status_group, dtype: int64"
      ]
     },
     "execution_count": 10,
     "metadata": {},
     "output_type": "execute_result"
    }
   ],
   "source": [
    "#inspecting the target variables\n",
    "df['status_group'].value_counts()"
   ]
  },
  {
   "cell_type": "markdown",
   "metadata": {},
   "source": [
    "This is ternary classification problem since the target has 3 possible values"
   ]
  },
  {
   "cell_type": "markdown",
   "metadata": {},
   "source": [
    "## Exploring the data (EDA)\n"
   ]
  },
  {
   "cell_type": "markdown",
   "metadata": {},
   "source": [
    "df_features.columns"
   ]
  },
  {
   "cell_type": "code",
   "execution_count": 6,
   "metadata": {},
   "outputs": [
    {
     "data": {
      "text/plain": [
       "Index(['id', 'amount_tsh', 'date_recorded', 'funder', 'gps_height',\n",
       "       'installer', 'longitude', 'latitude', 'wpt_name', 'num_private',\n",
       "       'basin', 'subvillage', 'region', 'region_code', 'district_code', 'lga',\n",
       "       'ward', 'population', 'public_meeting', 'recorded_by',\n",
       "       'scheme_management', 'scheme_name', 'permit', 'construction_year',\n",
       "       'extraction_type', 'extraction_type_group', 'extraction_type_class',\n",
       "       'management', 'management_group', 'payment', 'payment_type',\n",
       "       'water_quality', 'quality_group', 'quantity', 'quantity_group',\n",
       "       'source', 'source_type', 'source_class', 'waterpoint_type',\n",
       "       'waterpoint_type_group'],\n",
       "      dtype='object')"
      ]
     },
     "execution_count": 6,
     "metadata": {},
     "output_type": "execute_result"
    }
   ],
   "source": [
    "df_features.columns"
   ]
  },
  {
   "cell_type": "markdown",
   "metadata": {},
   "source": [
    "### The Features in This Dataset\n",
    "\n",
    "The following set of information about the waterpoints is provided:\n",
    "\n",
    "- **amount_tsh**: Total static head (amount of water available to the waterpoint)\n",
    "- **date_recorded**: The date the row was entered\n",
    "- **funder**: Who funded the well\n",
    "- **gps_height**: Altitude of the well\n",
    "- **installer**: Organization that installed the well\n",
    "- **longitude**: GPS coordinate\n",
    "- **latitude**: GPS coordinate\n",
    "- **wpt_name**: Name of the waterpoint, if there is one\n",
    "- **num_private**: _(Not specified)_\n",
    "- **basin**: Geographic water basin\n",
    "- **subvillage**: Geographic location\n",
    "- **region**: Geographic location\n",
    "- **region_code**: Geographic location (coded)\n",
    "- **district_code**: Geographic location (coded)\n",
    "- **lga**: Geographic location\n",
    "- **ward**: Geographic location\n",
    "- **population**: Population around the well\n",
    "- **public_meeting**: True/False, indicating if a public meeting was held\n",
    "- **recorded_by**: Group entering this row of data\n",
    "- **scheme_management**: Who operates the waterpoint\n",
    "- **scheme_name**: The name of the management scheme\n",
    "- **permit**: Whether the waterpoint is permitted (True/False)\n",
    "- **construction_year**: Year the waterpoint was constructed\n",
    "- **extraction_type**: The kind of extraction method the waterpoint uses\n",
    "- **extraction_type_group**: The extraction type grouped by similar methods\n",
    "- **extraction_type_class**: The extraction type categorized into broader classes\n",
    "- **management**: How the waterpoint is managed\n",
    "- **management_group**: The management grouped into broader categories\n",
    "- **payment**: The cost structure of the water\n",
    "- **payment_type**: The specific type of payment method\n",
    "- **water_quality**: The quality of the water\n",
    "- **quality_group**: The quality grouped by similar qualities\n",
    "- **quantity**: The quantity of water\n",
    "- **quantity_group**: The quantity grouped by similar quantities\n",
    "- **source**: The source of the water\n",
    "- **source_type**: The type of water source\n",
    "- **source_class**: The broader class of the water source\n",
    "- **waterpoint_type**: The specific type of waterpoint\n",
    "- **waterpoint_type_group**: The type of waterpoint grouped by similar types\n"
   ]
  },
  {
   "cell_type": "markdown",
   "metadata": {},
   "source": []
  },
  {
   "cell_type": "code",
   "execution_count": 11,
   "metadata": {},
   "outputs": [
    {
     "data": {
      "text/html": [
       "<div>\n",
       "<style scoped>\n",
       "    .dataframe tbody tr th:only-of-type {\n",
       "        vertical-align: middle;\n",
       "    }\n",
       "\n",
       "    .dataframe tbody tr th {\n",
       "        vertical-align: top;\n",
       "    }\n",
       "\n",
       "    .dataframe thead th {\n",
       "        text-align: right;\n",
       "    }\n",
       "</style>\n",
       "<table border=\"1\" class=\"dataframe\">\n",
       "  <thead>\n",
       "    <tr style=\"text-align: right;\">\n",
       "      <th></th>\n",
       "      <th>id</th>\n",
       "      <th>amount_tsh</th>\n",
       "      <th>date_recorded</th>\n",
       "      <th>funder</th>\n",
       "      <th>gps_height</th>\n",
       "      <th>installer</th>\n",
       "      <th>longitude</th>\n",
       "      <th>latitude</th>\n",
       "      <th>wpt_name</th>\n",
       "      <th>num_private</th>\n",
       "      <th>...</th>\n",
       "      <th>quality_group</th>\n",
       "      <th>quantity</th>\n",
       "      <th>quantity_group</th>\n",
       "      <th>source</th>\n",
       "      <th>source_type</th>\n",
       "      <th>source_class</th>\n",
       "      <th>waterpoint_type</th>\n",
       "      <th>waterpoint_type_group</th>\n",
       "      <th>id</th>\n",
       "      <th>status_group</th>\n",
       "    </tr>\n",
       "  </thead>\n",
       "  <tbody>\n",
       "    <tr>\n",
       "      <th>18193</th>\n",
       "      <td>41803</td>\n",
       "      <td>0.0</td>\n",
       "      <td>2013-03-28</td>\n",
       "      <td>World Bank</td>\n",
       "      <td>1629</td>\n",
       "      <td>DWE</td>\n",
       "      <td>36.630197</td>\n",
       "      <td>-3.279552</td>\n",
       "      <td>Kwa Leisujak</td>\n",
       "      <td>0</td>\n",
       "      <td>...</td>\n",
       "      <td>good</td>\n",
       "      <td>enough</td>\n",
       "      <td>enough</td>\n",
       "      <td>spring</td>\n",
       "      <td>spring</td>\n",
       "      <td>groundwater</td>\n",
       "      <td>communal standpipe</td>\n",
       "      <td>communal standpipe</td>\n",
       "      <td>41803</td>\n",
       "      <td>functional</td>\n",
       "    </tr>\n",
       "    <tr>\n",
       "      <th>33502</th>\n",
       "      <td>7238</td>\n",
       "      <td>0.0</td>\n",
       "      <td>2013-01-22</td>\n",
       "      <td>Tcrs</td>\n",
       "      <td>1412</td>\n",
       "      <td>TCRS</td>\n",
       "      <td>30.543908</td>\n",
       "      <td>-5.729564</td>\n",
       "      <td>Plot 45</td>\n",
       "      <td>0</td>\n",
       "      <td>...</td>\n",
       "      <td>good</td>\n",
       "      <td>enough</td>\n",
       "      <td>enough</td>\n",
       "      <td>machine dbh</td>\n",
       "      <td>borehole</td>\n",
       "      <td>groundwater</td>\n",
       "      <td>hand pump</td>\n",
       "      <td>hand pump</td>\n",
       "      <td>7238</td>\n",
       "      <td>non functional</td>\n",
       "    </tr>\n",
       "    <tr>\n",
       "      <th>33963</th>\n",
       "      <td>39513</td>\n",
       "      <td>0.0</td>\n",
       "      <td>2012-11-12</td>\n",
       "      <td>Ministry Of Water</td>\n",
       "      <td>1172</td>\n",
       "      <td>Hesawa</td>\n",
       "      <td>33.881481</td>\n",
       "      <td>-1.396391</td>\n",
       "      <td>Kwa Maro Kahondwe</td>\n",
       "      <td>0</td>\n",
       "      <td>...</td>\n",
       "      <td>good</td>\n",
       "      <td>enough</td>\n",
       "      <td>enough</td>\n",
       "      <td>lake</td>\n",
       "      <td>river/lake</td>\n",
       "      <td>surface</td>\n",
       "      <td>communal standpipe multiple</td>\n",
       "      <td>communal standpipe</td>\n",
       "      <td>39513</td>\n",
       "      <td>non functional</td>\n",
       "    </tr>\n",
       "    <tr>\n",
       "      <th>39989</th>\n",
       "      <td>35651</td>\n",
       "      <td>0.0</td>\n",
       "      <td>2011-07-12</td>\n",
       "      <td>National Rural</td>\n",
       "      <td>0</td>\n",
       "      <td>DWE</td>\n",
       "      <td>30.956272</td>\n",
       "      <td>-2.784586</td>\n",
       "      <td>Shuleni</td>\n",
       "      <td>0</td>\n",
       "      <td>...</td>\n",
       "      <td>good</td>\n",
       "      <td>seasonal</td>\n",
       "      <td>seasonal</td>\n",
       "      <td>rainwater harvesting</td>\n",
       "      <td>rainwater harvesting</td>\n",
       "      <td>surface</td>\n",
       "      <td>communal standpipe</td>\n",
       "      <td>communal standpipe</td>\n",
       "      <td>35651</td>\n",
       "      <td>functional</td>\n",
       "    </tr>\n",
       "    <tr>\n",
       "      <th>24031</th>\n",
       "      <td>62325</td>\n",
       "      <td>0.0</td>\n",
       "      <td>2011-04-17</td>\n",
       "      <td>Ded</td>\n",
       "      <td>0</td>\n",
       "      <td>DWE</td>\n",
       "      <td>35.883711</td>\n",
       "      <td>-4.879882</td>\n",
       "      <td>Kwa Mzee Rashid</td>\n",
       "      <td>0</td>\n",
       "      <td>...</td>\n",
       "      <td>good</td>\n",
       "      <td>enough</td>\n",
       "      <td>enough</td>\n",
       "      <td>shallow well</td>\n",
       "      <td>shallow well</td>\n",
       "      <td>groundwater</td>\n",
       "      <td>hand pump</td>\n",
       "      <td>hand pump</td>\n",
       "      <td>62325</td>\n",
       "      <td>non functional</td>\n",
       "    </tr>\n",
       "    <tr>\n",
       "      <th>23443</th>\n",
       "      <td>7620</td>\n",
       "      <td>0.0</td>\n",
       "      <td>2011-04-04</td>\n",
       "      <td>NaN</td>\n",
       "      <td>0</td>\n",
       "      <td>NaN</td>\n",
       "      <td>33.903345</td>\n",
       "      <td>-9.333811</td>\n",
       "      <td>Ngamanga</td>\n",
       "      <td>0</td>\n",
       "      <td>...</td>\n",
       "      <td>good</td>\n",
       "      <td>enough</td>\n",
       "      <td>enough</td>\n",
       "      <td>spring</td>\n",
       "      <td>spring</td>\n",
       "      <td>groundwater</td>\n",
       "      <td>communal standpipe</td>\n",
       "      <td>communal standpipe</td>\n",
       "      <td>7620</td>\n",
       "      <td>functional</td>\n",
       "    </tr>\n",
       "    <tr>\n",
       "      <th>35949</th>\n",
       "      <td>19615</td>\n",
       "      <td>0.0</td>\n",
       "      <td>2011-04-10</td>\n",
       "      <td>NaN</td>\n",
       "      <td>0</td>\n",
       "      <td>NaN</td>\n",
       "      <td>34.025089</td>\n",
       "      <td>-8.854950</td>\n",
       "      <td>Kwa Mzee Mbamange</td>\n",
       "      <td>0</td>\n",
       "      <td>...</td>\n",
       "      <td>good</td>\n",
       "      <td>seasonal</td>\n",
       "      <td>seasonal</td>\n",
       "      <td>river</td>\n",
       "      <td>river/lake</td>\n",
       "      <td>surface</td>\n",
       "      <td>communal standpipe</td>\n",
       "      <td>communal standpipe</td>\n",
       "      <td>19615</td>\n",
       "      <td>non functional</td>\n",
       "    </tr>\n",
       "    <tr>\n",
       "      <th>21569</th>\n",
       "      <td>41121</td>\n",
       "      <td>0.0</td>\n",
       "      <td>2011-07-10</td>\n",
       "      <td>Mzee Omari</td>\n",
       "      <td>0</td>\n",
       "      <td>Mzee Omari</td>\n",
       "      <td>31.760849</td>\n",
       "      <td>-2.634732</td>\n",
       "      <td>Kwa Mzee Omari</td>\n",
       "      <td>0</td>\n",
       "      <td>...</td>\n",
       "      <td>good</td>\n",
       "      <td>enough</td>\n",
       "      <td>enough</td>\n",
       "      <td>shallow well</td>\n",
       "      <td>shallow well</td>\n",
       "      <td>groundwater</td>\n",
       "      <td>hand pump</td>\n",
       "      <td>hand pump</td>\n",
       "      <td>41121</td>\n",
       "      <td>functional</td>\n",
       "    </tr>\n",
       "    <tr>\n",
       "      <th>48390</th>\n",
       "      <td>31719</td>\n",
       "      <td>0.0</td>\n",
       "      <td>2012-10-14</td>\n",
       "      <td>Adb</td>\n",
       "      <td>0</td>\n",
       "      <td>DWE</td>\n",
       "      <td>33.674363</td>\n",
       "      <td>-3.678326</td>\n",
       "      <td>Shule</td>\n",
       "      <td>0</td>\n",
       "      <td>...</td>\n",
       "      <td>unknown</td>\n",
       "      <td>seasonal</td>\n",
       "      <td>seasonal</td>\n",
       "      <td>rainwater harvesting</td>\n",
       "      <td>rainwater harvesting</td>\n",
       "      <td>surface</td>\n",
       "      <td>communal standpipe</td>\n",
       "      <td>communal standpipe</td>\n",
       "      <td>31719</td>\n",
       "      <td>functional</td>\n",
       "    </tr>\n",
       "    <tr>\n",
       "      <th>12718</th>\n",
       "      <td>24175</td>\n",
       "      <td>0.0</td>\n",
       "      <td>2011-08-06</td>\n",
       "      <td>Hifab</td>\n",
       "      <td>0</td>\n",
       "      <td>Hesawa</td>\n",
       "      <td>33.420900</td>\n",
       "      <td>-2.729022</td>\n",
       "      <td>Ilogomelo</td>\n",
       "      <td>0</td>\n",
       "      <td>...</td>\n",
       "      <td>good</td>\n",
       "      <td>insufficient</td>\n",
       "      <td>insufficient</td>\n",
       "      <td>shallow well</td>\n",
       "      <td>shallow well</td>\n",
       "      <td>groundwater</td>\n",
       "      <td>hand pump</td>\n",
       "      <td>hand pump</td>\n",
       "      <td>24175</td>\n",
       "      <td>functional</td>\n",
       "    </tr>\n",
       "  </tbody>\n",
       "</table>\n",
       "<p>10 rows × 42 columns</p>\n",
       "</div>"
      ],
      "text/plain": [
       "          id  amount_tsh date_recorded             funder  gps_height  \\\n",
       "18193  41803         0.0    2013-03-28         World Bank        1629   \n",
       "33502   7238         0.0    2013-01-22               Tcrs        1412   \n",
       "33963  39513         0.0    2012-11-12  Ministry Of Water        1172   \n",
       "39989  35651         0.0    2011-07-12     National Rural           0   \n",
       "24031  62325         0.0    2011-04-17                Ded           0   \n",
       "23443   7620         0.0    2011-04-04                NaN           0   \n",
       "35949  19615         0.0    2011-04-10                NaN           0   \n",
       "21569  41121         0.0    2011-07-10         Mzee Omari           0   \n",
       "48390  31719         0.0    2012-10-14                Adb           0   \n",
       "12718  24175         0.0    2011-08-06              Hifab           0   \n",
       "\n",
       "        installer  longitude  latitude           wpt_name  num_private  ...  \\\n",
       "18193         DWE  36.630197 -3.279552       Kwa Leisujak            0  ...   \n",
       "33502        TCRS  30.543908 -5.729564            Plot 45            0  ...   \n",
       "33963      Hesawa  33.881481 -1.396391  Kwa Maro Kahondwe            0  ...   \n",
       "39989         DWE  30.956272 -2.784586            Shuleni            0  ...   \n",
       "24031         DWE  35.883711 -4.879882    Kwa Mzee Rashid            0  ...   \n",
       "23443         NaN  33.903345 -9.333811           Ngamanga            0  ...   \n",
       "35949         NaN  34.025089 -8.854950  Kwa Mzee Mbamange            0  ...   \n",
       "21569  Mzee Omari  31.760849 -2.634732     Kwa Mzee Omari            0  ...   \n",
       "48390         DWE  33.674363 -3.678326              Shule            0  ...   \n",
       "12718      Hesawa  33.420900 -2.729022          Ilogomelo            0  ...   \n",
       "\n",
       "      quality_group      quantity quantity_group                source  \\\n",
       "18193          good        enough         enough                spring   \n",
       "33502          good        enough         enough           machine dbh   \n",
       "33963          good        enough         enough                  lake   \n",
       "39989          good      seasonal       seasonal  rainwater harvesting   \n",
       "24031          good        enough         enough          shallow well   \n",
       "23443          good        enough         enough                spring   \n",
       "35949          good      seasonal       seasonal                 river   \n",
       "21569          good        enough         enough          shallow well   \n",
       "48390       unknown      seasonal       seasonal  rainwater harvesting   \n",
       "12718          good  insufficient   insufficient          shallow well   \n",
       "\n",
       "                source_type source_class              waterpoint_type  \\\n",
       "18193                spring  groundwater           communal standpipe   \n",
       "33502              borehole  groundwater                    hand pump   \n",
       "33963            river/lake      surface  communal standpipe multiple   \n",
       "39989  rainwater harvesting      surface           communal standpipe   \n",
       "24031          shallow well  groundwater                    hand pump   \n",
       "23443                spring  groundwater           communal standpipe   \n",
       "35949            river/lake      surface           communal standpipe   \n",
       "21569          shallow well  groundwater                    hand pump   \n",
       "48390  rainwater harvesting      surface           communal standpipe   \n",
       "12718          shallow well  groundwater                    hand pump   \n",
       "\n",
       "       waterpoint_type_group     id    status_group  \n",
       "18193     communal standpipe  41803      functional  \n",
       "33502              hand pump   7238  non functional  \n",
       "33963     communal standpipe  39513  non functional  \n",
       "39989     communal standpipe  35651      functional  \n",
       "24031              hand pump  62325  non functional  \n",
       "23443     communal standpipe   7620      functional  \n",
       "35949     communal standpipe  19615  non functional  \n",
       "21569              hand pump  41121      functional  \n",
       "48390     communal standpipe  31719      functional  \n",
       "12718              hand pump  24175      functional  \n",
       "\n",
       "[10 rows x 42 columns]"
      ]
     },
     "execution_count": 11,
     "metadata": {},
     "output_type": "execute_result"
    }
   ],
   "source": [
    "df.sample(n=10)"
   ]
  },
  {
   "cell_type": "markdown",
   "metadata": {},
   "source": [
    "- On inspection, some columns e.g `quantity` and `quantity_group` seem to have identical information. Thus, we first verify if indeed this is the case"
   ]
  },
  {
   "cell_type": "code",
   "execution_count": 12,
   "metadata": {},
   "outputs": [
    {
     "name": "stdout",
     "output_type": "stream",
     "text": [
      "Columns are identical: True\n"
     ]
    }
   ],
   "source": [
    "# Check if columns are identical\n",
    "are_identical = (df['quantity'] == df['quantity_group']).all()\n",
    "\n",
    "print(\"Columns are identical:\", are_identical)"
   ]
  },
  {
   "cell_type": "markdown",
   "metadata": {},
   "source": [
    "### Column Inspection Comparison\n",
    "\n",
    "To streamline our dataset and remove redundancy, we will perform the following steps:\n",
    "\n",
    "1. **Identify Columns with Similar Names or Descriptions**  \n",
    "   We'll start by identifying columns that have similar names or descriptions. This helps us determine which columns might contain overlapping information.\n",
    "\n",
    "2. **Compare Column Content**  \n",
    "   For columns identified as similar, we will conduct further checks to compare their content. This involves:\n",
    "   - **Exact Equality Check**: Verifying if the values in the columns are identical for each row.\n",
    "   - **Handling Missing Values**: Ensuring that missing values are considered in the comparison.\n",
    "   \n",
    "3. **Trim Down the Dataset**  \n",
    "   Based on the comparison results, we will:\n",
    "   - **Remove Redundant Columns**: Eliminate columns that contain duplicate or redundant information.\n",
    "   - **Optimize the Dataset**: Reduce the dataset size and complexity by retaining only the necessary columns.\n",
    "\n",
    "By following these steps, we will improve the quality and efficiency of our dataset, ensuring that we work with clean and relevant data.\n"
   ]
  },
  {
   "cell_type": "markdown",
   "metadata": {},
   "source": [
    "### The Features in This Dataset\n",
    "\n",
    "The following set of information about the waterpoints is provided:\n",
    "\n",
    "- **amount_tsh**: Total static head (amount of water available to the waterpoint)\n",
    "- **date_recorded**: The date the row was entered\n",
    "- **funder**: Who funded the well\n",
    "- **gps_height**: Altitude of the well\n",
    "- **installer**: Organization that installed the well\n",
    "- **longitude**: GPS coordinate\n",
    "- **latitude**: GPS coordinate\n",
    "- **wpt_name**: Name of the waterpoint, if there is one\n",
    "- **num_private**: _(Not specified)_\n",
    "- **basin**: Geographic water basin\n",
    "- **subvillage**: Geographic location\n",
    "- **region**: Geographic location\n",
    "- **region_code**: Geographic location (coded)\n",
    "- **district_code**: Geographic location (coded)\n",
    "- **lga**: Geographic location, Local Government Authorities (LGAs) in Tanzania are accountable for the delivery of public services to citizens - providing oversight and management support to health facilities, schools, and villages.\n",
    "- **ward**: Geographic location\n",
    "- **population**: Population around the well\n",
    "- **public_meeting**: True/False, indicating if a public meeting was held\n",
    "- **recorded_by**: Group entering this row of data\n",
    "- **scheme_management**: Who operates the waterpoint\n",
    "- **scheme_name**: The name of the management scheme\n",
    "- **permit**: Whether the waterpoint is permitted (True/False)\n",
    "- **construction_year**: Year the waterpoint was constructed\n",
    "- **extraction_type**: The kind of extraction method the waterpoint uses\n",
    "- **extraction_type_group**: The extraction type grouped by similar methods\n",
    "- **extraction_type_class**: The extraction type categorized into broader classes\n",
    "- **management**: How the waterpoint is managed\n",
    "- **management_group**: The management grouped into broader categories\n",
    "- **payment**: The cost structure of the water\n",
    "- **payment_type**: The specific type of payment method\n",
    "- **water_quality**: The quality of the water\n",
    "- **quality_group**: The quality grouped by similar qualities\n",
    "- **quantity**: The quantity of water\n",
    "- **quantity_group**: The quantity grouped by similar quantities\n",
    "- **source**: The source of the water\n",
    "- **source_type**: The type of water source\n",
    "- **source_class**: The broader class of the water source\n",
    "- **waterpoint_type**: The specific type of waterpoint\n",
    "- **waterpoint_type_group**: The type of waterpoint grouped by similar types\n"
   ]
  },
  {
   "cell_type": "code",
   "execution_count": 13,
   "metadata": {},
   "outputs": [
    {
     "data": {
      "text/plain": [
       "Index(['id', 'amount_tsh', 'date_recorded', 'funder', 'gps_height',\n",
       "       'installer', 'longitude', 'latitude', 'wpt_name', 'num_private',\n",
       "       'basin', 'subvillage', 'region', 'region_code', 'district_code', 'lga',\n",
       "       'ward', 'population', 'public_meeting', 'recorded_by',\n",
       "       'scheme_management', 'scheme_name', 'permit', 'construction_year',\n",
       "       'extraction_type', 'extraction_type_group', 'extraction_type_class',\n",
       "       'management', 'management_group', 'payment', 'payment_type',\n",
       "       'water_quality', 'quality_group', 'quantity', 'quantity_group',\n",
       "       'source', 'source_type', 'source_class', 'waterpoint_type',\n",
       "       'waterpoint_type_group', 'id', 'status_group'],\n",
       "      dtype='object')"
      ]
     },
     "execution_count": 13,
     "metadata": {},
     "output_type": "execute_result"
    }
   ],
   "source": [
    "df.columns"
   ]
  },
  {
   "cell_type": "code",
   "execution_count": 30,
   "metadata": {},
   "outputs": [
    {
     "data": {
      "text/html": [
       "<div>\n",
       "<style scoped>\n",
       "    .dataframe tbody tr th:only-of-type {\n",
       "        vertical-align: middle;\n",
       "    }\n",
       "\n",
       "    .dataframe tbody tr th {\n",
       "        vertical-align: top;\n",
       "    }\n",
       "\n",
       "    .dataframe thead th {\n",
       "        text-align: right;\n",
       "    }\n",
       "</style>\n",
       "<table border=\"1\" class=\"dataframe\">\n",
       "  <thead>\n",
       "    <tr style=\"text-align: right;\">\n",
       "      <th></th>\n",
       "      <th>subvillage</th>\n",
       "      <th>region</th>\n",
       "      <th>region_code</th>\n",
       "      <th>district_code</th>\n",
       "      <th>lga</th>\n",
       "      <th>ward</th>\n",
       "    </tr>\n",
       "  </thead>\n",
       "  <tbody>\n",
       "    <tr>\n",
       "      <th>0</th>\n",
       "      <td>Mnyusi B</td>\n",
       "      <td>Iringa</td>\n",
       "      <td>11</td>\n",
       "      <td>5</td>\n",
       "      <td>Ludewa</td>\n",
       "      <td>Mundindi</td>\n",
       "    </tr>\n",
       "    <tr>\n",
       "      <th>1</th>\n",
       "      <td>Nyamara</td>\n",
       "      <td>Mara</td>\n",
       "      <td>20</td>\n",
       "      <td>2</td>\n",
       "      <td>Serengeti</td>\n",
       "      <td>Natta</td>\n",
       "    </tr>\n",
       "    <tr>\n",
       "      <th>2</th>\n",
       "      <td>Majengo</td>\n",
       "      <td>Manyara</td>\n",
       "      <td>21</td>\n",
       "      <td>4</td>\n",
       "      <td>Simanjiro</td>\n",
       "      <td>Ngorika</td>\n",
       "    </tr>\n",
       "    <tr>\n",
       "      <th>3</th>\n",
       "      <td>Mahakamani</td>\n",
       "      <td>Mtwara</td>\n",
       "      <td>90</td>\n",
       "      <td>63</td>\n",
       "      <td>Nanyumbu</td>\n",
       "      <td>Nanyumbu</td>\n",
       "    </tr>\n",
       "    <tr>\n",
       "      <th>4</th>\n",
       "      <td>Kyanyamisa</td>\n",
       "      <td>Kagera</td>\n",
       "      <td>18</td>\n",
       "      <td>1</td>\n",
       "      <td>Karagwe</td>\n",
       "      <td>Nyakasimbi</td>\n",
       "    </tr>\n",
       "  </tbody>\n",
       "</table>\n",
       "</div>"
      ],
      "text/plain": [
       "   subvillage   region  region_code  district_code        lga        ward\n",
       "0    Mnyusi B   Iringa           11              5     Ludewa    Mundindi\n",
       "1     Nyamara     Mara           20              2  Serengeti       Natta\n",
       "2     Majengo  Manyara           21              4  Simanjiro     Ngorika\n",
       "3  Mahakamani   Mtwara           90             63   Nanyumbu    Nanyumbu\n",
       "4  Kyanyamisa   Kagera           18              1    Karagwe  Nyakasimbi"
      ]
     },
     "execution_count": 30,
     "metadata": {},
     "output_type": "execute_result"
    }
   ],
   "source": [
    "locations = ['subvillage','region','region_code','district_code','lga','ward']\n",
    "df[locations].head()"
   ]
  },
  {
   "cell_type": "code",
   "execution_count": 25,
   "metadata": {},
   "outputs": [
    {
     "data": {
      "text/plain": [
       "count    59400.000000\n",
       "mean        15.297003\n",
       "std         17.587406\n",
       "min          1.000000\n",
       "25%          5.000000\n",
       "50%         12.000000\n",
       "75%         17.000000\n",
       "max         99.000000\n",
       "Name: region_code, dtype: float64"
      ]
     },
     "execution_count": 25,
     "metadata": {},
     "output_type": "execute_result"
    }
   ],
   "source": [
    "df['region_code'].describe()"
   ]
  },
  {
   "cell_type": "markdown",
   "metadata": {},
   "source": []
  },
  {
   "cell_type": "code",
   "execution_count": 26,
   "metadata": {},
   "outputs": [
    {
     "data": {
      "text/plain": [
       "count    59400.000000\n",
       "mean         5.629747\n",
       "std          9.633649\n",
       "min          0.000000\n",
       "25%          2.000000\n",
       "50%          3.000000\n",
       "75%          5.000000\n",
       "max         80.000000\n",
       "Name: district_code, dtype: float64"
      ]
     },
     "execution_count": 26,
     "metadata": {},
     "output_type": "execute_result"
    }
   ],
   "source": [
    "df['district_code'].describe()"
   ]
  },
  {
   "cell_type": "code",
   "execution_count": 32,
   "metadata": {},
   "outputs": [
    {
     "name": "stdout",
     "output_type": "stream",
     "text": [
      "Column : subvillage, Unique values : 19288\n",
      "Column : region, Unique values : 21\n",
      "Column : region_code, Unique values : 27\n",
      "Column : district_code, Unique values : 20\n",
      "Column : lga, Unique values : 125\n",
      "Column : ward, Unique values : 2092\n"
     ]
    }
   ],
   "source": [
    "for location in locations:\n",
    "    print(f\"Column : {location}, Unique values : {len(df[location].unique())}\")\n"
   ]
  },
  {
   "cell_type": "code",
   "execution_count": 33,
   "metadata": {},
   "outputs": [
    {
     "name": "stdout",
     "output_type": "stream",
     "text": [
      "<class 'pandas.core.frame.DataFrame'>\n",
      "RangeIndex: 59400 entries, 0 to 59399\n",
      "Data columns (total 6 columns):\n",
      " #   Column         Non-Null Count  Dtype \n",
      "---  ------         --------------  ----- \n",
      " 0   subvillage     59029 non-null  object\n",
      " 1   region         59400 non-null  object\n",
      " 2   region_code    59400 non-null  int64 \n",
      " 3   district_code  59400 non-null  int64 \n",
      " 4   lga            59400 non-null  object\n",
      " 5   ward           59400 non-null  object\n",
      "dtypes: int64(2), object(4)\n",
      "memory usage: 2.7+ MB\n"
     ]
    }
   ],
   "source": [
    "df[locations].info()"
   ]
  },
  {
   "cell_type": "markdown",
   "metadata": {},
   "source": [
    "- All this seem to show information about geographical location. From inspection, `district_code` and `region_code` seem to be the most suitable since they are codes of locations and have relatively fewer classes (80 for `district_code`, 100 for `region_code`)"
   ]
  },
  {
   "cell_type": "code",
   "execution_count": 34,
   "metadata": {},
   "outputs": [],
   "source": [
    "#region and region code are very similar let's explore further..\n"
   ]
  },
  {
   "cell_type": "code",
   "execution_count": 35,
   "metadata": {},
   "outputs": [
    {
     "name": "stdout",
     "output_type": "stream",
     "text": [
      "Iringa\n",
      "Mara\n",
      "Manyara\n",
      "Mtwara\n",
      "Kagera\n",
      "Tanga\n",
      "Shinyanga\n",
      "Tabora\n",
      "Pwani\n",
      "Ruvuma\n",
      "Kilimanjaro\n",
      "Rukwa\n",
      "Mwanza\n",
      "Kigoma\n",
      "Lindi\n",
      "Dodoma\n",
      "Arusha\n",
      "Mbeya\n",
      "Singida\n",
      "Morogoro\n",
      "Dar es Salaam\n"
     ]
    }
   ],
   "source": [
    "unique_regions = df['region'].unique()\n",
    "for region in unique_regions:\n",
    "    print(region)"
   ]
  },
  {
   "cell_type": "code",
   "execution_count": 36,
   "metadata": {},
   "outputs": [
    {
     "name": "stdout",
     "output_type": "stream",
     "text": [
      "11\n",
      "20\n",
      "21\n",
      "90\n",
      "18\n",
      "4\n",
      "17\n",
      "14\n",
      "60\n",
      "10\n",
      "3\n",
      "15\n",
      "19\n",
      "16\n",
      "80\n",
      "1\n",
      "6\n",
      "2\n",
      "12\n",
      "13\n",
      "5\n",
      "7\n",
      "99\n",
      "24\n",
      "9\n",
      "8\n",
      "40\n"
     ]
    }
   ],
   "source": [
    "unique_region_codes = df['region_code'].unique()\n",
    "for region in unique_region_codes:\n",
    "    print(region)"
   ]
  },
  {
   "cell_type": "markdown",
   "metadata": {},
   "source": [
    "## Column Selection for Logistic Regression and Decision Tree Models\n",
    "\n",
    "### 1. Categorical Variables\n",
    "\n",
    "- **Decision Trees**: Handle categorical variables well. You can use all categorical columns directly as decision trees can split on different categories without numerical encoding.\n",
    "  \n",
    "- **Logistic Regression**: Requires numerical input. Categorical variables need to be encoded into numerical formats, typically using one-hot encoding or label encoding.\n",
    "\n",
    "### 2. Column Selection\n",
    "\n",
    "- **`subvillage`**: 19,288 unique values\n",
    "  - **Note**: High cardinality may make this column challenging to encode and could lead to overfitting. Consider not using it directly.\n",
    "\n",
    "- **`region`**: 21 unique values\n",
    "  - **Note**: Moderate number of categories. Can be encoded using one-hot encoding or label encoding.\n",
    "\n",
    "- **`region_code`**: 27 unique values\n",
    "  - **Note**: Similar to `region`, this column has a manageable number of categories and can be used after encoding.\n",
    "\n",
    "- **`district_code`**: 20 unique values\n",
    "  - **Note**: Manageable number of categories. Suitable for encoding.\n",
    "\n",
    "- **`lga`**: 125 unique values\n",
    "  - **Note**: High number of unique values, which may be challenging for encoding and could lead to overfitting.\n",
    "\n",
    "- **`ward`**: 2,092 unique values\n",
    "  - **Note**: Very high cardinality, potentially problematic for encoding and may not provide much predictive value.\n",
    "\n",
    "### Recommendations\n",
    "\n",
    "- **Decision Trees**: You can use all columns directly. Decision trees handle categorical variables well and can manage high-cardinality features without extensive preprocessing.\n",
    "\n",
    "- **Logistic Regression**:\n",
    "  - **Use Columns with Fewer Unique Values**: Start with `region`, `region_code`, `district_code`, and `lga` due to their more manageable number of unique values.\n",
    "  - **Consider Feature Reduction**: Avoid using `subvillage` and `ward` directly because of their high cardinality. Consider aggregating or grouping these columns to reduce the number of unique values.\n",
    "  - **One-Hot Encoding**: Apply one-hot encoding for categorical columns that have a manageable number of unique values.\n"
   ]
  },
  {
   "cell_type": "code",
   "execution_count": null,
   "metadata": {},
   "outputs": [],
   "source": [
    "`region`, `region_code`, `district_code`, and `lga`"
   ]
  },
  {
   "cell_type": "markdown",
   "metadata": {},
   "source": [
    "For analysis we shall use  `region_code`, `district_code`, and `lga` due to the reasons stated above and trim `region`,`subvillage` and `ward` columns\n"
   ]
  },
  {
   "cell_type": "code",
   "execution_count": 37,
   "metadata": {},
   "outputs": [],
   "source": [
    "redundant_cols = ['region','subvillage','ward']\n",
    "df_concise = df.drop(redundant_cols, axis = 1)\n"
   ]
  },
  {
   "cell_type": "code",
   "execution_count": 38,
   "metadata": {},
   "outputs": [
    {
     "data": {
      "text/plain": [
       "Index(['id', 'amount_tsh', 'date_recorded', 'funder', 'gps_height',\n",
       "       'installer', 'longitude', 'latitude', 'wpt_name', 'num_private',\n",
       "       'basin', 'region_code', 'district_code', 'lga', 'population',\n",
       "       'public_meeting', 'recorded_by', 'scheme_management', 'scheme_name',\n",
       "       'permit', 'construction_year', 'extraction_type',\n",
       "       'extraction_type_group', 'extraction_type_class', 'management',\n",
       "       'management_group', 'payment', 'payment_type', 'water_quality',\n",
       "       'quality_group', 'quantity', 'quantity_group', 'source', 'source_type',\n",
       "       'source_class', 'waterpoint_type', 'waterpoint_type_group', 'id',\n",
       "       'status_group'],\n",
       "      dtype='object')"
      ]
     },
     "execution_count": 38,
     "metadata": {},
     "output_type": "execute_result"
    }
   ],
   "source": [
    "df_concise.columns"
   ]
  },
  {
   "cell_type": "code",
   "execution_count": null,
   "metadata": {},
   "outputs": [],
   "source": []
  },
  {
   "cell_type": "markdown",
   "metadata": {},
   "source": [
    "### The Features in This Dataset\n",
    "\n",
    "The following set of information about the waterpoints is provided:\n",
    "\n",
    "- **amount_tsh**: Total static head (amount of water available to the waterpoint)\n",
    "- **date_recorded**: The date the row was entered\n",
    "- **funder**: Who funded the well\n",
    "- **gps_height**: Altitude of the well\n",
    "- **installer**: Organization that installed the well\n",
    "- **longitude**: GPS coordinate\n",
    "- **latitude**: GPS coordinate\n",
    "- **wpt_name**: Name of the waterpoint, if there is one\n",
    "- **num_private**: _(Not specified)_\n",
    "- **basin**: Geographic water basin\n",
    "- **subvillage**: Geographic location\n",
    "- **region**: Geographic location\n",
    "- **region_code**: Geographic location (coded)\n",
    "- **district_code**: Geographic location (coded)\n",
    "- **lga**: Geographic location, Local Government Authorities (LGAs) in Tanzania are accountable for the delivery of public services to citizens - providing oversight and management support to health facilities, schools, and villages.\n",
    "- **ward**: Geographic location\n",
    "- **population**: Population around the well\n",
    "- **public_meeting**: True/False, indicating if a public meeting was held\n",
    "- **recorded_by**: Group entering this row of data\n",
    "- **scheme_management**: Who operates the waterpoint\n",
    "- **scheme_name**: The name of the management scheme\n",
    "- **permit**: Whether the waterpoint is permitted (True/False)\n",
    "- **construction_year**: Year the waterpoint was constructed\n",
    "- **extraction_type**: The kind of extraction method the waterpoint uses\n",
    "- **extraction_type_group**: The extraction type grouped by similar methods\n",
    "- **extraction_type_class**: The extraction type categorized into broader classes\n",
    "- **management**: How the waterpoint is managed\n",
    "- **management_group**: The management grouped into broader categories\n",
    "- **payment**: The cost structure of the water\n",
    "- **payment_type**: The specific type of payment method\n",
    "- **water_quality**: The quality of the water\n",
    "- **quality_group**: The quality grouped by similar qualities\n",
    "- **quantity**: The quantity of water\n",
    "- **quantity_group**: The quantity grouped by similar quantities\n",
    "- **source**: The source of the water\n",
    "- **source_type**: The type of water source\n",
    "- **source_class**: The broader class of the water source\n",
    "- **waterpoint_type**: The specific type of waterpoint\n",
    "- **waterpoint_type_group**: The type of waterpoint grouped by similar types\n"
   ]
  },
  {
   "cell_type": "markdown",
   "metadata": {},
   "source": [
    "Next up...\n",
    "- **extraction_type**: The kind of extraction method the waterpoint uses\n",
    "- **extraction_type_group**: The extraction type grouped by similar methods\n",
    "- **extraction_type_class**: The extraction type categorized into broader classes"
   ]
  },
  {
   "cell_type": "markdown",
   "metadata": {},
   "source": []
  },
  {
   "cell_type": "code",
   "execution_count": 40,
   "metadata": {},
   "outputs": [
    {
     "data": {
      "text/html": [
       "<div>\n",
       "<style scoped>\n",
       "    .dataframe tbody tr th:only-of-type {\n",
       "        vertical-align: middle;\n",
       "    }\n",
       "\n",
       "    .dataframe tbody tr th {\n",
       "        vertical-align: top;\n",
       "    }\n",
       "\n",
       "    .dataframe thead th {\n",
       "        text-align: right;\n",
       "    }\n",
       "</style>\n",
       "<table border=\"1\" class=\"dataframe\">\n",
       "  <thead>\n",
       "    <tr style=\"text-align: right;\">\n",
       "      <th></th>\n",
       "      <th>extraction_type</th>\n",
       "      <th>extraction_type_group</th>\n",
       "      <th>extraction_type_class</th>\n",
       "    </tr>\n",
       "  </thead>\n",
       "  <tbody>\n",
       "    <tr>\n",
       "      <th>0</th>\n",
       "      <td>gravity</td>\n",
       "      <td>gravity</td>\n",
       "      <td>gravity</td>\n",
       "    </tr>\n",
       "    <tr>\n",
       "      <th>1</th>\n",
       "      <td>gravity</td>\n",
       "      <td>gravity</td>\n",
       "      <td>gravity</td>\n",
       "    </tr>\n",
       "    <tr>\n",
       "      <th>2</th>\n",
       "      <td>gravity</td>\n",
       "      <td>gravity</td>\n",
       "      <td>gravity</td>\n",
       "    </tr>\n",
       "    <tr>\n",
       "      <th>3</th>\n",
       "      <td>submersible</td>\n",
       "      <td>submersible</td>\n",
       "      <td>submersible</td>\n",
       "    </tr>\n",
       "    <tr>\n",
       "      <th>4</th>\n",
       "      <td>gravity</td>\n",
       "      <td>gravity</td>\n",
       "      <td>gravity</td>\n",
       "    </tr>\n",
       "  </tbody>\n",
       "</table>\n",
       "</div>"
      ],
      "text/plain": [
       "  extraction_type extraction_type_group extraction_type_class\n",
       "0         gravity               gravity               gravity\n",
       "1         gravity               gravity               gravity\n",
       "2         gravity               gravity               gravity\n",
       "3     submersible           submersible           submersible\n",
       "4         gravity               gravity               gravity"
      ]
     },
     "execution_count": 40,
     "metadata": {},
     "output_type": "execute_result"
    }
   ],
   "source": [
    "extraction = ['extraction_type','extraction_type_group','extraction_type_class']\n",
    "df_concise[extraction].head()"
   ]
  },
  {
   "cell_type": "markdown",
   "metadata": {},
   "source": [
    "-They seem to be exact, let's test whether they are identical."
   ]
  },
  {
   "cell_type": "code",
   "execution_count": 42,
   "metadata": {},
   "outputs": [
    {
     "name": "stdout",
     "output_type": "stream",
     "text": [
      "Columns are identical: False\n"
     ]
    }
   ],
   "source": [
    "# Check if columns are identical\n",
    "are_identical = (df_concise['extraction_type_class'] == df_concise['extraction_type_group']).all()\n",
    "\n",
    "print(\"Columns are identical:\", are_identical)"
   ]
  },
  {
   "cell_type": "code",
   "execution_count": 43,
   "metadata": {},
   "outputs": [
    {
     "name": "stdout",
     "output_type": "stream",
     "text": [
      "Column : extraction_type, Unique values : 18\n",
      "Column : extraction_type_group, Unique values : 13\n",
      "Column : extraction_type_class, Unique values : 7\n"
     ]
    }
   ],
   "source": [
    "for element in extraction:\n",
    "    print(f\"Column : {element}, Unique values : {len(df[element].unique())}\")"
   ]
  },
  {
   "cell_type": "code",
   "execution_count": 45,
   "metadata": {},
   "outputs": [
    {
     "name": "stdout",
     "output_type": "stream",
     "text": [
      "gravity\n",
      "submersible\n",
      "swn 80\n",
      "nira/tanira\n",
      "india mark ii\n",
      "other\n",
      "ksb\n",
      "mono\n",
      "windmill\n",
      "afridev\n",
      "other - rope pump\n",
      "india mark iii\n",
      "other - swn 81\n",
      "other - play pump\n",
      "cemo\n",
      "climax\n",
      "walimi\n",
      "other - mkulima/shinyanga\n"
     ]
    }
   ],
   "source": [
    "unique_extraction_types = df['extraction_type'].unique()\n",
    "for element in unique_extraction_types:\n",
    "    print(element)"
   ]
  },
  {
   "cell_type": "code",
   "execution_count": 46,
   "metadata": {},
   "outputs": [
    {
     "name": "stdout",
     "output_type": "stream",
     "text": [
      "gravity\n",
      "submersible\n",
      "swn 80\n",
      "nira/tanira\n",
      "india mark ii\n",
      "other\n",
      "mono\n",
      "wind-powered\n",
      "afridev\n",
      "rope pump\n",
      "india mark iii\n",
      "other handpump\n",
      "other motorpump\n"
     ]
    }
   ],
   "source": [
    "unique_extraction_types = df['extraction_type_group'].unique()\n",
    "for element in unique_extraction_types:\n",
    "    print(element)"
   ]
  },
  {
   "cell_type": "code",
   "execution_count": 47,
   "metadata": {},
   "outputs": [
    {
     "name": "stdout",
     "output_type": "stream",
     "text": [
      "gravity\n",
      "submersible\n",
      "handpump\n",
      "other\n",
      "motorpump\n",
      "wind-powered\n",
      "rope pump\n"
     ]
    }
   ],
   "source": [
    "unique_extraction_types = df['extraction_type_class'].unique()\n",
    "for element in unique_extraction_types:\n",
    "    print(element)"
   ]
  },
  {
   "cell_type": "markdown",
   "metadata": {},
   "source": [
    "# IMP\n",
    "- we settle on `extraction_type_class`\n"
   ]
  },
  {
   "cell_type": "code",
   "execution_count": 48,
   "metadata": {},
   "outputs": [],
   "source": [
    "df_concise = df_concise.drop(['extraction_type','extraction_type_group'], axis = 1)"
   ]
  },
  {
   "cell_type": "code",
   "execution_count": null,
   "metadata": {},
   "outputs": [],
   "source": []
  },
  {
   "cell_type": "markdown",
   "metadata": {},
   "source": [
    "### The Features in This Dataset\n",
    "\n",
    "The following set of information about the waterpoints is provided:\n",
    "\n",
    "- **amount_tsh**: Total static head (amount of water available to the waterpoint)\n",
    "- **date_recorded**: The date the row was entered\n",
    "- **funder**: Who funded the well\n",
    "- **gps_height**: Altitude of the well\n",
    "- **installer**: Organization that installed the well\n",
    "- **longitude**: GPS coordinate\n",
    "- **latitude**: GPS coordinate\n",
    "- **wpt_name**: Name of the waterpoint, if there is one\n",
    "- **num_private**: _(Not specified)_\n",
    "- **basin**: Geographic water basin\n",
    "- **subvillage**: Geographic location\n",
    "- **region**: Geographic location\n",
    "- **region_code**: Geographic location (coded)\n",
    "- **district_code**: Geographic location (coded)\n",
    "- **lga**: Geographic location, Local Government Authorities (LGAs) in Tanzania are accountable for the delivery of public services to citizens - providing oversight and management support to health facilities, schools, and villages.\n",
    "- **ward**: Geographic location\n",
    "- **population**: Population around the well\n",
    "- **public_meeting**: True/False, indicating if a public meeting was held\n",
    "- **recorded_by**: Group entering this row of data\n",
    "\n",
    "- **scheme_management**: Who operates the waterpoint\n",
    "- **scheme_name**: The name of the management scheme\n",
    "\n",
    "- **permit**: Whether the waterpoint is permitted (True/False)\n",
    "- **construction_year**: Year the waterpoint was constructed\n",
    "\n",
    "- **extraction_type**: The kind of extraction method the waterpoint uses\n",
    "- **extraction_type_group**: The extraction type grouped by similar methods\n",
    "- **extraction_type_class**: The extraction type categorized into broader classes\n",
    "\n",
    "- **management**: How the waterpoint is managed\n",
    "- **management_group**: The management grouped into broader categories\n",
    "\n",
    "- **payment**: The cost structure of the water\n",
    "- **payment_type**: The specific type of payment method\n",
    "\n",
    "- **water_quality**: The quality of the water\n",
    "- **quality_group**: The quality grouped by similar qualities\n",
    "- **quantity**: The quantity of water\n",
    "- **quantity_group**: The quantity grouped by similar quantities\n",
    "\n",
    "- **source**: The source of the water\n",
    "- **source_type**: The type of water source\n",
    "- **source_class**: The broader class of the water source\n",
    "\n",
    "- **waterpoint_type**: The specific type of waterpoint\n",
    "- **waterpoint_type_group**: The type of waterpoint grouped by similar types\n"
   ]
  },
  {
   "cell_type": "code",
   "execution_count": 52,
   "metadata": {},
   "outputs": [
    {
     "data": {
      "text/html": [
       "<div>\n",
       "<style scoped>\n",
       "    .dataframe tbody tr th:only-of-type {\n",
       "        vertical-align: middle;\n",
       "    }\n",
       "\n",
       "    .dataframe tbody tr th {\n",
       "        vertical-align: top;\n",
       "    }\n",
       "\n",
       "    .dataframe thead th {\n",
       "        text-align: right;\n",
       "    }\n",
       "</style>\n",
       "<table border=\"1\" class=\"dataframe\">\n",
       "  <thead>\n",
       "    <tr style=\"text-align: right;\">\n",
       "      <th></th>\n",
       "      <th>management</th>\n",
       "      <th>management_group</th>\n",
       "    </tr>\n",
       "  </thead>\n",
       "  <tbody>\n",
       "    <tr>\n",
       "      <th>0</th>\n",
       "      <td>vwc</td>\n",
       "      <td>user-group</td>\n",
       "    </tr>\n",
       "    <tr>\n",
       "      <th>1</th>\n",
       "      <td>wug</td>\n",
       "      <td>user-group</td>\n",
       "    </tr>\n",
       "    <tr>\n",
       "      <th>2</th>\n",
       "      <td>vwc</td>\n",
       "      <td>user-group</td>\n",
       "    </tr>\n",
       "    <tr>\n",
       "      <th>3</th>\n",
       "      <td>vwc</td>\n",
       "      <td>user-group</td>\n",
       "    </tr>\n",
       "    <tr>\n",
       "      <th>4</th>\n",
       "      <td>other</td>\n",
       "      <td>other</td>\n",
       "    </tr>\n",
       "  </tbody>\n",
       "</table>\n",
       "</div>"
      ],
      "text/plain": [
       "  management management_group\n",
       "0        vwc       user-group\n",
       "1        wug       user-group\n",
       "2        vwc       user-group\n",
       "3        vwc       user-group\n",
       "4      other            other"
      ]
     },
     "execution_count": 52,
     "metadata": {},
     "output_type": "execute_result"
    }
   ],
   "source": [
    "management = ['management','management_group']\n",
    "df_concise[management].head()"
   ]
  },
  {
   "cell_type": "code",
   "execution_count": 53,
   "metadata": {},
   "outputs": [
    {
     "name": "stdout",
     "output_type": "stream",
     "text": [
      "Column : management, Unique values : 12\n",
      "Column : management_group, Unique values : 5\n"
     ]
    }
   ],
   "source": [
    "for element in management:\n",
    "    print(f\"Column : {element}, Unique values : {len(df[element].unique())}\")"
   ]
  },
  {
   "cell_type": "code",
   "execution_count": 57,
   "metadata": {},
   "outputs": [
    {
     "name": "stdout",
     "output_type": "stream",
     "text": [
      "vwc\n",
      "wug\n",
      "other\n",
      "private operator\n",
      "water board\n",
      "wua\n",
      "company\n",
      "water authority\n",
      "parastatal\n",
      "unknown\n",
      "other - school\n",
      "trust\n"
     ]
    }
   ],
   "source": [
    "unique_management = df['management'].unique()\n",
    "for element in unique_management:\n",
    "    print(element)"
   ]
  },
  {
   "cell_type": "code",
   "execution_count": 56,
   "metadata": {},
   "outputs": [
    {
     "name": "stdout",
     "output_type": "stream",
     "text": [
      "user-group\n",
      "other\n",
      "commercial\n",
      "parastatal\n",
      "unknown\n"
     ]
    }
   ],
   "source": [
    "unique_management = df['management_group'].unique()\n",
    "for element in unique_management:\n",
    "    print(element)"
   ]
  },
  {
   "cell_type": "code",
   "execution_count": null,
   "metadata": {},
   "outputs": [],
   "source": []
  }
 ],
 "metadata": {
  "kernelspec": {
   "display_name": "learn-env",
   "language": "python",
   "name": "python3"
  },
  "language_info": {
   "codemirror_mode": {
    "name": "ipython",
    "version": 3
   },
   "file_extension": ".py",
   "mimetype": "text/x-python",
   "name": "python",
   "nbconvert_exporter": "python",
   "pygments_lexer": "ipython3",
   "version": "3.8.5"
  }
 },
 "nbformat": 4,
 "nbformat_minor": 2
}
