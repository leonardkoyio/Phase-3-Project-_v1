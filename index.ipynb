{
 "cells": [
  {
   "cell_type": "markdown",
   "metadata": {},
   "source": [
    "## Imports"
   ]
  },
  {
   "cell_type": "code",
   "execution_count": 539,
   "metadata": {},
   "outputs": [],
   "source": [
    "import pandas as pd"
   ]
  },
  {
   "cell_type": "markdown",
   "metadata": {},
   "source": [
    "## Data Loading"
   ]
  },
  {
   "cell_type": "code",
   "execution_count": 540,
   "metadata": {},
   "outputs": [],
   "source": [
    "df_features= pd.read_csv('data/train_features.csv')\n",
    "df_labels= pd.read_csv('data/train_labels.csv')"
   ]
  },
  {
   "cell_type": "markdown",
   "metadata": {},
   "source": [
    "## EDA And Data Cleaning"
   ]
  },
  {
   "cell_type": "markdown",
   "metadata": {},
   "source": [
    "Comparing the length of the target and the feature dataframes, if they are the same length as expected, The 2 data frames shall be concatenated so as to clean the data effectively."
   ]
  },
  {
   "cell_type": "code",
   "execution_count": 541,
   "metadata": {},
   "outputs": [
    {
     "data": {
      "text/plain": [
       "True"
      ]
     },
     "execution_count": 541,
     "metadata": {},
     "output_type": "execute_result"
    }
   ],
   "source": [
    "len(df_features) == len(df_labels)"
   ]
  },
  {
   "cell_type": "code",
   "execution_count": 542,
   "metadata": {},
   "outputs": [
    {
     "data": {
      "text/html": [
       "<div>\n",
       "<style scoped>\n",
       "    .dataframe tbody tr th:only-of-type {\n",
       "        vertical-align: middle;\n",
       "    }\n",
       "\n",
       "    .dataframe tbody tr th {\n",
       "        vertical-align: top;\n",
       "    }\n",
       "\n",
       "    .dataframe thead th {\n",
       "        text-align: right;\n",
       "    }\n",
       "</style>\n",
       "<table border=\"1\" class=\"dataframe\">\n",
       "  <thead>\n",
       "    <tr style=\"text-align: right;\">\n",
       "      <th></th>\n",
       "      <th>id</th>\n",
       "      <th>amount_tsh</th>\n",
       "      <th>date_recorded</th>\n",
       "      <th>funder</th>\n",
       "      <th>gps_height</th>\n",
       "      <th>installer</th>\n",
       "      <th>longitude</th>\n",
       "      <th>latitude</th>\n",
       "      <th>wpt_name</th>\n",
       "      <th>num_private</th>\n",
       "      <th>...</th>\n",
       "      <th>water_quality</th>\n",
       "      <th>quality_group</th>\n",
       "      <th>quantity</th>\n",
       "      <th>quantity_group</th>\n",
       "      <th>source</th>\n",
       "      <th>source_type</th>\n",
       "      <th>source_class</th>\n",
       "      <th>waterpoint_type</th>\n",
       "      <th>waterpoint_type_group</th>\n",
       "      <th>status_group</th>\n",
       "    </tr>\n",
       "  </thead>\n",
       "  <tbody>\n",
       "    <tr>\n",
       "      <th>0</th>\n",
       "      <td>69572</td>\n",
       "      <td>6000.0</td>\n",
       "      <td>2011-03-14</td>\n",
       "      <td>Roman</td>\n",
       "      <td>1390</td>\n",
       "      <td>Roman</td>\n",
       "      <td>34.938093</td>\n",
       "      <td>-9.856322</td>\n",
       "      <td>none</td>\n",
       "      <td>0</td>\n",
       "      <td>...</td>\n",
       "      <td>soft</td>\n",
       "      <td>good</td>\n",
       "      <td>enough</td>\n",
       "      <td>enough</td>\n",
       "      <td>spring</td>\n",
       "      <td>spring</td>\n",
       "      <td>groundwater</td>\n",
       "      <td>communal standpipe</td>\n",
       "      <td>communal standpipe</td>\n",
       "      <td>functional</td>\n",
       "    </tr>\n",
       "    <tr>\n",
       "      <th>1</th>\n",
       "      <td>8776</td>\n",
       "      <td>0.0</td>\n",
       "      <td>2013-03-06</td>\n",
       "      <td>Grumeti</td>\n",
       "      <td>1399</td>\n",
       "      <td>GRUMETI</td>\n",
       "      <td>34.698766</td>\n",
       "      <td>-2.147466</td>\n",
       "      <td>Zahanati</td>\n",
       "      <td>0</td>\n",
       "      <td>...</td>\n",
       "      <td>soft</td>\n",
       "      <td>good</td>\n",
       "      <td>insufficient</td>\n",
       "      <td>insufficient</td>\n",
       "      <td>rainwater harvesting</td>\n",
       "      <td>rainwater harvesting</td>\n",
       "      <td>surface</td>\n",
       "      <td>communal standpipe</td>\n",
       "      <td>communal standpipe</td>\n",
       "      <td>functional</td>\n",
       "    </tr>\n",
       "    <tr>\n",
       "      <th>2</th>\n",
       "      <td>34310</td>\n",
       "      <td>25.0</td>\n",
       "      <td>2013-02-25</td>\n",
       "      <td>Lottery Club</td>\n",
       "      <td>686</td>\n",
       "      <td>World vision</td>\n",
       "      <td>37.460664</td>\n",
       "      <td>-3.821329</td>\n",
       "      <td>Kwa Mahundi</td>\n",
       "      <td>0</td>\n",
       "      <td>...</td>\n",
       "      <td>soft</td>\n",
       "      <td>good</td>\n",
       "      <td>enough</td>\n",
       "      <td>enough</td>\n",
       "      <td>dam</td>\n",
       "      <td>dam</td>\n",
       "      <td>surface</td>\n",
       "      <td>communal standpipe multiple</td>\n",
       "      <td>communal standpipe</td>\n",
       "      <td>functional</td>\n",
       "    </tr>\n",
       "    <tr>\n",
       "      <th>3</th>\n",
       "      <td>67743</td>\n",
       "      <td>0.0</td>\n",
       "      <td>2013-01-28</td>\n",
       "      <td>Unicef</td>\n",
       "      <td>263</td>\n",
       "      <td>UNICEF</td>\n",
       "      <td>38.486161</td>\n",
       "      <td>-11.155298</td>\n",
       "      <td>Zahanati Ya Nanyumbu</td>\n",
       "      <td>0</td>\n",
       "      <td>...</td>\n",
       "      <td>soft</td>\n",
       "      <td>good</td>\n",
       "      <td>dry</td>\n",
       "      <td>dry</td>\n",
       "      <td>machine dbh</td>\n",
       "      <td>borehole</td>\n",
       "      <td>groundwater</td>\n",
       "      <td>communal standpipe multiple</td>\n",
       "      <td>communal standpipe</td>\n",
       "      <td>non functional</td>\n",
       "    </tr>\n",
       "    <tr>\n",
       "      <th>4</th>\n",
       "      <td>19728</td>\n",
       "      <td>0.0</td>\n",
       "      <td>2011-07-13</td>\n",
       "      <td>Action In A</td>\n",
       "      <td>0</td>\n",
       "      <td>Artisan</td>\n",
       "      <td>31.130847</td>\n",
       "      <td>-1.825359</td>\n",
       "      <td>Shuleni</td>\n",
       "      <td>0</td>\n",
       "      <td>...</td>\n",
       "      <td>soft</td>\n",
       "      <td>good</td>\n",
       "      <td>seasonal</td>\n",
       "      <td>seasonal</td>\n",
       "      <td>rainwater harvesting</td>\n",
       "      <td>rainwater harvesting</td>\n",
       "      <td>surface</td>\n",
       "      <td>communal standpipe</td>\n",
       "      <td>communal standpipe</td>\n",
       "      <td>functional</td>\n",
       "    </tr>\n",
       "  </tbody>\n",
       "</table>\n",
       "<p>5 rows × 41 columns</p>\n",
       "</div>"
      ],
      "text/plain": [
       "      id  amount_tsh date_recorded        funder  gps_height     installer  \\\n",
       "0  69572      6000.0    2011-03-14         Roman        1390         Roman   \n",
       "1   8776         0.0    2013-03-06       Grumeti        1399       GRUMETI   \n",
       "2  34310        25.0    2013-02-25  Lottery Club         686  World vision   \n",
       "3  67743         0.0    2013-01-28        Unicef         263        UNICEF   \n",
       "4  19728         0.0    2011-07-13   Action In A           0       Artisan   \n",
       "\n",
       "   longitude   latitude              wpt_name  num_private  ... water_quality  \\\n",
       "0  34.938093  -9.856322                  none            0  ...          soft   \n",
       "1  34.698766  -2.147466              Zahanati            0  ...          soft   \n",
       "2  37.460664  -3.821329           Kwa Mahundi            0  ...          soft   \n",
       "3  38.486161 -11.155298  Zahanati Ya Nanyumbu            0  ...          soft   \n",
       "4  31.130847  -1.825359               Shuleni            0  ...          soft   \n",
       "\n",
       "  quality_group      quantity  quantity_group                source  \\\n",
       "0          good        enough          enough                spring   \n",
       "1          good  insufficient    insufficient  rainwater harvesting   \n",
       "2          good        enough          enough                   dam   \n",
       "3          good           dry             dry           machine dbh   \n",
       "4          good      seasonal        seasonal  rainwater harvesting   \n",
       "\n",
       "            source_type source_class              waterpoint_type  \\\n",
       "0                spring  groundwater           communal standpipe   \n",
       "1  rainwater harvesting      surface           communal standpipe   \n",
       "2                   dam      surface  communal standpipe multiple   \n",
       "3              borehole  groundwater  communal standpipe multiple   \n",
       "4  rainwater harvesting      surface           communal standpipe   \n",
       "\n",
       "  waterpoint_type_group    status_group  \n",
       "0    communal standpipe      functional  \n",
       "1    communal standpipe      functional  \n",
       "2    communal standpipe      functional  \n",
       "3    communal standpipe  non functional  \n",
       "4    communal standpipe      functional  \n",
       "\n",
       "[5 rows x 41 columns]"
      ]
     },
     "execution_count": 542,
     "metadata": {},
     "output_type": "execute_result"
    }
   ],
   "source": [
    "# concatenating the dataframes\n",
    "df = pd.merge(df_features, df_labels, on='id')\n",
    "df.head()"
   ]
  },
  {
   "cell_type": "code",
   "execution_count": 543,
   "metadata": {},
   "outputs": [
    {
     "data": {
      "text/plain": [
       "functional                 32259\n",
       "non functional             22824\n",
       "functional needs repair     4317\n",
       "Name: status_group, dtype: int64"
      ]
     },
     "execution_count": 543,
     "metadata": {},
     "output_type": "execute_result"
    }
   ],
   "source": [
    "#inspecting the target variables\n",
    "df['status_group'].value_counts()"
   ]
  },
  {
   "cell_type": "markdown",
   "metadata": {},
   "source": [
    "This is ternary classification problem since the target has 3 possible values"
   ]
  },
  {
   "cell_type": "markdown",
   "metadata": {},
   "source": [
    "## Exploring the data (EDA)\n"
   ]
  },
  {
   "cell_type": "markdown",
   "metadata": {},
   "source": [
    "df_features.columns"
   ]
  },
  {
   "cell_type": "code",
   "execution_count": 544,
   "metadata": {},
   "outputs": [
    {
     "data": {
      "text/plain": [
       "Index(['id', 'amount_tsh', 'date_recorded', 'funder', 'gps_height',\n",
       "       'installer', 'longitude', 'latitude', 'wpt_name', 'num_private',\n",
       "       'basin', 'subvillage', 'region', 'region_code', 'district_code', 'lga',\n",
       "       'ward', 'population', 'public_meeting', 'recorded_by',\n",
       "       'scheme_management', 'scheme_name', 'permit', 'construction_year',\n",
       "       'extraction_type', 'extraction_type_group', 'extraction_type_class',\n",
       "       'management', 'management_group', 'payment', 'payment_type',\n",
       "       'water_quality', 'quality_group', 'quantity', 'quantity_group',\n",
       "       'source', 'source_type', 'source_class', 'waterpoint_type',\n",
       "       'waterpoint_type_group'],\n",
       "      dtype='object')"
      ]
     },
     "execution_count": 544,
     "metadata": {},
     "output_type": "execute_result"
    }
   ],
   "source": [
    "df_features.columns"
   ]
  },
  {
   "cell_type": "markdown",
   "metadata": {},
   "source": [
    "### The Features in This Dataset\n",
    "\n",
    "The following set of information about the waterpoints is provided:\n",
    "\n",
    "- **amount_tsh**: Total static head (amount of water available to the waterpoint)\n",
    "- **date_recorded**: The date the row was entered\n",
    "- **funder**: Who funded the well\n",
    "- **gps_height**: Altitude of the well\n",
    "- **installer**: Organization that installed the well\n",
    "- **longitude**: GPS coordinate\n",
    "- **latitude**: GPS coordinate\n",
    "- **wpt_name**: Name of the waterpoint, if there is one\n",
    "- **num_private**: _(Not specified)_\n",
    "- **basin**: Geographic water basin\n",
    "- **subvillage**: Geographic location\n",
    "- **region**: Geographic location\n",
    "- **region_code**: Geographic location (coded)\n",
    "- **district_code**: Geographic location (coded)\n",
    "- **lga**: Geographic location\n",
    "- **ward**: Geographic location\n",
    "- **population**: Population around the well\n",
    "- **public_meeting**: True/False, indicating if a public meeting was held\n",
    "- **recorded_by**: Group entering this row of data\n",
    "- **scheme_management**: Who operates the waterpoint\n",
    "- **scheme_name**: The name of the management scheme\n",
    "- **permit**: Whether the waterpoint is permitted (True/False)\n",
    "- **construction_year**: Year the waterpoint was constructed\n",
    "- **extraction_type**: The kind of extraction method the waterpoint uses\n",
    "- **extraction_type_group**: The extraction type grouped by similar methods\n",
    "- **extraction_type_class**: The extraction type categorized into broader classes\n",
    "- **management**: How the waterpoint is managed\n",
    "- **management_group**: The management grouped into broader categories\n",
    "- **payment**: The cost structure of the water\n",
    "- **payment_type**: The specific type of payment method\n",
    "- **water_quality**: The quality of the water\n",
    "- **quality_group**: The quality grouped by similar qualities\n",
    "- **quantity**: The quantity of water\n",
    "- **quantity_group**: The quantity grouped by similar quantities\n",
    "- **source**: The source of the water\n",
    "- **source_type**: The type of water source\n",
    "- **source_class**: The broader class of the water source\n",
    "- **waterpoint_type**: The specific type of waterpoint\n",
    "- **waterpoint_type_group**: The type of waterpoint grouped by similar types\n"
   ]
  },
  {
   "cell_type": "markdown",
   "metadata": {},
   "source": []
  },
  {
   "cell_type": "code",
   "execution_count": 545,
   "metadata": {},
   "outputs": [
    {
     "data": {
      "text/html": [
       "<div>\n",
       "<style scoped>\n",
       "    .dataframe tbody tr th:only-of-type {\n",
       "        vertical-align: middle;\n",
       "    }\n",
       "\n",
       "    .dataframe tbody tr th {\n",
       "        vertical-align: top;\n",
       "    }\n",
       "\n",
       "    .dataframe thead th {\n",
       "        text-align: right;\n",
       "    }\n",
       "</style>\n",
       "<table border=\"1\" class=\"dataframe\">\n",
       "  <thead>\n",
       "    <tr style=\"text-align: right;\">\n",
       "      <th></th>\n",
       "      <th>id</th>\n",
       "      <th>amount_tsh</th>\n",
       "      <th>date_recorded</th>\n",
       "      <th>funder</th>\n",
       "      <th>gps_height</th>\n",
       "      <th>installer</th>\n",
       "      <th>longitude</th>\n",
       "      <th>latitude</th>\n",
       "      <th>wpt_name</th>\n",
       "      <th>num_private</th>\n",
       "      <th>...</th>\n",
       "      <th>water_quality</th>\n",
       "      <th>quality_group</th>\n",
       "      <th>quantity</th>\n",
       "      <th>quantity_group</th>\n",
       "      <th>source</th>\n",
       "      <th>source_type</th>\n",
       "      <th>source_class</th>\n",
       "      <th>waterpoint_type</th>\n",
       "      <th>waterpoint_type_group</th>\n",
       "      <th>status_group</th>\n",
       "    </tr>\n",
       "  </thead>\n",
       "  <tbody>\n",
       "    <tr>\n",
       "      <th>50352</th>\n",
       "      <td>24775</td>\n",
       "      <td>0.0</td>\n",
       "      <td>2012-10-11</td>\n",
       "      <td>Wateraid</td>\n",
       "      <td>0</td>\n",
       "      <td>Water Aid</td>\n",
       "      <td>32.593720</td>\n",
       "      <td>-4.893143</td>\n",
       "      <td>Mzee Chenya</td>\n",
       "      <td>0</td>\n",
       "      <td>...</td>\n",
       "      <td>soft</td>\n",
       "      <td>good</td>\n",
       "      <td>insufficient</td>\n",
       "      <td>insufficient</td>\n",
       "      <td>machine dbh</td>\n",
       "      <td>borehole</td>\n",
       "      <td>groundwater</td>\n",
       "      <td>hand pump</td>\n",
       "      <td>hand pump</td>\n",
       "      <td>functional</td>\n",
       "    </tr>\n",
       "    <tr>\n",
       "      <th>38151</th>\n",
       "      <td>42245</td>\n",
       "      <td>0.0</td>\n",
       "      <td>2013-03-30</td>\n",
       "      <td>Government Of Tanzania</td>\n",
       "      <td>1471</td>\n",
       "      <td>DWE</td>\n",
       "      <td>36.638099</td>\n",
       "      <td>-3.328982</td>\n",
       "      <td>Shule Ya Msingi</td>\n",
       "      <td>0</td>\n",
       "      <td>...</td>\n",
       "      <td>soft</td>\n",
       "      <td>good</td>\n",
       "      <td>insufficient</td>\n",
       "      <td>insufficient</td>\n",
       "      <td>spring</td>\n",
       "      <td>spring</td>\n",
       "      <td>groundwater</td>\n",
       "      <td>communal standpipe</td>\n",
       "      <td>communal standpipe</td>\n",
       "      <td>non functional</td>\n",
       "    </tr>\n",
       "    <tr>\n",
       "      <th>52055</th>\n",
       "      <td>43816</td>\n",
       "      <td>2400.0</td>\n",
       "      <td>2011-03-04</td>\n",
       "      <td>Danida</td>\n",
       "      <td>1612</td>\n",
       "      <td>DWE</td>\n",
       "      <td>35.113614</td>\n",
       "      <td>-8.191238</td>\n",
       "      <td>none</td>\n",
       "      <td>0</td>\n",
       "      <td>...</td>\n",
       "      <td>soft</td>\n",
       "      <td>good</td>\n",
       "      <td>enough</td>\n",
       "      <td>enough</td>\n",
       "      <td>hand dtw</td>\n",
       "      <td>borehole</td>\n",
       "      <td>groundwater</td>\n",
       "      <td>hand pump</td>\n",
       "      <td>hand pump</td>\n",
       "      <td>functional</td>\n",
       "    </tr>\n",
       "    <tr>\n",
       "      <th>51188</th>\n",
       "      <td>24439</td>\n",
       "      <td>0.0</td>\n",
       "      <td>2013-12-03</td>\n",
       "      <td>Padep</td>\n",
       "      <td>1782</td>\n",
       "      <td>DWE</td>\n",
       "      <td>37.352803</td>\n",
       "      <td>-2.872662</td>\n",
       "      <td>Mbauti</td>\n",
       "      <td>0</td>\n",
       "      <td>...</td>\n",
       "      <td>soft</td>\n",
       "      <td>good</td>\n",
       "      <td>insufficient</td>\n",
       "      <td>insufficient</td>\n",
       "      <td>river</td>\n",
       "      <td>river/lake</td>\n",
       "      <td>surface</td>\n",
       "      <td>cattle trough</td>\n",
       "      <td>cattle trough</td>\n",
       "      <td>functional</td>\n",
       "    </tr>\n",
       "    <tr>\n",
       "      <th>3423</th>\n",
       "      <td>33218</td>\n",
       "      <td>0.0</td>\n",
       "      <td>2013-01-29</td>\n",
       "      <td>Father Bonifasi</td>\n",
       "      <td>322</td>\n",
       "      <td>Ndanda missions</td>\n",
       "      <td>38.997835</td>\n",
       "      <td>-10.329447</td>\n",
       "      <td>Nnonjela</td>\n",
       "      <td>0</td>\n",
       "      <td>...</td>\n",
       "      <td>soft</td>\n",
       "      <td>good</td>\n",
       "      <td>enough</td>\n",
       "      <td>enough</td>\n",
       "      <td>machine dbh</td>\n",
       "      <td>borehole</td>\n",
       "      <td>groundwater</td>\n",
       "      <td>communal standpipe</td>\n",
       "      <td>communal standpipe</td>\n",
       "      <td>non functional</td>\n",
       "    </tr>\n",
       "    <tr>\n",
       "      <th>54631</th>\n",
       "      <td>66627</td>\n",
       "      <td>50.0</td>\n",
       "      <td>2011-04-02</td>\n",
       "      <td>District Council</td>\n",
       "      <td>673</td>\n",
       "      <td>Handeni Trunk Main(</td>\n",
       "      <td>38.070011</td>\n",
       "      <td>-5.479040</td>\n",
       "      <td>Kwa Kizembe</td>\n",
       "      <td>20</td>\n",
       "      <td>...</td>\n",
       "      <td>soft</td>\n",
       "      <td>good</td>\n",
       "      <td>enough</td>\n",
       "      <td>enough</td>\n",
       "      <td>river</td>\n",
       "      <td>river/lake</td>\n",
       "      <td>surface</td>\n",
       "      <td>communal standpipe</td>\n",
       "      <td>communal standpipe</td>\n",
       "      <td>functional</td>\n",
       "    </tr>\n",
       "    <tr>\n",
       "      <th>45927</th>\n",
       "      <td>15802</td>\n",
       "      <td>0.0</td>\n",
       "      <td>2013-01-18</td>\n",
       "      <td>Government Of Tanzania</td>\n",
       "      <td>399</td>\n",
       "      <td>District Water Department</td>\n",
       "      <td>37.996211</td>\n",
       "      <td>-10.522227</td>\n",
       "      <td>Kwa Moris</td>\n",
       "      <td>0</td>\n",
       "      <td>...</td>\n",
       "      <td>soft</td>\n",
       "      <td>good</td>\n",
       "      <td>insufficient</td>\n",
       "      <td>insufficient</td>\n",
       "      <td>machine dbh</td>\n",
       "      <td>borehole</td>\n",
       "      <td>groundwater</td>\n",
       "      <td>communal standpipe</td>\n",
       "      <td>communal standpipe</td>\n",
       "      <td>non functional</td>\n",
       "    </tr>\n",
       "    <tr>\n",
       "      <th>36312</th>\n",
       "      <td>5730</td>\n",
       "      <td>0.0</td>\n",
       "      <td>2011-04-06</td>\n",
       "      <td>Kkkt</td>\n",
       "      <td>0</td>\n",
       "      <td>KKKT</td>\n",
       "      <td>33.163198</td>\n",
       "      <td>-9.238529</td>\n",
       "      <td>Kwa Lingson</td>\n",
       "      <td>0</td>\n",
       "      <td>...</td>\n",
       "      <td>soft</td>\n",
       "      <td>good</td>\n",
       "      <td>enough</td>\n",
       "      <td>enough</td>\n",
       "      <td>shallow well</td>\n",
       "      <td>shallow well</td>\n",
       "      <td>groundwater</td>\n",
       "      <td>hand pump</td>\n",
       "      <td>hand pump</td>\n",
       "      <td>functional</td>\n",
       "    </tr>\n",
       "    <tr>\n",
       "      <th>12769</th>\n",
       "      <td>58904</td>\n",
       "      <td>0.0</td>\n",
       "      <td>2013-02-25</td>\n",
       "      <td>Dagida</td>\n",
       "      <td>770</td>\n",
       "      <td>DWE</td>\n",
       "      <td>36.118049</td>\n",
       "      <td>-10.880405</td>\n",
       "      <td>Kwa Robert Komba</td>\n",
       "      <td>0</td>\n",
       "      <td>...</td>\n",
       "      <td>soft</td>\n",
       "      <td>good</td>\n",
       "      <td>dry</td>\n",
       "      <td>dry</td>\n",
       "      <td>river</td>\n",
       "      <td>river/lake</td>\n",
       "      <td>surface</td>\n",
       "      <td>communal standpipe</td>\n",
       "      <td>communal standpipe</td>\n",
       "      <td>non functional</td>\n",
       "    </tr>\n",
       "    <tr>\n",
       "      <th>24493</th>\n",
       "      <td>46310</td>\n",
       "      <td>50.0</td>\n",
       "      <td>2013-03-04</td>\n",
       "      <td>Isf/government</td>\n",
       "      <td>917</td>\n",
       "      <td>ISF/Government</td>\n",
       "      <td>37.674027</td>\n",
       "      <td>-3.997037</td>\n",
       "      <td>Migungani</td>\n",
       "      <td>0</td>\n",
       "      <td>...</td>\n",
       "      <td>salty</td>\n",
       "      <td>salty</td>\n",
       "      <td>insufficient</td>\n",
       "      <td>insufficient</td>\n",
       "      <td>machine dbh</td>\n",
       "      <td>borehole</td>\n",
       "      <td>groundwater</td>\n",
       "      <td>communal standpipe</td>\n",
       "      <td>communal standpipe</td>\n",
       "      <td>functional</td>\n",
       "    </tr>\n",
       "  </tbody>\n",
       "</table>\n",
       "<p>10 rows × 41 columns</p>\n",
       "</div>"
      ],
      "text/plain": [
       "          id  amount_tsh date_recorded                  funder  gps_height  \\\n",
       "50352  24775         0.0    2012-10-11                Wateraid           0   \n",
       "38151  42245         0.0    2013-03-30  Government Of Tanzania        1471   \n",
       "52055  43816      2400.0    2011-03-04                  Danida        1612   \n",
       "51188  24439         0.0    2013-12-03                   Padep        1782   \n",
       "3423   33218         0.0    2013-01-29         Father Bonifasi         322   \n",
       "54631  66627        50.0    2011-04-02        District Council         673   \n",
       "45927  15802         0.0    2013-01-18  Government Of Tanzania         399   \n",
       "36312   5730         0.0    2011-04-06                    Kkkt           0   \n",
       "12769  58904         0.0    2013-02-25                  Dagida         770   \n",
       "24493  46310        50.0    2013-03-04          Isf/government         917   \n",
       "\n",
       "                       installer  longitude   latitude          wpt_name  \\\n",
       "50352                  Water Aid  32.593720  -4.893143       Mzee Chenya   \n",
       "38151                        DWE  36.638099  -3.328982   Shule Ya Msingi   \n",
       "52055                        DWE  35.113614  -8.191238              none   \n",
       "51188                        DWE  37.352803  -2.872662            Mbauti   \n",
       "3423             Ndanda missions  38.997835 -10.329447          Nnonjela   \n",
       "54631        Handeni Trunk Main(  38.070011  -5.479040       Kwa Kizembe   \n",
       "45927  District Water Department  37.996211 -10.522227         Kwa Moris   \n",
       "36312                       KKKT  33.163198  -9.238529       Kwa Lingson   \n",
       "12769                        DWE  36.118049 -10.880405  Kwa Robert Komba   \n",
       "24493             ISF/Government  37.674027  -3.997037         Migungani   \n",
       "\n",
       "       num_private  ... water_quality quality_group      quantity  \\\n",
       "50352            0  ...          soft          good  insufficient   \n",
       "38151            0  ...          soft          good  insufficient   \n",
       "52055            0  ...          soft          good        enough   \n",
       "51188            0  ...          soft          good  insufficient   \n",
       "3423             0  ...          soft          good        enough   \n",
       "54631           20  ...          soft          good        enough   \n",
       "45927            0  ...          soft          good  insufficient   \n",
       "36312            0  ...          soft          good        enough   \n",
       "12769            0  ...          soft          good           dry   \n",
       "24493            0  ...         salty         salty  insufficient   \n",
       "\n",
       "       quantity_group        source   source_type source_class  \\\n",
       "50352    insufficient   machine dbh      borehole  groundwater   \n",
       "38151    insufficient        spring        spring  groundwater   \n",
       "52055          enough      hand dtw      borehole  groundwater   \n",
       "51188    insufficient         river    river/lake      surface   \n",
       "3423           enough   machine dbh      borehole  groundwater   \n",
       "54631          enough         river    river/lake      surface   \n",
       "45927    insufficient   machine dbh      borehole  groundwater   \n",
       "36312          enough  shallow well  shallow well  groundwater   \n",
       "12769             dry         river    river/lake      surface   \n",
       "24493    insufficient   machine dbh      borehole  groundwater   \n",
       "\n",
       "          waterpoint_type waterpoint_type_group    status_group  \n",
       "50352           hand pump             hand pump      functional  \n",
       "38151  communal standpipe    communal standpipe  non functional  \n",
       "52055           hand pump             hand pump      functional  \n",
       "51188       cattle trough         cattle trough      functional  \n",
       "3423   communal standpipe    communal standpipe  non functional  \n",
       "54631  communal standpipe    communal standpipe      functional  \n",
       "45927  communal standpipe    communal standpipe  non functional  \n",
       "36312           hand pump             hand pump      functional  \n",
       "12769  communal standpipe    communal standpipe  non functional  \n",
       "24493  communal standpipe    communal standpipe      functional  \n",
       "\n",
       "[10 rows x 41 columns]"
      ]
     },
     "execution_count": 545,
     "metadata": {},
     "output_type": "execute_result"
    }
   ],
   "source": [
    "df.sample(n=10)"
   ]
  },
  {
   "cell_type": "markdown",
   "metadata": {},
   "source": [
    "- On inspection, some columns e.g `quantity` and `quantity_group` seem to have identical information. Thus, we first verify if indeed this is the case"
   ]
  },
  {
   "cell_type": "code",
   "execution_count": 546,
   "metadata": {},
   "outputs": [
    {
     "name": "stdout",
     "output_type": "stream",
     "text": [
      "Columns are identical: True\n"
     ]
    }
   ],
   "source": [
    "# Check if columns are identical\n",
    "are_identical = (df['quantity'] == df['quantity_group']).all()\n",
    "\n",
    "print(\"Columns are identical:\", are_identical)"
   ]
  },
  {
   "cell_type": "markdown",
   "metadata": {},
   "source": [
    "### Column Inspection Comparison\n",
    "\n",
    "To streamline our dataset and remove redundancy, we will perform the following steps:\n",
    "\n",
    "1. **Identify Columns with Similar Names or Descriptions**  \n",
    "   We'll start by identifying columns that have similar names or descriptions. This helps us determine which columns might contain overlapping information.\n",
    "\n",
    "2. **Compare Column Content**  \n",
    "   For columns identified as similar, we will conduct further checks to compare their content. This involves:\n",
    "   - **Exact Equality Check**: Verifying if the values in the columns are identical for each row.\n",
    "   - **Handling Missing Values**: Ensuring that missing values are considered in the comparison.\n",
    "   \n",
    "3. **Trim Down the Dataset**  \n",
    "   Based on the comparison results, we will:\n",
    "   - **Remove Redundant Columns**: Eliminate columns that contain duplicate or redundant information.\n",
    "   - **Optimize the Dataset**: Reduce the dataset size and complexity by retaining only the necessary columns.\n",
    "\n",
    "By following these steps, we will improve the quality and efficiency of our dataset, ensuring that we work with clean and relevant data.\n"
   ]
  },
  {
   "cell_type": "code",
   "execution_count": 547,
   "metadata": {},
   "outputs": [],
   "source": [
    "# list to compile all redundant columns to remove on the test dataset as well\n",
    "redundant_cols = []"
   ]
  },
  {
   "cell_type": "code",
   "execution_count": 548,
   "metadata": {},
   "outputs": [
    {
     "data": {
      "text/plain": [
       "Index(['id', 'amount_tsh', 'date_recorded', 'funder', 'gps_height',\n",
       "       'installer', 'longitude', 'latitude', 'wpt_name', 'num_private',\n",
       "       'basin', 'subvillage', 'region', 'region_code', 'district_code', 'lga',\n",
       "       'ward', 'population', 'public_meeting', 'recorded_by',\n",
       "       'scheme_management', 'scheme_name', 'permit', 'construction_year',\n",
       "       'extraction_type', 'extraction_type_group', 'extraction_type_class',\n",
       "       'management', 'management_group', 'payment', 'payment_type',\n",
       "       'water_quality', 'quality_group', 'quantity', 'quantity_group',\n",
       "       'source', 'source_type', 'source_class', 'waterpoint_type',\n",
       "       'waterpoint_type_group', 'status_group'],\n",
       "      dtype='object')"
      ]
     },
     "execution_count": 548,
     "metadata": {},
     "output_type": "execute_result"
    }
   ],
   "source": [
    "df.columns"
   ]
  },
  {
   "cell_type": "code",
   "execution_count": 549,
   "metadata": {},
   "outputs": [
    {
     "data": {
      "text/html": [
       "<div>\n",
       "<style scoped>\n",
       "    .dataframe tbody tr th:only-of-type {\n",
       "        vertical-align: middle;\n",
       "    }\n",
       "\n",
       "    .dataframe tbody tr th {\n",
       "        vertical-align: top;\n",
       "    }\n",
       "\n",
       "    .dataframe thead th {\n",
       "        text-align: right;\n",
       "    }\n",
       "</style>\n",
       "<table border=\"1\" class=\"dataframe\">\n",
       "  <thead>\n",
       "    <tr style=\"text-align: right;\">\n",
       "      <th></th>\n",
       "      <th>subvillage</th>\n",
       "      <th>region</th>\n",
       "      <th>region_code</th>\n",
       "      <th>district_code</th>\n",
       "      <th>lga</th>\n",
       "      <th>ward</th>\n",
       "    </tr>\n",
       "  </thead>\n",
       "  <tbody>\n",
       "    <tr>\n",
       "      <th>0</th>\n",
       "      <td>Mnyusi B</td>\n",
       "      <td>Iringa</td>\n",
       "      <td>11</td>\n",
       "      <td>5</td>\n",
       "      <td>Ludewa</td>\n",
       "      <td>Mundindi</td>\n",
       "    </tr>\n",
       "    <tr>\n",
       "      <th>1</th>\n",
       "      <td>Nyamara</td>\n",
       "      <td>Mara</td>\n",
       "      <td>20</td>\n",
       "      <td>2</td>\n",
       "      <td>Serengeti</td>\n",
       "      <td>Natta</td>\n",
       "    </tr>\n",
       "    <tr>\n",
       "      <th>2</th>\n",
       "      <td>Majengo</td>\n",
       "      <td>Manyara</td>\n",
       "      <td>21</td>\n",
       "      <td>4</td>\n",
       "      <td>Simanjiro</td>\n",
       "      <td>Ngorika</td>\n",
       "    </tr>\n",
       "    <tr>\n",
       "      <th>3</th>\n",
       "      <td>Mahakamani</td>\n",
       "      <td>Mtwara</td>\n",
       "      <td>90</td>\n",
       "      <td>63</td>\n",
       "      <td>Nanyumbu</td>\n",
       "      <td>Nanyumbu</td>\n",
       "    </tr>\n",
       "    <tr>\n",
       "      <th>4</th>\n",
       "      <td>Kyanyamisa</td>\n",
       "      <td>Kagera</td>\n",
       "      <td>18</td>\n",
       "      <td>1</td>\n",
       "      <td>Karagwe</td>\n",
       "      <td>Nyakasimbi</td>\n",
       "    </tr>\n",
       "  </tbody>\n",
       "</table>\n",
       "</div>"
      ],
      "text/plain": [
       "   subvillage   region  region_code  district_code        lga        ward\n",
       "0    Mnyusi B   Iringa           11              5     Ludewa    Mundindi\n",
       "1     Nyamara     Mara           20              2  Serengeti       Natta\n",
       "2     Majengo  Manyara           21              4  Simanjiro     Ngorika\n",
       "3  Mahakamani   Mtwara           90             63   Nanyumbu    Nanyumbu\n",
       "4  Kyanyamisa   Kagera           18              1    Karagwe  Nyakasimbi"
      ]
     },
     "execution_count": 549,
     "metadata": {},
     "output_type": "execute_result"
    }
   ],
   "source": [
    "locations = ['subvillage','region','region_code','district_code','lga','ward']\n",
    "df[locations].head()"
   ]
  },
  {
   "cell_type": "code",
   "execution_count": 550,
   "metadata": {},
   "outputs": [
    {
     "data": {
      "text/plain": [
       "count    59400.000000\n",
       "mean        15.297003\n",
       "std         17.587406\n",
       "min          1.000000\n",
       "25%          5.000000\n",
       "50%         12.000000\n",
       "75%         17.000000\n",
       "max         99.000000\n",
       "Name: region_code, dtype: float64"
      ]
     },
     "execution_count": 550,
     "metadata": {},
     "output_type": "execute_result"
    }
   ],
   "source": [
    "df['region_code'].describe()"
   ]
  },
  {
   "cell_type": "markdown",
   "metadata": {},
   "source": []
  },
  {
   "cell_type": "code",
   "execution_count": 551,
   "metadata": {},
   "outputs": [
    {
     "name": "stdout",
     "output_type": "stream",
     "text": [
      "Column : subvillage, Unique values : 19288\n",
      "Column : region, Unique values : 21\n",
      "Column : region_code, Unique values : 27\n",
      "Column : district_code, Unique values : 20\n",
      "Column : lga, Unique values : 125\n",
      "Column : ward, Unique values : 2092\n"
     ]
    }
   ],
   "source": [
    "for element in locations:\n",
    "        print(f\"Column : {element}, Unique values : {len(df[element].unique())}\")"
   ]
  },
  {
   "cell_type": "markdown",
   "metadata": {},
   "source": [
    "## Column Selection for Logistic Regression and Decision Tree Models\n",
    "\n",
    "### 1. Categorical Variables\n",
    "\n",
    "- **Decision Trees**: Handle categorical variables well. You can use all categorical columns directly as decision trees can split on different categories without numerical encoding.\n",
    "  \n",
    "- **Logistic Regression**: Requires numerical input. Categorical variables need to be encoded into numerical formats, typically using one-hot encoding or label encoding.\n",
    "\n",
    "### 2. Column Selection\n",
    "\n",
    "- **`subvillage`**: 19,288 unique values\n",
    "  - **Note**: High cardinality may make this column challenging to encode and could lead to overfitting. Consider not using it directly.\n",
    "\n",
    "- **`region`**: 21 unique values\n",
    "  - **Note**: Moderate number of categories. Can be encoded using one-hot encoding or label encoding.\n",
    "\n",
    "- **`region_code`**: 27 unique values\n",
    "  - **Note**: Similar to `region`, this column has a manageable number of categories and can be used after encoding.\n",
    "\n",
    "- **`district_code`**: 20 unique values\n",
    "  - **Note**: Manageable number of categories. Suitable for encoding.\n",
    "\n",
    "- **`lga`**: 125 unique values\n",
    "  - **Note**: High number of unique values, which may be challenging for encoding and could lead to overfitting.\n",
    "\n",
    "- **`ward`**: 2,092 unique values\n",
    "  - **Note**: Very high cardinality, potentially problematic for encoding and may not provide much predictive value.\n",
    "\n",
    "### Recommendations\n",
    "\n",
    "- **Decision Trees**: You can use all columns directly. Decision trees handle categorical variables well and can manage high-cardinality features without extensive preprocessing.\n",
    "\n",
    "- **Logistic Regression**:\n",
    "  - **Use Columns with Fewer Unique Values**: Start with  `region_code`, `district_code`, and `lga` due to their more manageable number of unique values.\n",
    "  - **Consider Feature Reduction**: Avoid using `subvillage` and `ward` directly because of their high cardinality. Consider aggregating or grouping these columns to reduce the number of unique values.\n",
    "  - **One-Hot Encoding**: Apply one-hot encoding for categorical columns that have a manageable number of unique values.\n"
   ]
  },
  {
   "cell_type": "markdown",
   "metadata": {},
   "source": [
    "- All this seem to show information about geographical location. From inspection, `district_code` and `region_code` seem to be the most suitable since they are codes of locations and have relatively fewer classes (80 for `district_code`, 100 for `region_code`)"
   ]
  },
  {
   "cell_type": "code",
   "execution_count": 552,
   "metadata": {},
   "outputs": [
    {
     "data": {
      "text/plain": [
       "Index(['id', 'amount_tsh', 'date_recorded', 'funder', 'gps_height',\n",
       "       'installer', 'longitude', 'latitude', 'wpt_name', 'num_private',\n",
       "       'basin', 'region_code', 'district_code', 'lga', 'population',\n",
       "       'public_meeting', 'recorded_by', 'scheme_management', 'scheme_name',\n",
       "       'permit', 'construction_year', 'extraction_type',\n",
       "       'extraction_type_group', 'extraction_type_class', 'management',\n",
       "       'management_group', 'payment', 'payment_type', 'water_quality',\n",
       "       'quality_group', 'quantity', 'quantity_group', 'source', 'source_type',\n",
       "       'source_class', 'waterpoint_type', 'waterpoint_type_group',\n",
       "       'status_group'],\n",
       "      dtype='object')"
      ]
     },
     "execution_count": 552,
     "metadata": {},
     "output_type": "execute_result"
    }
   ],
   "source": [
    "df_concise = df.drop(['subvillage', 'ward','region'], axis = 1)\n",
    "df_concise.columns"
   ]
  },
  {
   "cell_type": "code",
   "execution_count": 553,
   "metadata": {},
   "outputs": [],
   "source": [
    "redundant_cols += ['subvillage','region','ward']"
   ]
  },
  {
   "cell_type": "markdown",
   "metadata": {},
   "source": [
    "## We create a function to display relevant info for other similar columns...\n"
   ]
  },
  {
   "cell_type": "code",
   "execution_count": 583,
   "metadata": {},
   "outputs": [],
   "source": [
    "def column_info(similar_cols):\n",
    "    for element in similar_cols:\n",
    "        print(f\"Column : {element}, Unique values : {len(df[element].unique())}\")\n",
    "    for element in range(len(similar_cols)):\n",
    "        print (f\"Column: {similar_cols[element]}\")\n",
    "        for row in df_concise[similar_cols[element]].unique():\n",
    "            print(row)\n",
    "        print('\\n')\n"
   ]
  },
  {
   "cell_type": "code",
   "execution_count": 555,
   "metadata": {},
   "outputs": [],
   "source": [
    "\n",
    "#df_concise = df.drop(['subvillage','region','ward'], axis = 1)\n"
   ]
  },
  {
   "cell_type": "code",
   "execution_count": null,
   "metadata": {},
   "outputs": [],
   "source": []
  },
  {
   "cell_type": "markdown",
   "metadata": {},
   "source": [
    "Next up...\n",
    "- **extraction_type**: The kind of extraction method the waterpoint uses\n",
    "- **extraction_type_group**: The extraction type grouped by similar methods\n",
    "- **extraction_type_class**: The extraction type categorized into broader classes"
   ]
  },
  {
   "cell_type": "code",
   "execution_count": 556,
   "metadata": {},
   "outputs": [
    {
     "name": "stdout",
     "output_type": "stream",
     "text": [
      "Column : extraction_type, Unique values : 18\n",
      "Column : extraction_type_group, Unique values : 13\n",
      "Column : extraction_type_class, Unique values : 7\n",
      "Column: extraction_type\n",
      "gravity\n",
      "submersible\n",
      "swn 80\n",
      "nira/tanira\n",
      "india mark ii\n",
      "other\n",
      "ksb\n",
      "mono\n",
      "windmill\n",
      "afridev\n",
      "other - rope pump\n",
      "india mark iii\n",
      "other - swn 81\n",
      "other - play pump\n",
      "cemo\n",
      "climax\n",
      "walimi\n",
      "other - mkulima/shinyanga\n",
      "\n",
      "\n",
      "Column: extraction_type_group\n",
      "gravity\n",
      "submersible\n",
      "swn 80\n",
      "nira/tanira\n",
      "india mark ii\n",
      "other\n",
      "mono\n",
      "wind-powered\n",
      "afridev\n",
      "rope pump\n",
      "india mark iii\n",
      "other handpump\n",
      "other motorpump\n",
      "\n",
      "\n",
      "Column: extraction_type_class\n",
      "gravity\n",
      "submersible\n",
      "handpump\n",
      "other\n",
      "motorpump\n",
      "wind-powered\n",
      "rope pump\n",
      "\n",
      "\n"
     ]
    }
   ],
   "source": [
    "extraction = ['extraction_type','extraction_type_group','extraction_type_class']\n",
    "column_info(extraction)"
   ]
  },
  {
   "cell_type": "markdown",
   "metadata": {},
   "source": [
    "# IMP\n",
    "- we settle on `extraction_type_class`\n"
   ]
  },
  {
   "cell_type": "code",
   "execution_count": 557,
   "metadata": {},
   "outputs": [],
   "source": [
    "df_concise = df_concise.drop(['extraction_type','extraction_type_group'], axis = 1)\n"
   ]
  },
  {
   "cell_type": "code",
   "execution_count": 558,
   "metadata": {},
   "outputs": [],
   "source": [
    "redundant_cols += ['extraction_type','extraction_type_group']"
   ]
  },
  {
   "cell_type": "markdown",
   "metadata": {},
   "source": [
    "Next up...\n",
    "- **management**: How the waterpoint is managed\n",
    "- **management_group**: The management grouped into broader categories"
   ]
  },
  {
   "cell_type": "code",
   "execution_count": 559,
   "metadata": {},
   "outputs": [
    {
     "name": "stdout",
     "output_type": "stream",
     "text": [
      "Column : management, Unique values : 12\n",
      "Column : management_group, Unique values : 5\n",
      "Column: management\n",
      "vwc\n",
      "wug\n",
      "other\n",
      "private operator\n",
      "water board\n",
      "wua\n",
      "company\n",
      "water authority\n",
      "parastatal\n",
      "unknown\n",
      "other - school\n",
      "trust\n",
      "\n",
      "\n",
      "Column: management_group\n",
      "user-group\n",
      "other\n",
      "commercial\n",
      "parastatal\n",
      "unknown\n",
      "\n",
      "\n"
     ]
    }
   ],
   "source": [
    "management = ['management','management_group']\n",
    "column_info(management)"
   ]
  },
  {
   "cell_type": "markdown",
   "metadata": {},
   "source": [
    "# IMP\n",
    "- we settle on `management_group`\n"
   ]
  },
  {
   "cell_type": "code",
   "execution_count": 560,
   "metadata": {},
   "outputs": [
    {
     "data": {
      "text/plain": [
       "Index(['id', 'amount_tsh', 'date_recorded', 'funder', 'gps_height',\n",
       "       'installer', 'longitude', 'latitude', 'wpt_name', 'num_private',\n",
       "       'basin', 'region_code', 'district_code', 'lga', 'population',\n",
       "       'public_meeting', 'recorded_by', 'scheme_management', 'scheme_name',\n",
       "       'permit', 'construction_year', 'extraction_type_class',\n",
       "       'management_group', 'payment', 'payment_type', 'water_quality',\n",
       "       'quality_group', 'quantity', 'quantity_group', 'source', 'source_type',\n",
       "       'source_class', 'waterpoint_type', 'waterpoint_type_group',\n",
       "       'status_group'],\n",
       "      dtype='object')"
      ]
     },
     "execution_count": 560,
     "metadata": {},
     "output_type": "execute_result"
    }
   ],
   "source": [
    "df_concise = df_concise.drop(['management'], axis = 1)\n",
    "df_concise.columns"
   ]
  },
  {
   "cell_type": "code",
   "execution_count": 561,
   "metadata": {},
   "outputs": [],
   "source": [
    "redundant_cols.append('management')"
   ]
  },
  {
   "cell_type": "markdown",
   "metadata": {},
   "source": [
    "Next up...\n",
    "- **payment**: The cost structure of the water\n",
    "- **payment_type**: The specific type of payment method"
   ]
  },
  {
   "cell_type": "code",
   "execution_count": 562,
   "metadata": {},
   "outputs": [
    {
     "name": "stdout",
     "output_type": "stream",
     "text": [
      "Column : payment, Unique values : 7\n",
      "Column : payment_type, Unique values : 7\n",
      "Column: payment\n",
      "pay annually\n",
      "never pay\n",
      "pay per bucket\n",
      "unknown\n",
      "pay when scheme fails\n",
      "other\n",
      "pay monthly\n",
      "\n",
      "\n",
      "Column: payment_type\n",
      "annually\n",
      "never pay\n",
      "per bucket\n",
      "unknown\n",
      "on failure\n",
      "other\n",
      "monthly\n",
      "\n",
      "\n"
     ]
    }
   ],
   "source": [
    "payment = ['payment', 'payment_type']\n",
    "column_info(payment)\n",
    "    "
   ]
  },
  {
   "cell_type": "markdown",
   "metadata": {},
   "source": [
    "# IMP\n",
    "- we settle on `payment_type`\n"
   ]
  },
  {
   "cell_type": "code",
   "execution_count": 563,
   "metadata": {},
   "outputs": [],
   "source": [
    "df_concise = df_concise.drop(['payment'], axis = 1)\n"
   ]
  },
  {
   "cell_type": "code",
   "execution_count": 564,
   "metadata": {},
   "outputs": [],
   "source": [
    "redundant_cols.append('payment')"
   ]
  },
  {
   "cell_type": "code",
   "execution_count": 565,
   "metadata": {},
   "outputs": [
    {
     "data": {
      "text/plain": [
       "Index(['id', 'amount_tsh', 'date_recorded', 'funder', 'gps_height',\n",
       "       'installer', 'longitude', 'latitude', 'wpt_name', 'num_private',\n",
       "       'basin', 'region_code', 'district_code', 'lga', 'population',\n",
       "       'public_meeting', 'recorded_by', 'scheme_management', 'scheme_name',\n",
       "       'permit', 'construction_year', 'extraction_type_class',\n",
       "       'management_group', 'payment_type', 'water_quality', 'quality_group',\n",
       "       'quantity', 'quantity_group', 'source', 'source_type', 'source_class',\n",
       "       'waterpoint_type', 'waterpoint_type_group', 'status_group'],\n",
       "      dtype='object')"
      ]
     },
     "execution_count": 565,
     "metadata": {},
     "output_type": "execute_result"
    }
   ],
   "source": [
    "df_concise.columns"
   ]
  },
  {
   "cell_type": "markdown",
   "metadata": {},
   "source": [
    "Next up...\n",
    "- **water_quality**: The quality of the water\n",
    "- **quality_group**: The quality grouped by similar qualities\n"
   ]
  },
  {
   "cell_type": "code",
   "execution_count": 566,
   "metadata": {},
   "outputs": [
    {
     "name": "stdout",
     "output_type": "stream",
     "text": [
      "Column : water_quality, Unique values : 8\n",
      "Column : quality_group, Unique values : 6\n",
      "Column: water_quality\n",
      "soft\n",
      "salty\n",
      "milky\n",
      "unknown\n",
      "fluoride\n",
      "coloured\n",
      "salty abandoned\n",
      "fluoride abandoned\n",
      "\n",
      "\n",
      "Column: quality_group\n",
      "good\n",
      "salty\n",
      "milky\n",
      "unknown\n",
      "fluoride\n",
      "colored\n",
      "\n",
      "\n"
     ]
    }
   ],
   "source": [
    "water_quality = ['water_quality','quality_group']\n",
    "column_info(water_quality)"
   ]
  },
  {
   "cell_type": "markdown",
   "metadata": {},
   "source": [
    "# IMP\n",
    "- we settle on `quality_group`\n"
   ]
  },
  {
   "cell_type": "code",
   "execution_count": 567,
   "metadata": {},
   "outputs": [
    {
     "data": {
      "text/plain": [
       "Index(['id', 'amount_tsh', 'date_recorded', 'funder', 'gps_height',\n",
       "       'installer', 'longitude', 'latitude', 'wpt_name', 'num_private',\n",
       "       'basin', 'region_code', 'district_code', 'lga', 'population',\n",
       "       'public_meeting', 'recorded_by', 'scheme_management', 'scheme_name',\n",
       "       'permit', 'construction_year', 'extraction_type_class',\n",
       "       'management_group', 'payment_type', 'quality_group', 'quantity',\n",
       "       'quantity_group', 'source', 'source_type', 'source_class',\n",
       "       'waterpoint_type', 'waterpoint_type_group', 'status_group'],\n",
       "      dtype='object')"
      ]
     },
     "execution_count": 567,
     "metadata": {},
     "output_type": "execute_result"
    }
   ],
   "source": [
    "df_concise = df_concise.drop(['water_quality'], axis = 1)\n",
    "df_concise.columns"
   ]
  },
  {
   "cell_type": "code",
   "execution_count": 568,
   "metadata": {},
   "outputs": [],
   "source": [
    "redundant_cols.append('water_quality')"
   ]
  },
  {
   "cell_type": "markdown",
   "metadata": {},
   "source": [
    "Next up...\n",
    "- **quantity**: The quantity of water\n",
    "- **quantity_group**: The quantity grouped by similar quantities"
   ]
  },
  {
   "cell_type": "code",
   "execution_count": 569,
   "metadata": {},
   "outputs": [
    {
     "name": "stdout",
     "output_type": "stream",
     "text": [
      "Column : quantity, Unique values : 5\n",
      "Column : quantity_group, Unique values : 5\n",
      "Column: quantity\n",
      "enough\n",
      "insufficient\n",
      "dry\n",
      "seasonal\n",
      "unknown\n",
      "\n",
      "\n",
      "Column: quantity_group\n",
      "enough\n",
      "insufficient\n",
      "dry\n",
      "seasonal\n",
      "unknown\n",
      "\n",
      "\n"
     ]
    }
   ],
   "source": [
    "water_quanity = ['quantity','quantity_group']\n",
    "column_info(water_quanity)"
   ]
  },
  {
   "cell_type": "code",
   "execution_count": 570,
   "metadata": {},
   "outputs": [
    {
     "name": "stdout",
     "output_type": "stream",
     "text": [
      "Columns are identical: True\n"
     ]
    }
   ],
   "source": [
    "# Check if columns are identical\n",
    "are_identical = (df_concise['quantity'] == df_concise['quantity_group']).all()\n",
    "\n",
    "print(\"Columns are identical:\", are_identical)"
   ]
  },
  {
   "cell_type": "markdown",
   "metadata": {},
   "source": [
    "# IMP\n",
    "- we settle on `quantity_group`\n"
   ]
  },
  {
   "cell_type": "code",
   "execution_count": 571,
   "metadata": {},
   "outputs": [
    {
     "data": {
      "text/plain": [
       "Index(['id', 'amount_tsh', 'date_recorded', 'funder', 'gps_height',\n",
       "       'installer', 'longitude', 'latitude', 'wpt_name', 'num_private',\n",
       "       'basin', 'region_code', 'district_code', 'lga', 'population',\n",
       "       'public_meeting', 'recorded_by', 'scheme_management', 'scheme_name',\n",
       "       'permit', 'construction_year', 'extraction_type_class',\n",
       "       'management_group', 'payment_type', 'quality_group', 'quantity_group',\n",
       "       'source', 'source_type', 'source_class', 'waterpoint_type',\n",
       "       'waterpoint_type_group', 'status_group'],\n",
       "      dtype='object')"
      ]
     },
     "execution_count": 571,
     "metadata": {},
     "output_type": "execute_result"
    }
   ],
   "source": [
    "df_concise = df_concise.drop(['quantity'], axis = 1)\n",
    "df_concise.columns"
   ]
  },
  {
   "cell_type": "code",
   "execution_count": 572,
   "metadata": {},
   "outputs": [],
   "source": [
    "redundant_cols.append('quantity')"
   ]
  },
  {
   "cell_type": "markdown",
   "metadata": {},
   "source": [
    "Next up...\n",
    "- **source**: The source of the water\n",
    "- **source_type**: The type of water source\n",
    "- **source_class**: The broader class of the water source"
   ]
  },
  {
   "cell_type": "code",
   "execution_count": 573,
   "metadata": {},
   "outputs": [
    {
     "name": "stdout",
     "output_type": "stream",
     "text": [
      "Column : source, Unique values : 10\n",
      "Column : source_type, Unique values : 7\n",
      "Column : source_class, Unique values : 3\n",
      "Column: source\n",
      "spring\n",
      "rainwater harvesting\n",
      "dam\n",
      "machine dbh\n",
      "other\n",
      "shallow well\n",
      "river\n",
      "hand dtw\n",
      "lake\n",
      "unknown\n",
      "\n",
      "\n",
      "Column: source_type\n",
      "spring\n",
      "rainwater harvesting\n",
      "dam\n",
      "borehole\n",
      "other\n",
      "shallow well\n",
      "river/lake\n",
      "\n",
      "\n",
      "Column: source_class\n",
      "groundwater\n",
      "surface\n",
      "unknown\n",
      "\n",
      "\n"
     ]
    }
   ],
   "source": [
    "source = ['source','source_type','source_class']\n",
    "column_info(source)"
   ]
  },
  {
   "cell_type": "markdown",
   "metadata": {},
   "source": [
    "### Recommendation for Dropping Columns\n",
    "\n",
    "- **Drop `source`**: Since `source` contains the most detailed level of information and has the highest number of unique values, it could introduce more complexity without adding significant predictive power compared to `source_type`. The fine granularity may also lead to overfitting, especially in logistic regression.\n",
    "\n",
    "- **Keep `source_class`**: This column has the least number of unique values, making it simple to encode and interpret. It provides high-level, general information that could be useful for both logistic regression and decision trees without adding much complexity.\n",
    "\n",
    "- **Keep `source_type`**: This column offers a balance between detail and simplicity with 7 unique values. It provides more information than `source_class` but is less granular than `source`. This could be useful depending on the specific needs of your model.\n",
    "\n",
    "### Final Recommendations\n",
    "\n",
    "- **For Decision Trees**: Keep both `source_class` and `source_type`. Decision trees handle categorical variables well, and having both columns could help the model learn from both general and more specific information.\n",
    "\n",
    "- **For Logistic Regression**: Drop `source` and use `source_class` and `source_type`. These two columns are simpler to encode and reduce the risk of multicollinearity and overfitting due to fewer unique values.\n"
   ]
  },
  {
   "cell_type": "code",
   "execution_count": 574,
   "metadata": {},
   "outputs": [
    {
     "data": {
      "text/plain": [
       "Index(['id', 'amount_tsh', 'date_recorded', 'funder', 'gps_height',\n",
       "       'installer', 'longitude', 'latitude', 'wpt_name', 'num_private',\n",
       "       'basin', 'region_code', 'district_code', 'lga', 'population',\n",
       "       'public_meeting', 'recorded_by', 'scheme_management', 'scheme_name',\n",
       "       'permit', 'construction_year', 'extraction_type_class',\n",
       "       'management_group', 'payment_type', 'quality_group', 'quantity_group',\n",
       "       'source_type', 'source_class', 'waterpoint_type',\n",
       "       'waterpoint_type_group', 'status_group'],\n",
       "      dtype='object')"
      ]
     },
     "execution_count": 574,
     "metadata": {},
     "output_type": "execute_result"
    }
   ],
   "source": [
    "df_concise = df_concise.drop(['source'], axis = 1)\n",
    "df_concise.columns"
   ]
  },
  {
   "cell_type": "code",
   "execution_count": 575,
   "metadata": {},
   "outputs": [],
   "source": [
    "redundant_cols.append('source')"
   ]
  },
  {
   "cell_type": "markdown",
   "metadata": {},
   "source": [
    "Next up...\n",
    "- **waterpoint_type**: The specific type of waterpoint\n",
    "- **waterpoint_type_group**: The type of waterpoint grouped by similar types\n"
   ]
  },
  {
   "cell_type": "code",
   "execution_count": 576,
   "metadata": {},
   "outputs": [
    {
     "name": "stdout",
     "output_type": "stream",
     "text": [
      "Column : waterpoint_type, Unique values : 7\n",
      "Column : waterpoint_type_group, Unique values : 6\n",
      "Column: waterpoint_type\n",
      "communal standpipe\n",
      "communal standpipe multiple\n",
      "hand pump\n",
      "other\n",
      "improved spring\n",
      "cattle trough\n",
      "dam\n",
      "\n",
      "\n",
      "Column: waterpoint_type_group\n",
      "communal standpipe\n",
      "hand pump\n",
      "other\n",
      "improved spring\n",
      "cattle trough\n",
      "dam\n",
      "\n",
      "\n"
     ]
    }
   ],
   "source": [
    "waterpoint = ['waterpoint_type','waterpoint_type_group']\n",
    "column_info(waterpoint)"
   ]
  },
  {
   "cell_type": "markdown",
   "metadata": {},
   "source": [
    "# IMP\n",
    "- we settle on `waterpoint_type_group`\n"
   ]
  },
  {
   "cell_type": "code",
   "execution_count": 577,
   "metadata": {},
   "outputs": [
    {
     "data": {
      "text/plain": [
       "Index(['id', 'amount_tsh', 'date_recorded', 'funder', 'gps_height',\n",
       "       'installer', 'longitude', 'latitude', 'wpt_name', 'num_private',\n",
       "       'basin', 'region_code', 'district_code', 'lga', 'population',\n",
       "       'public_meeting', 'recorded_by', 'scheme_management', 'scheme_name',\n",
       "       'permit', 'construction_year', 'extraction_type_class',\n",
       "       'management_group', 'payment_type', 'quality_group', 'quantity_group',\n",
       "       'source_type', 'source_class', 'waterpoint_type_group', 'status_group'],\n",
       "      dtype='object')"
      ]
     },
     "execution_count": 577,
     "metadata": {},
     "output_type": "execute_result"
    }
   ],
   "source": [
    "df_concise = df_concise.drop(['waterpoint_type'], axis = 1)\n",
    "df_concise.columns"
   ]
  },
  {
   "cell_type": "code",
   "execution_count": 578,
   "metadata": {},
   "outputs": [],
   "source": [
    "redundant_cols.append('waterpoint_type')"
   ]
  },
  {
   "cell_type": "code",
   "execution_count": 579,
   "metadata": {},
   "outputs": [
    {
     "data": {
      "text/plain": [
       "30"
      ]
     },
     "execution_count": 579,
     "metadata": {},
     "output_type": "execute_result"
    }
   ],
   "source": [
    "len(df_concise.columns)"
   ]
  },
  {
   "cell_type": "code",
   "execution_count": 580,
   "metadata": {},
   "outputs": [
    {
     "data": {
      "text/plain": [
       "Index(['id', 'amount_tsh', 'date_recorded', 'funder', 'gps_height',\n",
       "       'installer', 'longitude', 'latitude', 'wpt_name', 'num_private',\n",
       "       'basin', 'region_code', 'district_code', 'lga', 'population',\n",
       "       'public_meeting', 'recorded_by', 'scheme_management', 'scheme_name',\n",
       "       'permit', 'construction_year', 'extraction_type_class',\n",
       "       'management_group', 'payment_type', 'quality_group', 'quantity_group',\n",
       "       'source_type', 'source_class', 'waterpoint_type_group', 'status_group'],\n",
       "      dtype='object')"
      ]
     },
     "execution_count": 580,
     "metadata": {},
     "output_type": "execute_result"
    }
   ],
   "source": [
    "df_concise.columns"
   ]
  },
  {
   "cell_type": "markdown",
   "metadata": {},
   "source": [
    "Ascertaining that all redundant columns dropped have been captured\n"
   ]
  },
  {
   "cell_type": "code",
   "execution_count": 581,
   "metadata": {},
   "outputs": [
    {
     "data": {
      "text/plain": [
       "True"
      ]
     },
     "execution_count": 581,
     "metadata": {},
     "output_type": "execute_result"
    }
   ],
   "source": [
    "len(df_concise.columns) == (len(df.columns)- len(redundant_cols))"
   ]
  },
  {
   "cell_type": "code",
   "execution_count": 582,
   "metadata": {},
   "outputs": [
    {
     "data": {
      "text/plain": [
       "['subvillage',\n",
       " 'region',\n",
       " 'ward',\n",
       " 'extraction_type',\n",
       " 'extraction_type_group',\n",
       " 'management',\n",
       " 'payment',\n",
       " 'water_quality',\n",
       " 'quantity',\n",
       " 'source',\n",
       " 'waterpoint_type']"
      ]
     },
     "execution_count": 582,
     "metadata": {},
     "output_type": "execute_result"
    }
   ],
   "source": [
    "redundant_cols"
   ]
  },
  {
   "cell_type": "code",
   "execution_count": null,
   "metadata": {},
   "outputs": [],
   "source": []
  }
 ],
 "metadata": {
  "kernelspec": {
   "display_name": "learn-env",
   "language": "python",
   "name": "python3"
  },
  "language_info": {
   "codemirror_mode": {
    "name": "ipython",
    "version": 3
   },
   "file_extension": ".py",
   "mimetype": "text/x-python",
   "name": "python",
   "nbconvert_exporter": "python",
   "pygments_lexer": "ipython3",
   "version": "3.8.5"
  }
 },
 "nbformat": 4,
 "nbformat_minor": 2
}
