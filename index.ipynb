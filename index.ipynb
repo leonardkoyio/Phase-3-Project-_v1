{
 "cells": [
  {
   "cell_type": "markdown",
   "metadata": {},
   "source": [
    "## Imports"
   ]
  },
  {
   "cell_type": "code",
   "execution_count": 1086,
   "metadata": {},
   "outputs": [],
   "source": [
    "import pandas as pd\n",
    "import numpy as np\n",
    "import matplotlib.pyplot as plt\n",
    "import seaborn as sns\n"
   ]
  },
  {
   "cell_type": "markdown",
   "metadata": {},
   "source": [
    "## Data Loading"
   ]
  },
  {
   "cell_type": "code",
   "execution_count": 1087,
   "metadata": {},
   "outputs": [],
   "source": [
    "df_features= pd.read_csv('data/train_features.csv')\n",
    "df_labels= pd.read_csv('data/train_labels.csv')\n",
    "df_test= pd.read_csv('data/test_values.csv')\n",
    "df_submit = pd.read_csv('data/SubmissionFormat.csv')"
   ]
  },
  {
   "cell_type": "markdown",
   "metadata": {},
   "source": [
    "## EDA And Data Cleaning"
   ]
  },
  {
   "cell_type": "markdown",
   "metadata": {},
   "source": [
    "Comparing the length of the target and the feature dataframes, if they are the same length as expected, The 2 data frames shall be concatenated so as to clean the data effectively."
   ]
  },
  {
   "cell_type": "code",
   "execution_count": 1088,
   "metadata": {},
   "outputs": [
    {
     "data": {
      "text/plain": [
       "True"
      ]
     },
     "execution_count": 1088,
     "metadata": {},
     "output_type": "execute_result"
    }
   ],
   "source": [
    "len(df_features) == len(df_labels)"
   ]
  },
  {
   "cell_type": "code",
   "execution_count": 1089,
   "metadata": {},
   "outputs": [
    {
     "data": {
      "text/html": [
       "<div>\n",
       "<style scoped>\n",
       "    .dataframe tbody tr th:only-of-type {\n",
       "        vertical-align: middle;\n",
       "    }\n",
       "\n",
       "    .dataframe tbody tr th {\n",
       "        vertical-align: top;\n",
       "    }\n",
       "\n",
       "    .dataframe thead th {\n",
       "        text-align: right;\n",
       "    }\n",
       "</style>\n",
       "<table border=\"1\" class=\"dataframe\">\n",
       "  <thead>\n",
       "    <tr style=\"text-align: right;\">\n",
       "      <th></th>\n",
       "      <th>id</th>\n",
       "      <th>amount_tsh</th>\n",
       "      <th>date_recorded</th>\n",
       "      <th>funder</th>\n",
       "      <th>gps_height</th>\n",
       "      <th>installer</th>\n",
       "      <th>longitude</th>\n",
       "      <th>latitude</th>\n",
       "      <th>wpt_name</th>\n",
       "      <th>num_private</th>\n",
       "      <th>...</th>\n",
       "      <th>water_quality</th>\n",
       "      <th>quality_group</th>\n",
       "      <th>quantity</th>\n",
       "      <th>quantity_group</th>\n",
       "      <th>source</th>\n",
       "      <th>source_type</th>\n",
       "      <th>source_class</th>\n",
       "      <th>waterpoint_type</th>\n",
       "      <th>waterpoint_type_group</th>\n",
       "      <th>status_group</th>\n",
       "    </tr>\n",
       "  </thead>\n",
       "  <tbody>\n",
       "    <tr>\n",
       "      <th>0</th>\n",
       "      <td>69572</td>\n",
       "      <td>6000.0</td>\n",
       "      <td>2011-03-14</td>\n",
       "      <td>Roman</td>\n",
       "      <td>1390</td>\n",
       "      <td>Roman</td>\n",
       "      <td>34.938093</td>\n",
       "      <td>-9.856322</td>\n",
       "      <td>none</td>\n",
       "      <td>0</td>\n",
       "      <td>...</td>\n",
       "      <td>soft</td>\n",
       "      <td>good</td>\n",
       "      <td>enough</td>\n",
       "      <td>enough</td>\n",
       "      <td>spring</td>\n",
       "      <td>spring</td>\n",
       "      <td>groundwater</td>\n",
       "      <td>communal standpipe</td>\n",
       "      <td>communal standpipe</td>\n",
       "      <td>functional</td>\n",
       "    </tr>\n",
       "    <tr>\n",
       "      <th>1</th>\n",
       "      <td>8776</td>\n",
       "      <td>0.0</td>\n",
       "      <td>2013-03-06</td>\n",
       "      <td>Grumeti</td>\n",
       "      <td>1399</td>\n",
       "      <td>GRUMETI</td>\n",
       "      <td>34.698766</td>\n",
       "      <td>-2.147466</td>\n",
       "      <td>Zahanati</td>\n",
       "      <td>0</td>\n",
       "      <td>...</td>\n",
       "      <td>soft</td>\n",
       "      <td>good</td>\n",
       "      <td>insufficient</td>\n",
       "      <td>insufficient</td>\n",
       "      <td>rainwater harvesting</td>\n",
       "      <td>rainwater harvesting</td>\n",
       "      <td>surface</td>\n",
       "      <td>communal standpipe</td>\n",
       "      <td>communal standpipe</td>\n",
       "      <td>functional</td>\n",
       "    </tr>\n",
       "    <tr>\n",
       "      <th>2</th>\n",
       "      <td>34310</td>\n",
       "      <td>25.0</td>\n",
       "      <td>2013-02-25</td>\n",
       "      <td>Lottery Club</td>\n",
       "      <td>686</td>\n",
       "      <td>World vision</td>\n",
       "      <td>37.460664</td>\n",
       "      <td>-3.821329</td>\n",
       "      <td>Kwa Mahundi</td>\n",
       "      <td>0</td>\n",
       "      <td>...</td>\n",
       "      <td>soft</td>\n",
       "      <td>good</td>\n",
       "      <td>enough</td>\n",
       "      <td>enough</td>\n",
       "      <td>dam</td>\n",
       "      <td>dam</td>\n",
       "      <td>surface</td>\n",
       "      <td>communal standpipe multiple</td>\n",
       "      <td>communal standpipe</td>\n",
       "      <td>functional</td>\n",
       "    </tr>\n",
       "    <tr>\n",
       "      <th>3</th>\n",
       "      <td>67743</td>\n",
       "      <td>0.0</td>\n",
       "      <td>2013-01-28</td>\n",
       "      <td>Unicef</td>\n",
       "      <td>263</td>\n",
       "      <td>UNICEF</td>\n",
       "      <td>38.486161</td>\n",
       "      <td>-11.155298</td>\n",
       "      <td>Zahanati Ya Nanyumbu</td>\n",
       "      <td>0</td>\n",
       "      <td>...</td>\n",
       "      <td>soft</td>\n",
       "      <td>good</td>\n",
       "      <td>dry</td>\n",
       "      <td>dry</td>\n",
       "      <td>machine dbh</td>\n",
       "      <td>borehole</td>\n",
       "      <td>groundwater</td>\n",
       "      <td>communal standpipe multiple</td>\n",
       "      <td>communal standpipe</td>\n",
       "      <td>non functional</td>\n",
       "    </tr>\n",
       "    <tr>\n",
       "      <th>4</th>\n",
       "      <td>19728</td>\n",
       "      <td>0.0</td>\n",
       "      <td>2011-07-13</td>\n",
       "      <td>Action In A</td>\n",
       "      <td>0</td>\n",
       "      <td>Artisan</td>\n",
       "      <td>31.130847</td>\n",
       "      <td>-1.825359</td>\n",
       "      <td>Shuleni</td>\n",
       "      <td>0</td>\n",
       "      <td>...</td>\n",
       "      <td>soft</td>\n",
       "      <td>good</td>\n",
       "      <td>seasonal</td>\n",
       "      <td>seasonal</td>\n",
       "      <td>rainwater harvesting</td>\n",
       "      <td>rainwater harvesting</td>\n",
       "      <td>surface</td>\n",
       "      <td>communal standpipe</td>\n",
       "      <td>communal standpipe</td>\n",
       "      <td>functional</td>\n",
       "    </tr>\n",
       "  </tbody>\n",
       "</table>\n",
       "<p>5 rows × 41 columns</p>\n",
       "</div>"
      ],
      "text/plain": [
       "      id  amount_tsh date_recorded        funder  gps_height     installer  \\\n",
       "0  69572      6000.0    2011-03-14         Roman        1390         Roman   \n",
       "1   8776         0.0    2013-03-06       Grumeti        1399       GRUMETI   \n",
       "2  34310        25.0    2013-02-25  Lottery Club         686  World vision   \n",
       "3  67743         0.0    2013-01-28        Unicef         263        UNICEF   \n",
       "4  19728         0.0    2011-07-13   Action In A           0       Artisan   \n",
       "\n",
       "   longitude   latitude              wpt_name  num_private  ... water_quality  \\\n",
       "0  34.938093  -9.856322                  none            0  ...          soft   \n",
       "1  34.698766  -2.147466              Zahanati            0  ...          soft   \n",
       "2  37.460664  -3.821329           Kwa Mahundi            0  ...          soft   \n",
       "3  38.486161 -11.155298  Zahanati Ya Nanyumbu            0  ...          soft   \n",
       "4  31.130847  -1.825359               Shuleni            0  ...          soft   \n",
       "\n",
       "  quality_group      quantity  quantity_group                source  \\\n",
       "0          good        enough          enough                spring   \n",
       "1          good  insufficient    insufficient  rainwater harvesting   \n",
       "2          good        enough          enough                   dam   \n",
       "3          good           dry             dry           machine dbh   \n",
       "4          good      seasonal        seasonal  rainwater harvesting   \n",
       "\n",
       "            source_type source_class              waterpoint_type  \\\n",
       "0                spring  groundwater           communal standpipe   \n",
       "1  rainwater harvesting      surface           communal standpipe   \n",
       "2                   dam      surface  communal standpipe multiple   \n",
       "3              borehole  groundwater  communal standpipe multiple   \n",
       "4  rainwater harvesting      surface           communal standpipe   \n",
       "\n",
       "  waterpoint_type_group    status_group  \n",
       "0    communal standpipe      functional  \n",
       "1    communal standpipe      functional  \n",
       "2    communal standpipe      functional  \n",
       "3    communal standpipe  non functional  \n",
       "4    communal standpipe      functional  \n",
       "\n",
       "[5 rows x 41 columns]"
      ]
     },
     "execution_count": 1089,
     "metadata": {},
     "output_type": "execute_result"
    }
   ],
   "source": [
    "# concatenating the dataframes\n",
    "df = pd.merge(df_features, df_labels, on='id')\n",
    "df.head()"
   ]
  },
  {
   "cell_type": "code",
   "execution_count": 1090,
   "metadata": {},
   "outputs": [
    {
     "data": {
      "text/plain": [
       "functional                 32259\n",
       "non functional             22824\n",
       "functional needs repair     4317\n",
       "Name: status_group, dtype: int64"
      ]
     },
     "execution_count": 1090,
     "metadata": {},
     "output_type": "execute_result"
    }
   ],
   "source": [
    "#inspecting the target variables\n",
    "df['status_group'].value_counts()"
   ]
  },
  {
   "cell_type": "markdown",
   "metadata": {},
   "source": [
    "This is ternary classification problem since the target has 3 possible values"
   ]
  },
  {
   "cell_type": "markdown",
   "metadata": {},
   "source": [
    "## Exploring the data (EDA)\n"
   ]
  },
  {
   "cell_type": "markdown",
   "metadata": {},
   "source": [
    "df_features.columns"
   ]
  },
  {
   "cell_type": "code",
   "execution_count": 1091,
   "metadata": {},
   "outputs": [
    {
     "data": {
      "text/plain": [
       "Index(['id', 'amount_tsh', 'date_recorded', 'funder', 'gps_height',\n",
       "       'installer', 'longitude', 'latitude', 'wpt_name', 'num_private',\n",
       "       'basin', 'subvillage', 'region', 'region_code', 'district_code', 'lga',\n",
       "       'ward', 'population', 'public_meeting', 'recorded_by',\n",
       "       'scheme_management', 'scheme_name', 'permit', 'construction_year',\n",
       "       'extraction_type', 'extraction_type_group', 'extraction_type_class',\n",
       "       'management', 'management_group', 'payment', 'payment_type',\n",
       "       'water_quality', 'quality_group', 'quantity', 'quantity_group',\n",
       "       'source', 'source_type', 'source_class', 'waterpoint_type',\n",
       "       'waterpoint_type_group'],\n",
       "      dtype='object')"
      ]
     },
     "execution_count": 1091,
     "metadata": {},
     "output_type": "execute_result"
    }
   ],
   "source": [
    "df_features.columns"
   ]
  },
  {
   "cell_type": "markdown",
   "metadata": {},
   "source": [
    "### The Features in This Dataset\n",
    "\n",
    "The following set of information about the waterpoints is provided:\n",
    "\n",
    "- **amount_tsh**: Total static head (amount of water available to the waterpoint)\n",
    "- **date_recorded**: The date the row was entered\n",
    "- **funder**: Who funded the well\n",
    "- **gps_height**: Altitude of the well\n",
    "- **installer**: Organization that installed the well\n",
    "- **longitude**: GPS coordinate\n",
    "- **latitude**: GPS coordinate\n",
    "- **wpt_name**: Name of the waterpoint, if there is one\n",
    "- **num_private**: _(Not specified)_\n",
    "- **basin**: Geographic water basin\n",
    "- **subvillage**: Geographic location\n",
    "- **region**: Geographic location\n",
    "- **region_code**: Geographic location (coded)\n",
    "- **district_code**: Geographic location (coded)\n",
    "- **lga**: Geographic location\n",
    "- **ward**: Geographic location\n",
    "- **population**: Population around the well\n",
    "- **public_meeting**: True/False, indicating if a public meeting was held\n",
    "- **recorded_by**: Group entering this row of data\n",
    "- **scheme_management**: Who operates the waterpoint\n",
    "- **scheme_name**: The name of the management scheme\n",
    "- **permit**: Whether the waterpoint is permitted (True/False)\n",
    "- **construction_year**: Year the waterpoint was constructed\n",
    "- **extraction_type**: The kind of extraction method the waterpoint uses\n",
    "- **extraction_type_group**: The extraction type grouped by similar methods\n",
    "- **extraction_type_class**: The extraction type categorized into broader classes\n",
    "- **management**: How the waterpoint is managed\n",
    "- **management_group**: The management grouped into broader categories\n",
    "- **payment**: The cost structure of the water\n",
    "- **payment_type**: The specific type of payment method\n",
    "- **water_quality**: The quality of the water\n",
    "- **quality_group**: The quality grouped by similar qualities\n",
    "- **quantity**: The quantity of water\n",
    "- **quantity_group**: The quantity grouped by similar quantities\n",
    "- **source**: The source of the water\n",
    "- **source_type**: The type of water source\n",
    "- **source_class**: The broader class of the water source\n",
    "- **waterpoint_type**: The specific type of waterpoint\n",
    "- **waterpoint_type_group**: The type of waterpoint grouped by similar types\n"
   ]
  },
  {
   "cell_type": "markdown",
   "metadata": {},
   "source": []
  },
  {
   "cell_type": "code",
   "execution_count": 1092,
   "metadata": {},
   "outputs": [
    {
     "data": {
      "text/html": [
       "<div>\n",
       "<style scoped>\n",
       "    .dataframe tbody tr th:only-of-type {\n",
       "        vertical-align: middle;\n",
       "    }\n",
       "\n",
       "    .dataframe tbody tr th {\n",
       "        vertical-align: top;\n",
       "    }\n",
       "\n",
       "    .dataframe thead th {\n",
       "        text-align: right;\n",
       "    }\n",
       "</style>\n",
       "<table border=\"1\" class=\"dataframe\">\n",
       "  <thead>\n",
       "    <tr style=\"text-align: right;\">\n",
       "      <th></th>\n",
       "      <th>id</th>\n",
       "      <th>amount_tsh</th>\n",
       "      <th>date_recorded</th>\n",
       "      <th>funder</th>\n",
       "      <th>gps_height</th>\n",
       "      <th>installer</th>\n",
       "      <th>longitude</th>\n",
       "      <th>latitude</th>\n",
       "      <th>wpt_name</th>\n",
       "      <th>num_private</th>\n",
       "      <th>...</th>\n",
       "      <th>water_quality</th>\n",
       "      <th>quality_group</th>\n",
       "      <th>quantity</th>\n",
       "      <th>quantity_group</th>\n",
       "      <th>source</th>\n",
       "      <th>source_type</th>\n",
       "      <th>source_class</th>\n",
       "      <th>waterpoint_type</th>\n",
       "      <th>waterpoint_type_group</th>\n",
       "      <th>status_group</th>\n",
       "    </tr>\n",
       "  </thead>\n",
       "  <tbody>\n",
       "    <tr>\n",
       "      <th>43382</th>\n",
       "      <td>5194</td>\n",
       "      <td>0.0</td>\n",
       "      <td>2012-10-30</td>\n",
       "      <td>Hesawa</td>\n",
       "      <td>1283</td>\n",
       "      <td>DWE</td>\n",
       "      <td>34.049836</td>\n",
       "      <td>-1.976489</td>\n",
       "      <td>Kwa Kilota</td>\n",
       "      <td>0</td>\n",
       "      <td>...</td>\n",
       "      <td>salty</td>\n",
       "      <td>salty</td>\n",
       "      <td>enough</td>\n",
       "      <td>enough</td>\n",
       "      <td>shallow well</td>\n",
       "      <td>shallow well</td>\n",
       "      <td>groundwater</td>\n",
       "      <td>other</td>\n",
       "      <td>other</td>\n",
       "      <td>non functional</td>\n",
       "    </tr>\n",
       "    <tr>\n",
       "      <th>56495</th>\n",
       "      <td>3884</td>\n",
       "      <td>30.0</td>\n",
       "      <td>2013-02-07</td>\n",
       "      <td>Finida German Tanzania Govt</td>\n",
       "      <td>524</td>\n",
       "      <td>Finwater</td>\n",
       "      <td>39.350609</td>\n",
       "      <td>-10.685415</td>\n",
       "      <td>Kwenye Msonobali</td>\n",
       "      <td>0</td>\n",
       "      <td>...</td>\n",
       "      <td>soft</td>\n",
       "      <td>good</td>\n",
       "      <td>insufficient</td>\n",
       "      <td>insufficient</td>\n",
       "      <td>machine dbh</td>\n",
       "      <td>borehole</td>\n",
       "      <td>groundwater</td>\n",
       "      <td>communal standpipe</td>\n",
       "      <td>communal standpipe</td>\n",
       "      <td>functional</td>\n",
       "    </tr>\n",
       "    <tr>\n",
       "      <th>53334</th>\n",
       "      <td>55494</td>\n",
       "      <td>50.0</td>\n",
       "      <td>2013-03-20</td>\n",
       "      <td>0</td>\n",
       "      <td>10</td>\n",
       "      <td>0</td>\n",
       "      <td>39.197464</td>\n",
       "      <td>-6.901730</td>\n",
       "      <td>none</td>\n",
       "      <td>0</td>\n",
       "      <td>...</td>\n",
       "      <td>soft</td>\n",
       "      <td>good</td>\n",
       "      <td>enough</td>\n",
       "      <td>enough</td>\n",
       "      <td>machine dbh</td>\n",
       "      <td>borehole</td>\n",
       "      <td>groundwater</td>\n",
       "      <td>communal standpipe</td>\n",
       "      <td>communal standpipe</td>\n",
       "      <td>functional</td>\n",
       "    </tr>\n",
       "    <tr>\n",
       "      <th>6796</th>\n",
       "      <td>30006</td>\n",
       "      <td>0.0</td>\n",
       "      <td>2013-02-01</td>\n",
       "      <td>Norad</td>\n",
       "      <td>858</td>\n",
       "      <td>DWE</td>\n",
       "      <td>29.779815</td>\n",
       "      <td>-4.977931</td>\n",
       "      <td>Kanisani Anglican</td>\n",
       "      <td>0</td>\n",
       "      <td>...</td>\n",
       "      <td>soft</td>\n",
       "      <td>good</td>\n",
       "      <td>insufficient</td>\n",
       "      <td>insufficient</td>\n",
       "      <td>river</td>\n",
       "      <td>river/lake</td>\n",
       "      <td>surface</td>\n",
       "      <td>communal standpipe multiple</td>\n",
       "      <td>communal standpipe</td>\n",
       "      <td>functional needs repair</td>\n",
       "    </tr>\n",
       "    <tr>\n",
       "      <th>35610</th>\n",
       "      <td>22630</td>\n",
       "      <td>0.0</td>\n",
       "      <td>2011-04-06</td>\n",
       "      <td>NaN</td>\n",
       "      <td>0</td>\n",
       "      <td>NaN</td>\n",
       "      <td>34.378388</td>\n",
       "      <td>-8.767766</td>\n",
       "      <td>Kwa Mzee Chaluta</td>\n",
       "      <td>0</td>\n",
       "      <td>...</td>\n",
       "      <td>soft</td>\n",
       "      <td>good</td>\n",
       "      <td>seasonal</td>\n",
       "      <td>seasonal</td>\n",
       "      <td>river</td>\n",
       "      <td>river/lake</td>\n",
       "      <td>surface</td>\n",
       "      <td>communal standpipe</td>\n",
       "      <td>communal standpipe</td>\n",
       "      <td>functional</td>\n",
       "    </tr>\n",
       "    <tr>\n",
       "      <th>28820</th>\n",
       "      <td>18712</td>\n",
       "      <td>10.0</td>\n",
       "      <td>2013-07-03</td>\n",
       "      <td>Germany Republi</td>\n",
       "      <td>1366</td>\n",
       "      <td>CES</td>\n",
       "      <td>37.132144</td>\n",
       "      <td>-3.218196</td>\n",
       "      <td>Area 9 Namba 22</td>\n",
       "      <td>0</td>\n",
       "      <td>...</td>\n",
       "      <td>soft</td>\n",
       "      <td>good</td>\n",
       "      <td>enough</td>\n",
       "      <td>enough</td>\n",
       "      <td>spring</td>\n",
       "      <td>spring</td>\n",
       "      <td>groundwater</td>\n",
       "      <td>communal standpipe</td>\n",
       "      <td>communal standpipe</td>\n",
       "      <td>functional</td>\n",
       "    </tr>\n",
       "    <tr>\n",
       "      <th>55161</th>\n",
       "      <td>74067</td>\n",
       "      <td>1000.0</td>\n",
       "      <td>2011-03-23</td>\n",
       "      <td>Tasaf</td>\n",
       "      <td>486</td>\n",
       "      <td>TASAF</td>\n",
       "      <td>37.727929</td>\n",
       "      <td>-6.803374</td>\n",
       "      <td>Kwa Mwarabu Mpona</td>\n",
       "      <td>0</td>\n",
       "      <td>...</td>\n",
       "      <td>soft</td>\n",
       "      <td>good</td>\n",
       "      <td>enough</td>\n",
       "      <td>enough</td>\n",
       "      <td>river</td>\n",
       "      <td>river/lake</td>\n",
       "      <td>surface</td>\n",
       "      <td>communal standpipe</td>\n",
       "      <td>communal standpipe</td>\n",
       "      <td>functional</td>\n",
       "    </tr>\n",
       "    <tr>\n",
       "      <th>35551</th>\n",
       "      <td>41548</td>\n",
       "      <td>0.0</td>\n",
       "      <td>2012-10-27</td>\n",
       "      <td>World Vision</td>\n",
       "      <td>0</td>\n",
       "      <td>World vision</td>\n",
       "      <td>32.112961</td>\n",
       "      <td>-3.352269</td>\n",
       "      <td>Ilyamchele</td>\n",
       "      <td>0</td>\n",
       "      <td>...</td>\n",
       "      <td>soft</td>\n",
       "      <td>good</td>\n",
       "      <td>enough</td>\n",
       "      <td>enough</td>\n",
       "      <td>shallow well</td>\n",
       "      <td>shallow well</td>\n",
       "      <td>groundwater</td>\n",
       "      <td>hand pump</td>\n",
       "      <td>hand pump</td>\n",
       "      <td>functional</td>\n",
       "    </tr>\n",
       "    <tr>\n",
       "      <th>41617</th>\n",
       "      <td>66237</td>\n",
       "      <td>0.0</td>\n",
       "      <td>2011-07-29</td>\n",
       "      <td>Hesawa</td>\n",
       "      <td>0</td>\n",
       "      <td>HESAWA</td>\n",
       "      <td>30.618915</td>\n",
       "      <td>-2.475266</td>\n",
       "      <td>Alimesh</td>\n",
       "      <td>0</td>\n",
       "      <td>...</td>\n",
       "      <td>soft</td>\n",
       "      <td>good</td>\n",
       "      <td>enough</td>\n",
       "      <td>enough</td>\n",
       "      <td>spring</td>\n",
       "      <td>spring</td>\n",
       "      <td>groundwater</td>\n",
       "      <td>communal standpipe</td>\n",
       "      <td>communal standpipe</td>\n",
       "      <td>functional</td>\n",
       "    </tr>\n",
       "    <tr>\n",
       "      <th>54181</th>\n",
       "      <td>48200</td>\n",
       "      <td>1500.0</td>\n",
       "      <td>2011-03-17</td>\n",
       "      <td>Rc</td>\n",
       "      <td>2025</td>\n",
       "      <td>RC</td>\n",
       "      <td>34.590578</td>\n",
       "      <td>-9.280556</td>\n",
       "      <td>Inosi Msigwa</td>\n",
       "      <td>0</td>\n",
       "      <td>...</td>\n",
       "      <td>soft</td>\n",
       "      <td>good</td>\n",
       "      <td>enough</td>\n",
       "      <td>enough</td>\n",
       "      <td>spring</td>\n",
       "      <td>spring</td>\n",
       "      <td>groundwater</td>\n",
       "      <td>communal standpipe</td>\n",
       "      <td>communal standpipe</td>\n",
       "      <td>functional</td>\n",
       "    </tr>\n",
       "  </tbody>\n",
       "</table>\n",
       "<p>10 rows × 41 columns</p>\n",
       "</div>"
      ],
      "text/plain": [
       "          id  amount_tsh date_recorded                       funder  \\\n",
       "43382   5194         0.0    2012-10-30                       Hesawa   \n",
       "56495   3884        30.0    2013-02-07  Finida German Tanzania Govt   \n",
       "53334  55494        50.0    2013-03-20                            0   \n",
       "6796   30006         0.0    2013-02-01                        Norad   \n",
       "35610  22630         0.0    2011-04-06                          NaN   \n",
       "28820  18712        10.0    2013-07-03              Germany Republi   \n",
       "55161  74067      1000.0    2011-03-23                        Tasaf   \n",
       "35551  41548         0.0    2012-10-27                 World Vision   \n",
       "41617  66237         0.0    2011-07-29                       Hesawa   \n",
       "54181  48200      1500.0    2011-03-17                           Rc   \n",
       "\n",
       "       gps_height     installer  longitude   latitude           wpt_name  \\\n",
       "43382        1283           DWE  34.049836  -1.976489         Kwa Kilota   \n",
       "56495         524      Finwater  39.350609 -10.685415   Kwenye Msonobali   \n",
       "53334          10             0  39.197464  -6.901730               none   \n",
       "6796          858           DWE  29.779815  -4.977931  Kanisani Anglican   \n",
       "35610           0           NaN  34.378388  -8.767766   Kwa Mzee Chaluta   \n",
       "28820        1366           CES  37.132144  -3.218196    Area 9 Namba 22   \n",
       "55161         486         TASAF  37.727929  -6.803374  Kwa Mwarabu Mpona   \n",
       "35551           0  World vision  32.112961  -3.352269         Ilyamchele   \n",
       "41617           0        HESAWA  30.618915  -2.475266            Alimesh   \n",
       "54181        2025            RC  34.590578  -9.280556       Inosi Msigwa   \n",
       "\n",
       "       num_private  ... water_quality quality_group      quantity  \\\n",
       "43382            0  ...         salty         salty        enough   \n",
       "56495            0  ...          soft          good  insufficient   \n",
       "53334            0  ...          soft          good        enough   \n",
       "6796             0  ...          soft          good  insufficient   \n",
       "35610            0  ...          soft          good      seasonal   \n",
       "28820            0  ...          soft          good        enough   \n",
       "55161            0  ...          soft          good        enough   \n",
       "35551            0  ...          soft          good        enough   \n",
       "41617            0  ...          soft          good        enough   \n",
       "54181            0  ...          soft          good        enough   \n",
       "\n",
       "       quantity_group        source   source_type source_class  \\\n",
       "43382          enough  shallow well  shallow well  groundwater   \n",
       "56495    insufficient   machine dbh      borehole  groundwater   \n",
       "53334          enough   machine dbh      borehole  groundwater   \n",
       "6796     insufficient         river    river/lake      surface   \n",
       "35610        seasonal         river    river/lake      surface   \n",
       "28820          enough        spring        spring  groundwater   \n",
       "55161          enough         river    river/lake      surface   \n",
       "35551          enough  shallow well  shallow well  groundwater   \n",
       "41617          enough        spring        spring  groundwater   \n",
       "54181          enough        spring        spring  groundwater   \n",
       "\n",
       "                   waterpoint_type waterpoint_type_group  \\\n",
       "43382                        other                 other   \n",
       "56495           communal standpipe    communal standpipe   \n",
       "53334           communal standpipe    communal standpipe   \n",
       "6796   communal standpipe multiple    communal standpipe   \n",
       "35610           communal standpipe    communal standpipe   \n",
       "28820           communal standpipe    communal standpipe   \n",
       "55161           communal standpipe    communal standpipe   \n",
       "35551                    hand pump             hand pump   \n",
       "41617           communal standpipe    communal standpipe   \n",
       "54181           communal standpipe    communal standpipe   \n",
       "\n",
       "                  status_group  \n",
       "43382           non functional  \n",
       "56495               functional  \n",
       "53334               functional  \n",
       "6796   functional needs repair  \n",
       "35610               functional  \n",
       "28820               functional  \n",
       "55161               functional  \n",
       "35551               functional  \n",
       "41617               functional  \n",
       "54181               functional  \n",
       "\n",
       "[10 rows x 41 columns]"
      ]
     },
     "execution_count": 1092,
     "metadata": {},
     "output_type": "execute_result"
    }
   ],
   "source": [
    "df.sample(n=10)"
   ]
  },
  {
   "cell_type": "markdown",
   "metadata": {},
   "source": [
    "- On inspection, some columns e.g `quantity` and `quantity_group` seem to have identical information. Thus, we first verify if indeed this is the case"
   ]
  },
  {
   "cell_type": "code",
   "execution_count": 1093,
   "metadata": {},
   "outputs": [
    {
     "name": "stdout",
     "output_type": "stream",
     "text": [
      "Columns are identical: True\n"
     ]
    }
   ],
   "source": [
    "# Check if columns are identical\n",
    "are_identical = (df['quantity'] == df['quantity_group']).all()\n",
    "\n",
    "print(\"Columns are identical:\", are_identical)"
   ]
  },
  {
   "cell_type": "markdown",
   "metadata": {},
   "source": [
    "### Column Inspection Comparison\n",
    "\n",
    "To streamline our dataset and remove redundancy, we will perform the following steps:\n",
    "\n",
    "1. **Identify Columns with Similar Names or Descriptions**  \n",
    "   We'll start by identifying columns that have similar names or descriptions. This helps us determine which columns might contain overlapping information.\n",
    "\n",
    "2. **Compare Column Content**  \n",
    "   For columns identified as similar, we will conduct further checks to compare their content. This involves:\n",
    "   - **Exact Equality Check**: Verifying if the values in the columns are identical for each row.\n",
    "   - **Handling Missing Values**: Ensuring that missing values are considered in the comparison.\n",
    "   \n",
    "3. **Trim Down the Dataset**  \n",
    "   Based on the comparison results, we will:\n",
    "   - **Remove Redundant Columns**: Eliminate columns that contain duplicate or redundant information.\n",
    "   - **Optimize the Dataset**: Reduce the dataset size and complexity by retaining only the necessary columns.\n",
    "\n",
    "By following these steps, we will improve the quality and efficiency of our dataset, ensuring that we work with clean and relevant data.\n"
   ]
  },
  {
   "cell_type": "code",
   "execution_count": 1094,
   "metadata": {},
   "outputs": [],
   "source": [
    "# list to compile all redundant columns to remove on the test dataset as well\n",
    "redundant_cols = []"
   ]
  },
  {
   "cell_type": "code",
   "execution_count": 1095,
   "metadata": {},
   "outputs": [
    {
     "data": {
      "text/plain": [
       "Index(['id', 'amount_tsh', 'date_recorded', 'funder', 'gps_height',\n",
       "       'installer', 'longitude', 'latitude', 'wpt_name', 'num_private',\n",
       "       'basin', 'subvillage', 'region', 'region_code', 'district_code', 'lga',\n",
       "       'ward', 'population', 'public_meeting', 'recorded_by',\n",
       "       'scheme_management', 'scheme_name', 'permit', 'construction_year',\n",
       "       'extraction_type', 'extraction_type_group', 'extraction_type_class',\n",
       "       'management', 'management_group', 'payment', 'payment_type',\n",
       "       'water_quality', 'quality_group', 'quantity', 'quantity_group',\n",
       "       'source', 'source_type', 'source_class', 'waterpoint_type',\n",
       "       'waterpoint_type_group', 'status_group'],\n",
       "      dtype='object')"
      ]
     },
     "execution_count": 1095,
     "metadata": {},
     "output_type": "execute_result"
    }
   ],
   "source": [
    "df.columns"
   ]
  },
  {
   "cell_type": "code",
   "execution_count": 1096,
   "metadata": {},
   "outputs": [
    {
     "data": {
      "text/html": [
       "<div>\n",
       "<style scoped>\n",
       "    .dataframe tbody tr th:only-of-type {\n",
       "        vertical-align: middle;\n",
       "    }\n",
       "\n",
       "    .dataframe tbody tr th {\n",
       "        vertical-align: top;\n",
       "    }\n",
       "\n",
       "    .dataframe thead th {\n",
       "        text-align: right;\n",
       "    }\n",
       "</style>\n",
       "<table border=\"1\" class=\"dataframe\">\n",
       "  <thead>\n",
       "    <tr style=\"text-align: right;\">\n",
       "      <th></th>\n",
       "      <th>subvillage</th>\n",
       "      <th>region</th>\n",
       "      <th>region_code</th>\n",
       "      <th>district_code</th>\n",
       "      <th>lga</th>\n",
       "      <th>ward</th>\n",
       "    </tr>\n",
       "  </thead>\n",
       "  <tbody>\n",
       "    <tr>\n",
       "      <th>0</th>\n",
       "      <td>Mnyusi B</td>\n",
       "      <td>Iringa</td>\n",
       "      <td>11</td>\n",
       "      <td>5</td>\n",
       "      <td>Ludewa</td>\n",
       "      <td>Mundindi</td>\n",
       "    </tr>\n",
       "    <tr>\n",
       "      <th>1</th>\n",
       "      <td>Nyamara</td>\n",
       "      <td>Mara</td>\n",
       "      <td>20</td>\n",
       "      <td>2</td>\n",
       "      <td>Serengeti</td>\n",
       "      <td>Natta</td>\n",
       "    </tr>\n",
       "    <tr>\n",
       "      <th>2</th>\n",
       "      <td>Majengo</td>\n",
       "      <td>Manyara</td>\n",
       "      <td>21</td>\n",
       "      <td>4</td>\n",
       "      <td>Simanjiro</td>\n",
       "      <td>Ngorika</td>\n",
       "    </tr>\n",
       "    <tr>\n",
       "      <th>3</th>\n",
       "      <td>Mahakamani</td>\n",
       "      <td>Mtwara</td>\n",
       "      <td>90</td>\n",
       "      <td>63</td>\n",
       "      <td>Nanyumbu</td>\n",
       "      <td>Nanyumbu</td>\n",
       "    </tr>\n",
       "    <tr>\n",
       "      <th>4</th>\n",
       "      <td>Kyanyamisa</td>\n",
       "      <td>Kagera</td>\n",
       "      <td>18</td>\n",
       "      <td>1</td>\n",
       "      <td>Karagwe</td>\n",
       "      <td>Nyakasimbi</td>\n",
       "    </tr>\n",
       "  </tbody>\n",
       "</table>\n",
       "</div>"
      ],
      "text/plain": [
       "   subvillage   region  region_code  district_code        lga        ward\n",
       "0    Mnyusi B   Iringa           11              5     Ludewa    Mundindi\n",
       "1     Nyamara     Mara           20              2  Serengeti       Natta\n",
       "2     Majengo  Manyara           21              4  Simanjiro     Ngorika\n",
       "3  Mahakamani   Mtwara           90             63   Nanyumbu    Nanyumbu\n",
       "4  Kyanyamisa   Kagera           18              1    Karagwe  Nyakasimbi"
      ]
     },
     "execution_count": 1096,
     "metadata": {},
     "output_type": "execute_result"
    }
   ],
   "source": [
    "locations = ['subvillage','region','region_code','district_code','lga','ward']\n",
    "df[locations].head()"
   ]
  },
  {
   "cell_type": "code",
   "execution_count": 1097,
   "metadata": {},
   "outputs": [
    {
     "data": {
      "text/plain": [
       "count    59400.000000\n",
       "mean        15.297003\n",
       "std         17.587406\n",
       "min          1.000000\n",
       "25%          5.000000\n",
       "50%         12.000000\n",
       "75%         17.000000\n",
       "max         99.000000\n",
       "Name: region_code, dtype: float64"
      ]
     },
     "execution_count": 1097,
     "metadata": {},
     "output_type": "execute_result"
    }
   ],
   "source": [
    "df['region_code'].describe()"
   ]
  },
  {
   "cell_type": "markdown",
   "metadata": {},
   "source": []
  },
  {
   "cell_type": "code",
   "execution_count": 1098,
   "metadata": {},
   "outputs": [
    {
     "name": "stdout",
     "output_type": "stream",
     "text": [
      "Column : subvillage, Unique values : 19288\n",
      "Column : region, Unique values : 21\n",
      "Column : region_code, Unique values : 27\n",
      "Column : district_code, Unique values : 20\n",
      "Column : lga, Unique values : 125\n",
      "Column : ward, Unique values : 2092\n"
     ]
    }
   ],
   "source": [
    "for element in locations:\n",
    "        print(f\"Column : {element}, Unique values : {len(df[element].unique())}\")"
   ]
  },
  {
   "cell_type": "markdown",
   "metadata": {},
   "source": [
    "## Column Selection for Logistic Regression and Decision Tree Models\n",
    "\n",
    "### 1. Categorical Variables\n",
    "\n",
    "- **Decision Trees**: Handle categorical variables well. You can use all categorical columns directly as decision trees can split on different categories without numerical encoding.\n",
    "  \n",
    "- **Logistic Regression**: Requires numerical input. Categorical variables need to be encoded into numerical formats, typically using one-hot encoding or label encoding.\n",
    "\n",
    "### 2. Column Selection\n",
    "\n",
    "- **`subvillage`**: 19,288 unique values\n",
    "  - **Note**: High cardinality may make this column challenging to encode and could lead to overfitting. Consider not using it directly.\n",
    "\n",
    "- **`region`**: 21 unique values\n",
    "  - **Note**: Moderate number of categories. Can be encoded using one-hot encoding or label encoding.\n",
    "\n",
    "- **`region_code`**: 27 unique values\n",
    "  - **Note**: Similar to `region`, this column has a manageable number of categories and can be used after encoding.\n",
    "\n",
    "- **`district_code`**: 20 unique values\n",
    "  - **Note**: Manageable number of categories. Suitable for encoding.\n",
    "\n",
    "- **`lga`**: 125 unique values\n",
    "  - **Note**: High number of unique values, which may be challenging for encoding and could lead to overfitting.\n",
    "\n",
    "- **`ward`**: 2,092 unique values\n",
    "  - **Note**: Very high cardinality, potentially problematic for encoding and may not provide much predictive value.\n",
    "\n",
    "### Recommendations\n",
    "\n",
    "- **Decision Trees**: You can use all columns directly. Decision trees handle categorical variables well and can manage high-cardinality features without extensive preprocessing.\n",
    "\n",
    "- **Logistic Regression**:\n",
    "  - **Use Columns with Fewer Unique Values**: Start with  `region_code`, `district_code`, and `lga` due to their more manageable number of unique values.\n",
    "  - **Consider Feature Reduction**: Avoid using `subvillage` and `ward` directly because of their high cardinality. Consider aggregating or grouping these columns to reduce the number of unique values.\n",
    "  - **One-Hot Encoding**: Apply one-hot encoding for categorical columns that have a manageable number of unique values.\n"
   ]
  },
  {
   "cell_type": "markdown",
   "metadata": {},
   "source": [
    "- All this seem to show information about geographical location. From inspection, `district_code` and `region_code` seem to be the most suitable since they are codes of locations and have relatively fewer classes (80 for `district_code`, 100 for `region_code`)"
   ]
  },
  {
   "cell_type": "code",
   "execution_count": 1099,
   "metadata": {},
   "outputs": [
    {
     "data": {
      "text/plain": [
       "Index(['id', 'amount_tsh', 'date_recorded', 'funder', 'gps_height',\n",
       "       'installer', 'longitude', 'latitude', 'wpt_name', 'num_private',\n",
       "       'basin', 'region_code', 'district_code', 'lga', 'population',\n",
       "       'public_meeting', 'recorded_by', 'scheme_management', 'scheme_name',\n",
       "       'permit', 'construction_year', 'extraction_type',\n",
       "       'extraction_type_group', 'extraction_type_class', 'management',\n",
       "       'management_group', 'payment', 'payment_type', 'water_quality',\n",
       "       'quality_group', 'quantity', 'quantity_group', 'source', 'source_type',\n",
       "       'source_class', 'waterpoint_type', 'waterpoint_type_group',\n",
       "       'status_group'],\n",
       "      dtype='object')"
      ]
     },
     "execution_count": 1099,
     "metadata": {},
     "output_type": "execute_result"
    }
   ],
   "source": [
    "df_concise = df.drop(['subvillage', 'ward','region'], axis = 1)\n",
    "df_concise.columns"
   ]
  },
  {
   "cell_type": "code",
   "execution_count": 1100,
   "metadata": {},
   "outputs": [],
   "source": [
    "redundant_cols += ['subvillage','region','ward']"
   ]
  },
  {
   "cell_type": "markdown",
   "metadata": {},
   "source": [
    "## We create a function to display relevant info for other similar columns...\n"
   ]
  },
  {
   "cell_type": "code",
   "execution_count": 1101,
   "metadata": {},
   "outputs": [],
   "source": [
    "def column_info(similar_cols):\n",
    "    for element in similar_cols:\n",
    "        print(f\"Column : {element}, Unique values : {len(df[element].unique())}\")\n",
    "    for element in range(len(similar_cols)):\n",
    "        print (f\"Column: {similar_cols[element]}\")\n",
    "        for row in df_concise[similar_cols[element]].unique():\n",
    "            print(row)\n",
    "        print('\\n')\n"
   ]
  },
  {
   "cell_type": "code",
   "execution_count": 1102,
   "metadata": {},
   "outputs": [],
   "source": [
    "\n",
    "#df_concise = df.drop(['subvillage','region','ward'], axis = 1)\n"
   ]
  },
  {
   "cell_type": "code",
   "execution_count": null,
   "metadata": {},
   "outputs": [],
   "source": []
  },
  {
   "cell_type": "markdown",
   "metadata": {},
   "source": [
    "Next up...\n",
    "- **extraction_type**: The kind of extraction method the waterpoint uses\n",
    "- **extraction_type_group**: The extraction type grouped by similar methods\n",
    "- **extraction_type_class**: The extraction type categorized into broader classes"
   ]
  },
  {
   "cell_type": "code",
   "execution_count": 1103,
   "metadata": {},
   "outputs": [
    {
     "name": "stdout",
     "output_type": "stream",
     "text": [
      "Column : extraction_type, Unique values : 18\n",
      "Column : extraction_type_group, Unique values : 13\n",
      "Column : extraction_type_class, Unique values : 7\n",
      "Column: extraction_type\n",
      "gravity\n",
      "submersible\n",
      "swn 80\n",
      "nira/tanira\n",
      "india mark ii\n",
      "other\n",
      "ksb\n",
      "mono\n",
      "windmill\n",
      "afridev\n",
      "other - rope pump\n",
      "india mark iii\n",
      "other - swn 81\n",
      "other - play pump\n",
      "cemo\n",
      "climax\n",
      "walimi\n",
      "other - mkulima/shinyanga\n",
      "\n",
      "\n",
      "Column: extraction_type_group\n",
      "gravity\n",
      "submersible\n",
      "swn 80\n",
      "nira/tanira\n",
      "india mark ii\n",
      "other\n",
      "mono\n",
      "wind-powered\n",
      "afridev\n",
      "rope pump\n",
      "india mark iii\n",
      "other handpump\n",
      "other motorpump\n",
      "\n",
      "\n",
      "Column: extraction_type_class\n",
      "gravity\n",
      "submersible\n",
      "handpump\n",
      "other\n",
      "motorpump\n",
      "wind-powered\n",
      "rope pump\n",
      "\n",
      "\n"
     ]
    }
   ],
   "source": [
    "extraction = ['extraction_type','extraction_type_group','extraction_type_class']\n",
    "column_info(extraction)"
   ]
  },
  {
   "cell_type": "markdown",
   "metadata": {},
   "source": [
    "# IMP\n",
    "- we settle on `extraction_type_class`\n"
   ]
  },
  {
   "cell_type": "code",
   "execution_count": 1104,
   "metadata": {},
   "outputs": [],
   "source": [
    "df_concise = df_concise.drop(['extraction_type','extraction_type_group'], axis = 1)\n"
   ]
  },
  {
   "cell_type": "code",
   "execution_count": 1105,
   "metadata": {},
   "outputs": [],
   "source": [
    "redundant_cols += ['extraction_type','extraction_type_group']"
   ]
  },
  {
   "cell_type": "markdown",
   "metadata": {},
   "source": [
    "Next up...\n",
    "- **management**: How the waterpoint is managed\n",
    "- **management_group**: The management grouped into broader categories"
   ]
  },
  {
   "cell_type": "code",
   "execution_count": 1106,
   "metadata": {},
   "outputs": [
    {
     "name": "stdout",
     "output_type": "stream",
     "text": [
      "Column : management, Unique values : 12\n",
      "Column : management_group, Unique values : 5\n",
      "Column: management\n",
      "vwc\n",
      "wug\n",
      "other\n",
      "private operator\n",
      "water board\n",
      "wua\n",
      "company\n",
      "water authority\n",
      "parastatal\n",
      "unknown\n",
      "other - school\n",
      "trust\n",
      "\n",
      "\n",
      "Column: management_group\n",
      "user-group\n",
      "other\n",
      "commercial\n",
      "parastatal\n",
      "unknown\n",
      "\n",
      "\n"
     ]
    }
   ],
   "source": [
    "management = ['management','management_group']\n",
    "column_info(management)"
   ]
  },
  {
   "cell_type": "markdown",
   "metadata": {},
   "source": [
    "# IMP\n",
    "- we settle on `management_group`\n"
   ]
  },
  {
   "cell_type": "code",
   "execution_count": 1107,
   "metadata": {},
   "outputs": [
    {
     "data": {
      "text/plain": [
       "Index(['id', 'amount_tsh', 'date_recorded', 'funder', 'gps_height',\n",
       "       'installer', 'longitude', 'latitude', 'wpt_name', 'num_private',\n",
       "       'basin', 'region_code', 'district_code', 'lga', 'population',\n",
       "       'public_meeting', 'recorded_by', 'scheme_management', 'scheme_name',\n",
       "       'permit', 'construction_year', 'extraction_type_class',\n",
       "       'management_group', 'payment', 'payment_type', 'water_quality',\n",
       "       'quality_group', 'quantity', 'quantity_group', 'source', 'source_type',\n",
       "       'source_class', 'waterpoint_type', 'waterpoint_type_group',\n",
       "       'status_group'],\n",
       "      dtype='object')"
      ]
     },
     "execution_count": 1107,
     "metadata": {},
     "output_type": "execute_result"
    }
   ],
   "source": [
    "df_concise = df_concise.drop(['management'], axis = 1)\n",
    "df_concise.columns"
   ]
  },
  {
   "cell_type": "code",
   "execution_count": 1108,
   "metadata": {},
   "outputs": [],
   "source": [
    "redundant_cols.append('management')"
   ]
  },
  {
   "cell_type": "markdown",
   "metadata": {},
   "source": [
    "Next up...\n",
    "- **payment**: The cost structure of the water\n",
    "- **payment_type**: The specific type of payment method"
   ]
  },
  {
   "cell_type": "code",
   "execution_count": 1109,
   "metadata": {},
   "outputs": [
    {
     "name": "stdout",
     "output_type": "stream",
     "text": [
      "Column : payment, Unique values : 7\n",
      "Column : payment_type, Unique values : 7\n",
      "Column: payment\n",
      "pay annually\n",
      "never pay\n",
      "pay per bucket\n",
      "unknown\n",
      "pay when scheme fails\n",
      "other\n",
      "pay monthly\n",
      "\n",
      "\n",
      "Column: payment_type\n",
      "annually\n",
      "never pay\n",
      "per bucket\n",
      "unknown\n",
      "on failure\n",
      "other\n",
      "monthly\n",
      "\n",
      "\n"
     ]
    }
   ],
   "source": [
    "payment = ['payment', 'payment_type']\n",
    "column_info(payment)\n",
    "    "
   ]
  },
  {
   "cell_type": "markdown",
   "metadata": {},
   "source": [
    "# IMP\n",
    "- we settle on `payment_type`\n"
   ]
  },
  {
   "cell_type": "code",
   "execution_count": 1110,
   "metadata": {},
   "outputs": [],
   "source": [
    "df_concise = df_concise.drop(['payment'], axis = 1)\n"
   ]
  },
  {
   "cell_type": "code",
   "execution_count": 1111,
   "metadata": {},
   "outputs": [],
   "source": [
    "redundant_cols.append('payment')"
   ]
  },
  {
   "cell_type": "code",
   "execution_count": 1112,
   "metadata": {},
   "outputs": [
    {
     "data": {
      "text/plain": [
       "Index(['id', 'amount_tsh', 'date_recorded', 'funder', 'gps_height',\n",
       "       'installer', 'longitude', 'latitude', 'wpt_name', 'num_private',\n",
       "       'basin', 'region_code', 'district_code', 'lga', 'population',\n",
       "       'public_meeting', 'recorded_by', 'scheme_management', 'scheme_name',\n",
       "       'permit', 'construction_year', 'extraction_type_class',\n",
       "       'management_group', 'payment_type', 'water_quality', 'quality_group',\n",
       "       'quantity', 'quantity_group', 'source', 'source_type', 'source_class',\n",
       "       'waterpoint_type', 'waterpoint_type_group', 'status_group'],\n",
       "      dtype='object')"
      ]
     },
     "execution_count": 1112,
     "metadata": {},
     "output_type": "execute_result"
    }
   ],
   "source": [
    "df_concise.columns"
   ]
  },
  {
   "cell_type": "markdown",
   "metadata": {},
   "source": [
    "Next up...\n",
    "- **water_quality**: The quality of the water\n",
    "- **quality_group**: The quality grouped by similar qualities\n"
   ]
  },
  {
   "cell_type": "code",
   "execution_count": 1113,
   "metadata": {},
   "outputs": [
    {
     "name": "stdout",
     "output_type": "stream",
     "text": [
      "Column : water_quality, Unique values : 8\n",
      "Column : quality_group, Unique values : 6\n",
      "Column: water_quality\n",
      "soft\n",
      "salty\n",
      "milky\n",
      "unknown\n",
      "fluoride\n",
      "coloured\n",
      "salty abandoned\n",
      "fluoride abandoned\n",
      "\n",
      "\n",
      "Column: quality_group\n",
      "good\n",
      "salty\n",
      "milky\n",
      "unknown\n",
      "fluoride\n",
      "colored\n",
      "\n",
      "\n"
     ]
    }
   ],
   "source": [
    "water_quality = ['water_quality','quality_group']\n",
    "column_info(water_quality)"
   ]
  },
  {
   "cell_type": "markdown",
   "metadata": {},
   "source": [
    "# IMP\n",
    "- we settle on `quality_group`\n"
   ]
  },
  {
   "cell_type": "code",
   "execution_count": 1114,
   "metadata": {},
   "outputs": [
    {
     "data": {
      "text/plain": [
       "Index(['id', 'amount_tsh', 'date_recorded', 'funder', 'gps_height',\n",
       "       'installer', 'longitude', 'latitude', 'wpt_name', 'num_private',\n",
       "       'basin', 'region_code', 'district_code', 'lga', 'population',\n",
       "       'public_meeting', 'recorded_by', 'scheme_management', 'scheme_name',\n",
       "       'permit', 'construction_year', 'extraction_type_class',\n",
       "       'management_group', 'payment_type', 'quality_group', 'quantity',\n",
       "       'quantity_group', 'source', 'source_type', 'source_class',\n",
       "       'waterpoint_type', 'waterpoint_type_group', 'status_group'],\n",
       "      dtype='object')"
      ]
     },
     "execution_count": 1114,
     "metadata": {},
     "output_type": "execute_result"
    }
   ],
   "source": [
    "df_concise = df_concise.drop(['water_quality'], axis = 1)\n",
    "df_concise.columns"
   ]
  },
  {
   "cell_type": "code",
   "execution_count": 1115,
   "metadata": {},
   "outputs": [],
   "source": [
    "redundant_cols.append('water_quality')"
   ]
  },
  {
   "cell_type": "markdown",
   "metadata": {},
   "source": [
    "Next up...\n",
    "- **quantity**: The quantity of water\n",
    "- **quantity_group**: The quantity grouped by similar quantities"
   ]
  },
  {
   "cell_type": "code",
   "execution_count": 1116,
   "metadata": {},
   "outputs": [
    {
     "name": "stdout",
     "output_type": "stream",
     "text": [
      "Column : quantity, Unique values : 5\n",
      "Column : quantity_group, Unique values : 5\n",
      "Column: quantity\n",
      "enough\n",
      "insufficient\n",
      "dry\n",
      "seasonal\n",
      "unknown\n",
      "\n",
      "\n",
      "Column: quantity_group\n",
      "enough\n",
      "insufficient\n",
      "dry\n",
      "seasonal\n",
      "unknown\n",
      "\n",
      "\n"
     ]
    }
   ],
   "source": [
    "water_quanity = ['quantity','quantity_group']\n",
    "column_info(water_quanity)"
   ]
  },
  {
   "cell_type": "code",
   "execution_count": 1117,
   "metadata": {},
   "outputs": [
    {
     "name": "stdout",
     "output_type": "stream",
     "text": [
      "Columns are identical: True\n"
     ]
    }
   ],
   "source": [
    "# Check if columns are identical\n",
    "are_identical = (df_concise['quantity'] == df_concise['quantity_group']).all()\n",
    "\n",
    "print(\"Columns are identical:\", are_identical)"
   ]
  },
  {
   "cell_type": "markdown",
   "metadata": {},
   "source": [
    "# IMP\n",
    "- we settle on `quantity_group`\n"
   ]
  },
  {
   "cell_type": "code",
   "execution_count": 1118,
   "metadata": {},
   "outputs": [
    {
     "data": {
      "text/plain": [
       "Index(['id', 'amount_tsh', 'date_recorded', 'funder', 'gps_height',\n",
       "       'installer', 'longitude', 'latitude', 'wpt_name', 'num_private',\n",
       "       'basin', 'region_code', 'district_code', 'lga', 'population',\n",
       "       'public_meeting', 'recorded_by', 'scheme_management', 'scheme_name',\n",
       "       'permit', 'construction_year', 'extraction_type_class',\n",
       "       'management_group', 'payment_type', 'quality_group', 'quantity_group',\n",
       "       'source', 'source_type', 'source_class', 'waterpoint_type',\n",
       "       'waterpoint_type_group', 'status_group'],\n",
       "      dtype='object')"
      ]
     },
     "execution_count": 1118,
     "metadata": {},
     "output_type": "execute_result"
    }
   ],
   "source": [
    "df_concise = df_concise.drop(['quantity'], axis = 1)\n",
    "df_concise.columns"
   ]
  },
  {
   "cell_type": "code",
   "execution_count": 1119,
   "metadata": {},
   "outputs": [],
   "source": [
    "redundant_cols.append('quantity')"
   ]
  },
  {
   "cell_type": "markdown",
   "metadata": {},
   "source": [
    "Next up...\n",
    "- **source**: The source of the water\n",
    "- **source_type**: The type of water source\n",
    "- **source_class**: The broader class of the water source"
   ]
  },
  {
   "cell_type": "code",
   "execution_count": 1120,
   "metadata": {},
   "outputs": [
    {
     "name": "stdout",
     "output_type": "stream",
     "text": [
      "Column : source, Unique values : 10\n",
      "Column : source_type, Unique values : 7\n",
      "Column : source_class, Unique values : 3\n",
      "Column: source\n",
      "spring\n",
      "rainwater harvesting\n",
      "dam\n",
      "machine dbh\n",
      "other\n",
      "shallow well\n",
      "river\n",
      "hand dtw\n",
      "lake\n",
      "unknown\n",
      "\n",
      "\n",
      "Column: source_type\n",
      "spring\n",
      "rainwater harvesting\n",
      "dam\n",
      "borehole\n",
      "other\n",
      "shallow well\n",
      "river/lake\n",
      "\n",
      "\n",
      "Column: source_class\n",
      "groundwater\n",
      "surface\n",
      "unknown\n",
      "\n",
      "\n"
     ]
    }
   ],
   "source": [
    "source = ['source','source_type','source_class']\n",
    "column_info(source)"
   ]
  },
  {
   "cell_type": "markdown",
   "metadata": {},
   "source": [
    "### Recommendation for Dropping Columns\n",
    "\n",
    "- **Drop `source`**: Since `source` contains the most detailed level of information and has the highest number of unique values, it could introduce more complexity without adding significant predictive power compared to `source_type`. The fine granularity may also lead to overfitting, especially in logistic regression.\n",
    "\n",
    "- **Keep `source_class`**: This column has the least number of unique values, making it simple to encode and interpret. It provides high-level, general information that could be useful for both logistic regression and decision trees without adding much complexity.\n",
    "\n",
    "- **Keep `source_type`**: This column offers a balance between detail and simplicity with 7 unique values. It provides more information than `source_class` but is less granular than `source`. This could be useful depending on the specific needs of your model.\n",
    "\n",
    "### Final Recommendations\n",
    "\n",
    "- **For Decision Trees**: Keep both `source_class` and `source_type`. Decision trees handle categorical variables well, and having both columns could help the model learn from both general and more specific information.\n",
    "\n",
    "- **For Logistic Regression**: Drop `source` and use `source_class` and `source_type`. These two columns are simpler to encode and reduce the risk of multicollinearity and overfitting due to fewer unique values.\n"
   ]
  },
  {
   "cell_type": "code",
   "execution_count": 1121,
   "metadata": {},
   "outputs": [
    {
     "data": {
      "text/plain": [
       "Index(['id', 'amount_tsh', 'date_recorded', 'funder', 'gps_height',\n",
       "       'installer', 'longitude', 'latitude', 'wpt_name', 'num_private',\n",
       "       'basin', 'region_code', 'district_code', 'lga', 'population',\n",
       "       'public_meeting', 'recorded_by', 'scheme_management', 'scheme_name',\n",
       "       'permit', 'construction_year', 'extraction_type_class',\n",
       "       'management_group', 'payment_type', 'quality_group', 'quantity_group',\n",
       "       'source_type', 'source_class', 'waterpoint_type',\n",
       "       'waterpoint_type_group', 'status_group'],\n",
       "      dtype='object')"
      ]
     },
     "execution_count": 1121,
     "metadata": {},
     "output_type": "execute_result"
    }
   ],
   "source": [
    "df_concise = df_concise.drop(['source'], axis = 1)\n",
    "df_concise.columns"
   ]
  },
  {
   "cell_type": "code",
   "execution_count": 1122,
   "metadata": {},
   "outputs": [],
   "source": [
    "redundant_cols.append('source')"
   ]
  },
  {
   "cell_type": "markdown",
   "metadata": {},
   "source": [
    "Next up...\n",
    "- **waterpoint_type**: The specific type of waterpoint\n",
    "- **waterpoint_type_group**: The type of waterpoint grouped by similar types\n"
   ]
  },
  {
   "cell_type": "code",
   "execution_count": 1123,
   "metadata": {},
   "outputs": [
    {
     "name": "stdout",
     "output_type": "stream",
     "text": [
      "Column : waterpoint_type, Unique values : 7\n",
      "Column : waterpoint_type_group, Unique values : 6\n",
      "Column: waterpoint_type\n",
      "communal standpipe\n",
      "communal standpipe multiple\n",
      "hand pump\n",
      "other\n",
      "improved spring\n",
      "cattle trough\n",
      "dam\n",
      "\n",
      "\n",
      "Column: waterpoint_type_group\n",
      "communal standpipe\n",
      "hand pump\n",
      "other\n",
      "improved spring\n",
      "cattle trough\n",
      "dam\n",
      "\n",
      "\n"
     ]
    }
   ],
   "source": [
    "waterpoint = ['waterpoint_type','waterpoint_type_group']\n",
    "column_info(waterpoint)"
   ]
  },
  {
   "cell_type": "markdown",
   "metadata": {},
   "source": [
    "# IMP\n",
    "- we settle on `waterpoint_type_group`\n"
   ]
  },
  {
   "cell_type": "code",
   "execution_count": 1124,
   "metadata": {},
   "outputs": [
    {
     "data": {
      "text/plain": [
       "Index(['id', 'amount_tsh', 'date_recorded', 'funder', 'gps_height',\n",
       "       'installer', 'longitude', 'latitude', 'wpt_name', 'num_private',\n",
       "       'basin', 'region_code', 'district_code', 'lga', 'population',\n",
       "       'public_meeting', 'recorded_by', 'scheme_management', 'scheme_name',\n",
       "       'permit', 'construction_year', 'extraction_type_class',\n",
       "       'management_group', 'payment_type', 'quality_group', 'quantity_group',\n",
       "       'source_type', 'source_class', 'waterpoint_type_group', 'status_group'],\n",
       "      dtype='object')"
      ]
     },
     "execution_count": 1124,
     "metadata": {},
     "output_type": "execute_result"
    }
   ],
   "source": [
    "df_concise = df_concise.drop(['waterpoint_type'], axis = 1)\n",
    "df_concise.columns"
   ]
  },
  {
   "cell_type": "code",
   "execution_count": 1125,
   "metadata": {},
   "outputs": [],
   "source": [
    "redundant_cols.append('waterpoint_type')"
   ]
  },
  {
   "cell_type": "code",
   "execution_count": 1126,
   "metadata": {},
   "outputs": [
    {
     "data": {
      "text/plain": [
       "30"
      ]
     },
     "execution_count": 1126,
     "metadata": {},
     "output_type": "execute_result"
    }
   ],
   "source": [
    "len(df_concise.columns)"
   ]
  },
  {
   "cell_type": "code",
   "execution_count": 1127,
   "metadata": {},
   "outputs": [
    {
     "data": {
      "text/plain": [
       "Index(['id', 'amount_tsh', 'date_recorded', 'funder', 'gps_height',\n",
       "       'installer', 'longitude', 'latitude', 'wpt_name', 'num_private',\n",
       "       'basin', 'region_code', 'district_code', 'lga', 'population',\n",
       "       'public_meeting', 'recorded_by', 'scheme_management', 'scheme_name',\n",
       "       'permit', 'construction_year', 'extraction_type_class',\n",
       "       'management_group', 'payment_type', 'quality_group', 'quantity_group',\n",
       "       'source_type', 'source_class', 'waterpoint_type_group', 'status_group'],\n",
       "      dtype='object')"
      ]
     },
     "execution_count": 1127,
     "metadata": {},
     "output_type": "execute_result"
    }
   ],
   "source": [
    "df_concise.columns"
   ]
  },
  {
   "cell_type": "markdown",
   "metadata": {},
   "source": [
    "Ascertaining that all redundant columns dropped have been captured\n"
   ]
  },
  {
   "cell_type": "code",
   "execution_count": 1128,
   "metadata": {},
   "outputs": [
    {
     "data": {
      "text/plain": [
       "True"
      ]
     },
     "execution_count": 1128,
     "metadata": {},
     "output_type": "execute_result"
    }
   ],
   "source": [
    "len(df_concise.columns) == (len(df.columns)- len(redundant_cols))"
   ]
  },
  {
   "cell_type": "code",
   "execution_count": 1129,
   "metadata": {},
   "outputs": [
    {
     "data": {
      "text/plain": [
       "['subvillage',\n",
       " 'region',\n",
       " 'ward',\n",
       " 'extraction_type',\n",
       " 'extraction_type_group',\n",
       " 'management',\n",
       " 'payment',\n",
       " 'water_quality',\n",
       " 'quantity',\n",
       " 'source',\n",
       " 'waterpoint_type']"
      ]
     },
     "execution_count": 1129,
     "metadata": {},
     "output_type": "execute_result"
    }
   ],
   "source": [
    "redundant_cols"
   ]
  },
  {
   "cell_type": "code",
   "execution_count": 1130,
   "metadata": {},
   "outputs": [
    {
     "data": {
      "text/plain": [
       "Index(['id', 'amount_tsh', 'date_recorded', 'funder', 'gps_height',\n",
       "       'installer', 'longitude', 'latitude', 'wpt_name', 'num_private',\n",
       "       'basin', 'region_code', 'district_code', 'lga', 'population',\n",
       "       'public_meeting', 'recorded_by', 'scheme_management', 'scheme_name',\n",
       "       'permit', 'construction_year', 'extraction_type_class',\n",
       "       'management_group', 'payment_type', 'quality_group', 'quantity_group',\n",
       "       'source_type', 'source_class', 'waterpoint_type_group', 'status_group'],\n",
       "      dtype='object')"
      ]
     },
     "execution_count": 1130,
     "metadata": {},
     "output_type": "execute_result"
    }
   ],
   "source": [
    "df_concise.columns"
   ]
  },
  {
   "cell_type": "markdown",
   "metadata": {},
   "source": [
    "# The Features in This Dataset\n",
    "\n",
    "The following features are left after extracting redundant columns:\n",
    "\n",
    "\n",
    "- `amount_tsh`: Total static head (amount of water available to the waterpoint)\n",
    "- `date_recorded`: The date the row was entered\n",
    "- `funder`: Who funded the well\n",
    "- `gps_height`: Altitude of the well\n",
    "- `installer`: Organization that installed the well\n",
    "- `longitude`: GPS coordinate\n",
    "- `latitude`: GPS coordinate\n",
    "- `wpt_name`: Name of the waterpoint, if there is one\n",
    "- `num_private`: _(Not specified)_\n",
    "- `basin`: Geographic water basin\n",
    "- `region_code`: Geographic location (coded)\n",
    "- `district_code`: Geographic location (coded)\n",
    "- `lga`: ( Geographic location )- Local Government Authorities (LGAs) in Tanzania are accountable for the delivery of public services to citizens - providing \n",
    "oversight and management support to health facilities, schools, and villages.\n",
    "- `population`: Population around the well\n",
    "- `public_meeting`: True/False, indicating if a public meeting was held\n",
    "- `recorded_by`: Group entering this row of data\n",
    "- `scheme_management`: Who operates the waterpoint\n",
    "- `scheme_name`: The name of the management scheme\n",
    "- `permit`: Whether the waterpoint is permitted (True/False)\n",
    "- `construction_year`: Year the waterpoint was constructed\n",
    "- `extraction_type_class`: The extraction type categorized into broader classes\n",
    "- `management_group`: The management grouped into broader categories\n",
    "- `payment_type`: The specific type of payment method\n",
    "- `quality_group`: The quality grouped by similar qualities\n",
    "- `quantity_group`: The quantity grouped by similar quantities\n",
    "- `source_type`: The type of water source\n",
    "- `source_class`: The broader class of the water source\n",
    "- `waterpoint_type_group`: The type of waterpoint grouped by similar types\n"
   ]
  },
  {
   "cell_type": "markdown",
   "metadata": {},
   "source": []
  },
  {
   "cell_type": "markdown",
   "metadata": {},
   "source": [
    "## Data Cleaning- Extracting unnecessary columns with little useful info\n"
   ]
  },
  {
   "cell_type": "markdown",
   "metadata": {},
   "source": [
    "From Domain Knowledge, the following columns can be dropped\n",
    "- date_recorded\n",
    "- longitude\n",
    "- latitude\n",
    "- wpt_name\n",
    "- num_private\n",
    "- recorded_by"
   ]
  },
  {
   "cell_type": "code",
   "execution_count": 1131,
   "metadata": {},
   "outputs": [
    {
     "data": {
      "text/plain": [
       "Index(['id', 'amount_tsh', 'funder', 'gps_height', 'installer', 'basin',\n",
       "       'region_code', 'district_code', 'lga', 'population', 'public_meeting',\n",
       "       'scheme_management', 'scheme_name', 'permit', 'construction_year',\n",
       "       'extraction_type_class', 'management_group', 'payment_type',\n",
       "       'quality_group', 'quantity_group', 'source_type', 'source_class',\n",
       "       'waterpoint_type_group', 'status_group'],\n",
       "      dtype='object')"
      ]
     },
     "execution_count": 1131,
     "metadata": {},
     "output_type": "execute_result"
    }
   ],
   "source": [
    "unncecessary_cols = [ 'date_recorded','longitude','latitude','wpt_name','num_private','recorded_by']\n",
    "df_concise = df_concise.drop(unncecessary_cols, axis = 1)\n",
    "df_concise.columns"
   ]
  },
  {
   "cell_type": "code",
   "execution_count": 1132,
   "metadata": {},
   "outputs": [
    {
     "data": {
      "text/plain": [
       "24"
      ]
     },
     "execution_count": 1132,
     "metadata": {},
     "output_type": "execute_result"
    }
   ],
   "source": [
    "len(df_concise.columns)"
   ]
  },
  {
   "cell_type": "markdown",
   "metadata": {},
   "source": [
    "-inspecting the other columns to check whether other columns can be dropped"
   ]
  },
  {
   "cell_type": "code",
   "execution_count": 1133,
   "metadata": {},
   "outputs": [
    {
     "name": "stdout",
     "output_type": "stream",
     "text": [
      "Column : id, Unique values : 59400\n",
      "Column : amount_tsh, Unique values : 98\n",
      "Column : funder, Unique values : 1898\n",
      "Column : gps_height, Unique values : 2428\n",
      "Column : installer, Unique values : 2146\n",
      "Column : basin, Unique values : 9\n",
      "Column : region_code, Unique values : 27\n",
      "Column : district_code, Unique values : 20\n",
      "Column : lga, Unique values : 125\n",
      "Column : population, Unique values : 1049\n",
      "Column : public_meeting, Unique values : 3\n",
      "Column : scheme_management, Unique values : 13\n",
      "Column : scheme_name, Unique values : 2697\n",
      "Column : permit, Unique values : 3\n",
      "Column : construction_year, Unique values : 55\n",
      "Column : extraction_type_class, Unique values : 7\n",
      "Column : management_group, Unique values : 5\n",
      "Column : payment_type, Unique values : 7\n",
      "Column : quality_group, Unique values : 6\n",
      "Column : quantity_group, Unique values : 5\n",
      "Column : source_type, Unique values : 7\n",
      "Column : source_class, Unique values : 3\n",
      "Column : waterpoint_type_group, Unique values : 6\n",
      "Column : status_group, Unique values : 3\n"
     ]
    }
   ],
   "source": [
    "for element in df_concise.columns:\n",
    "        print(f\"Column : {element}, Unique values : {len(df[element].unique())}\")"
   ]
  },
  {
   "cell_type": "markdown",
   "metadata": {},
   "source": [
    "from above, the features : installer, scheme_management, scheme_name,funder seem to be extraneous so we shall inspect them"
   ]
  },
  {
   "cell_type": "code",
   "execution_count": 1134,
   "metadata": {},
   "outputs": [
    {
     "name": "stdout",
     "output_type": "stream",
     "text": [
      "39265           DWE\n",
      "43421            DW\n",
      "42626           DWE\n",
      "8447            DWE\n",
      "8564     Government\n",
      "34838           DWE\n",
      "58938             0\n",
      "36706         MDRDP\n",
      "44373           DWE\n",
      "1394          Local\n",
      "Name: installer, dtype: object\n",
      "8387     VWC\n",
      "26056    NaN\n",
      "25005    NaN\n",
      "5879     VWC\n",
      "39493    VWC\n",
      "25002    VWC\n",
      "49282    VWC\n",
      "4136     VWC\n",
      "51232    VWC\n",
      "47581    WUG\n",
      "Name: scheme_management, dtype: object\n",
      "54717                   Nyasovu\n",
      "17516    Losaa Kia water supply\n",
      "43986                     Japan\n",
      "1547                        NaN\n",
      "7670                          K\n",
      "30682                         S\n",
      "26709                         M\n",
      "41892                       MWS\n",
      "53406                       NaN\n",
      "58489                Fini water\n",
      "Name: scheme_name, dtype: object\n",
      "16048    Government Of Tanzania\n",
      "29462    Government Of Tanzania\n",
      "3981                     Hesawa\n",
      "23465                     Shipo\n",
      "45880                      Kidp\n",
      "44178                        Go\n",
      "28602                  Irish Ai\n",
      "17790                    Hesawa\n",
      "29709                     Rc Ch\n",
      "22333                       NaN\n",
      "Name: funder, dtype: object\n"
     ]
    }
   ],
   "source": [
    "possible_extraneous = ['installer', 'scheme_management', 'scheme_name','funder']\n",
    "for element in possible_extraneous:\n",
    "    print (df_concise[element].sample(n=10))"
   ]
  },
  {
   "cell_type": "markdown",
   "metadata": {},
   "source": [
    "ALl this info, on further inspection, are extraneous, therefore we shall drop them too\n"
   ]
  },
  {
   "cell_type": "code",
   "execution_count": 1135,
   "metadata": {},
   "outputs": [
    {
     "data": {
      "text/plain": [
       "Index(['id', 'amount_tsh', 'gps_height', 'basin', 'region_code',\n",
       "       'district_code', 'lga', 'population', 'public_meeting', 'permit',\n",
       "       'construction_year', 'extraction_type_class', 'management_group',\n",
       "       'payment_type', 'quality_group', 'quantity_group', 'source_type',\n",
       "       'source_class', 'waterpoint_type_group', 'status_group'],\n",
       "      dtype='object')"
      ]
     },
     "execution_count": 1135,
     "metadata": {},
     "output_type": "execute_result"
    }
   ],
   "source": [
    "# add `possible_extraneous` to unnecessary cols and drop\n",
    "unncecessary_cols += possible_extraneous\n",
    "df_concise = df_concise.drop(possible_extraneous, axis = 1)\n",
    "df_concise.columns"
   ]
  },
  {
   "cell_type": "markdown",
   "metadata": {},
   "source": [
    "### **At this juncture, we have dropped the unncecessary and redundant columns. Next we shall deal with missing values, if present**"
   ]
  },
  {
   "cell_type": "markdown",
   "metadata": {},
   "source": [
    "- Verifying the above...\n"
   ]
  },
  {
   "cell_type": "code",
   "execution_count": 1136,
   "metadata": {},
   "outputs": [
    {
     "data": {
      "text/plain": [
       "True"
      ]
     },
     "execution_count": 1136,
     "metadata": {},
     "output_type": "execute_result"
    }
   ],
   "source": [
    "(len(df.columns)- len(df_concise.columns)) == (len(redundant_cols) + len(unncecessary_cols))"
   ]
  },
  {
   "cell_type": "markdown",
   "metadata": {},
   "source": [
    "### **Dealing with missing values**"
   ]
  },
  {
   "cell_type": "code",
   "execution_count": 1137,
   "metadata": {},
   "outputs": [
    {
     "name": "stdout",
     "output_type": "stream",
     "text": [
      "<class 'pandas.core.frame.DataFrame'>\n",
      "Int64Index: 59400 entries, 0 to 59399\n",
      "Data columns (total 20 columns):\n",
      " #   Column                 Non-Null Count  Dtype  \n",
      "---  ------                 --------------  -----  \n",
      " 0   id                     59400 non-null  int64  \n",
      " 1   amount_tsh             59400 non-null  float64\n",
      " 2   gps_height             59400 non-null  int64  \n",
      " 3   basin                  59400 non-null  object \n",
      " 4   region_code            59400 non-null  int64  \n",
      " 5   district_code          59400 non-null  int64  \n",
      " 6   lga                    59400 non-null  object \n",
      " 7   population             59400 non-null  int64  \n",
      " 8   public_meeting         56066 non-null  object \n",
      " 9   permit                 56344 non-null  object \n",
      " 10  construction_year      59400 non-null  int64  \n",
      " 11  extraction_type_class  59400 non-null  object \n",
      " 12  management_group       59400 non-null  object \n",
      " 13  payment_type           59400 non-null  object \n",
      " 14  quality_group          59400 non-null  object \n",
      " 15  quantity_group         59400 non-null  object \n",
      " 16  source_type            59400 non-null  object \n",
      " 17  source_class           59400 non-null  object \n",
      " 18  waterpoint_type_group  59400 non-null  object \n",
      " 19  status_group           59400 non-null  object \n",
      "dtypes: float64(1), int64(6), object(13)\n",
      "memory usage: 9.5+ MB\n"
     ]
    }
   ],
   "source": [
    "df_concise.info()"
   ]
  },
  {
   "cell_type": "markdown",
   "metadata": {},
   "source": [
    "- From earlier inspection, several numeric columns contain zeros where they are unrealistic. We shall convert them to NaNs so as to simplify the process of filling them.first we feature engineer age column from construction year"
   ]
  },
  {
   "cell_type": "markdown",
   "metadata": {},
   "source": [
    "## Feature Engineering\n",
    "We shall replace construction year with age as ,from domain knowledge, we expect proportionality between target and the feature"
   ]
  },
  {
   "cell_type": "code",
   "execution_count": 1138,
   "metadata": {},
   "outputs": [],
   "source": [
    "# Calculate age where year is not equal to 0\n",
    "df_concise.loc[df_concise['construction_year'] != 0, 'age'] = 2024 - df['construction_year']"
   ]
  },
  {
   "cell_type": "code",
   "execution_count": 1139,
   "metadata": {},
   "outputs": [
    {
     "data": {
      "text/plain": [
       "Index(['id', 'amount_tsh', 'gps_height', 'basin', 'region_code',\n",
       "       'district_code', 'lga', 'population', 'public_meeting', 'permit',\n",
       "       'extraction_type_class', 'management_group', 'payment_type',\n",
       "       'quality_group', 'quantity_group', 'source_type', 'source_class',\n",
       "       'waterpoint_type_group', 'status_group', 'age'],\n",
       "      dtype='object')"
      ]
     },
     "execution_count": 1139,
     "metadata": {},
     "output_type": "execute_result"
    }
   ],
   "source": [
    "df_concise = df_concise.drop(['construction_year'], axis = 1 )\n",
    "df_concise.columns"
   ]
  },
  {
   "cell_type": "code",
   "execution_count": 1140,
   "metadata": {},
   "outputs": [
    {
     "name": "stdout",
     "output_type": "stream",
     "text": [
      "<class 'pandas.core.frame.DataFrame'>\n",
      "Int64Index: 59400 entries, 0 to 59399\n",
      "Data columns (total 20 columns):\n",
      " #   Column                 Non-Null Count  Dtype  \n",
      "---  ------                 --------------  -----  \n",
      " 0   id                     59400 non-null  int64  \n",
      " 1   amount_tsh             59400 non-null  float64\n",
      " 2   gps_height             59400 non-null  int64  \n",
      " 3   basin                  59400 non-null  object \n",
      " 4   region_code            59400 non-null  int64  \n",
      " 5   district_code          59400 non-null  int64  \n",
      " 6   lga                    59400 non-null  object \n",
      " 7   population             59400 non-null  int64  \n",
      " 8   public_meeting         56066 non-null  object \n",
      " 9   permit                 56344 non-null  object \n",
      " 10  extraction_type_class  59400 non-null  object \n",
      " 11  management_group       59400 non-null  object \n",
      " 12  payment_type           59400 non-null  object \n",
      " 13  quality_group          59400 non-null  object \n",
      " 14  quantity_group         59400 non-null  object \n",
      " 15  source_type            59400 non-null  object \n",
      " 16  source_class           59400 non-null  object \n",
      " 17  waterpoint_type_group  59400 non-null  object \n",
      " 18  status_group           59400 non-null  object \n",
      " 19  age                    38691 non-null  float64\n",
      "dtypes: float64(2), int64(5), object(13)\n",
      "memory usage: 12.0+ MB\n"
     ]
    }
   ],
   "source": [
    "df_concise.info()"
   ]
  },
  {
   "cell_type": "markdown",
   "metadata": {},
   "source": [
    "- From general info, it seems NaN's are only present in the  columns  `public_meeting` and `permit`,However, on converting zeros to NaNs there may be more, first let's convert the above 2"
   ]
  },
  {
   "cell_type": "code",
   "execution_count": 1141,
   "metadata": {},
   "outputs": [
    {
     "data": {
      "text/plain": [
       "(True     51011\n",
       " False     5055\n",
       " Name: public_meeting, dtype: int64,\n",
       " True     38852\n",
       " False    17492\n",
       " Name: permit, dtype: int64)"
      ]
     },
     "execution_count": 1141,
     "metadata": {},
     "output_type": "execute_result"
    }
   ],
   "source": [
    "df_concise['public_meeting'].value_counts(), df_concise['permit'].value_counts()"
   ]
  },
  {
   "cell_type": "code",
   "execution_count": 1142,
   "metadata": {},
   "outputs": [
    {
     "data": {
      "text/plain": [
       "(3334, 3056)"
      ]
     },
     "execution_count": 1142,
     "metadata": {},
     "output_type": "execute_result"
    }
   ],
   "source": [
    "df_concise['public_meeting'].isna().sum(), df_concise['permit'].isna().sum(), "
   ]
  },
  {
   "cell_type": "markdown",
   "metadata": {},
   "source": [
    "Represent small % of data so we shall fill them with the most frequent, being true"
   ]
  },
  {
   "cell_type": "code",
   "execution_count": 1143,
   "metadata": {},
   "outputs": [
    {
     "name": "stdout",
     "output_type": "stream",
     "text": [
      "<class 'pandas.core.frame.DataFrame'>\n",
      "Int64Index: 59400 entries, 0 to 59399\n",
      "Data columns (total 20 columns):\n",
      " #   Column                 Non-Null Count  Dtype  \n",
      "---  ------                 --------------  -----  \n",
      " 0   id                     59400 non-null  int64  \n",
      " 1   amount_tsh             59400 non-null  float64\n",
      " 2   gps_height             59400 non-null  int64  \n",
      " 3   basin                  59400 non-null  object \n",
      " 4   region_code            59400 non-null  int64  \n",
      " 5   district_code          59400 non-null  int64  \n",
      " 6   lga                    59400 non-null  object \n",
      " 7   population             59400 non-null  int64  \n",
      " 8   public_meeting         56066 non-null  float64\n",
      " 9   permit                 56344 non-null  float64\n",
      " 10  extraction_type_class  59400 non-null  object \n",
      " 11  management_group       59400 non-null  object \n",
      " 12  payment_type           59400 non-null  object \n",
      " 13  quality_group          59400 non-null  object \n",
      " 14  quantity_group         59400 non-null  object \n",
      " 15  source_type            59400 non-null  object \n",
      " 16  source_class           59400 non-null  object \n",
      " 17  waterpoint_type_group  59400 non-null  object \n",
      " 18  status_group           59400 non-null  object \n",
      " 19  age                    38691 non-null  float64\n",
      "dtypes: float64(4), int64(5), object(11)\n",
      "memory usage: 12.0+ MB\n"
     ]
    }
   ],
   "source": [
    "#Replacing 'True and False with zero and one resp\n",
    "df_concise['public_meeting'] = df_concise['public_meeting'].replace({True: 1, False: 0})\n",
    "df_concise['permit'] = df_concise['permit'].replace({True: 1, False: 0})\n",
    "df_concise.info()"
   ]
  },
  {
   "cell_type": "code",
   "execution_count": 1144,
   "metadata": {},
   "outputs": [
    {
     "name": "stdout",
     "output_type": "stream",
     "text": [
      "<class 'pandas.core.frame.DataFrame'>\n",
      "Int64Index: 59400 entries, 0 to 59399\n",
      "Data columns (total 20 columns):\n",
      " #   Column                 Non-Null Count  Dtype  \n",
      "---  ------                 --------------  -----  \n",
      " 0   id                     59400 non-null  int64  \n",
      " 1   amount_tsh             59400 non-null  float64\n",
      " 2   gps_height             59400 non-null  int64  \n",
      " 3   basin                  59400 non-null  object \n",
      " 4   region_code            59400 non-null  int64  \n",
      " 5   district_code          59400 non-null  int64  \n",
      " 6   lga                    59400 non-null  object \n",
      " 7   population             59400 non-null  int64  \n",
      " 8   public_meeting         59400 non-null  float64\n",
      " 9   permit                 59400 non-null  float64\n",
      " 10  extraction_type_class  59400 non-null  object \n",
      " 11  management_group       59400 non-null  object \n",
      " 12  payment_type           59400 non-null  object \n",
      " 13  quality_group          59400 non-null  object \n",
      " 14  quantity_group         59400 non-null  object \n",
      " 15  source_type            59400 non-null  object \n",
      " 16  source_class           59400 non-null  object \n",
      " 17  waterpoint_type_group  59400 non-null  object \n",
      " 18  status_group           59400 non-null  object \n",
      " 19  age                    38691 non-null  float64\n",
      "dtypes: float64(4), int64(5), object(11)\n",
      "memory usage: 12.0+ MB\n"
     ]
    }
   ],
   "source": [
    "#fill nans with most frequent, in this case '1'\n",
    "df_concise['public_meeting'].fillna(1, inplace= True)\n",
    "df_concise['permit'].fillna(1, inplace= True)\n",
    "\n",
    "df_concise .info()"
   ]
  },
  {
   "cell_type": "markdown",
   "metadata": {},
   "source": [
    "- Verify that changes were done "
   ]
  },
  {
   "cell_type": "code",
   "execution_count": 1145,
   "metadata": {},
   "outputs": [
    {
     "data": {
      "text/plain": [
       "(1.0    54345\n",
       " 0.0     5055\n",
       " Name: public_meeting, dtype: int64,\n",
       " 1.0    41908\n",
       " 0.0    17492\n",
       " Name: permit, dtype: int64)"
      ]
     },
     "execution_count": 1145,
     "metadata": {},
     "output_type": "execute_result"
    }
   ],
   "source": [
    "df_concise['public_meeting'].value_counts(), df_concise['permit'].value_counts()"
   ]
  },
  {
   "cell_type": "code",
   "execution_count": 1146,
   "metadata": {},
   "outputs": [
    {
     "data": {
      "text/plain": [
       "0"
      ]
     },
     "execution_count": 1146,
     "metadata": {},
     "output_type": "execute_result"
    }
   ],
   "source": [
    "df_concise['public_meeting'] .isna().sum()"
   ]
  },
  {
   "cell_type": "markdown",
   "metadata": {},
   "source": [
    "Now converting zeros to NaNs in the remaining numeric cols, we shall drop amount_tsh, since zeros account for 70.1 % of the data\n"
   ]
  },
  {
   "cell_type": "code",
   "execution_count": 1147,
   "metadata": {},
   "outputs": [
    {
     "data": {
      "text/plain": [
       "['date_recorded',\n",
       " 'longitude',\n",
       " 'latitude',\n",
       " 'wpt_name',\n",
       " 'num_private',\n",
       " 'recorded_by',\n",
       " 'installer',\n",
       " 'scheme_management',\n",
       " 'scheme_name',\n",
       " 'funder',\n",
       " 'amount_tsh']"
      ]
     },
     "execution_count": 1147,
     "metadata": {},
     "output_type": "execute_result"
    }
   ],
   "source": [
    "df_concise = df_concise.drop(columns=['amount_tsh'], axis = 1)\n",
    "unncecessary_cols.append('amount_tsh')\n",
    "unncecessary_cols"
   ]
  },
  {
   "cell_type": "code",
   "execution_count": 1148,
   "metadata": {},
   "outputs": [],
   "source": [
    "numeric_cols = ['age','region_code','district_code','population','gps_height']\n"
   ]
  },
  {
   "cell_type": "code",
   "execution_count": 1149,
   "metadata": {},
   "outputs": [
    {
     "name": "stdout",
     "output_type": "stream",
     "text": [
      "column : age. Zero Count : 0. Mean: 27.185314414204854, Mode: 0    14.0\n",
      "dtype: float64, Median: 24.0 \n",
      "column : region_code. Zero Count : 0. Mean: 15.297003367003366, Mode: 0    11\n",
      "dtype: int64, Median: 12.0 \n",
      "column : district_code. Zero Count : 23. Mean: 5.629747474747475, Mode: 0    1\n",
      "dtype: int64, Median: 3.0 \n",
      "column : population. Zero Count : 21381. Mean: 179.90998316498317, Mode: 0    0\n",
      "dtype: int64, Median: 25.0 \n",
      "column : gps_height. Zero Count : 20438. Mean: 668.297239057239, Mode: 0    0\n",
      "dtype: int64, Median: 369.0 \n"
     ]
    }
   ],
   "source": [
    "for col in numeric_cols:\n",
    "    print(f\"column : {col}. Zero Count : {len(df_concise[df_concise[col]==0])}. Mean: {df_concise[col].mean()}, Mode: {df_concise[col].mode()}, Median: {df_concise[col].median()} \")"
   ]
  },
  {
   "cell_type": "code",
   "execution_count": 1150,
   "metadata": {},
   "outputs": [
    {
     "data": {
      "text/plain": [
       "(626, 1892)"
      ]
     },
     "execution_count": 1150,
     "metadata": {},
     "output_type": "execute_result"
    }
   ],
   "source": [
    "len(df_concise[df_concise['population']==30]),len(df_concise[df_concise['population']==150]),"
   ]
  },
  {
   "cell_type": "markdown",
   "metadata": {},
   "source": [
    "Also converting 1's in population to median seince they are not practical"
   ]
  },
  {
   "cell_type": "markdown",
   "metadata": {},
   "source": [
    "For this study, the value of population = 1 may not make much practical sense, especially when considering waterpoints, as it is highly unlikely that a waterpoint would serve only one person. Here’s a structured approach to handle the situation:"
   ]
  },
  {
   "cell_type": "markdown",
   "metadata": {},
   "source": [
    "Replace population = 1 with the Median:\n",
    "Replacing these with the median makes the data more realistic and ensures that it represents typical values without skewing the distribution with improbable data points."
   ]
  },
  {
   "cell_type": "code",
   "execution_count": 1151,
   "metadata": {},
   "outputs": [],
   "source": [
    "# Calculate the median of the 'population' column excluding 1\n",
    "median_population = df_concise[df['population'] != 1]['population'].median()\n",
    "\n",
    "# Replace values of 1 in the 'population' column with the median\n",
    "df_concise['population'] = df_concise['population'].replace(1, median_population)\n"
   ]
  },
  {
   "cell_type": "code",
   "execution_count": 1152,
   "metadata": {},
   "outputs": [],
   "source": [
    "for col in numeric_cols:\n",
    "    # Convert zero values to NaN in the 'gps_height' column\n",
    "    df_concise[col] = df_concise[col].replace(0, np.nan)"
   ]
  },
  {
   "cell_type": "code",
   "execution_count": 1153,
   "metadata": {},
   "outputs": [
    {
     "name": "stdout",
     "output_type": "stream",
     "text": [
      "<class 'pandas.core.frame.DataFrame'>\n",
      "Int64Index: 59400 entries, 0 to 59399\n",
      "Data columns (total 19 columns):\n",
      " #   Column                 Non-Null Count  Dtype  \n",
      "---  ------                 --------------  -----  \n",
      " 0   id                     59400 non-null  int64  \n",
      " 1   gps_height             38962 non-null  float64\n",
      " 2   basin                  59400 non-null  object \n",
      " 3   region_code            59400 non-null  int64  \n",
      " 4   district_code          59377 non-null  float64\n",
      " 5   lga                    59400 non-null  object \n",
      " 6   population             38019 non-null  float64\n",
      " 7   public_meeting         59400 non-null  float64\n",
      " 8   permit                 59400 non-null  float64\n",
      " 9   extraction_type_class  59400 non-null  object \n",
      " 10  management_group       59400 non-null  object \n",
      " 11  payment_type           59400 non-null  object \n",
      " 12  quality_group          59400 non-null  object \n",
      " 13  quantity_group         59400 non-null  object \n",
      " 14  source_type            59400 non-null  object \n",
      " 15  source_class           59400 non-null  object \n",
      " 16  waterpoint_type_group  59400 non-null  object \n",
      " 17  status_group           59400 non-null  object \n",
      " 18  age                    38691 non-null  float64\n",
      "dtypes: float64(6), int64(2), object(11)\n",
      "memory usage: 11.6+ MB\n"
     ]
    }
   ],
   "source": [
    "df_concise.info()"
   ]
  },
  {
   "cell_type": "code",
   "execution_count": 1154,
   "metadata": {},
   "outputs": [
    {
     "data": {
      "text/plain": [
       "['age', 'region_code', 'district_code', 'population', 'gps_height']"
      ]
     },
     "execution_count": 1154,
     "metadata": {},
     "output_type": "execute_result"
    }
   ],
   "source": [
    "numeric_cols"
   ]
  },
  {
   "cell_type": "code",
   "execution_count": 1155,
   "metadata": {},
   "outputs": [
    {
     "name": "stdout",
     "output_type": "stream",
     "text": [
      "column : age.Mean: 27.185314414204854, Mode: 0    14.0\n",
      "dtype: float64, Median: 24.0 \n",
      "column : region_code.Mean: 15.297003367003366, Mode: 0    11\n",
      "dtype: int64, Median: 12.0 \n",
      "column : district_code.Mean: 5.6319281876820995, Mode: 0    1.0\n",
      "dtype: float64, Median: 3.0 \n",
      "column : population.Mean: 291.9889528919751, Mode: 0    60.0\n",
      "dtype: float64, Median: 150.0 \n",
      "column : gps_height.Mean: 1018.8608387659771, Mode: 0   -15.0\n",
      "dtype: float64, Median: 1167.0 \n"
     ]
    }
   ],
   "source": [
    "for col in numeric_cols:\n",
    "    print(f\"column : {col}.Mean: {df_concise[col].mean()}, Mode: {df_concise[col].mode()}, Median: {df_concise[col].median()} \")"
   ]
  },
  {
   "cell_type": "code",
   "execution_count": 1156,
   "metadata": {},
   "outputs": [
    {
     "data": {
      "text/html": [
       "<div>\n",
       "<style scoped>\n",
       "    .dataframe tbody tr th:only-of-type {\n",
       "        vertical-align: middle;\n",
       "    }\n",
       "\n",
       "    .dataframe tbody tr th {\n",
       "        vertical-align: top;\n",
       "    }\n",
       "\n",
       "    .dataframe thead th {\n",
       "        text-align: right;\n",
       "    }\n",
       "</style>\n",
       "<table border=\"1\" class=\"dataframe\">\n",
       "  <thead>\n",
       "    <tr style=\"text-align: right;\">\n",
       "      <th></th>\n",
       "      <th>id</th>\n",
       "      <th>gps_height</th>\n",
       "      <th>region_code</th>\n",
       "      <th>district_code</th>\n",
       "      <th>population</th>\n",
       "      <th>public_meeting</th>\n",
       "      <th>permit</th>\n",
       "      <th>age</th>\n",
       "    </tr>\n",
       "  </thead>\n",
       "  <tbody>\n",
       "    <tr>\n",
       "      <th>count</th>\n",
       "      <td>59400.000000</td>\n",
       "      <td>38962.000000</td>\n",
       "      <td>59400.000000</td>\n",
       "      <td>59377.000000</td>\n",
       "      <td>38019.000000</td>\n",
       "      <td>59400.000000</td>\n",
       "      <td>59400.000000</td>\n",
       "      <td>38691.000000</td>\n",
       "    </tr>\n",
       "    <tr>\n",
       "      <th>mean</th>\n",
       "      <td>37115.131768</td>\n",
       "      <td>1018.860839</td>\n",
       "      <td>15.297003</td>\n",
       "      <td>5.631928</td>\n",
       "      <td>291.988953</td>\n",
       "      <td>0.914899</td>\n",
       "      <td>0.705522</td>\n",
       "      <td>27.185314</td>\n",
       "    </tr>\n",
       "    <tr>\n",
       "      <th>std</th>\n",
       "      <td>21453.128371</td>\n",
       "      <td>612.566092</td>\n",
       "      <td>17.587406</td>\n",
       "      <td>9.634877</td>\n",
       "      <td>559.722665</td>\n",
       "      <td>0.279034</td>\n",
       "      <td>0.455812</td>\n",
       "      <td>12.472045</td>\n",
       "    </tr>\n",
       "    <tr>\n",
       "      <th>min</th>\n",
       "      <td>0.000000</td>\n",
       "      <td>-90.000000</td>\n",
       "      <td>1.000000</td>\n",
       "      <td>1.000000</td>\n",
       "      <td>2.000000</td>\n",
       "      <td>0.000000</td>\n",
       "      <td>0.000000</td>\n",
       "      <td>11.000000</td>\n",
       "    </tr>\n",
       "    <tr>\n",
       "      <th>25%</th>\n",
       "      <td>18519.750000</td>\n",
       "      <td>393.000000</td>\n",
       "      <td>5.000000</td>\n",
       "      <td>2.000000</td>\n",
       "      <td>60.000000</td>\n",
       "      <td>1.000000</td>\n",
       "      <td>0.000000</td>\n",
       "      <td>16.000000</td>\n",
       "    </tr>\n",
       "    <tr>\n",
       "      <th>50%</th>\n",
       "      <td>37061.500000</td>\n",
       "      <td>1167.000000</td>\n",
       "      <td>12.000000</td>\n",
       "      <td>3.000000</td>\n",
       "      <td>150.000000</td>\n",
       "      <td>1.000000</td>\n",
       "      <td>1.000000</td>\n",
       "      <td>24.000000</td>\n",
       "    </tr>\n",
       "    <tr>\n",
       "      <th>75%</th>\n",
       "      <td>55656.500000</td>\n",
       "      <td>1498.000000</td>\n",
       "      <td>17.000000</td>\n",
       "      <td>5.000000</td>\n",
       "      <td>324.000000</td>\n",
       "      <td>1.000000</td>\n",
       "      <td>1.000000</td>\n",
       "      <td>37.000000</td>\n",
       "    </tr>\n",
       "    <tr>\n",
       "      <th>max</th>\n",
       "      <td>74247.000000</td>\n",
       "      <td>2770.000000</td>\n",
       "      <td>99.000000</td>\n",
       "      <td>80.000000</td>\n",
       "      <td>30500.000000</td>\n",
       "      <td>1.000000</td>\n",
       "      <td>1.000000</td>\n",
       "      <td>64.000000</td>\n",
       "    </tr>\n",
       "  </tbody>\n",
       "</table>\n",
       "</div>"
      ],
      "text/plain": [
       "                 id    gps_height   region_code  district_code    population  \\\n",
       "count  59400.000000  38962.000000  59400.000000   59377.000000  38019.000000   \n",
       "mean   37115.131768   1018.860839     15.297003       5.631928    291.988953   \n",
       "std    21453.128371    612.566092     17.587406       9.634877    559.722665   \n",
       "min        0.000000    -90.000000      1.000000       1.000000      2.000000   \n",
       "25%    18519.750000    393.000000      5.000000       2.000000     60.000000   \n",
       "50%    37061.500000   1167.000000     12.000000       3.000000    150.000000   \n",
       "75%    55656.500000   1498.000000     17.000000       5.000000    324.000000   \n",
       "max    74247.000000   2770.000000     99.000000      80.000000  30500.000000   \n",
       "\n",
       "       public_meeting        permit           age  \n",
       "count    59400.000000  59400.000000  38691.000000  \n",
       "mean         0.914899      0.705522     27.185314  \n",
       "std          0.279034      0.455812     12.472045  \n",
       "min          0.000000      0.000000     11.000000  \n",
       "25%          1.000000      0.000000     16.000000  \n",
       "50%          1.000000      1.000000     24.000000  \n",
       "75%          1.000000      1.000000     37.000000  \n",
       "max          1.000000      1.000000     64.000000  "
      ]
     },
     "execution_count": 1156,
     "metadata": {},
     "output_type": "execute_result"
    }
   ],
   "source": [
    "df_concise.describe()"
   ]
  },
  {
   "cell_type": "markdown",
   "metadata": {},
   "source": [
    "# IMP\n",
    "\n",
    "-For the numeric columns except district_code and region_code, we shall fill with the average value\n"
   ]
  },
  {
   "cell_type": "code",
   "execution_count": 1157,
   "metadata": {},
   "outputs": [
    {
     "name": "stdout",
     "output_type": "stream",
     "text": [
      "<class 'pandas.core.frame.DataFrame'>\n",
      "Int64Index: 59400 entries, 0 to 59399\n",
      "Data columns (total 19 columns):\n",
      " #   Column                 Non-Null Count  Dtype  \n",
      "---  ------                 --------------  -----  \n",
      " 0   id                     59400 non-null  int64  \n",
      " 1   gps_height             59400 non-null  float64\n",
      " 2   basin                  59400 non-null  object \n",
      " 3   region_code            59400 non-null  int64  \n",
      " 4   district_code          59377 non-null  float64\n",
      " 5   lga                    59400 non-null  object \n",
      " 6   population             59400 non-null  float64\n",
      " 7   public_meeting         59400 non-null  float64\n",
      " 8   permit                 59400 non-null  float64\n",
      " 9   extraction_type_class  59400 non-null  object \n",
      " 10  management_group       59400 non-null  object \n",
      " 11  payment_type           59400 non-null  object \n",
      " 12  quality_group          59400 non-null  object \n",
      " 13  quantity_group         59400 non-null  object \n",
      " 14  source_type            59400 non-null  object \n",
      " 15  source_class           59400 non-null  object \n",
      " 16  waterpoint_type_group  59400 non-null  object \n",
      " 17  status_group           59400 non-null  object \n",
      " 18  age                    59400 non-null  float64\n",
      "dtypes: float64(6), int64(2), object(11)\n",
      "memory usage: 11.6+ MB\n"
     ]
    }
   ],
   "source": [
    "numeric_cols_fillna_average = ['age', 'population', 'gps_height']\n",
    "for col in numeric_cols_fillna_average:\n",
    "    #fill nans with median\n",
    "    df_concise[col].fillna(df_concise[col].median(), inplace= True)\n",
    "    \n",
    "\n",
    "df_concise .info()"
   ]
  },
  {
   "cell_type": "markdown",
   "metadata": {},
   "source": [
    "for the district code, I shall fill NaNs with the most frequent that occurred in its associated region, since region has no NaNs"
   ]
  },
  {
   "cell_type": "code",
   "execution_count": 1158,
   "metadata": {},
   "outputs": [],
   "source": [
    "# Fill NaNs with the most frequent district_code within each region_code\n",
    "df_concise['district_code'] = df_concise.groupby('region_code')['district_code'].transform(\n",
    "    lambda x: x.fillna(x.mode()[0] if not x.mode().empty else np.nan)\n",
    ")"
   ]
  },
  {
   "cell_type": "code",
   "execution_count": 1159,
   "metadata": {},
   "outputs": [
    {
     "name": "stdout",
     "output_type": "stream",
     "text": [
      "<class 'pandas.core.frame.DataFrame'>\n",
      "Int64Index: 59400 entries, 0 to 59399\n",
      "Data columns (total 19 columns):\n",
      " #   Column                 Non-Null Count  Dtype  \n",
      "---  ------                 --------------  -----  \n",
      " 0   id                     59400 non-null  int64  \n",
      " 1   gps_height             59400 non-null  float64\n",
      " 2   basin                  59400 non-null  object \n",
      " 3   region_code            59400 non-null  int64  \n",
      " 4   district_code          59400 non-null  float64\n",
      " 5   lga                    59400 non-null  object \n",
      " 6   population             59400 non-null  float64\n",
      " 7   public_meeting         59400 non-null  float64\n",
      " 8   permit                 59400 non-null  float64\n",
      " 9   extraction_type_class  59400 non-null  object \n",
      " 10  management_group       59400 non-null  object \n",
      " 11  payment_type           59400 non-null  object \n",
      " 12  quality_group          59400 non-null  object \n",
      " 13  quantity_group         59400 non-null  object \n",
      " 14  source_type            59400 non-null  object \n",
      " 15  source_class           59400 non-null  object \n",
      " 16  waterpoint_type_group  59400 non-null  object \n",
      " 17  status_group           59400 non-null  object \n",
      " 18  age                    59400 non-null  float64\n",
      "dtypes: float64(6), int64(2), object(11)\n",
      "memory usage: 11.6+ MB\n"
     ]
    }
   ],
   "source": [
    "df_concise .info()"
   ]
  },
  {
   "cell_type": "code",
   "execution_count": null,
   "metadata": {},
   "outputs": [],
   "source": []
  },
  {
   "cell_type": "markdown",
   "metadata": {},
   "source": [
    "## Checking for Outliers"
   ]
  },
  {
   "cell_type": "markdown",
   "metadata": {},
   "source": [
    "For our project, we shall remove outliers from columns with high variablity. We shall proceed with 2 datasets from hence forth,one with outliers, one without, since the the different models we try out might have diff performances with them"
   ]
  },
  {
   "cell_type": "code",
   "execution_count": 1160,
   "metadata": {},
   "outputs": [
    {
     "name": "stdout",
     "output_type": "stream",
     "text": [
      "<class 'pandas.core.frame.DataFrame'>\n",
      "Int64Index: 59400 entries, 0 to 59399\n",
      "Data columns (total 19 columns):\n",
      " #   Column                 Non-Null Count  Dtype  \n",
      "---  ------                 --------------  -----  \n",
      " 0   id                     59400 non-null  int64  \n",
      " 1   gps_height             59400 non-null  float64\n",
      " 2   basin                  59400 non-null  object \n",
      " 3   region_code            59400 non-null  int64  \n",
      " 4   district_code          59400 non-null  float64\n",
      " 5   lga                    59400 non-null  object \n",
      " 6   population             59400 non-null  float64\n",
      " 7   public_meeting         59400 non-null  float64\n",
      " 8   permit                 59400 non-null  float64\n",
      " 9   extraction_type_class  59400 non-null  object \n",
      " 10  management_group       59400 non-null  object \n",
      " 11  payment_type           59400 non-null  object \n",
      " 12  quality_group          59400 non-null  object \n",
      " 13  quantity_group         59400 non-null  object \n",
      " 14  source_type            59400 non-null  object \n",
      " 15  source_class           59400 non-null  object \n",
      " 16  waterpoint_type_group  59400 non-null  object \n",
      " 17  status_group           59400 non-null  object \n",
      " 18  age                    59400 non-null  float64\n",
      "dtypes: float64(6), int64(2), object(11)\n",
      "memory usage: 11.6+ MB\n"
     ]
    },
    {
     "data": {
      "text/plain": [
       "(Index(['id', 'gps_height', 'basin', 'region_code', 'district_code', 'lga',\n",
       "        'population', 'public_meeting', 'permit', 'extraction_type_class',\n",
       "        'management_group', 'payment_type', 'quality_group', 'quantity_group',\n",
       "        'source_type', 'source_class', 'waterpoint_type_group', 'status_group',\n",
       "        'age'],\n",
       "       dtype='object'),\n",
       " None)"
      ]
     },
     "execution_count": 1160,
     "metadata": {},
     "output_type": "execute_result"
    }
   ],
   "source": [
    "df_concise.columns, df_concise.info()"
   ]
  },
  {
   "cell_type": "code",
   "execution_count": 1171,
   "metadata": {},
   "outputs": [
    {
     "data": {
      "image/png": "[encoded data removed]",
      "text/plain": [
       "<Figure size 720x432 with 1 Axes>"
      ]
     },
     "metadata": {
      "needs_background": "light"
     },
     "output_type": "display_data"
    }
   ],
   "source": [
    "# Plotting box plots for each column\n",
    "plt.figure(figsize=(10, 6))\n",
    "sns.boxplot(data=df_concise.iloc[:,1:])\n",
    "plt.title('Box plots of Selected Columns')\n",
    "plt.xlabel('Features')\n",
    "plt.ylabel('Values')\n",
    "plt.xticks(rotation=45)\n",
    "plt.show()"
   ]
  },
  {
   "cell_type": "markdown",
   "metadata": {},
   "source": [
    "### Removing outliers of pop, IMP..."
   ]
  },
  {
   "cell_type": "code",
   "execution_count": 1162,
   "metadata": {},
   "outputs": [
    {
     "data": {
      "text/html": [
       "<div>\n",
       "<style scoped>\n",
       "    .dataframe tbody tr th:only-of-type {\n",
       "        vertical-align: middle;\n",
       "    }\n",
       "\n",
       "    .dataframe tbody tr th {\n",
       "        vertical-align: top;\n",
       "    }\n",
       "\n",
       "    .dataframe thead th {\n",
       "        text-align: right;\n",
       "    }\n",
       "</style>\n",
       "<table border=\"1\" class=\"dataframe\">\n",
       "  <thead>\n",
       "    <tr style=\"text-align: right;\">\n",
       "      <th></th>\n",
       "      <th>id</th>\n",
       "      <th>gps_height</th>\n",
       "      <th>region_code</th>\n",
       "      <th>district_code</th>\n",
       "      <th>population</th>\n",
       "      <th>public_meeting</th>\n",
       "      <th>permit</th>\n",
       "      <th>age</th>\n",
       "    </tr>\n",
       "  </thead>\n",
       "  <tbody>\n",
       "    <tr>\n",
       "      <th>count</th>\n",
       "      <td>59400.000000</td>\n",
       "      <td>59400.000000</td>\n",
       "      <td>59400.000000</td>\n",
       "      <td>59400.000000</td>\n",
       "      <td>59400.000000</td>\n",
       "      <td>59400.000000</td>\n",
       "      <td>59400.000000</td>\n",
       "      <td>59400.000000</td>\n",
       "    </tr>\n",
       "    <tr>\n",
       "      <th>mean</th>\n",
       "      <td>37115.131768</td>\n",
       "      <td>1069.831684</td>\n",
       "      <td>15.297003</td>\n",
       "      <td>5.630135</td>\n",
       "      <td>240.880101</td>\n",
       "      <td>0.914899</td>\n",
       "      <td>0.705522</td>\n",
       "      <td>26.074798</td>\n",
       "    </tr>\n",
       "    <tr>\n",
       "      <th>std</th>\n",
       "      <td>21453.128371</td>\n",
       "      <td>501.077319</td>\n",
       "      <td>17.587406</td>\n",
       "      <td>9.633442</td>\n",
       "      <td>452.950368</td>\n",
       "      <td>0.279034</td>\n",
       "      <td>0.455812</td>\n",
       "      <td>10.179591</td>\n",
       "    </tr>\n",
       "    <tr>\n",
       "      <th>min</th>\n",
       "      <td>0.000000</td>\n",
       "      <td>-90.000000</td>\n",
       "      <td>1.000000</td>\n",
       "      <td>1.000000</td>\n",
       "      <td>2.000000</td>\n",
       "      <td>0.000000</td>\n",
       "      <td>0.000000</td>\n",
       "      <td>11.000000</td>\n",
       "    </tr>\n",
       "    <tr>\n",
       "      <th>25%</th>\n",
       "      <td>18519.750000</td>\n",
       "      <td>903.000000</td>\n",
       "      <td>5.000000</td>\n",
       "      <td>2.000000</td>\n",
       "      <td>100.000000</td>\n",
       "      <td>1.000000</td>\n",
       "      <td>0.000000</td>\n",
       "      <td>20.000000</td>\n",
       "    </tr>\n",
       "    <tr>\n",
       "      <th>50%</th>\n",
       "      <td>37061.500000</td>\n",
       "      <td>1167.000000</td>\n",
       "      <td>12.000000</td>\n",
       "      <td>3.000000</td>\n",
       "      <td>150.000000</td>\n",
       "      <td>1.000000</td>\n",
       "      <td>1.000000</td>\n",
       "      <td>24.000000</td>\n",
       "    </tr>\n",
       "    <tr>\n",
       "      <th>75%</th>\n",
       "      <td>55656.500000</td>\n",
       "      <td>1319.250000</td>\n",
       "      <td>17.000000</td>\n",
       "      <td>5.000000</td>\n",
       "      <td>215.000000</td>\n",
       "      <td>1.000000</td>\n",
       "      <td>1.000000</td>\n",
       "      <td>28.000000</td>\n",
       "    </tr>\n",
       "    <tr>\n",
       "      <th>max</th>\n",
       "      <td>74247.000000</td>\n",
       "      <td>2770.000000</td>\n",
       "      <td>99.000000</td>\n",
       "      <td>80.000000</td>\n",
       "      <td>30500.000000</td>\n",
       "      <td>1.000000</td>\n",
       "      <td>1.000000</td>\n",
       "      <td>64.000000</td>\n",
       "    </tr>\n",
       "  </tbody>\n",
       "</table>\n",
       "</div>"
      ],
      "text/plain": [
       "                 id    gps_height   region_code  district_code    population  \\\n",
       "count  59400.000000  59400.000000  59400.000000   59400.000000  59400.000000   \n",
       "mean   37115.131768   1069.831684     15.297003       5.630135    240.880101   \n",
       "std    21453.128371    501.077319     17.587406       9.633442    452.950368   \n",
       "min        0.000000    -90.000000      1.000000       1.000000      2.000000   \n",
       "25%    18519.750000    903.000000      5.000000       2.000000    100.000000   \n",
       "50%    37061.500000   1167.000000     12.000000       3.000000    150.000000   \n",
       "75%    55656.500000   1319.250000     17.000000       5.000000    215.000000   \n",
       "max    74247.000000   2770.000000     99.000000      80.000000  30500.000000   \n",
       "\n",
       "       public_meeting        permit           age  \n",
       "count    59400.000000  59400.000000  59400.000000  \n",
       "mean         0.914899      0.705522     26.074798  \n",
       "std          0.279034      0.455812     10.179591  \n",
       "min          0.000000      0.000000     11.000000  \n",
       "25%          1.000000      0.000000     20.000000  \n",
       "50%          1.000000      1.000000     24.000000  \n",
       "75%          1.000000      1.000000     28.000000  \n",
       "max          1.000000      1.000000     64.000000  "
      ]
     },
     "execution_count": 1162,
     "metadata": {},
     "output_type": "execute_result"
    }
   ],
   "source": [
    "df_concise.describe()"
   ]
  },
  {
   "cell_type": "code",
   "execution_count": 1163,
   "metadata": {},
   "outputs": [],
   "source": [
    "df_selected_outliers = df_concise[['population']]\n",
    "\n",
    "\n",
    "# Calculate IQR for selected columns\n",
    "Q1 = df_selected_outliers.quantile(0.25)\n",
    "Q3 = df_selected_outliers.quantile(0.75)\n",
    "IQR = Q3 - Q1\n",
    "\n",
    "# Define outlier boundaries\n",
    "lower_bound = Q1 - 1.5 * IQR\n",
    "upper_bound = Q3 + 1.5 * IQR\n",
    "\n",
    "# Find outliers\n",
    "outliers = ((df_selected_outliers< lower_bound) | (df_selected_outliers > upper_bound)).any(axis=1)\n",
    "\n",
    "# Print indices of outliers\n",
    "outlier_indices = df.index[outliers]"
   ]
  },
  {
   "cell_type": "code",
   "execution_count": 1164,
   "metadata": {},
   "outputs": [
    {
     "name": "stdout",
     "output_type": "stream",
     "text": [
      "<class 'pandas.core.frame.DataFrame'>\n",
      "Int64Index: 59400 entries, 0 to 59399\n",
      "Data columns (total 19 columns):\n",
      " #   Column                 Non-Null Count  Dtype  \n",
      "---  ------                 --------------  -----  \n",
      " 0   id                     59400 non-null  int64  \n",
      " 1   gps_height             59400 non-null  float64\n",
      " 2   basin                  59400 non-null  object \n",
      " 3   region_code            59400 non-null  int64  \n",
      " 4   district_code          59400 non-null  float64\n",
      " 5   lga                    59400 non-null  object \n",
      " 6   population             59400 non-null  float64\n",
      " 7   public_meeting         59400 non-null  float64\n",
      " 8   permit                 59400 non-null  float64\n",
      " 9   extraction_type_class  59400 non-null  object \n",
      " 10  management_group       59400 non-null  object \n",
      " 11  payment_type           59400 non-null  object \n",
      " 12  quality_group          59400 non-null  object \n",
      " 13  quantity_group         59400 non-null  object \n",
      " 14  source_type            59400 non-null  object \n",
      " 15  source_class           59400 non-null  object \n",
      " 16  waterpoint_type_group  59400 non-null  object \n",
      " 17  status_group           59400 non-null  object \n",
      " 18  age                    59400 non-null  float64\n",
      "dtypes: float64(6), int64(2), object(11)\n",
      "memory usage: 11.6+ MB\n",
      "<class 'pandas.core.frame.DataFrame'>\n",
      "Int64Index: 51718 entries, 0 to 59399\n",
      "Data columns (total 19 columns):\n",
      " #   Column                 Non-Null Count  Dtype  \n",
      "---  ------                 --------------  -----  \n",
      " 0   id                     51718 non-null  int64  \n",
      " 1   gps_height             51718 non-null  float64\n",
      " 2   basin                  51718 non-null  object \n",
      " 3   region_code            51718 non-null  int64  \n",
      " 4   district_code          51718 non-null  float64\n",
      " 5   lga                    51718 non-null  object \n",
      " 6   population             51718 non-null  float64\n",
      " 7   public_meeting         51718 non-null  float64\n",
      " 8   permit                 51718 non-null  float64\n",
      " 9   extraction_type_class  51718 non-null  object \n",
      " 10  management_group       51718 non-null  object \n",
      " 11  payment_type           51718 non-null  object \n",
      " 12  quality_group          51718 non-null  object \n",
      " 13  quantity_group         51718 non-null  object \n",
      " 14  source_type            51718 non-null  object \n",
      " 15  source_class           51718 non-null  object \n",
      " 16  waterpoint_type_group  51718 non-null  object \n",
      " 17  status_group           51718 non-null  object \n",
      " 18  age                    51718 non-null  float64\n",
      "dtypes: float64(6), int64(2), object(11)\n",
      "memory usage: 7.9+ MB\n"
     ]
    },
    {
     "data": {
      "text/plain": [
       "(None, None)"
      ]
     },
     "execution_count": 1164,
     "metadata": {},
     "output_type": "execute_result"
    }
   ],
   "source": [
    "# droping all rows with outliers \n",
    "df_concise_without_outliers = df_concise.drop(outlier_indices)\n",
    "df_concise.info(),df_concise_without_outliers.info()"
   ]
  },
  {
   "cell_type": "markdown",
   "metadata": {},
   "source": [
    "Now we have clean data"
   ]
  },
  {
   "cell_type": "markdown",
   "metadata": {},
   "source": [
    "# Data Preprocessing"
   ]
  },
  {
   "cell_type": "markdown",
   "metadata": {},
   "source": [
    "## Declaring Target and Features\n"
   ]
  },
  {
   "cell_type": "code",
   "execution_count": 1165,
   "metadata": {},
   "outputs": [
    {
     "data": {
      "text/plain": [
       "Index(['id', 'gps_height', 'basin', 'region_code', 'district_code', 'lga',\n",
       "       'population', 'public_meeting', 'permit', 'extraction_type_class',\n",
       "       'management_group', 'payment_type', 'quality_group', 'quantity_group',\n",
       "       'source_type', 'source_class', 'waterpoint_type_group', 'status_group',\n",
       "       'age'],\n",
       "      dtype='object')"
      ]
     },
     "execution_count": 1165,
     "metadata": {},
     "output_type": "execute_result"
    }
   ],
   "source": [
    "df_concise.columns"
   ]
  },
  {
   "cell_type": "code",
   "execution_count": 1180,
   "metadata": {},
   "outputs": [],
   "source": [
    "X_1 = df_concise.drop(['status_group'], axis=1)\n",
    "X_2 = df_concise_without_outliers.drop(['status_group'], axis=1)\n",
    "\n",
    "y_1 = df_concise['status_group']\n",
    "y_2 = df_concise_without_outliers['status_group']"
   ]
  },
  {
   "cell_type": "markdown",
   "metadata": {},
   "source": [
    "### Expound on the meanings of 1 and 2"
   ]
  },
  {
   "cell_type": "code",
   "execution_count": null,
   "metadata": {},
   "outputs": [],
   "source": []
  }
 ],
 "metadata": {
  "kernelspec": {
   "display_name": "learn-env",
   "language": "python",
   "name": "python3"
  },
  "language_info": {
   "codemirror_mode": {
    "name": "ipython",
    "version": 3
   },
   "file_extension": ".py",
   "mimetype": "text/x-python",
   "name": "python",
   "nbconvert_exporter": "python",
   "pygments_lexer": "ipython3",
   "version": "3.8.5"
  }
 },
 "nbformat": 4,
 "nbformat_minor": 2
}
